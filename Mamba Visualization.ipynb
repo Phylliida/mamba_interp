{
 "cells": [
  {
   "cell_type": "code",
   "execution_count": null,
   "metadata": {},
   "outputs": [],
   "source": [
    "# Plotly needs a different renderer for VSCode/Notebooks vs Colab argh\n",
    "import plotly.io as pio\n",
    "import plotly.offline as pyo\n",
    "pyo.init_notebook_mode()\n",
    "import matplotlib\n",
    "%matplotlib inline\n",
    "\n",
    "# if plotly isn't working, i did\n",
    "# install nvm from\n",
    "# https://github.com/nvm-sh/nvm\n",
    "# and activate it\n",
    "# then i did\n",
    "# nvm install node\n",
    "# jupyter labextension install plotlywidget\n",
    "\n",
    "# if the jupyter widgets aren't working i have no recommendations\n",
    "# only god can help you\n",
    "\n",
    "# Import stuff\n",
    "import torch\n",
    "from functools import partial\n",
    "import transformer_lens.utils as utils\n",
    "import plotly.express as px\n",
    "torch.set_grad_enabled(False)\n",
    "device = utils.get_device()\n",
    "# from neel nanda's examples\n",
    "def imshow(tensor, renderer=None, xaxis=\"\", yaxis=\"\", **kwargs):\n",
    "    px.imshow(utils.to_numpy(tensor), color_continuous_midpoint=0.0, color_continuous_scale=\"RdBu\", labels={\"x\":xaxis, \"y\":yaxis}, **kwargs).show(renderer)\n",
    "\n",
    "def line(tensor, renderer=None, xaxis=\"\", yaxis=\"\", **kwargs):\n",
    "    px.line(utils.to_numpy(tensor), labels={\"x\":xaxis, \"y\":yaxis}, **kwargs).show(renderer)\n",
    "\n",
    "def scatter(x, y, xaxis=\"\", yaxis=\"\", caxis=\"\", renderer=None, **kwargs):\n",
    "    x = utils.to_numpy(x)\n",
    "    y = utils.to_numpy(y)\n",
    "    px.scatter(y=y, x=x, labels={\"x\":xaxis, \"y\":yaxis, \"color\":caxis}, **kwargs).show(renderer)"
   ]
  },
  {
   "cell_type": "code",
   "execution_count": null,
   "metadata": {},
   "outputs": [],
   "source": [
    "# load mamba\n",
    "import mamba\n",
    "from importlib import reload\n",
    "reload(mamba)\n",
    "model = mamba.HookedMamba.from_pretrained(\"state-spaces/mamba-370m\", device=device)"
   ]
  },
  {
   "cell_type": "markdown",
   "metadata": {},
   "source": [
    "## Full model visualizations"
   ]
  },
  {
   "cell_type": "code",
   "execution_count": 3,
   "metadata": {},
   "outputs": [
    {
     "data": {
      "text/plain": [
       "'Keep in mind only some of these settings are used for a given option'"
      ]
     },
     "metadata": {},
     "output_type": "display_data"
    },
    {
     "data": {
      "application/vnd.jupyter.widget-view+json": {
       "model_id": "36903feb01f640be8126cc623cf7996b",
       "version_major": 2,
       "version_minor": 0
      },
      "text/plain": [
       "interactive(children=(Dropdown(description='option', options=('logit_lens resid_post', 'logit_lens resid_pre',…"
      ]
     },
     "metadata": {},
     "output_type": "display_data"
    },
    {
     "data": {
      "text/plain": [
       "<function __main__.visualize_full(option, norm, lens, n, clip_first_two, skip, D, C)>"
      ]
     },
     "execution_count": 3,
     "metadata": {},
     "output_type": "execute_result"
    }
   ],
   "source": [
    "\n",
    "from ipywidgets import interact\n",
    "import plotly.graph_objects as go\n",
    "from PIL import Image, ImageDraw, ImageFont\n",
    "import matplotlib\n",
    "from matplotlib import pyplot as plt\n",
    "from matplotlib.patches import Rectangle, Polygon\n",
    "from  IPython.display import display\n",
    "from einops import rearrange, repeat, einsum\n",
    "from collections import defaultdict\n",
    "import torch.nn.functional as F\n",
    "import tqdm\n",
    "import IPython\n",
    "\n",
    "# test\n",
    "\n",
    "\n",
    "import colorsys\n",
    "\n",
    "FONT_SIZE = 60\n",
    "prompt_full = 'Then, Shelby and Emma had a lot of fun at the school. Shelby gave a apple to'\n",
    "prompt_tokens_full = model.to_tokens(prompt_full)\n",
    "logits_full, activations_full = model.run_with_cache(prompt_tokens_full)\n",
    "token_labels_full = [f\"{token}_{index}\" for index, token in enumerate(model.to_str_tokens(prompt_tokens_full[0]))]\n",
    "\n",
    "# [V,D]\n",
    "embed = model.embedding.weight\n",
    "V,D = embed.size()\n",
    "\n",
    "# [V]\n",
    "embed_sizes = torch.linalg.norm(embed, ord=2, dim=1)\n",
    "# no divide by zero\n",
    "embed_sizes[embed_sizes==0] = 1.0\n",
    "# [V,D]\n",
    "normalized_embed = embed / embed_sizes.view(V,1)\n",
    "\n",
    "def tok_to_str(tok):\n",
    "    if type(tok) is torch.tensor:\n",
    "        tok = tok.item()\n",
    "    return model.to_str_tokens(torch.tensor([tok]))[0]\n",
    "\n",
    "#                       [K,D]    D is model.cfg.D, K is number of vecs we are comparing\n",
    "def find_closest_embeds(vecs):\n",
    "    if len(vecs.size()) == 1:\n",
    "        vecs = vecs.view(1,D)\n",
    "    K,D = vecs.size()\n",
    "    \n",
    "    # [K,1]\n",
    "    vecs_norm = torch.linalg.norm(vecs, ord=2,dim=1, keepdim=True)\n",
    "    # no divide by zero\n",
    "    vecs_norm[vecs_norm==0] = 1.0\n",
    "    # [K,D]          [K,D]    [K,1]\n",
    "    normalized_vecs = vecs / vecs_norm\n",
    "\n",
    "    # [V,K]         [V,D]            [D,K]\n",
    "    dot_prods = normalized_embed @ normalized_vecs.T\n",
    "\n",
    "    # [V,K]\n",
    "    sorted_closest = torch.argsort(-dot_prods, dim=0)\n",
    "\n",
    "    #       [K,V]              [K,V]\n",
    "    return sorted_closest.T, dot_prods.T\n",
    "\n",
    "if not 'diff_mag_lookup' in globals():\n",
    "    global diff_mag_lookup\n",
    "    diff_mag_lookup = None\n",
    "\n",
    "# K is number of inputs, each of size D\n",
    "#                          [K,D]\n",
    "def compare_to_differences(vecs, top_to_keep=2):\n",
    "    batch_size = 200\n",
    "    lookup_batch_size = 40 # needs to be smaller\n",
    "\n",
    "    if len(vecs.size()) == 1: # expand to K dim\n",
    "        vecs = vecs.view(1,D)\n",
    "    if len(vecs.size()) == 3: # remove batch dim\n",
    "        if vecs.size()[0] > 1: raise Exception(f\"only works for batch size = 1, you have input size {vecs.size()}\")\n",
    "        vecs = vecs[0]\n",
    "\n",
    "    # normalize input\n",
    "    norms = torch.linalg.norm(vecs, ord=2, dim=1, keepdim=True)\n",
    "    norms[norms==0] = 1 # don't divide by 0\n",
    "    vecs = vecs / norms\n",
    "    \n",
    "    K,D = vecs.size()\n",
    "    \n",
    "    top_scores = torch.zeros([K,0], device=model.cfg.device)\n",
    "    top_indices = torch.zeros([K,0,2], device=model.cfg.device, dtype=torch.int64)\n",
    "    \n",
    "    arangeK = torch.arange(K, device=model.cfg.device)\n",
    "\n",
    "\n",
    "    # We will do an optimization here\n",
    "    # assume x is normalized\n",
    "    # (x dot (a-b))/norm(a-b)\n",
    "    # = (x dot a - x dot b)/norm(a-b)\n",
    "\n",
    "    # thus we only need all x dot embed (small and ez)\n",
    "    # and a [V,V] lookup of all the norms of a-b\n",
    "    # that lookup is big, but not too big (~10GB of memory)\n",
    "\n",
    "    global diff_mag_lookup\n",
    "    if diff_mag_lookup is None:\n",
    "        diff_mag_lookup = torch.zeros([V,V], device=model.cfg.device)\n",
    "        print(\"computing diff mag lookup\")\n",
    "        for batch_start in tqdm.tqdm(list(range(0, V, lookup_batch_size))):\n",
    "            batch_end = min(batch_start+lookup_batch_size, V)\n",
    "            cur_batch_size = batch_end-batch_start\n",
    "            a        = embed[batch_start:batch_end]\n",
    "            b        = embed\n",
    "            # uses this trick https://stackoverflow.com/questions/53442069/how-to-vectorize-the-following-python-code/53442187#53442187\n",
    "            # because it copies the 1 axes until they match the other dim, this has the effect of:\n",
    "            # res[i,j] is a[i] - b[j]\n",
    "            # [batch_size, V, D]\n",
    "            diffs              = a.view(cur_batch_size,1,D)-b.view(1,V,D)\n",
    "            # [batch_size, V]\n",
    "            norms = torch.linalg.norm(diffs, ord=2, dim=2)\n",
    "            norms[norms==0.0] = 1.0 # no divide by zero!\n",
    "            diff_mag_lookup[batch_start:batch_end,:] = norms\n",
    "    # K,V       [K,D]   [V,D]\n",
    "    dot_prods = vecs @ embed.T\n",
    "\n",
    "    for batch_start in tqdm.tqdm(list(range(0, V, batch_size))):   \n",
    "        batch_end = min(batch_start+batch_size, V)\n",
    "        cur_batch_size = batch_end-batch_start\n",
    "         # uses this trick https://stackoverflow.com/questions/53442069/how-to-vectorize-the-following-python-code/53442187#53442187\n",
    "        # because it copies the 1 axes until they match the other dim, this has the effect of:\n",
    "        # x_dot_a_minus_b[i,j] is dot_prods[:,batch_start+i] -  dot_prods[:,j]\n",
    "        # [batch_size, V, D]\n",
    "        # [K, batch, V]   \n",
    "        x_dot_a_minus_b = dot_prods[:,batch_start:batch_end].view(K, cur_batch_size, 1) - dot_prods[:].view(K, 1, V)\n",
    "        # [K, batch, V]                 [batch, V]\n",
    "        x_dot_a_minus_b /= diff_mag_lookup[batch_start:batch_end,:].view(1, cur_batch_size, V)\n",
    "        \n",
    "        # [K,batch*V] where [k,i*V+j] = = vecs[k].dot(normalize(a[i] - b[j]))\n",
    "        res2 = x_dot_a_minus_b.flatten(start_dim=1)\n",
    "        # get top_to_keep for each k\n",
    "        # [K,top_to_keep]\n",
    "        scores, inds = torch.topk(-res2, dim=1, k=top_to_keep)\n",
    "    \n",
    "        # decode those into tuple indices\n",
    "        # [K,top_to_keep]\n",
    "        i                = inds // V + batch_start # + batch_start is because of how a is formed\n",
    "        # [K,top_to_keep]\n",
    "        j                = inds % V\n",
    "    \n",
    "        # I can't figure out how to do this and only index the right stuff\n",
    "        # this way is inefficient but it's a small number of things so whatever\n",
    "        # this gives us an array of size [K,top_to_keep] that has the scores of the top elements\n",
    "        #scores = res2[:,top_k][arangeK, arangeK]\n",
    "    \n",
    "        # turn into (i, j) tuples\n",
    "        # [K,top_to_keep,2]\n",
    "        indices = rearrange(torch.stack([j,i]), 'data k n_keep -> k n_keep data')\n",
    "    \n",
    "        # append to existing ones\n",
    "        # [K,top_to_keep*2] (might also just be [K,top_to_keep] if first iter)\n",
    "        top_scores = torch.concatenate([top_scores, scores], dim=1)\n",
    "        # [K,top_to_keep*2,2] (might also just be [K,top_to_keep,2] if first iter)\n",
    "        top_indices = torch.concatenate([top_indices, indices], dim=1)\n",
    "        \n",
    "        # cut off so we only have top_k\n",
    "        # [K,top_to_keep]\n",
    "        top_k = torch.argsort(-top_scores, dim=1)[:,:top_to_keep]\n",
    "        # [K,top_to_keep] \n",
    "        top_scores = top_scores[:,top_k][arangeK, arangeK]\n",
    "        # [K,top_to_keep,2]\n",
    "        top_indices = top_indices[:,top_k][arangeK, arangeK]\n",
    "        \n",
    "    #     [K,top_to_keep,2]   [K,top_to_keep]\n",
    "    return top_indices,        top_scores\n",
    "\n",
    "\n",
    "def make_logit_image(prs, min_pr, max_pr, words, width, height, cmap):\n",
    "    cmap = matplotlib.colormaps.get_cmap(cmap)\n",
    "    \n",
    "    img = Image.new('RGBA', (width, height), (0, 0, 0, 0))\n",
    "     \n",
    "    I1 = ImageDraw.Draw(img)\n",
    "\n",
    "    def map_pr_to_color(pr):\n",
    "        return cmap((pr-min_pr)/(max_pr-min_pr))\n",
    "    \n",
    "    cell_width = width/float(len(words[0]))\n",
    "    cell_height = height/float(len(words))\n",
    "    fonts = dict([(i, ImageFont.truetype('Roboto-Regular.ttf', i)) for i in range(1, FONT_SIZE+1)])\n",
    "    for y, word_list in enumerate(words):\n",
    "        for x, word in enumerate(word_list):\n",
    "            top_left_x = cell_width*x\n",
    "            top_left_y = cell_height*y\n",
    "            color = map_pr_to_color(prs[y][x])\n",
    "            r,g,b = color[0], color[1], color[2]\n",
    "            I1.rectangle((top_left_x, top_left_y, top_left_x+cell_width, top_left_y+cell_height), fill=(int(r*255), int(g*255), int(b*255),255))\n",
    "    for y, word_list in enumerate(words):\n",
    "        for x, word in enumerate(word_list):\n",
    "            top_left_x = cell_width*x\n",
    "            top_left_y = cell_height*y\n",
    "            if word.strip() == \"\": continue\n",
    "            font_size = FONT_SIZE\n",
    "            while True:\n",
    "                tl, tt, tr, tb = I1.textbbox(xy=(0,0), text=word, font=fonts[font_size])\n",
    "                word_width = tr-tl\n",
    "                word_height = tb-tt\n",
    "                if word_width >= cell_width:\n",
    "                    font_size -= 1\n",
    "                else:\n",
    "                    break\n",
    "            # we want center of word to be at center of cell\n",
    "            # by default, center of word is at\n",
    "            center_of_word_x = top_left_x + word_width/2.0\n",
    "            # we need some offset s.t. center is at middle of cell:\n",
    "            # offset_x + center_of_word_x = top_left_x + cell_width/2.0\n",
    "            # so\n",
    "            offset_x = top_left_x + cell_width/2.0 - center_of_word_x\n",
    "            if offset_x > 0:\n",
    "                offset_x  -= 4 # fixing for space padding\n",
    "            #                202         32        -100.0      204.8\n",
    "            #print(word, word_width, word_height, offset_x, cell_width)\n",
    "            x_pos = top_left_x + offset_x\n",
    "\n",
    "            # same for y\n",
    "            center_of_word_y = top_left_y + word_height/2.0\n",
    "            offset_y = top_left_y + cell_height/2.0 - center_of_word_y\n",
    "            if offset_y > 0:\n",
    "                offset_y  -= 4 # fixing for space padding\n",
    "            \n",
    "            y_pos = top_left_y + offset_y# + cell_height//2\n",
    "            color = map_pr_to_color(prs[y][x])\n",
    "            r,g,b = color[0], color[1], color[2]\n",
    "            h, s, v = colorsys.rgb_to_hsv(r,g,b)\n",
    "            r, g, b = colorsys.hsv_to_rgb(h+0.5, 1.0-s, v)\n",
    "            \n",
    "            I1.text((x_pos, y_pos), word, fill=(0,0,0,255), font=fonts[font_size])\n",
    "    \n",
    "    return img\n",
    "\n",
    "def display_logit_lens(title, colorbar_label, token_labels, prs, words, width, height, cmap='Purples', logits=False):\n",
    "    \n",
    "    prompt_len = len(prs[0])\n",
    "\n",
    "    if logits:\n",
    "        flattened = torch.tensor(prs).flatten()\n",
    "        min_val, max_val = torch.min(flattened).item(), torch.max(flattened).item()\n",
    "        print(\"min logit\", min_val)\n",
    "        print(\"max logit\", max_val)\n",
    "    else:\n",
    "        min_val, max_val = 0.0, 1.0\n",
    "    \n",
    "    img = make_logit_image(min_pr=min_val, max_pr=max_val, prs=prs, words=words, width=width, height=height, cmap=cmap)\n",
    "    fig, ax = plt.subplots(figsize=(10, 10))\n",
    "\n",
    "    cbar_ax = ax.pcolor(torch.tensor([[min_val,max_val]]), cmap=cmap)\n",
    "    cbar = fig.colorbar(cbar_ax)\n",
    "    cbar.set_label(colorbar_label)\n",
    "    \n",
    "    ax.imshow(img)\n",
    "    plt.title(title)\n",
    "    \n",
    "    x_bin_size = width/float(prompt_len)\n",
    "    x_locs = [i*x_bin_size+x_bin_size//2 for i in range(len(token_labels))]\n",
    "    x_labels = token_labels\n",
    "    plt.xticks(x_locs, x_labels)\n",
    "    ax.tick_params(axis=\"x\", bottom=True, top=True, labelbottom=True, labeltop=True)\n",
    "    plt.setp([tick.label1 for tick in ax.xaxis.get_major_ticks()], rotation=45, ha=\"right\", va=\"center\", rotation_mode=\"anchor\")\n",
    "    plt.setp([tick.label2 for tick in ax.xaxis.get_major_ticks()], rotation=45, ha=\"left\", va=\"center\",rotation_mode=\"anchor\")\n",
    "    \n",
    "    ax.set_ylabel(\"Layer\") \n",
    "    ax.tick_params(axis=\"y\", left=True, right=True, labelleft=True, labelright=True)\n",
    "    y_bin_size = height/float(model.cfg.n_layers)\n",
    "    y_locs = [i*y_bin_size+y_bin_size//2 for i in range(model.cfg.n_layers)]\n",
    "    y_labels = [f'{i+1}' for i in range(model.cfg.n_layers)]\n",
    "    plt.yticks(y_locs, y_labels)\n",
    "    \n",
    "    plt.savefig('out.png')\n",
    "    plt.show()\n",
    "\n",
    "\n",
    "def view_logit_lens_wrapper(label, token_labels, prompt_tokens, values_iter, lens, norm, clip_first_two):\n",
    "    prompt_toks = prompt_tokens\n",
    "    if len(prompt_tokens.size()) == 2: # batch\n",
    "        prompt_toks = prompt_tokens[0]\n",
    "    sims = []\n",
    "    strs = []\n",
    "    for values in values_iter:\n",
    "        # [B,L,D]\n",
    "        values = values.clone()\n",
    "        if len(values.size()) == 2: # add batch dim if none\n",
    "            values = values.view(1, values.size()[0], values.size()[1])\n",
    "        if norm:\n",
    "            # [B,L,D]\n",
    "            values   = model.norm(values)\n",
    "\n",
    "        if lens == DIFFERENCE_LENS:\n",
    "            # [L,1,2]     [L,1]                                    [L,D]\n",
    "            top_indices, top_scores      = compare_to_differences(values[0],top_to_keep=1)\n",
    "            L,V = values[0].size()\n",
    "            layer_words = []\n",
    "            for l in range(L):\n",
    "                sim = top_scores[l,0].item()\n",
    "                toks = top_indices[l,0]\n",
    "                token_str_a = model.to_str_tokens(torch.tensor([toks[0].item()]))[0]\n",
    "                token_str_b = model.to_str_tokens(torch.tensor([toks[1].item()]))[0]\n",
    "                res_str = \"[\" + token_str_a + \" - \" + token_str_b + \"]\"\n",
    "                layer_words.append((res_str, sim))\n",
    "            sims.append([sim for (tok, sim) in layer_words])\n",
    "            strs.append([tok for (tok, sim) in layer_words])\n",
    "            print(f\"layer {len(sims)}, layer_words {layer_words}\")\n",
    "            \n",
    "        elif lens == COSINE_LENS:\n",
    "            # [L,V]  [L,V]                       [L,D]\n",
    "            closest, res_sims = find_closest_embeds(values[0])\n",
    "            \n",
    "            top_toks = closest[:,0]\n",
    "            layer_words = []\n",
    "            for l, top_tok in enumerate(top_toks):\n",
    "                sim = res_sims[l,top_tok].item()\n",
    "                token_str = model.to_str_tokens(torch.tensor([top_tok.item()]))[0]\n",
    "                layer_words.append((token_str, sim))\n",
    "            sims.append([sim for (tok, sim) in layer_words])\n",
    "            strs.append([tok for (tok, sim) in layer_words])\n",
    "\n",
    "        elif lens in [LM_HEAD_LENS, LM_HEAD_LOGIT_LENS,LM_HEAD_LOG_LOGIT_LENS]:\n",
    "            # [B,L,V]\n",
    "            layer_logits = model.lm_head(values)\n",
    "    \n",
    "            # [B,L,V]             [B,L,V]\n",
    "            prs = torch.softmax(layer_logits, dim=2)\n",
    "            # [B,L,V]             [B,L,V]\n",
    "            top_n = torch.argsort(-layer_logits, dim=2)\n",
    "    \n",
    "            layer_words = []\n",
    "            B,L,V = top_n.size()\n",
    "            for l in range(L):\n",
    "                # [1]\n",
    "                top_tok = top_n[0,l,0]\n",
    "                token_str = model.to_str_tokens(torch.tensor([top_tok.item()]))[0]\n",
    "                # [1]\n",
    "                if lens == LM_HEAD_LENS:\n",
    "                    pr = prs[0,l,top_tok].item()\n",
    "                elif lens == LM_HEAD_LOGIT_LENS:\n",
    "                    pr = layer_logits[0,l,top_tok].item()\n",
    "                elif lens == LM_HEAD_LOG_LOGIT_LENS:\n",
    "                    pr = torch.sign(layer_logits[0,l,top_tok])*torch.log(torch.abs(layer_logits[0,l,top_tok]))\n",
    "                    pr = pr.item()\n",
    "                layer_words.append((token_str, pr))\n",
    "            sims.append([pr for (tok, pr) in layer_words])\n",
    "            strs.append([tok for (tok, pr) in layer_words])\n",
    "\n",
    "    if clip_first_two:\n",
    "        sims = [s[2:] for s in sims]\n",
    "        strs = [s[2:] for s in strs]\n",
    "        labels = token_labels[2:]\n",
    "    else:\n",
    "        labels = token_labels\n",
    "    \n",
    "    width = 2048*2\n",
    "    height = 2048*2\n",
    "\n",
    "    withOrWithout = {True: 'with', False: 'without'}[norm]\n",
    "    colorbar_label = {LM_HEAD_LENS: 'pr', \n",
    "                      COSINE_LENS: 'Cosine similarity', \n",
    "                      LM_HEAD_LOGIT_LENS: 'logit',\n",
    "                      LM_HEAD_LOG_LOGIT_LENS: 'log(logit)',\n",
    "                      DIFFERENCE_LENS: 'Cosine similarity (to a difference between two embedding vectors)'}[lens]\n",
    "    using_logits = lens in [LM_HEAD_LOGIT_LENS, LM_HEAD_LOG_LOGIT_LENS]\n",
    "    display_logit_lens(title=f'{lens} Logit Lens {withOrWithout} norm for {label}', logits=using_logits, colorbar_label=colorbar_label, token_labels=labels, prs=sims, words=strs, width=width, height=height)\n",
    "    \n",
    "\n",
    "def view_logit_lens(token_labels, prompt_tokens, norm, lens, n, clip_first_two, **kwargs):\n",
    "   def values_func_iter():\n",
    "        for layer in range(model.cfg.n_layers):\n",
    "            yield activations_full[f'blocks.{layer}.hook_resid_post']\n",
    "   view_logit_lens_wrapper(label='resid post', norm=norm, lens=lens, token_labels=token_labels, prompt_tokens=prompt_tokens, clip_first_two=clip_first_two, values_iter=values_func_iter())\n",
    "\n",
    "def view_logit_lens_resid_pre(token_labels, prompt_tokens, norm, lens, n, clip_first_two, **kwargs):\n",
    "   def values_func_iter():\n",
    "        for layer in range(model.cfg.n_layers):\n",
    "            yield activations_full[f'blocks.{layer}.hook_resid_pre']\n",
    "   view_logit_lens_wrapper(label='resid pre', norm=norm, lens=lens, token_labels=token_labels, prompt_tokens=prompt_tokens, clip_first_two=clip_first_two, values_iter=values_func_iter())\n",
    "\n",
    "\n",
    "def h_values_func_iter(token_labels, n, do_D=True, do_skip=True):\n",
    "    L = len(token_labels)\n",
    "    E,N = model.cfg.E, model.cfg.N\n",
    "    for layer_i in range(model.cfg.n_layers):\n",
    "        layer = model.blocks[layer_i]\n",
    "        all_h = torch.zeros([L,E], device=model.cfg.device)\n",
    "        for l in range(L):\n",
    "            #  [E]                                           [B,E,N][0,:,n]\n",
    "            all_h[l] = activations_full[f'blocks.{layer_i}.hook_h.{l}'][0,:,n]\n",
    "        if do_D:\n",
    "            # [B,L,E]\n",
    "            x    = activations_full[f'blocks.{layer_i}.hook_ssm_input']\n",
    "            # [L,E]        [L,E]  [L,E]      [1,E]\n",
    "            ssm_output = all_h + x[0,:]*layer.W_D.view(1,E)\n",
    "        else:\n",
    "            ssm_output = all_h\n",
    "\n",
    "        if do_skip:\n",
    "            # [B,L,E]\n",
    "            skip = activations_full[f'blocks.{layer_i}.hook_skip_proj']\n",
    "            # [L,E]        [L,E]                [L,E]\n",
    "            model_out   = ssm_output * F.silu (skip[0,:])\n",
    "        else:\n",
    "            model_out   = ssm_output\n",
    "        # [L,D]             [E->D]   [L,E]\n",
    "        proj_out   = layer.out_proj(model_out)\n",
    "        yield proj_out\n",
    "\n",
    "def view_h_lens(token_labels, prompt_tokens, norm, lens, n, clip_first_two, skip, D, **kwargs):\n",
    "    withOrWithout = {True: 'with', False: 'without'}\n",
    "    d_str = withOrWithout[D] + \" D\"\n",
    "    skip_str = withOrWithout[skip] + \" skip\"\n",
    "    c_str = withOrWithout[C] + \" C\"\n",
    "    view_logit_lens_wrapper(label=f'h[{n}] {d_str}, {skip_str}', norm=norm, lens=lens, token_labels=token_labels, prompt_tokens=prompt_tokens, clip_first_two=clip_first_two,\n",
    "                            values_iter=h_values_func_iter(n=n, do_D=D, do_skip=skip, token_labels=token_labels))\n",
    "\n",
    "def h_resid_values_func_iter(token_labels, n, do_D=True, do_skip=True, do_C=True):\n",
    "    L = len(token_labels)\n",
    "    E,N = model.cfg.E, model.cfg.N\n",
    "    # [L,D]\n",
    "    resid = activations_full[f'hook_embed'][0]\n",
    "    for layer_i in range(model.cfg.n_layers):\n",
    "        layer = model.blocks[layer_i]\n",
    "        all_h = torch.zeros([L,E], device=model.cfg.device)\n",
    "        for l in range(L):\n",
    "            #  [E]                                           [B,E,N][0,:,n]\n",
    "            all_h[l] = activations_full[f'blocks.{layer_i}.hook_h.{l}'][0,:,n]\n",
    "        if do_C:\n",
    "            # [B,L,N]\n",
    "            C = activations_full[f'blocks.{layer_i}.hook_C']\n",
    "            # [L]\n",
    "            C_n = C[0,:,n]\n",
    "            # expand C_n to be same size as all_h\n",
    "            # [L,E]   [L,E]   [L,1]\n",
    "            all_h   = all_h * C_n.view(L,1)\n",
    "        \n",
    "        if do_D:\n",
    "            # [B,L,E]\n",
    "            x    = activations_full[f'blocks.{layer_i}.hook_ssm_input']\n",
    "            # [L,E]        [L,E]  [L,E]      [1,E]\n",
    "            ssm_output = all_h + x[0,:]*layer.W_D.view(1,E)\n",
    "        else:\n",
    "            ssm_output = all_h\n",
    "\n",
    "        if do_skip:\n",
    "            # [B,L,E]\n",
    "            skip = activations_full[f'blocks.{layer_i}.hook_skip_proj']\n",
    "            # [L,E]        [L,E]                [L,E]\n",
    "            model_out   = ssm_output * F.silu (skip[0,:])\n",
    "        else:\n",
    "            model_out   = ssm_output\n",
    "        \n",
    "        # [L,D]             [E->D]   [L,E]\n",
    "        proj_out   = layer.out_proj(model_out)\n",
    "        resid += proj_out\n",
    "        yield resid\n",
    "\n",
    "\n",
    "def view_h_resid_lens(token_labels, prompt_tokens, norm, lens, n, clip_first_two, skip, D, C):\n",
    "    withOrWithout = {True: 'with', False: 'without'}\n",
    "    d_str = withOrWithout[D] + \" D\"\n",
    "    skip_str = withOrWithout[skip] + \" skip\"\n",
    "    c_str = withOrWithout[C] + \" C\"\n",
    "    view_logit_lens_wrapper(label=f'h[{n}] contributions to resid {d_str}, {skip_str}, {c_str}', norm=norm, lens=lens, token_labels=token_labels, prompt_tokens=prompt_tokens, clip_first_two=clip_first_two,\n",
    "                            values_iter=h_resid_values_func_iter(n=n, do_D=D, do_skip=skip, do_C=C, token_labels=token_labels))\n",
    "\n",
    "\n",
    "def top_n_outputs(token_labels, prompt_tokens, n, lens=None, norm=None, clip_first_two=None):\n",
    "    # [B,L,V]\n",
    "    logits = activations_full[f'hook_logits']\n",
    "    top_n = torch.argsort(-logits, dim=2)\n",
    "    # [B,L,V]\n",
    "    prs = torch.softmax(logits, dim=2)\n",
    "    L = len(token_labels)\n",
    "    all_strs = []\n",
    "    all_prs = []\n",
    "    if n == 0:\n",
    "        print(\"need n to be > 0\")\n",
    "        return\n",
    "    for i in range(n):\n",
    "        out_strs = []\n",
    "        out_prs = []\n",
    "        for l in range(L):\n",
    "            top_tok = top_n[0,l,i]\n",
    "            top_pr = prs[0,l,top_tok]\n",
    "            out_strs.append(tok_to_str(top_tok.item()))\n",
    "            out_prs.append(top_pr.item())\n",
    "        all_strs.append(out_strs)\n",
    "        all_prs.append(out_prs)\n",
    "    \n",
    "    width = 2048*2\n",
    "    height = 2048*2\n",
    "    \n",
    "    display_logit_lens(title=f'Top {n} output tokens', logits=False, colorbar_label='pr', token_labels=token_labels, prs=all_prs, words=all_strs, width=width, height=height)\n",
    "\n",
    "def show_C_full(token_labels, n, **kwargs):\n",
    "    L = len(token_labels)\n",
    "    E,N = model.cfg.E, model.cfg.N\n",
    "    all_C = torch.zeros([model.cfg.n_layers, L], device=model.cfg.device)\n",
    "    for layer in range(model.cfg.n_layers):\n",
    "        # [L]                [B,L,N][0,:,n]\n",
    "        C = activations_full[f'blocks.{layer}.hook_C'][0,:,n]\n",
    "        all_C[layer,:] = C\n",
    "    \n",
    "    imshow(all_C, x=token_labels, xaxis=\"Position\", yaxis=\"Layer\", title=f\"C for n={n}\")\n",
    "    \n",
    "options_full = dict([\n",
    "    ('logit_lens resid_post', partial(view_logit_lens, token_labels=token_labels_full, prompt_tokens=prompt_tokens_full)),\n",
    "    ('logit_lens resid_pre', partial(view_logit_lens_resid_pre, token_labels=token_labels_full, prompt_tokens=prompt_tokens_full)),\n",
    "    (\"h_logit_lens\", partial(view_h_lens, token_labels=token_labels_full, prompt_tokens=prompt_tokens_full)),\n",
    "    (\"h fake logit_lens\", partial(view_h_resid_lens, token_labels=token_labels_full, prompt_tokens=prompt_tokens_full)),\n",
    "    (\"top n outputs\", partial(top_n_outputs, token_labels=token_labels_full, prompt_tokens=prompt_tokens_full)),\n",
    "    (\"C\", partial(show_C_full, token_labels=token_labels_full)),\n",
    "])\n",
    "\n",
    "def visualize_full(option, norm, lens, n, clip_first_two, skip, D, C):\n",
    "    norm = norm == 'True'\n",
    "    clip_first_two = clip_first_two == 'True'\n",
    "    skip = skip == 'True'\n",
    "    D = D == 'True'\n",
    "    C = C == 'True'\n",
    "    n = int(n)\n",
    "    options_full[option](norm=norm, lens=lens, n=n, clip_first_two=clip_first_two, skip=skip, D=D, C=C)\n",
    "\n",
    "COSINE_LENS = 'Cosine similarity'\n",
    "LM_HEAD_LENS = 'lm_head'\n",
    "LM_HEAD_LOGIT_LENS = 'lm_head logits'\n",
    "LM_HEAD_LOG_LOGIT_LENS = 'lm_head log logits'\n",
    "DIFFERENCE_LENS = 'Cosine similarity of differences'\n",
    "\n",
    "text_options_full = list(options_full.keys())\n",
    "display(\"Keep in mind only some of these settings are used for a given option\")\n",
    "interact(visualize_full, option=text_options_full, norm=['False', 'True'], lens=[COSINE_LENS, LM_HEAD_LENS,LM_HEAD_LOGIT_LENS,LM_HEAD_LOG_LOGIT_LENS, DIFFERENCE_LENS],n=[str(n) for n in range(model.cfg.N)], clip_first_two=['False', 'True'], skip=['True', 'False'], D=['True', 'False'], C=['True', 'False'])\n"
   ]
  },
  {
   "cell_type": "markdown",
   "metadata": {},
   "source": [
    "## Layer-wise visualizations"
   ]
  },
  {
   "cell_type": "code",
   "execution_count": 3,
   "metadata": {},
   "outputs": [
    {
     "data": {
      "application/vnd.jupyter.widget-view+json": {
       "model_id": "32d87849830d4ec3a54eff2d800f91dc",
       "version_major": 2,
       "version_minor": 0
      },
      "text/plain": [
       "interactive(children=(Dropdown(description='layer', options=(0, 1, 2, 3, 4, 5, 6, 7, 8, 9, 10, 11, 12, 13, 14,…"
      ]
     },
     "metadata": {},
     "output_type": "display_data"
    },
    {
     "data": {
      "text/plain": [
       "<function __main__.visualize(layer, option)>"
      ]
     },
     "execution_count": 3,
     "metadata": {},
     "output_type": "execute_result"
    }
   ],
   "source": [
    "from ipywidgets import interact\n",
    "import time\n",
    "\n",
    "prompt = 'Then, Shelby and Emma had a lot of fun at the school. Shelby gave a apple to'\n",
    "prompt_tokens = model.to_tokens(prompt)\n",
    "logits, activations = model.run_with_cache(prompt_tokens)\n",
    "token_labels = [f\"{token}_{index}\" for index, token in enumerate(model.to_str_tokens(prompt_tokens[0]))]\n",
    "task = 'IOI task'\n",
    "\n",
    "def show_delta_1(layer, token_labels):\n",
    "    imshow(activations[f'blocks.{layer}.hook_delta_1'][0].T, x=token_labels, xaxis=\"Position\", yaxis=\"D_delta\", title=f\"WDelta1(x)[pos, D_delta] for each stream for layer {layer}\")\n",
    "\n",
    "def show_delta(layer, token_labels):\n",
    "    imshow(activations[f'blocks.{layer}.hook_delta'][0].T, x=token_labels, xaxis=\"Position\", yaxis=\"E\", title=f\"Deltas[Position, E] for each stream for layer {layer}\")\n",
    "    \n",
    "def show_delta_clipped(layer, token_labels):\n",
    "    imshow(activations[f'blocks.{layer}.hook_delta'][0].T[:,2:], x=token_labels[2:], xaxis=\"Position\", yaxis=\"E\", title=f\"Deltas[2:][Position, E] for each stream for layer {layer}\")\n",
    "    \n",
    "def show_A(layer):\n",
    "    # [E,N]\n",
    "    A = -torch.exp(model.blocks[layer].A_log)\n",
    "    CHUNK_SIZE = model.cfg.N*8\n",
    "    for chunk_start in range(0, model.cfg.E, CHUNK_SIZE):\n",
    "        imshow(A[chunk_start:chunk_start+CHUNK_SIZE].T, x=[str(x) for x in range(chunk_start, chunk_start+CHUNK_SIZE)],xaxis=\"E\", yaxis=\"N\", title=f\"A[E,N] for layer {layer} (A=-exp(A_log), A_log is learned param)\")\n",
    "    \n",
    "def show_exp_A(layer):\n",
    "    # note, these will all be < 1 because of the way A is computed via A = -exp(A_log)\n",
    "    # [E,N]\n",
    "    A = torch.exp(-torch.exp(model.blocks[layer].A_log))\n",
    "    CHUNK_SIZE = model.cfg.N*8\n",
    "    for chunk_start in range(0, model.cfg.E, CHUNK_SIZE):\n",
    "        imshow(A[chunk_start:chunk_start+CHUNK_SIZE].T, x=[str(x) for x in range(chunk_start, chunk_start+CHUNK_SIZE)],xaxis=\"E\", yaxis=\"N\", title=f\"exp(A)[E,N] for layer {layer} (A=-exp(A_log), A_log is learned param)\")\n",
    "    \n",
    "def show_h(layer, token_labels):\n",
    "    L = len(token_labels)\n",
    "    E,N = model.cfg.E, model.cfg.N\n",
    "    all_h = torch.zeros([L,E,N])\n",
    "    for l in range(L):\n",
    "        all_h[l] = activations[f'blocks.{layer}.hook_h.{l}'][0]\n",
    "    for n in range(N):\n",
    "        imshow(all_h[:,:,n].T, x=token_labels, xaxis=\"Position\", yaxis=\"E\", title=f\"h for layer {layer} with n={n}\")\n",
    "        time.sleep(0.1)\n",
    "\n",
    "def show_C(layer, token_labels):\n",
    "    L = len(token_labels)\n",
    "    E,N = model.cfg.E, model.cfg.N\n",
    "    # [L,N]                [B,L,N][0]\n",
    "    C = activations[f'blocks.{layer}.hook_C'][0]\n",
    "    imshow(C.T, x=token_labels, xaxis=\"Position\", yaxis=\"N\", title=f\"C for layer {layer}\")\n",
    "    \n",
    "options = dict([\n",
    "    ('delta_1', partial(show_delta_1, token_labels=token_labels)),\n",
    "    ('delta', partial(show_delta, token_labels=token_labels)),\n",
    "    ('delta_clipped', partial(show_delta_clipped, token_labels=token_labels)),\n",
    "    ('A', show_A),\n",
    "    ('exp(A)', show_exp_A),\n",
    "    ('h', partial(show_h, token_labels=token_labels)),\n",
    "    ('C', partial(show_C, token_labels=token_labels)),\n",
    "])\n",
    "\n",
    "def visualize(layer, option):\n",
    "    options[option](layer)\n",
    "\n",
    "    \n",
    "text_options = list(options.keys())\n",
    "interact(visualize, layer=range(model.cfg.n_layers), option=text_options)"
   ]
  },
  {
   "cell_type": "markdown",
   "metadata": {},
   "source": [
    "## Stream-wise visualizations"
   ]
  },
  {
   "cell_type": "code",
   "execution_count": 5,
   "metadata": {},
   "outputs": [
    {
     "data": {
      "application/vnd.jupyter.widget-view+json": {
       "model_id": "4ed20ed3f2eb41c1911744e305ccfe38",
       "version_major": 2,
       "version_minor": 0
      },
      "text/plain": [
       "interactive(children=(Dropdown(description='e', options=(0, 1, 2, 3, 4, 5, 6, 7, 8, 9, 10, 11, 12, 13, 14, 15,…"
      ]
     },
     "metadata": {},
     "output_type": "display_data"
    },
    {
     "data": {
      "text/plain": [
       "<function __main__.visualize(e, option)>"
      ]
     },
     "execution_count": 5,
     "metadata": {},
     "output_type": "execute_result"
    }
   ],
   "source": [
    "from ipywidgets import interact\n",
    "\n",
    "prompt_e = 'Then, Shelby and Emma had a lot of fun at the school. Shelby gave a apple to'\n",
    "prompt_tokens_e = model.to_tokens(prompt_e)\n",
    "logits_e, activations_e = model.run_with_cache(prompt_tokens_e)\n",
    "token_labels_e = [f\"{token}_{index}\" for index, token in enumerate(model.to_str_tokens(prompt_tokens_e[0]))]\n",
    "\n",
    "def show_delta_e(e, token_labels_e):\n",
    "    L = len(token_labels_e)\n",
    "    delta_e = torch.zeros([L,model.cfg.n_layers])\n",
    "    for layer in range(model.cfg.n_layers):\n",
    "        # [B,L,E]\n",
    "        delta   =    activations[f'blocks.{layer}.hook_delta']\n",
    "        #                      [L]\n",
    "        delta_e[:,layer] = delta[0,:,e]\n",
    "    imshow(delta_e.T, x=token_labels_e, xaxis=\"Position\", yaxis=\"Layer\", title=f\"Deltas[Position,e] for stream {e} on the IOI Task\")\n",
    "\n",
    "def show_delta_e_clipped(e, token_labels_e):\n",
    "    L = len(token_labels_e)\n",
    "    delta_e = torch.zeros([L-2,model.cfg.n_layers])\n",
    "    for layer in range(model.cfg.n_layers):\n",
    "        # [B,L,E]\n",
    "        delta   =    activations[f'blocks.{layer}.hook_delta']\n",
    "        #                      [L]\n",
    "        delta_e[:,layer] = delta[0,2:,e]\n",
    "    imshow(delta_e.T, x=token_labels_e[2:], xaxis=\"Position\", yaxis=\"Layer\", title=f\"Deltas[2:][Position,e] for stream {e} on the IOI Task\")\n",
    "\n",
    "def show_A_e(e):\n",
    "    A_e = torch.zeros([model.cfg.N, model.cfg.n_layers])\n",
    "    \n",
    "    for layer in range(model.cfg.n_layers):\n",
    "        # [E,N]\n",
    "        A = -torch.exp(model.blocks[layer].A_log)\n",
    "        A_e[:,layer] = A[e]\n",
    "    imshow(A_e, xaxis=\"Layer\", yaxis=\"N\", title=f\"A for stream {e} (A=-exp(A_log)[N], A_log is learned param)\")\n",
    "    \n",
    "def show_exp_A_e(e):\n",
    "    exp_A_e = torch.zeros([model.cfg.N, model.cfg.n_layers])\n",
    "    \n",
    "    for layer in range(model.cfg.n_layers):\n",
    "        # [E,N]\n",
    "        A = -torch.exp(model.blocks[layer].A_log)\n",
    "        exp_A_e[:,layer] = torch.exp(A[e])\n",
    "    imshow(exp_A_e, xaxis=\"Layer\", yaxis=\"N\", title=f\"exp(A)[N] for stream {e} (A=-exp(A_log), A_log is learned param)\")\n",
    "    \n",
    "    \n",
    "options_e = dict([\n",
    "    ('delta', partial(show_delta_e, token_labels_e=token_labels_e)),\n",
    "    ('delta_clipped', partial(show_delta_e_clipped, token_labels_e=token_labels_e)),\n",
    "    ('A', show_A_e),\n",
    "    ('exp(A)', show_exp_A_e),\n",
    "])\n",
    "\n",
    "\n",
    "\n",
    "def visualize(e, option):\n",
    "    options_e[option](e)\n",
    "text_options_e = list(options_e.keys())\n",
    "interact(visualize, e=range(model.cfg.E), option=text_options_e)"
   ]
  },
  {
   "cell_type": "markdown",
   "metadata": {},
   "source": [
    "## Layer-wise and Stream-wise visualizations"
   ]
  },
  {
   "cell_type": "code",
   "execution_count": 6,
   "metadata": {},
   "outputs": [
    {
     "data": {
      "application/vnd.jupyter.widget-view+json": {
       "model_id": "ac725bdb8b7a4b7fbb3b297b94a5c411",
       "version_major": 2,
       "version_minor": 0
      },
      "text/plain": [
       "interactive(children=(Dropdown(description='layer', options=(0, 1, 2, 3, 4, 5, 6, 7, 8, 9, 10, 11, 12, 13, 14,…"
      ]
     },
     "metadata": {},
     "output_type": "display_data"
    },
    {
     "data": {
      "text/plain": [
       "<function __main__.visualize(layer, e, option)>"
      ]
     },
     "execution_count": 6,
     "metadata": {},
     "output_type": "execute_result"
    }
   ],
   "source": [
    "from ipywidgets import interact\n",
    "\n",
    "prompt_l_e = 'Then, Shelby and Emma had a lot of fun at the school. Shelby gave a apple to'\n",
    "prompt_tokens_l_e = model.to_tokens(prompt_l_e)\n",
    "logits_l_e, activations_l_e = model.run_with_cache(prompt_tokens_l_e)\n",
    "token_labels_l_e = [f\"{token}_{index}\" for index, token in enumerate(model.to_str_tokens(prompt_tokens_l_e[0]))]\n",
    "\n",
    "\n",
    "def show_x(layer,e, token_labels_l_e):\n",
    "    L = len(token_labels_l_e)\n",
    "    all_x = torch.zeros([L])\n",
    "    for l in range(L):                         # [B,L,E]\n",
    "        all_x[l]   =    activations[f'blocks.{layer}.hook_ssm_input'][0,l,e]\n",
    "    imshow(all_x.view(1,L), x=token_labels_l_e,xaxis=\"Tokens\", yaxis=\"N\", title=f\"x for layer {layer} and stream {e}\")\n",
    "\n",
    "    \n",
    "def show_h(layer,e, token_labels_l_e):\n",
    "    L = len(token_labels_l_e)\n",
    "    all_h = torch.zeros([model.cfg.N,L])\n",
    "    for l in range(L):\n",
    "        all_h[:,l]   =    activations[f'blocks.{layer}.hook_h.{l}'][0][e]\n",
    "    imshow(all_h, x=token_labels_l_e,xaxis=\"Tokens\", yaxis=\"N\", title=f\"h for layer {layer} and stream {e}\")\n",
    "\n",
    "def show_y(layer,e, token_labels_l_e):\n",
    "    L = len(token_labels_l_e)\n",
    "    all_y = torch.zeros([L])\n",
    "    for l in range(L):                         # [B,L,E]\n",
    "        all_y[l]   =    activations[f'blocks.{layer}.hook_ssm_input'][0,l,e]\n",
    "    imshow(all_y.view(1,L), x=token_labels_l_e,xaxis=\"Tokens\", yaxis=\"N\", title=f\"y for layer {layer} and stream {e}\")\n",
    "\n",
    "options_l_e = dict([\n",
    "    ('x', partial(show_x, token_labels_l_e=token_labels_l_e)),\n",
    "    ('h', partial(show_h, token_labels_l_e=token_labels_l_e)),\n",
    "    ('y', partial(show_y, token_labels_l_e=token_labels_l_e)),\n",
    "])\n",
    "\n",
    "def visualize(layer, e, option):\n",
    "    options_l_e[option](layer=layer, e=e)\n",
    "text_options_l_e = list(options_l_e.keys())\n",
    "interact(visualize, layer=range(model.cfg.n_layers), e=range(model.cfg.E), option=text_options_l_e)"
   ]
  },
  {
   "cell_type": "markdown",
   "metadata": {},
   "source": [
    "## Patching"
   ]
  },
  {
   "cell_type": "markdown",
   "metadata": {},
   "source": [
    "## Patching"
   ]
  },
  {
   "cell_type": "code",
   "execution_count": 4,
   "metadata": {},
   "outputs": [
    {
     "name": "stdout",
     "output_type": "stream",
     "text": [
      "uncorrupted prompt\n",
      "\n",
      "def string(self, event, module, count, current, run, parser):\n",
      "    \"\"\"mark history second\n",
      "\n",
      "    :param count: sort trial\n",
      "    :param current: request campaign\n",
      "    :param\n",
      "answer: ' run'\n",
      "\n",
      "corrupted prompt\n",
      "\n",
      "def string(self, event, module, count, current, start, parser):\n",
      "    \"\"\"mark history second\n",
      "\n",
      "    :param count: sort trial\n",
      "    :param current: request campaign\n",
      "    :param\n",
      "answer: ' start'\n"
     ]
    }
   ],
   "source": [
    "from importlib import reload\n",
    "import docstring\n",
    "reload(docstring)\n",
    "from docstring import docstring_prompt_generator_function, docstring_induction_prompt_generator\n",
    "from test_data import greater_than_data_generator, IOI_generator, ABC_TEMPLATES, BAC_TEMPLATES, BABA_TEMPLATES, BABA_LONG_TEMPLATES, BABA_LATE_IOS, BABA_EARLY_IOS\n",
    "\n",
    "seed = 27\n",
    "#data = greater_than_data_generator(tokenizer=model.tokenizer, num_examples=2, seed=seed)\n",
    "\n",
    "TEMPLATES = [\n",
    "    (\"ABC\", ABC_TEMPLATES),\n",
    "    (\"BAC\", BAC_TEMPLATES),\n",
    "    (\"BABA\", BABA_TEMPLATES),\n",
    "    (\"BABA_LONG\", BABA_LONG_TEMPLATES),\n",
    "    (\"BABA_LATE\", BABA_LATE_IOS),\n",
    "    (\"BABA_EARLY\", BABA_EARLY_IOS)\n",
    "]\n",
    "\n",
    "#data = IOI_generator(templates=[TEMPLATES[0][0]], tokenizer=model.tokenizer, num_examples=2, symmetric=True, seed=seed)\n",
    "\n",
    "data = docstring_prompt_generator_function(tokenizer=model.tokenizer, num_examples=2, corrupt='random_answer')\n",
    "\n",
    "data = list(data)\n",
    "\n",
    "for i, (prompt, correct_answers, incorrect_answers) in enumerate(data):\n",
    "    if i == 0:\n",
    "        print(\"uncorrupted prompt\")\n",
    "        prompt_uncorrupted = prompt\n",
    "        uncorrupted_answer = correct_answers[0]\n",
    "    elif i == 1:\n",
    "        print(\"\\ncorrupted prompt\")\n",
    "        prompt_corrupted = prompt\n",
    "        corrupted_answer = incorrect_answers[0]\n",
    "    print(prompt)\n",
    "    print(\"answer:\", repr(correct_answers[0]))\n",
    "\n"
   ]
  },
  {
   "cell_type": "code",
   "execution_count": 73,
   "metadata": {},
   "outputs": [],
   "source": [
    "# manual patching\n",
    "prompt_uncorrupted = 'Then, Shelby and Emma had a lot of fun at the school. Shelby gave a kiss to'\n",
    "prompt_corrupted = 'Then, Shelby and Emma had a lot of fun at the school. Emma gave a kiss to'\n",
    "uncorrupted_answer = ' Emma' # note the space in front is important\n",
    "corrupted_answer = ' Shelby'"
   ]
  },
  {
   "cell_type": "code",
   "execution_count": 5,
   "metadata": {},
   "outputs": [
    {
     "data": {
      "application/vnd.jupyter.widget-view+json": {
       "model_id": "b9d4ecddb6614abeb9569e998cad9313",
       "version_major": 2,
       "version_minor": 0
      },
      "text/plain": [
       "Dropdown(description='Patching Type', options=('layer input', 'ssm input', 'h', 'ssm output', 'after apply d',…"
      ]
     },
     "metadata": {},
     "output_type": "display_data"
    },
    {
     "data": {
      "application/vnd.jupyter.widget-view+json": {
       "model_id": "d15de5e626a54c218b3a1c2caf45300d",
       "version_major": 2,
       "version_minor": 0
      },
      "text/plain": [
       "Button(description='Run Patching', style=ButtonStyle())"
      ]
     },
     "metadata": {},
     "output_type": "display_data"
    },
    {
     "data": {
      "application/vnd.jupyter.widget-view+json": {
       "model_id": "a0398c26cc9846be9a98b5aa5f7f4046",
       "version_major": 2,
       "version_minor": 0
      },
      "text/plain": [
       "Output()"
      ]
     },
     "metadata": {},
     "output_type": "display_data"
    }
   ],
   "source": [
    "# modified from neel nanda's examples\n",
    "\n",
    "from tqdm.notebook import tqdm\n",
    "from functools import partial\n",
    "from jaxtyping import Float\n",
    "from transformer_lens.hook_points import HookPoint\n",
    "from IPython.display import display\n",
    "import ipywidgets\n",
    "import torch\n",
    "\n",
    "\n",
    "prompt_uncorrupted_tokens = model.to_tokens(prompt_uncorrupted)\n",
    "prompt_corrupted_tokens = model.to_tokens(prompt_corrupted)\n",
    "\n",
    "# logits should be [B,L,V] \n",
    "def uncorrupted_logit_minus_corrupted_logit(logits, uncorrupted_answer, corrupted_answer):\n",
    "    uncorrupted_index = model.to_single_token(uncorrupted_answer)\n",
    "    corrupted_index = model.to_single_token(corrupted_answer)\n",
    "    return logits[0, -1, uncorrupted_index] - logits[0, -1, corrupted_index]\n",
    "\n",
    "# prs should be [B,L,V] \n",
    "def uncorrupted_pr_minus_corrupted_pr(prs, uncorrupted_answer, corrupted_answer):\n",
    "    uncorrupted_index = model.to_single_token(uncorrupted_answer)\n",
    "    corrupted_index = model.to_single_token(corrupted_answer)\n",
    "    return prs[0, -1, uncorrupted_index] - prs[0, -1, corrupted_index]\n",
    "\n",
    "# [B,L,V]\n",
    "corrupted_logits, corrupted_activations = model.run_with_cache(prompt_corrupted_tokens)\n",
    "corrupted_logit_diff = uncorrupted_logit_minus_corrupted_logit(logits=corrupted_logits, uncorrupted_answer=uncorrupted_answer, corrupted_answer=corrupted_answer)\n",
    "corrupted_prs = torch.softmax(corrupted_logits, dim=2)\n",
    "corrupted_pr_diff = uncorrupted_pr_minus_corrupted_pr(prs=corrupted_prs, uncorrupted_answer=uncorrupted_answer, corrupted_answer=corrupted_answer)\n",
    "\n",
    "# [B,L,V]\n",
    "uncorrupted_logits = model(prompt_uncorrupted_tokens)\n",
    "uncorrupted_logit_diff = uncorrupted_logit_minus_corrupted_logit(logits=uncorrupted_logits, uncorrupted_answer=uncorrupted_answer, corrupted_answer=corrupted_answer)\n",
    "uncorrupted_prs = torch.softmax(uncorrupted_logits, dim=2)\n",
    "uncorrupted_pr_diff = uncorrupted_pr_minus_corrupted_pr(prs=uncorrupted_prs, uncorrupted_answer=uncorrupted_answer, corrupted_answer=corrupted_answer)\n",
    "\n",
    "# We make a tensor to store the results for each patching run. We put it on the model's device to avoid needing to move things between the GPU and CPU, which can be slow.\n",
    "L = len(prompt_uncorrupted_tokens[0])\n",
    "if len(prompt_corrupted_tokens[0]) != len(prompt_uncorrupted_tokens[0]):\n",
    "    raise Exception(\"Prompts are not the same length\") # feel free to comment this out, you can patch for different sized prompts its just a lil sus\n",
    "\n",
    "# diff is logit of uncorrupted_answer - logit of corrupted_answer\n",
    "# we expect corrupted_diff to have a negative value (as corrupted should put high pr on corrupted_answer)\n",
    "# we expect uncorrupted to have a positive value (as uncorrupted should put high pr on uncorrupted_answer)\n",
    "# thus we can treat these as (rough) min and max possible values\n",
    "min_logit_diff = corrupted_logit_diff\n",
    "max_logit_diff = uncorrupted_logit_diff\n",
    "\n",
    "min_pr_diff = corrupted_pr_diff\n",
    "max_pr_diff = uncorrupted_pr_diff\n",
    "\n",
    "# make token labels that describe the patch\n",
    "corrupted_str_tokens = model.to_str_tokens(prompt_corrupted_tokens)\n",
    "uncorrupted_str_tokens = model.to_str_tokens(prompt_uncorrupted_tokens)\n",
    "token_labels = []\n",
    "for index, (corrupted_token, uncorrupted_token) in enumerate(zip(corrupted_str_tokens, uncorrupted_str_tokens)):\n",
    "    if corrupted_token == uncorrupted_token:\n",
    "        token_labels.append(f\"{corrupted_token}_{index}\")\n",
    "    else:\n",
    "        token_labels.append(f\"{uncorrupted_token}->{corrupted_token}_{index}\")\n",
    "\n",
    "def run_patching(patching_hook_name_func, patching_hook_func):\n",
    "    hook_title = patching_hook_name_func(layer='{layer}', position='{position}')\n",
    "    print(f\"running patching for {hook_title}\")\n",
    "    global patching_result_logits, patching_result_prs # if you want to access it once this is done running\n",
    "    patching_result_logits = torch.zeros((model.cfg.n_layers, L), device=model.cfg.device)\n",
    "    patching_result_prs = torch.zeros((model.cfg.n_layers, L), device=model.cfg.device)\n",
    "    for layer in tqdm(range(model.cfg.n_layers)):\n",
    "        for position in range(L):\n",
    "            patching_hook_name = patching_hook_name_func(layer=layer, position=position)\n",
    "            patching_hook = partial(patching_hook_func, layer=layer, position=position)\n",
    "            # [B,L,V]\n",
    "            patched_logits = model.run_with_hooks(prompt_uncorrupted_tokens, fwd_hooks=[\n",
    "                (patching_hook_name, patching_hook)\n",
    "            ])\n",
    "            # [B,L,V]\n",
    "            patched_prs = torch.softmax(patched_logits, dim=2)\n",
    "            \n",
    "            patched_logit_diff = uncorrupted_logit_minus_corrupted_logit(logits=patched_logits,\n",
    "                                                                         uncorrupted_answer=uncorrupted_answer,\n",
    "                                                                         corrupted_answer=corrupted_answer).detach()\n",
    "            # normalize it so\n",
    "            # 0 means min_logit_diff (so 0 means that it is acting like the corrupted model)\n",
    "            # 1 means max_logit_diff (so 1 means that it is acting like the uncorrupted model)\n",
    "            normalized_patched_logit_diff = (patched_logit_diff-min_logit_diff)/(max_logit_diff - min_logit_diff)\n",
    "            # now flip them, since most interventions will do nothing and thus act like uncorrupted model, visually its better to have that at 0\n",
    "            # so now\n",
    "            # 0 means that it is acting like the uncorrupted model\n",
    "            # 1 means that it is acting like the corrupted model\n",
    "            normalized_patched_logit_diff = 1.0 - normalized_patched_logit_diff\n",
    "            patching_result_logits[layer, position] = normalized_patched_logit_diff\n",
    "\n",
    "            # same for pr\n",
    "            patched_pr_diff = uncorrupted_pr_minus_corrupted_pr(prs=patched_prs,\n",
    "                                                                uncorrupted_answer=uncorrupted_answer,\n",
    "                                                                corrupted_answer=corrupted_answer).detach()\n",
    "            normalized_patched_pr_diff = 1.0-(patched_pr_diff-min_pr_diff)/(max_pr_diff - min_pr_diff)\n",
    "            patching_result_prs[layer, position] = normalized_patched_pr_diff\n",
    "    imshow(patching_result_logits, x=token_labels, xaxis=\"Position\", yaxis=\"Layer\", title=f\"Normalized Logit Difference After Patching {hook_title}\")\n",
    "    imshow(patching_result_prs, x=token_labels, xaxis=\"Position\", yaxis=\"Layer\", title=f\"Normalized Pr Difference After Patching {hook_title}\")\n",
    "\n",
    "# 'blocks.{layer}.hook_resid_pre' is the inputs to the layer\n",
    "def resid_pre_patching_hook(\n",
    "    resid_pre: Float[torch.Tensor, \"B L D\"],\n",
    "    hook: HookPoint,\n",
    "    position: int,\n",
    "    layer: int # we don't care about this\n",
    ") -> Float[torch.Tensor, \"B L D\"]:\n",
    "    # only intervene on the specific pos\n",
    "    corrupted_resid_pre = corrupted_activations[hook.name]\n",
    "    resid_pre[:, position, :] = corrupted_resid_pre[:, position, :]\n",
    "    return resid_pre\n",
    "    \n",
    "# 'blocks.{layer}.hook_ssm_input' is the input that gets fed into the ssm (this happens after doing conv and non-linearity)\n",
    "def ssm_input_patching_hook(\n",
    "    ssm_input: Float[torch.Tensor, \"B L E\"],\n",
    "    hook: HookPoint,\n",
    "    position: int,\n",
    "    layer: int\n",
    ") -> Float[torch.Tensor, \"B L E\"]:\n",
    "    # only intervene on the specific pos\n",
    "    corrupted_ssm_input = corrupted_activations[hook.name]\n",
    "    ssm_input[:, position, :] = corrupted_ssm_input[:, position, :]\n",
    "    return ssm_input\n",
    "\n",
    "# 'blocks.{layer}.hook_h.{pos}' is the recurrent state of that layer after processing tokens at and before pos position\n",
    "def h_patching_hook(\n",
    "    h: Float[torch.Tensor, \"B E N\"],\n",
    "    hook: HookPoint,\n",
    "    position: int,\n",
    "    layer: int\n",
    ") -> Float[torch.Tensor, \"B E N\"]:\n",
    "    return corrupted_activations[hook.name]\n",
    "\n",
    "# 'blocks.{layer}.hook_ssm_output' is after the ssm loop but before doing  y   +   x     *  self.W_D\n",
    "def ssm_output_patching_hook(\n",
    "    ssm_output: Float[torch.Tensor, \"B L E\"],\n",
    "    hook: HookPoint,\n",
    "    position: int,\n",
    "    layer: int\n",
    ") -> Float[torch.Tensor, \"B L E\"]:\n",
    "    # only intervene on the specific pos\n",
    "    corrupted_ssm_output = corrupted_activations[hook.name]\n",
    "    ssm_output[:, position, :] = corrupted_ssm_output[:, position, :]\n",
    "    return ssm_output\n",
    "\n",
    "# 'blocks.{layer}.hook_after_d' is after the ssm and after doing  y   +   x     *  self.W_D\n",
    "def after_d_patching_hook(\n",
    "    after_d: Float[torch.Tensor, \"B L E\"],\n",
    "    hook: HookPoint,\n",
    "    position: int,\n",
    "    layer: int\n",
    ") -> Float[torch.Tensor, \"B L E\"]:\n",
    "    # only intervene on the specific pos\n",
    "    corrupted_after_d = corrupted_activations[hook.name]\n",
    "    after_d[:, position, :] = corrupted_after_d[:, position, :]\n",
    "    return after_d\n",
    "\n",
    "# 'blocks.{layer}.hook_after_d' is after the ssm and after doing  y   +   x     *  self.W_D\n",
    "def resid_post_patching_hook(\n",
    "    resid_post: Float[torch.Tensor, \"B L D\"],\n",
    "    hook: HookPoint,\n",
    "    position: int,\n",
    "    layer: int\n",
    ") -> Float[torch.Tensor, \"B L D\"]:\n",
    "    # only intervene on the specific pos\n",
    "    corrupted_resid_post = corrupted_activations[hook.name]\n",
    "    resid_post[:, position, :] = corrupted_resid_post[:, position, :]\n",
    "    return resid_post\n",
    "\n",
    "patching_types = {\n",
    "    'layer input': (lambda layer, position: f'blocks.{layer}.hook_resid_pre', resid_pre_patching_hook),\n",
    "    'ssm input': (lambda layer, position: f'blocks.{layer}.hook_ssm_input', ssm_input_patching_hook),\n",
    "    'h': (lambda layer, position: f'blocks.{layer}.hook_h.{position}', h_patching_hook),\n",
    "    'ssm output': (lambda layer, position: f'blocks.{layer}.hook_ssm_output', ssm_output_patching_hook),\n",
    "    'after apply d': (lambda layer, position: f'blocks.{layer}.hook_after_d', after_d_patching_hook),\n",
    "    'resid post': (lambda layer, position: f'blocks.{layer}.hook_resid_post', resid_post_patching_hook),\n",
    "}\n",
    "patching_types_keys = list(patching_types.keys())\n",
    "\n",
    "def choose_patching_type(change):\n",
    "    if change['type'] == 'change' and change['name'] == 'value':\n",
    "        choose_patching_type.patching_type = change['new'] # hack, gives this function the patching_type attribute\n",
    "\n",
    "choose_patching_type.patching_type = patching_types_keys[0]\n",
    "\n",
    "patching_type_dropdown = ipywidgets.Dropdown(\n",
    "    options=patching_types_keys,\n",
    "    value=patching_types_keys[0],\n",
    "    description='Patching Type',\n",
    ")\n",
    "patching_type_dropdown.observe(choose_patching_type)\n",
    "display(patching_type_dropdown)\n",
    "\n",
    "def do_patching(arg):\n",
    "    with output: # this lets the stuff we output here be visible\n",
    "        hook_name_func, hook_func = patching_types[choose_patching_type.patching_type]\n",
    "        run_patching(patching_hook_name_func=hook_name_func, patching_hook_func=hook_func)\n",
    "\n",
    "patching_button = ipywidgets.Button(description = 'Run Patching')\n",
    "patching_button.on_click(do_patching)\n",
    "display(patching_button)\n",
    "\n",
    "# you can't just display stuff inside a widget callback, you need a wrap any display code in this\n",
    "output = ipywidgets.Output()\n",
    "display(output)\n"
   ]
  },
  {
   "cell_type": "code",
   "execution_count": 21,
   "metadata": {},
   "outputs": [
    {
     "data": {
      "application/vnd.plotly.v1+json": {
       "config": {
        "plotlyServerURL": "https://plot.ly"
       },
       "data": [
        {
         "coloraxis": "coloraxis",
         "hovertemplate": "Position: %{x}<br>Layer: %{y}<br>color: %{z}<extra></extra>",
         "name": "0",
         "type": "heatmap",
         "x": [
          "<|endoftext|>_0",
          "Then_1",
          ",_2",
          " Shelby_3",
          " and_4",
          " Emma_5",
          " had_6",
          " a_7",
          " lot_8",
          " of_9",
          " fun_10",
          " at_11",
          " the_12",
          " school_13",
          "._14",
          " Shelby-> Emma_15",
          " gave_16",
          " a_17",
          " kiss_18",
          " to_19"
         ],
         "xaxis": "x",
         "yaxis": "y",
         "z": [
          [
           0,
           0,
           0,
           0,
           0,
           0,
           0,
           0,
           0,
           0,
           0,
           0,
           0,
           0,
           0,
           0.9995300769805908,
           -5.984306335449219e-05,
           0.00021207332611083984,
           0.0015602707862854004,
           -1.2755393981933594e-05
          ],
          [
           0,
           0,
           0,
           0,
           0,
           0,
           0,
           0,
           0,
           0,
           0,
           0,
           0,
           0,
           0,
           0.9989647269248962,
           4.6372413635253906e-05,
           -0.0004260540008544922,
           0.0019400715827941895,
           -0.0003495216369628906
          ],
          [
           0,
           0,
           0,
           0,
           0,
           0,
           0,
           0,
           0,
           0,
           0,
           0,
           0,
           0,
           0,
           1.0019409656524658,
           -5.9604644775390625e-05,
           -0.001088857650756836,
           0.0012863874435424805,
           0.00032836198806762695
          ],
          [
           0,
           0,
           0,
           0,
           0,
           0,
           0,
           0,
           0,
           0,
           0,
           0,
           0,
           0,
           0,
           1.0037392377853394,
           0.00026172399520874023,
           -0.0005332231521606445,
           0.0006709694862365723,
           0.0005216002464294434
          ],
          [
           0,
           0,
           0,
           0,
           0,
           0,
           0,
           0,
           0,
           0,
           0,
           0,
           0,
           0,
           0,
           1.003391146659851,
           -0.0005966424942016602,
           -0.0004900693893432617,
           0.0009772181510925293,
           9.369850158691406e-05
          ],
          [
           0,
           0,
           0,
           0,
           0,
           0,
           0,
           0,
           0,
           0,
           0,
           0,
           0,
           0,
           0,
           1.0046888589859009,
           -0.0012458562850952148,
           -0.0006269216537475586,
           0.0008661150932312012,
           -5.650520324707031e-05
          ],
          [
           0,
           0,
           0,
           0,
           0,
           0,
           0,
           0,
           0,
           0,
           0,
           0,
           0,
           0,
           0,
           1.0018936395645142,
           -0.0017087459564208984,
           -0.0003713369369506836,
           0.0008275508880615234,
           0.00023800134658813477
          ],
          [
           0,
           0,
           0,
           0,
           0,
           0,
           0,
           0,
           0,
           0,
           0,
           0,
           0,
           0,
           0,
           1.001002550125122,
           -0.0011185407638549805,
           -0.0005364418029785156,
           0.00025922060012817383,
           0.0004398226737976074
          ],
          [
           0,
           0,
           0,
           0,
           0,
           0,
           0,
           0,
           0,
           0,
           0,
           0,
           0,
           0,
           0,
           0.9997162818908691,
           -0.001359105110168457,
           -0.0014344453811645508,
           0.00034040212631225586,
           0.00011682510375976562
          ],
          [
           0,
           0,
           0,
           0,
           0,
           0,
           0,
           0,
           0,
           0,
           0,
           0,
           0,
           0,
           0,
           0.9996595978736877,
           -0.0009157657623291016,
           -0.0012460947036743164,
           0.00035071372985839844,
           -0.0003682374954223633
          ],
          [
           0,
           0,
           0,
           0,
           0,
           0,
           0,
           0,
           0,
           0,
           0,
           0,
           0,
           0,
           0,
           0.9989252090454102,
           -0.0011684894561767578,
           -0.000626683235168457,
           0.00042241811752319336,
           -0.0001119375228881836
          ],
          [
           0,
           0,
           0,
           0,
           0,
           0,
           0,
           0,
           0,
           0,
           0,
           0,
           0,
           0,
           0,
           0.9996975660324097,
           1.519918441772461e-05,
           -0.0006711483001708984,
           -0.00012063980102539062,
           -0.0007226467132568359
          ],
          [
           0,
           0,
           0,
           0,
           0,
           0,
           0,
           0,
           0,
           0,
           0,
           0,
           0,
           0,
           0,
           0.9982591867446899,
           -0.0006747245788574219,
           -0.0003399848937988281,
           -0.00028073787689208984,
           -0.0005812644958496094
          ],
          [
           0,
           0,
           0,
           0,
           0,
           0,
           0,
           0,
           0,
           0,
           0,
           0,
           0,
           0,
           0,
           0.997183084487915,
           0.00014644861221313477,
           -0.0008540153503417969,
           -0.0006268024444580078,
           -0.0008374452590942383
          ],
          [
           0,
           0,
           0,
           0,
           0,
           0,
           0,
           0,
           0,
           0,
           0,
           0,
           0,
           0,
           0,
           0.9975796937942505,
           -0.0009851455688476562,
           -0.002032637596130371,
           -0.000748753547668457,
           0.0009428858757019043
          ],
          [
           0,
           0,
           0,
           0,
           0,
           0,
           0,
           0,
           0,
           0,
           0,
           0,
           0,
           0,
           0,
           0.9974750280380249,
           -0.0013033151626586914,
           -0.0021845102310180664,
           -0.0018763542175292969,
           0.000611722469329834
          ],
          [
           0,
           0,
           0,
           0,
           0,
           0,
           0,
           0,
           0,
           0,
           0,
           0,
           0,
           0,
           0,
           1.0011165142059326,
           0.0015837550163269043,
           -0.0012857913970947266,
           -0.0025635957717895508,
           0.0011144280433654785
          ],
          [
           0,
           0,
           0,
           0,
           0,
           0,
           0,
           0,
           0,
           0,
           0,
           0,
           0,
           0,
           0,
           0.9999122619628906,
           0.0017507672309875488,
           -0.001307845115661621,
           -0.0017639398574829102,
           0.0012385845184326172
          ],
          [
           0,
           0,
           0,
           0,
           0,
           0,
           0,
           0,
           0,
           0,
           0,
           0,
           0,
           0,
           0,
           1.0014724731445312,
           0.0029472708702087402,
           -0.0011899471282958984,
           -0.001825094223022461,
           0.0015406012535095215
          ],
          [
           0,
           0,
           0,
           0,
           0,
           0,
           0,
           0,
           0,
           0,
           0,
           0,
           0,
           0,
           0,
           1.0015931129455566,
           0.0029024481773376465,
           -0.0006113052368164062,
           -0.001857161521911621,
           0.001507401466369629
          ],
          [
           0,
           0,
           0,
           0,
           0,
           0,
           0,
           0,
           0,
           0,
           0,
           0,
           0,
           0,
           0,
           1.002014398574829,
           0.002437412738800049,
           -0.0007638931274414062,
           -0.0009891986846923828,
           0.0015646815299987793
          ],
          [
           0,
           0,
           0,
           0,
           0,
           0,
           0,
           0,
           0,
           0,
           0,
           0,
           0,
           0,
           0,
           1.0008314847946167,
           0.003570079803466797,
           -0.0006519556045532227,
           -0.0012153387069702148,
           0.002592027187347412
          ],
          [
           0,
           0,
           0,
           0,
           0,
           0,
           0,
           0,
           0,
           0,
           0,
           0,
           0,
           0,
           0,
           1.000342607498169,
           0.004790306091308594,
           -0.0009839534759521484,
           0.0002468228340148926,
           0.0014211535453796387
          ],
          [
           0,
           0,
           0,
           0,
           0,
           0,
           0,
           0,
           0,
           0,
           0,
           0,
           0,
           0,
           0,
           0.9994467496871948,
           0.0040280818939208984,
           -0.0009118318557739258,
           0.0002251267433166504,
           0.002858102321624756
          ],
          [
           0,
           0,
           0,
           0,
           0,
           0,
           0,
           0,
           0,
           0,
           0,
           0,
           0,
           0,
           0,
           1.001168131828308,
           0.006029903888702393,
           -0.0007545948028564453,
           0.0005037784576416016,
           0.0029509663581848145
          ],
          [
           0,
           0,
           0,
           0,
           0,
           0,
           0,
           0,
           0,
           0,
           0,
           0,
           0,
           0,
           0,
           1.002526044845581,
           0.006524920463562012,
           -0.0013766288757324219,
           0.0009468197822570801,
           0.0024127960205078125
          ],
          [
           0,
           0,
           0,
           0,
           0,
           0,
           0,
           0,
           0,
           0,
           0,
           0,
           0,
           0,
           0,
           0.9969130754470825,
           0.004722535610198975,
           -0.0019533634185791016,
           -0.0003020763397216797,
           0.0020244717597961426
          ],
          [
           0,
           0,
           0,
           0,
           0,
           0,
           0,
           0,
           0,
           0,
           0,
           0,
           0,
           0,
           0,
           0.9971956014633179,
           0.005193829536437988,
           -0.0022128820419311523,
           0.0009393692016601562,
           0.002754390239715576
          ],
          [
           0,
           0,
           0,
           0,
           0,
           0,
           0,
           0,
           0,
           0,
           0,
           0,
           0,
           0,
           0,
           0.9972228407859802,
           0.007502734661102295,
           -0.0021125078201293945,
           0.00044608116149902344,
           0.0009073019027709961
          ],
          [
           0,
           0,
           0,
           0,
           0,
           0,
           0,
           0,
           0,
           0,
           0,
           0,
           0,
           0,
           0,
           0.9916141033172607,
           0.007248282432556152,
           -0.00035262107849121094,
           0.0021771788597106934,
           0.009726345539093018
          ],
          [
           0,
           0,
           0,
           0,
           0,
           0,
           0,
           0,
           0,
           0,
           0,
           0,
           0,
           0,
           0,
           0.9809568524360657,
           0.004731237888336182,
           -0.0005546808242797852,
           0.0013530850410461426,
           0.01881265640258789
          ],
          [
           0,
           0,
           0,
           0,
           0,
           0,
           0,
           0,
           0,
           0,
           0,
           0,
           0,
           0,
           0,
           0.9803225994110107,
           0.004691720008850098,
           -0.00040793418884277344,
           0.0005456805229187012,
           0.018761157989501953
          ],
          [
           0,
           0,
           0,
           0,
           0,
           0,
           0,
           0,
           0,
           0,
           0,
           0,
           0,
           0,
           0,
           0.9698970913887024,
           0.005454599857330322,
           -0.00046837329864501953,
           0.0001767277717590332,
           0.02015388011932373
          ],
          [
           0,
           0,
           0,
           0,
           0,
           0,
           0,
           0,
           0,
           0,
           0,
           0,
           0,
           0,
           0,
           0.8096774220466614,
           0.028234899044036865,
           -0.0006625652313232422,
           0.0053975582122802734,
           0.12776881456375122
          ],
          [
           0,
           0,
           0,
           0,
           0,
           0,
           0,
           0,
           0,
           0,
           0,
           0,
           0,
           0,
           0,
           0.8107113838195801,
           0.027449846267700195,
           -0.00043702125549316406,
           0.005652368068695068,
           0.12711495161056519
          ],
          [
           0,
           0,
           0,
           0,
           0,
           0,
           0,
           0,
           0,
           0,
           0,
           0,
           0,
           0,
           0,
           0.8033660650253296,
           0.029087364673614502,
           4.45246696472168e-05,
           0.002827286720275879,
           0.13566774129867554
          ],
          [
           0,
           0,
           0,
           0,
           0,
           0,
           0,
           0,
           0,
           0,
           0,
           0,
           0,
           0,
           0,
           0.7994260787963867,
           0.027427375316619873,
           -0.0007817745208740234,
           0.0032578110694885254,
           0.14351683855056763
          ],
          [
           0,
           0,
           0,
           0,
           0,
           0,
           0,
           0,
           0,
           0,
           0,
           0,
           0,
           0,
           0,
           0.7965497970581055,
           0.023876607418060303,
           -0.0005265474319458008,
           0.0032500028610229492,
           0.14305603504180908
          ],
          [
           0,
           0,
           0,
           0,
           0,
           0,
           0,
           0,
           0,
           0,
           0,
           0,
           0,
           0,
           0,
           0.8476604223251343,
           -0.0033066272735595703,
           0.0008504390716552734,
           0.004830718040466309,
           0.22315335273742676
          ],
          [
           0,
           0,
           0,
           0,
           0,
           0,
           0,
           0,
           0,
           0,
           0,
           0,
           0,
           0,
           0,
           -0.0036590099334716797,
           0.004098713397979736,
           -0.00028502941131591797,
           0.0072380900382995605,
           0.9946416020393372
          ],
          [
           0,
           0,
           0,
           0,
           0,
           0,
           0,
           0,
           0,
           0,
           0,
           0,
           0,
           0,
           0,
           -0.0014004707336425781,
           0.0038074851036071777,
           -0.00030863285064697266,
           0.0041397809982299805,
           0.9945518970489502
          ],
          [
           0,
           0,
           0,
           0,
           0,
           0,
           0,
           0,
           0,
           0,
           0,
           0,
           0,
           0,
           0,
           -0.0012691020965576172,
           0.0023099780082702637,
           -0.0003247261047363281,
           0.0029066801071166992,
           0.995357871055603
          ],
          [
           0,
           0,
           0,
           0,
           0,
           0,
           0,
           0,
           0,
           0,
           0,
           0,
           0,
           0,
           0,
           -0.0010334253311157227,
           0.0023038387298583984,
           -0.00026679039001464844,
           0.0025426149368286133,
           0.9956250786781311
          ],
          [
           0,
           0,
           0,
           0,
           0,
           0,
           0,
           0,
           0,
           0,
           0,
           0,
           0,
           0,
           0,
           -0.0005213022232055664,
           0.001835465431213379,
           -0.00015091896057128906,
           0.001649320125579834,
           0.9960247874259949
          ],
          [
           0,
           0,
           0,
           0,
           0,
           0,
           0,
           0,
           0,
           0,
           0,
           0,
           0,
           0,
           0,
           -0.0003930330276489258,
           0.0013272762298583984,
           -0.00011169910430908203,
           0.0013875365257263184,
           0.9977098107337952
          ],
          [
           0,
           0,
           0,
           0,
           0,
           0,
           0,
           0,
           0,
           0,
           0,
           0,
           0,
           0,
           0,
           -0.00021398067474365234,
           0.0009033083915710449,
           -0.00017344951629638672,
           0.00047457218170166016,
           0.999134361743927
          ],
          [
           0,
           0,
           0,
           0,
           0,
           0,
           0,
           0,
           0,
           0,
           0,
           0,
           0,
           0,
           0,
           -0.000179290771484375,
           0.0004572868347167969,
           -0.00017690658569335938,
           4.303455352783203e-05,
           0.9998515844345093
          ],
          [
           0,
           0,
           0,
           0,
           0,
           0,
           0,
           0,
           0,
           0,
           0,
           0,
           0,
           0,
           0,
           0,
           0,
           0,
           0,
           1
          ]
         ]
        }
       ],
       "layout": {
        "autosize": true,
        "coloraxis": {
         "cmid": 0,
         "colorscale": [
          [
           0,
           "rgb(103,0,31)"
          ],
          [
           0.1,
           "rgb(178,24,43)"
          ],
          [
           0.2,
           "rgb(214,96,77)"
          ],
          [
           0.3,
           "rgb(244,165,130)"
          ],
          [
           0.4,
           "rgb(253,219,199)"
          ],
          [
           0.5,
           "rgb(247,247,247)"
          ],
          [
           0.6,
           "rgb(209,229,240)"
          ],
          [
           0.7,
           "rgb(146,197,222)"
          ],
          [
           0.8,
           "rgb(67,147,195)"
          ],
          [
           0.9,
           "rgb(33,102,172)"
          ],
          [
           1,
           "rgb(5,48,97)"
          ]
         ]
        },
        "template": {
         "data": {
          "bar": [
           {
            "error_x": {
             "color": "#2a3f5f"
            },
            "error_y": {
             "color": "#2a3f5f"
            },
            "marker": {
             "line": {
              "color": "#E5ECF6",
              "width": 0.5
             },
             "pattern": {
              "fillmode": "overlay",
              "size": 10,
              "solidity": 0.2
             }
            },
            "type": "bar"
           }
          ],
          "barpolar": [
           {
            "marker": {
             "line": {
              "color": "#E5ECF6",
              "width": 0.5
             },
             "pattern": {
              "fillmode": "overlay",
              "size": 10,
              "solidity": 0.2
             }
            },
            "type": "barpolar"
           }
          ],
          "carpet": [
           {
            "aaxis": {
             "endlinecolor": "#2a3f5f",
             "gridcolor": "white",
             "linecolor": "white",
             "minorgridcolor": "white",
             "startlinecolor": "#2a3f5f"
            },
            "baxis": {
             "endlinecolor": "#2a3f5f",
             "gridcolor": "white",
             "linecolor": "white",
             "minorgridcolor": "white",
             "startlinecolor": "#2a3f5f"
            },
            "type": "carpet"
           }
          ],
          "choropleth": [
           {
            "colorbar": {
             "outlinewidth": 0,
             "ticks": ""
            },
            "type": "choropleth"
           }
          ],
          "contour": [
           {
            "colorbar": {
             "outlinewidth": 0,
             "ticks": ""
            },
            "colorscale": [
             [
              0,
              "#0d0887"
             ],
             [
              0.1111111111111111,
              "#46039f"
             ],
             [
              0.2222222222222222,
              "#7201a8"
             ],
             [
              0.3333333333333333,
              "#9c179e"
             ],
             [
              0.4444444444444444,
              "#bd3786"
             ],
             [
              0.5555555555555556,
              "#d8576b"
             ],
             [
              0.6666666666666666,
              "#ed7953"
             ],
             [
              0.7777777777777778,
              "#fb9f3a"
             ],
             [
              0.8888888888888888,
              "#fdca26"
             ],
             [
              1,
              "#f0f921"
             ]
            ],
            "type": "contour"
           }
          ],
          "contourcarpet": [
           {
            "colorbar": {
             "outlinewidth": 0,
             "ticks": ""
            },
            "type": "contourcarpet"
           }
          ],
          "heatmap": [
           {
            "colorbar": {
             "outlinewidth": 0,
             "ticks": ""
            },
            "colorscale": [
             [
              0,
              "#0d0887"
             ],
             [
              0.1111111111111111,
              "#46039f"
             ],
             [
              0.2222222222222222,
              "#7201a8"
             ],
             [
              0.3333333333333333,
              "#9c179e"
             ],
             [
              0.4444444444444444,
              "#bd3786"
             ],
             [
              0.5555555555555556,
              "#d8576b"
             ],
             [
              0.6666666666666666,
              "#ed7953"
             ],
             [
              0.7777777777777778,
              "#fb9f3a"
             ],
             [
              0.8888888888888888,
              "#fdca26"
             ],
             [
              1,
              "#f0f921"
             ]
            ],
            "type": "heatmap"
           }
          ],
          "heatmapgl": [
           {
            "colorbar": {
             "outlinewidth": 0,
             "ticks": ""
            },
            "colorscale": [
             [
              0,
              "#0d0887"
             ],
             [
              0.1111111111111111,
              "#46039f"
             ],
             [
              0.2222222222222222,
              "#7201a8"
             ],
             [
              0.3333333333333333,
              "#9c179e"
             ],
             [
              0.4444444444444444,
              "#bd3786"
             ],
             [
              0.5555555555555556,
              "#d8576b"
             ],
             [
              0.6666666666666666,
              "#ed7953"
             ],
             [
              0.7777777777777778,
              "#fb9f3a"
             ],
             [
              0.8888888888888888,
              "#fdca26"
             ],
             [
              1,
              "#f0f921"
             ]
            ],
            "type": "heatmapgl"
           }
          ],
          "histogram": [
           {
            "marker": {
             "pattern": {
              "fillmode": "overlay",
              "size": 10,
              "solidity": 0.2
             }
            },
            "type": "histogram"
           }
          ],
          "histogram2d": [
           {
            "colorbar": {
             "outlinewidth": 0,
             "ticks": ""
            },
            "colorscale": [
             [
              0,
              "#0d0887"
             ],
             [
              0.1111111111111111,
              "#46039f"
             ],
             [
              0.2222222222222222,
              "#7201a8"
             ],
             [
              0.3333333333333333,
              "#9c179e"
             ],
             [
              0.4444444444444444,
              "#bd3786"
             ],
             [
              0.5555555555555556,
              "#d8576b"
             ],
             [
              0.6666666666666666,
              "#ed7953"
             ],
             [
              0.7777777777777778,
              "#fb9f3a"
             ],
             [
              0.8888888888888888,
              "#fdca26"
             ],
             [
              1,
              "#f0f921"
             ]
            ],
            "type": "histogram2d"
           }
          ],
          "histogram2dcontour": [
           {
            "colorbar": {
             "outlinewidth": 0,
             "ticks": ""
            },
            "colorscale": [
             [
              0,
              "#0d0887"
             ],
             [
              0.1111111111111111,
              "#46039f"
             ],
             [
              0.2222222222222222,
              "#7201a8"
             ],
             [
              0.3333333333333333,
              "#9c179e"
             ],
             [
              0.4444444444444444,
              "#bd3786"
             ],
             [
              0.5555555555555556,
              "#d8576b"
             ],
             [
              0.6666666666666666,
              "#ed7953"
             ],
             [
              0.7777777777777778,
              "#fb9f3a"
             ],
             [
              0.8888888888888888,
              "#fdca26"
             ],
             [
              1,
              "#f0f921"
             ]
            ],
            "type": "histogram2dcontour"
           }
          ],
          "mesh3d": [
           {
            "colorbar": {
             "outlinewidth": 0,
             "ticks": ""
            },
            "type": "mesh3d"
           }
          ],
          "parcoords": [
           {
            "line": {
             "colorbar": {
              "outlinewidth": 0,
              "ticks": ""
             }
            },
            "type": "parcoords"
           }
          ],
          "pie": [
           {
            "automargin": true,
            "type": "pie"
           }
          ],
          "scatter": [
           {
            "fillpattern": {
             "fillmode": "overlay",
             "size": 10,
             "solidity": 0.2
            },
            "type": "scatter"
           }
          ],
          "scatter3d": [
           {
            "line": {
             "colorbar": {
              "outlinewidth": 0,
              "ticks": ""
             }
            },
            "marker": {
             "colorbar": {
              "outlinewidth": 0,
              "ticks": ""
             }
            },
            "type": "scatter3d"
           }
          ],
          "scattercarpet": [
           {
            "marker": {
             "colorbar": {
              "outlinewidth": 0,
              "ticks": ""
             }
            },
            "type": "scattercarpet"
           }
          ],
          "scattergeo": [
           {
            "marker": {
             "colorbar": {
              "outlinewidth": 0,
              "ticks": ""
             }
            },
            "type": "scattergeo"
           }
          ],
          "scattergl": [
           {
            "marker": {
             "colorbar": {
              "outlinewidth": 0,
              "ticks": ""
             }
            },
            "type": "scattergl"
           }
          ],
          "scattermapbox": [
           {
            "marker": {
             "colorbar": {
              "outlinewidth": 0,
              "ticks": ""
             }
            },
            "type": "scattermapbox"
           }
          ],
          "scatterpolar": [
           {
            "marker": {
             "colorbar": {
              "outlinewidth": 0,
              "ticks": ""
             }
            },
            "type": "scatterpolar"
           }
          ],
          "scatterpolargl": [
           {
            "marker": {
             "colorbar": {
              "outlinewidth": 0,
              "ticks": ""
             }
            },
            "type": "scatterpolargl"
           }
          ],
          "scatterternary": [
           {
            "marker": {
             "colorbar": {
              "outlinewidth": 0,
              "ticks": ""
             }
            },
            "type": "scatterternary"
           }
          ],
          "surface": [
           {
            "colorbar": {
             "outlinewidth": 0,
             "ticks": ""
            },
            "colorscale": [
             [
              0,
              "#0d0887"
             ],
             [
              0.1111111111111111,
              "#46039f"
             ],
             [
              0.2222222222222222,
              "#7201a8"
             ],
             [
              0.3333333333333333,
              "#9c179e"
             ],
             [
              0.4444444444444444,
              "#bd3786"
             ],
             [
              0.5555555555555556,
              "#d8576b"
             ],
             [
              0.6666666666666666,
              "#ed7953"
             ],
             [
              0.7777777777777778,
              "#fb9f3a"
             ],
             [
              0.8888888888888888,
              "#fdca26"
             ],
             [
              1,
              "#f0f921"
             ]
            ],
            "type": "surface"
           }
          ],
          "table": [
           {
            "cells": {
             "fill": {
              "color": "#EBF0F8"
             },
             "line": {
              "color": "white"
             }
            },
            "header": {
             "fill": {
              "color": "#C8D4E3"
             },
             "line": {
              "color": "white"
             }
            },
            "type": "table"
           }
          ]
         },
         "layout": {
          "annotationdefaults": {
           "arrowcolor": "#2a3f5f",
           "arrowhead": 0,
           "arrowwidth": 1
          },
          "autotypenumbers": "strict",
          "coloraxis": {
           "colorbar": {
            "outlinewidth": 0,
            "ticks": ""
           }
          },
          "colorscale": {
           "diverging": [
            [
             0,
             "#8e0152"
            ],
            [
             0.1,
             "#c51b7d"
            ],
            [
             0.2,
             "#de77ae"
            ],
            [
             0.3,
             "#f1b6da"
            ],
            [
             0.4,
             "#fde0ef"
            ],
            [
             0.5,
             "#f7f7f7"
            ],
            [
             0.6,
             "#e6f5d0"
            ],
            [
             0.7,
             "#b8e186"
            ],
            [
             0.8,
             "#7fbc41"
            ],
            [
             0.9,
             "#4d9221"
            ],
            [
             1,
             "#276419"
            ]
           ],
           "sequential": [
            [
             0,
             "#0d0887"
            ],
            [
             0.1111111111111111,
             "#46039f"
            ],
            [
             0.2222222222222222,
             "#7201a8"
            ],
            [
             0.3333333333333333,
             "#9c179e"
            ],
            [
             0.4444444444444444,
             "#bd3786"
            ],
            [
             0.5555555555555556,
             "#d8576b"
            ],
            [
             0.6666666666666666,
             "#ed7953"
            ],
            [
             0.7777777777777778,
             "#fb9f3a"
            ],
            [
             0.8888888888888888,
             "#fdca26"
            ],
            [
             1,
             "#f0f921"
            ]
           ],
           "sequentialminus": [
            [
             0,
             "#0d0887"
            ],
            [
             0.1111111111111111,
             "#46039f"
            ],
            [
             0.2222222222222222,
             "#7201a8"
            ],
            [
             0.3333333333333333,
             "#9c179e"
            ],
            [
             0.4444444444444444,
             "#bd3786"
            ],
            [
             0.5555555555555556,
             "#d8576b"
            ],
            [
             0.6666666666666666,
             "#ed7953"
            ],
            [
             0.7777777777777778,
             "#fb9f3a"
            ],
            [
             0.8888888888888888,
             "#fdca26"
            ],
            [
             1,
             "#f0f921"
            ]
           ]
          },
          "colorway": [
           "#636efa",
           "#EF553B",
           "#00cc96",
           "#ab63fa",
           "#FFA15A",
           "#19d3f3",
           "#FF6692",
           "#B6E880",
           "#FF97FF",
           "#FECB52"
          ],
          "font": {
           "color": "#2a3f5f"
          },
          "geo": {
           "bgcolor": "white",
           "lakecolor": "white",
           "landcolor": "#E5ECF6",
           "showlakes": true,
           "showland": true,
           "subunitcolor": "white"
          },
          "hoverlabel": {
           "align": "left"
          },
          "hovermode": "closest",
          "mapbox": {
           "style": "light"
          },
          "paper_bgcolor": "white",
          "plot_bgcolor": "#E5ECF6",
          "polar": {
           "angularaxis": {
            "gridcolor": "white",
            "linecolor": "white",
            "ticks": ""
           },
           "bgcolor": "#E5ECF6",
           "radialaxis": {
            "gridcolor": "white",
            "linecolor": "white",
            "ticks": ""
           }
          },
          "scene": {
           "xaxis": {
            "backgroundcolor": "#E5ECF6",
            "gridcolor": "white",
            "gridwidth": 2,
            "linecolor": "white",
            "showbackground": true,
            "ticks": "",
            "zerolinecolor": "white"
           },
           "yaxis": {
            "backgroundcolor": "#E5ECF6",
            "gridcolor": "white",
            "gridwidth": 2,
            "linecolor": "white",
            "showbackground": true,
            "ticks": "",
            "zerolinecolor": "white"
           },
           "zaxis": {
            "backgroundcolor": "#E5ECF6",
            "gridcolor": "white",
            "gridwidth": 2,
            "linecolor": "white",
            "showbackground": true,
            "ticks": "",
            "zerolinecolor": "white"
           }
          },
          "shapedefaults": {
           "line": {
            "color": "#2a3f5f"
           }
          },
          "ternary": {
           "aaxis": {
            "gridcolor": "white",
            "linecolor": "white",
            "ticks": ""
           },
           "baxis": {
            "gridcolor": "white",
            "linecolor": "white",
            "ticks": ""
           },
           "bgcolor": "#E5ECF6",
           "caxis": {
            "gridcolor": "white",
            "linecolor": "white",
            "ticks": ""
           }
          },
          "title": {
           "x": 0.05
          },
          "xaxis": {
           "automargin": true,
           "gridcolor": "white",
           "linecolor": "white",
           "ticks": "",
           "title": {
            "standoff": 15
           },
           "zerolinecolor": "white",
           "zerolinewidth": 2
          },
          "yaxis": {
           "automargin": true,
           "gridcolor": "white",
           "linecolor": "white",
           "ticks": "",
           "title": {
            "standoff": 15
           },
           "zerolinecolor": "white",
           "zerolinewidth": 2
          }
         }
        },
        "title": {
         "text": "Normalized Logit Difference After Patching blocks.{layer}.hook_resid_post"
        },
        "xaxis": {
         "anchor": "y",
         "autorange": true,
         "constrain": "domain",
         "domain": [
          0,
          1
         ],
         "range": [
          -0.5,
          19.5
         ],
         "scaleanchor": "y",
         "title": {
          "text": "Position"
         },
         "type": "category"
        },
        "yaxis": {
         "anchor": "x",
         "autorange": true,
         "constrain": "domain",
         "domain": [
          0,
          1
         ],
         "range": [
          47.5,
          -0.5
         ],
         "title": {
          "text": "Layer"
         }
        }
       }
      },
      "image/png": "[encoded data removed]",
      "text/html": [
       "<div>                            <div id=\"245ed0cc-b6a1-4acb-a03d-f551d8e3a1ad\" class=\"plotly-graph-div\" style=\"height:525px; width:100%;\"></div>            <script type=\"text/javascript\">                require([\"plotly\"], function(Plotly) {                    window.PLOTLYENV=window.PLOTLYENV || {};                                    if (document.getElementById(\"245ed0cc-b6a1-4acb-a03d-f551d8e3a1ad\")) {                    Plotly.newPlot(                        \"245ed0cc-b6a1-4acb-a03d-f551d8e3a1ad\",                        [{\"coloraxis\":\"coloraxis\",\"name\":\"0\",\"x\":[\"\\u003c|endoftext|\\u003e_0\",\"Then_1\",\",_2\",\" Shelby_3\",\" and_4\",\" Emma_5\",\" had_6\",\" a_7\",\" lot_8\",\" of_9\",\" fun_10\",\" at_11\",\" the_12\",\" school_13\",\"._14\",\" Shelby-\\u003e Emma_15\",\" gave_16\",\" a_17\",\" kiss_18\",\" to_19\"],\"z\":[[0.0,0.0,0.0,0.0,0.0,0.0,0.0,0.0,0.0,0.0,0.0,0.0,0.0,0.0,0.0,0.9995300769805908,-5.984306335449219e-05,0.00021207332611083984,0.0015602707862854004,-1.2755393981933594e-05],[0.0,0.0,0.0,0.0,0.0,0.0,0.0,0.0,0.0,0.0,0.0,0.0,0.0,0.0,0.0,0.9989647269248962,4.6372413635253906e-05,-0.0004260540008544922,0.0019400715827941895,-0.0003495216369628906],[0.0,0.0,0.0,0.0,0.0,0.0,0.0,0.0,0.0,0.0,0.0,0.0,0.0,0.0,0.0,1.0019409656524658,-5.9604644775390625e-05,-0.001088857650756836,0.0012863874435424805,0.00032836198806762695],[0.0,0.0,0.0,0.0,0.0,0.0,0.0,0.0,0.0,0.0,0.0,0.0,0.0,0.0,0.0,1.0037392377853394,0.00026172399520874023,-0.0005332231521606445,0.0006709694862365723,0.0005216002464294434],[0.0,0.0,0.0,0.0,0.0,0.0,0.0,0.0,0.0,0.0,0.0,0.0,0.0,0.0,0.0,1.003391146659851,-0.0005966424942016602,-0.0004900693893432617,0.0009772181510925293,9.369850158691406e-05],[0.0,0.0,0.0,0.0,0.0,0.0,0.0,0.0,0.0,0.0,0.0,0.0,0.0,0.0,0.0,1.0046888589859009,-0.0012458562850952148,-0.0006269216537475586,0.0008661150932312012,-5.650520324707031e-05],[0.0,0.0,0.0,0.0,0.0,0.0,0.0,0.0,0.0,0.0,0.0,0.0,0.0,0.0,0.0,1.0018936395645142,-0.0017087459564208984,-0.0003713369369506836,0.0008275508880615234,0.00023800134658813477],[0.0,0.0,0.0,0.0,0.0,0.0,0.0,0.0,0.0,0.0,0.0,0.0,0.0,0.0,0.0,1.001002550125122,-0.0011185407638549805,-0.0005364418029785156,0.00025922060012817383,0.0004398226737976074],[0.0,0.0,0.0,0.0,0.0,0.0,0.0,0.0,0.0,0.0,0.0,0.0,0.0,0.0,0.0,0.9997162818908691,-0.001359105110168457,-0.0014344453811645508,0.00034040212631225586,0.00011682510375976562],[0.0,0.0,0.0,0.0,0.0,0.0,0.0,0.0,0.0,0.0,0.0,0.0,0.0,0.0,0.0,0.9996595978736877,-0.0009157657623291016,-0.0012460947036743164,0.00035071372985839844,-0.0003682374954223633],[0.0,0.0,0.0,0.0,0.0,0.0,0.0,0.0,0.0,0.0,0.0,0.0,0.0,0.0,0.0,0.9989252090454102,-0.0011684894561767578,-0.000626683235168457,0.00042241811752319336,-0.0001119375228881836],[0.0,0.0,0.0,0.0,0.0,0.0,0.0,0.0,0.0,0.0,0.0,0.0,0.0,0.0,0.0,0.9996975660324097,1.519918441772461e-05,-0.0006711483001708984,-0.00012063980102539062,-0.0007226467132568359],[0.0,0.0,0.0,0.0,0.0,0.0,0.0,0.0,0.0,0.0,0.0,0.0,0.0,0.0,0.0,0.9982591867446899,-0.0006747245788574219,-0.0003399848937988281,-0.00028073787689208984,-0.0005812644958496094],[0.0,0.0,0.0,0.0,0.0,0.0,0.0,0.0,0.0,0.0,0.0,0.0,0.0,0.0,0.0,0.997183084487915,0.00014644861221313477,-0.0008540153503417969,-0.0006268024444580078,-0.0008374452590942383],[0.0,0.0,0.0,0.0,0.0,0.0,0.0,0.0,0.0,0.0,0.0,0.0,0.0,0.0,0.0,0.9975796937942505,-0.0009851455688476562,-0.002032637596130371,-0.000748753547668457,0.0009428858757019043],[0.0,0.0,0.0,0.0,0.0,0.0,0.0,0.0,0.0,0.0,0.0,0.0,0.0,0.0,0.0,0.9974750280380249,-0.0013033151626586914,-0.0021845102310180664,-0.0018763542175292969,0.000611722469329834],[0.0,0.0,0.0,0.0,0.0,0.0,0.0,0.0,0.0,0.0,0.0,0.0,0.0,0.0,0.0,1.0011165142059326,0.0015837550163269043,-0.0012857913970947266,-0.0025635957717895508,0.0011144280433654785],[0.0,0.0,0.0,0.0,0.0,0.0,0.0,0.0,0.0,0.0,0.0,0.0,0.0,0.0,0.0,0.9999122619628906,0.0017507672309875488,-0.001307845115661621,-0.0017639398574829102,0.0012385845184326172],[0.0,0.0,0.0,0.0,0.0,0.0,0.0,0.0,0.0,0.0,0.0,0.0,0.0,0.0,0.0,1.0014724731445312,0.0029472708702087402,-0.0011899471282958984,-0.001825094223022461,0.0015406012535095215],[0.0,0.0,0.0,0.0,0.0,0.0,0.0,0.0,0.0,0.0,0.0,0.0,0.0,0.0,0.0,1.0015931129455566,0.0029024481773376465,-0.0006113052368164062,-0.001857161521911621,0.001507401466369629],[0.0,0.0,0.0,0.0,0.0,0.0,0.0,0.0,0.0,0.0,0.0,0.0,0.0,0.0,0.0,1.002014398574829,0.002437412738800049,-0.0007638931274414062,-0.0009891986846923828,0.0015646815299987793],[0.0,0.0,0.0,0.0,0.0,0.0,0.0,0.0,0.0,0.0,0.0,0.0,0.0,0.0,0.0,1.0008314847946167,0.003570079803466797,-0.0006519556045532227,-0.0012153387069702148,0.002592027187347412],[0.0,0.0,0.0,0.0,0.0,0.0,0.0,0.0,0.0,0.0,0.0,0.0,0.0,0.0,0.0,1.000342607498169,0.004790306091308594,-0.0009839534759521484,0.0002468228340148926,0.0014211535453796387],[0.0,0.0,0.0,0.0,0.0,0.0,0.0,0.0,0.0,0.0,0.0,0.0,0.0,0.0,0.0,0.9994467496871948,0.0040280818939208984,-0.0009118318557739258,0.0002251267433166504,0.002858102321624756],[0.0,0.0,0.0,0.0,0.0,0.0,0.0,0.0,0.0,0.0,0.0,0.0,0.0,0.0,0.0,1.001168131828308,0.006029903888702393,-0.0007545948028564453,0.0005037784576416016,0.0029509663581848145],[0.0,0.0,0.0,0.0,0.0,0.0,0.0,0.0,0.0,0.0,0.0,0.0,0.0,0.0,0.0,1.002526044845581,0.006524920463562012,-0.0013766288757324219,0.0009468197822570801,0.0024127960205078125],[0.0,0.0,0.0,0.0,0.0,0.0,0.0,0.0,0.0,0.0,0.0,0.0,0.0,0.0,0.0,0.9969130754470825,0.004722535610198975,-0.0019533634185791016,-0.0003020763397216797,0.0020244717597961426],[0.0,0.0,0.0,0.0,0.0,0.0,0.0,0.0,0.0,0.0,0.0,0.0,0.0,0.0,0.0,0.9971956014633179,0.005193829536437988,-0.0022128820419311523,0.0009393692016601562,0.002754390239715576],[0.0,0.0,0.0,0.0,0.0,0.0,0.0,0.0,0.0,0.0,0.0,0.0,0.0,0.0,0.0,0.9972228407859802,0.007502734661102295,-0.0021125078201293945,0.00044608116149902344,0.0009073019027709961],[0.0,0.0,0.0,0.0,0.0,0.0,0.0,0.0,0.0,0.0,0.0,0.0,0.0,0.0,0.0,0.9916141033172607,0.007248282432556152,-0.00035262107849121094,0.0021771788597106934,0.009726345539093018],[0.0,0.0,0.0,0.0,0.0,0.0,0.0,0.0,0.0,0.0,0.0,0.0,0.0,0.0,0.0,0.9809568524360657,0.004731237888336182,-0.0005546808242797852,0.0013530850410461426,0.01881265640258789],[0.0,0.0,0.0,0.0,0.0,0.0,0.0,0.0,0.0,0.0,0.0,0.0,0.0,0.0,0.0,0.9803225994110107,0.004691720008850098,-0.00040793418884277344,0.0005456805229187012,0.018761157989501953],[0.0,0.0,0.0,0.0,0.0,0.0,0.0,0.0,0.0,0.0,0.0,0.0,0.0,0.0,0.0,0.9698970913887024,0.005454599857330322,-0.00046837329864501953,0.0001767277717590332,0.02015388011932373],[0.0,0.0,0.0,0.0,0.0,0.0,0.0,0.0,0.0,0.0,0.0,0.0,0.0,0.0,0.0,0.8096774220466614,0.028234899044036865,-0.0006625652313232422,0.0053975582122802734,0.12776881456375122],[0.0,0.0,0.0,0.0,0.0,0.0,0.0,0.0,0.0,0.0,0.0,0.0,0.0,0.0,0.0,0.8107113838195801,0.027449846267700195,-0.00043702125549316406,0.005652368068695068,0.12711495161056519],[0.0,0.0,0.0,0.0,0.0,0.0,0.0,0.0,0.0,0.0,0.0,0.0,0.0,0.0,0.0,0.8033660650253296,0.029087364673614502,4.45246696472168e-05,0.002827286720275879,0.13566774129867554],[0.0,0.0,0.0,0.0,0.0,0.0,0.0,0.0,0.0,0.0,0.0,0.0,0.0,0.0,0.0,0.7994260787963867,0.027427375316619873,-0.0007817745208740234,0.0032578110694885254,0.14351683855056763],[0.0,0.0,0.0,0.0,0.0,0.0,0.0,0.0,0.0,0.0,0.0,0.0,0.0,0.0,0.0,0.7965497970581055,0.023876607418060303,-0.0005265474319458008,0.0032500028610229492,0.14305603504180908],[0.0,0.0,0.0,0.0,0.0,0.0,0.0,0.0,0.0,0.0,0.0,0.0,0.0,0.0,0.0,0.8476604223251343,-0.0033066272735595703,0.0008504390716552734,0.004830718040466309,0.22315335273742676],[0.0,0.0,0.0,0.0,0.0,0.0,0.0,0.0,0.0,0.0,0.0,0.0,0.0,0.0,0.0,-0.0036590099334716797,0.004098713397979736,-0.00028502941131591797,0.0072380900382995605,0.9946416020393372],[0.0,0.0,0.0,0.0,0.0,0.0,0.0,0.0,0.0,0.0,0.0,0.0,0.0,0.0,0.0,-0.0014004707336425781,0.0038074851036071777,-0.00030863285064697266,0.0041397809982299805,0.9945518970489502],[0.0,0.0,0.0,0.0,0.0,0.0,0.0,0.0,0.0,0.0,0.0,0.0,0.0,0.0,0.0,-0.0012691020965576172,0.0023099780082702637,-0.0003247261047363281,0.0029066801071166992,0.995357871055603],[0.0,0.0,0.0,0.0,0.0,0.0,0.0,0.0,0.0,0.0,0.0,0.0,0.0,0.0,0.0,-0.0010334253311157227,0.0023038387298583984,-0.00026679039001464844,0.0025426149368286133,0.9956250786781311],[0.0,0.0,0.0,0.0,0.0,0.0,0.0,0.0,0.0,0.0,0.0,0.0,0.0,0.0,0.0,-0.0005213022232055664,0.001835465431213379,-0.00015091896057128906,0.001649320125579834,0.9960247874259949],[0.0,0.0,0.0,0.0,0.0,0.0,0.0,0.0,0.0,0.0,0.0,0.0,0.0,0.0,0.0,-0.0003930330276489258,0.0013272762298583984,-0.00011169910430908203,0.0013875365257263184,0.9977098107337952],[0.0,0.0,0.0,0.0,0.0,0.0,0.0,0.0,0.0,0.0,0.0,0.0,0.0,0.0,0.0,-0.00021398067474365234,0.0009033083915710449,-0.00017344951629638672,0.00047457218170166016,0.999134361743927],[0.0,0.0,0.0,0.0,0.0,0.0,0.0,0.0,0.0,0.0,0.0,0.0,0.0,0.0,0.0,-0.000179290771484375,0.0004572868347167969,-0.00017690658569335938,4.303455352783203e-05,0.9998515844345093],[0.0,0.0,0.0,0.0,0.0,0.0,0.0,0.0,0.0,0.0,0.0,0.0,0.0,0.0,0.0,0.0,0.0,0.0,0.0,1.0]],\"type\":\"heatmap\",\"xaxis\":\"x\",\"yaxis\":\"y\",\"hovertemplate\":\"Position: %{x}\\u003cbr\\u003eLayer: %{y}\\u003cbr\\u003ecolor: %{z}\\u003cextra\\u003e\\u003c\\u002fextra\\u003e\"}],                        {\"template\":{\"data\":{\"histogram2dcontour\":[{\"type\":\"histogram2dcontour\",\"colorbar\":{\"outlinewidth\":0,\"ticks\":\"\"},\"colorscale\":[[0.0,\"#0d0887\"],[0.1111111111111111,\"#46039f\"],[0.2222222222222222,\"#7201a8\"],[0.3333333333333333,\"#9c179e\"],[0.4444444444444444,\"#bd3786\"],[0.5555555555555556,\"#d8576b\"],[0.6666666666666666,\"#ed7953\"],[0.7777777777777778,\"#fb9f3a\"],[0.8888888888888888,\"#fdca26\"],[1.0,\"#f0f921\"]]}],\"choropleth\":[{\"type\":\"choropleth\",\"colorbar\":{\"outlinewidth\":0,\"ticks\":\"\"}}],\"histogram2d\":[{\"type\":\"histogram2d\",\"colorbar\":{\"outlinewidth\":0,\"ticks\":\"\"},\"colorscale\":[[0.0,\"#0d0887\"],[0.1111111111111111,\"#46039f\"],[0.2222222222222222,\"#7201a8\"],[0.3333333333333333,\"#9c179e\"],[0.4444444444444444,\"#bd3786\"],[0.5555555555555556,\"#d8576b\"],[0.6666666666666666,\"#ed7953\"],[0.7777777777777778,\"#fb9f3a\"],[0.8888888888888888,\"#fdca26\"],[1.0,\"#f0f921\"]]}],\"heatmap\":[{\"type\":\"heatmap\",\"colorbar\":{\"outlinewidth\":0,\"ticks\":\"\"},\"colorscale\":[[0.0,\"#0d0887\"],[0.1111111111111111,\"#46039f\"],[0.2222222222222222,\"#7201a8\"],[0.3333333333333333,\"#9c179e\"],[0.4444444444444444,\"#bd3786\"],[0.5555555555555556,\"#d8576b\"],[0.6666666666666666,\"#ed7953\"],[0.7777777777777778,\"#fb9f3a\"],[0.8888888888888888,\"#fdca26\"],[1.0,\"#f0f921\"]]}],\"heatmapgl\":[{\"type\":\"heatmapgl\",\"colorbar\":{\"outlinewidth\":0,\"ticks\":\"\"},\"colorscale\":[[0.0,\"#0d0887\"],[0.1111111111111111,\"#46039f\"],[0.2222222222222222,\"#7201a8\"],[0.3333333333333333,\"#9c179e\"],[0.4444444444444444,\"#bd3786\"],[0.5555555555555556,\"#d8576b\"],[0.6666666666666666,\"#ed7953\"],[0.7777777777777778,\"#fb9f3a\"],[0.8888888888888888,\"#fdca26\"],[1.0,\"#f0f921\"]]}],\"contourcarpet\":[{\"type\":\"contourcarpet\",\"colorbar\":{\"outlinewidth\":0,\"ticks\":\"\"}}],\"contour\":[{\"type\":\"contour\",\"colorbar\":{\"outlinewidth\":0,\"ticks\":\"\"},\"colorscale\":[[0.0,\"#0d0887\"],[0.1111111111111111,\"#46039f\"],[0.2222222222222222,\"#7201a8\"],[0.3333333333333333,\"#9c179e\"],[0.4444444444444444,\"#bd3786\"],[0.5555555555555556,\"#d8576b\"],[0.6666666666666666,\"#ed7953\"],[0.7777777777777778,\"#fb9f3a\"],[0.8888888888888888,\"#fdca26\"],[1.0,\"#f0f921\"]]}],\"surface\":[{\"type\":\"surface\",\"colorbar\":{\"outlinewidth\":0,\"ticks\":\"\"},\"colorscale\":[[0.0,\"#0d0887\"],[0.1111111111111111,\"#46039f\"],[0.2222222222222222,\"#7201a8\"],[0.3333333333333333,\"#9c179e\"],[0.4444444444444444,\"#bd3786\"],[0.5555555555555556,\"#d8576b\"],[0.6666666666666666,\"#ed7953\"],[0.7777777777777778,\"#fb9f3a\"],[0.8888888888888888,\"#fdca26\"],[1.0,\"#f0f921\"]]}],\"mesh3d\":[{\"type\":\"mesh3d\",\"colorbar\":{\"outlinewidth\":0,\"ticks\":\"\"}}],\"scatter\":[{\"fillpattern\":{\"fillmode\":\"overlay\",\"size\":10,\"solidity\":0.2},\"type\":\"scatter\"}],\"parcoords\":[{\"type\":\"parcoords\",\"line\":{\"colorbar\":{\"outlinewidth\":0,\"ticks\":\"\"}}}],\"scatterpolargl\":[{\"type\":\"scatterpolargl\",\"marker\":{\"colorbar\":{\"outlinewidth\":0,\"ticks\":\"\"}}}],\"bar\":[{\"error_x\":{\"color\":\"#2a3f5f\"},\"error_y\":{\"color\":\"#2a3f5f\"},\"marker\":{\"line\":{\"color\":\"#E5ECF6\",\"width\":0.5},\"pattern\":{\"fillmode\":\"overlay\",\"size\":10,\"solidity\":0.2}},\"type\":\"bar\"}],\"scattergeo\":[{\"type\":\"scattergeo\",\"marker\":{\"colorbar\":{\"outlinewidth\":0,\"ticks\":\"\"}}}],\"scatterpolar\":[{\"type\":\"scatterpolar\",\"marker\":{\"colorbar\":{\"outlinewidth\":0,\"ticks\":\"\"}}}],\"histogram\":[{\"marker\":{\"pattern\":{\"fillmode\":\"overlay\",\"size\":10,\"solidity\":0.2}},\"type\":\"histogram\"}],\"scattergl\":[{\"type\":\"scattergl\",\"marker\":{\"colorbar\":{\"outlinewidth\":0,\"ticks\":\"\"}}}],\"scatter3d\":[{\"type\":\"scatter3d\",\"line\":{\"colorbar\":{\"outlinewidth\":0,\"ticks\":\"\"}},\"marker\":{\"colorbar\":{\"outlinewidth\":0,\"ticks\":\"\"}}}],\"scattermapbox\":[{\"type\":\"scattermapbox\",\"marker\":{\"colorbar\":{\"outlinewidth\":0,\"ticks\":\"\"}}}],\"scatterternary\":[{\"type\":\"scatterternary\",\"marker\":{\"colorbar\":{\"outlinewidth\":0,\"ticks\":\"\"}}}],\"scattercarpet\":[{\"type\":\"scattercarpet\",\"marker\":{\"colorbar\":{\"outlinewidth\":0,\"ticks\":\"\"}}}],\"carpet\":[{\"aaxis\":{\"endlinecolor\":\"#2a3f5f\",\"gridcolor\":\"white\",\"linecolor\":\"white\",\"minorgridcolor\":\"white\",\"startlinecolor\":\"#2a3f5f\"},\"baxis\":{\"endlinecolor\":\"#2a3f5f\",\"gridcolor\":\"white\",\"linecolor\":\"white\",\"minorgridcolor\":\"white\",\"startlinecolor\":\"#2a3f5f\"},\"type\":\"carpet\"}],\"table\":[{\"cells\":{\"fill\":{\"color\":\"#EBF0F8\"},\"line\":{\"color\":\"white\"}},\"header\":{\"fill\":{\"color\":\"#C8D4E3\"},\"line\":{\"color\":\"white\"}},\"type\":\"table\"}],\"barpolar\":[{\"marker\":{\"line\":{\"color\":\"#E5ECF6\",\"width\":0.5},\"pattern\":{\"fillmode\":\"overlay\",\"size\":10,\"solidity\":0.2}},\"type\":\"barpolar\"}],\"pie\":[{\"automargin\":true,\"type\":\"pie\"}]},\"layout\":{\"autotypenumbers\":\"strict\",\"colorway\":[\"#636efa\",\"#EF553B\",\"#00cc96\",\"#ab63fa\",\"#FFA15A\",\"#19d3f3\",\"#FF6692\",\"#B6E880\",\"#FF97FF\",\"#FECB52\"],\"font\":{\"color\":\"#2a3f5f\"},\"hovermode\":\"closest\",\"hoverlabel\":{\"align\":\"left\"},\"paper_bgcolor\":\"white\",\"plot_bgcolor\":\"#E5ECF6\",\"polar\":{\"bgcolor\":\"#E5ECF6\",\"angularaxis\":{\"gridcolor\":\"white\",\"linecolor\":\"white\",\"ticks\":\"\"},\"radialaxis\":{\"gridcolor\":\"white\",\"linecolor\":\"white\",\"ticks\":\"\"}},\"ternary\":{\"bgcolor\":\"#E5ECF6\",\"aaxis\":{\"gridcolor\":\"white\",\"linecolor\":\"white\",\"ticks\":\"\"},\"baxis\":{\"gridcolor\":\"white\",\"linecolor\":\"white\",\"ticks\":\"\"},\"caxis\":{\"gridcolor\":\"white\",\"linecolor\":\"white\",\"ticks\":\"\"}},\"coloraxis\":{\"colorbar\":{\"outlinewidth\":0,\"ticks\":\"\"}},\"colorscale\":{\"sequential\":[[0.0,\"#0d0887\"],[0.1111111111111111,\"#46039f\"],[0.2222222222222222,\"#7201a8\"],[0.3333333333333333,\"#9c179e\"],[0.4444444444444444,\"#bd3786\"],[0.5555555555555556,\"#d8576b\"],[0.6666666666666666,\"#ed7953\"],[0.7777777777777778,\"#fb9f3a\"],[0.8888888888888888,\"#fdca26\"],[1.0,\"#f0f921\"]],\"sequentialminus\":[[0.0,\"#0d0887\"],[0.1111111111111111,\"#46039f\"],[0.2222222222222222,\"#7201a8\"],[0.3333333333333333,\"#9c179e\"],[0.4444444444444444,\"#bd3786\"],[0.5555555555555556,\"#d8576b\"],[0.6666666666666666,\"#ed7953\"],[0.7777777777777778,\"#fb9f3a\"],[0.8888888888888888,\"#fdca26\"],[1.0,\"#f0f921\"]],\"diverging\":[[0,\"#8e0152\"],[0.1,\"#c51b7d\"],[0.2,\"#de77ae\"],[0.3,\"#f1b6da\"],[0.4,\"#fde0ef\"],[0.5,\"#f7f7f7\"],[0.6,\"#e6f5d0\"],[0.7,\"#b8e186\"],[0.8,\"#7fbc41\"],[0.9,\"#4d9221\"],[1,\"#276419\"]]},\"xaxis\":{\"gridcolor\":\"white\",\"linecolor\":\"white\",\"ticks\":\"\",\"title\":{\"standoff\":15},\"zerolinecolor\":\"white\",\"automargin\":true,\"zerolinewidth\":2},\"yaxis\":{\"gridcolor\":\"white\",\"linecolor\":\"white\",\"ticks\":\"\",\"title\":{\"standoff\":15},\"zerolinecolor\":\"white\",\"automargin\":true,\"zerolinewidth\":2},\"scene\":{\"xaxis\":{\"backgroundcolor\":\"#E5ECF6\",\"gridcolor\":\"white\",\"linecolor\":\"white\",\"showbackground\":true,\"ticks\":\"\",\"zerolinecolor\":\"white\",\"gridwidth\":2},\"yaxis\":{\"backgroundcolor\":\"#E5ECF6\",\"gridcolor\":\"white\",\"linecolor\":\"white\",\"showbackground\":true,\"ticks\":\"\",\"zerolinecolor\":\"white\",\"gridwidth\":2},\"zaxis\":{\"backgroundcolor\":\"#E5ECF6\",\"gridcolor\":\"white\",\"linecolor\":\"white\",\"showbackground\":true,\"ticks\":\"\",\"zerolinecolor\":\"white\",\"gridwidth\":2}},\"shapedefaults\":{\"line\":{\"color\":\"#2a3f5f\"}},\"annotationdefaults\":{\"arrowcolor\":\"#2a3f5f\",\"arrowhead\":0,\"arrowwidth\":1},\"geo\":{\"bgcolor\":\"white\",\"landcolor\":\"#E5ECF6\",\"subunitcolor\":\"white\",\"showland\":true,\"showlakes\":true,\"lakecolor\":\"white\"},\"title\":{\"x\":0.05},\"mapbox\":{\"style\":\"light\"}}},\"xaxis\":{\"anchor\":\"y\",\"domain\":[0.0,1.0],\"scaleanchor\":\"y\",\"constrain\":\"domain\",\"title\":{\"text\":\"Position\"}},\"yaxis\":{\"anchor\":\"x\",\"domain\":[0.0,1.0],\"autorange\":\"reversed\",\"constrain\":\"domain\",\"title\":{\"text\":\"Layer\"}},\"coloraxis\":{\"colorscale\":[[0.0,\"rgb(103,0,31)\"],[0.1,\"rgb(178,24,43)\"],[0.2,\"rgb(214,96,77)\"],[0.3,\"rgb(244,165,130)\"],[0.4,\"rgb(253,219,199)\"],[0.5,\"rgb(247,247,247)\"],[0.6,\"rgb(209,229,240)\"],[0.7,\"rgb(146,197,222)\"],[0.8,\"rgb(67,147,195)\"],[0.9,\"rgb(33,102,172)\"],[1.0,\"rgb(5,48,97)\"]],\"cmid\":0.0},\"title\":{\"text\":\"Normalized Logit Difference After Patching blocks.{layer}.hook_resid_post\"}},                        {\"responsive\": true}                    ).then(function(){\n",
       "                            \n",
       "var gd = document.getElementById('245ed0cc-b6a1-4acb-a03d-f551d8e3a1ad');\n",
       "var x = new MutationObserver(function (mutations, observer) {{\n",
       "        var display = window.getComputedStyle(gd).display;\n",
       "        if (!display || display === 'none') {{\n",
       "            console.log([gd, 'removed!']);\n",
       "            Plotly.purge(gd);\n",
       "            observer.disconnect();\n",
       "        }}\n",
       "}});\n",
       "\n",
       "// Listen for the removal of the full notebook cells\n",
       "var notebookContainer = gd.closest('#notebook-container');\n",
       "if (notebookContainer) {{\n",
       "    x.observe(notebookContainer, {childList: true});\n",
       "}}\n",
       "\n",
       "// Listen for the clearing of the current output cell\n",
       "var outputEl = gd.closest('.output');\n",
       "if (outputEl) {{\n",
       "    x.observe(outputEl, {childList: true});\n",
       "}}\n",
       "\n",
       "                        })                };                });            </script>        </div>"
      ]
     },
     "metadata": {},
     "output_type": "display_data"
    },
    {
     "data": {
      "application/vnd.plotly.v1+json": {
       "config": {
        "plotlyServerURL": "https://plot.ly"
       },
       "data": [
        {
         "coloraxis": "coloraxis",
         "hovertemplate": "Position: %{x}<br>Layer: %{y}<br>color: %{z}<extra></extra>",
         "name": "0",
         "type": "heatmap",
         "x": [
          "<|endoftext|>_0",
          "Then_1",
          ",_2",
          " Shelby_3",
          " and_4",
          " Emma_5",
          " had_6",
          " a_7",
          " lot_8",
          " of_9",
          " fun_10",
          " at_11",
          " the_12",
          " school_13",
          "._14",
          " Shelby-> Emma_15",
          " gave_16",
          " a_17",
          " kiss_18",
          " to_19"
         ],
         "xaxis": "x",
         "yaxis": "y",
         "z": [
          [
           0,
           0,
           0,
           0,
           0,
           0,
           0,
           0,
           0,
           0,
           0,
           0,
           0,
           0,
           0,
           0.9976022243499756,
           -0.0006898641586303711,
           -0.0004303455352783203,
           0.0007987022399902344,
           -0.00015103816986083984
          ],
          [
           0,
           0,
           0,
           0,
           0,
           0,
           0,
           0,
           0,
           0,
           0,
           0,
           0,
           0,
           0,
           0.9986660480499268,
           0.0016058683395385742,
           -0.0019534826278686523,
           0.00114518404006958,
           0.00020623207092285156
          ],
          [
           0,
           0,
           0,
           0,
           0,
           0,
           0,
           0,
           0,
           0,
           0,
           0,
           0,
           0,
           0,
           1.0037422180175781,
           0.0035176873207092285,
           -0.0014243125915527344,
           -0.0005819797515869141,
           0.001343071460723877
          ],
          [
           0,
           0,
           0,
           0,
           0,
           0,
           0,
           0,
           0,
           0,
           0,
           0,
           0,
           0,
           0,
           1.0054130554199219,
           0.003819406032562256,
           0.00012201070785522461,
           -0.001240849494934082,
           0.0020408034324645996
          ],
          [
           0,
           0,
           0,
           0,
           0,
           0,
           0,
           0,
           0,
           0,
           0,
           0,
           0,
           0,
           0,
           1.005378246307373,
           0.0031835436820983887,
           -0.00011134147644042969,
           -0.0005968809127807617,
           0.001311182975769043
          ],
          [
           0,
           0,
           0,
           0,
           0,
           0,
           0,
           0,
           0,
           0,
           0,
           0,
           0,
           0,
           0,
           1.0070405006408691,
           0.002911686897277832,
           -0.0006796121597290039,
           -0.00019609928131103516,
           0.0015680193901062012
          ],
          [
           0,
           0,
           0,
           0,
           0,
           0,
           0,
           0,
           0,
           0,
           0,
           0,
           0,
           0,
           0,
           1.0048742294311523,
           0.0006156563758850098,
           0.0007115006446838379,
           -0.00045299530029296875,
           0.001697838306427002
          ],
          [
           0,
           0,
           0,
           0,
           0,
           0,
           0,
           0,
           0,
           0,
           0,
           0,
           0,
           0,
           0,
           1.003808856010437,
           0.0004489421844482422,
           0.0005317330360412598,
           -0.0008920431137084961,
           0.0021024346351623535
          ],
          [
           0,
           0,
           0,
           0,
           0,
           0,
           0,
           0,
           0,
           0,
           0,
           0,
           0,
           0,
           0,
           1.001746654510498,
           -0.0011174678802490234,
           -0.0005117654800415039,
           -0.0008360147476196289,
           0.001953125
          ],
          [
           0,
           0,
           0,
           0,
           0,
           0,
           0,
           0,
           0,
           0,
           0,
           0,
           0,
           0,
           0,
           1.0005027055740356,
           -0.0012714862823486328,
           0.0003444552421569824,
           -0.002391815185546875,
           0.0011721253395080566
          ],
          [
           0,
           0,
           0,
           0,
           0,
           0,
           0,
           0,
           0,
           0,
           0,
           0,
           0,
           0,
           0,
           1.0010615587234497,
           -0.00046837329864501953,
           0.0005952715873718262,
           -0.001896500587463379,
           0.0014427900314331055
          ],
          [
           0,
           0,
           0,
           0,
           0,
           0,
           0,
           0,
           0,
           0,
           0,
           0,
           0,
           0,
           0,
           1.0014681816101074,
           -0.0008362531661987305,
           0.000498354434967041,
           -0.0011620521545410156,
           0.0007669329643249512
          ],
          [
           0,
           0,
           0,
           0,
           0,
           0,
           0,
           0,
           0,
           0,
           0,
           0,
           0,
           0,
           0,
           0.9999561905860901,
           -0.0013304948806762695,
           -0.0003432035446166992,
           -0.0006281137466430664,
           0.00043576955795288086
          ],
          [
           0,
           0,
           0,
           0,
           0,
           0,
           0,
           0,
           0,
           0,
           0,
           0,
           0,
           0,
           0,
           1.0014506578445435,
           0.001403212547302246,
           -0.00038754940032958984,
           -0.0027840137481689453,
           0.0014950037002563477
          ],
          [
           0,
           0,
           0,
           0,
           0,
           0,
           0,
           0,
           0,
           0,
           0,
           0,
           0,
           0,
           0,
           1.002736210823059,
           0.0016079545021057129,
           -0.002365589141845703,
           -0.0020754337310791016,
           0.0031791329383850098
          ],
          [
           0,
           0,
           0,
           0,
           0,
           0,
           0,
           0,
           0,
           0,
           0,
           0,
           0,
           0,
           0,
           1.0040191411972046,
           0.002202153205871582,
           -0.001865983009338379,
           -0.0020793676376342773,
           0.0015111565589904785
          ],
          [
           0,
           0,
           0,
           0,
           0,
           0,
           0,
           0,
           0,
           0,
           0,
           0,
           0,
           0,
           0,
           1.0092109441757202,
           0.005534172058105469,
           -9.107589721679688e-05,
           -0.003242015838623047,
           0.003280341625213623
          ],
          [
           0,
           0,
           0,
           0,
           0,
           0,
           0,
           0,
           0,
           0,
           0,
           0,
           0,
           0,
           0,
           1.0070109367370605,
           0.0028935670852661133,
           9.888410568237305e-05,
           -0.0024480819702148438,
           0.0037792325019836426
          ],
          [
           0,
           0,
           0,
           0,
           0,
           0,
           0,
           0,
           0,
           0,
           0,
           0,
           0,
           0,
           0,
           1.0095194578170776,
           0.004725217819213867,
           4.70280647277832e-05,
           -0.0018680095672607422,
           0.0050598978996276855
          ],
          [
           0,
           0,
           0,
           0,
           0,
           0,
           0,
           0,
           0,
           0,
           0,
           0,
           0,
           0,
           0,
           1.0093042850494385,
           0.0037775039672851562,
           4.881620407104492e-05,
           -0.0012203454971313477,
           0.005500197410583496
          ],
          [
           0,
           0,
           0,
           0,
           0,
           0,
           0,
           0,
           0,
           0,
           0,
           0,
           0,
           0,
           0,
           1.0097728967666626,
           0.003887176513671875,
           0.00016391277313232422,
           -0.0013107061386108398,
           0.005626201629638672
          ],
          [
           0,
           0,
           0,
           0,
           0,
           0,
           0,
           0,
           0,
           0,
           0,
           0,
           0,
           0,
           0,
           1.0070252418518066,
           0.0033149123191833496,
           0.00011259317398071289,
           -0.0015794038772583008,
           0.0059664249420166016
          ],
          [
           0,
           0,
           0,
           0,
           0,
           0,
           0,
           0,
           0,
           0,
           0,
           0,
           0,
           0,
           0,
           1.0066864490509033,
           0.0057713985443115234,
           0.00016117095947265625,
           -0.0011012554168701172,
           0.004036843776702881
          ],
          [
           0,
           0,
           0,
           0,
           0,
           0,
           0,
           0,
           0,
           0,
           0,
           0,
           0,
           0,
           0,
           1.0065053701400757,
           0.004538357257843018,
           4.756450653076172e-05,
           -0.0013393163681030273,
           0.007763385772705078
          ],
          [
           0,
           0,
           0,
           0,
           0,
           0,
           0,
           0,
           0,
           0,
           0,
           0,
           0,
           0,
           0,
           1.0074820518493652,
           0.0056168437004089355,
           -7.653236389160156e-05,
           -0.0015728473663330078,
           0.00936734676361084
          ],
          [
           0,
           0,
           0,
           0,
           0,
           0,
           0,
           0,
           0,
           0,
           0,
           0,
           0,
           0,
           0,
           1.0079567432403564,
           0.0041190385818481445,
           -0.0006964206695556641,
           -0.0011216402053833008,
           0.009496927261352539
          ],
          [
           0,
           0,
           0,
           0,
           0,
           0,
           0,
           0,
           0,
           0,
           0,
           0,
           0,
           0,
           0,
           1.0036675930023193,
           0.002935051918029785,
           -0.0009614229202270508,
           -0.0021556615829467773,
           0.008349895477294922
          ],
          [
           0,
           0,
           0,
           0,
           0,
           0,
           0,
           0,
           0,
           0,
           0,
           0,
           0,
           0,
           0,
           1.0059934854507446,
           0.004224002361297607,
           -0.0006363391876220703,
           -0.0010384321212768555,
           0.011139452457427979
          ],
          [
           0,
           0,
           0,
           0,
           0,
           0,
           0,
           0,
           0,
           0,
           0,
           0,
           0,
           0,
           0,
           1.0064281225204468,
           0.005768775939941406,
           -0.0013937950134277344,
           -0.0013550519943237305,
           0.010703444480895996
          ],
          [
           0,
           0,
           0,
           0,
           0,
           0,
           0,
           0,
           0,
           0,
           0,
           0,
           0,
           0,
           0,
           1.0016191005706787,
           0.0067209601402282715,
           -0.0005354881286621094,
           0.0021344423294067383,
           0.01911407709121704
          ],
          [
           0,
           0,
           0,
           0,
           0,
           0,
           0,
           0,
           0,
           0,
           0,
           0,
           0,
           0,
           0,
           0.9907350540161133,
           0.0040090084075927734,
           -0.0006902217864990234,
           0.0010498762130737305,
           0.025562584400177002
          ],
          [
           0,
           0,
           0,
           0,
           0,
           0,
           0,
           0,
           0,
           0,
           0,
           0,
           0,
           0,
           0,
           0.990374743938446,
           0.0031102895736694336,
           -0.00028574466705322266,
           0.0007724165916442871,
           0.025588035583496094
          ],
          [
           0,
           0,
           0,
           0,
           0,
           0,
           0,
           0,
           0,
           0,
           0,
           0,
           0,
           0,
           0,
           0.9848639965057373,
           0.003700435161590576,
           -0.0002614259719848633,
           -4.792213439941406e-05,
           0.03408634662628174
          ],
          [
           0,
           0,
           0,
           0,
           0,
           0,
           0,
           0,
           0,
           0,
           0,
           0,
           0,
           0,
           0,
           0.7817405462265015,
           0.010292530059814453,
           -0.0003999471664428711,
           0.002030491828918457,
           0.11256223917007446
          ],
          [
           0,
           0,
           0,
           0,
           0,
           0,
           0,
           0,
           0,
           0,
           0,
           0,
           0,
           0,
           0,
           0.782927393913269,
           0.009995222091674805,
           -0.0008302927017211914,
           0.002707183361053467,
           0.11093229055404663
          ],
          [
           0,
           0,
           0,
           0,
           0,
           0,
           0,
           0,
           0,
           0,
           0,
           0,
           0,
           0,
           0,
           0.7792776823043823,
           0.01252436637878418,
           0.00021976232528686523,
           3.916025161743164e-05,
           0.11366879940032959
          ],
          [
           0,
           0,
           0,
           0,
           0,
           0,
           0,
           0,
           0,
           0,
           0,
           0,
           0,
           0,
           0,
           0.7791601419448853,
           0.009346723556518555,
           -0.0013167858123779297,
           -0.00014340877532958984,
           0.13094735145568848
          ],
          [
           0,
           0,
           0,
           0,
           0,
           0,
           0,
           0,
           0,
           0,
           0,
           0,
           0,
           0,
           0,
           0.7798405885696411,
           0.007354021072387695,
           -0.0009491443634033203,
           -0.0003669261932373047,
           0.1332138180732727
          ],
          [
           0,
           0,
           0,
           0,
           0,
           0,
           0,
           0,
           0,
           0,
           0,
           0,
           0,
           0,
           0,
           0.7982872724533081,
           -0.001410365104675293,
           -0.0002758502960205078,
           0.0042195916175842285,
           0.1738741397857666
          ],
          [
           0,
           0,
           0,
           0,
           0,
           0,
           0,
           0,
           0,
           0,
           0,
           0,
           0,
           0,
           0,
           -0.0035687685012817383,
           0.0049291253089904785,
           6.008148193359375e-05,
           0.006780862808227539,
           0.9932564496994019
          ],
          [
           0,
           0,
           0,
           0,
           0,
           0,
           0,
           0,
           0,
           0,
           0,
           0,
           0,
           0,
           0,
           -0.001093149185180664,
           0.005045711994171143,
           -0.00019609928131103516,
           0.004212439060211182,
           0.9938855767250061
          ],
          [
           0,
           0,
           0,
           0,
           0,
           0,
           0,
           0,
           0,
           0,
           0,
           0,
           0,
           0,
           0,
           -0.0010590553283691406,
           0.0025469064712524414,
           -0.00033915042877197266,
           0.0015511512756347656,
           0.995381236076355
          ],
          [
           0,
           0,
           0,
           0,
           0,
           0,
           0,
           0,
           0,
           0,
           0,
           0,
           0,
           0,
           0,
           -0.0008196830749511719,
           0.002391517162322998,
           -0.00019443035125732422,
           0.0016314387321472168,
           0.9962370991706848
          ],
          [
           0,
           0,
           0,
           0,
           0,
           0,
           0,
           0,
           0,
           0,
           0,
           0,
           0,
           0,
           0,
           -0.0002353191375732422,
           0.001836240291595459,
           -0.00010228157043457031,
           0.0011779069900512695,
           0.99709552526474
          ],
          [
           0,
           0,
           0,
           0,
           0,
           0,
           0,
           0,
           0,
           0,
           0,
           0,
           0,
           0,
           0,
           -0.00023603439331054688,
           0.0011677742004394531,
           -0.00014328956604003906,
           0.0008491277694702148,
           0.9970798492431641
          ],
          [
           0,
           0,
           0,
           0,
           0,
           0,
           0,
           0,
           0,
           0,
           0,
           0,
           0,
           0,
           0,
           -9.942054748535156e-05,
           0.000993967056274414,
           -0.00019621849060058594,
           0.0005797147750854492,
           0.9995609521865845
          ],
          [
           0,
           0,
           0,
           0,
           0,
           0,
           0,
           0,
           0,
           0,
           0,
           0,
           0,
           0,
           0,
           -0.0001621246337890625,
           0.0004075765609741211,
           -0.0002816915512084961,
           -0.00013947486877441406,
           0.9996098279953003
          ],
          [
           0,
           0,
           0,
           0,
           0,
           0,
           0,
           0,
           0,
           0,
           0,
           0,
           0,
           0,
           0,
           0,
           0,
           0,
           0,
           1
          ]
         ]
        }
       ],
       "layout": {
        "autosize": true,
        "coloraxis": {
         "cmid": 0,
         "colorscale": [
          [
           0,
           "rgb(103,0,31)"
          ],
          [
           0.1,
           "rgb(178,24,43)"
          ],
          [
           0.2,
           "rgb(214,96,77)"
          ],
          [
           0.3,
           "rgb(244,165,130)"
          ],
          [
           0.4,
           "rgb(253,219,199)"
          ],
          [
           0.5,
           "rgb(247,247,247)"
          ],
          [
           0.6,
           "rgb(209,229,240)"
          ],
          [
           0.7,
           "rgb(146,197,222)"
          ],
          [
           0.8,
           "rgb(67,147,195)"
          ],
          [
           0.9,
           "rgb(33,102,172)"
          ],
          [
           1,
           "rgb(5,48,97)"
          ]
         ]
        },
        "template": {
         "data": {
          "bar": [
           {
            "error_x": {
             "color": "#2a3f5f"
            },
            "error_y": {
             "color": "#2a3f5f"
            },
            "marker": {
             "line": {
              "color": "#E5ECF6",
              "width": 0.5
             },
             "pattern": {
              "fillmode": "overlay",
              "size": 10,
              "solidity": 0.2
             }
            },
            "type": "bar"
           }
          ],
          "barpolar": [
           {
            "marker": {
             "line": {
              "color": "#E5ECF6",
              "width": 0.5
             },
             "pattern": {
              "fillmode": "overlay",
              "size": 10,
              "solidity": 0.2
             }
            },
            "type": "barpolar"
           }
          ],
          "carpet": [
           {
            "aaxis": {
             "endlinecolor": "#2a3f5f",
             "gridcolor": "white",
             "linecolor": "white",
             "minorgridcolor": "white",
             "startlinecolor": "#2a3f5f"
            },
            "baxis": {
             "endlinecolor": "#2a3f5f",
             "gridcolor": "white",
             "linecolor": "white",
             "minorgridcolor": "white",
             "startlinecolor": "#2a3f5f"
            },
            "type": "carpet"
           }
          ],
          "choropleth": [
           {
            "colorbar": {
             "outlinewidth": 0,
             "ticks": ""
            },
            "type": "choropleth"
           }
          ],
          "contour": [
           {
            "colorbar": {
             "outlinewidth": 0,
             "ticks": ""
            },
            "colorscale": [
             [
              0,
              "#0d0887"
             ],
             [
              0.1111111111111111,
              "#46039f"
             ],
             [
              0.2222222222222222,
              "#7201a8"
             ],
             [
              0.3333333333333333,
              "#9c179e"
             ],
             [
              0.4444444444444444,
              "#bd3786"
             ],
             [
              0.5555555555555556,
              "#d8576b"
             ],
             [
              0.6666666666666666,
              "#ed7953"
             ],
             [
              0.7777777777777778,
              "#fb9f3a"
             ],
             [
              0.8888888888888888,
              "#fdca26"
             ],
             [
              1,
              "#f0f921"
             ]
            ],
            "type": "contour"
           }
          ],
          "contourcarpet": [
           {
            "colorbar": {
             "outlinewidth": 0,
             "ticks": ""
            },
            "type": "contourcarpet"
           }
          ],
          "heatmap": [
           {
            "colorbar": {
             "outlinewidth": 0,
             "ticks": ""
            },
            "colorscale": [
             [
              0,
              "#0d0887"
             ],
             [
              0.1111111111111111,
              "#46039f"
             ],
             [
              0.2222222222222222,
              "#7201a8"
             ],
             [
              0.3333333333333333,
              "#9c179e"
             ],
             [
              0.4444444444444444,
              "#bd3786"
             ],
             [
              0.5555555555555556,
              "#d8576b"
             ],
             [
              0.6666666666666666,
              "#ed7953"
             ],
             [
              0.7777777777777778,
              "#fb9f3a"
             ],
             [
              0.8888888888888888,
              "#fdca26"
             ],
             [
              1,
              "#f0f921"
             ]
            ],
            "type": "heatmap"
           }
          ],
          "heatmapgl": [
           {
            "colorbar": {
             "outlinewidth": 0,
             "ticks": ""
            },
            "colorscale": [
             [
              0,
              "#0d0887"
             ],
             [
              0.1111111111111111,
              "#46039f"
             ],
             [
              0.2222222222222222,
              "#7201a8"
             ],
             [
              0.3333333333333333,
              "#9c179e"
             ],
             [
              0.4444444444444444,
              "#bd3786"
             ],
             [
              0.5555555555555556,
              "#d8576b"
             ],
             [
              0.6666666666666666,
              "#ed7953"
             ],
             [
              0.7777777777777778,
              "#fb9f3a"
             ],
             [
              0.8888888888888888,
              "#fdca26"
             ],
             [
              1,
              "#f0f921"
             ]
            ],
            "type": "heatmapgl"
           }
          ],
          "histogram": [
           {
            "marker": {
             "pattern": {
              "fillmode": "overlay",
              "size": 10,
              "solidity": 0.2
             }
            },
            "type": "histogram"
           }
          ],
          "histogram2d": [
           {
            "colorbar": {
             "outlinewidth": 0,
             "ticks": ""
            },
            "colorscale": [
             [
              0,
              "#0d0887"
             ],
             [
              0.1111111111111111,
              "#46039f"
             ],
             [
              0.2222222222222222,
              "#7201a8"
             ],
             [
              0.3333333333333333,
              "#9c179e"
             ],
             [
              0.4444444444444444,
              "#bd3786"
             ],
             [
              0.5555555555555556,
              "#d8576b"
             ],
             [
              0.6666666666666666,
              "#ed7953"
             ],
             [
              0.7777777777777778,
              "#fb9f3a"
             ],
             [
              0.8888888888888888,
              "#fdca26"
             ],
             [
              1,
              "#f0f921"
             ]
            ],
            "type": "histogram2d"
           }
          ],
          "histogram2dcontour": [
           {
            "colorbar": {
             "outlinewidth": 0,
             "ticks": ""
            },
            "colorscale": [
             [
              0,
              "#0d0887"
             ],
             [
              0.1111111111111111,
              "#46039f"
             ],
             [
              0.2222222222222222,
              "#7201a8"
             ],
             [
              0.3333333333333333,
              "#9c179e"
             ],
             [
              0.4444444444444444,
              "#bd3786"
             ],
             [
              0.5555555555555556,
              "#d8576b"
             ],
             [
              0.6666666666666666,
              "#ed7953"
             ],
             [
              0.7777777777777778,
              "#fb9f3a"
             ],
             [
              0.8888888888888888,
              "#fdca26"
             ],
             [
              1,
              "#f0f921"
             ]
            ],
            "type": "histogram2dcontour"
           }
          ],
          "mesh3d": [
           {
            "colorbar": {
             "outlinewidth": 0,
             "ticks": ""
            },
            "type": "mesh3d"
           }
          ],
          "parcoords": [
           {
            "line": {
             "colorbar": {
              "outlinewidth": 0,
              "ticks": ""
             }
            },
            "type": "parcoords"
           }
          ],
          "pie": [
           {
            "automargin": true,
            "type": "pie"
           }
          ],
          "scatter": [
           {
            "fillpattern": {
             "fillmode": "overlay",
             "size": 10,
             "solidity": 0.2
            },
            "type": "scatter"
           }
          ],
          "scatter3d": [
           {
            "line": {
             "colorbar": {
              "outlinewidth": 0,
              "ticks": ""
             }
            },
            "marker": {
             "colorbar": {
              "outlinewidth": 0,
              "ticks": ""
             }
            },
            "type": "scatter3d"
           }
          ],
          "scattercarpet": [
           {
            "marker": {
             "colorbar": {
              "outlinewidth": 0,
              "ticks": ""
             }
            },
            "type": "scattercarpet"
           }
          ],
          "scattergeo": [
           {
            "marker": {
             "colorbar": {
              "outlinewidth": 0,
              "ticks": ""
             }
            },
            "type": "scattergeo"
           }
          ],
          "scattergl": [
           {
            "marker": {
             "colorbar": {
              "outlinewidth": 0,
              "ticks": ""
             }
            },
            "type": "scattergl"
           }
          ],
          "scattermapbox": [
           {
            "marker": {
             "colorbar": {
              "outlinewidth": 0,
              "ticks": ""
             }
            },
            "type": "scattermapbox"
           }
          ],
          "scatterpolar": [
           {
            "marker": {
             "colorbar": {
              "outlinewidth": 0,
              "ticks": ""
             }
            },
            "type": "scatterpolar"
           }
          ],
          "scatterpolargl": [
           {
            "marker": {
             "colorbar": {
              "outlinewidth": 0,
              "ticks": ""
             }
            },
            "type": "scatterpolargl"
           }
          ],
          "scatterternary": [
           {
            "marker": {
             "colorbar": {
              "outlinewidth": 0,
              "ticks": ""
             }
            },
            "type": "scatterternary"
           }
          ],
          "surface": [
           {
            "colorbar": {
             "outlinewidth": 0,
             "ticks": ""
            },
            "colorscale": [
             [
              0,
              "#0d0887"
             ],
             [
              0.1111111111111111,
              "#46039f"
             ],
             [
              0.2222222222222222,
              "#7201a8"
             ],
             [
              0.3333333333333333,
              "#9c179e"
             ],
             [
              0.4444444444444444,
              "#bd3786"
             ],
             [
              0.5555555555555556,
              "#d8576b"
             ],
             [
              0.6666666666666666,
              "#ed7953"
             ],
             [
              0.7777777777777778,
              "#fb9f3a"
             ],
             [
              0.8888888888888888,
              "#fdca26"
             ],
             [
              1,
              "#f0f921"
             ]
            ],
            "type": "surface"
           }
          ],
          "table": [
           {
            "cells": {
             "fill": {
              "color": "#EBF0F8"
             },
             "line": {
              "color": "white"
             }
            },
            "header": {
             "fill": {
              "color": "#C8D4E3"
             },
             "line": {
              "color": "white"
             }
            },
            "type": "table"
           }
          ]
         },
         "layout": {
          "annotationdefaults": {
           "arrowcolor": "#2a3f5f",
           "arrowhead": 0,
           "arrowwidth": 1
          },
          "autotypenumbers": "strict",
          "coloraxis": {
           "colorbar": {
            "outlinewidth": 0,
            "ticks": ""
           }
          },
          "colorscale": {
           "diverging": [
            [
             0,
             "#8e0152"
            ],
            [
             0.1,
             "#c51b7d"
            ],
            [
             0.2,
             "#de77ae"
            ],
            [
             0.3,
             "#f1b6da"
            ],
            [
             0.4,
             "#fde0ef"
            ],
            [
             0.5,
             "#f7f7f7"
            ],
            [
             0.6,
             "#e6f5d0"
            ],
            [
             0.7,
             "#b8e186"
            ],
            [
             0.8,
             "#7fbc41"
            ],
            [
             0.9,
             "#4d9221"
            ],
            [
             1,
             "#276419"
            ]
           ],
           "sequential": [
            [
             0,
             "#0d0887"
            ],
            [
             0.1111111111111111,
             "#46039f"
            ],
            [
             0.2222222222222222,
             "#7201a8"
            ],
            [
             0.3333333333333333,
             "#9c179e"
            ],
            [
             0.4444444444444444,
             "#bd3786"
            ],
            [
             0.5555555555555556,
             "#d8576b"
            ],
            [
             0.6666666666666666,
             "#ed7953"
            ],
            [
             0.7777777777777778,
             "#fb9f3a"
            ],
            [
             0.8888888888888888,
             "#fdca26"
            ],
            [
             1,
             "#f0f921"
            ]
           ],
           "sequentialminus": [
            [
             0,
             "#0d0887"
            ],
            [
             0.1111111111111111,
             "#46039f"
            ],
            [
             0.2222222222222222,
             "#7201a8"
            ],
            [
             0.3333333333333333,
             "#9c179e"
            ],
            [
             0.4444444444444444,
             "#bd3786"
            ],
            [
             0.5555555555555556,
             "#d8576b"
            ],
            [
             0.6666666666666666,
             "#ed7953"
            ],
            [
             0.7777777777777778,
             "#fb9f3a"
            ],
            [
             0.8888888888888888,
             "#fdca26"
            ],
            [
             1,
             "#f0f921"
            ]
           ]
          },
          "colorway": [
           "#636efa",
           "#EF553B",
           "#00cc96",
           "#ab63fa",
           "#FFA15A",
           "#19d3f3",
           "#FF6692",
           "#B6E880",
           "#FF97FF",
           "#FECB52"
          ],
          "font": {
           "color": "#2a3f5f"
          },
          "geo": {
           "bgcolor": "white",
           "lakecolor": "white",
           "landcolor": "#E5ECF6",
           "showlakes": true,
           "showland": true,
           "subunitcolor": "white"
          },
          "hoverlabel": {
           "align": "left"
          },
          "hovermode": "closest",
          "mapbox": {
           "style": "light"
          },
          "paper_bgcolor": "white",
          "plot_bgcolor": "#E5ECF6",
          "polar": {
           "angularaxis": {
            "gridcolor": "white",
            "linecolor": "white",
            "ticks": ""
           },
           "bgcolor": "#E5ECF6",
           "radialaxis": {
            "gridcolor": "white",
            "linecolor": "white",
            "ticks": ""
           }
          },
          "scene": {
           "xaxis": {
            "backgroundcolor": "#E5ECF6",
            "gridcolor": "white",
            "gridwidth": 2,
            "linecolor": "white",
            "showbackground": true,
            "ticks": "",
            "zerolinecolor": "white"
           },
           "yaxis": {
            "backgroundcolor": "#E5ECF6",
            "gridcolor": "white",
            "gridwidth": 2,
            "linecolor": "white",
            "showbackground": true,
            "ticks": "",
            "zerolinecolor": "white"
           },
           "zaxis": {
            "backgroundcolor": "#E5ECF6",
            "gridcolor": "white",
            "gridwidth": 2,
            "linecolor": "white",
            "showbackground": true,
            "ticks": "",
            "zerolinecolor": "white"
           }
          },
          "shapedefaults": {
           "line": {
            "color": "#2a3f5f"
           }
          },
          "ternary": {
           "aaxis": {
            "gridcolor": "white",
            "linecolor": "white",
            "ticks": ""
           },
           "baxis": {
            "gridcolor": "white",
            "linecolor": "white",
            "ticks": ""
           },
           "bgcolor": "#E5ECF6",
           "caxis": {
            "gridcolor": "white",
            "linecolor": "white",
            "ticks": ""
           }
          },
          "title": {
           "x": 0.05
          },
          "xaxis": {
           "automargin": true,
           "gridcolor": "white",
           "linecolor": "white",
           "ticks": "",
           "title": {
            "standoff": 15
           },
           "zerolinecolor": "white",
           "zerolinewidth": 2
          },
          "yaxis": {
           "automargin": true,
           "gridcolor": "white",
           "linecolor": "white",
           "ticks": "",
           "title": {
            "standoff": 15
           },
           "zerolinecolor": "white",
           "zerolinewidth": 2
          }
         }
        },
        "title": {
         "text": "Normalized Pr Difference After Patching blocks.{layer}.hook_resid_post"
        },
        "xaxis": {
         "anchor": "y",
         "autorange": true,
         "constrain": "domain",
         "domain": [
          0,
          1
         ],
         "range": [
          -0.5,
          19.5
         ],
         "scaleanchor": "y",
         "title": {
          "text": "Position"
         },
         "type": "category"
        },
        "yaxis": {
         "anchor": "x",
         "autorange": true,
         "constrain": "domain",
         "domain": [
          0,
          1
         ],
         "range": [
          47.5,
          -0.5
         ],
         "title": {
          "text": "Layer"
         }
        }
       }
      },
      "image/png": "[encoded data removed]",
      "text/html": [
       "<div>                            <div id=\"b7b39e74-8fa2-44a3-91f7-1a68bc762f58\" class=\"plotly-graph-div\" style=\"height:525px; width:100%;\"></div>            <script type=\"text/javascript\">                require([\"plotly\"], function(Plotly) {                    window.PLOTLYENV=window.PLOTLYENV || {};                                    if (document.getElementById(\"b7b39e74-8fa2-44a3-91f7-1a68bc762f58\")) {                    Plotly.newPlot(                        \"b7b39e74-8fa2-44a3-91f7-1a68bc762f58\",                        [{\"coloraxis\":\"coloraxis\",\"name\":\"0\",\"x\":[\"\\u003c|endoftext|\\u003e_0\",\"Then_1\",\",_2\",\" Shelby_3\",\" and_4\",\" Emma_5\",\" had_6\",\" a_7\",\" lot_8\",\" of_9\",\" fun_10\",\" at_11\",\" the_12\",\" school_13\",\"._14\",\" Shelby-\\u003e Emma_15\",\" gave_16\",\" a_17\",\" kiss_18\",\" to_19\"],\"z\":[[0.0,0.0,0.0,0.0,0.0,0.0,0.0,0.0,0.0,0.0,0.0,0.0,0.0,0.0,0.0,0.9976022243499756,-0.0006898641586303711,-0.0004303455352783203,0.0007987022399902344,-0.00015103816986083984],[0.0,0.0,0.0,0.0,0.0,0.0,0.0,0.0,0.0,0.0,0.0,0.0,0.0,0.0,0.0,0.9986660480499268,0.0016058683395385742,-0.0019534826278686523,0.00114518404006958,0.00020623207092285156],[0.0,0.0,0.0,0.0,0.0,0.0,0.0,0.0,0.0,0.0,0.0,0.0,0.0,0.0,0.0,1.0037422180175781,0.0035176873207092285,-0.0014243125915527344,-0.0005819797515869141,0.001343071460723877],[0.0,0.0,0.0,0.0,0.0,0.0,0.0,0.0,0.0,0.0,0.0,0.0,0.0,0.0,0.0,1.0054130554199219,0.003819406032562256,0.00012201070785522461,-0.001240849494934082,0.0020408034324645996],[0.0,0.0,0.0,0.0,0.0,0.0,0.0,0.0,0.0,0.0,0.0,0.0,0.0,0.0,0.0,1.005378246307373,0.0031835436820983887,-0.00011134147644042969,-0.0005968809127807617,0.001311182975769043],[0.0,0.0,0.0,0.0,0.0,0.0,0.0,0.0,0.0,0.0,0.0,0.0,0.0,0.0,0.0,1.0070405006408691,0.002911686897277832,-0.0006796121597290039,-0.00019609928131103516,0.0015680193901062012],[0.0,0.0,0.0,0.0,0.0,0.0,0.0,0.0,0.0,0.0,0.0,0.0,0.0,0.0,0.0,1.0048742294311523,0.0006156563758850098,0.0007115006446838379,-0.00045299530029296875,0.001697838306427002],[0.0,0.0,0.0,0.0,0.0,0.0,0.0,0.0,0.0,0.0,0.0,0.0,0.0,0.0,0.0,1.003808856010437,0.0004489421844482422,0.0005317330360412598,-0.0008920431137084961,0.0021024346351623535],[0.0,0.0,0.0,0.0,0.0,0.0,0.0,0.0,0.0,0.0,0.0,0.0,0.0,0.0,0.0,1.001746654510498,-0.0011174678802490234,-0.0005117654800415039,-0.0008360147476196289,0.001953125],[0.0,0.0,0.0,0.0,0.0,0.0,0.0,0.0,0.0,0.0,0.0,0.0,0.0,0.0,0.0,1.0005027055740356,-0.0012714862823486328,0.0003444552421569824,-0.002391815185546875,0.0011721253395080566],[0.0,0.0,0.0,0.0,0.0,0.0,0.0,0.0,0.0,0.0,0.0,0.0,0.0,0.0,0.0,1.0010615587234497,-0.00046837329864501953,0.0005952715873718262,-0.001896500587463379,0.0014427900314331055],[0.0,0.0,0.0,0.0,0.0,0.0,0.0,0.0,0.0,0.0,0.0,0.0,0.0,0.0,0.0,1.0014681816101074,-0.0008362531661987305,0.000498354434967041,-0.0011620521545410156,0.0007669329643249512],[0.0,0.0,0.0,0.0,0.0,0.0,0.0,0.0,0.0,0.0,0.0,0.0,0.0,0.0,0.0,0.9999561905860901,-0.0013304948806762695,-0.0003432035446166992,-0.0006281137466430664,0.00043576955795288086],[0.0,0.0,0.0,0.0,0.0,0.0,0.0,0.0,0.0,0.0,0.0,0.0,0.0,0.0,0.0,1.0014506578445435,0.001403212547302246,-0.00038754940032958984,-0.0027840137481689453,0.0014950037002563477],[0.0,0.0,0.0,0.0,0.0,0.0,0.0,0.0,0.0,0.0,0.0,0.0,0.0,0.0,0.0,1.002736210823059,0.0016079545021057129,-0.002365589141845703,-0.0020754337310791016,0.0031791329383850098],[0.0,0.0,0.0,0.0,0.0,0.0,0.0,0.0,0.0,0.0,0.0,0.0,0.0,0.0,0.0,1.0040191411972046,0.002202153205871582,-0.001865983009338379,-0.0020793676376342773,0.0015111565589904785],[0.0,0.0,0.0,0.0,0.0,0.0,0.0,0.0,0.0,0.0,0.0,0.0,0.0,0.0,0.0,1.0092109441757202,0.005534172058105469,-9.107589721679688e-05,-0.003242015838623047,0.003280341625213623],[0.0,0.0,0.0,0.0,0.0,0.0,0.0,0.0,0.0,0.0,0.0,0.0,0.0,0.0,0.0,1.0070109367370605,0.0028935670852661133,9.888410568237305e-05,-0.0024480819702148438,0.0037792325019836426],[0.0,0.0,0.0,0.0,0.0,0.0,0.0,0.0,0.0,0.0,0.0,0.0,0.0,0.0,0.0,1.0095194578170776,0.004725217819213867,4.70280647277832e-05,-0.0018680095672607422,0.0050598978996276855],[0.0,0.0,0.0,0.0,0.0,0.0,0.0,0.0,0.0,0.0,0.0,0.0,0.0,0.0,0.0,1.0093042850494385,0.0037775039672851562,4.881620407104492e-05,-0.0012203454971313477,0.005500197410583496],[0.0,0.0,0.0,0.0,0.0,0.0,0.0,0.0,0.0,0.0,0.0,0.0,0.0,0.0,0.0,1.0097728967666626,0.003887176513671875,0.00016391277313232422,-0.0013107061386108398,0.005626201629638672],[0.0,0.0,0.0,0.0,0.0,0.0,0.0,0.0,0.0,0.0,0.0,0.0,0.0,0.0,0.0,1.0070252418518066,0.0033149123191833496,0.00011259317398071289,-0.0015794038772583008,0.0059664249420166016],[0.0,0.0,0.0,0.0,0.0,0.0,0.0,0.0,0.0,0.0,0.0,0.0,0.0,0.0,0.0,1.0066864490509033,0.0057713985443115234,0.00016117095947265625,-0.0011012554168701172,0.004036843776702881],[0.0,0.0,0.0,0.0,0.0,0.0,0.0,0.0,0.0,0.0,0.0,0.0,0.0,0.0,0.0,1.0065053701400757,0.004538357257843018,4.756450653076172e-05,-0.0013393163681030273,0.007763385772705078],[0.0,0.0,0.0,0.0,0.0,0.0,0.0,0.0,0.0,0.0,0.0,0.0,0.0,0.0,0.0,1.0074820518493652,0.0056168437004089355,-7.653236389160156e-05,-0.0015728473663330078,0.00936734676361084],[0.0,0.0,0.0,0.0,0.0,0.0,0.0,0.0,0.0,0.0,0.0,0.0,0.0,0.0,0.0,1.0079567432403564,0.0041190385818481445,-0.0006964206695556641,-0.0011216402053833008,0.009496927261352539],[0.0,0.0,0.0,0.0,0.0,0.0,0.0,0.0,0.0,0.0,0.0,0.0,0.0,0.0,0.0,1.0036675930023193,0.002935051918029785,-0.0009614229202270508,-0.0021556615829467773,0.008349895477294922],[0.0,0.0,0.0,0.0,0.0,0.0,0.0,0.0,0.0,0.0,0.0,0.0,0.0,0.0,0.0,1.0059934854507446,0.004224002361297607,-0.0006363391876220703,-0.0010384321212768555,0.011139452457427979],[0.0,0.0,0.0,0.0,0.0,0.0,0.0,0.0,0.0,0.0,0.0,0.0,0.0,0.0,0.0,1.0064281225204468,0.005768775939941406,-0.0013937950134277344,-0.0013550519943237305,0.010703444480895996],[0.0,0.0,0.0,0.0,0.0,0.0,0.0,0.0,0.0,0.0,0.0,0.0,0.0,0.0,0.0,1.0016191005706787,0.0067209601402282715,-0.0005354881286621094,0.0021344423294067383,0.01911407709121704],[0.0,0.0,0.0,0.0,0.0,0.0,0.0,0.0,0.0,0.0,0.0,0.0,0.0,0.0,0.0,0.9907350540161133,0.0040090084075927734,-0.0006902217864990234,0.0010498762130737305,0.025562584400177002],[0.0,0.0,0.0,0.0,0.0,0.0,0.0,0.0,0.0,0.0,0.0,0.0,0.0,0.0,0.0,0.990374743938446,0.0031102895736694336,-0.00028574466705322266,0.0007724165916442871,0.025588035583496094],[0.0,0.0,0.0,0.0,0.0,0.0,0.0,0.0,0.0,0.0,0.0,0.0,0.0,0.0,0.0,0.9848639965057373,0.003700435161590576,-0.0002614259719848633,-4.792213439941406e-05,0.03408634662628174],[0.0,0.0,0.0,0.0,0.0,0.0,0.0,0.0,0.0,0.0,0.0,0.0,0.0,0.0,0.0,0.7817405462265015,0.010292530059814453,-0.0003999471664428711,0.002030491828918457,0.11256223917007446],[0.0,0.0,0.0,0.0,0.0,0.0,0.0,0.0,0.0,0.0,0.0,0.0,0.0,0.0,0.0,0.782927393913269,0.009995222091674805,-0.0008302927017211914,0.002707183361053467,0.11093229055404663],[0.0,0.0,0.0,0.0,0.0,0.0,0.0,0.0,0.0,0.0,0.0,0.0,0.0,0.0,0.0,0.7792776823043823,0.01252436637878418,0.00021976232528686523,3.916025161743164e-05,0.11366879940032959],[0.0,0.0,0.0,0.0,0.0,0.0,0.0,0.0,0.0,0.0,0.0,0.0,0.0,0.0,0.0,0.7791601419448853,0.009346723556518555,-0.0013167858123779297,-0.00014340877532958984,0.13094735145568848],[0.0,0.0,0.0,0.0,0.0,0.0,0.0,0.0,0.0,0.0,0.0,0.0,0.0,0.0,0.0,0.7798405885696411,0.007354021072387695,-0.0009491443634033203,-0.0003669261932373047,0.1332138180732727],[0.0,0.0,0.0,0.0,0.0,0.0,0.0,0.0,0.0,0.0,0.0,0.0,0.0,0.0,0.0,0.7982872724533081,-0.001410365104675293,-0.0002758502960205078,0.0042195916175842285,0.1738741397857666],[0.0,0.0,0.0,0.0,0.0,0.0,0.0,0.0,0.0,0.0,0.0,0.0,0.0,0.0,0.0,-0.0035687685012817383,0.0049291253089904785,6.008148193359375e-05,0.006780862808227539,0.9932564496994019],[0.0,0.0,0.0,0.0,0.0,0.0,0.0,0.0,0.0,0.0,0.0,0.0,0.0,0.0,0.0,-0.001093149185180664,0.005045711994171143,-0.00019609928131103516,0.004212439060211182,0.9938855767250061],[0.0,0.0,0.0,0.0,0.0,0.0,0.0,0.0,0.0,0.0,0.0,0.0,0.0,0.0,0.0,-0.0010590553283691406,0.0025469064712524414,-0.00033915042877197266,0.0015511512756347656,0.995381236076355],[0.0,0.0,0.0,0.0,0.0,0.0,0.0,0.0,0.0,0.0,0.0,0.0,0.0,0.0,0.0,-0.0008196830749511719,0.002391517162322998,-0.00019443035125732422,0.0016314387321472168,0.9962370991706848],[0.0,0.0,0.0,0.0,0.0,0.0,0.0,0.0,0.0,0.0,0.0,0.0,0.0,0.0,0.0,-0.0002353191375732422,0.001836240291595459,-0.00010228157043457031,0.0011779069900512695,0.99709552526474],[0.0,0.0,0.0,0.0,0.0,0.0,0.0,0.0,0.0,0.0,0.0,0.0,0.0,0.0,0.0,-0.00023603439331054688,0.0011677742004394531,-0.00014328956604003906,0.0008491277694702148,0.9970798492431641],[0.0,0.0,0.0,0.0,0.0,0.0,0.0,0.0,0.0,0.0,0.0,0.0,0.0,0.0,0.0,-9.942054748535156e-05,0.000993967056274414,-0.00019621849060058594,0.0005797147750854492,0.9995609521865845],[0.0,0.0,0.0,0.0,0.0,0.0,0.0,0.0,0.0,0.0,0.0,0.0,0.0,0.0,0.0,-0.0001621246337890625,0.0004075765609741211,-0.0002816915512084961,-0.00013947486877441406,0.9996098279953003],[0.0,0.0,0.0,0.0,0.0,0.0,0.0,0.0,0.0,0.0,0.0,0.0,0.0,0.0,0.0,0.0,0.0,0.0,0.0,1.0]],\"type\":\"heatmap\",\"xaxis\":\"x\",\"yaxis\":\"y\",\"hovertemplate\":\"Position: %{x}\\u003cbr\\u003eLayer: %{y}\\u003cbr\\u003ecolor: %{z}\\u003cextra\\u003e\\u003c\\u002fextra\\u003e\"}],                        {\"template\":{\"data\":{\"histogram2dcontour\":[{\"type\":\"histogram2dcontour\",\"colorbar\":{\"outlinewidth\":0,\"ticks\":\"\"},\"colorscale\":[[0.0,\"#0d0887\"],[0.1111111111111111,\"#46039f\"],[0.2222222222222222,\"#7201a8\"],[0.3333333333333333,\"#9c179e\"],[0.4444444444444444,\"#bd3786\"],[0.5555555555555556,\"#d8576b\"],[0.6666666666666666,\"#ed7953\"],[0.7777777777777778,\"#fb9f3a\"],[0.8888888888888888,\"#fdca26\"],[1.0,\"#f0f921\"]]}],\"choropleth\":[{\"type\":\"choropleth\",\"colorbar\":{\"outlinewidth\":0,\"ticks\":\"\"}}],\"histogram2d\":[{\"type\":\"histogram2d\",\"colorbar\":{\"outlinewidth\":0,\"ticks\":\"\"},\"colorscale\":[[0.0,\"#0d0887\"],[0.1111111111111111,\"#46039f\"],[0.2222222222222222,\"#7201a8\"],[0.3333333333333333,\"#9c179e\"],[0.4444444444444444,\"#bd3786\"],[0.5555555555555556,\"#d8576b\"],[0.6666666666666666,\"#ed7953\"],[0.7777777777777778,\"#fb9f3a\"],[0.8888888888888888,\"#fdca26\"],[1.0,\"#f0f921\"]]}],\"heatmap\":[{\"type\":\"heatmap\",\"colorbar\":{\"outlinewidth\":0,\"ticks\":\"\"},\"colorscale\":[[0.0,\"#0d0887\"],[0.1111111111111111,\"#46039f\"],[0.2222222222222222,\"#7201a8\"],[0.3333333333333333,\"#9c179e\"],[0.4444444444444444,\"#bd3786\"],[0.5555555555555556,\"#d8576b\"],[0.6666666666666666,\"#ed7953\"],[0.7777777777777778,\"#fb9f3a\"],[0.8888888888888888,\"#fdca26\"],[1.0,\"#f0f921\"]]}],\"heatmapgl\":[{\"type\":\"heatmapgl\",\"colorbar\":{\"outlinewidth\":0,\"ticks\":\"\"},\"colorscale\":[[0.0,\"#0d0887\"],[0.1111111111111111,\"#46039f\"],[0.2222222222222222,\"#7201a8\"],[0.3333333333333333,\"#9c179e\"],[0.4444444444444444,\"#bd3786\"],[0.5555555555555556,\"#d8576b\"],[0.6666666666666666,\"#ed7953\"],[0.7777777777777778,\"#fb9f3a\"],[0.8888888888888888,\"#fdca26\"],[1.0,\"#f0f921\"]]}],\"contourcarpet\":[{\"type\":\"contourcarpet\",\"colorbar\":{\"outlinewidth\":0,\"ticks\":\"\"}}],\"contour\":[{\"type\":\"contour\",\"colorbar\":{\"outlinewidth\":0,\"ticks\":\"\"},\"colorscale\":[[0.0,\"#0d0887\"],[0.1111111111111111,\"#46039f\"],[0.2222222222222222,\"#7201a8\"],[0.3333333333333333,\"#9c179e\"],[0.4444444444444444,\"#bd3786\"],[0.5555555555555556,\"#d8576b\"],[0.6666666666666666,\"#ed7953\"],[0.7777777777777778,\"#fb9f3a\"],[0.8888888888888888,\"#fdca26\"],[1.0,\"#f0f921\"]]}],\"surface\":[{\"type\":\"surface\",\"colorbar\":{\"outlinewidth\":0,\"ticks\":\"\"},\"colorscale\":[[0.0,\"#0d0887\"],[0.1111111111111111,\"#46039f\"],[0.2222222222222222,\"#7201a8\"],[0.3333333333333333,\"#9c179e\"],[0.4444444444444444,\"#bd3786\"],[0.5555555555555556,\"#d8576b\"],[0.6666666666666666,\"#ed7953\"],[0.7777777777777778,\"#fb9f3a\"],[0.8888888888888888,\"#fdca26\"],[1.0,\"#f0f921\"]]}],\"mesh3d\":[{\"type\":\"mesh3d\",\"colorbar\":{\"outlinewidth\":0,\"ticks\":\"\"}}],\"scatter\":[{\"fillpattern\":{\"fillmode\":\"overlay\",\"size\":10,\"solidity\":0.2},\"type\":\"scatter\"}],\"parcoords\":[{\"type\":\"parcoords\",\"line\":{\"colorbar\":{\"outlinewidth\":0,\"ticks\":\"\"}}}],\"scatterpolargl\":[{\"type\":\"scatterpolargl\",\"marker\":{\"colorbar\":{\"outlinewidth\":0,\"ticks\":\"\"}}}],\"bar\":[{\"error_x\":{\"color\":\"#2a3f5f\"},\"error_y\":{\"color\":\"#2a3f5f\"},\"marker\":{\"line\":{\"color\":\"#E5ECF6\",\"width\":0.5},\"pattern\":{\"fillmode\":\"overlay\",\"size\":10,\"solidity\":0.2}},\"type\":\"bar\"}],\"scattergeo\":[{\"type\":\"scattergeo\",\"marker\":{\"colorbar\":{\"outlinewidth\":0,\"ticks\":\"\"}}}],\"scatterpolar\":[{\"type\":\"scatterpolar\",\"marker\":{\"colorbar\":{\"outlinewidth\":0,\"ticks\":\"\"}}}],\"histogram\":[{\"marker\":{\"pattern\":{\"fillmode\":\"overlay\",\"size\":10,\"solidity\":0.2}},\"type\":\"histogram\"}],\"scattergl\":[{\"type\":\"scattergl\",\"marker\":{\"colorbar\":{\"outlinewidth\":0,\"ticks\":\"\"}}}],\"scatter3d\":[{\"type\":\"scatter3d\",\"line\":{\"colorbar\":{\"outlinewidth\":0,\"ticks\":\"\"}},\"marker\":{\"colorbar\":{\"outlinewidth\":0,\"ticks\":\"\"}}}],\"scattermapbox\":[{\"type\":\"scattermapbox\",\"marker\":{\"colorbar\":{\"outlinewidth\":0,\"ticks\":\"\"}}}],\"scatterternary\":[{\"type\":\"scatterternary\",\"marker\":{\"colorbar\":{\"outlinewidth\":0,\"ticks\":\"\"}}}],\"scattercarpet\":[{\"type\":\"scattercarpet\",\"marker\":{\"colorbar\":{\"outlinewidth\":0,\"ticks\":\"\"}}}],\"carpet\":[{\"aaxis\":{\"endlinecolor\":\"#2a3f5f\",\"gridcolor\":\"white\",\"linecolor\":\"white\",\"minorgridcolor\":\"white\",\"startlinecolor\":\"#2a3f5f\"},\"baxis\":{\"endlinecolor\":\"#2a3f5f\",\"gridcolor\":\"white\",\"linecolor\":\"white\",\"minorgridcolor\":\"white\",\"startlinecolor\":\"#2a3f5f\"},\"type\":\"carpet\"}],\"table\":[{\"cells\":{\"fill\":{\"color\":\"#EBF0F8\"},\"line\":{\"color\":\"white\"}},\"header\":{\"fill\":{\"color\":\"#C8D4E3\"},\"line\":{\"color\":\"white\"}},\"type\":\"table\"}],\"barpolar\":[{\"marker\":{\"line\":{\"color\":\"#E5ECF6\",\"width\":0.5},\"pattern\":{\"fillmode\":\"overlay\",\"size\":10,\"solidity\":0.2}},\"type\":\"barpolar\"}],\"pie\":[{\"automargin\":true,\"type\":\"pie\"}]},\"layout\":{\"autotypenumbers\":\"strict\",\"colorway\":[\"#636efa\",\"#EF553B\",\"#00cc96\",\"#ab63fa\",\"#FFA15A\",\"#19d3f3\",\"#FF6692\",\"#B6E880\",\"#FF97FF\",\"#FECB52\"],\"font\":{\"color\":\"#2a3f5f\"},\"hovermode\":\"closest\",\"hoverlabel\":{\"align\":\"left\"},\"paper_bgcolor\":\"white\",\"plot_bgcolor\":\"#E5ECF6\",\"polar\":{\"bgcolor\":\"#E5ECF6\",\"angularaxis\":{\"gridcolor\":\"white\",\"linecolor\":\"white\",\"ticks\":\"\"},\"radialaxis\":{\"gridcolor\":\"white\",\"linecolor\":\"white\",\"ticks\":\"\"}},\"ternary\":{\"bgcolor\":\"#E5ECF6\",\"aaxis\":{\"gridcolor\":\"white\",\"linecolor\":\"white\",\"ticks\":\"\"},\"baxis\":{\"gridcolor\":\"white\",\"linecolor\":\"white\",\"ticks\":\"\"},\"caxis\":{\"gridcolor\":\"white\",\"linecolor\":\"white\",\"ticks\":\"\"}},\"coloraxis\":{\"colorbar\":{\"outlinewidth\":0,\"ticks\":\"\"}},\"colorscale\":{\"sequential\":[[0.0,\"#0d0887\"],[0.1111111111111111,\"#46039f\"],[0.2222222222222222,\"#7201a8\"],[0.3333333333333333,\"#9c179e\"],[0.4444444444444444,\"#bd3786\"],[0.5555555555555556,\"#d8576b\"],[0.6666666666666666,\"#ed7953\"],[0.7777777777777778,\"#fb9f3a\"],[0.8888888888888888,\"#fdca26\"],[1.0,\"#f0f921\"]],\"sequentialminus\":[[0.0,\"#0d0887\"],[0.1111111111111111,\"#46039f\"],[0.2222222222222222,\"#7201a8\"],[0.3333333333333333,\"#9c179e\"],[0.4444444444444444,\"#bd3786\"],[0.5555555555555556,\"#d8576b\"],[0.6666666666666666,\"#ed7953\"],[0.7777777777777778,\"#fb9f3a\"],[0.8888888888888888,\"#fdca26\"],[1.0,\"#f0f921\"]],\"diverging\":[[0,\"#8e0152\"],[0.1,\"#c51b7d\"],[0.2,\"#de77ae\"],[0.3,\"#f1b6da\"],[0.4,\"#fde0ef\"],[0.5,\"#f7f7f7\"],[0.6,\"#e6f5d0\"],[0.7,\"#b8e186\"],[0.8,\"#7fbc41\"],[0.9,\"#4d9221\"],[1,\"#276419\"]]},\"xaxis\":{\"gridcolor\":\"white\",\"linecolor\":\"white\",\"ticks\":\"\",\"title\":{\"standoff\":15},\"zerolinecolor\":\"white\",\"automargin\":true,\"zerolinewidth\":2},\"yaxis\":{\"gridcolor\":\"white\",\"linecolor\":\"white\",\"ticks\":\"\",\"title\":{\"standoff\":15},\"zerolinecolor\":\"white\",\"automargin\":true,\"zerolinewidth\":2},\"scene\":{\"xaxis\":{\"backgroundcolor\":\"#E5ECF6\",\"gridcolor\":\"white\",\"linecolor\":\"white\",\"showbackground\":true,\"ticks\":\"\",\"zerolinecolor\":\"white\",\"gridwidth\":2},\"yaxis\":{\"backgroundcolor\":\"#E5ECF6\",\"gridcolor\":\"white\",\"linecolor\":\"white\",\"showbackground\":true,\"ticks\":\"\",\"zerolinecolor\":\"white\",\"gridwidth\":2},\"zaxis\":{\"backgroundcolor\":\"#E5ECF6\",\"gridcolor\":\"white\",\"linecolor\":\"white\",\"showbackground\":true,\"ticks\":\"\",\"zerolinecolor\":\"white\",\"gridwidth\":2}},\"shapedefaults\":{\"line\":{\"color\":\"#2a3f5f\"}},\"annotationdefaults\":{\"arrowcolor\":\"#2a3f5f\",\"arrowhead\":0,\"arrowwidth\":1},\"geo\":{\"bgcolor\":\"white\",\"landcolor\":\"#E5ECF6\",\"subunitcolor\":\"white\",\"showland\":true,\"showlakes\":true,\"lakecolor\":\"white\"},\"title\":{\"x\":0.05},\"mapbox\":{\"style\":\"light\"}}},\"xaxis\":{\"anchor\":\"y\",\"domain\":[0.0,1.0],\"scaleanchor\":\"y\",\"constrain\":\"domain\",\"title\":{\"text\":\"Position\"}},\"yaxis\":{\"anchor\":\"x\",\"domain\":[0.0,1.0],\"autorange\":\"reversed\",\"constrain\":\"domain\",\"title\":{\"text\":\"Layer\"}},\"coloraxis\":{\"colorscale\":[[0.0,\"rgb(103,0,31)\"],[0.1,\"rgb(178,24,43)\"],[0.2,\"rgb(214,96,77)\"],[0.3,\"rgb(244,165,130)\"],[0.4,\"rgb(253,219,199)\"],[0.5,\"rgb(247,247,247)\"],[0.6,\"rgb(209,229,240)\"],[0.7,\"rgb(146,197,222)\"],[0.8,\"rgb(67,147,195)\"],[0.9,\"rgb(33,102,172)\"],[1.0,\"rgb(5,48,97)\"]],\"cmid\":0.0},\"title\":{\"text\":\"Normalized Pr Difference After Patching blocks.{layer}.hook_resid_post\"}},                        {\"responsive\": true}                    ).then(function(){\n",
       "                            \n",
       "var gd = document.getElementById('b7b39e74-8fa2-44a3-91f7-1a68bc762f58');\n",
       "var x = new MutationObserver(function (mutations, observer) {{\n",
       "        var display = window.getComputedStyle(gd).display;\n",
       "        if (!display || display === 'none') {{\n",
       "            console.log([gd, 'removed!']);\n",
       "            Plotly.purge(gd);\n",
       "            observer.disconnect();\n",
       "        }}\n",
       "}});\n",
       "\n",
       "// Listen for the removal of the full notebook cells\n",
       "var notebookContainer = gd.closest('#notebook-container');\n",
       "if (notebookContainer) {{\n",
       "    x.observe(notebookContainer, {childList: true});\n",
       "}}\n",
       "\n",
       "// Listen for the clearing of the current output cell\n",
       "var outputEl = gd.closest('.output');\n",
       "if (outputEl) {{\n",
       "    x.observe(outputEl, {childList: true});\n",
       "}}\n",
       "\n",
       "                        })                };                });            </script>        </div>"
      ]
     },
     "metadata": {},
     "output_type": "display_data"
    }
   ],
   "source": [
    "# useful for seeing the results of the most recent run\n",
    "import plotly\n",
    "name_func, hook_func = patching_types[choose_patching_type.patching_type]\n",
    "hook_title = name_func(layer='{layer}', position='{pos}')\n",
    "imshow(patching_result_logits, x=token_labels, xaxis=\"Position\", yaxis=\"Layer\", title=f\"Normalized Logit Difference After Patching {hook_title}\")\n",
    "imshow(patching_result_prs, x=token_labels, xaxis=\"Position\", yaxis=\"Layer\", title=f\"Normalized Pr Difference After Patching {hook_title}\")"
   ]
  },
  {
   "cell_type": "code",
   "execution_count": 58,
   "metadata": {},
   "outputs": [
    {
     "name": "stdout",
     "output_type": "stream",
     "text": [
      "original prompt\n",
      "\n",
      "def count(self, query, names, load, content, obj, shape):\n",
      "    \"\"\"middle floor payment\n",
      "\n",
      "    :param load: bar editor\n",
      "    :param content: material win\n",
      "    :param\n",
      "random_doc\n",
      "\n",
      "def count(self, query, names, load, content, obj, shape):\n",
      "    \"\"\"middle floor payment\n",
      "\n",
      "    :param user: bar editor\n",
      "    :param context: material win\n",
      "    :param\n",
      "random_def\n",
      "\n",
      "def count(self, query, names, user, context, obj, shape):\n",
      "    \"\"\"middle floor payment\n",
      "\n",
      "    :param load: bar editor\n",
      "    :param content: material win\n",
      "    :param\n",
      "random_answer\n",
      "\n",
      "def count(self, query, names, load, content, first, shape):\n",
      "    \"\"\"middle floor payment\n",
      "\n",
      "    :param load: bar editor\n",
      "    :param content: material win\n",
      "    :param\n",
      "random_def_doc\n",
      "\n",
      "def count(self, query, names, user, context, obj, shape):\n",
      "    \"\"\"middle floor payment\n",
      "\n",
      "    :param user: bar editor\n",
      "    :param context: material win\n",
      "    :param\n",
      "random_answer_doc\n",
      "\n",
      "def count(self, query, names, load, content, first, shape):\n",
      "    \"\"\"middle floor payment\n",
      "\n",
      "    :param user: bar editor\n",
      "    :param context: material win\n",
      "    :param\n",
      "random_random\n",
      "\n",
      "def count(self, query, names, session, check, json, shape):\n",
      "    \"\"\"middle floor payment\n",
      "\n",
      "    :param start: bar editor\n",
      "    :param key: material win\n",
      "    :param\n",
      "vary_length_doc_desc\n",
      "\n",
      "def count(self, query, names, load, content, obj, shape):\n",
      "    \"\"\"middle floor payment\n",
      "\n",
      "    :param load: bar editor\n",
      "    :param content: material win\n",
      "    :param\n",
      "vary_length_doc_desc_random_doc\n",
      "\n",
      "def count(self, query, names, load, content, obj, shape):\n",
      "    \"\"\"middle floor payment\n",
      "\n",
      "    :param user: bar editor\n",
      "    :param context: material win\n",
      "    :param\n",
      "Prompt(clean_prompt='\\ndef count(self, query, names, load, content, obj, shape):\\n    \"\"\"middle floor payment\\n\\n    :param load: bar editor\\n    :param content: material win\\n    :param', corrupt_prompt={'random_doc': '\\ndef count(self, query, names, load, content, obj, shape):\\n    \"\"\"middle floor payment\\n\\n    :param user: bar editor\\n    :param context: material win\\n    :param', 'random_def': '\\ndef count(self, query, names, user, context, obj, shape):\\n    \"\"\"middle floor payment\\n\\n    :param load: bar editor\\n    :param content: material win\\n    :param', 'random_answer': '\\ndef count(self, query, names, load, content, first, shape):\\n    \"\"\"middle floor payment\\n\\n    :param load: bar editor\\n    :param content: material win\\n    :param', 'random_def_doc': '\\ndef count(self, query, names, user, context, obj, shape):\\n    \"\"\"middle floor payment\\n\\n    :param user: bar editor\\n    :param context: material win\\n    :param', 'random_answer_doc': '\\ndef count(self, query, names, load, content, first, shape):\\n    \"\"\"middle floor payment\\n\\n    :param user: bar editor\\n    :param context: material win\\n    :param', 'random_random': '\\ndef count(self, query, names, session, check, json, shape):\\n    \"\"\"middle floor payment\\n\\n    :param start: bar editor\\n    :param key: material win\\n    :param', 'vary_length_doc_desc': '\\ndef count(self, query, names, load, content, obj, shape):\\n    \"\"\"middle floor payment\\n\\n    :param load: bar editor\\n    :param content: material win\\n    :param', 'vary_length_doc_desc_random_doc': '\\ndef count(self, query, names, load, content, obj, shape):\\n    \"\"\"middle floor payment\\n\\n    :param user: bar editor\\n    :param context: material win\\n    :param'}, correct_answers=[' obj'], random_answer='first', wrong_answers=[' first', ' session', ' check', ' json', ' start', ' key', ' user', ' context', ' load', ' content', ' query', ' names', ' shape'])\n"
     ]
    }
   ],
   "source": [
    "\n",
    "\n",
    "from docstring import docstring_prompt_generator_function\n",
    "docstring_ind_prompt_kwargs = dict(\n",
    "    n_matching_args=3, n_def_prefix_args=2, n_def_suffix_args=1, n_doc_prefix_args=0, met_desc_len=3, arg_desc_len=2\n",
    ")\n",
    "\n",
    "prompt = docstring_induction_prompt_generator(\"rest\", **docstring_ind_prompt_kwargs, seed=seed)\n",
    "print(\"original prompt\")\n",
    "print(prompt.clean_prompt)\n",
    "\n",
    "# random_doc replaces the names in the docstring with random things (probably things not even in the definition)\n",
    "# random_def replaces the names in the definition before the output name with random strs\n",
    "# random_answer replaces the name in the definition with a random one\n",
    "\n",
    "for k in prompt.corrupt_prompt.keys():\n",
    "    print(k)\n",
    "    print(prompt.corrupt_prompt[k])\n",
    "print(prompt)\n"
   ]
  },
  {
   "cell_type": "code",
   "execution_count": null,
   "metadata": {},
   "outputs": [],
   "source": []
  }
 ],
 "metadata": {
  "colab": {
   "provenance": []
  },
  "kernelspec": {
   "display_name": "Python 3 (ipykernel)",
   "language": "python",
   "name": "python3"
  },
  "language_info": {
   "codemirror_mode": {
    "name": "ipython",
    "version": 3
   },
   "file_extension": ".py",
   "mimetype": "text/x-python",
   "name": "python",
   "nbconvert_exporter": "python",
   "pygments_lexer": "ipython3",
   "version": "3.10.11"
  },
  "vscode": {
   "interpreter": {
    "hash": "eb812820b5094695c8a581672e17220e30dd2c15d704c018326e3cc2e1a566f1"
   }
  }
 },
 "nbformat": 4,
 "nbformat_minor": 4
}

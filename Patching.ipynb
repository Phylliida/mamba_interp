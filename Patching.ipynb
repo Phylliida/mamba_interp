{
 "cells": [
  {
   "cell_type": "markdown",
   "id": "996a35f3-1bb7-4245-8e34-549b1f7fb097",
   "metadata": {},
   "source": [
    "## Imports"
   ]
  },
  {
   "cell_type": "code",
   "execution_count": 1,
   "id": "6efb8f18-92cd-490b-982e-17d528bd77fc",
   "metadata": {},
   "outputs": [
    {
     "data": {
      "application/javascript": [
       "IPython.notebook.set_autosave_interval(120000)"
      ]
     },
     "metadata": {},
     "output_type": "display_data"
    },
    {
     "name": "stdout",
     "output_type": "stream",
     "text": [
      "Autosaving every 120 seconds\n"
     ]
    }
   ],
   "source": [
    "%autosave 120\n",
    "import pandas as pd\n",
    "import plotly.express as px\n",
    "import torch\n",
    "from einops import rearrange\n",
    "import torch\n",
    "from tqdm.notebook import tqdm\n",
    "from jaxtyping import Float\n",
    "from transformer_lens.hook_points import HookPoint\n",
    "from dataclasses import dataclass\n",
    "from copy import deepcopy\n",
    "from functools import partial\n",
    "from IPython.display import display, clear_output\n",
    "import ipywidgets\n",
    "import plotly.subplots as sp\n",
    "\n",
    "\n",
    "# Import stuff\n",
    "import torch\n",
    "from functools import partial\n",
    "import transformer_lens.utils as utils\n",
    "import plotly.express as px\n",
    "torch.set_grad_enabled(False)\n",
    "device = utils.get_device()\n",
    "# modified from neel nanda's examples\n",
    "def imshow(tensor, renderer=None, xaxis=\"\", yaxis=\"\", font_size=None, show=True, color_continuous_midpoint=0.0, **kwargs):\n",
    "    fig = px.imshow(utils.to_numpy(tensor), color_continuous_midpoint=color_continuous_midpoint, color_continuous_scale=\"RdBu\", labels={\"x\":xaxis, \"y\":yaxis}, **kwargs)\n",
    "    if not font_size is None:\n",
    "        if 'x' in kwargs:\n",
    "            fig.update_layout(\n",
    "              xaxis = dict(\n",
    "                tickmode='array',\n",
    "                tickvals = kwargs['x'],\n",
    "                ticktext = kwargs['x'], \n",
    "                ),\n",
    "               font=dict(size=font_size, color=\"black\"))\n",
    "        if 'y' in kwargs:\n",
    "            fig.update_layout(\n",
    "              yaxis = dict(\n",
    "                tickmode='array',\n",
    "                tickvals = kwargs['y'],\n",
    "                ticktext = kwargs['y'], \n",
    "                ),\n",
    "               font=dict(size=font_size, color=\"black\"))\n",
    "    if show:\n",
    "        fig.show(renderer)\n",
    "    else:\n",
    "        return fig\n",
    "\n",
    "def show(data, x, xaxis, yaxis, title, clipped):\n",
    "    if clipped:\n",
    "        imshow(data[:,2:], x=x[2:], xaxis=xaxis, yaxis=yaxis, title=title)\n",
    "    else:\n",
    "        imshow(data, x=x, xaxis=xaxis, yaxis=yaxis, title=title)\n",
    "\n",
    "def line(tensor, renderer=None, xaxis=\"\", yaxis=\"\", **kwargs):\n",
    "    px.line(utils.to_numpy(tensor), labels={\"x\":xaxis, \"y\":yaxis}, **kwargs).show(renderer)\n",
    "\n",
    "def scatter(x, y, xaxis=\"\", yaxis=\"\", caxis=\"\", renderer=None, **kwargs):\n",
    "    x = utils.to_numpy(x)\n",
    "    y = utils.to_numpy(y)\n",
    "    px.scatter(y=y, x=x, labels={\"x\":xaxis, \"y\":yaxis, \"color\":caxis}, **kwargs).show(renderer)\n",
    "\n",
    "\n",
    "def bar_chart(data, x_labels, y_label, title, font_size=None):\n",
    "    # it requires a pandas dict with the columns and rows named, annoying\n",
    "    # by default rows and columns are named with ints so we relabel them accordingly\n",
    "    renames = dict([(i, x_labels[i]) for i in range(len(x_labels))])\n",
    "    ps = pd.DataFrame(data.cpu().numpy()).rename(renames, axis='rows').rename({0: y_label}, axis='columns')\n",
    "    fig = px.bar(ps, y=y_label, x=x_labels, title=title)\n",
    "    if not font_size is None:\n",
    "        fig.update_layout(\n",
    "          xaxis = dict(\n",
    "            tickmode='array',\n",
    "            tickvals = x_labels,\n",
    "            ticktext = x_labels, \n",
    "            ),\n",
    "           font=dict(size=font_size, color=\"black\"))\n",
    "        \n",
    "        #fig.update_xaxes(title_font=dict(size=font_size))\n",
    "    \n",
    "    fig.show()\n"
   ]
  },
  {
   "cell_type": "markdown",
   "id": "afbc699d-1d47-44da-9532-af58b3b85eb5",
   "metadata": {},
   "source": [
    "## Load Model"
   ]
  },
  {
   "cell_type": "code",
   "execution_count": 2,
   "id": "0e321013-128c-44e9-9061-ed534cf2538d",
   "metadata": {},
   "outputs": [
    {
     "name": "stderr",
     "output_type": "stream",
     "text": [
      "/opt/conda/lib/python3.10/site-packages/torch/_utils.py:776: UserWarning: TypedStorage is deprecated. It will be removed in the future and UntypedStorage will be the only storage class. This should only matter to you if you are using storages directly.  To access UntypedStorage directly, use tensor.untyped_storage() instead of tensor.storage()\n",
      "  return self.fget.__get__(instance, owner)()\n",
      "Special tokens have been added in the vocabulary, make sure the associated word embeddings are fine-tuned or trained.\n"
     ]
    },
    {
     "name": "stdout",
     "output_type": "stream",
     "text": [
      "Moving model to device:  cuda\n"
     ]
    },
    {
     "data": {
      "text/plain": [
       "<torch.autograd.grad_mode.set_grad_enabled at 0x7f899d745900>"
      ]
     },
     "execution_count": 2,
     "metadata": {},
     "output_type": "execute_result"
    }
   ],
   "source": [
    "from mamba_lens import HookedMamba\n",
    "model = HookedMamba.from_pretrained(\"state-spaces/mamba-370m\", device='cuda')\n",
    "#from transformer_lens import HookedTransformer\n",
    "#model = HookedTransformer.from_pretrained(\"gpt2-large\")\n",
    "torch.set_grad_enabled(False)"
   ]
  },
  {
   "cell_type": "markdown",
   "id": "d2229a82-1322-4580-8db9-ac712439453a",
   "metadata": {},
   "source": [
    "## Utility Functions"
   ]
  },
  {
   "cell_type": "code",
   "execution_count": 34,
   "id": "c46f00ab-f54d-40cb-bc38-48bd591c72d0",
   "metadata": {},
   "outputs": [],
   "source": [
    "def get_pad_token(tokenizer):\n",
    "    return tokenizer.pad_token_id\n",
    "\n",
    "# given data that is [N,V] and indicies that are [N,K] with each index being an index into the V space\n",
    "# this does what you'd want, it indexes them\n",
    "# idk, see the test\n",
    "def index_into(data, indices):\n",
    "    num_data, num_per_data = indices.size()\n",
    "    # we want\n",
    "    # [0,0,0,...,] num per data of these\n",
    "    # [1,1,1,...,] num per data of these\n",
    "    # ...\n",
    "    # [num_data-1, num_data-1, ...]\n",
    "    first_axis_index = torch.arange(num_data, dtype=torch.long).view(num_data, 1)*torch.ones([num_data, num_per_data], dtype=torch.long)\n",
    "    # now we flatten it so it has an index for each term aligned with our indices\n",
    "    first_axis_index = first_axis_index.flatten()\n",
    "\n",
    "    second_axis_index = indices.flatten()\n",
    "    # now we can just index, and then view back to our original shape\n",
    "    return data[first_axis_index, second_axis_index].view(num_data, num_per_data)\n",
    "\n",
    "def eval_debug(model, data, correct, incorrect, constrain_to_answers, **kwargs):\n",
    "    for data_i in range(correct.size()[0]):\n",
    "        input = model.tokenizer.decode(data[data_i])\n",
    "        top_k = 2\n",
    "        logits = model.forward(input, **kwargs)[0,-1]\n",
    "        correct_answers = correct[data_i]\n",
    "        incorrect_answers = incorrect[data_i]\n",
    "        if constrain_to_answers:\n",
    "            only_consider_answer_logits = torch.full(logits.size(), fill_value=-torch.inf, device=model.cfg.device)\n",
    "            only_consider_answer_logits[correct_answers] = logits[correct_answers]\n",
    "            only_consider_answer_logits[incorrect_answers] = logits[incorrect_answers]\n",
    "            logits = only_consider_answer_logits\n",
    "        prs = torch.nn.functional.softmax(logits, dim=0)\n",
    "        top = torch.argsort(-logits)[:top_k]\n",
    "        printed = False\n",
    "        printed_prompt = False\n",
    "        for i, tok in enumerate(top):\n",
    "            if not i == 0 and tok in correct_answers:\n",
    "                if not printed_prompt:\n",
    "                    print(\"prompt\", input)\n",
    "                    printed_prompt = True\n",
    "                print(f\"  correct top {i} token {repr(model.tokenizer.decode([tok]))} logit {logits[tok]} prs {prs[tok]}\")\n",
    "                printed = True\n",
    "                #print(\"correct\")\n",
    "                #print(f\"token {model.tokenizer.decode([tok])} logit {logits[tok]} prs {prs[tok]}\")\n",
    "            elif i == 0 and not tok in correct_answers:\n",
    "                if not printed_prompt:\n",
    "                    print(\"prompt\", input)\n",
    "                    printed_prompt = True\n",
    "                print(f\"  incorrect top {i} token {repr(model.tokenizer.decode([tok]))} logit {logits[tok]} prs {prs[tok]}\")\n",
    "                printed = True\n",
    "            if tok in correct_answers:\n",
    "                break\n",
    "        if printed:\n",
    "            print()\n",
    "\n",
    "def eval(model, data, correct, incorrect, constrain_to_answers, **kwargs):\n",
    "        num_examples = correct.size()[0]\n",
    "        logits = model(data, **kwargs)[:,-1]\n",
    "        pad = get_pad_token(tokenizer=model.tokenizer)\n",
    "        logits[:,pad] = -torch.inf # manually set pad pr to -inf logit because sometimes we need to pad num correct or num incorrect\n",
    "\n",
    "        n_data, n_correct = correct.size()\n",
    "        n_data, n_incorrect = incorrect.size()\n",
    "\n",
    "        if constrain_to_answers:\n",
    "            # [n_data, n_correct]\n",
    "            correct_logits = index_into(logits, correct)\n",
    "            # [n_data, n_incorrect]\n",
    "            incorrect_logits = index_into(logits, incorrect)\n",
    "            # [n_data, n_correct + n_incorrect]\n",
    "            combined_logits = torch.concatenate([correct_logits, incorrect_logits], dim=1)\n",
    "            combined_prs = torch.softmax(combined_logits, dim=1)\n",
    "            biggest = torch.argsort(-combined_prs, dim=1)\n",
    "            # if biggest pr is in the correct, we are correct, otherwise, we are not\n",
    "            num_correct = torch.sum(biggest[:,0] < n_correct)\n",
    "    \n",
    "            correct_prs, incorrect_prs = combined_prs.split([n_correct, n_incorrect], dim=1)\n",
    "        else:\n",
    "            prs = torch.nn.functional.softmax(logits, dim=1)\n",
    "            # [n_data, n_correct]\n",
    "            correct_prs = index_into(prs, correct)\n",
    "            # [n_data, n_incorrect]\n",
    "            incorrect_prs = index_into(prs, incorrect)\n",
    "            # [n_data, 1]\n",
    "            top_tokens = torch.topk(logits, 1, dim=1).indices\n",
    "            # [n_data, n_correct]\n",
    "            in_correct = top_tokens == correct\n",
    "            # [n_data]\n",
    "            has_any_correct = torch.any(in_correct, dim=1)\n",
    "            # [1]\n",
    "            num_correct = torch.sum(has_any_correct)\n",
    "    \n",
    "        # the sum(dim=1) is because we or of all the different possible probabilities by summing\n",
    "        # then we'll just report the average\n",
    "        return torch.mean(correct_prs.sum(dim=1)).item(), torch.mean(incorrect_prs.sum(dim=1)).item(), num_correct.item()/float(n_data)\n",
    "\n",
    "\n",
    "def add_padding_answers(tokenizer, answers):\n",
    "    longest_len = len(max(answers, key=lambda x: len(x)))\n",
    "    padded_answers = []\n",
    "    pad_token = get_pad_token(tokenizer=tokenizer)\n",
    "    for answer in answers:\n",
    "        padded_answers.append(answer + [pad_token]*(longest_len-len(answer)))\n",
    "    return padded_answers\n",
    "\n",
    "def get_batched_data(data):\n",
    "    batched_data = []\n",
    "    batched_correct = []\n",
    "    batched_incorrect = []\n",
    "\n",
    "    bos = [model.tokenizer.bos_token_id]\n",
    "    \n",
    "    for i, (prompt, corrects, incorrects) in enumerate(data):\n",
    "        if i < 7:\n",
    "            print(prompt, corrects, incorrects)\n",
    "        batched_data.append(torch.tensor(bos + model.tokenizer.encode(prompt), device=model.cfg.device))\n",
    "        batched_correct.append([model.tokenizer.encode(correct)[0] for correct in corrects])\n",
    "        batched_incorrect.append([model.tokenizer.encode(incorrect)[0] for incorrect in incorrects])\n",
    "    try:\n",
    "        batched_data = torch.stack(batched_data)\n",
    "        batched_correct = torch.tensor(add_padding_answers(tokenizer=model.tokenizer, answers=batched_correct), device=model.cfg.device)\n",
    "        batched_incorrect = torch.tensor(add_padding_answers(tokenizer=model.tokenizer, answers=batched_incorrect), device=model.cfg.device)\n",
    "    except RuntimeError:\n",
    "        typical_len = len(batched_data[0])\n",
    "        for s in batched_data:\n",
    "            if not len(s) == typical_len:\n",
    "                print(len(s), \"is len of this, typical len is\", typical_len, \"for sequence\", model.to_str_tokens(s))\n",
    "        raise\n",
    "    return batched_data, batched_correct, batched_incorrect"
   ]
  },
  {
   "cell_type": "markdown",
   "id": "aee1704b-a0e3-433a-92b3-8e94ec3515f5",
   "metadata": {},
   "source": [
    "## Generate Data"
   ]
  },
  {
   "cell_type": "code",
   "execution_count": 45,
   "id": "dd811756-3a9a-435d-b71f-6872ce8e6a46",
   "metadata": {},
   "outputs": [
    {
     "name": "stdout",
     "output_type": "stream",
     "text": [
      "data\n",
      "Lately, Jerry and Dale had fun at the restaurant. Jerry gave a ring to [' Dale'] [' Jerry']\n",
      "Lately, Jerry and Dale had fun at the restaurant. Dale gave a ring to [' Jerry'] [' Dale']\n",
      "Lately, Judy and Raf had fun at the house. Judy gave a drink to [' Raf'] [' Judy']\n",
      "Lately, Judy and Raf had fun at the house. Raf gave a drink to [' Judy'] [' Raf']\n",
      "Lately, Sandra and Lindsey had fun at the store. Sandra gave a snack to [' Lindsey'] [' Sandra']\n",
      "Lately, Sandra and Lindsey had fun at the store. Lindsey gave a snack to [' Sandra'] [' Lindsey']\n",
      "Lately, Lib and Teresa had fun at the hospital. Lib gave a drink to [' Teresa'] [' Lib']\n",
      "\n",
      "\n",
      "valid\n",
      "\n",
      "Lately, Max and Florida had fun at the office. Max gave a ring to [' Florida'] [' Max']\n",
      "Lately, Max and Florida had fun at the office. Florida gave a ring to [' Max'] [' Florida']\n",
      "Lately, Heather and Theresa had fun at the garden. Heather gave a necklace to [' Theresa'] [' Heather']\n",
      "Lately, Heather and Theresa had fun at the garden. Theresa gave a necklace to [' Heather'] [' Theresa']\n",
      "Lately, Dix and Emma had fun at the station. Dix gave a ring to [' Emma'] [' Dix']\n",
      "Lately, Dix and Emma had fun at the station. Emma gave a ring to [' Dix'] [' Emma']\n",
      "Lately, Jean and Bert had fun at the office. Jean gave a basketball to [' Bert'] [' Jean']\n",
      "\n",
      "\n",
      "test\n",
      "Lately, Theo and Eden had fun at the store. Theo gave a bone to [' Eden'] [' Theo']\n",
      "Lately, Theo and Eden had fun at the store. Eden gave a bone to [' Theo'] [' Eden']\n",
      "Lately, Faith and Hillary had fun at the station. Faith gave a ring to [' Hillary'] [' Faith']\n",
      "Lately, Faith and Hillary had fun at the station. Hillary gave a ring to [' Faith'] [' Hillary']\n",
      "Lately, Adelaide and Teddy had fun at the restaurant. Adelaide gave a basketball to [' Teddy'] [' Adelaide']\n",
      "Lately, Adelaide and Teddy had fun at the restaurant. Teddy gave a basketball to [' Adelaide'] [' Teddy']\n",
      "Lately, Marian and Elizabeth had fun at the station. Marian gave a computer to [' Elizabeth'] [' Marian']\n"
     ]
    }
   ],
   "source": [
    "from docstring import docstring_prompt_generator_function\n",
    "from importlib import reload\n",
    "import test_data\n",
    "reload(test_data)\n",
    "from test_data import IOI_generator, BABA_TEMPLATES, greater_than_data_generator, ABC_TEMPLATES, copy_generator, IOI_custom_generator\n",
    "\n",
    "num_examples = 2000\n",
    "\n",
    "seed = 27\n",
    "valid_seed = 37\n",
    "test_seed = 47\n",
    "\n",
    "# todo: move name tokens further apart so they can't use conv\n",
    "data_type = 'ioi custom'\n",
    "\n",
    "constrain_to_answers = True\n",
    "\n",
    "if data_type == 'ioi':\n",
    "    data = IOI_generator(templates=[BABA_TEMPLATES[1]], tokenizer=model.tokenizer, num_examples=num_examples, symmetric=True, seed=seed)\n",
    "    valid_data = IOI_generator(templates=[BABA_TEMPLATES[1]], tokenizer=model.tokenizer, num_examples=num_examples, symmetric=True, seed=valid_seed)\n",
    "    test_data = IOI_generator(templates=[BABA_TEMPLATES[1]], tokenizer=model.tokenizer, num_examples=num_examples, symmetric=True, seed=test_seed)\n",
    "elif data_type == 'ioi custom':\n",
    "    ioi_format = \"\"\"\n",
    "AB A B\n",
    "AB B A\"\"\".strip()\n",
    "    data = IOI_custom_generator(ioi_format=ioi_format, tokenizer=model.tokenizer, num_examples=num_examples, seed=seed)\n",
    "    valid_data = IOI_custom_generator(ioi_format=ioi_format, tokenizer=model.tokenizer, num_examples=num_examples, seed=valid_seed)\n",
    "    test_data = IOI_custom_generator(ioi_format=ioi_format, tokenizer=model.tokenizer, num_examples=num_examples, seed=test_seed)\n",
    "elif data_type == 'docstring':\n",
    "    data = docstring_prompt_generator_function(tokenizer=model.tokenizer, num_examples=num_examples, corrupt='random_answer', seed=seed)\n",
    "    valid_data = docstring_prompt_generator_function(tokenizer=model.tokenizer, num_examples=num_examples, corrupt='random_answer', seed=valid_seed)\n",
    "    test_data = docstring_prompt_generator_function(tokenizer=model.tokenizer, num_examples=num_examples, corrupt='random_answer', seed=test_seed)\n",
    "elif data_type == 'greater than':\n",
    "    constrain_to_answers = False\n",
    "    data = greater_than_data_generator(tokenizer=model.tokenizer, num_examples=num_examples, seed=seed)\n",
    "    valid_data = greater_than_data_generator(tokenizer=model.tokenizer, num_examples=num_examples, seed=valid_seed)\n",
    "    test_data = greater_than_data_generator(tokenizer=model.tokenizer, num_examples=num_examples, seed=test_seed)\n",
    "elif data_type == 'copy':\n",
    "    constrain_to_answers = False\n",
    "    copy_seq_len = 4\n",
    "    data = copy_generator(tokenizer=model.tokenizer, num_examples=num_examples, copy_seq_len=copy_seq_len, seed=seed)\n",
    "    valid_data = copy_generator(tokenizer=model.tokenizer, num_examples=num_examples, copy_seq_len=copy_seq_len, seed=valid_seed)\n",
    "    test_data = copy_generator(tokenizer=model.tokenizer, num_examples=num_examples, copy_seq_len=copy_seq_len, seed=test_seed)\n",
    "\n",
    "print(\"data\")\n",
    "batched_data, batched_correct, batched_incorrect = get_batched_data(data)\n",
    "print(\"\\n\\nvalid\\n\")\n",
    "vbatched_data, vbatched_correct, vbatched_incorrect = get_batched_data(valid_data)\n",
    "print(\"\\n\\ntest\")\n",
    "tbatched_data, tbatched_correct, tbatched_incorrect = get_batched_data(test_data)\n",
    "\n",
    "relative_str = ' relative ' if constrain_to_answers else ' '\n"
   ]
  },
  {
   "cell_type": "markdown",
   "id": "4de9aa60-c92f-453e-bfc4-88e4b5c7188d",
   "metadata": {},
   "source": [
    "## Patching\n",
    "\n",
    "See [MambaLens](https://github.com/Phylliida/MambaLens) for a list of all the hooks available.\n",
    "\n",
    "set `fast_conv=True` unless you are patching on conv\n",
    "\n",
    "set `fast_ssm=True` unless you are patching on `h`, `delta`, `A_bar`, `B_bar`, or `y`\n",
    "\n",
    "(you can set them both to False always, it'll just be slower)\n",
    "\n",
    "There are a few special ones:\n",
    "\n",
    "## `skip h`\n",
    "\n",
    "This sets the hidden state contribution at the target position and layer to 0.\n",
    "\n",
    "In other words, where normally the hidden state at that position would be\n",
    "\n",
    "$$h_{pos+1} = Ah_{pos} + Bx$$\n",
    "\n",
    "Now it is just\n",
    "\n",
    "$$h_{pos+1} = Ah_{pos}$$\n",
    "\n",
    "## `h_n`\n",
    "\n",
    "Patches on the N different E-sized hidden states\n",
    "\n",
    "Note that patching on `h_n` is hardcoded to layer 39 via\n",
    "\n",
    "```\n",
    "H_N_PATCHING_LAYER = 39\n",
    "```\n",
    "\n",
    "You can change this to pick a different layer"
   ]
  },
  {
   "cell_type": "code",
   "execution_count": 8,
   "id": "e54af2e7-9115-481b-aa8e-0c8ae0237453",
   "metadata": {},
   "outputs": [
    {
     "name": "stdout",
     "output_type": "stream",
     "text": [
      "baseline correct relative pr 0.9657200574874878 incorrect relative pr 0.03428000211715698 accuracy 1.0\n",
      "uncorrupted prompt\n",
      "Lately, Jerry and Dale had fun at the restaurant. Jerry gave a ring to\n",
      "' Dale' logit 12.055768966674805\n",
      "' Dale' pr 0.05545641854405403\n",
      "' Jerry' logit 8.743332862854004\n",
      "' Jerry' pr 0.002020128769800067\n",
      "\n",
      "corrupted prompt\n",
      "Lately, Jerry and Dale had fun at the restaurant. Dale gave a ring to\n",
      "' Dale' logit 8.578718185424805\n",
      "' Dale' pr 0.001230880618095398\n",
      "' Jerry' logit 12.711100578308105\n",
      "' Jerry' pr 0.07671615481376648\n"
     ]
    },
    {
     "data": {
      "application/vnd.jupyter.widget-view+json": {
       "model_id": "44bcbdbcbea6459b99d86533575ca556",
       "version_major": 2,
       "version_minor": 0
      },
      "text/plain": [
       "Dropdown(description='Patching Type', options=('normalized input', 'layer input', 'skip', 'in proj', 'conv', '…"
      ]
     },
     "metadata": {},
     "output_type": "display_data"
    },
    {
     "data": {
      "application/vnd.jupyter.widget-view+json": {
       "model_id": "379a31e8b7ef4da6867dea03d616198c",
       "version_major": 2,
       "version_minor": 0
      },
      "text/plain": [
       "Dropdown(description='fast conv', options=('True', 'False'), value='True')"
      ]
     },
     "metadata": {},
     "output_type": "display_data"
    },
    {
     "data": {
      "application/vnd.jupyter.widget-view+json": {
       "model_id": "0685acd7b36940f08add97ac7be4f8e0",
       "version_major": 2,
       "version_minor": 0
      },
      "text/plain": [
       "Dropdown(description='fast ssm', options=('False', 'True'), value='False')"
      ]
     },
     "metadata": {},
     "output_type": "display_data"
    },
    {
     "data": {
      "application/vnd.jupyter.widget-view+json": {
       "model_id": "c5f0dc1eb0284424a9365352a8a8b99d",
       "version_major": 2,
       "version_minor": 0
      },
      "text/plain": [
       "Dropdown(description='logits or pr', options=('Logits', 'Pr', 'Both'), value='Logits')"
      ]
     },
     "metadata": {},
     "output_type": "display_data"
    },
    {
     "data": {
      "application/vnd.jupyter.widget-view+json": {
       "model_id": "3e6ad0b62ac34fb287e29f97e7db5170",
       "version_major": 2,
       "version_minor": 0
      },
      "text/plain": [
       "Button(description='Run Patching', style=ButtonStyle())"
      ]
     },
     "metadata": {},
     "output_type": "display_data"
    },
    {
     "data": {
      "application/vnd.jupyter.widget-view+json": {
       "model_id": "6d2ba435f4dd435e99d399413d8fc717",
       "version_major": 2,
       "version_minor": 0
      },
      "text/plain": [
       "Output()"
      ]
     },
     "metadata": {},
     "output_type": "display_data"
    }
   ],
   "source": [
    "# modified from neel nanda's examples\n",
    "\n",
    "H_N_PATCHING_LAYER = 39\n",
    "\n",
    "# default settings aren't very good, these are better\n",
    "plot_args = {\n",
    "    'width': 800,\n",
    "    'height': 600,\n",
    "    \"autosize\": False,\n",
    "    'showlegend': True,\n",
    "    'margin': {\"l\":0,\"r\":0,\"t\":100,\"b\":0}\n",
    "}\n",
    "\n",
    "#limited_layers = [0, 3, 10, 14, 15, 17, 18, 21, 22, 25, 26, 27, 28, 33, 36, 39, 40, 45, 46]\n",
    "limited_layers = list(range(model.cfg.n_layers))\n",
    "\n",
    "# grab first two data points as patching inputs\n",
    "# the data generators will pair things nicely\n",
    "# you can also just replace these with two strings\n",
    "prompt_uncorrupted = model.tokenizer.decode(batched_data[0][1:])\n",
    "prompt_corrupted = model.tokenizer.decode(batched_data[1][1:])\n",
    "\n",
    "answer_tokens = sorted(list(set([x.item() for x in batched_correct[0]] + [x.item() for x in batched_correct[1]] + [x.item() for x in batched_incorrect[0]] + [x.item() for x in batched_incorrect[1]])))\n",
    "uncorrupted_answer = model.tokenizer.decode([batched_correct[0,0]])\n",
    "corrupted_answer = model.tokenizer.decode([batched_correct[1,0]])\n",
    "\n",
    "def wrap_run_with_hooks(model, fwd_hooks, **kwargs):\n",
    "    def wrapper(input):\n",
    "        return model.run_with_hooks(input, fwd_hooks=fwd_hooks, **kwargs)\n",
    "    wrapper.tokenizer = model.tokenizer\n",
    "    return wrapper\n",
    "\n",
    "# constrain_to_answers will constrain generation to only outputting those answers\n",
    "correct, incorrect, acc = eval(\n",
    "                            wrap_run_with_hooks(model=model, fwd_hooks=[], only_use_these_layers=limited_layers),\n",
    "                            vbatched_data, vbatched_correct, vbatched_incorrect,\n",
    "                            constrain_to_answers=constrain_to_answers)\n",
    "\n",
    "# if you are doing constrain_to_answers, the prs will be relative (so within the given answers the pr will sum to 1)\n",
    "# otherwise they will just be the prs given by softmax of the logits\n",
    "print(f\"baseline correct{relative_str}pr {correct} incorrect{relative_str}pr {incorrect} accuracy {acc}\")\n",
    "\n",
    "prompt_uncorrupted_tokens = model.to_tokens(prompt_uncorrupted)\n",
    "prompt_corrupted_tokens = model.to_tokens(prompt_corrupted)\n",
    "\n",
    "# logits should be [B,L,V] \n",
    "def uncorrupted_logit_minus_corrupted_logit(logits, uncorrupted_answer, corrupted_answer):\n",
    "    uncorrupted_index = model.to_single_token(uncorrupted_answer)\n",
    "    corrupted_index = model.to_single_token(corrupted_answer)\n",
    "    return logits[0, -1, uncorrupted_index] - logits[0, -1, corrupted_index]\n",
    "\n",
    "# prs should be [B,L,V] \n",
    "def uncorrupted_pr_minus_corrupted_pr(prs, uncorrupted_answer, corrupted_answer):\n",
    "    uncorrupted_index = model.to_single_token(uncorrupted_answer)\n",
    "    corrupted_index = model.to_single_token(corrupted_answer)\n",
    "    return prs[0, -1, uncorrupted_index] - prs[0, -1, corrupted_index]\n",
    "\n",
    "# [B,L,V]\n",
    "corrupted_logits, corrupted_activations = model.run_with_cache(prompt_corrupted_tokens, only_use_these_layers=limited_layers)\n",
    "corrupted_logit_diff = uncorrupted_logit_minus_corrupted_logit(logits=corrupted_logits, uncorrupted_answer=uncorrupted_answer, corrupted_answer=corrupted_answer)\n",
    "corrupted_prs = torch.softmax(corrupted_logits, dim=2)\n",
    "corrupted_pr_diff = uncorrupted_pr_minus_corrupted_pr(prs=corrupted_prs, uncorrupted_answer=uncorrupted_answer, corrupted_answer=corrupted_answer)\n",
    "\n",
    "# [B,L,V]\n",
    "uncorrupted_logits = model(prompt_uncorrupted_tokens, only_use_these_layers=limited_layers)\n",
    "uncorrupted_logit_diff = uncorrupted_logit_minus_corrupted_logit(logits=uncorrupted_logits, uncorrupted_answer=uncorrupted_answer, corrupted_answer=corrupted_answer)\n",
    "uncorrupted_prs = torch.softmax(uncorrupted_logits, dim=2)\n",
    "uncorrupted_pr_diff = uncorrupted_pr_minus_corrupted_pr(prs=uncorrupted_prs, uncorrupted_answer=uncorrupted_answer, corrupted_answer=corrupted_answer)\n",
    "\n",
    "uncorrupted_index = model.to_single_token(uncorrupted_answer)\n",
    "corrupted_index = model.to_single_token(corrupted_answer)\n",
    "print(f'uncorrupted prompt\\n{prompt_uncorrupted}')\n",
    "print(f\"{repr(uncorrupted_answer)} logit {uncorrupted_logits[0,-1,uncorrupted_index]}\")\n",
    "print(f\"{repr(uncorrupted_answer)} pr {uncorrupted_prs[0,-1,uncorrupted_index]}\")\n",
    "print(f\"{repr(corrupted_answer)} logit {uncorrupted_logits[0,-1,corrupted_index]}\")\n",
    "print(f\"{repr(corrupted_answer)} pr {uncorrupted_prs[0,-1,corrupted_index]}\")\n",
    "print(f'\\ncorrupted prompt\\n{prompt_corrupted}')\n",
    "print(f\"{repr(uncorrupted_answer)} logit {corrupted_logits[0,-1,uncorrupted_index]}\")\n",
    "print(f\"{repr(uncorrupted_answer)} pr {corrupted_prs[0,-1,uncorrupted_index]}\")\n",
    "print(f\"{repr(corrupted_answer)} logit {corrupted_logits[0,-1,corrupted_index]}\")\n",
    "print(f\"{repr(corrupted_answer)} pr {corrupted_prs[0,-1,corrupted_index]}\")\n",
    "\n",
    "# We make a tensor to store the results for each patching run. We put it on the model's device to avoid needing to move things between the GPU and CPU, which can be slow.\n",
    "L = len(prompt_uncorrupted_tokens[0])\n",
    "if len(prompt_corrupted_tokens[0]) != len(prompt_uncorrupted_tokens[0]):\n",
    "    raise Exception(\"Prompts are not the same length\") # feel free to comment this out, you can patch for different sized prompts its just a lil sus\n",
    "\n",
    "# diff is logit of uncorrupted_answer - logit of corrupted_answer\n",
    "# we expect corrupted_diff to have a negative value (as corrupted should put high pr on corrupted_answer)\n",
    "# we expect uncorrupted to have a positive value (as uncorrupted should put high pr on uncorrupted_answer)\n",
    "# thus we can treat these as (rough) min and max possible values\n",
    "min_logit_diff = corrupted_logit_diff\n",
    "max_logit_diff = uncorrupted_logit_diff\n",
    "\n",
    "min_pr_diff = corrupted_pr_diff\n",
    "max_pr_diff = uncorrupted_pr_diff\n",
    "\n",
    "# make token labels that describe the patch\n",
    "corrupted_str_tokens = model.to_str_tokens(prompt_corrupted_tokens)\n",
    "uncorrupted_str_tokens = model.to_str_tokens(prompt_uncorrupted_tokens)\n",
    "token_labels = []\n",
    "for index, (corrupted_token, uncorrupted_token) in enumerate(zip(corrupted_str_tokens, uncorrupted_str_tokens)):\n",
    "    if corrupted_token == uncorrupted_token:\n",
    "        token_labels.append(f\"{corrupted_token}_{index}\")\n",
    "    else:\n",
    "        token_labels.append(f\"{uncorrupted_token}->{corrupted_token}_{index}\")\n",
    "\n",
    "def run_patching(patching_type, patching_hook_name_func, patching_hook_func, show_options, show_plot=True, **kwargs):\n",
    "    hook_title = patching_hook_name_func(layer='{layer}', position='{position}')\n",
    "    print(f\"running patching {patching_type}, using hook {hook_title}\")\n",
    "    global patching_result_logits, patching_result_prs # if you want to access it once this is done running\n",
    "    n_layers = len(limited_layers)\n",
    "\n",
    "    if patching_type == H_N_PATCHING:\n",
    "        print(f\"on layer H_N_PATCHING_LAYER={H_N_PATCHING_LAYER}\")\n",
    "        N = model.cfg.N\n",
    "        patching_result_normalized_logits = torch.zeros((N, L), device=model.cfg.device)\n",
    "        patching_result_normalized_prs = torch.zeros((N, L), device=model.cfg.device)\n",
    "    \n",
    "        num_answers = len(answer_tokens)\n",
    "        patching_result_logits = torch.zeros((N, L, num_answers), device=model.cfg.device)\n",
    "        patching_result_prs = torch.zeros((N, L, num_answers), device=model.cfg.device)\n",
    "    else:\n",
    "        patching_result_normalized_logits = torch.zeros((n_layers, L), device=model.cfg.device)\n",
    "        patching_result_normalized_prs = torch.zeros((n_layers, L), device=model.cfg.device)\n",
    "    \n",
    "        num_answers = len(answer_tokens)\n",
    "        patching_result_logits = torch.zeros((n_layers, L, num_answers), device=model.cfg.device)\n",
    "        patching_result_prs = torch.zeros((n_layers, L, num_answers), device=model.cfg.device)\n",
    "\n",
    "    hooks = []\n",
    "    # skipping h needs A_bar stored, so also add that hook\n",
    "    if patching_type == SKIPPING_H_PATCHING:\n",
    "        for i, layer in list(enumerate(limited_layers)):\n",
    "            hooks.append((f'blocks.{layer}.hook_A_bar', partial(A_bar_storage_hook_for_skipping_h, layer=layer)))\n",
    "\n",
    "    # skipping layer needs layer_input (resid_pre) stored, so also add that hook\n",
    "    if patching_type == LAYER_SKIPPING:\n",
    "        for i, layer in list(enumerate(limited_layers)):\n",
    "            hooks.append((f'blocks.{layer}.hook_resid_pre', partial(layer_input_storage_hook, layer=layer)))\n",
    "    \n",
    "    if patching_type == H_N_PATCHING:\n",
    "        batch = 0\n",
    "        indices = []\n",
    "        for n in range(N):\n",
    "            for position in range(L):\n",
    "                patching_hook_name = patching_hook_name_func(layer=H_N_PATCHING_LAYER, position=position)\n",
    "                patching_hook = partial(patching_hook_func, layer=H_N_PATCHING_LAYER, position=position, n=n, batch=batch)\n",
    "                batch += 1\n",
    "                indices.append((n,position))\n",
    "                hooks.append((patching_hook_name, patching_hook))\n",
    "    else:\n",
    "        batch = 0\n",
    "        indices = []\n",
    "        for i, layer in list(enumerate(limited_layers)):\n",
    "            for position in range(L):\n",
    "                patching_hook_name = patching_hook_name_func(layer=layer, position=position)\n",
    "                patching_hook = partial(patching_hook_func, layer=layer, position=position, batch=batch)\n",
    "                batch += 1\n",
    "                indices.append((i,position))\n",
    "                hooks.append((patching_hook_name, patching_hook))\n",
    "    \n",
    "    # [B,L,V]\n",
    "    patched_logits = model.run_with_hooks(prompt_uncorrupted_tokens.expand(batch,L), fwd_hooks=hooks, only_use_these_layers=limited_layers, **kwargs)\n",
    "    # [B,L,V]\n",
    "    patched_prs = torch.softmax(patched_logits, dim=2)\n",
    "\n",
    "    for b, (i,position) in enumerate(indices):\n",
    "        if corrupted_answer != uncorrupted_answer:\n",
    "            patched_logit_diff = uncorrupted_logit_minus_corrupted_logit(logits=patched_logits[b:b+1],\n",
    "                                                                         uncorrupted_answer=uncorrupted_answer,\n",
    "                                                                         corrupted_answer=corrupted_answer)\n",
    "            # normalize it so\n",
    "            # 0 means min_logit_diff (so 0 means that it is acting like the corrupted model)\n",
    "            # 1 means max_logit_diff (so 1 means that it is acting like the uncorrupted model)\n",
    "            normalized_patched_logit_diff = (patched_logit_diff-min_logit_diff)/(max_logit_diff - min_logit_diff)\n",
    "            # now flip them, since most interventions will do nothing and thus act like uncorrupted model, visually its better to have that at 0\n",
    "            # so now\n",
    "            # 0 means that it is acting like the uncorrupted model\n",
    "            # 1 means that it is acting like the corrupted model\n",
    "            normalized_patched_logit_diff = 1.0 - normalized_patched_logit_diff\n",
    "            patching_result_normalized_logits[i, position] = normalized_patched_logit_diff\n",
    "            \n",
    "            # same for pr\n",
    "            patched_pr_diff = uncorrupted_pr_minus_corrupted_pr(prs=patched_prs[b:b+1],\n",
    "                                                                uncorrupted_answer=uncorrupted_answer,\n",
    "                                                                corrupted_answer=corrupted_answer)\n",
    "            normalized_patched_pr_diff = 1.0-(patched_pr_diff-min_pr_diff)/(max_pr_diff - min_pr_diff)\n",
    "            patching_result_normalized_prs[i, position] = normalized_patched_pr_diff\n",
    "\n",
    "        for k, answer_token in enumerate(answer_tokens):\n",
    "            patching_result_logits[i, position, k] = patched_logits[b,-1,answer_token]\n",
    "            patching_result_prs[i, position, k] = patched_prs[b,-1,answer_token]\n",
    "    \n",
    "        \n",
    "    if patching_type == H_N_PATCHING:\n",
    "        layer_labels = [str(n) for n in range(N)]\n",
    "    else:\n",
    "        layer_labels = [str(layer) for layer in limited_layers]\n",
    "    figs = []\n",
    "    if corrupted_answer != uncorrupted_answer:\n",
    "        if show_options in [SHOW_LOGITS, SHOW_BOTH]:\n",
    "            figs.append(imshow(patching_result_normalized_logits, show=False, x=token_labels, y=layer_labels, xaxis=\"Position\", yaxis=\"Layer\", title=f\"Normalized logit difference after patching {patching_type} using hook {hook_title}\", font_size=8))\n",
    "        if show_options in [SHOW_PR, SHOW_BOTH]:\n",
    "            figs.append(imshow(patching_result_normalized_prs, show=False, x=token_labels, y=layer_labels, xaxis=\"Position\", yaxis=\"Layer\", title=f\"Normalized pr difference after patching {patching_type} using hook {hook_title}\", font_size=8))\n",
    "    \n",
    "    for k, answer_token in enumerate(answer_tokens):\n",
    "        if show_options in [SHOW_LOGITS, SHOW_BOTH]:\n",
    "            figs.append(imshow(patching_result_logits[:,:,k], color_continuous_midpoint=None, show=False, x=token_labels, y=layer_labels, xaxis=\"Position\", yaxis=\"Layer\", title=f\"Logit of uncorrupted answer {repr(model.tokenizer.decode([answer_token]))} after patching {patching_type} using hook {hook_title}\", font_size=8))\n",
    "        if show_options in [SHOW_PR, SHOW_BOTH]:\n",
    "            figs.append(imshow(patching_result_prs[:,:,k], show=False, x=token_labels, y=layer_labels, xaxis=\"Position\", yaxis=\"Layer\", title=f\"Pr of uncorrupted answer {repr(model.tokenizer.decode([answer_token]))} after patching {patching_type} using hook {hook_title}\", font_size=8)) \n",
    "\n",
    "    for fig in figs:\n",
    "        fig.update_layout(**plot_args)\n",
    "        fig.update_layout(legend=dict(\n",
    "            yanchor=\"top\",\n",
    "            y=0.99,\n",
    "            xanchor=\"left\",\n",
    "            x=0.01\n",
    "        ))\n",
    "        fig.show()\n",
    "\n",
    "\n",
    "\n",
    "## hooks for layer skipping\n",
    "def layer_input_storage_hook(\n",
    "    layer_input: Float[torch.Tensor, \"B L D\"],\n",
    "    hook: HookPoint,\n",
    "    layer: int,\n",
    ") -> Float[torch.Tensor, \"B L D\"]:\n",
    "    global storage\n",
    "    storage = {}\n",
    "    storage['layer_input'] = layer_input\n",
    "    return layer_input\n",
    "\n",
    "def layer_output_skipping_hook(\n",
    "    layer_output: Float[torch.Tensor, \"B L D\"],\n",
    "    hook: HookPoint,\n",
    "    position: int,\n",
    "    layer: int,\n",
    "    batch: int,\n",
    ") -> Float[torch.Tensor, \"B L D\"]:\n",
    "    global storage\n",
    "    layer_input = storage['layer_input']\n",
    "    # intervene on the batch at the position\n",
    "    layer_output[batch,position,:] = layer_input[batch,position,:]\n",
    "    return layer_output\n",
    "\n",
    "\n",
    "## hooks for h skipping\n",
    "def A_bar_storage_hook_for_skipping_h(\n",
    "    A_bar: Float[torch.Tensor, \"B L E N\"],\n",
    "    hook: HookPoint,\n",
    "    layer: int,\n",
    ") -> Float[torch.Tensor, \"B L E N\"]:\n",
    "    global storage\n",
    "    storage = {}\n",
    "    storage['A_bar'] = A_bar\n",
    "    return A_bar\n",
    "\n",
    "def skipping_h_hook(\n",
    "    h: Float[torch.Tensor, \"B E N\"],\n",
    "    hook: HookPoint,\n",
    "    position: int,\n",
    "    layer: int,\n",
    "    batch: int,\n",
    ") -> Float[torch.Tensor, \"B E N\"]:\n",
    "    #print(\"fetching\", storage[grab_pos][0,0,0:5], \"from position\", grab_pos)\n",
    "    #print(\"my value (being ignore) is\", h[0,0,0:5])\n",
    "    #print(f\"skipping ahead h at position {position}\")\n",
    "    global storage\n",
    "    B,E,N = h.size()\n",
    "    grab_pos = position-1\n",
    "    if grab_pos < 0:\n",
    "        h[batch,:,:] = torch.zeros((E,N), device=model.cfg.device)\n",
    "    else:\n",
    "        B,E,N = h.size()\n",
    "        A_contribution = torch.ones((E,N), device=model.cfg.device)\n",
    "        for missed_pos in range(grab_pos+1, position+1):\n",
    "            A_contribution *= storage['A_bar'][batch,missed_pos,:,:]\n",
    "        h_stored = storage[grab_pos][batch,:,:]\n",
    "        h[batch,:,:] = A_contribution*h_stored\n",
    "        #return A_contribution*storage[grab_pos]\n",
    "    storage[position] = h\n",
    "    return h\n",
    "\n",
    "\n",
    "## Regular patching hooks\n",
    "def position_patching_hook( # also works for B L E, B L E N, and B L N sized things\n",
    "    x: Float[torch.Tensor, \"B L D\"],\n",
    "    hook: HookPoint,\n",
    "    position: int,\n",
    "    layer: int, # we don't care about this\n",
    "    batch: int,\n",
    ") -> Float[torch.Tensor, \"B L D\"]:\n",
    "    # only intervene on the specific pos\n",
    "    corrupted_x = corrupted_activations[hook.name]\n",
    "    x[batch, position, :] = corrupted_x[0, position, :]\n",
    "    return x\n",
    "\n",
    "def h_patching_hook(\n",
    "    h: Float[torch.Tensor, \"B E N\"],\n",
    "    hook: HookPoint,\n",
    "    position: int,\n",
    "    layer: int,\n",
    "    batch: int,\n",
    ") -> Float[torch.Tensor, \"B E N\"]:\n",
    "    corrupted_h = corrupted_activations[hook.name]\n",
    "    h[batch] = corrupted_h[0]\n",
    "    return h\n",
    "\n",
    "def h_n_patching_hook(\n",
    "    h: Float[torch.Tensor, \"B E N\"],\n",
    "    hook: HookPoint,\n",
    "    position: int,\n",
    "    layer: int,\n",
    "    n: int,\n",
    "    batch: int,\n",
    ") -> Float[torch.Tensor, \"B E N\"]:\n",
    "    corrupted_h = corrupted_activations[hook.name]\n",
    "    h[batch,:,n] = corrupted_h[0,:,n]\n",
    "    return h\n",
    "\n",
    "SKIPPING_H_PATCHING = 'skipping h'\n",
    "H_N_PATCHING = 'h_n'\n",
    "LAYER_SKIPPING = 'skipping layer'\n",
    "\n",
    "patching_types = {\n",
    "    'normalized input': (lambda layer, position: f'blocks.{layer}.hook_normalized_input', position_patching_hook),\n",
    "    'layer input': (lambda layer, position: f'blocks.{layer}.hook_resid_pre', position_patching_hook),\n",
    "    'skip': (lambda layer, position: f'blocks.{layer}.hook_skip', position_patching_hook), \n",
    "    'in proj': (lambda layer, position: f'blocks.{layer}.hook_in_proj', position_patching_hook), \n",
    "    'conv': (lambda layer, position: f'blocks.{layer}.hook_conv', position_patching_hook), \n",
    "    'delta 1': (lambda layer, position: f'blocks.{layer}.hook_delta_1', position_patching_hook), \n",
    "    'delta 2': (lambda layer, position: f'blocks.{layer}.hook_delta_2', position_patching_hook), \n",
    "    'delta': (lambda layer, position: f'blocks.{layer}.hook_delta', position_patching_hook), \n",
    "    'A_bar': (lambda layer, position: f'blocks.{layer}.hook_A_bar', position_patching_hook), \n",
    "    'B': (lambda layer, position: f'blocks.{layer}.hook_B', position_patching_hook), \n",
    "    'B_bar': (lambda layer, position: f'blocks.{layer}.hook_B_bar', position_patching_hook), \n",
    "    'C': (lambda layer, position: f'blocks.{layer}.hook_C', position_patching_hook), \n",
    "    'ssm input': (lambda layer, position: f'blocks.{layer}.hook_ssm_input', position_patching_hook),\n",
    "    SKIPPING_H_PATCHING: (lambda layer, position: f'blocks.{layer}.hook_h.{position}', skipping_h_hook),\n",
    "    'h': (lambda layer, position: f'blocks.{layer}.hook_h.{position}', h_patching_hook),\n",
    "    H_N_PATCHING: (lambda layer, position: f'blocks.{layer}.hook_h.{position}', h_n_patching_hook),\n",
    "    'y': (lambda layer, position: f'blocks.{layer}.hook_y', position_patching_hook),\n",
    "    'ssm output': (lambda layer, position: f'blocks.{layer}.hook_ssm_output', position_patching_hook),\n",
    "    'after skip': (lambda layer, position: f'blocks.{layer}.hook_after_skip', position_patching_hook),\n",
    "    'out proj': (lambda layer, position: f'blocks.{layer}.hook_out_proj', position_patching_hook),\n",
    "    'resid post': (lambda layer, position: f'blocks.{layer}.hook_resid_post', position_patching_hook),\n",
    "    LAYER_SKIPPING: (lambda layer, position: f'blocks.{layer}.hook_resid_post', layer_output_skipping_hook),\n",
    "}\n",
    "\n",
    "patching_types_keys = list(patching_types.keys())\n",
    "\n",
    "def choose_patching_type(change):\n",
    "    if change['type'] == 'change' and change['name'] == 'value':\n",
    "        choose_patching_type.patching_type = change['new'] # hack, gives this function the patching_type attribute\n",
    "\n",
    "choose_patching_type.patching_type = patching_types_keys[0]\n",
    "\n",
    "patching_type_dropdown = ipywidgets.Dropdown(\n",
    "    options=patching_types_keys,\n",
    "    value=patching_types_keys[0],\n",
    "    description='Patching Type',\n",
    ")\n",
    "patching_type_dropdown.observe(choose_patching_type)\n",
    "display(patching_type_dropdown)\n",
    "\n",
    "\n",
    "fast_conv_keys = ['True', 'False']\n",
    "\n",
    "def choose_fast_conv(change):\n",
    "    if change['type'] == 'change' and change['name'] == 'value':\n",
    "        choose_fast_conv.fast_conv = change['new'] == 'True'\n",
    "\n",
    "choose_fast_conv.fast_conv = fast_conv_keys[0] == 'True'\n",
    "\n",
    "choose_fast_conv_dropdown = ipywidgets.Dropdown(\n",
    "    options=fast_conv_keys,\n",
    "    value=fast_conv_keys[0],\n",
    "    description='fast conv',\n",
    ")\n",
    "choose_fast_conv_dropdown.observe(choose_fast_conv)\n",
    "display(choose_fast_conv_dropdown)\n",
    "\n",
    "\n",
    "fast_ssm_keys = ['False', 'True']\n",
    "\n",
    "def choose_fast_ssm(change):\n",
    "    if change['type'] == 'change' and change['name'] == 'value':\n",
    "        choose_fast_ssm.fast_ssm = change['new'] == 'True'\n",
    "\n",
    "choose_fast_ssm.fast_ssm = fast_ssm_keys[0] == 'True'\n",
    "\n",
    "choose_fast_ssm_dropdown = ipywidgets.Dropdown(\n",
    "    options=fast_ssm_keys,\n",
    "    value=fast_ssm_keys[0],\n",
    "    description='fast ssm',\n",
    ")\n",
    "choose_fast_ssm_dropdown.observe(choose_fast_ssm)\n",
    "display(choose_fast_ssm_dropdown)\n",
    "\n",
    "SHOW_PR = 'Pr'\n",
    "SHOW_LOGITS = 'Logits'\n",
    "SHOW_BOTH = 'Both'\n",
    "show_options = [SHOW_LOGITS, SHOW_PR, SHOW_BOTH]\n",
    "\n",
    "def choose_show_options(change):\n",
    "    if change['type'] == 'change' and change['name'] == 'value':\n",
    "        choose_show_options.show_options = change['new']\n",
    "\n",
    "choose_show_options.show_options = show_options[0]\n",
    "\n",
    "show_options_dropdown = ipywidgets.Dropdown(\n",
    "    options=show_options,\n",
    "    value=show_options[0],\n",
    "    description='logits or pr',\n",
    ")\n",
    "show_options_dropdown.observe(choose_show_options)\n",
    "display(show_options_dropdown)\n",
    "\n",
    "def do_patching(arg, show_plot=True):\n",
    "    with output: # this lets the stuff we output here be visible\n",
    "        clear_output()\n",
    "        patching_type = choose_patching_type.patching_type\n",
    "        hook_name_func, hook_func = patching_types[patching_type]\n",
    "        return run_patching(\n",
    "                     patching_type=patching_type,\n",
    "                     patching_hook_name_func=hook_name_func,\n",
    "                     patching_hook_func=hook_func,\n",
    "                     fast_ssm=choose_fast_ssm.fast_ssm,\n",
    "                     fast_conv=choose_fast_conv.fast_conv,\n",
    "                     show_options=choose_show_options.show_options,\n",
    "                     show_plot=show_plot)\n",
    "\n",
    "patching_button = ipywidgets.Button(description = 'Run Patching')\n",
    "patching_button.on_click(do_patching)\n",
    "display(patching_button)\n",
    "\n",
    "# you can't just display stuff inside a widget callback, you need a wrap any display code in this\n",
    "output = ipywidgets.Output()\n",
    "display(output)\n"
   ]
  },
  {
   "cell_type": "markdown",
   "id": "439e600d-6693-4ecb-b105-308e111c588e",
   "metadata": {},
   "source": [
    "## Attention map like stuff"
   ]
  },
  {
   "cell_type": "code",
   "execution_count": 18,
   "id": "b5df76d1-dca9-4848-b9c9-3ad85a414834",
   "metadata": {},
   "outputs": [
    {
     "data": {
      "application/vnd.jupyter.widget-view+json": {
       "model_id": "43c3e66e254847c99b4d4922df30caae",
       "version_major": 2,
       "version_minor": 0
      },
      "text/plain": [
       "  0%|          | 0/48 [00:00<?, ?it/s]"
      ]
     },
     "metadata": {},
     "output_type": "display_data"
    }
   ],
   "source": [
    "\n",
    "def cosine_similarity(vec1, vec2):\n",
    "    B = vec1.size()[0]\n",
    "    vec1 = vec1.reshape(B,-1)\n",
    "    vec2 = vec2.reshape(B,-1)\n",
    "    my_mag = torch.linalg.norm(vec1, ord=2, dim=1)\n",
    "    my_mag[my_mag == 0] = 1.0 # prevent divide by zero\n",
    "    other_mag = torch.linalg.norm(vec2, ord=2, dim=1)\n",
    "    other_mag[other_mag == 0] = 1.0 # prevent divide by zero\n",
    "    prod = vec1 * vec2\n",
    "    dot_prod = prod.sum(dim=1)\n",
    "    sims = dot_prod * (1.0/my_mag) * (1.0/other_mag)\n",
    "    return torch.mean(sims, dim=0)\n",
    "\n",
    "\n",
    "B,L = batched_data.size()\n",
    "limited_layers = list(range(model.cfg.n_layers))\n",
    "n_layers = len(limited_layers)\n",
    "names_filter = []\n",
    "for layer in limited_layers:\n",
    "    names_filter.append(f'blocks.{layer}.hook_A_bar')\n",
    "    names_filter.append(f'blocks.{layer}.hook_B_bar')\n",
    "    names_filter.append(f'blocks.{layer}.hook_ssm_input')\n",
    "    for l in range(L):\n",
    "        names_filter.append(f'blocks.{layer}.hook_h.{l}')\n",
    "        \n",
    "logits, activations = model.run_with_cache(batched_data, names_filter=names_filter)\n",
    "\n",
    "h_similarities = torch.zeros([n_layers, L, L])\n",
    "x_b_similarities = torch.zeros([n_layers, L, L])\n",
    "h_to_x_b_similarities = torch.zeros([n_layers, L, L])\n",
    "h_to_x_b_similarities_catchup = torch.zeros([n_layers, L, L])\n",
    "E,N = model.cfg.E, model.cfg.N\n",
    "for i, layer in tqdm(list(enumerate(limited_layers))):\n",
    "    # [B,L,E,N]\n",
    "    A_bar = activations[f'blocks.{layer}.hook_A_bar']\n",
    "    # [B,L,E,N]\n",
    "    B_bar = activations[f'blocks.{layer}.hook_B_bar']\n",
    "    # [B,L,E]\n",
    "    x = activations[f'blocks.{layer}.hook_ssm_input']\n",
    "    # [B,L,E,N]\n",
    "    x_b = x.view(B,L,E,1)*B_bar\n",
    "    for pos in range(L):\n",
    "        my_h = activations[f'blocks.{layer}.hook_h.{pos}']\n",
    "        my_x_b = x_b[:,pos,:,:]\n",
    "        for other_pos in range(L):\n",
    "            other_h = activations[f'blocks.{layer}.hook_h.{other_pos}']\n",
    "            other_x_b = x_b[:,other_pos,:,:]\n",
    "            h_similarities[i,pos,other_pos] = cosine_similarity(my_h, other_h)\n",
    "            x_b_similarities[i,pos,other_pos] = cosine_similarity(my_x_b, other_x_b)\n",
    "            h_to_x_b_similarities[i,pos,other_pos] = cosine_similarity(my_x_b, other_h)\n",
    "            my_x_b_catchuped = my_x_b\n",
    "            for catchup_pos in range(pos+1, other_pos+1):\n",
    "                my_x_b_catchuped = my_x_b_catchuped * A_bar[:,catchup_pos]\n",
    "            h_to_x_b_similarities_catchup[i,pos,other_pos] = cosine_similarity(my_x_b_catchuped, other_h)\n",
    "            #if pos == other_pos: continue\n",
    "            #other_h = h_from_x[:,other_pos,:,:]\n",
    "            #for catchup_pos in range(other_pos+1, pos+1):\n",
    "            #    other_h_catchuped = other_h_catchuped * A_bar[:,catchup_pos]\n",
    "            # [B,E,N]\n",
    "\n",
    "            #my_mag = torch.linalg.norm(my_h_catchuped.reshape(B,E*N), ord=2, dim=1)\n",
    "            #my_mag[my_mag == 0] = 1.0 # prevent divide by zero\n",
    "            #other_mag = torch.linalg.norm(other_h_catchuped.reshape(B,E*N), ord=2, dim=1)\n",
    "            #other_mag[other_mag == 0] = 1.0 # prevent divide by zero\n",
    "            # [B]\n",
    "            # [B]\n",
    "            #cosine_similarity = dot_prod * (1.0/other_mag) * (1.0/my_mag)\n",
    "            #\n",
    "\n"
   ]
  },
  {
   "cell_type": "code",
   "execution_count": 19,
   "id": "372c6eb6-245c-4fdd-9911-9d705a7765ac",
   "metadata": {},
   "outputs": [
    {
     "data": {
      "application/vnd.plotly.v1+json": {
       "config": {
        "plotlyServerURL": "https://plot.ly"
       },
       "data": [
        {
         "coloraxis": "coloraxis",
         "hovertemplate": "Position: %{x}<br>Position: %{y}<br>color: %{z}<extra></extra>",
         "name": "0",
         "type": "heatmap",
         "x": [
          "<|endoftext|>_0",
          "L_1",
          "ately_2",
          ",_3",
          " Jerry_4",
          " and_5",
          " Dale_6",
          " had_7",
          " fun_8",
          " at_9",
          " the_10",
          " restaurant_11",
          "._12",
          " Jerry-> Dale_13",
          " gave_14",
          " a_15",
          " ring_16",
          " to_17"
         ],
         "xaxis": "x",
         "y": [
          "<|endoftext|>_0",
          "L_1",
          "ately_2",
          ",_3",
          " Jerry_4",
          " and_5",
          " Dale_6",
          " had_7",
          " fun_8",
          " at_9",
          " the_10",
          " restaurant_11",
          "._12",
          " Jerry-> Dale_13",
          " gave_14",
          " a_15",
          " ring_16",
          " to_17"
         ],
         "yaxis": "y",
         "z": [
          [
           1.000000238418579,
           0.08983488380908966,
           0.11768483370542526,
           -0.06736680120229721,
           0.20008565485477448,
           0.02076820656657219,
           0.08224659413099289,
           0.00942185614258051,
           0.03574344143271446,
           0.1367662250995636,
           0.18568235635757446,
           0.19221989810466766,
           0.02107376791536808,
           0.2029878944158554,
           0.008320515975356102,
           0.08552087098360062,
           0.10548906773328781,
           0.010047834366559982
          ],
          [
           0.08983488380908966,
           0.9999999403953552,
           -0.2776603400707245,
           0.09985010325908661,
           0.057828087359666824,
           0.005154811777174473,
           -0.018357835710048676,
           -0.0031745366286486387,
           0.07697312533855438,
           0.003324682591482997,
           0.015235726721584797,
           -0.024729808792471886,
           0.04588688164949417,
           -0.00210779276676476,
           0.02528422884643078,
           -0.017105698585510254,
           -0.04279191792011261,
           0.013393254019320011
          ],
          [
           0.11768483370542526,
           -0.2776603698730469,
           1,
           -0.30733969807624817,
           -0.017880769446492195,
           0.021817229688167572,
           0.07562512159347534,
           -0.0033784331753849983,
           -0.08245876431465149,
           0.0884825810790062,
           0.015238190069794655,
           0.03641948476433754,
           -0.02584650181233883,
           0.13044129312038422,
           -0.03725995495915413,
           0.037806373089551926,
           0.056463245302438736,
           -0.050220273435115814
          ],
          [
           -0.06736680865287781,
           0.09985010325908661,
           -0.3073396384716034,
           1.000000238418579,
           0.07759716361761093,
           -0.028266888111829758,
           -0.20848211646080017,
           0.05143933743238449,
           0.1090405061841011,
           -0.2893291711807251,
           0.007127002812922001,
           0.02184261567890644,
           -0.05371972545981407,
           -0.1792408674955368,
           0.001990838907659054,
           0.03503595292568207,
           0.012714738957583904,
           0.0443110466003418
          ],
          [
           0.20008565485477448,
           0.057828087359666824,
           -0.017880769446492195,
           0.07759716361761093,
           1,
           -0.08525040745735168,
           0.1033366397023201,
           0.054920706897974014,
           0.00818532146513462,
           0.26239392161369324,
           0.20112019777297974,
           0.27300700545310974,
           0.025927415117621422,
           0.2586131989955902,
           0.020063478499650955,
           0.10582982748746872,
           -0.014967847615480423,
           0.07435225695371628
          ],
          [
           0.02076820656657219,
           0.0051548113115131855,
           0.02181723155081272,
           -0.028266891837120056,
           -0.08525040745735168,
           1,
           -0.036322109401226044,
           0.12075458467006683,
           0.042538922280073166,
           -0.009801797568798065,
           0.002425561426207423,
           -0.005550740286707878,
           -0.00921813864260912,
           0.0009225160465575755,
           0.28632602095603943,
           0.0006910448428243399,
           -0.005754373501986265,
           -0.0169577244669199
          ],
          [
           0.08224659413099289,
           -0.018357835710048676,
           0.07562512159347534,
           -0.20848213136196136,
           0.1033366397023201,
           -0.036322105675935745,
           1,
           -0.19737637042999268,
           0.16914337873458862,
           0.11211366951465607,
           0.05660941079258919,
           0.08829004317522049,
           0.04685821011662483,
           0.14840464293956757,
           0.020484358072280884,
           0.15373964607715607,
           0.03581763431429863,
           0.01003152597695589
          ],
          [
           0.00942185614258051,
           -0.003174537094309926,
           -0.0033784345723688602,
           0.05143933743238449,
           0.05492069944739342,
           0.12075457721948624,
           -0.19737637042999268,
           1,
           -0.1136561930179596,
           0.019480861723423004,
           0.001792547875083983,
           0.010820449329912663,
           -0.017377464100718498,
           -0.01951034739613533,
           0.2533573508262634,
           -0.01368797942996025,
           -0.012831940315663815,
           0.02234611287713051
          ],
          [
           0.035743437707424164,
           0.07697312533855438,
           -0.08245875686407089,
           0.10904049128293991,
           0.008185322396457195,
           0.042538922280073166,
           0.16914336383342743,
           -0.1136561930179596,
           1,
           -0.02946433797478676,
           0.11418786644935608,
           0.07071152329444885,
           0.019262047484517097,
           0.10401099920272827,
           0.05457022041082382,
           0.25958094000816345,
           0.09817982465028763,
           -0.015309780836105347
          ],
          [
           0.1367662250995636,
           0.0033246821258217096,
           0.0884825810790062,
           -0.2893291711807251,
           0.26239392161369324,
           -0.00980179850012064,
           0.11211366951465607,
           0.019480861723423004,
           -0.02946433797478676,
           1,
           0.25411784648895264,
           0.1873023808002472,
           0.05296118184924126,
           0.09299159795045853,
           0.07281243056058884,
           0.11210167407989502,
           -0.021387342363595963,
           0.15649999678134918
          ],
          [
           0.18568234145641327,
           0.015235726721584797,
           0.015238190069794655,
           0.007127003278583288,
           0.20112018287181854,
           0.002425561426207423,
           0.05660941079258919,
           0.001792547875083983,
           0.11418785154819489,
           0.25411784648895264,
           1,
           0.5297968983650208,
           0.02357625775039196,
           0.1329067498445511,
           0.009644542820751667,
           0.3537093698978424,
           0.19019557535648346,
           0.008318867534399033
          ],
          [
           0.19221989810466766,
           -0.024729808792471886,
           0.03641948103904724,
           0.02184261754155159,
           0.27300703525543213,
           -0.0055507393553853035,
           0.08829003572463989,
           0.010820449329912663,
           0.07071152329444885,
           0.1873023808002472,
           0.5297968983650208,
           1,
           -0.030099257826805115,
           0.15254218876361847,
           0.002872255863621831,
           0.20904244482517242,
           0.2594030499458313,
           0.017396681010723114
          ],
          [
           0.02107376791536808,
           0.04588688537478447,
           -0.02584649994969368,
           -0.05371972918510437,
           0.025927415117621422,
           -0.009218142367899418,
           0.04685821011662483,
           -0.01737746223807335,
           0.0192620437592268,
           0.05296117812395096,
           0.02357625775039196,
           -0.030099257826805115,
           1,
           -0.008518618531525135,
           0.040125079452991486,
           0.006814659107476473,
           0.01757434569299221,
           0.11570996791124344
          ],
          [
           0.2029878795146942,
           -0.0021077923011034727,
           0.13044129312038422,
           -0.1792408674955368,
           0.2586131691932678,
           0.0009225158137269318,
           0.14840464293956757,
           -0.01951034925878048,
           0.10401099920272827,
           0.09299159795045853,
           0.1329067498445511,
           0.15254218876361847,
           -0.008518618531525135,
           1,
           0.008981619030237198,
           0.143731951713562,
           0.23433946073055267,
           -0.0047509330324828625
          ],
          [
           0.008320516906678677,
           0.02528422884643078,
           -0.03725995123386383,
           0.0019908370450139046,
           0.020063478499650955,
           0.28632602095603943,
           0.020484358072280884,
           0.2533573508262634,
           0.05457022041082382,
           0.07281243056058884,
           0.009644541889429092,
           0.0028722556307911873,
           0.040125079452991486,
           0.008981619961559772,
           1,
           0.025084901601076126,
           -0.0013157480861991644,
           0.005759815219789743
          ],
          [
           0.08552087098360062,
           -0.017105698585510254,
           0.037806376814842224,
           0.035035956650972366,
           0.10582982748746872,
           0.0006910453666932881,
           0.15373964607715607,
           -0.013687978498637676,
           0.25958094000816345,
           0.11210167407989502,
           0.3537093698978424,
           0.20904244482517242,
           0.006814658176153898,
           0.143731951713562,
           0.025084901601076126,
           1,
           0.1722063422203064,
           0.010643212124705315
          ],
          [
           0.10548906773328781,
           -0.04279191792011261,
           0.056463245302438736,
           0.012714739888906479,
           -0.014967846684157848,
           -0.005754373501986265,
           0.03581763431429863,
           -0.01283194124698639,
           0.09817982465028763,
           -0.021387342363595963,
           0.19019557535648346,
           0.2594030499458313,
           0.01757434569299221,
           0.23433947563171387,
           -0.0013157479697838426,
           0.1722063422203064,
           1,
           -0.014539809897542
          ],
          [
           0.010047833435237408,
           0.013393254019320011,
           -0.050220269709825516,
           0.0443110391497612,
           0.07435225695371628,
           -0.0169577244669199,
           0.010031523182988167,
           0.022346114739775658,
           -0.015309780836105347,
           0.156499981880188,
           0.008318867534399033,
           0.017396681010723114,
           0.11570997536182404,
           -0.004750934429466724,
           0.005759816151112318,
           0.010643212124705315,
           -0.014539808966219425,
           1
          ]
         ]
        }
       ],
       "layout": {
        "autosize": true,
        "coloraxis": {
         "cmid": 0,
         "colorscale": [
          [
           0,
           "rgb(103,0,31)"
          ],
          [
           0.1,
           "rgb(178,24,43)"
          ],
          [
           0.2,
           "rgb(214,96,77)"
          ],
          [
           0.3,
           "rgb(244,165,130)"
          ],
          [
           0.4,
           "rgb(253,219,199)"
          ],
          [
           0.5,
           "rgb(247,247,247)"
          ],
          [
           0.6,
           "rgb(209,229,240)"
          ],
          [
           0.7,
           "rgb(146,197,222)"
          ],
          [
           0.8,
           "rgb(67,147,195)"
          ],
          [
           0.9,
           "rgb(33,102,172)"
          ],
          [
           1,
           "rgb(5,48,97)"
          ]
         ]
        },
        "font": {
         "color": "black",
         "size": 8
        },
        "template": {
         "data": {
          "bar": [
           {
            "error_x": {
             "color": "#2a3f5f"
            },
            "error_y": {
             "color": "#2a3f5f"
            },
            "marker": {
             "line": {
              "color": "#E5ECF6",
              "width": 0.5
             },
             "pattern": {
              "fillmode": "overlay",
              "size": 10,
              "solidity": 0.2
             }
            },
            "type": "bar"
           }
          ],
          "barpolar": [
           {
            "marker": {
             "line": {
              "color": "#E5ECF6",
              "width": 0.5
             },
             "pattern": {
              "fillmode": "overlay",
              "size": 10,
              "solidity": 0.2
             }
            },
            "type": "barpolar"
           }
          ],
          "carpet": [
           {
            "aaxis": {
             "endlinecolor": "#2a3f5f",
             "gridcolor": "white",
             "linecolor": "white",
             "minorgridcolor": "white",
             "startlinecolor": "#2a3f5f"
            },
            "baxis": {
             "endlinecolor": "#2a3f5f",
             "gridcolor": "white",
             "linecolor": "white",
             "minorgridcolor": "white",
             "startlinecolor": "#2a3f5f"
            },
            "type": "carpet"
           }
          ],
          "choropleth": [
           {
            "colorbar": {
             "outlinewidth": 0,
             "ticks": ""
            },
            "type": "choropleth"
           }
          ],
          "contour": [
           {
            "colorbar": {
             "outlinewidth": 0,
             "ticks": ""
            },
            "colorscale": [
             [
              0,
              "#0d0887"
             ],
             [
              0.1111111111111111,
              "#46039f"
             ],
             [
              0.2222222222222222,
              "#7201a8"
             ],
             [
              0.3333333333333333,
              "#9c179e"
             ],
             [
              0.4444444444444444,
              "#bd3786"
             ],
             [
              0.5555555555555556,
              "#d8576b"
             ],
             [
              0.6666666666666666,
              "#ed7953"
             ],
             [
              0.7777777777777778,
              "#fb9f3a"
             ],
             [
              0.8888888888888888,
              "#fdca26"
             ],
             [
              1,
              "#f0f921"
             ]
            ],
            "type": "contour"
           }
          ],
          "contourcarpet": [
           {
            "colorbar": {
             "outlinewidth": 0,
             "ticks": ""
            },
            "type": "contourcarpet"
           }
          ],
          "heatmap": [
           {
            "colorbar": {
             "outlinewidth": 0,
             "ticks": ""
            },
            "colorscale": [
             [
              0,
              "#0d0887"
             ],
             [
              0.1111111111111111,
              "#46039f"
             ],
             [
              0.2222222222222222,
              "#7201a8"
             ],
             [
              0.3333333333333333,
              "#9c179e"
             ],
             [
              0.4444444444444444,
              "#bd3786"
             ],
             [
              0.5555555555555556,
              "#d8576b"
             ],
             [
              0.6666666666666666,
              "#ed7953"
             ],
             [
              0.7777777777777778,
              "#fb9f3a"
             ],
             [
              0.8888888888888888,
              "#fdca26"
             ],
             [
              1,
              "#f0f921"
             ]
            ],
            "type": "heatmap"
           }
          ],
          "heatmapgl": [
           {
            "colorbar": {
             "outlinewidth": 0,
             "ticks": ""
            },
            "colorscale": [
             [
              0,
              "#0d0887"
             ],
             [
              0.1111111111111111,
              "#46039f"
             ],
             [
              0.2222222222222222,
              "#7201a8"
             ],
             [
              0.3333333333333333,
              "#9c179e"
             ],
             [
              0.4444444444444444,
              "#bd3786"
             ],
             [
              0.5555555555555556,
              "#d8576b"
             ],
             [
              0.6666666666666666,
              "#ed7953"
             ],
             [
              0.7777777777777778,
              "#fb9f3a"
             ],
             [
              0.8888888888888888,
              "#fdca26"
             ],
             [
              1,
              "#f0f921"
             ]
            ],
            "type": "heatmapgl"
           }
          ],
          "histogram": [
           {
            "marker": {
             "pattern": {
              "fillmode": "overlay",
              "size": 10,
              "solidity": 0.2
             }
            },
            "type": "histogram"
           }
          ],
          "histogram2d": [
           {
            "colorbar": {
             "outlinewidth": 0,
             "ticks": ""
            },
            "colorscale": [
             [
              0,
              "#0d0887"
             ],
             [
              0.1111111111111111,
              "#46039f"
             ],
             [
              0.2222222222222222,
              "#7201a8"
             ],
             [
              0.3333333333333333,
              "#9c179e"
             ],
             [
              0.4444444444444444,
              "#bd3786"
             ],
             [
              0.5555555555555556,
              "#d8576b"
             ],
             [
              0.6666666666666666,
              "#ed7953"
             ],
             [
              0.7777777777777778,
              "#fb9f3a"
             ],
             [
              0.8888888888888888,
              "#fdca26"
             ],
             [
              1,
              "#f0f921"
             ]
            ],
            "type": "histogram2d"
           }
          ],
          "histogram2dcontour": [
           {
            "colorbar": {
             "outlinewidth": 0,
             "ticks": ""
            },
            "colorscale": [
             [
              0,
              "#0d0887"
             ],
             [
              0.1111111111111111,
              "#46039f"
             ],
             [
              0.2222222222222222,
              "#7201a8"
             ],
             [
              0.3333333333333333,
              "#9c179e"
             ],
             [
              0.4444444444444444,
              "#bd3786"
             ],
             [
              0.5555555555555556,
              "#d8576b"
             ],
             [
              0.6666666666666666,
              "#ed7953"
             ],
             [
              0.7777777777777778,
              "#fb9f3a"
             ],
             [
              0.8888888888888888,
              "#fdca26"
             ],
             [
              1,
              "#f0f921"
             ]
            ],
            "type": "histogram2dcontour"
           }
          ],
          "mesh3d": [
           {
            "colorbar": {
             "outlinewidth": 0,
             "ticks": ""
            },
            "type": "mesh3d"
           }
          ],
          "parcoords": [
           {
            "line": {
             "colorbar": {
              "outlinewidth": 0,
              "ticks": ""
             }
            },
            "type": "parcoords"
           }
          ],
          "pie": [
           {
            "automargin": true,
            "type": "pie"
           }
          ],
          "scatter": [
           {
            "fillpattern": {
             "fillmode": "overlay",
             "size": 10,
             "solidity": 0.2
            },
            "type": "scatter"
           }
          ],
          "scatter3d": [
           {
            "line": {
             "colorbar": {
              "outlinewidth": 0,
              "ticks": ""
             }
            },
            "marker": {
             "colorbar": {
              "outlinewidth": 0,
              "ticks": ""
             }
            },
            "type": "scatter3d"
           }
          ],
          "scattercarpet": [
           {
            "marker": {
             "colorbar": {
              "outlinewidth": 0,
              "ticks": ""
             }
            },
            "type": "scattercarpet"
           }
          ],
          "scattergeo": [
           {
            "marker": {
             "colorbar": {
              "outlinewidth": 0,
              "ticks": ""
             }
            },
            "type": "scattergeo"
           }
          ],
          "scattergl": [
           {
            "marker": {
             "colorbar": {
              "outlinewidth": 0,
              "ticks": ""
             }
            },
            "type": "scattergl"
           }
          ],
          "scattermapbox": [
           {
            "marker": {
             "colorbar": {
              "outlinewidth": 0,
              "ticks": ""
             }
            },
            "type": "scattermapbox"
           }
          ],
          "scatterpolar": [
           {
            "marker": {
             "colorbar": {
              "outlinewidth": 0,
              "ticks": ""
             }
            },
            "type": "scatterpolar"
           }
          ],
          "scatterpolargl": [
           {
            "marker": {
             "colorbar": {
              "outlinewidth": 0,
              "ticks": ""
             }
            },
            "type": "scatterpolargl"
           }
          ],
          "scatterternary": [
           {
            "marker": {
             "colorbar": {
              "outlinewidth": 0,
              "ticks": ""
             }
            },
            "type": "scatterternary"
           }
          ],
          "surface": [
           {
            "colorbar": {
             "outlinewidth": 0,
             "ticks": ""
            },
            "colorscale": [
             [
              0,
              "#0d0887"
             ],
             [
              0.1111111111111111,
              "#46039f"
             ],
             [
              0.2222222222222222,
              "#7201a8"
             ],
             [
              0.3333333333333333,
              "#9c179e"
             ],
             [
              0.4444444444444444,
              "#bd3786"
             ],
             [
              0.5555555555555556,
              "#d8576b"
             ],
             [
              0.6666666666666666,
              "#ed7953"
             ],
             [
              0.7777777777777778,
              "#fb9f3a"
             ],
             [
              0.8888888888888888,
              "#fdca26"
             ],
             [
              1,
              "#f0f921"
             ]
            ],
            "type": "surface"
           }
          ],
          "table": [
           {
            "cells": {
             "fill": {
              "color": "#EBF0F8"
             },
             "line": {
              "color": "white"
             }
            },
            "header": {
             "fill": {
              "color": "#C8D4E3"
             },
             "line": {
              "color": "white"
             }
            },
            "type": "table"
           }
          ]
         },
         "layout": {
          "annotationdefaults": {
           "arrowcolor": "#2a3f5f",
           "arrowhead": 0,
           "arrowwidth": 1
          },
          "autotypenumbers": "strict",
          "coloraxis": {
           "colorbar": {
            "outlinewidth": 0,
            "ticks": ""
           }
          },
          "colorscale": {
           "diverging": [
            [
             0,
             "#8e0152"
            ],
            [
             0.1,
             "#c51b7d"
            ],
            [
             0.2,
             "#de77ae"
            ],
            [
             0.3,
             "#f1b6da"
            ],
            [
             0.4,
             "#fde0ef"
            ],
            [
             0.5,
             "#f7f7f7"
            ],
            [
             0.6,
             "#e6f5d0"
            ],
            [
             0.7,
             "#b8e186"
            ],
            [
             0.8,
             "#7fbc41"
            ],
            [
             0.9,
             "#4d9221"
            ],
            [
             1,
             "#276419"
            ]
           ],
           "sequential": [
            [
             0,
             "#0d0887"
            ],
            [
             0.1111111111111111,
             "#46039f"
            ],
            [
             0.2222222222222222,
             "#7201a8"
            ],
            [
             0.3333333333333333,
             "#9c179e"
            ],
            [
             0.4444444444444444,
             "#bd3786"
            ],
            [
             0.5555555555555556,
             "#d8576b"
            ],
            [
             0.6666666666666666,
             "#ed7953"
            ],
            [
             0.7777777777777778,
             "#fb9f3a"
            ],
            [
             0.8888888888888888,
             "#fdca26"
            ],
            [
             1,
             "#f0f921"
            ]
           ],
           "sequentialminus": [
            [
             0,
             "#0d0887"
            ],
            [
             0.1111111111111111,
             "#46039f"
            ],
            [
             0.2222222222222222,
             "#7201a8"
            ],
            [
             0.3333333333333333,
             "#9c179e"
            ],
            [
             0.4444444444444444,
             "#bd3786"
            ],
            [
             0.5555555555555556,
             "#d8576b"
            ],
            [
             0.6666666666666666,
             "#ed7953"
            ],
            [
             0.7777777777777778,
             "#fb9f3a"
            ],
            [
             0.8888888888888888,
             "#fdca26"
            ],
            [
             1,
             "#f0f921"
            ]
           ]
          },
          "colorway": [
           "#636efa",
           "#EF553B",
           "#00cc96",
           "#ab63fa",
           "#FFA15A",
           "#19d3f3",
           "#FF6692",
           "#B6E880",
           "#FF97FF",
           "#FECB52"
          ],
          "font": {
           "color": "#2a3f5f"
          },
          "geo": {
           "bgcolor": "white",
           "lakecolor": "white",
           "landcolor": "#E5ECF6",
           "showlakes": true,
           "showland": true,
           "subunitcolor": "white"
          },
          "hoverlabel": {
           "align": "left"
          },
          "hovermode": "closest",
          "mapbox": {
           "style": "light"
          },
          "paper_bgcolor": "white",
          "plot_bgcolor": "#E5ECF6",
          "polar": {
           "angularaxis": {
            "gridcolor": "white",
            "linecolor": "white",
            "ticks": ""
           },
           "bgcolor": "#E5ECF6",
           "radialaxis": {
            "gridcolor": "white",
            "linecolor": "white",
            "ticks": ""
           }
          },
          "scene": {
           "xaxis": {
            "backgroundcolor": "#E5ECF6",
            "gridcolor": "white",
            "gridwidth": 2,
            "linecolor": "white",
            "showbackground": true,
            "ticks": "",
            "zerolinecolor": "white"
           },
           "yaxis": {
            "backgroundcolor": "#E5ECF6",
            "gridcolor": "white",
            "gridwidth": 2,
            "linecolor": "white",
            "showbackground": true,
            "ticks": "",
            "zerolinecolor": "white"
           },
           "zaxis": {
            "backgroundcolor": "#E5ECF6",
            "gridcolor": "white",
            "gridwidth": 2,
            "linecolor": "white",
            "showbackground": true,
            "ticks": "",
            "zerolinecolor": "white"
           }
          },
          "shapedefaults": {
           "line": {
            "color": "#2a3f5f"
           }
          },
          "ternary": {
           "aaxis": {
            "gridcolor": "white",
            "linecolor": "white",
            "ticks": ""
           },
           "baxis": {
            "gridcolor": "white",
            "linecolor": "white",
            "ticks": ""
           },
           "bgcolor": "#E5ECF6",
           "caxis": {
            "gridcolor": "white",
            "linecolor": "white",
            "ticks": ""
           }
          },
          "title": {
           "x": 0.05
          },
          "xaxis": {
           "automargin": true,
           "gridcolor": "white",
           "linecolor": "white",
           "ticks": "",
           "title": {
            "standoff": 15
           },
           "zerolinecolor": "white",
           "zerolinewidth": 2
          },
          "yaxis": {
           "automargin": true,
           "gridcolor": "white",
           "linecolor": "white",
           "ticks": "",
           "title": {
            "standoff": 15
           },
           "zerolinecolor": "white",
           "zerolinewidth": 2
          }
         }
        },
        "title": {
         "text": "Similarity of B x_i to B x_j on layer 39"
        },
        "xaxis": {
         "anchor": "y",
         "autorange": true,
         "constrain": "domain",
         "domain": [
          0.4196525515743757,
          0.5803474484256244
         ],
         "range": [
          -0.5,
          17.5
         ],
         "scaleanchor": "y",
         "tickmode": "array",
         "ticktext": [
          "<|endoftext|>_0",
          "L_1",
          "ately_2",
          ",_3",
          " Jerry_4",
          " and_5",
          " Dale_6",
          " had_7",
          " fun_8",
          " at_9",
          " the_10",
          " restaurant_11",
          "._12",
          " Jerry-> Dale_13",
          " gave_14",
          " a_15",
          " ring_16",
          " to_17"
         ],
         "tickvals": [
          "<|endoftext|>_0",
          "L_1",
          "ately_2",
          ",_3",
          " Jerry_4",
          " and_5",
          " Dale_6",
          " had_7",
          " fun_8",
          " at_9",
          " the_10",
          " restaurant_11",
          "._12",
          " Jerry-> Dale_13",
          " gave_14",
          " a_15",
          " ring_16",
          " to_17"
         ],
         "title": {
          "text": "Position"
         },
         "type": "category"
        },
        "yaxis": {
         "anchor": "x",
         "autorange": true,
         "constrain": "domain",
         "domain": [
          0,
          1
         ],
         "range": [
          17.5,
          -0.5
         ],
         "tickmode": "array",
         "ticktext": [
          "<|endoftext|>_0",
          "L_1",
          "ately_2",
          ",_3",
          " Jerry_4",
          " and_5",
          " Dale_6",
          " had_7",
          " fun_8",
          " at_9",
          " the_10",
          " restaurant_11",
          "._12",
          " Jerry-> Dale_13",
          " gave_14",
          " a_15",
          " ring_16",
          " to_17"
         ],
         "tickvals": [
          "<|endoftext|>_0",
          "L_1",
          "ately_2",
          ",_3",
          " Jerry_4",
          " and_5",
          " Dale_6",
          " had_7",
          " fun_8",
          " at_9",
          " the_10",
          " restaurant_11",
          "._12",
          " Jerry-> Dale_13",
          " gave_14",
          " a_15",
          " ring_16",
          " to_17"
         ],
         "title": {
          "text": "Position"
         },
         "type": "category"
        }
       }
      },
      "image/png": "[encoded data removed]",
      "text/html": [
       "<div>                            <div id=\"3204bfe6-5147-48bd-b3cb-9ac90fdaf13b\" class=\"plotly-graph-div\" style=\"height:525px; width:100%;\"></div>            <script type=\"text/javascript\">                require([\"plotly\"], function(Plotly) {                    window.PLOTLYENV=window.PLOTLYENV || {};                                    if (document.getElementById(\"3204bfe6-5147-48bd-b3cb-9ac90fdaf13b\")) {                    Plotly.newPlot(                        \"3204bfe6-5147-48bd-b3cb-9ac90fdaf13b\",                        [{\"coloraxis\":\"coloraxis\",\"name\":\"0\",\"x\":[\"\\u003c|endoftext|\\u003e_0\",\"L_1\",\"ately_2\",\",_3\",\" Jerry_4\",\" and_5\",\" Dale_6\",\" had_7\",\" fun_8\",\" at_9\",\" the_10\",\" restaurant_11\",\"._12\",\" Jerry-\\u003e Dale_13\",\" gave_14\",\" a_15\",\" ring_16\",\" to_17\"],\"y\":[\"\\u003c|endoftext|\\u003e_0\",\"L_1\",\"ately_2\",\",_3\",\" Jerry_4\",\" and_5\",\" Dale_6\",\" had_7\",\" fun_8\",\" at_9\",\" the_10\",\" restaurant_11\",\"._12\",\" Jerry-\\u003e Dale_13\",\" gave_14\",\" a_15\",\" ring_16\",\" to_17\"],\"z\":[[1.000000238418579,0.08983488380908966,0.11768483370542526,-0.06736680120229721,0.20008565485477448,0.02076820656657219,0.08224659413099289,0.00942185614258051,0.03574344143271446,0.1367662250995636,0.18568235635757446,0.19221989810466766,0.02107376791536808,0.2029878944158554,0.008320515975356102,0.08552087098360062,0.10548906773328781,0.010047834366559982],[0.08983488380908966,0.9999999403953552,-0.2776603400707245,0.09985010325908661,0.057828087359666824,0.005154811777174473,-0.018357835710048676,-0.0031745366286486387,0.07697312533855438,0.003324682591482997,0.015235726721584797,-0.024729808792471886,0.04588688164949417,-0.00210779276676476,0.02528422884643078,-0.017105698585510254,-0.04279191792011261,0.013393254019320011],[0.11768483370542526,-0.2776603698730469,1.0,-0.30733969807624817,-0.017880769446492195,0.021817229688167572,0.07562512159347534,-0.0033784331753849983,-0.08245876431465149,0.0884825810790062,0.015238190069794655,0.03641948476433754,-0.02584650181233883,0.13044129312038422,-0.03725995495915413,0.037806373089551926,0.056463245302438736,-0.050220273435115814],[-0.06736680865287781,0.09985010325908661,-0.3073396384716034,1.000000238418579,0.07759716361761093,-0.028266888111829758,-0.20848211646080017,0.05143933743238449,0.1090405061841011,-0.2893291711807251,0.007127002812922001,0.02184261567890644,-0.05371972545981407,-0.1792408674955368,0.001990838907659054,0.03503595292568207,0.012714738957583904,0.0443110466003418],[0.20008565485477448,0.057828087359666824,-0.017880769446492195,0.07759716361761093,1.0,-0.08525040745735168,0.1033366397023201,0.054920706897974014,0.00818532146513462,0.26239392161369324,0.20112019777297974,0.27300700545310974,0.025927415117621422,0.2586131989955902,0.020063478499650955,0.10582982748746872,-0.014967847615480423,0.07435225695371628],[0.02076820656657219,0.0051548113115131855,0.02181723155081272,-0.028266891837120056,-0.08525040745735168,1.0,-0.036322109401226044,0.12075458467006683,0.042538922280073166,-0.009801797568798065,0.002425561426207423,-0.005550740286707878,-0.00921813864260912,0.0009225160465575755,0.28632602095603943,0.0006910448428243399,-0.005754373501986265,-0.0169577244669199],[0.08224659413099289,-0.018357835710048676,0.07562512159347534,-0.20848213136196136,0.1033366397023201,-0.036322105675935745,1.0,-0.19737637042999268,0.16914337873458862,0.11211366951465607,0.05660941079258919,0.08829004317522049,0.04685821011662483,0.14840464293956757,0.020484358072280884,0.15373964607715607,0.03581763431429863,0.01003152597695589],[0.00942185614258051,-0.003174537094309926,-0.0033784345723688602,0.05143933743238449,0.05492069944739342,0.12075457721948624,-0.19737637042999268,1.0,-0.1136561930179596,0.019480861723423004,0.001792547875083983,0.010820449329912663,-0.017377464100718498,-0.01951034739613533,0.2533573508262634,-0.01368797942996025,-0.012831940315663815,0.02234611287713051],[0.035743437707424164,0.07697312533855438,-0.08245875686407089,0.10904049128293991,0.008185322396457195,0.042538922280073166,0.16914336383342743,-0.1136561930179596,1.0,-0.02946433797478676,0.11418786644935608,0.07071152329444885,0.019262047484517097,0.10401099920272827,0.05457022041082382,0.25958094000816345,0.09817982465028763,-0.015309780836105347],[0.1367662250995636,0.0033246821258217096,0.0884825810790062,-0.2893291711807251,0.26239392161369324,-0.00980179850012064,0.11211366951465607,0.019480861723423004,-0.02946433797478676,1.0,0.25411784648895264,0.1873023808002472,0.05296118184924126,0.09299159795045853,0.07281243056058884,0.11210167407989502,-0.021387342363595963,0.15649999678134918],[0.18568234145641327,0.015235726721584797,0.015238190069794655,0.007127003278583288,0.20112018287181854,0.002425561426207423,0.05660941079258919,0.001792547875083983,0.11418785154819489,0.25411784648895264,1.0,0.5297968983650208,0.02357625775039196,0.1329067498445511,0.009644542820751667,0.3537093698978424,0.19019557535648346,0.008318867534399033],[0.19221989810466766,-0.024729808792471886,0.03641948103904724,0.02184261754155159,0.27300703525543213,-0.0055507393553853035,0.08829003572463989,0.010820449329912663,0.07071152329444885,0.1873023808002472,0.5297968983650208,1.0,-0.030099257826805115,0.15254218876361847,0.002872255863621831,0.20904244482517242,0.2594030499458313,0.017396681010723114],[0.02107376791536808,0.04588688537478447,-0.02584649994969368,-0.05371972918510437,0.025927415117621422,-0.009218142367899418,0.04685821011662483,-0.01737746223807335,0.0192620437592268,0.05296117812395096,0.02357625775039196,-0.030099257826805115,1.0,-0.008518618531525135,0.040125079452991486,0.006814659107476473,0.01757434569299221,0.11570996791124344],[0.2029878795146942,-0.0021077923011034727,0.13044129312038422,-0.1792408674955368,0.2586131691932678,0.0009225158137269318,0.14840464293956757,-0.01951034925878048,0.10401099920272827,0.09299159795045853,0.1329067498445511,0.15254218876361847,-0.008518618531525135,1.0,0.008981619030237198,0.143731951713562,0.23433946073055267,-0.0047509330324828625],[0.008320516906678677,0.02528422884643078,-0.03725995123386383,0.0019908370450139046,0.020063478499650955,0.28632602095603943,0.020484358072280884,0.2533573508262634,0.05457022041082382,0.07281243056058884,0.009644541889429092,0.0028722556307911873,0.040125079452991486,0.008981619961559772,1.0,0.025084901601076126,-0.0013157480861991644,0.005759815219789743],[0.08552087098360062,-0.017105698585510254,0.037806376814842224,0.035035956650972366,0.10582982748746872,0.0006910453666932881,0.15373964607715607,-0.013687978498637676,0.25958094000816345,0.11210167407989502,0.3537093698978424,0.20904244482517242,0.006814658176153898,0.143731951713562,0.025084901601076126,1.0,0.1722063422203064,0.010643212124705315],[0.10548906773328781,-0.04279191792011261,0.056463245302438736,0.012714739888906479,-0.014967846684157848,-0.005754373501986265,0.03581763431429863,-0.01283194124698639,0.09817982465028763,-0.021387342363595963,0.19019557535648346,0.2594030499458313,0.01757434569299221,0.23433947563171387,-0.0013157479697838426,0.1722063422203064,1.0,-0.014539809897542],[0.010047833435237408,0.013393254019320011,-0.050220269709825516,0.0443110391497612,0.07435225695371628,-0.0169577244669199,0.010031523182988167,0.022346114739775658,-0.015309780836105347,0.156499981880188,0.008318867534399033,0.017396681010723114,0.11570997536182404,-0.004750934429466724,0.005759816151112318,0.010643212124705315,-0.014539808966219425,1.0]],\"type\":\"heatmap\",\"xaxis\":\"x\",\"yaxis\":\"y\",\"hovertemplate\":\"Position: %{x}\\u003cbr\\u003ePosition: %{y}\\u003cbr\\u003ecolor: %{z}\\u003cextra\\u003e\\u003c\\u002fextra\\u003e\"}],                        {\"template\":{\"data\":{\"histogram2dcontour\":[{\"type\":\"histogram2dcontour\",\"colorbar\":{\"outlinewidth\":0,\"ticks\":\"\"},\"colorscale\":[[0.0,\"#0d0887\"],[0.1111111111111111,\"#46039f\"],[0.2222222222222222,\"#7201a8\"],[0.3333333333333333,\"#9c179e\"],[0.4444444444444444,\"#bd3786\"],[0.5555555555555556,\"#d8576b\"],[0.6666666666666666,\"#ed7953\"],[0.7777777777777778,\"#fb9f3a\"],[0.8888888888888888,\"#fdca26\"],[1.0,\"#f0f921\"]]}],\"choropleth\":[{\"type\":\"choropleth\",\"colorbar\":{\"outlinewidth\":0,\"ticks\":\"\"}}],\"histogram2d\":[{\"type\":\"histogram2d\",\"colorbar\":{\"outlinewidth\":0,\"ticks\":\"\"},\"colorscale\":[[0.0,\"#0d0887\"],[0.1111111111111111,\"#46039f\"],[0.2222222222222222,\"#7201a8\"],[0.3333333333333333,\"#9c179e\"],[0.4444444444444444,\"#bd3786\"],[0.5555555555555556,\"#d8576b\"],[0.6666666666666666,\"#ed7953\"],[0.7777777777777778,\"#fb9f3a\"],[0.8888888888888888,\"#fdca26\"],[1.0,\"#f0f921\"]]}],\"heatmap\":[{\"type\":\"heatmap\",\"colorbar\":{\"outlinewidth\":0,\"ticks\":\"\"},\"colorscale\":[[0.0,\"#0d0887\"],[0.1111111111111111,\"#46039f\"],[0.2222222222222222,\"#7201a8\"],[0.3333333333333333,\"#9c179e\"],[0.4444444444444444,\"#bd3786\"],[0.5555555555555556,\"#d8576b\"],[0.6666666666666666,\"#ed7953\"],[0.7777777777777778,\"#fb9f3a\"],[0.8888888888888888,\"#fdca26\"],[1.0,\"#f0f921\"]]}],\"heatmapgl\":[{\"type\":\"heatmapgl\",\"colorbar\":{\"outlinewidth\":0,\"ticks\":\"\"},\"colorscale\":[[0.0,\"#0d0887\"],[0.1111111111111111,\"#46039f\"],[0.2222222222222222,\"#7201a8\"],[0.3333333333333333,\"#9c179e\"],[0.4444444444444444,\"#bd3786\"],[0.5555555555555556,\"#d8576b\"],[0.6666666666666666,\"#ed7953\"],[0.7777777777777778,\"#fb9f3a\"],[0.8888888888888888,\"#fdca26\"],[1.0,\"#f0f921\"]]}],\"contourcarpet\":[{\"type\":\"contourcarpet\",\"colorbar\":{\"outlinewidth\":0,\"ticks\":\"\"}}],\"contour\":[{\"type\":\"contour\",\"colorbar\":{\"outlinewidth\":0,\"ticks\":\"\"},\"colorscale\":[[0.0,\"#0d0887\"],[0.1111111111111111,\"#46039f\"],[0.2222222222222222,\"#7201a8\"],[0.3333333333333333,\"#9c179e\"],[0.4444444444444444,\"#bd3786\"],[0.5555555555555556,\"#d8576b\"],[0.6666666666666666,\"#ed7953\"],[0.7777777777777778,\"#fb9f3a\"],[0.8888888888888888,\"#fdca26\"],[1.0,\"#f0f921\"]]}],\"surface\":[{\"type\":\"surface\",\"colorbar\":{\"outlinewidth\":0,\"ticks\":\"\"},\"colorscale\":[[0.0,\"#0d0887\"],[0.1111111111111111,\"#46039f\"],[0.2222222222222222,\"#7201a8\"],[0.3333333333333333,\"#9c179e\"],[0.4444444444444444,\"#bd3786\"],[0.5555555555555556,\"#d8576b\"],[0.6666666666666666,\"#ed7953\"],[0.7777777777777778,\"#fb9f3a\"],[0.8888888888888888,\"#fdca26\"],[1.0,\"#f0f921\"]]}],\"mesh3d\":[{\"type\":\"mesh3d\",\"colorbar\":{\"outlinewidth\":0,\"ticks\":\"\"}}],\"scatter\":[{\"fillpattern\":{\"fillmode\":\"overlay\",\"size\":10,\"solidity\":0.2},\"type\":\"scatter\"}],\"parcoords\":[{\"type\":\"parcoords\",\"line\":{\"colorbar\":{\"outlinewidth\":0,\"ticks\":\"\"}}}],\"scatterpolargl\":[{\"type\":\"scatterpolargl\",\"marker\":{\"colorbar\":{\"outlinewidth\":0,\"ticks\":\"\"}}}],\"bar\":[{\"error_x\":{\"color\":\"#2a3f5f\"},\"error_y\":{\"color\":\"#2a3f5f\"},\"marker\":{\"line\":{\"color\":\"#E5ECF6\",\"width\":0.5},\"pattern\":{\"fillmode\":\"overlay\",\"size\":10,\"solidity\":0.2}},\"type\":\"bar\"}],\"scattergeo\":[{\"type\":\"scattergeo\",\"marker\":{\"colorbar\":{\"outlinewidth\":0,\"ticks\":\"\"}}}],\"scatterpolar\":[{\"type\":\"scatterpolar\",\"marker\":{\"colorbar\":{\"outlinewidth\":0,\"ticks\":\"\"}}}],\"histogram\":[{\"marker\":{\"pattern\":{\"fillmode\":\"overlay\",\"size\":10,\"solidity\":0.2}},\"type\":\"histogram\"}],\"scattergl\":[{\"type\":\"scattergl\",\"marker\":{\"colorbar\":{\"outlinewidth\":0,\"ticks\":\"\"}}}],\"scatter3d\":[{\"type\":\"scatter3d\",\"line\":{\"colorbar\":{\"outlinewidth\":0,\"ticks\":\"\"}},\"marker\":{\"colorbar\":{\"outlinewidth\":0,\"ticks\":\"\"}}}],\"scattermapbox\":[{\"type\":\"scattermapbox\",\"marker\":{\"colorbar\":{\"outlinewidth\":0,\"ticks\":\"\"}}}],\"scatterternary\":[{\"type\":\"scatterternary\",\"marker\":{\"colorbar\":{\"outlinewidth\":0,\"ticks\":\"\"}}}],\"scattercarpet\":[{\"type\":\"scattercarpet\",\"marker\":{\"colorbar\":{\"outlinewidth\":0,\"ticks\":\"\"}}}],\"carpet\":[{\"aaxis\":{\"endlinecolor\":\"#2a3f5f\",\"gridcolor\":\"white\",\"linecolor\":\"white\",\"minorgridcolor\":\"white\",\"startlinecolor\":\"#2a3f5f\"},\"baxis\":{\"endlinecolor\":\"#2a3f5f\",\"gridcolor\":\"white\",\"linecolor\":\"white\",\"minorgridcolor\":\"white\",\"startlinecolor\":\"#2a3f5f\"},\"type\":\"carpet\"}],\"table\":[{\"cells\":{\"fill\":{\"color\":\"#EBF0F8\"},\"line\":{\"color\":\"white\"}},\"header\":{\"fill\":{\"color\":\"#C8D4E3\"},\"line\":{\"color\":\"white\"}},\"type\":\"table\"}],\"barpolar\":[{\"marker\":{\"line\":{\"color\":\"#E5ECF6\",\"width\":0.5},\"pattern\":{\"fillmode\":\"overlay\",\"size\":10,\"solidity\":0.2}},\"type\":\"barpolar\"}],\"pie\":[{\"automargin\":true,\"type\":\"pie\"}]},\"layout\":{\"autotypenumbers\":\"strict\",\"colorway\":[\"#636efa\",\"#EF553B\",\"#00cc96\",\"#ab63fa\",\"#FFA15A\",\"#19d3f3\",\"#FF6692\",\"#B6E880\",\"#FF97FF\",\"#FECB52\"],\"font\":{\"color\":\"#2a3f5f\"},\"hovermode\":\"closest\",\"hoverlabel\":{\"align\":\"left\"},\"paper_bgcolor\":\"white\",\"plot_bgcolor\":\"#E5ECF6\",\"polar\":{\"bgcolor\":\"#E5ECF6\",\"angularaxis\":{\"gridcolor\":\"white\",\"linecolor\":\"white\",\"ticks\":\"\"},\"radialaxis\":{\"gridcolor\":\"white\",\"linecolor\":\"white\",\"ticks\":\"\"}},\"ternary\":{\"bgcolor\":\"#E5ECF6\",\"aaxis\":{\"gridcolor\":\"white\",\"linecolor\":\"white\",\"ticks\":\"\"},\"baxis\":{\"gridcolor\":\"white\",\"linecolor\":\"white\",\"ticks\":\"\"},\"caxis\":{\"gridcolor\":\"white\",\"linecolor\":\"white\",\"ticks\":\"\"}},\"coloraxis\":{\"colorbar\":{\"outlinewidth\":0,\"ticks\":\"\"}},\"colorscale\":{\"sequential\":[[0.0,\"#0d0887\"],[0.1111111111111111,\"#46039f\"],[0.2222222222222222,\"#7201a8\"],[0.3333333333333333,\"#9c179e\"],[0.4444444444444444,\"#bd3786\"],[0.5555555555555556,\"#d8576b\"],[0.6666666666666666,\"#ed7953\"],[0.7777777777777778,\"#fb9f3a\"],[0.8888888888888888,\"#fdca26\"],[1.0,\"#f0f921\"]],\"sequentialminus\":[[0.0,\"#0d0887\"],[0.1111111111111111,\"#46039f\"],[0.2222222222222222,\"#7201a8\"],[0.3333333333333333,\"#9c179e\"],[0.4444444444444444,\"#bd3786\"],[0.5555555555555556,\"#d8576b\"],[0.6666666666666666,\"#ed7953\"],[0.7777777777777778,\"#fb9f3a\"],[0.8888888888888888,\"#fdca26\"],[1.0,\"#f0f921\"]],\"diverging\":[[0,\"#8e0152\"],[0.1,\"#c51b7d\"],[0.2,\"#de77ae\"],[0.3,\"#f1b6da\"],[0.4,\"#fde0ef\"],[0.5,\"#f7f7f7\"],[0.6,\"#e6f5d0\"],[0.7,\"#b8e186\"],[0.8,\"#7fbc41\"],[0.9,\"#4d9221\"],[1,\"#276419\"]]},\"xaxis\":{\"gridcolor\":\"white\",\"linecolor\":\"white\",\"ticks\":\"\",\"title\":{\"standoff\":15},\"zerolinecolor\":\"white\",\"automargin\":true,\"zerolinewidth\":2},\"yaxis\":{\"gridcolor\":\"white\",\"linecolor\":\"white\",\"ticks\":\"\",\"title\":{\"standoff\":15},\"zerolinecolor\":\"white\",\"automargin\":true,\"zerolinewidth\":2},\"scene\":{\"xaxis\":{\"backgroundcolor\":\"#E5ECF6\",\"gridcolor\":\"white\",\"linecolor\":\"white\",\"showbackground\":true,\"ticks\":\"\",\"zerolinecolor\":\"white\",\"gridwidth\":2},\"yaxis\":{\"backgroundcolor\":\"#E5ECF6\",\"gridcolor\":\"white\",\"linecolor\":\"white\",\"showbackground\":true,\"ticks\":\"\",\"zerolinecolor\":\"white\",\"gridwidth\":2},\"zaxis\":{\"backgroundcolor\":\"#E5ECF6\",\"gridcolor\":\"white\",\"linecolor\":\"white\",\"showbackground\":true,\"ticks\":\"\",\"zerolinecolor\":\"white\",\"gridwidth\":2}},\"shapedefaults\":{\"line\":{\"color\":\"#2a3f5f\"}},\"annotationdefaults\":{\"arrowcolor\":\"#2a3f5f\",\"arrowhead\":0,\"arrowwidth\":1},\"geo\":{\"bgcolor\":\"white\",\"landcolor\":\"#E5ECF6\",\"subunitcolor\":\"white\",\"showland\":true,\"showlakes\":true,\"lakecolor\":\"white\"},\"title\":{\"x\":0.05},\"mapbox\":{\"style\":\"light\"}}},\"xaxis\":{\"anchor\":\"y\",\"domain\":[0.0,1.0],\"scaleanchor\":\"y\",\"constrain\":\"domain\",\"title\":{\"text\":\"Position\"},\"tickmode\":\"array\",\"tickvals\":[\"\\u003c|endoftext|\\u003e_0\",\"L_1\",\"ately_2\",\",_3\",\" Jerry_4\",\" and_5\",\" Dale_6\",\" had_7\",\" fun_8\",\" at_9\",\" the_10\",\" restaurant_11\",\"._12\",\" Jerry-\\u003e Dale_13\",\" gave_14\",\" a_15\",\" ring_16\",\" to_17\"],\"ticktext\":[\"\\u003c|endoftext|\\u003e_0\",\"L_1\",\"ately_2\",\",_3\",\" Jerry_4\",\" and_5\",\" Dale_6\",\" had_7\",\" fun_8\",\" at_9\",\" the_10\",\" restaurant_11\",\"._12\",\" Jerry-\\u003e Dale_13\",\" gave_14\",\" a_15\",\" ring_16\",\" to_17\"]},\"yaxis\":{\"anchor\":\"x\",\"domain\":[0.0,1.0],\"autorange\":\"reversed\",\"constrain\":\"domain\",\"title\":{\"text\":\"Position\"},\"tickmode\":\"array\",\"tickvals\":[\"\\u003c|endoftext|\\u003e_0\",\"L_1\",\"ately_2\",\",_3\",\" Jerry_4\",\" and_5\",\" Dale_6\",\" had_7\",\" fun_8\",\" at_9\",\" the_10\",\" restaurant_11\",\"._12\",\" Jerry-\\u003e Dale_13\",\" gave_14\",\" a_15\",\" ring_16\",\" to_17\"],\"ticktext\":[\"\\u003c|endoftext|\\u003e_0\",\"L_1\",\"ately_2\",\",_3\",\" Jerry_4\",\" and_5\",\" Dale_6\",\" had_7\",\" fun_8\",\" at_9\",\" the_10\",\" restaurant_11\",\"._12\",\" Jerry-\\u003e Dale_13\",\" gave_14\",\" a_15\",\" ring_16\",\" to_17\"]},\"coloraxis\":{\"colorscale\":[[0.0,\"rgb(103,0,31)\"],[0.1,\"rgb(178,24,43)\"],[0.2,\"rgb(214,96,77)\"],[0.3,\"rgb(244,165,130)\"],[0.4,\"rgb(253,219,199)\"],[0.5,\"rgb(247,247,247)\"],[0.6,\"rgb(209,229,240)\"],[0.7,\"rgb(146,197,222)\"],[0.8,\"rgb(67,147,195)\"],[0.9,\"rgb(33,102,172)\"],[1.0,\"rgb(5,48,97)\"]],\"cmid\":0.0},\"title\":{\"text\":\"Similarity of B x_i to B x_j on layer 39\"},\"font\":{\"size\":8,\"color\":\"black\"}},                        {\"responsive\": true}                    ).then(function(){\n",
       "                            \n",
       "var gd = document.getElementById('3204bfe6-5147-48bd-b3cb-9ac90fdaf13b');\n",
       "var x = new MutationObserver(function (mutations, observer) {{\n",
       "        var display = window.getComputedStyle(gd).display;\n",
       "        if (!display || display === 'none') {{\n",
       "            console.log([gd, 'removed!']);\n",
       "            Plotly.purge(gd);\n",
       "            observer.disconnect();\n",
       "        }}\n",
       "}});\n",
       "\n",
       "// Listen for the removal of the full notebook cells\n",
       "var notebookContainer = gd.closest('#notebook-container');\n",
       "if (notebookContainer) {{\n",
       "    x.observe(notebookContainer, {childList: true});\n",
       "}}\n",
       "\n",
       "// Listen for the clearing of the current output cell\n",
       "var outputEl = gd.closest('.output');\n",
       "if (outputEl) {{\n",
       "    x.observe(outputEl, {childList: true});\n",
       "}}\n",
       "\n",
       "                        })                };                });            </script>        </div>"
      ]
     },
     "metadata": {},
     "output_type": "display_data"
    },
    {
     "data": {
      "application/vnd.plotly.v1+json": {
       "config": {
        "plotlyServerURL": "https://plot.ly"
       },
       "data": [
        {
         "coloraxis": "coloraxis",
         "hovertemplate": "Position: %{x}<br>Position: %{y}<br>color: %{z}<extra></extra>",
         "name": "0",
         "type": "heatmap",
         "x": [
          "<|endoftext|>_0",
          "L_1",
          "ately_2",
          ",_3",
          " Jerry_4",
          " and_5",
          " Dale_6",
          " had_7",
          " fun_8",
          " at_9",
          " the_10",
          " restaurant_11",
          "._12",
          " Jerry-> Dale_13",
          " gave_14",
          " a_15",
          " ring_16",
          " to_17"
         ],
         "xaxis": "x",
         "y": [
          "<|endoftext|>_0",
          "L_1",
          "ately_2",
          ",_3",
          " Jerry_4",
          " and_5",
          " Dale_6",
          " had_7",
          " fun_8",
          " at_9",
          " the_10",
          " restaurant_11",
          "._12",
          " Jerry-> Dale_13",
          " gave_14",
          " a_15",
          " ring_16",
          " to_17"
         ],
         "yaxis": "y",
         "z": [
          [
           1.000000238418579,
           0.6523956656455994,
           0.6625430583953857,
           0.5898211598396301,
           0.673924446105957,
           0.3355182111263275,
           0.3697011172771454,
           0.269807904958725,
           0.2723388671875,
           0.2928053140640259,
           0.2931741774082184,
           0.2937643527984619,
           0.27377834916114807,
           0.2925167977809906,
           0.2563093602657318,
           0.2633974254131317,
           0.2664717435836792,
           0.2500632405281067
          ],
          [
           0.6523956656455994,
           1,
           0.6265450716018677,
           0.7458165287971497,
           0.7819849252700806,
           0.37472742795944214,
           0.4069100320339203,
           0.30354735255241394,
           0.3149731755256653,
           0.3234909176826477,
           0.32414400577545166,
           0.32470273971557617,
           0.3034677803516388,
           0.3201850354671478,
           0.29247182607650757,
           0.29564258456230164,
           0.30026909708976746,
           0.281377375125885
          ],
          [
           0.6625430583953857,
           0.6265450716018677,
           1,
           0.7506351470947266,
           0.8251733183860779,
           0.40834009647369385,
           0.4466504752635956,
           0.325351357460022,
           0.3251713514328003,
           0.3475114405155182,
           0.3472440838813782,
           0.34941497445106506,
           0.3267875611782074,
           0.3502155542373657,
           0.29694151878356934,
           0.3042442798614502,
           0.3131169378757477,
           0.28672945499420166
          ],
          [
           0.5898211598396301,
           0.7458165884017944,
           0.7506351470947266,
           1,
           0.9244738221168518,
           0.41999006271362305,
           0.43804100155830383,
           0.3655616044998169,
           0.3712306618690491,
           0.360065758228302,
           0.36000531911849976,
           0.3627583384513855,
           0.33373796939849854,
           0.3524515926837921,
           0.3243575096130371,
           0.3309355676174164,
           0.3370943069458008,
           0.3320853114128113
          ],
          [
           0.673924446105957,
           0.7819849848747253,
           0.8251732587814331,
           0.9244738817214966,
           1,
           0.4416288733482361,
           0.477755069732666,
           0.3879567086696625,
           0.39319711923599243,
           0.4042411148548126,
           0.40490323305130005,
           0.40808069705963135,
           0.3752998411655426,
           0.4011381268501282,
           0.35879719257354736,
           0.3658416271209717,
           0.3722395896911621,
           0.3629900813102722
          ],
          [
           0.3355182409286499,
           0.3747274577617645,
           0.40834009647369385,
           0.41999009251594543,
           0.44162890315055847,
           1,
           0.9673880934715271,
           0.6494129300117493,
           0.6494921445846558,
           0.6361070275306702,
           0.6326266527175903,
           0.6296640038490295,
           0.5687529444694519,
           0.5807725787162781,
           0.5898175835609436,
           0.5875003933906555,
           0.5902928709983826,
           0.5362182259559631
          ],
          [
           0.3697011172771454,
           0.4069100320339203,
           0.4466504752635956,
           0.43804097175598145,
           0.4777550995349884,
           0.9673880934715271,
           1,
           0.6490902304649353,
           0.6553615927696228,
           0.649559736251831,
           0.6461910605430603,
           0.6440152525901794,
           0.5894601941108704,
           0.6040472984313965,
           0.5965598821640015,
           0.599226713180542,
           0.6033065915107727,
           0.5518187284469604
          ],
          [
           0.269807904958725,
           0.30354735255241394,
           0.325351357460022,
           0.3655616044998169,
           0.3879567086696625,
           0.649412989616394,
           0.6490902304649353,
           1,
           0.9837895035743713,
           0.9676917195320129,
           0.9636077284812927,
           0.960593044757843,
           0.8388090133666992,
           0.8581382036209106,
           0.8413375020027161,
           0.8439104557037354,
           0.8512260317802429,
           0.7883503437042236
          ],
          [
           0.2723388671875,
           0.3149731755256653,
           0.3251713514328003,
           0.3712306618690491,
           0.39319711923599243,
           0.6494921445846558,
           0.6553615927696228,
           0.9837895035743713,
           1,
           0.9853587746620178,
           0.9822072982788086,
           0.9796218276023865,
           0.8595477342605591,
           0.8810176849365234,
           0.8566890954971313,
           0.8638591170310974,
           0.8715997934341431,
           0.8054336905479431
          ],
          [
           0.2928053140640259,
           0.3234909176826477,
           0.3475114405155182,
           0.360065758228302,
           0.4042411148548126,
           0.6361070275306702,
           0.649559736251831,
           0.9676917195320129,
           0.9853587746620178,
           1,
           0.996876060962677,
           0.9948279857635498,
           0.877244234085083,
           0.8988005518913269,
           0.8626285791397095,
           0.8706347346305847,
           0.8789120316505432,
           0.822439432144165
          ],
          [
           0.2931741774082184,
           0.32414400577545166,
           0.3472440838813782,
           0.36000531911849976,
           0.40490323305130005,
           0.6326266527175903,
           0.6461910605430603,
           0.9636077284812927,
           0.9822074174880981,
           0.996876060962677,
           1,
           0.9981304407119751,
           0.8813672661781311,
           0.9037225842475891,
           0.8642892837524414,
           0.8735325336456299,
           0.88215571641922,
           0.8253331780433655
          ],
          [
           0.2937643527984619,
           0.32470273971557617,
           0.34941500425338745,
           0.3627583384513855,
           0.40808069705963135,
           0.6296640038490295,
           0.6440152525901794,
           0.960593044757843,
           0.9796218276023865,
           0.9948278665542603,
           0.9981304407119751,
           1,
           0.8829969167709351,
           0.9066581130027771,
           0.8647832274436951,
           0.8736342787742615,
           0.8835621476173401,
           0.8272139430046082
          ],
          [
           0.27377834916114807,
           0.3034677803516388,
           0.3267875611782074,
           0.33373796939849854,
           0.3752998113632202,
           0.5687529444694519,
           0.5894601941108704,
           0.8388090133666992,
           0.8595477342605591,
           0.877244234085083,
           0.8813672661781311,
           0.8829969167709351,
           1,
           0.9831582903862,
           0.8924139142036438,
           0.8991079330444336,
           0.9073163866996765,
           0.8509657979011536
          ],
          [
           0.2925167977809906,
           0.3201850354671478,
           0.3502155542373657,
           0.3524515926837921,
           0.4011381268501282,
           0.5807725787162781,
           0.6040472984313965,
           0.8581382036209106,
           0.8810176849365234,
           0.8988005518913269,
           0.9037225842475891,
           0.9066581130027771,
           0.9831582903862,
           1,
           0.9093106985092163,
           0.9168336987495422,
           0.9280343651771545,
           0.8709306120872498
          ],
          [
           0.2563093602657318,
           0.29247182607650757,
           0.29694151878356934,
           0.3243575096130371,
           0.35879719257354736,
           0.5898175835609436,
           0.5965598821640015,
           0.8413375020027161,
           0.8566890954971313,
           0.8626285791397095,
           0.8642892837524414,
           0.8647832274436951,
           0.8924139142036438,
           0.9093106985092163,
           1,
           0.9933666586875916,
           0.9925462603569031,
           0.9019386768341064
          ],
          [
           0.2633974254131317,
           0.29564258456230164,
           0.3042442798614502,
           0.3309355676174164,
           0.3658416271209717,
           0.5875003933906555,
           0.599226713180542,
           0.8439103960990906,
           0.8638591170310974,
           0.8706347346305847,
           0.8735325336456299,
           0.8736342787742615,
           0.8991079330444336,
           0.9168336987495422,
           0.9933666586875916,
           1,
           0.9958996772766113,
           0.9079506397247314
          ],
          [
           0.2664717435836792,
           0.30026909708976746,
           0.3131169378757477,
           0.3370943069458008,
           0.3722395896911621,
           0.5902928709983826,
           0.6033065915107727,
           0.8512260317802429,
           0.8715997934341431,
           0.8789120316505432,
           0.88215571641922,
           0.8835621476173401,
           0.9073163866996765,
           0.9280343651771545,
           0.9925462603569031,
           0.9958996176719666,
           1,
           0.9132946729660034
          ],
          [
           0.2500632405281067,
           0.281377375125885,
           0.28672948479652405,
           0.3320853114128113,
           0.3629900813102722,
           0.5362181663513184,
           0.5518187284469604,
           0.7883503437042236,
           0.8054336905479431,
           0.822439432144165,
           0.8253331780433655,
           0.8272139430046082,
           0.8509657979011536,
           0.8709306120872498,
           0.9019386768341064,
           0.9079506397247314,
           0.9132946729660034,
           1
          ]
         ]
        }
       ],
       "layout": {
        "autosize": true,
        "coloraxis": {
         "cmid": 0,
         "colorscale": [
          [
           0,
           "rgb(103,0,31)"
          ],
          [
           0.1,
           "rgb(178,24,43)"
          ],
          [
           0.2,
           "rgb(214,96,77)"
          ],
          [
           0.3,
           "rgb(244,165,130)"
          ],
          [
           0.4,
           "rgb(253,219,199)"
          ],
          [
           0.5,
           "rgb(247,247,247)"
          ],
          [
           0.6,
           "rgb(209,229,240)"
          ],
          [
           0.7,
           "rgb(146,197,222)"
          ],
          [
           0.8,
           "rgb(67,147,195)"
          ],
          [
           0.9,
           "rgb(33,102,172)"
          ],
          [
           1,
           "rgb(5,48,97)"
          ]
         ]
        },
        "font": {
         "color": "black",
         "size": 8
        },
        "template": {
         "data": {
          "bar": [
           {
            "error_x": {
             "color": "#2a3f5f"
            },
            "error_y": {
             "color": "#2a3f5f"
            },
            "marker": {
             "line": {
              "color": "#E5ECF6",
              "width": 0.5
             },
             "pattern": {
              "fillmode": "overlay",
              "size": 10,
              "solidity": 0.2
             }
            },
            "type": "bar"
           }
          ],
          "barpolar": [
           {
            "marker": {
             "line": {
              "color": "#E5ECF6",
              "width": 0.5
             },
             "pattern": {
              "fillmode": "overlay",
              "size": 10,
              "solidity": 0.2
             }
            },
            "type": "barpolar"
           }
          ],
          "carpet": [
           {
            "aaxis": {
             "endlinecolor": "#2a3f5f",
             "gridcolor": "white",
             "linecolor": "white",
             "minorgridcolor": "white",
             "startlinecolor": "#2a3f5f"
            },
            "baxis": {
             "endlinecolor": "#2a3f5f",
             "gridcolor": "white",
             "linecolor": "white",
             "minorgridcolor": "white",
             "startlinecolor": "#2a3f5f"
            },
            "type": "carpet"
           }
          ],
          "choropleth": [
           {
            "colorbar": {
             "outlinewidth": 0,
             "ticks": ""
            },
            "type": "choropleth"
           }
          ],
          "contour": [
           {
            "colorbar": {
             "outlinewidth": 0,
             "ticks": ""
            },
            "colorscale": [
             [
              0,
              "#0d0887"
             ],
             [
              0.1111111111111111,
              "#46039f"
             ],
             [
              0.2222222222222222,
              "#7201a8"
             ],
             [
              0.3333333333333333,
              "#9c179e"
             ],
             [
              0.4444444444444444,
              "#bd3786"
             ],
             [
              0.5555555555555556,
              "#d8576b"
             ],
             [
              0.6666666666666666,
              "#ed7953"
             ],
             [
              0.7777777777777778,
              "#fb9f3a"
             ],
             [
              0.8888888888888888,
              "#fdca26"
             ],
             [
              1,
              "#f0f921"
             ]
            ],
            "type": "contour"
           }
          ],
          "contourcarpet": [
           {
            "colorbar": {
             "outlinewidth": 0,
             "ticks": ""
            },
            "type": "contourcarpet"
           }
          ],
          "heatmap": [
           {
            "colorbar": {
             "outlinewidth": 0,
             "ticks": ""
            },
            "colorscale": [
             [
              0,
              "#0d0887"
             ],
             [
              0.1111111111111111,
              "#46039f"
             ],
             [
              0.2222222222222222,
              "#7201a8"
             ],
             [
              0.3333333333333333,
              "#9c179e"
             ],
             [
              0.4444444444444444,
              "#bd3786"
             ],
             [
              0.5555555555555556,
              "#d8576b"
             ],
             [
              0.6666666666666666,
              "#ed7953"
             ],
             [
              0.7777777777777778,
              "#fb9f3a"
             ],
             [
              0.8888888888888888,
              "#fdca26"
             ],
             [
              1,
              "#f0f921"
             ]
            ],
            "type": "heatmap"
           }
          ],
          "heatmapgl": [
           {
            "colorbar": {
             "outlinewidth": 0,
             "ticks": ""
            },
            "colorscale": [
             [
              0,
              "#0d0887"
             ],
             [
              0.1111111111111111,
              "#46039f"
             ],
             [
              0.2222222222222222,
              "#7201a8"
             ],
             [
              0.3333333333333333,
              "#9c179e"
             ],
             [
              0.4444444444444444,
              "#bd3786"
             ],
             [
              0.5555555555555556,
              "#d8576b"
             ],
             [
              0.6666666666666666,
              "#ed7953"
             ],
             [
              0.7777777777777778,
              "#fb9f3a"
             ],
             [
              0.8888888888888888,
              "#fdca26"
             ],
             [
              1,
              "#f0f921"
             ]
            ],
            "type": "heatmapgl"
           }
          ],
          "histogram": [
           {
            "marker": {
             "pattern": {
              "fillmode": "overlay",
              "size": 10,
              "solidity": 0.2
             }
            },
            "type": "histogram"
           }
          ],
          "histogram2d": [
           {
            "colorbar": {
             "outlinewidth": 0,
             "ticks": ""
            },
            "colorscale": [
             [
              0,
              "#0d0887"
             ],
             [
              0.1111111111111111,
              "#46039f"
             ],
             [
              0.2222222222222222,
              "#7201a8"
             ],
             [
              0.3333333333333333,
              "#9c179e"
             ],
             [
              0.4444444444444444,
              "#bd3786"
             ],
             [
              0.5555555555555556,
              "#d8576b"
             ],
             [
              0.6666666666666666,
              "#ed7953"
             ],
             [
              0.7777777777777778,
              "#fb9f3a"
             ],
             [
              0.8888888888888888,
              "#fdca26"
             ],
             [
              1,
              "#f0f921"
             ]
            ],
            "type": "histogram2d"
           }
          ],
          "histogram2dcontour": [
           {
            "colorbar": {
             "outlinewidth": 0,
             "ticks": ""
            },
            "colorscale": [
             [
              0,
              "#0d0887"
             ],
             [
              0.1111111111111111,
              "#46039f"
             ],
             [
              0.2222222222222222,
              "#7201a8"
             ],
             [
              0.3333333333333333,
              "#9c179e"
             ],
             [
              0.4444444444444444,
              "#bd3786"
             ],
             [
              0.5555555555555556,
              "#d8576b"
             ],
             [
              0.6666666666666666,
              "#ed7953"
             ],
             [
              0.7777777777777778,
              "#fb9f3a"
             ],
             [
              0.8888888888888888,
              "#fdca26"
             ],
             [
              1,
              "#f0f921"
             ]
            ],
            "type": "histogram2dcontour"
           }
          ],
          "mesh3d": [
           {
            "colorbar": {
             "outlinewidth": 0,
             "ticks": ""
            },
            "type": "mesh3d"
           }
          ],
          "parcoords": [
           {
            "line": {
             "colorbar": {
              "outlinewidth": 0,
              "ticks": ""
             }
            },
            "type": "parcoords"
           }
          ],
          "pie": [
           {
            "automargin": true,
            "type": "pie"
           }
          ],
          "scatter": [
           {
            "fillpattern": {
             "fillmode": "overlay",
             "size": 10,
             "solidity": 0.2
            },
            "type": "scatter"
           }
          ],
          "scatter3d": [
           {
            "line": {
             "colorbar": {
              "outlinewidth": 0,
              "ticks": ""
             }
            },
            "marker": {
             "colorbar": {
              "outlinewidth": 0,
              "ticks": ""
             }
            },
            "type": "scatter3d"
           }
          ],
          "scattercarpet": [
           {
            "marker": {
             "colorbar": {
              "outlinewidth": 0,
              "ticks": ""
             }
            },
            "type": "scattercarpet"
           }
          ],
          "scattergeo": [
           {
            "marker": {
             "colorbar": {
              "outlinewidth": 0,
              "ticks": ""
             }
            },
            "type": "scattergeo"
           }
          ],
          "scattergl": [
           {
            "marker": {
             "colorbar": {
              "outlinewidth": 0,
              "ticks": ""
             }
            },
            "type": "scattergl"
           }
          ],
          "scattermapbox": [
           {
            "marker": {
             "colorbar": {
              "outlinewidth": 0,
              "ticks": ""
             }
            },
            "type": "scattermapbox"
           }
          ],
          "scatterpolar": [
           {
            "marker": {
             "colorbar": {
              "outlinewidth": 0,
              "ticks": ""
             }
            },
            "type": "scatterpolar"
           }
          ],
          "scatterpolargl": [
           {
            "marker": {
             "colorbar": {
              "outlinewidth": 0,
              "ticks": ""
             }
            },
            "type": "scatterpolargl"
           }
          ],
          "scatterternary": [
           {
            "marker": {
             "colorbar": {
              "outlinewidth": 0,
              "ticks": ""
             }
            },
            "type": "scatterternary"
           }
          ],
          "surface": [
           {
            "colorbar": {
             "outlinewidth": 0,
             "ticks": ""
            },
            "colorscale": [
             [
              0,
              "#0d0887"
             ],
             [
              0.1111111111111111,
              "#46039f"
             ],
             [
              0.2222222222222222,
              "#7201a8"
             ],
             [
              0.3333333333333333,
              "#9c179e"
             ],
             [
              0.4444444444444444,
              "#bd3786"
             ],
             [
              0.5555555555555556,
              "#d8576b"
             ],
             [
              0.6666666666666666,
              "#ed7953"
             ],
             [
              0.7777777777777778,
              "#fb9f3a"
             ],
             [
              0.8888888888888888,
              "#fdca26"
             ],
             [
              1,
              "#f0f921"
             ]
            ],
            "type": "surface"
           }
          ],
          "table": [
           {
            "cells": {
             "fill": {
              "color": "#EBF0F8"
             },
             "line": {
              "color": "white"
             }
            },
            "header": {
             "fill": {
              "color": "#C8D4E3"
             },
             "line": {
              "color": "white"
             }
            },
            "type": "table"
           }
          ]
         },
         "layout": {
          "annotationdefaults": {
           "arrowcolor": "#2a3f5f",
           "arrowhead": 0,
           "arrowwidth": 1
          },
          "autotypenumbers": "strict",
          "coloraxis": {
           "colorbar": {
            "outlinewidth": 0,
            "ticks": ""
           }
          },
          "colorscale": {
           "diverging": [
            [
             0,
             "#8e0152"
            ],
            [
             0.1,
             "#c51b7d"
            ],
            [
             0.2,
             "#de77ae"
            ],
            [
             0.3,
             "#f1b6da"
            ],
            [
             0.4,
             "#fde0ef"
            ],
            [
             0.5,
             "#f7f7f7"
            ],
            [
             0.6,
             "#e6f5d0"
            ],
            [
             0.7,
             "#b8e186"
            ],
            [
             0.8,
             "#7fbc41"
            ],
            [
             0.9,
             "#4d9221"
            ],
            [
             1,
             "#276419"
            ]
           ],
           "sequential": [
            [
             0,
             "#0d0887"
            ],
            [
             0.1111111111111111,
             "#46039f"
            ],
            [
             0.2222222222222222,
             "#7201a8"
            ],
            [
             0.3333333333333333,
             "#9c179e"
            ],
            [
             0.4444444444444444,
             "#bd3786"
            ],
            [
             0.5555555555555556,
             "#d8576b"
            ],
            [
             0.6666666666666666,
             "#ed7953"
            ],
            [
             0.7777777777777778,
             "#fb9f3a"
            ],
            [
             0.8888888888888888,
             "#fdca26"
            ],
            [
             1,
             "#f0f921"
            ]
           ],
           "sequentialminus": [
            [
             0,
             "#0d0887"
            ],
            [
             0.1111111111111111,
             "#46039f"
            ],
            [
             0.2222222222222222,
             "#7201a8"
            ],
            [
             0.3333333333333333,
             "#9c179e"
            ],
            [
             0.4444444444444444,
             "#bd3786"
            ],
            [
             0.5555555555555556,
             "#d8576b"
            ],
            [
             0.6666666666666666,
             "#ed7953"
            ],
            [
             0.7777777777777778,
             "#fb9f3a"
            ],
            [
             0.8888888888888888,
             "#fdca26"
            ],
            [
             1,
             "#f0f921"
            ]
           ]
          },
          "colorway": [
           "#636efa",
           "#EF553B",
           "#00cc96",
           "#ab63fa",
           "#FFA15A",
           "#19d3f3",
           "#FF6692",
           "#B6E880",
           "#FF97FF",
           "#FECB52"
          ],
          "font": {
           "color": "#2a3f5f"
          },
          "geo": {
           "bgcolor": "white",
           "lakecolor": "white",
           "landcolor": "#E5ECF6",
           "showlakes": true,
           "showland": true,
           "subunitcolor": "white"
          },
          "hoverlabel": {
           "align": "left"
          },
          "hovermode": "closest",
          "mapbox": {
           "style": "light"
          },
          "paper_bgcolor": "white",
          "plot_bgcolor": "#E5ECF6",
          "polar": {
           "angularaxis": {
            "gridcolor": "white",
            "linecolor": "white",
            "ticks": ""
           },
           "bgcolor": "#E5ECF6",
           "radialaxis": {
            "gridcolor": "white",
            "linecolor": "white",
            "ticks": ""
           }
          },
          "scene": {
           "xaxis": {
            "backgroundcolor": "#E5ECF6",
            "gridcolor": "white",
            "gridwidth": 2,
            "linecolor": "white",
            "showbackground": true,
            "ticks": "",
            "zerolinecolor": "white"
           },
           "yaxis": {
            "backgroundcolor": "#E5ECF6",
            "gridcolor": "white",
            "gridwidth": 2,
            "linecolor": "white",
            "showbackground": true,
            "ticks": "",
            "zerolinecolor": "white"
           },
           "zaxis": {
            "backgroundcolor": "#E5ECF6",
            "gridcolor": "white",
            "gridwidth": 2,
            "linecolor": "white",
            "showbackground": true,
            "ticks": "",
            "zerolinecolor": "white"
           }
          },
          "shapedefaults": {
           "line": {
            "color": "#2a3f5f"
           }
          },
          "ternary": {
           "aaxis": {
            "gridcolor": "white",
            "linecolor": "white",
            "ticks": ""
           },
           "baxis": {
            "gridcolor": "white",
            "linecolor": "white",
            "ticks": ""
           },
           "bgcolor": "#E5ECF6",
           "caxis": {
            "gridcolor": "white",
            "linecolor": "white",
            "ticks": ""
           }
          },
          "title": {
           "x": 0.05
          },
          "xaxis": {
           "automargin": true,
           "gridcolor": "white",
           "linecolor": "white",
           "ticks": "",
           "title": {
            "standoff": 15
           },
           "zerolinecolor": "white",
           "zerolinewidth": 2
          },
          "yaxis": {
           "automargin": true,
           "gridcolor": "white",
           "linecolor": "white",
           "ticks": "",
           "title": {
            "standoff": 15
           },
           "zerolinecolor": "white",
           "zerolinewidth": 2
          }
         }
        },
        "title": {
         "text": "Similarity of h_i to h_j on layer 39"
        },
        "xaxis": {
         "anchor": "y",
         "autorange": true,
         "constrain": "domain",
         "domain": [
          0.4196525515743757,
          0.5803474484256244
         ],
         "range": [
          -0.5,
          17.5
         ],
         "scaleanchor": "y",
         "tickmode": "array",
         "ticktext": [
          "<|endoftext|>_0",
          "L_1",
          "ately_2",
          ",_3",
          " Jerry_4",
          " and_5",
          " Dale_6",
          " had_7",
          " fun_8",
          " at_9",
          " the_10",
          " restaurant_11",
          "._12",
          " Jerry-> Dale_13",
          " gave_14",
          " a_15",
          " ring_16",
          " to_17"
         ],
         "tickvals": [
          "<|endoftext|>_0",
          "L_1",
          "ately_2",
          ",_3",
          " Jerry_4",
          " and_5",
          " Dale_6",
          " had_7",
          " fun_8",
          " at_9",
          " the_10",
          " restaurant_11",
          "._12",
          " Jerry-> Dale_13",
          " gave_14",
          " a_15",
          " ring_16",
          " to_17"
         ],
         "title": {
          "text": "Position"
         },
         "type": "category"
        },
        "yaxis": {
         "anchor": "x",
         "autorange": true,
         "constrain": "domain",
         "domain": [
          0,
          1
         ],
         "range": [
          17.5,
          -0.5
         ],
         "tickmode": "array",
         "ticktext": [
          "<|endoftext|>_0",
          "L_1",
          "ately_2",
          ",_3",
          " Jerry_4",
          " and_5",
          " Dale_6",
          " had_7",
          " fun_8",
          " at_9",
          " the_10",
          " restaurant_11",
          "._12",
          " Jerry-> Dale_13",
          " gave_14",
          " a_15",
          " ring_16",
          " to_17"
         ],
         "tickvals": [
          "<|endoftext|>_0",
          "L_1",
          "ately_2",
          ",_3",
          " Jerry_4",
          " and_5",
          " Dale_6",
          " had_7",
          " fun_8",
          " at_9",
          " the_10",
          " restaurant_11",
          "._12",
          " Jerry-> Dale_13",
          " gave_14",
          " a_15",
          " ring_16",
          " to_17"
         ],
         "title": {
          "text": "Position"
         },
         "type": "category"
        }
       }
      },
      "image/png": "[encoded data removed]",
      "text/html": [
       "<div>                            <div id=\"a6113aa9-f2f7-47b9-a06b-a348921c5bfc\" class=\"plotly-graph-div\" style=\"height:525px; width:100%;\"></div>            <script type=\"text/javascript\">                require([\"plotly\"], function(Plotly) {                    window.PLOTLYENV=window.PLOTLYENV || {};                                    if (document.getElementById(\"a6113aa9-f2f7-47b9-a06b-a348921c5bfc\")) {                    Plotly.newPlot(                        \"a6113aa9-f2f7-47b9-a06b-a348921c5bfc\",                        [{\"coloraxis\":\"coloraxis\",\"name\":\"0\",\"x\":[\"\\u003c|endoftext|\\u003e_0\",\"L_1\",\"ately_2\",\",_3\",\" Jerry_4\",\" and_5\",\" Dale_6\",\" had_7\",\" fun_8\",\" at_9\",\" the_10\",\" restaurant_11\",\"._12\",\" Jerry-\\u003e Dale_13\",\" gave_14\",\" a_15\",\" ring_16\",\" to_17\"],\"y\":[\"\\u003c|endoftext|\\u003e_0\",\"L_1\",\"ately_2\",\",_3\",\" Jerry_4\",\" and_5\",\" Dale_6\",\" had_7\",\" fun_8\",\" at_9\",\" the_10\",\" restaurant_11\",\"._12\",\" Jerry-\\u003e Dale_13\",\" gave_14\",\" a_15\",\" ring_16\",\" to_17\"],\"z\":[[1.000000238418579,0.6523956656455994,0.6625430583953857,0.5898211598396301,0.673924446105957,0.3355182111263275,0.3697011172771454,0.269807904958725,0.2723388671875,0.2928053140640259,0.2931741774082184,0.2937643527984619,0.27377834916114807,0.2925167977809906,0.2563093602657318,0.2633974254131317,0.2664717435836792,0.2500632405281067],[0.6523956656455994,1.0,0.6265450716018677,0.7458165287971497,0.7819849252700806,0.37472742795944214,0.4069100320339203,0.30354735255241394,0.3149731755256653,0.3234909176826477,0.32414400577545166,0.32470273971557617,0.3034677803516388,0.3201850354671478,0.29247182607650757,0.29564258456230164,0.30026909708976746,0.281377375125885],[0.6625430583953857,0.6265450716018677,1.0,0.7506351470947266,0.8251733183860779,0.40834009647369385,0.4466504752635956,0.325351357460022,0.3251713514328003,0.3475114405155182,0.3472440838813782,0.34941497445106506,0.3267875611782074,0.3502155542373657,0.29694151878356934,0.3042442798614502,0.3131169378757477,0.28672945499420166],[0.5898211598396301,0.7458165884017944,0.7506351470947266,1.0,0.9244738221168518,0.41999006271362305,0.43804100155830383,0.3655616044998169,0.3712306618690491,0.360065758228302,0.36000531911849976,0.3627583384513855,0.33373796939849854,0.3524515926837921,0.3243575096130371,0.3309355676174164,0.3370943069458008,0.3320853114128113],[0.673924446105957,0.7819849848747253,0.8251732587814331,0.9244738817214966,1.0,0.4416288733482361,0.477755069732666,0.3879567086696625,0.39319711923599243,0.4042411148548126,0.40490323305130005,0.40808069705963135,0.3752998411655426,0.4011381268501282,0.35879719257354736,0.3658416271209717,0.3722395896911621,0.3629900813102722],[0.3355182409286499,0.3747274577617645,0.40834009647369385,0.41999009251594543,0.44162890315055847,1.0,0.9673880934715271,0.6494129300117493,0.6494921445846558,0.6361070275306702,0.6326266527175903,0.6296640038490295,0.5687529444694519,0.5807725787162781,0.5898175835609436,0.5875003933906555,0.5902928709983826,0.5362182259559631],[0.3697011172771454,0.4069100320339203,0.4466504752635956,0.43804097175598145,0.4777550995349884,0.9673880934715271,1.0,0.6490902304649353,0.6553615927696228,0.649559736251831,0.6461910605430603,0.6440152525901794,0.5894601941108704,0.6040472984313965,0.5965598821640015,0.599226713180542,0.6033065915107727,0.5518187284469604],[0.269807904958725,0.30354735255241394,0.325351357460022,0.3655616044998169,0.3879567086696625,0.649412989616394,0.6490902304649353,1.0,0.9837895035743713,0.9676917195320129,0.9636077284812927,0.960593044757843,0.8388090133666992,0.8581382036209106,0.8413375020027161,0.8439104557037354,0.8512260317802429,0.7883503437042236],[0.2723388671875,0.3149731755256653,0.3251713514328003,0.3712306618690491,0.39319711923599243,0.6494921445846558,0.6553615927696228,0.9837895035743713,1.0,0.9853587746620178,0.9822072982788086,0.9796218276023865,0.8595477342605591,0.8810176849365234,0.8566890954971313,0.8638591170310974,0.8715997934341431,0.8054336905479431],[0.2928053140640259,0.3234909176826477,0.3475114405155182,0.360065758228302,0.4042411148548126,0.6361070275306702,0.649559736251831,0.9676917195320129,0.9853587746620178,1.0,0.996876060962677,0.9948279857635498,0.877244234085083,0.8988005518913269,0.8626285791397095,0.8706347346305847,0.8789120316505432,0.822439432144165],[0.2931741774082184,0.32414400577545166,0.3472440838813782,0.36000531911849976,0.40490323305130005,0.6326266527175903,0.6461910605430603,0.9636077284812927,0.9822074174880981,0.996876060962677,1.0,0.9981304407119751,0.8813672661781311,0.9037225842475891,0.8642892837524414,0.8735325336456299,0.88215571641922,0.8253331780433655],[0.2937643527984619,0.32470273971557617,0.34941500425338745,0.3627583384513855,0.40808069705963135,0.6296640038490295,0.6440152525901794,0.960593044757843,0.9796218276023865,0.9948278665542603,0.9981304407119751,1.0,0.8829969167709351,0.9066581130027771,0.8647832274436951,0.8736342787742615,0.8835621476173401,0.8272139430046082],[0.27377834916114807,0.3034677803516388,0.3267875611782074,0.33373796939849854,0.3752998113632202,0.5687529444694519,0.5894601941108704,0.8388090133666992,0.8595477342605591,0.877244234085083,0.8813672661781311,0.8829969167709351,1.0,0.9831582903862,0.8924139142036438,0.8991079330444336,0.9073163866996765,0.8509657979011536],[0.2925167977809906,0.3201850354671478,0.3502155542373657,0.3524515926837921,0.4011381268501282,0.5807725787162781,0.6040472984313965,0.8581382036209106,0.8810176849365234,0.8988005518913269,0.9037225842475891,0.9066581130027771,0.9831582903862,1.0,0.9093106985092163,0.9168336987495422,0.9280343651771545,0.8709306120872498],[0.2563093602657318,0.29247182607650757,0.29694151878356934,0.3243575096130371,0.35879719257354736,0.5898175835609436,0.5965598821640015,0.8413375020027161,0.8566890954971313,0.8626285791397095,0.8642892837524414,0.8647832274436951,0.8924139142036438,0.9093106985092163,1.0,0.9933666586875916,0.9925462603569031,0.9019386768341064],[0.2633974254131317,0.29564258456230164,0.3042442798614502,0.3309355676174164,0.3658416271209717,0.5875003933906555,0.599226713180542,0.8439103960990906,0.8638591170310974,0.8706347346305847,0.8735325336456299,0.8736342787742615,0.8991079330444336,0.9168336987495422,0.9933666586875916,1.0,0.9958996772766113,0.9079506397247314],[0.2664717435836792,0.30026909708976746,0.3131169378757477,0.3370943069458008,0.3722395896911621,0.5902928709983826,0.6033065915107727,0.8512260317802429,0.8715997934341431,0.8789120316505432,0.88215571641922,0.8835621476173401,0.9073163866996765,0.9280343651771545,0.9925462603569031,0.9958996176719666,1.0,0.9132946729660034],[0.2500632405281067,0.281377375125885,0.28672948479652405,0.3320853114128113,0.3629900813102722,0.5362181663513184,0.5518187284469604,0.7883503437042236,0.8054336905479431,0.822439432144165,0.8253331780433655,0.8272139430046082,0.8509657979011536,0.8709306120872498,0.9019386768341064,0.9079506397247314,0.9132946729660034,1.0]],\"type\":\"heatmap\",\"xaxis\":\"x\",\"yaxis\":\"y\",\"hovertemplate\":\"Position: %{x}\\u003cbr\\u003ePosition: %{y}\\u003cbr\\u003ecolor: %{z}\\u003cextra\\u003e\\u003c\\u002fextra\\u003e\"}],                        {\"template\":{\"data\":{\"histogram2dcontour\":[{\"type\":\"histogram2dcontour\",\"colorbar\":{\"outlinewidth\":0,\"ticks\":\"\"},\"colorscale\":[[0.0,\"#0d0887\"],[0.1111111111111111,\"#46039f\"],[0.2222222222222222,\"#7201a8\"],[0.3333333333333333,\"#9c179e\"],[0.4444444444444444,\"#bd3786\"],[0.5555555555555556,\"#d8576b\"],[0.6666666666666666,\"#ed7953\"],[0.7777777777777778,\"#fb9f3a\"],[0.8888888888888888,\"#fdca26\"],[1.0,\"#f0f921\"]]}],\"choropleth\":[{\"type\":\"choropleth\",\"colorbar\":{\"outlinewidth\":0,\"ticks\":\"\"}}],\"histogram2d\":[{\"type\":\"histogram2d\",\"colorbar\":{\"outlinewidth\":0,\"ticks\":\"\"},\"colorscale\":[[0.0,\"#0d0887\"],[0.1111111111111111,\"#46039f\"],[0.2222222222222222,\"#7201a8\"],[0.3333333333333333,\"#9c179e\"],[0.4444444444444444,\"#bd3786\"],[0.5555555555555556,\"#d8576b\"],[0.6666666666666666,\"#ed7953\"],[0.7777777777777778,\"#fb9f3a\"],[0.8888888888888888,\"#fdca26\"],[1.0,\"#f0f921\"]]}],\"heatmap\":[{\"type\":\"heatmap\",\"colorbar\":{\"outlinewidth\":0,\"ticks\":\"\"},\"colorscale\":[[0.0,\"#0d0887\"],[0.1111111111111111,\"#46039f\"],[0.2222222222222222,\"#7201a8\"],[0.3333333333333333,\"#9c179e\"],[0.4444444444444444,\"#bd3786\"],[0.5555555555555556,\"#d8576b\"],[0.6666666666666666,\"#ed7953\"],[0.7777777777777778,\"#fb9f3a\"],[0.8888888888888888,\"#fdca26\"],[1.0,\"#f0f921\"]]}],\"heatmapgl\":[{\"type\":\"heatmapgl\",\"colorbar\":{\"outlinewidth\":0,\"ticks\":\"\"},\"colorscale\":[[0.0,\"#0d0887\"],[0.1111111111111111,\"#46039f\"],[0.2222222222222222,\"#7201a8\"],[0.3333333333333333,\"#9c179e\"],[0.4444444444444444,\"#bd3786\"],[0.5555555555555556,\"#d8576b\"],[0.6666666666666666,\"#ed7953\"],[0.7777777777777778,\"#fb9f3a\"],[0.8888888888888888,\"#fdca26\"],[1.0,\"#f0f921\"]]}],\"contourcarpet\":[{\"type\":\"contourcarpet\",\"colorbar\":{\"outlinewidth\":0,\"ticks\":\"\"}}],\"contour\":[{\"type\":\"contour\",\"colorbar\":{\"outlinewidth\":0,\"ticks\":\"\"},\"colorscale\":[[0.0,\"#0d0887\"],[0.1111111111111111,\"#46039f\"],[0.2222222222222222,\"#7201a8\"],[0.3333333333333333,\"#9c179e\"],[0.4444444444444444,\"#bd3786\"],[0.5555555555555556,\"#d8576b\"],[0.6666666666666666,\"#ed7953\"],[0.7777777777777778,\"#fb9f3a\"],[0.8888888888888888,\"#fdca26\"],[1.0,\"#f0f921\"]]}],\"surface\":[{\"type\":\"surface\",\"colorbar\":{\"outlinewidth\":0,\"ticks\":\"\"},\"colorscale\":[[0.0,\"#0d0887\"],[0.1111111111111111,\"#46039f\"],[0.2222222222222222,\"#7201a8\"],[0.3333333333333333,\"#9c179e\"],[0.4444444444444444,\"#bd3786\"],[0.5555555555555556,\"#d8576b\"],[0.6666666666666666,\"#ed7953\"],[0.7777777777777778,\"#fb9f3a\"],[0.8888888888888888,\"#fdca26\"],[1.0,\"#f0f921\"]]}],\"mesh3d\":[{\"type\":\"mesh3d\",\"colorbar\":{\"outlinewidth\":0,\"ticks\":\"\"}}],\"scatter\":[{\"fillpattern\":{\"fillmode\":\"overlay\",\"size\":10,\"solidity\":0.2},\"type\":\"scatter\"}],\"parcoords\":[{\"type\":\"parcoords\",\"line\":{\"colorbar\":{\"outlinewidth\":0,\"ticks\":\"\"}}}],\"scatterpolargl\":[{\"type\":\"scatterpolargl\",\"marker\":{\"colorbar\":{\"outlinewidth\":0,\"ticks\":\"\"}}}],\"bar\":[{\"error_x\":{\"color\":\"#2a3f5f\"},\"error_y\":{\"color\":\"#2a3f5f\"},\"marker\":{\"line\":{\"color\":\"#E5ECF6\",\"width\":0.5},\"pattern\":{\"fillmode\":\"overlay\",\"size\":10,\"solidity\":0.2}},\"type\":\"bar\"}],\"scattergeo\":[{\"type\":\"scattergeo\",\"marker\":{\"colorbar\":{\"outlinewidth\":0,\"ticks\":\"\"}}}],\"scatterpolar\":[{\"type\":\"scatterpolar\",\"marker\":{\"colorbar\":{\"outlinewidth\":0,\"ticks\":\"\"}}}],\"histogram\":[{\"marker\":{\"pattern\":{\"fillmode\":\"overlay\",\"size\":10,\"solidity\":0.2}},\"type\":\"histogram\"}],\"scattergl\":[{\"type\":\"scattergl\",\"marker\":{\"colorbar\":{\"outlinewidth\":0,\"ticks\":\"\"}}}],\"scatter3d\":[{\"type\":\"scatter3d\",\"line\":{\"colorbar\":{\"outlinewidth\":0,\"ticks\":\"\"}},\"marker\":{\"colorbar\":{\"outlinewidth\":0,\"ticks\":\"\"}}}],\"scattermapbox\":[{\"type\":\"scattermapbox\",\"marker\":{\"colorbar\":{\"outlinewidth\":0,\"ticks\":\"\"}}}],\"scatterternary\":[{\"type\":\"scatterternary\",\"marker\":{\"colorbar\":{\"outlinewidth\":0,\"ticks\":\"\"}}}],\"scattercarpet\":[{\"type\":\"scattercarpet\",\"marker\":{\"colorbar\":{\"outlinewidth\":0,\"ticks\":\"\"}}}],\"carpet\":[{\"aaxis\":{\"endlinecolor\":\"#2a3f5f\",\"gridcolor\":\"white\",\"linecolor\":\"white\",\"minorgridcolor\":\"white\",\"startlinecolor\":\"#2a3f5f\"},\"baxis\":{\"endlinecolor\":\"#2a3f5f\",\"gridcolor\":\"white\",\"linecolor\":\"white\",\"minorgridcolor\":\"white\",\"startlinecolor\":\"#2a3f5f\"},\"type\":\"carpet\"}],\"table\":[{\"cells\":{\"fill\":{\"color\":\"#EBF0F8\"},\"line\":{\"color\":\"white\"}},\"header\":{\"fill\":{\"color\":\"#C8D4E3\"},\"line\":{\"color\":\"white\"}},\"type\":\"table\"}],\"barpolar\":[{\"marker\":{\"line\":{\"color\":\"#E5ECF6\",\"width\":0.5},\"pattern\":{\"fillmode\":\"overlay\",\"size\":10,\"solidity\":0.2}},\"type\":\"barpolar\"}],\"pie\":[{\"automargin\":true,\"type\":\"pie\"}]},\"layout\":{\"autotypenumbers\":\"strict\",\"colorway\":[\"#636efa\",\"#EF553B\",\"#00cc96\",\"#ab63fa\",\"#FFA15A\",\"#19d3f3\",\"#FF6692\",\"#B6E880\",\"#FF97FF\",\"#FECB52\"],\"font\":{\"color\":\"#2a3f5f\"},\"hovermode\":\"closest\",\"hoverlabel\":{\"align\":\"left\"},\"paper_bgcolor\":\"white\",\"plot_bgcolor\":\"#E5ECF6\",\"polar\":{\"bgcolor\":\"#E5ECF6\",\"angularaxis\":{\"gridcolor\":\"white\",\"linecolor\":\"white\",\"ticks\":\"\"},\"radialaxis\":{\"gridcolor\":\"white\",\"linecolor\":\"white\",\"ticks\":\"\"}},\"ternary\":{\"bgcolor\":\"#E5ECF6\",\"aaxis\":{\"gridcolor\":\"white\",\"linecolor\":\"white\",\"ticks\":\"\"},\"baxis\":{\"gridcolor\":\"white\",\"linecolor\":\"white\",\"ticks\":\"\"},\"caxis\":{\"gridcolor\":\"white\",\"linecolor\":\"white\",\"ticks\":\"\"}},\"coloraxis\":{\"colorbar\":{\"outlinewidth\":0,\"ticks\":\"\"}},\"colorscale\":{\"sequential\":[[0.0,\"#0d0887\"],[0.1111111111111111,\"#46039f\"],[0.2222222222222222,\"#7201a8\"],[0.3333333333333333,\"#9c179e\"],[0.4444444444444444,\"#bd3786\"],[0.5555555555555556,\"#d8576b\"],[0.6666666666666666,\"#ed7953\"],[0.7777777777777778,\"#fb9f3a\"],[0.8888888888888888,\"#fdca26\"],[1.0,\"#f0f921\"]],\"sequentialminus\":[[0.0,\"#0d0887\"],[0.1111111111111111,\"#46039f\"],[0.2222222222222222,\"#7201a8\"],[0.3333333333333333,\"#9c179e\"],[0.4444444444444444,\"#bd3786\"],[0.5555555555555556,\"#d8576b\"],[0.6666666666666666,\"#ed7953\"],[0.7777777777777778,\"#fb9f3a\"],[0.8888888888888888,\"#fdca26\"],[1.0,\"#f0f921\"]],\"diverging\":[[0,\"#8e0152\"],[0.1,\"#c51b7d\"],[0.2,\"#de77ae\"],[0.3,\"#f1b6da\"],[0.4,\"#fde0ef\"],[0.5,\"#f7f7f7\"],[0.6,\"#e6f5d0\"],[0.7,\"#b8e186\"],[0.8,\"#7fbc41\"],[0.9,\"#4d9221\"],[1,\"#276419\"]]},\"xaxis\":{\"gridcolor\":\"white\",\"linecolor\":\"white\",\"ticks\":\"\",\"title\":{\"standoff\":15},\"zerolinecolor\":\"white\",\"automargin\":true,\"zerolinewidth\":2},\"yaxis\":{\"gridcolor\":\"white\",\"linecolor\":\"white\",\"ticks\":\"\",\"title\":{\"standoff\":15},\"zerolinecolor\":\"white\",\"automargin\":true,\"zerolinewidth\":2},\"scene\":{\"xaxis\":{\"backgroundcolor\":\"#E5ECF6\",\"gridcolor\":\"white\",\"linecolor\":\"white\",\"showbackground\":true,\"ticks\":\"\",\"zerolinecolor\":\"white\",\"gridwidth\":2},\"yaxis\":{\"backgroundcolor\":\"#E5ECF6\",\"gridcolor\":\"white\",\"linecolor\":\"white\",\"showbackground\":true,\"ticks\":\"\",\"zerolinecolor\":\"white\",\"gridwidth\":2},\"zaxis\":{\"backgroundcolor\":\"#E5ECF6\",\"gridcolor\":\"white\",\"linecolor\":\"white\",\"showbackground\":true,\"ticks\":\"\",\"zerolinecolor\":\"white\",\"gridwidth\":2}},\"shapedefaults\":{\"line\":{\"color\":\"#2a3f5f\"}},\"annotationdefaults\":{\"arrowcolor\":\"#2a3f5f\",\"arrowhead\":0,\"arrowwidth\":1},\"geo\":{\"bgcolor\":\"white\",\"landcolor\":\"#E5ECF6\",\"subunitcolor\":\"white\",\"showland\":true,\"showlakes\":true,\"lakecolor\":\"white\"},\"title\":{\"x\":0.05},\"mapbox\":{\"style\":\"light\"}}},\"xaxis\":{\"anchor\":\"y\",\"domain\":[0.0,1.0],\"scaleanchor\":\"y\",\"constrain\":\"domain\",\"title\":{\"text\":\"Position\"},\"tickmode\":\"array\",\"tickvals\":[\"\\u003c|endoftext|\\u003e_0\",\"L_1\",\"ately_2\",\",_3\",\" Jerry_4\",\" and_5\",\" Dale_6\",\" had_7\",\" fun_8\",\" at_9\",\" the_10\",\" restaurant_11\",\"._12\",\" Jerry-\\u003e Dale_13\",\" gave_14\",\" a_15\",\" ring_16\",\" to_17\"],\"ticktext\":[\"\\u003c|endoftext|\\u003e_0\",\"L_1\",\"ately_2\",\",_3\",\" Jerry_4\",\" and_5\",\" Dale_6\",\" had_7\",\" fun_8\",\" at_9\",\" the_10\",\" restaurant_11\",\"._12\",\" Jerry-\\u003e Dale_13\",\" gave_14\",\" a_15\",\" ring_16\",\" to_17\"]},\"yaxis\":{\"anchor\":\"x\",\"domain\":[0.0,1.0],\"autorange\":\"reversed\",\"constrain\":\"domain\",\"title\":{\"text\":\"Position\"},\"tickmode\":\"array\",\"tickvals\":[\"\\u003c|endoftext|\\u003e_0\",\"L_1\",\"ately_2\",\",_3\",\" Jerry_4\",\" and_5\",\" Dale_6\",\" had_7\",\" fun_8\",\" at_9\",\" the_10\",\" restaurant_11\",\"._12\",\" Jerry-\\u003e Dale_13\",\" gave_14\",\" a_15\",\" ring_16\",\" to_17\"],\"ticktext\":[\"\\u003c|endoftext|\\u003e_0\",\"L_1\",\"ately_2\",\",_3\",\" Jerry_4\",\" and_5\",\" Dale_6\",\" had_7\",\" fun_8\",\" at_9\",\" the_10\",\" restaurant_11\",\"._12\",\" Jerry-\\u003e Dale_13\",\" gave_14\",\" a_15\",\" ring_16\",\" to_17\"]},\"coloraxis\":{\"colorscale\":[[0.0,\"rgb(103,0,31)\"],[0.1,\"rgb(178,24,43)\"],[0.2,\"rgb(214,96,77)\"],[0.3,\"rgb(244,165,130)\"],[0.4,\"rgb(253,219,199)\"],[0.5,\"rgb(247,247,247)\"],[0.6,\"rgb(209,229,240)\"],[0.7,\"rgb(146,197,222)\"],[0.8,\"rgb(67,147,195)\"],[0.9,\"rgb(33,102,172)\"],[1.0,\"rgb(5,48,97)\"]],\"cmid\":0.0},\"title\":{\"text\":\"Similarity of h_i to h_j on layer 39\"},\"font\":{\"size\":8,\"color\":\"black\"}},                        {\"responsive\": true}                    ).then(function(){\n",
       "                            \n",
       "var gd = document.getElementById('a6113aa9-f2f7-47b9-a06b-a348921c5bfc');\n",
       "var x = new MutationObserver(function (mutations, observer) {{\n",
       "        var display = window.getComputedStyle(gd).display;\n",
       "        if (!display || display === 'none') {{\n",
       "            console.log([gd, 'removed!']);\n",
       "            Plotly.purge(gd);\n",
       "            observer.disconnect();\n",
       "        }}\n",
       "}});\n",
       "\n",
       "// Listen for the removal of the full notebook cells\n",
       "var notebookContainer = gd.closest('#notebook-container');\n",
       "if (notebookContainer) {{\n",
       "    x.observe(notebookContainer, {childList: true});\n",
       "}}\n",
       "\n",
       "// Listen for the clearing of the current output cell\n",
       "var outputEl = gd.closest('.output');\n",
       "if (outputEl) {{\n",
       "    x.observe(outputEl, {childList: true});\n",
       "}}\n",
       "\n",
       "                        })                };                });            </script>        </div>"
      ]
     },
     "metadata": {},
     "output_type": "display_data"
    },
    {
     "data": {
      "application/vnd.plotly.v1+json": {
       "config": {
        "plotlyServerURL": "https://plot.ly"
       },
       "data": [
        {
         "coloraxis": "coloraxis",
         "hovertemplate": "Position: %{x}<br>Position: %{y}<br>color: %{z}<extra></extra>",
         "name": "0",
         "type": "heatmap",
         "x": [
          "<|endoftext|>_0",
          "L_1",
          "ately_2",
          ",_3",
          " Jerry_4",
          " and_5",
          " Dale_6",
          " had_7",
          " fun_8",
          " at_9",
          " the_10",
          " restaurant_11",
          "._12",
          " Jerry-> Dale_13",
          " gave_14",
          " a_15",
          " ring_16",
          " to_17"
         ],
         "xaxis": "x",
         "y": [
          "<|endoftext|>_0",
          "L_1",
          "ately_2",
          ",_3",
          " Jerry_4",
          " and_5",
          " Dale_6",
          " had_7",
          " fun_8",
          " at_9",
          " the_10",
          " restaurant_11",
          "._12",
          " Jerry-> Dale_13",
          " gave_14",
          " a_15",
          " ring_16",
          " to_17"
         ],
         "yaxis": "y",
         "z": [
          [
           1.000000238418579,
           0.6523956656455994,
           0.6625430583953857,
           0.5898211598396301,
           0.673924446105957,
           0.3355182111263275,
           0.3697011172771454,
           0.269807904958725,
           0.2723388671875,
           0.2928053140640259,
           0.2931741774082184,
           0.2937643527984619,
           0.27377834916114807,
           0.2925167977809906,
           0.2563093602657318,
           0.2633974254131317,
           0.2664717435836792,
           0.2500632405281067
          ],
          [
           0.08983488380908966,
           0.6186500787734985,
           -0.010477976873517036,
           0.15769408643245697,
           0.15387634932994843,
           0.0731934905052185,
           0.0785272866487503,
           0.052383266389369965,
           0.0647008866071701,
           0.0613003671169281,
           0.06192652881145477,
           0.06032111868262291,
           0.05706080421805382,
           0.057187408208847046,
           0.062303777784109116,
           0.0593440905213356,
           0.05718083307147026,
           0.050551801919937134
          ],
          [
           0.11768483370542526,
           -0.15879176557064056,
           0.5394611358642578,
           0.021014584228396416,
           0.07520844787359238,
           0.06122526898980141,
           0.07213280349969864,
           0.030413076281547546,
           0.020354464650154114,
           0.04134904593229294,
           0.03940681740641594,
           0.040391501039266586,
           0.039866335690021515,
           0.04739895090460777,
           0.014154109172523022,
           0.01774091087281704,
           0.02183983474969864,
           0.0026579739060252905
          ],
          [
           -0.06736680865287781,
           0.07491733133792877,
           -0.14431209862232208,
           0.43807634711265564,
           0.15084832906723022,
           0.022054756060242653,
           -0.015636442229151726,
           0.0649150162935257,
           0.06547775119543076,
           0.009938578121364117,
           0.0070814089849591255,
           0.009091894142329693,
           0.0020141559652984142,
           -0.0036715413443744183,
           0.023039229214191437,
           0.02448101155459881,
           0.021302515640854836,
           0.05485309287905693
          ],
          [
           0.20008565485477448,
           0.12509091198444366,
           0.086959607899189,
           0.13280384242534637,
           0.30909934639930725,
           0.024638405069708824,
           0.05374642089009285,
           0.08756095916032791,
           0.0739823505282402,
           0.10495202988386154,
           0.0992107018828392,
           0.10209845006465912,
           0.0864773616194725,
           0.09335198253393173,
           0.08283861726522446,
           0.08648738265037537,
           0.0770149752497673,
           0.10589771717786789
          ],
          [
           0.02076820656657219,
           0.0060284375213086605,
           0.014558112248778343,
           -0.008414624258875847,
           -0.022218668833374977,
           0.8739898204803467,
           0.8153186440467834,
           0.5195900201797485,
           0.5142636299133301,
           0.49226972460746765,
           0.48721304535865784,
           0.48198455572128296,
           0.42935633659362793,
           0.42863547801971436,
           0.4634978175163269,
           0.45695018768310547,
           0.4551134407520294,
           0.40596386790275574
          ],
          [
           0.08224659413099289,
           0.02587871067225933,
           0.07739638537168503,
           -0.05452777072787285,
           0.012481406331062317,
           -0.019829584285616875,
           0.1529131680727005,
           -0.07503592222929001,
           -0.06292732805013657,
           -0.05237624794244766,
           -0.060859620571136475,
           -0.06232577562332153,
           -0.025378474965691566,
           -0.02835509181022644,
           -0.02697150409221649,
           -0.015536677092313766,
           -0.020951932296156883,
           -0.029226621612906456
          ],
          [
           0.00942185614258051,
           -0.001110711949877441,
           -0.0004033113655168563,
           0.025006359443068504,
           0.025072703137993813,
           0.11252373456954956,
           0.06446480751037598,
           0.7209264636039734,
           0.6881983876228333,
           0.6664201617240906,
           0.661607027053833,
           0.6576438546180725,
           0.5600250363349915,
           0.564337432384491,
           0.5803755521774292,
           0.5774224996566772,
           0.5789567828178406,
           0.5371841192245483
          ],
          [
           0.035743437707424164,
           0.06900371611118317,
           -0.017196128144860268,
           0.07298585027456284,
           0.047266632318496704,
           0.0644771158695221,
           0.09044082462787628,
           -0.02012338861823082,
           0.1286366581916809,
           0.10213832557201385,
           0.09601207077503204,
           0.0932944044470787,
           0.08139079809188843,
           0.08125362545251846,
           0.09266060590744019,
           0.11395248025655746,
           0.10658759623765945,
           0.08423466980457306
          ],
          [
           0.1367662250995636,
           0.04140499606728554,
           0.08296826481819153,
           -0.08409912884235382,
           0.03875927999615669,
           0.007230987306684256,
           0.02844598889350891,
           0.02343735285103321,
           0.0157670546323061,
           0.14728565514087677,
           0.13075099885463715,
           0.12489213049411774,
           0.08659164607524872,
           0.07014225423336029,
           0.07496625930070877,
           0.07881190627813339,
           0.06590907275676727,
           0.10283584892749786
          ],
          [
           0.18568234145641327,
           0.0980762243270874,
           0.09856951236724854,
           0.09494365751743317,
           0.12638145685195923,
           0.058882731944322586,
           0.0695696547627449,
           0.048972416669130325,
           0.06238481402397156,
           0.08901359885931015,
           0.1317405253648758,
           0.12073582410812378,
           0.10053074359893799,
           0.08933371305465698,
           0.07867864519357681,
           0.10923929512500763,
           0.09153542667627335,
           0.08295775204896927
          ],
          [
           0.19221989810466766,
           0.10746127367019653,
           0.14179706573486328,
           0.13709954917430878,
           0.1796727329492569,
           0.07260217517614365,
           0.09206761419773102,
           0.07407253980636597,
           0.07941122353076935,
           0.0979132428765297,
           0.11466295272111893,
           0.14726927876472473,
           0.10069306939840317,
           0.10303923487663269,
           0.09184005856513977,
           0.10870164632797241,
           0.10305517911911011,
           0.10354264080524445
          ],
          [
           0.02107376791536808,
           0.03580908104777336,
           -0.01016333419829607,
           -0.023082006722688675,
           -0.0032861463259905577,
           -0.008086210116744041,
           0.0037895592395216227,
           -0.024487825110554695,
           -0.020073112100362778,
           -0.006998121738433838,
           -0.006473924033343792,
           -0.008725202642381191,
           0.3855787515640259,
           0.2970014810562134,
           0.21829357743263245,
           0.21208134293556213,
           0.20610904693603516,
           0.2087169736623764
          ],
          [
           0.2029878795146942,
           0.05952843651175499,
           0.1362246423959732,
           -0.0044871666468679905,
           0.11558126658201218,
           0.05412299185991287,
           0.08314549922943115,
           0.03220163658261299,
           0.04835816100239754,
           0.05663212388753891,
           0.05524064600467682,
           0.05762846767902374,
           0.043996457010507584,
           0.12255341559648514,
           0.0848512351512909,
           0.07915275543928146,
           0.08056049048900604,
           0.0639827698469162
          ],
          [
           0.008320516906678677,
           0.01632242649793625,
           -0.019968217238783836,
           0.0006027828203514218,
           0.0040209731087088585,
           0.2550273537635803,
           0.22263023257255554,
           0.2746847867965698,
           0.2628435492515564,
           0.24050484597682953,
           0.2325735241174698,
           0.2258358746767044,
           0.19395031034946442,
           0.17286434769630432,
           0.531505286693573,
           0.4993230104446411,
           0.4719388484954834,
           0.36897337436676025
          ],
          [
           0.08552087098360062,
           0.01795276813209057,
           0.04723071679472923,
           0.044999029487371445,
           0.049646180123090744,
           0.021906929090619087,
           0.0473141074180603,
           0.01488535851240158,
           0.050396595150232315,
           0.049239423125982285,
           0.05475402623414993,
           0.048298295587301254,
           0.04938550665974617,
           0.04651245102286339,
           0.04295683279633522,
           0.13548964262008667,
           0.08453340828418732,
           0.07137197256088257
          ],
          [
           0.10548906773328781,
           0.040826305747032166,
           0.09635855257511139,
           0.078490249812603,
           0.0740218535065651,
           0.04603957757353783,
           0.05440904572606087,
           0.02730490267276764,
           0.04498463124036789,
           0.03362767770886421,
           0.04186609014868736,
           0.050282325595617294,
           0.05451343581080437,
           0.06424085050821304,
           0.046333760023117065,
           0.057436197996139526,
           0.0910264402627945,
           0.063426174223423
          ],
          [
           0.010047833435237408,
           0.011626075021922588,
           -0.022710176184773445,
           0.01797526702284813,
           0.021932192146778107,
           -0.011784489266574383,
           -0.005910197272896767,
           0.01526502426713705,
           0.010274816304445267,
           0.03470509126782417,
           0.03257877752184868,
           0.03162328153848648,
           0.056318499147892,
           0.0416896790266037,
           0.03392359986901283,
           0.03366182744503021,
           0.02945532836019993,
           0.385008305311203
          ]
         ]
        }
       ],
       "layout": {
        "autosize": true,
        "coloraxis": {
         "cmid": 0,
         "colorscale": [
          [
           0,
           "rgb(103,0,31)"
          ],
          [
           0.1,
           "rgb(178,24,43)"
          ],
          [
           0.2,
           "rgb(214,96,77)"
          ],
          [
           0.3,
           "rgb(244,165,130)"
          ],
          [
           0.4,
           "rgb(253,219,199)"
          ],
          [
           0.5,
           "rgb(247,247,247)"
          ],
          [
           0.6,
           "rgb(209,229,240)"
          ],
          [
           0.7,
           "rgb(146,197,222)"
          ],
          [
           0.8,
           "rgb(67,147,195)"
          ],
          [
           0.9,
           "rgb(33,102,172)"
          ],
          [
           1,
           "rgb(5,48,97)"
          ]
         ]
        },
        "font": {
         "color": "black",
         "size": 8
        },
        "template": {
         "data": {
          "bar": [
           {
            "error_x": {
             "color": "#2a3f5f"
            },
            "error_y": {
             "color": "#2a3f5f"
            },
            "marker": {
             "line": {
              "color": "#E5ECF6",
              "width": 0.5
             },
             "pattern": {
              "fillmode": "overlay",
              "size": 10,
              "solidity": 0.2
             }
            },
            "type": "bar"
           }
          ],
          "barpolar": [
           {
            "marker": {
             "line": {
              "color": "#E5ECF6",
              "width": 0.5
             },
             "pattern": {
              "fillmode": "overlay",
              "size": 10,
              "solidity": 0.2
             }
            },
            "type": "barpolar"
           }
          ],
          "carpet": [
           {
            "aaxis": {
             "endlinecolor": "#2a3f5f",
             "gridcolor": "white",
             "linecolor": "white",
             "minorgridcolor": "white",
             "startlinecolor": "#2a3f5f"
            },
            "baxis": {
             "endlinecolor": "#2a3f5f",
             "gridcolor": "white",
             "linecolor": "white",
             "minorgridcolor": "white",
             "startlinecolor": "#2a3f5f"
            },
            "type": "carpet"
           }
          ],
          "choropleth": [
           {
            "colorbar": {
             "outlinewidth": 0,
             "ticks": ""
            },
            "type": "choropleth"
           }
          ],
          "contour": [
           {
            "colorbar": {
             "outlinewidth": 0,
             "ticks": ""
            },
            "colorscale": [
             [
              0,
              "#0d0887"
             ],
             [
              0.1111111111111111,
              "#46039f"
             ],
             [
              0.2222222222222222,
              "#7201a8"
             ],
             [
              0.3333333333333333,
              "#9c179e"
             ],
             [
              0.4444444444444444,
              "#bd3786"
             ],
             [
              0.5555555555555556,
              "#d8576b"
             ],
             [
              0.6666666666666666,
              "#ed7953"
             ],
             [
              0.7777777777777778,
              "#fb9f3a"
             ],
             [
              0.8888888888888888,
              "#fdca26"
             ],
             [
              1,
              "#f0f921"
             ]
            ],
            "type": "contour"
           }
          ],
          "contourcarpet": [
           {
            "colorbar": {
             "outlinewidth": 0,
             "ticks": ""
            },
            "type": "contourcarpet"
           }
          ],
          "heatmap": [
           {
            "colorbar": {
             "outlinewidth": 0,
             "ticks": ""
            },
            "colorscale": [
             [
              0,
              "#0d0887"
             ],
             [
              0.1111111111111111,
              "#46039f"
             ],
             [
              0.2222222222222222,
              "#7201a8"
             ],
             [
              0.3333333333333333,
              "#9c179e"
             ],
             [
              0.4444444444444444,
              "#bd3786"
             ],
             [
              0.5555555555555556,
              "#d8576b"
             ],
             [
              0.6666666666666666,
              "#ed7953"
             ],
             [
              0.7777777777777778,
              "#fb9f3a"
             ],
             [
              0.8888888888888888,
              "#fdca26"
             ],
             [
              1,
              "#f0f921"
             ]
            ],
            "type": "heatmap"
           }
          ],
          "heatmapgl": [
           {
            "colorbar": {
             "outlinewidth": 0,
             "ticks": ""
            },
            "colorscale": [
             [
              0,
              "#0d0887"
             ],
             [
              0.1111111111111111,
              "#46039f"
             ],
             [
              0.2222222222222222,
              "#7201a8"
             ],
             [
              0.3333333333333333,
              "#9c179e"
             ],
             [
              0.4444444444444444,
              "#bd3786"
             ],
             [
              0.5555555555555556,
              "#d8576b"
             ],
             [
              0.6666666666666666,
              "#ed7953"
             ],
             [
              0.7777777777777778,
              "#fb9f3a"
             ],
             [
              0.8888888888888888,
              "#fdca26"
             ],
             [
              1,
              "#f0f921"
             ]
            ],
            "type": "heatmapgl"
           }
          ],
          "histogram": [
           {
            "marker": {
             "pattern": {
              "fillmode": "overlay",
              "size": 10,
              "solidity": 0.2
             }
            },
            "type": "histogram"
           }
          ],
          "histogram2d": [
           {
            "colorbar": {
             "outlinewidth": 0,
             "ticks": ""
            },
            "colorscale": [
             [
              0,
              "#0d0887"
             ],
             [
              0.1111111111111111,
              "#46039f"
             ],
             [
              0.2222222222222222,
              "#7201a8"
             ],
             [
              0.3333333333333333,
              "#9c179e"
             ],
             [
              0.4444444444444444,
              "#bd3786"
             ],
             [
              0.5555555555555556,
              "#d8576b"
             ],
             [
              0.6666666666666666,
              "#ed7953"
             ],
             [
              0.7777777777777778,
              "#fb9f3a"
             ],
             [
              0.8888888888888888,
              "#fdca26"
             ],
             [
              1,
              "#f0f921"
             ]
            ],
            "type": "histogram2d"
           }
          ],
          "histogram2dcontour": [
           {
            "colorbar": {
             "outlinewidth": 0,
             "ticks": ""
            },
            "colorscale": [
             [
              0,
              "#0d0887"
             ],
             [
              0.1111111111111111,
              "#46039f"
             ],
             [
              0.2222222222222222,
              "#7201a8"
             ],
             [
              0.3333333333333333,
              "#9c179e"
             ],
             [
              0.4444444444444444,
              "#bd3786"
             ],
             [
              0.5555555555555556,
              "#d8576b"
             ],
             [
              0.6666666666666666,
              "#ed7953"
             ],
             [
              0.7777777777777778,
              "#fb9f3a"
             ],
             [
              0.8888888888888888,
              "#fdca26"
             ],
             [
              1,
              "#f0f921"
             ]
            ],
            "type": "histogram2dcontour"
           }
          ],
          "mesh3d": [
           {
            "colorbar": {
             "outlinewidth": 0,
             "ticks": ""
            },
            "type": "mesh3d"
           }
          ],
          "parcoords": [
           {
            "line": {
             "colorbar": {
              "outlinewidth": 0,
              "ticks": ""
             }
            },
            "type": "parcoords"
           }
          ],
          "pie": [
           {
            "automargin": true,
            "type": "pie"
           }
          ],
          "scatter": [
           {
            "fillpattern": {
             "fillmode": "overlay",
             "size": 10,
             "solidity": 0.2
            },
            "type": "scatter"
           }
          ],
          "scatter3d": [
           {
            "line": {
             "colorbar": {
              "outlinewidth": 0,
              "ticks": ""
             }
            },
            "marker": {
             "colorbar": {
              "outlinewidth": 0,
              "ticks": ""
             }
            },
            "type": "scatter3d"
           }
          ],
          "scattercarpet": [
           {
            "marker": {
             "colorbar": {
              "outlinewidth": 0,
              "ticks": ""
             }
            },
            "type": "scattercarpet"
           }
          ],
          "scattergeo": [
           {
            "marker": {
             "colorbar": {
              "outlinewidth": 0,
              "ticks": ""
             }
            },
            "type": "scattergeo"
           }
          ],
          "scattergl": [
           {
            "marker": {
             "colorbar": {
              "outlinewidth": 0,
              "ticks": ""
             }
            },
            "type": "scattergl"
           }
          ],
          "scattermapbox": [
           {
            "marker": {
             "colorbar": {
              "outlinewidth": 0,
              "ticks": ""
             }
            },
            "type": "scattermapbox"
           }
          ],
          "scatterpolar": [
           {
            "marker": {
             "colorbar": {
              "outlinewidth": 0,
              "ticks": ""
             }
            },
            "type": "scatterpolar"
           }
          ],
          "scatterpolargl": [
           {
            "marker": {
             "colorbar": {
              "outlinewidth": 0,
              "ticks": ""
             }
            },
            "type": "scatterpolargl"
           }
          ],
          "scatterternary": [
           {
            "marker": {
             "colorbar": {
              "outlinewidth": 0,
              "ticks": ""
             }
            },
            "type": "scatterternary"
           }
          ],
          "surface": [
           {
            "colorbar": {
             "outlinewidth": 0,
             "ticks": ""
            },
            "colorscale": [
             [
              0,
              "#0d0887"
             ],
             [
              0.1111111111111111,
              "#46039f"
             ],
             [
              0.2222222222222222,
              "#7201a8"
             ],
             [
              0.3333333333333333,
              "#9c179e"
             ],
             [
              0.4444444444444444,
              "#bd3786"
             ],
             [
              0.5555555555555556,
              "#d8576b"
             ],
             [
              0.6666666666666666,
              "#ed7953"
             ],
             [
              0.7777777777777778,
              "#fb9f3a"
             ],
             [
              0.8888888888888888,
              "#fdca26"
             ],
             [
              1,
              "#f0f921"
             ]
            ],
            "type": "surface"
           }
          ],
          "table": [
           {
            "cells": {
             "fill": {
              "color": "#EBF0F8"
             },
             "line": {
              "color": "white"
             }
            },
            "header": {
             "fill": {
              "color": "#C8D4E3"
             },
             "line": {
              "color": "white"
             }
            },
            "type": "table"
           }
          ]
         },
         "layout": {
          "annotationdefaults": {
           "arrowcolor": "#2a3f5f",
           "arrowhead": 0,
           "arrowwidth": 1
          },
          "autotypenumbers": "strict",
          "coloraxis": {
           "colorbar": {
            "outlinewidth": 0,
            "ticks": ""
           }
          },
          "colorscale": {
           "diverging": [
            [
             0,
             "#8e0152"
            ],
            [
             0.1,
             "#c51b7d"
            ],
            [
             0.2,
             "#de77ae"
            ],
            [
             0.3,
             "#f1b6da"
            ],
            [
             0.4,
             "#fde0ef"
            ],
            [
             0.5,
             "#f7f7f7"
            ],
            [
             0.6,
             "#e6f5d0"
            ],
            [
             0.7,
             "#b8e186"
            ],
            [
             0.8,
             "#7fbc41"
            ],
            [
             0.9,
             "#4d9221"
            ],
            [
             1,
             "#276419"
            ]
           ],
           "sequential": [
            [
             0,
             "#0d0887"
            ],
            [
             0.1111111111111111,
             "#46039f"
            ],
            [
             0.2222222222222222,
             "#7201a8"
            ],
            [
             0.3333333333333333,
             "#9c179e"
            ],
            [
             0.4444444444444444,
             "#bd3786"
            ],
            [
             0.5555555555555556,
             "#d8576b"
            ],
            [
             0.6666666666666666,
             "#ed7953"
            ],
            [
             0.7777777777777778,
             "#fb9f3a"
            ],
            [
             0.8888888888888888,
             "#fdca26"
            ],
            [
             1,
             "#f0f921"
            ]
           ],
           "sequentialminus": [
            [
             0,
             "#0d0887"
            ],
            [
             0.1111111111111111,
             "#46039f"
            ],
            [
             0.2222222222222222,
             "#7201a8"
            ],
            [
             0.3333333333333333,
             "#9c179e"
            ],
            [
             0.4444444444444444,
             "#bd3786"
            ],
            [
             0.5555555555555556,
             "#d8576b"
            ],
            [
             0.6666666666666666,
             "#ed7953"
            ],
            [
             0.7777777777777778,
             "#fb9f3a"
            ],
            [
             0.8888888888888888,
             "#fdca26"
            ],
            [
             1,
             "#f0f921"
            ]
           ]
          },
          "colorway": [
           "#636efa",
           "#EF553B",
           "#00cc96",
           "#ab63fa",
           "#FFA15A",
           "#19d3f3",
           "#FF6692",
           "#B6E880",
           "#FF97FF",
           "#FECB52"
          ],
          "font": {
           "color": "#2a3f5f"
          },
          "geo": {
           "bgcolor": "white",
           "lakecolor": "white",
           "landcolor": "#E5ECF6",
           "showlakes": true,
           "showland": true,
           "subunitcolor": "white"
          },
          "hoverlabel": {
           "align": "left"
          },
          "hovermode": "closest",
          "mapbox": {
           "style": "light"
          },
          "paper_bgcolor": "white",
          "plot_bgcolor": "#E5ECF6",
          "polar": {
           "angularaxis": {
            "gridcolor": "white",
            "linecolor": "white",
            "ticks": ""
           },
           "bgcolor": "#E5ECF6",
           "radialaxis": {
            "gridcolor": "white",
            "linecolor": "white",
            "ticks": ""
           }
          },
          "scene": {
           "xaxis": {
            "backgroundcolor": "#E5ECF6",
            "gridcolor": "white",
            "gridwidth": 2,
            "linecolor": "white",
            "showbackground": true,
            "ticks": "",
            "zerolinecolor": "white"
           },
           "yaxis": {
            "backgroundcolor": "#E5ECF6",
            "gridcolor": "white",
            "gridwidth": 2,
            "linecolor": "white",
            "showbackground": true,
            "ticks": "",
            "zerolinecolor": "white"
           },
           "zaxis": {
            "backgroundcolor": "#E5ECF6",
            "gridcolor": "white",
            "gridwidth": 2,
            "linecolor": "white",
            "showbackground": true,
            "ticks": "",
            "zerolinecolor": "white"
           }
          },
          "shapedefaults": {
           "line": {
            "color": "#2a3f5f"
           }
          },
          "ternary": {
           "aaxis": {
            "gridcolor": "white",
            "linecolor": "white",
            "ticks": ""
           },
           "baxis": {
            "gridcolor": "white",
            "linecolor": "white",
            "ticks": ""
           },
           "bgcolor": "#E5ECF6",
           "caxis": {
            "gridcolor": "white",
            "linecolor": "white",
            "ticks": ""
           }
          },
          "title": {
           "x": 0.05
          },
          "xaxis": {
           "automargin": true,
           "gridcolor": "white",
           "linecolor": "white",
           "ticks": "",
           "title": {
            "standoff": 15
           },
           "zerolinecolor": "white",
           "zerolinewidth": 2
          },
          "yaxis": {
           "automargin": true,
           "gridcolor": "white",
           "linecolor": "white",
           "ticks": "",
           "title": {
            "standoff": 15
           },
           "zerolinecolor": "white",
           "zerolinewidth": 2
          }
         }
        },
        "title": {
         "text": "Similarity of B x_i to h_j on layer 39"
        },
        "xaxis": {
         "anchor": "y",
         "autorange": true,
         "constrain": "domain",
         "domain": [
          0.4196525515743757,
          0.5803474484256244
         ],
         "range": [
          -0.5,
          17.5
         ],
         "scaleanchor": "y",
         "tickmode": "array",
         "ticktext": [
          "<|endoftext|>_0",
          "L_1",
          "ately_2",
          ",_3",
          " Jerry_4",
          " and_5",
          " Dale_6",
          " had_7",
          " fun_8",
          " at_9",
          " the_10",
          " restaurant_11",
          "._12",
          " Jerry-> Dale_13",
          " gave_14",
          " a_15",
          " ring_16",
          " to_17"
         ],
         "tickvals": [
          "<|endoftext|>_0",
          "L_1",
          "ately_2",
          ",_3",
          " Jerry_4",
          " and_5",
          " Dale_6",
          " had_7",
          " fun_8",
          " at_9",
          " the_10",
          " restaurant_11",
          "._12",
          " Jerry-> Dale_13",
          " gave_14",
          " a_15",
          " ring_16",
          " to_17"
         ],
         "title": {
          "text": "Position"
         },
         "type": "category"
        },
        "yaxis": {
         "anchor": "x",
         "autorange": true,
         "constrain": "domain",
         "domain": [
          0,
          1
         ],
         "range": [
          17.5,
          -0.5
         ],
         "tickmode": "array",
         "ticktext": [
          "<|endoftext|>_0",
          "L_1",
          "ately_2",
          ",_3",
          " Jerry_4",
          " and_5",
          " Dale_6",
          " had_7",
          " fun_8",
          " at_9",
          " the_10",
          " restaurant_11",
          "._12",
          " Jerry-> Dale_13",
          " gave_14",
          " a_15",
          " ring_16",
          " to_17"
         ],
         "tickvals": [
          "<|endoftext|>_0",
          "L_1",
          "ately_2",
          ",_3",
          " Jerry_4",
          " and_5",
          " Dale_6",
          " had_7",
          " fun_8",
          " at_9",
          " the_10",
          " restaurant_11",
          "._12",
          " Jerry-> Dale_13",
          " gave_14",
          " a_15",
          " ring_16",
          " to_17"
         ],
         "title": {
          "text": "Position"
         },
         "type": "category"
        }
       }
      },
      "image/png": "[encoded data removed]",
      "text/html": [
       "<div>                            <div id=\"9761de87-00d2-436e-871d-76f4e5e6e6b0\" class=\"plotly-graph-div\" style=\"height:525px; width:100%;\"></div>            <script type=\"text/javascript\">                require([\"plotly\"], function(Plotly) {                    window.PLOTLYENV=window.PLOTLYENV || {};                                    if (document.getElementById(\"9761de87-00d2-436e-871d-76f4e5e6e6b0\")) {                    Plotly.newPlot(                        \"9761de87-00d2-436e-871d-76f4e5e6e6b0\",                        [{\"coloraxis\":\"coloraxis\",\"name\":\"0\",\"x\":[\"\\u003c|endoftext|\\u003e_0\",\"L_1\",\"ately_2\",\",_3\",\" Jerry_4\",\" and_5\",\" Dale_6\",\" had_7\",\" fun_8\",\" at_9\",\" the_10\",\" restaurant_11\",\"._12\",\" Jerry-\\u003e Dale_13\",\" gave_14\",\" a_15\",\" ring_16\",\" to_17\"],\"y\":[\"\\u003c|endoftext|\\u003e_0\",\"L_1\",\"ately_2\",\",_3\",\" Jerry_4\",\" and_5\",\" Dale_6\",\" had_7\",\" fun_8\",\" at_9\",\" the_10\",\" restaurant_11\",\"._12\",\" Jerry-\\u003e Dale_13\",\" gave_14\",\" a_15\",\" ring_16\",\" to_17\"],\"z\":[[1.000000238418579,0.6523956656455994,0.6625430583953857,0.5898211598396301,0.673924446105957,0.3355182111263275,0.3697011172771454,0.269807904958725,0.2723388671875,0.2928053140640259,0.2931741774082184,0.2937643527984619,0.27377834916114807,0.2925167977809906,0.2563093602657318,0.2633974254131317,0.2664717435836792,0.2500632405281067],[0.08983488380908966,0.6186500787734985,-0.010477976873517036,0.15769408643245697,0.15387634932994843,0.0731934905052185,0.0785272866487503,0.052383266389369965,0.0647008866071701,0.0613003671169281,0.06192652881145477,0.06032111868262291,0.05706080421805382,0.057187408208847046,0.062303777784109116,0.0593440905213356,0.05718083307147026,0.050551801919937134],[0.11768483370542526,-0.15879176557064056,0.5394611358642578,0.021014584228396416,0.07520844787359238,0.06122526898980141,0.07213280349969864,0.030413076281547546,0.020354464650154114,0.04134904593229294,0.03940681740641594,0.040391501039266586,0.039866335690021515,0.04739895090460777,0.014154109172523022,0.01774091087281704,0.02183983474969864,0.0026579739060252905],[-0.06736680865287781,0.07491733133792877,-0.14431209862232208,0.43807634711265564,0.15084832906723022,0.022054756060242653,-0.015636442229151726,0.0649150162935257,0.06547775119543076,0.009938578121364117,0.0070814089849591255,0.009091894142329693,0.0020141559652984142,-0.0036715413443744183,0.023039229214191437,0.02448101155459881,0.021302515640854836,0.05485309287905693],[0.20008565485477448,0.12509091198444366,0.086959607899189,0.13280384242534637,0.30909934639930725,0.024638405069708824,0.05374642089009285,0.08756095916032791,0.0739823505282402,0.10495202988386154,0.0992107018828392,0.10209845006465912,0.0864773616194725,0.09335198253393173,0.08283861726522446,0.08648738265037537,0.0770149752497673,0.10589771717786789],[0.02076820656657219,0.0060284375213086605,0.014558112248778343,-0.008414624258875847,-0.022218668833374977,0.8739898204803467,0.8153186440467834,0.5195900201797485,0.5142636299133301,0.49226972460746765,0.48721304535865784,0.48198455572128296,0.42935633659362793,0.42863547801971436,0.4634978175163269,0.45695018768310547,0.4551134407520294,0.40596386790275574],[0.08224659413099289,0.02587871067225933,0.07739638537168503,-0.05452777072787285,0.012481406331062317,-0.019829584285616875,0.1529131680727005,-0.07503592222929001,-0.06292732805013657,-0.05237624794244766,-0.060859620571136475,-0.06232577562332153,-0.025378474965691566,-0.02835509181022644,-0.02697150409221649,-0.015536677092313766,-0.020951932296156883,-0.029226621612906456],[0.00942185614258051,-0.001110711949877441,-0.0004033113655168563,0.025006359443068504,0.025072703137993813,0.11252373456954956,0.06446480751037598,0.7209264636039734,0.6881983876228333,0.6664201617240906,0.661607027053833,0.6576438546180725,0.5600250363349915,0.564337432384491,0.5803755521774292,0.5774224996566772,0.5789567828178406,0.5371841192245483],[0.035743437707424164,0.06900371611118317,-0.017196128144860268,0.07298585027456284,0.047266632318496704,0.0644771158695221,0.09044082462787628,-0.02012338861823082,0.1286366581916809,0.10213832557201385,0.09601207077503204,0.0932944044470787,0.08139079809188843,0.08125362545251846,0.09266060590744019,0.11395248025655746,0.10658759623765945,0.08423466980457306],[0.1367662250995636,0.04140499606728554,0.08296826481819153,-0.08409912884235382,0.03875927999615669,0.007230987306684256,0.02844598889350891,0.02343735285103321,0.0157670546323061,0.14728565514087677,0.13075099885463715,0.12489213049411774,0.08659164607524872,0.07014225423336029,0.07496625930070877,0.07881190627813339,0.06590907275676727,0.10283584892749786],[0.18568234145641327,0.0980762243270874,0.09856951236724854,0.09494365751743317,0.12638145685195923,0.058882731944322586,0.0695696547627449,0.048972416669130325,0.06238481402397156,0.08901359885931015,0.1317405253648758,0.12073582410812378,0.10053074359893799,0.08933371305465698,0.07867864519357681,0.10923929512500763,0.09153542667627335,0.08295775204896927],[0.19221989810466766,0.10746127367019653,0.14179706573486328,0.13709954917430878,0.1796727329492569,0.07260217517614365,0.09206761419773102,0.07407253980636597,0.07941122353076935,0.0979132428765297,0.11466295272111893,0.14726927876472473,0.10069306939840317,0.10303923487663269,0.09184005856513977,0.10870164632797241,0.10305517911911011,0.10354264080524445],[0.02107376791536808,0.03580908104777336,-0.01016333419829607,-0.023082006722688675,-0.0032861463259905577,-0.008086210116744041,0.0037895592395216227,-0.024487825110554695,-0.020073112100362778,-0.006998121738433838,-0.006473924033343792,-0.008725202642381191,0.3855787515640259,0.2970014810562134,0.21829357743263245,0.21208134293556213,0.20610904693603516,0.2087169736623764],[0.2029878795146942,0.05952843651175499,0.1362246423959732,-0.0044871666468679905,0.11558126658201218,0.05412299185991287,0.08314549922943115,0.03220163658261299,0.04835816100239754,0.05663212388753891,0.05524064600467682,0.05762846767902374,0.043996457010507584,0.12255341559648514,0.0848512351512909,0.07915275543928146,0.08056049048900604,0.0639827698469162],[0.008320516906678677,0.01632242649793625,-0.019968217238783836,0.0006027828203514218,0.0040209731087088585,0.2550273537635803,0.22263023257255554,0.2746847867965698,0.2628435492515564,0.24050484597682953,0.2325735241174698,0.2258358746767044,0.19395031034946442,0.17286434769630432,0.531505286693573,0.4993230104446411,0.4719388484954834,0.36897337436676025],[0.08552087098360062,0.01795276813209057,0.04723071679472923,0.044999029487371445,0.049646180123090744,0.021906929090619087,0.0473141074180603,0.01488535851240158,0.050396595150232315,0.049239423125982285,0.05475402623414993,0.048298295587301254,0.04938550665974617,0.04651245102286339,0.04295683279633522,0.13548964262008667,0.08453340828418732,0.07137197256088257],[0.10548906773328781,0.040826305747032166,0.09635855257511139,0.078490249812603,0.0740218535065651,0.04603957757353783,0.05440904572606087,0.02730490267276764,0.04498463124036789,0.03362767770886421,0.04186609014868736,0.050282325595617294,0.05451343581080437,0.06424085050821304,0.046333760023117065,0.057436197996139526,0.0910264402627945,0.063426174223423],[0.010047833435237408,0.011626075021922588,-0.022710176184773445,0.01797526702284813,0.021932192146778107,-0.011784489266574383,-0.005910197272896767,0.01526502426713705,0.010274816304445267,0.03470509126782417,0.03257877752184868,0.03162328153848648,0.056318499147892,0.0416896790266037,0.03392359986901283,0.03366182744503021,0.02945532836019993,0.385008305311203]],\"type\":\"heatmap\",\"xaxis\":\"x\",\"yaxis\":\"y\",\"hovertemplate\":\"Position: %{x}\\u003cbr\\u003ePosition: %{y}\\u003cbr\\u003ecolor: %{z}\\u003cextra\\u003e\\u003c\\u002fextra\\u003e\"}],                        {\"template\":{\"data\":{\"histogram2dcontour\":[{\"type\":\"histogram2dcontour\",\"colorbar\":{\"outlinewidth\":0,\"ticks\":\"\"},\"colorscale\":[[0.0,\"#0d0887\"],[0.1111111111111111,\"#46039f\"],[0.2222222222222222,\"#7201a8\"],[0.3333333333333333,\"#9c179e\"],[0.4444444444444444,\"#bd3786\"],[0.5555555555555556,\"#d8576b\"],[0.6666666666666666,\"#ed7953\"],[0.7777777777777778,\"#fb9f3a\"],[0.8888888888888888,\"#fdca26\"],[1.0,\"#f0f921\"]]}],\"choropleth\":[{\"type\":\"choropleth\",\"colorbar\":{\"outlinewidth\":0,\"ticks\":\"\"}}],\"histogram2d\":[{\"type\":\"histogram2d\",\"colorbar\":{\"outlinewidth\":0,\"ticks\":\"\"},\"colorscale\":[[0.0,\"#0d0887\"],[0.1111111111111111,\"#46039f\"],[0.2222222222222222,\"#7201a8\"],[0.3333333333333333,\"#9c179e\"],[0.4444444444444444,\"#bd3786\"],[0.5555555555555556,\"#d8576b\"],[0.6666666666666666,\"#ed7953\"],[0.7777777777777778,\"#fb9f3a\"],[0.8888888888888888,\"#fdca26\"],[1.0,\"#f0f921\"]]}],\"heatmap\":[{\"type\":\"heatmap\",\"colorbar\":{\"outlinewidth\":0,\"ticks\":\"\"},\"colorscale\":[[0.0,\"#0d0887\"],[0.1111111111111111,\"#46039f\"],[0.2222222222222222,\"#7201a8\"],[0.3333333333333333,\"#9c179e\"],[0.4444444444444444,\"#bd3786\"],[0.5555555555555556,\"#d8576b\"],[0.6666666666666666,\"#ed7953\"],[0.7777777777777778,\"#fb9f3a\"],[0.8888888888888888,\"#fdca26\"],[1.0,\"#f0f921\"]]}],\"heatmapgl\":[{\"type\":\"heatmapgl\",\"colorbar\":{\"outlinewidth\":0,\"ticks\":\"\"},\"colorscale\":[[0.0,\"#0d0887\"],[0.1111111111111111,\"#46039f\"],[0.2222222222222222,\"#7201a8\"],[0.3333333333333333,\"#9c179e\"],[0.4444444444444444,\"#bd3786\"],[0.5555555555555556,\"#d8576b\"],[0.6666666666666666,\"#ed7953\"],[0.7777777777777778,\"#fb9f3a\"],[0.8888888888888888,\"#fdca26\"],[1.0,\"#f0f921\"]]}],\"contourcarpet\":[{\"type\":\"contourcarpet\",\"colorbar\":{\"outlinewidth\":0,\"ticks\":\"\"}}],\"contour\":[{\"type\":\"contour\",\"colorbar\":{\"outlinewidth\":0,\"ticks\":\"\"},\"colorscale\":[[0.0,\"#0d0887\"],[0.1111111111111111,\"#46039f\"],[0.2222222222222222,\"#7201a8\"],[0.3333333333333333,\"#9c179e\"],[0.4444444444444444,\"#bd3786\"],[0.5555555555555556,\"#d8576b\"],[0.6666666666666666,\"#ed7953\"],[0.7777777777777778,\"#fb9f3a\"],[0.8888888888888888,\"#fdca26\"],[1.0,\"#f0f921\"]]}],\"surface\":[{\"type\":\"surface\",\"colorbar\":{\"outlinewidth\":0,\"ticks\":\"\"},\"colorscale\":[[0.0,\"#0d0887\"],[0.1111111111111111,\"#46039f\"],[0.2222222222222222,\"#7201a8\"],[0.3333333333333333,\"#9c179e\"],[0.4444444444444444,\"#bd3786\"],[0.5555555555555556,\"#d8576b\"],[0.6666666666666666,\"#ed7953\"],[0.7777777777777778,\"#fb9f3a\"],[0.8888888888888888,\"#fdca26\"],[1.0,\"#f0f921\"]]}],\"mesh3d\":[{\"type\":\"mesh3d\",\"colorbar\":{\"outlinewidth\":0,\"ticks\":\"\"}}],\"scatter\":[{\"fillpattern\":{\"fillmode\":\"overlay\",\"size\":10,\"solidity\":0.2},\"type\":\"scatter\"}],\"parcoords\":[{\"type\":\"parcoords\",\"line\":{\"colorbar\":{\"outlinewidth\":0,\"ticks\":\"\"}}}],\"scatterpolargl\":[{\"type\":\"scatterpolargl\",\"marker\":{\"colorbar\":{\"outlinewidth\":0,\"ticks\":\"\"}}}],\"bar\":[{\"error_x\":{\"color\":\"#2a3f5f\"},\"error_y\":{\"color\":\"#2a3f5f\"},\"marker\":{\"line\":{\"color\":\"#E5ECF6\",\"width\":0.5},\"pattern\":{\"fillmode\":\"overlay\",\"size\":10,\"solidity\":0.2}},\"type\":\"bar\"}],\"scattergeo\":[{\"type\":\"scattergeo\",\"marker\":{\"colorbar\":{\"outlinewidth\":0,\"ticks\":\"\"}}}],\"scatterpolar\":[{\"type\":\"scatterpolar\",\"marker\":{\"colorbar\":{\"outlinewidth\":0,\"ticks\":\"\"}}}],\"histogram\":[{\"marker\":{\"pattern\":{\"fillmode\":\"overlay\",\"size\":10,\"solidity\":0.2}},\"type\":\"histogram\"}],\"scattergl\":[{\"type\":\"scattergl\",\"marker\":{\"colorbar\":{\"outlinewidth\":0,\"ticks\":\"\"}}}],\"scatter3d\":[{\"type\":\"scatter3d\",\"line\":{\"colorbar\":{\"outlinewidth\":0,\"ticks\":\"\"}},\"marker\":{\"colorbar\":{\"outlinewidth\":0,\"ticks\":\"\"}}}],\"scattermapbox\":[{\"type\":\"scattermapbox\",\"marker\":{\"colorbar\":{\"outlinewidth\":0,\"ticks\":\"\"}}}],\"scatterternary\":[{\"type\":\"scatterternary\",\"marker\":{\"colorbar\":{\"outlinewidth\":0,\"ticks\":\"\"}}}],\"scattercarpet\":[{\"type\":\"scattercarpet\",\"marker\":{\"colorbar\":{\"outlinewidth\":0,\"ticks\":\"\"}}}],\"carpet\":[{\"aaxis\":{\"endlinecolor\":\"#2a3f5f\",\"gridcolor\":\"white\",\"linecolor\":\"white\",\"minorgridcolor\":\"white\",\"startlinecolor\":\"#2a3f5f\"},\"baxis\":{\"endlinecolor\":\"#2a3f5f\",\"gridcolor\":\"white\",\"linecolor\":\"white\",\"minorgridcolor\":\"white\",\"startlinecolor\":\"#2a3f5f\"},\"type\":\"carpet\"}],\"table\":[{\"cells\":{\"fill\":{\"color\":\"#EBF0F8\"},\"line\":{\"color\":\"white\"}},\"header\":{\"fill\":{\"color\":\"#C8D4E3\"},\"line\":{\"color\":\"white\"}},\"type\":\"table\"}],\"barpolar\":[{\"marker\":{\"line\":{\"color\":\"#E5ECF6\",\"width\":0.5},\"pattern\":{\"fillmode\":\"overlay\",\"size\":10,\"solidity\":0.2}},\"type\":\"barpolar\"}],\"pie\":[{\"automargin\":true,\"type\":\"pie\"}]},\"layout\":{\"autotypenumbers\":\"strict\",\"colorway\":[\"#636efa\",\"#EF553B\",\"#00cc96\",\"#ab63fa\",\"#FFA15A\",\"#19d3f3\",\"#FF6692\",\"#B6E880\",\"#FF97FF\",\"#FECB52\"],\"font\":{\"color\":\"#2a3f5f\"},\"hovermode\":\"closest\",\"hoverlabel\":{\"align\":\"left\"},\"paper_bgcolor\":\"white\",\"plot_bgcolor\":\"#E5ECF6\",\"polar\":{\"bgcolor\":\"#E5ECF6\",\"angularaxis\":{\"gridcolor\":\"white\",\"linecolor\":\"white\",\"ticks\":\"\"},\"radialaxis\":{\"gridcolor\":\"white\",\"linecolor\":\"white\",\"ticks\":\"\"}},\"ternary\":{\"bgcolor\":\"#E5ECF6\",\"aaxis\":{\"gridcolor\":\"white\",\"linecolor\":\"white\",\"ticks\":\"\"},\"baxis\":{\"gridcolor\":\"white\",\"linecolor\":\"white\",\"ticks\":\"\"},\"caxis\":{\"gridcolor\":\"white\",\"linecolor\":\"white\",\"ticks\":\"\"}},\"coloraxis\":{\"colorbar\":{\"outlinewidth\":0,\"ticks\":\"\"}},\"colorscale\":{\"sequential\":[[0.0,\"#0d0887\"],[0.1111111111111111,\"#46039f\"],[0.2222222222222222,\"#7201a8\"],[0.3333333333333333,\"#9c179e\"],[0.4444444444444444,\"#bd3786\"],[0.5555555555555556,\"#d8576b\"],[0.6666666666666666,\"#ed7953\"],[0.7777777777777778,\"#fb9f3a\"],[0.8888888888888888,\"#fdca26\"],[1.0,\"#f0f921\"]],\"sequentialminus\":[[0.0,\"#0d0887\"],[0.1111111111111111,\"#46039f\"],[0.2222222222222222,\"#7201a8\"],[0.3333333333333333,\"#9c179e\"],[0.4444444444444444,\"#bd3786\"],[0.5555555555555556,\"#d8576b\"],[0.6666666666666666,\"#ed7953\"],[0.7777777777777778,\"#fb9f3a\"],[0.8888888888888888,\"#fdca26\"],[1.0,\"#f0f921\"]],\"diverging\":[[0,\"#8e0152\"],[0.1,\"#c51b7d\"],[0.2,\"#de77ae\"],[0.3,\"#f1b6da\"],[0.4,\"#fde0ef\"],[0.5,\"#f7f7f7\"],[0.6,\"#e6f5d0\"],[0.7,\"#b8e186\"],[0.8,\"#7fbc41\"],[0.9,\"#4d9221\"],[1,\"#276419\"]]},\"xaxis\":{\"gridcolor\":\"white\",\"linecolor\":\"white\",\"ticks\":\"\",\"title\":{\"standoff\":15},\"zerolinecolor\":\"white\",\"automargin\":true,\"zerolinewidth\":2},\"yaxis\":{\"gridcolor\":\"white\",\"linecolor\":\"white\",\"ticks\":\"\",\"title\":{\"standoff\":15},\"zerolinecolor\":\"white\",\"automargin\":true,\"zerolinewidth\":2},\"scene\":{\"xaxis\":{\"backgroundcolor\":\"#E5ECF6\",\"gridcolor\":\"white\",\"linecolor\":\"white\",\"showbackground\":true,\"ticks\":\"\",\"zerolinecolor\":\"white\",\"gridwidth\":2},\"yaxis\":{\"backgroundcolor\":\"#E5ECF6\",\"gridcolor\":\"white\",\"linecolor\":\"white\",\"showbackground\":true,\"ticks\":\"\",\"zerolinecolor\":\"white\",\"gridwidth\":2},\"zaxis\":{\"backgroundcolor\":\"#E5ECF6\",\"gridcolor\":\"white\",\"linecolor\":\"white\",\"showbackground\":true,\"ticks\":\"\",\"zerolinecolor\":\"white\",\"gridwidth\":2}},\"shapedefaults\":{\"line\":{\"color\":\"#2a3f5f\"}},\"annotationdefaults\":{\"arrowcolor\":\"#2a3f5f\",\"arrowhead\":0,\"arrowwidth\":1},\"geo\":{\"bgcolor\":\"white\",\"landcolor\":\"#E5ECF6\",\"subunitcolor\":\"white\",\"showland\":true,\"showlakes\":true,\"lakecolor\":\"white\"},\"title\":{\"x\":0.05},\"mapbox\":{\"style\":\"light\"}}},\"xaxis\":{\"anchor\":\"y\",\"domain\":[0.0,1.0],\"scaleanchor\":\"y\",\"constrain\":\"domain\",\"title\":{\"text\":\"Position\"},\"tickmode\":\"array\",\"tickvals\":[\"\\u003c|endoftext|\\u003e_0\",\"L_1\",\"ately_2\",\",_3\",\" Jerry_4\",\" and_5\",\" Dale_6\",\" had_7\",\" fun_8\",\" at_9\",\" the_10\",\" restaurant_11\",\"._12\",\" Jerry-\\u003e Dale_13\",\" gave_14\",\" a_15\",\" ring_16\",\" to_17\"],\"ticktext\":[\"\\u003c|endoftext|\\u003e_0\",\"L_1\",\"ately_2\",\",_3\",\" Jerry_4\",\" and_5\",\" Dale_6\",\" had_7\",\" fun_8\",\" at_9\",\" the_10\",\" restaurant_11\",\"._12\",\" Jerry-\\u003e Dale_13\",\" gave_14\",\" a_15\",\" ring_16\",\" to_17\"]},\"yaxis\":{\"anchor\":\"x\",\"domain\":[0.0,1.0],\"autorange\":\"reversed\",\"constrain\":\"domain\",\"title\":{\"text\":\"Position\"},\"tickmode\":\"array\",\"tickvals\":[\"\\u003c|endoftext|\\u003e_0\",\"L_1\",\"ately_2\",\",_3\",\" Jerry_4\",\" and_5\",\" Dale_6\",\" had_7\",\" fun_8\",\" at_9\",\" the_10\",\" restaurant_11\",\"._12\",\" Jerry-\\u003e Dale_13\",\" gave_14\",\" a_15\",\" ring_16\",\" to_17\"],\"ticktext\":[\"\\u003c|endoftext|\\u003e_0\",\"L_1\",\"ately_2\",\",_3\",\" Jerry_4\",\" and_5\",\" Dale_6\",\" had_7\",\" fun_8\",\" at_9\",\" the_10\",\" restaurant_11\",\"._12\",\" Jerry-\\u003e Dale_13\",\" gave_14\",\" a_15\",\" ring_16\",\" to_17\"]},\"coloraxis\":{\"colorscale\":[[0.0,\"rgb(103,0,31)\"],[0.1,\"rgb(178,24,43)\"],[0.2,\"rgb(214,96,77)\"],[0.3,\"rgb(244,165,130)\"],[0.4,\"rgb(253,219,199)\"],[0.5,\"rgb(247,247,247)\"],[0.6,\"rgb(209,229,240)\"],[0.7,\"rgb(146,197,222)\"],[0.8,\"rgb(67,147,195)\"],[0.9,\"rgb(33,102,172)\"],[1.0,\"rgb(5,48,97)\"]],\"cmid\":0.0},\"title\":{\"text\":\"Similarity of B x_i to h_j on layer 39\"},\"font\":{\"size\":8,\"color\":\"black\"}},                        {\"responsive\": true}                    ).then(function(){\n",
       "                            \n",
       "var gd = document.getElementById('9761de87-00d2-436e-871d-76f4e5e6e6b0');\n",
       "var x = new MutationObserver(function (mutations, observer) {{\n",
       "        var display = window.getComputedStyle(gd).display;\n",
       "        if (!display || display === 'none') {{\n",
       "            console.log([gd, 'removed!']);\n",
       "            Plotly.purge(gd);\n",
       "            observer.disconnect();\n",
       "        }}\n",
       "}});\n",
       "\n",
       "// Listen for the removal of the full notebook cells\n",
       "var notebookContainer = gd.closest('#notebook-container');\n",
       "if (notebookContainer) {{\n",
       "    x.observe(notebookContainer, {childList: true});\n",
       "}}\n",
       "\n",
       "// Listen for the clearing of the current output cell\n",
       "var outputEl = gd.closest('.output');\n",
       "if (outputEl) {{\n",
       "    x.observe(outputEl, {childList: true});\n",
       "}}\n",
       "\n",
       "                        })                };                });            </script>        </div>"
      ]
     },
     "metadata": {},
     "output_type": "display_data"
    },
    {
     "data": {
      "application/vnd.plotly.v1+json": {
       "config": {
        "plotlyServerURL": "https://plot.ly"
       },
       "data": [
        {
         "coloraxis": "coloraxis",
         "hovertemplate": "Position: %{x}<br>Position: %{y}<br>color: %{z}<extra></extra>",
         "name": "0",
         "type": "heatmap",
         "x": [
          "<|endoftext|>_0",
          "L_1",
          "ately_2",
          ",_3",
          " Jerry_4",
          " and_5",
          " Dale_6",
          " had_7",
          " fun_8",
          " at_9",
          " the_10",
          " restaurant_11",
          "._12",
          " Jerry-> Dale_13",
          " gave_14",
          " a_15",
          " ring_16",
          " to_17"
         ],
         "xaxis": "x",
         "y": [
          "<|endoftext|>_0",
          "L_1",
          "ately_2",
          ",_3",
          " Jerry_4",
          " and_5",
          " Dale_6",
          " had_7",
          " fun_8",
          " at_9",
          " the_10",
          " restaurant_11",
          "._12",
          " Jerry-> Dale_13",
          " gave_14",
          " a_15",
          " ring_16",
          " to_17"
         ],
         "yaxis": "y",
         "z": [
          [
           1.000000238418579,
           0.7881832122802734,
           0.8098411560058594,
           0.8391522169113159,
           0.8984432816505432,
           0.4322200417518616,
           0.47107547521591187,
           0.35763436555862427,
           0.36401352286338806,
           0.37798476219177246,
           0.38005518913269043,
           0.3826312720775604,
           0.3572255074977875,
           0.38170868158340454,
           0.34037527441978455,
           0.3463971018791199,
           0.3548204302787781,
           0.3349934220314026
          ],
          [
           0.08983488380908966,
           0.6186500787734985,
           0.27520906925201416,
           0.274285227060318,
           0.29274222254753113,
           0.13806883990764618,
           0.14873142540454865,
           0.11143352836370468,
           0.11600689589977264,
           0.11901505291461945,
           0.12038885056972504,
           0.12064138054847717,
           0.11120612174272537,
           0.11895835399627686,
           0.10632207244634628,
           0.10764256864786148,
           0.10951745510101318,
           0.106096051633358
          ],
          [
           0.11768483370542526,
           -0.15879176557064056,
           0.5394611358642578,
           0.2333904653787613,
           0.2385568916797638,
           0.10808951407670975,
           0.11250654608011246,
           0.09536322951316833,
           0.0934007465839386,
           0.09690705686807632,
           0.09660480171442032,
           0.09639819711446762,
           0.0837322473526001,
           0.0852416455745697,
           0.07276064902544022,
           0.07345571368932724,
           0.07440260797739029,
           0.06573875993490219
          ],
          [
           -0.06736680865287781,
           0.07491733133792877,
           -0.14431209862232208,
           0.43807634711265564,
           0.2115059643983841,
           0.07146192342042923,
           0.0431845523416996,
           0.0902574211359024,
           0.10578049719333649,
           0.09382501989603043,
           0.09201883524656296,
           0.09185509383678436,
           0.0771804228425026,
           0.07831878960132599,
           0.07573793828487396,
           0.07688706368207932,
           0.0782591849565506,
           0.0736180767416954
          ],
          [
           0.20008565485477448,
           0.12509091198444366,
           0.086959607899189,
           0.13280384242534637,
           0.30909934639930725,
           0.07785927504301071,
           0.10014708340167999,
           0.1140056699514389,
           0.11208634823560715,
           0.1201539933681488,
           0.12015882879495621,
           0.12409445643424988,
           0.11915146559476852,
           0.1310829222202301,
           0.11782887578010559,
           0.11871043592691422,
           0.12404562532901764,
           0.12281090766191483
          ],
          [
           0.02076820656657219,
           0.0060284375213086605,
           0.014558112248778343,
           -0.008414624258875847,
           -0.022218668833374977,
           0.8739898204803467,
           0.8284907341003418,
           0.5632747411727905,
           0.5676261186599731,
           0.5630314350128174,
           0.5617511868476868,
           0.559546709060669,
           0.5130168199539185,
           0.5244687795639038,
           0.4934200942516327,
           0.4969305992126465,
           0.50289386510849,
           0.4719333350658417
          ],
          [
           0.08224659413099289,
           0.02587871067225933,
           0.07739638537168503,
           -0.05452777072787285,
           0.012481406331062317,
           -0.019829584285616875,
           0.1529131680727005,
           -0.06192891299724579,
           -0.0658578872680664,
           -0.06519757211208344,
           -0.07580480724573135,
           -0.07982153445482254,
           -0.043354008346796036,
           -0.04621605947613716,
           -0.03724861890077591,
           -0.034969113767147064,
           -0.0357733890414238,
           -0.03544146567583084
          ],
          [
           0.00942185614258051,
           -0.001110711949877441,
           -0.0004033113655168563,
           0.025006359443068504,
           0.025072703137993813,
           0.11252373456954956,
           0.06446480751037598,
           0.7209264636039734,
           0.6916626691818237,
           0.6788284182548523,
           0.6770703792572021,
           0.6750741004943848,
           0.5895240902900696,
           0.6035170555114746,
           0.5733684301376343,
           0.5766617655754089,
           0.5837071537971497,
           0.5448746085166931
          ],
          [
           0.035743437707424164,
           0.06900371611118317,
           -0.017196128144860268,
           0.07298585027456284,
           0.047266632318496704,
           0.0644771158695221,
           0.09044082462787628,
           -0.02012338861823082,
           0.1286366581916809,
           0.10552825778722763,
           0.09775900095701218,
           0.09495153278112411,
           0.08601868152618408,
           0.08644762635231018,
           0.0914180800318718,
           0.09961987286806107,
           0.10001201927661896,
           0.09096303582191467
          ],
          [
           0.1367662250995636,
           0.04140499606728554,
           0.08296826481819153,
           -0.08409912884235382,
           0.03875927999615669,
           0.007230987306684256,
           0.02844598889350891,
           0.02343735285103321,
           0.0157670546323061,
           0.14728565514087677,
           0.13298949599266052,
           0.1296444982290268,
           0.10518240183591843,
           0.09312283992767334,
           0.07755359262228012,
           0.07729439437389374,
           0.07697280496358871,
           0.11146243661642075
          ],
          [
           0.18568234145641327,
           0.0980762243270874,
           0.09856951236724854,
           0.09494365751743317,
           0.12638145685195923,
           0.058882731944322586,
           0.0695696547627449,
           0.048972416669130325,
           0.06238481402397156,
           0.08901359885931015,
           0.1317405253648758,
           0.1568428874015808,
           0.14630456268787384,
           0.15268370509147644,
           0.1349448263645172,
           0.14565971493721008,
           0.15068291127681732,
           0.141204833984375
          ],
          [
           0.19221989810466766,
           0.10746127367019653,
           0.14179706573486328,
           0.13709954917430878,
           0.1796727329492569,
           0.07260217517614365,
           0.09206761419773102,
           0.07407253980636597,
           0.07941122353076935,
           0.0979132428765297,
           0.11466295272111893,
           0.14726927876472473,
           0.12981338798999786,
           0.14166726171970367,
           0.12965600192546844,
           0.135972797870636,
           0.14685170352458954,
           0.14259403944015503
          ],
          [
           0.02107376791536808,
           0.03580908104777336,
           -0.01016333419829607,
           -0.023082006722688675,
           -0.0032861463259905577,
           -0.008086210116744041,
           0.0037895592395216227,
           -0.024487825110554695,
           -0.020073112100362778,
           -0.006998121738433838,
           -0.006473924033343792,
           -0.008725202642381191,
           0.3855787515640259,
           0.3112976551055908,
           0.2365151047706604,
           0.23344644904136658,
           0.2319093942642212,
           0.23366571962833405
          ],
          [
           0.2029878795146942,
           0.05952843651175499,
           0.1362246423959732,
           -0.0044871666468679905,
           0.11558126658201218,
           0.05412299185991287,
           0.08314549922943115,
           0.03220163658261299,
           0.04835816100239754,
           0.05663212388753891,
           0.05524064600467682,
           0.05762846767902374,
           0.043996457010507584,
           0.12255341559648514,
           0.10065581649541855,
           0.10123611241579056,
           0.10492204129695892,
           0.09599430114030838
          ],
          [
           0.008320516906678677,
           0.01632242649793625,
           -0.019968217238783836,
           0.0006027828203514218,
           0.0040209731087088585,
           0.2550273537635803,
           0.22263023257255554,
           0.2746847867965698,
           0.2628435492515564,
           0.24050484597682953,
           0.2325735241174698,
           0.2258358746767044,
           0.19395031034946442,
           0.17286434769630432,
           0.531505286693573,
           0.509723961353302,
           0.49579092860221863,
           0.4240656793117523
          ],
          [
           0.08552087098360062,
           0.01795276813209057,
           0.04723071679472923,
           0.044999029487371445,
           0.049646180123090744,
           0.021906929090619087,
           0.0473141074180603,
           0.01488535851240158,
           0.050396595150232315,
           0.049239423125982285,
           0.05475402623414993,
           0.048298295587301254,
           0.04938550665974617,
           0.04651245102286339,
           0.04295683279633522,
           0.13548964262008667,
           0.11520964652299881,
           0.10374187678098679
          ],
          [
           0.10548906773328781,
           0.040826305747032166,
           0.09635855257511139,
           0.078490249812603,
           0.0740218535065651,
           0.04603957757353783,
           0.05440904572606087,
           0.02730490267276764,
           0.04498463124036789,
           0.03362767770886421,
           0.04186609014868736,
           0.050282325595617294,
           0.05451343581080437,
           0.06424085050821304,
           0.046333760023117065,
           0.057436197996139526,
           0.0910264402627945,
           0.08328237384557724
          ],
          [
           0.010047833435237408,
           0.011626075021922588,
           -0.022710176184773445,
           0.01797526702284813,
           0.021932192146778107,
           -0.011784489266574383,
           -0.005910197272896767,
           0.01526502426713705,
           0.010274816304445267,
           0.03470509126782417,
           0.03257877752184868,
           0.03162328153848648,
           0.056318499147892,
           0.0416896790266037,
           0.03392359986901283,
           0.03366182744503021,
           0.02945532836019993,
           0.385008305311203
          ]
         ]
        }
       ],
       "layout": {
        "autosize": true,
        "coloraxis": {
         "cmid": 0,
         "colorscale": [
          [
           0,
           "rgb(103,0,31)"
          ],
          [
           0.1,
           "rgb(178,24,43)"
          ],
          [
           0.2,
           "rgb(214,96,77)"
          ],
          [
           0.3,
           "rgb(244,165,130)"
          ],
          [
           0.4,
           "rgb(253,219,199)"
          ],
          [
           0.5,
           "rgb(247,247,247)"
          ],
          [
           0.6,
           "rgb(209,229,240)"
          ],
          [
           0.7,
           "rgb(146,197,222)"
          ],
          [
           0.8,
           "rgb(67,147,195)"
          ],
          [
           0.9,
           "rgb(33,102,172)"
          ],
          [
           1,
           "rgb(5,48,97)"
          ]
         ]
        },
        "font": {
         "color": "black",
         "size": 8
        },
        "template": {
         "data": {
          "bar": [
           {
            "error_x": {
             "color": "#2a3f5f"
            },
            "error_y": {
             "color": "#2a3f5f"
            },
            "marker": {
             "line": {
              "color": "#E5ECF6",
              "width": 0.5
             },
             "pattern": {
              "fillmode": "overlay",
              "size": 10,
              "solidity": 0.2
             }
            },
            "type": "bar"
           }
          ],
          "barpolar": [
           {
            "marker": {
             "line": {
              "color": "#E5ECF6",
              "width": 0.5
             },
             "pattern": {
              "fillmode": "overlay",
              "size": 10,
              "solidity": 0.2
             }
            },
            "type": "barpolar"
           }
          ],
          "carpet": [
           {
            "aaxis": {
             "endlinecolor": "#2a3f5f",
             "gridcolor": "white",
             "linecolor": "white",
             "minorgridcolor": "white",
             "startlinecolor": "#2a3f5f"
            },
            "baxis": {
             "endlinecolor": "#2a3f5f",
             "gridcolor": "white",
             "linecolor": "white",
             "minorgridcolor": "white",
             "startlinecolor": "#2a3f5f"
            },
            "type": "carpet"
           }
          ],
          "choropleth": [
           {
            "colorbar": {
             "outlinewidth": 0,
             "ticks": ""
            },
            "type": "choropleth"
           }
          ],
          "contour": [
           {
            "colorbar": {
             "outlinewidth": 0,
             "ticks": ""
            },
            "colorscale": [
             [
              0,
              "#0d0887"
             ],
             [
              0.1111111111111111,
              "#46039f"
             ],
             [
              0.2222222222222222,
              "#7201a8"
             ],
             [
              0.3333333333333333,
              "#9c179e"
             ],
             [
              0.4444444444444444,
              "#bd3786"
             ],
             [
              0.5555555555555556,
              "#d8576b"
             ],
             [
              0.6666666666666666,
              "#ed7953"
             ],
             [
              0.7777777777777778,
              "#fb9f3a"
             ],
             [
              0.8888888888888888,
              "#fdca26"
             ],
             [
              1,
              "#f0f921"
             ]
            ],
            "type": "contour"
           }
          ],
          "contourcarpet": [
           {
            "colorbar": {
             "outlinewidth": 0,
             "ticks": ""
            },
            "type": "contourcarpet"
           }
          ],
          "heatmap": [
           {
            "colorbar": {
             "outlinewidth": 0,
             "ticks": ""
            },
            "colorscale": [
             [
              0,
              "#0d0887"
             ],
             [
              0.1111111111111111,
              "#46039f"
             ],
             [
              0.2222222222222222,
              "#7201a8"
             ],
             [
              0.3333333333333333,
              "#9c179e"
             ],
             [
              0.4444444444444444,
              "#bd3786"
             ],
             [
              0.5555555555555556,
              "#d8576b"
             ],
             [
              0.6666666666666666,
              "#ed7953"
             ],
             [
              0.7777777777777778,
              "#fb9f3a"
             ],
             [
              0.8888888888888888,
              "#fdca26"
             ],
             [
              1,
              "#f0f921"
             ]
            ],
            "type": "heatmap"
           }
          ],
          "heatmapgl": [
           {
            "colorbar": {
             "outlinewidth": 0,
             "ticks": ""
            },
            "colorscale": [
             [
              0,
              "#0d0887"
             ],
             [
              0.1111111111111111,
              "#46039f"
             ],
             [
              0.2222222222222222,
              "#7201a8"
             ],
             [
              0.3333333333333333,
              "#9c179e"
             ],
             [
              0.4444444444444444,
              "#bd3786"
             ],
             [
              0.5555555555555556,
              "#d8576b"
             ],
             [
              0.6666666666666666,
              "#ed7953"
             ],
             [
              0.7777777777777778,
              "#fb9f3a"
             ],
             [
              0.8888888888888888,
              "#fdca26"
             ],
             [
              1,
              "#f0f921"
             ]
            ],
            "type": "heatmapgl"
           }
          ],
          "histogram": [
           {
            "marker": {
             "pattern": {
              "fillmode": "overlay",
              "size": 10,
              "solidity": 0.2
             }
            },
            "type": "histogram"
           }
          ],
          "histogram2d": [
           {
            "colorbar": {
             "outlinewidth": 0,
             "ticks": ""
            },
            "colorscale": [
             [
              0,
              "#0d0887"
             ],
             [
              0.1111111111111111,
              "#46039f"
             ],
             [
              0.2222222222222222,
              "#7201a8"
             ],
             [
              0.3333333333333333,
              "#9c179e"
             ],
             [
              0.4444444444444444,
              "#bd3786"
             ],
             [
              0.5555555555555556,
              "#d8576b"
             ],
             [
              0.6666666666666666,
              "#ed7953"
             ],
             [
              0.7777777777777778,
              "#fb9f3a"
             ],
             [
              0.8888888888888888,
              "#fdca26"
             ],
             [
              1,
              "#f0f921"
             ]
            ],
            "type": "histogram2d"
           }
          ],
          "histogram2dcontour": [
           {
            "colorbar": {
             "outlinewidth": 0,
             "ticks": ""
            },
            "colorscale": [
             [
              0,
              "#0d0887"
             ],
             [
              0.1111111111111111,
              "#46039f"
             ],
             [
              0.2222222222222222,
              "#7201a8"
             ],
             [
              0.3333333333333333,
              "#9c179e"
             ],
             [
              0.4444444444444444,
              "#bd3786"
             ],
             [
              0.5555555555555556,
              "#d8576b"
             ],
             [
              0.6666666666666666,
              "#ed7953"
             ],
             [
              0.7777777777777778,
              "#fb9f3a"
             ],
             [
              0.8888888888888888,
              "#fdca26"
             ],
             [
              1,
              "#f0f921"
             ]
            ],
            "type": "histogram2dcontour"
           }
          ],
          "mesh3d": [
           {
            "colorbar": {
             "outlinewidth": 0,
             "ticks": ""
            },
            "type": "mesh3d"
           }
          ],
          "parcoords": [
           {
            "line": {
             "colorbar": {
              "outlinewidth": 0,
              "ticks": ""
             }
            },
            "type": "parcoords"
           }
          ],
          "pie": [
           {
            "automargin": true,
            "type": "pie"
           }
          ],
          "scatter": [
           {
            "fillpattern": {
             "fillmode": "overlay",
             "size": 10,
             "solidity": 0.2
            },
            "type": "scatter"
           }
          ],
          "scatter3d": [
           {
            "line": {
             "colorbar": {
              "outlinewidth": 0,
              "ticks": ""
             }
            },
            "marker": {
             "colorbar": {
              "outlinewidth": 0,
              "ticks": ""
             }
            },
            "type": "scatter3d"
           }
          ],
          "scattercarpet": [
           {
            "marker": {
             "colorbar": {
              "outlinewidth": 0,
              "ticks": ""
             }
            },
            "type": "scattercarpet"
           }
          ],
          "scattergeo": [
           {
            "marker": {
             "colorbar": {
              "outlinewidth": 0,
              "ticks": ""
             }
            },
            "type": "scattergeo"
           }
          ],
          "scattergl": [
           {
            "marker": {
             "colorbar": {
              "outlinewidth": 0,
              "ticks": ""
             }
            },
            "type": "scattergl"
           }
          ],
          "scattermapbox": [
           {
            "marker": {
             "colorbar": {
              "outlinewidth": 0,
              "ticks": ""
             }
            },
            "type": "scattermapbox"
           }
          ],
          "scatterpolar": [
           {
            "marker": {
             "colorbar": {
              "outlinewidth": 0,
              "ticks": ""
             }
            },
            "type": "scatterpolar"
           }
          ],
          "scatterpolargl": [
           {
            "marker": {
             "colorbar": {
              "outlinewidth": 0,
              "ticks": ""
             }
            },
            "type": "scatterpolargl"
           }
          ],
          "scatterternary": [
           {
            "marker": {
             "colorbar": {
              "outlinewidth": 0,
              "ticks": ""
             }
            },
            "type": "scatterternary"
           }
          ],
          "surface": [
           {
            "colorbar": {
             "outlinewidth": 0,
             "ticks": ""
            },
            "colorscale": [
             [
              0,
              "#0d0887"
             ],
             [
              0.1111111111111111,
              "#46039f"
             ],
             [
              0.2222222222222222,
              "#7201a8"
             ],
             [
              0.3333333333333333,
              "#9c179e"
             ],
             [
              0.4444444444444444,
              "#bd3786"
             ],
             [
              0.5555555555555556,
              "#d8576b"
             ],
             [
              0.6666666666666666,
              "#ed7953"
             ],
             [
              0.7777777777777778,
              "#fb9f3a"
             ],
             [
              0.8888888888888888,
              "#fdca26"
             ],
             [
              1,
              "#f0f921"
             ]
            ],
            "type": "surface"
           }
          ],
          "table": [
           {
            "cells": {
             "fill": {
              "color": "#EBF0F8"
             },
             "line": {
              "color": "white"
             }
            },
            "header": {
             "fill": {
              "color": "#C8D4E3"
             },
             "line": {
              "color": "white"
             }
            },
            "type": "table"
           }
          ]
         },
         "layout": {
          "annotationdefaults": {
           "arrowcolor": "#2a3f5f",
           "arrowhead": 0,
           "arrowwidth": 1
          },
          "autotypenumbers": "strict",
          "coloraxis": {
           "colorbar": {
            "outlinewidth": 0,
            "ticks": ""
           }
          },
          "colorscale": {
           "diverging": [
            [
             0,
             "#8e0152"
            ],
            [
             0.1,
             "#c51b7d"
            ],
            [
             0.2,
             "#de77ae"
            ],
            [
             0.3,
             "#f1b6da"
            ],
            [
             0.4,
             "#fde0ef"
            ],
            [
             0.5,
             "#f7f7f7"
            ],
            [
             0.6,
             "#e6f5d0"
            ],
            [
             0.7,
             "#b8e186"
            ],
            [
             0.8,
             "#7fbc41"
            ],
            [
             0.9,
             "#4d9221"
            ],
            [
             1,
             "#276419"
            ]
           ],
           "sequential": [
            [
             0,
             "#0d0887"
            ],
            [
             0.1111111111111111,
             "#46039f"
            ],
            [
             0.2222222222222222,
             "#7201a8"
            ],
            [
             0.3333333333333333,
             "#9c179e"
            ],
            [
             0.4444444444444444,
             "#bd3786"
            ],
            [
             0.5555555555555556,
             "#d8576b"
            ],
            [
             0.6666666666666666,
             "#ed7953"
            ],
            [
             0.7777777777777778,
             "#fb9f3a"
            ],
            [
             0.8888888888888888,
             "#fdca26"
            ],
            [
             1,
             "#f0f921"
            ]
           ],
           "sequentialminus": [
            [
             0,
             "#0d0887"
            ],
            [
             0.1111111111111111,
             "#46039f"
            ],
            [
             0.2222222222222222,
             "#7201a8"
            ],
            [
             0.3333333333333333,
             "#9c179e"
            ],
            [
             0.4444444444444444,
             "#bd3786"
            ],
            [
             0.5555555555555556,
             "#d8576b"
            ],
            [
             0.6666666666666666,
             "#ed7953"
            ],
            [
             0.7777777777777778,
             "#fb9f3a"
            ],
            [
             0.8888888888888888,
             "#fdca26"
            ],
            [
             1,
             "#f0f921"
            ]
           ]
          },
          "colorway": [
           "#636efa",
           "#EF553B",
           "#00cc96",
           "#ab63fa",
           "#FFA15A",
           "#19d3f3",
           "#FF6692",
           "#B6E880",
           "#FF97FF",
           "#FECB52"
          ],
          "font": {
           "color": "#2a3f5f"
          },
          "geo": {
           "bgcolor": "white",
           "lakecolor": "white",
           "landcolor": "#E5ECF6",
           "showlakes": true,
           "showland": true,
           "subunitcolor": "white"
          },
          "hoverlabel": {
           "align": "left"
          },
          "hovermode": "closest",
          "mapbox": {
           "style": "light"
          },
          "paper_bgcolor": "white",
          "plot_bgcolor": "#E5ECF6",
          "polar": {
           "angularaxis": {
            "gridcolor": "white",
            "linecolor": "white",
            "ticks": ""
           },
           "bgcolor": "#E5ECF6",
           "radialaxis": {
            "gridcolor": "white",
            "linecolor": "white",
            "ticks": ""
           }
          },
          "scene": {
           "xaxis": {
            "backgroundcolor": "#E5ECF6",
            "gridcolor": "white",
            "gridwidth": 2,
            "linecolor": "white",
            "showbackground": true,
            "ticks": "",
            "zerolinecolor": "white"
           },
           "yaxis": {
            "backgroundcolor": "#E5ECF6",
            "gridcolor": "white",
            "gridwidth": 2,
            "linecolor": "white",
            "showbackground": true,
            "ticks": "",
            "zerolinecolor": "white"
           },
           "zaxis": {
            "backgroundcolor": "#E5ECF6",
            "gridcolor": "white",
            "gridwidth": 2,
            "linecolor": "white",
            "showbackground": true,
            "ticks": "",
            "zerolinecolor": "white"
           }
          },
          "shapedefaults": {
           "line": {
            "color": "#2a3f5f"
           }
          },
          "ternary": {
           "aaxis": {
            "gridcolor": "white",
            "linecolor": "white",
            "ticks": ""
           },
           "baxis": {
            "gridcolor": "white",
            "linecolor": "white",
            "ticks": ""
           },
           "bgcolor": "#E5ECF6",
           "caxis": {
            "gridcolor": "white",
            "linecolor": "white",
            "ticks": ""
           }
          },
          "title": {
           "x": 0.05
          },
          "xaxis": {
           "automargin": true,
           "gridcolor": "white",
           "linecolor": "white",
           "ticks": "",
           "title": {
            "standoff": 15
           },
           "zerolinecolor": "white",
           "zerolinewidth": 2
          },
          "yaxis": {
           "automargin": true,
           "gridcolor": "white",
           "linecolor": "white",
           "ticks": "",
           "title": {
            "standoff": 15
           },
           "zerolinecolor": "white",
           "zerolinewidth": 2
          }
         }
        },
        "title": {
         "text": "Similarity of A_bar^(...) B x_i to h_j on layer 39"
        },
        "xaxis": {
         "anchor": "y",
         "autorange": true,
         "constrain": "domain",
         "domain": [
          0.4196525515743757,
          0.5803474484256244
         ],
         "range": [
          -0.5,
          17.5
         ],
         "scaleanchor": "y",
         "tickmode": "array",
         "ticktext": [
          "<|endoftext|>_0",
          "L_1",
          "ately_2",
          ",_3",
          " Jerry_4",
          " and_5",
          " Dale_6",
          " had_7",
          " fun_8",
          " at_9",
          " the_10",
          " restaurant_11",
          "._12",
          " Jerry-> Dale_13",
          " gave_14",
          " a_15",
          " ring_16",
          " to_17"
         ],
         "tickvals": [
          "<|endoftext|>_0",
          "L_1",
          "ately_2",
          ",_3",
          " Jerry_4",
          " and_5",
          " Dale_6",
          " had_7",
          " fun_8",
          " at_9",
          " the_10",
          " restaurant_11",
          "._12",
          " Jerry-> Dale_13",
          " gave_14",
          " a_15",
          " ring_16",
          " to_17"
         ],
         "title": {
          "text": "Position"
         },
         "type": "category"
        },
        "yaxis": {
         "anchor": "x",
         "autorange": true,
         "constrain": "domain",
         "domain": [
          0,
          1
         ],
         "range": [
          17.5,
          -0.5
         ],
         "tickmode": "array",
         "ticktext": [
          "<|endoftext|>_0",
          "L_1",
          "ately_2",
          ",_3",
          " Jerry_4",
          " and_5",
          " Dale_6",
          " had_7",
          " fun_8",
          " at_9",
          " the_10",
          " restaurant_11",
          "._12",
          " Jerry-> Dale_13",
          " gave_14",
          " a_15",
          " ring_16",
          " to_17"
         ],
         "tickvals": [
          "<|endoftext|>_0",
          "L_1",
          "ately_2",
          ",_3",
          " Jerry_4",
          " and_5",
          " Dale_6",
          " had_7",
          " fun_8",
          " at_9",
          " the_10",
          " restaurant_11",
          "._12",
          " Jerry-> Dale_13",
          " gave_14",
          " a_15",
          " ring_16",
          " to_17"
         ],
         "title": {
          "text": "Position"
         },
         "type": "category"
        }
       }
      },
      "image/png": "[encoded data removed]",
      "text/html": [
       "<div>                            <div id=\"7b602034-d080-4d43-8a88-0e336b149e07\" class=\"plotly-graph-div\" style=\"height:525px; width:100%;\"></div>            <script type=\"text/javascript\">                require([\"plotly\"], function(Plotly) {                    window.PLOTLYENV=window.PLOTLYENV || {};                                    if (document.getElementById(\"7b602034-d080-4d43-8a88-0e336b149e07\")) {                    Plotly.newPlot(                        \"7b602034-d080-4d43-8a88-0e336b149e07\",                        [{\"coloraxis\":\"coloraxis\",\"name\":\"0\",\"x\":[\"\\u003c|endoftext|\\u003e_0\",\"L_1\",\"ately_2\",\",_3\",\" Jerry_4\",\" and_5\",\" Dale_6\",\" had_7\",\" fun_8\",\" at_9\",\" the_10\",\" restaurant_11\",\"._12\",\" Jerry-\\u003e Dale_13\",\" gave_14\",\" a_15\",\" ring_16\",\" to_17\"],\"y\":[\"\\u003c|endoftext|\\u003e_0\",\"L_1\",\"ately_2\",\",_3\",\" Jerry_4\",\" and_5\",\" Dale_6\",\" had_7\",\" fun_8\",\" at_9\",\" the_10\",\" restaurant_11\",\"._12\",\" Jerry-\\u003e Dale_13\",\" gave_14\",\" a_15\",\" ring_16\",\" to_17\"],\"z\":[[1.000000238418579,0.7881832122802734,0.8098411560058594,0.8391522169113159,0.8984432816505432,0.4322200417518616,0.47107547521591187,0.35763436555862427,0.36401352286338806,0.37798476219177246,0.38005518913269043,0.3826312720775604,0.3572255074977875,0.38170868158340454,0.34037527441978455,0.3463971018791199,0.3548204302787781,0.3349934220314026],[0.08983488380908966,0.6186500787734985,0.27520906925201416,0.274285227060318,0.29274222254753113,0.13806883990764618,0.14873142540454865,0.11143352836370468,0.11600689589977264,0.11901505291461945,0.12038885056972504,0.12064138054847717,0.11120612174272537,0.11895835399627686,0.10632207244634628,0.10764256864786148,0.10951745510101318,0.106096051633358],[0.11768483370542526,-0.15879176557064056,0.5394611358642578,0.2333904653787613,0.2385568916797638,0.10808951407670975,0.11250654608011246,0.09536322951316833,0.0934007465839386,0.09690705686807632,0.09660480171442032,0.09639819711446762,0.0837322473526001,0.0852416455745697,0.07276064902544022,0.07345571368932724,0.07440260797739029,0.06573875993490219],[-0.06736680865287781,0.07491733133792877,-0.14431209862232208,0.43807634711265564,0.2115059643983841,0.07146192342042923,0.0431845523416996,0.0902574211359024,0.10578049719333649,0.09382501989603043,0.09201883524656296,0.09185509383678436,0.0771804228425026,0.07831878960132599,0.07573793828487396,0.07688706368207932,0.0782591849565506,0.0736180767416954],[0.20008565485477448,0.12509091198444366,0.086959607899189,0.13280384242534637,0.30909934639930725,0.07785927504301071,0.10014708340167999,0.1140056699514389,0.11208634823560715,0.1201539933681488,0.12015882879495621,0.12409445643424988,0.11915146559476852,0.1310829222202301,0.11782887578010559,0.11871043592691422,0.12404562532901764,0.12281090766191483],[0.02076820656657219,0.0060284375213086605,0.014558112248778343,-0.008414624258875847,-0.022218668833374977,0.8739898204803467,0.8284907341003418,0.5632747411727905,0.5676261186599731,0.5630314350128174,0.5617511868476868,0.559546709060669,0.5130168199539185,0.5244687795639038,0.4934200942516327,0.4969305992126465,0.50289386510849,0.4719333350658417],[0.08224659413099289,0.02587871067225933,0.07739638537168503,-0.05452777072787285,0.012481406331062317,-0.019829584285616875,0.1529131680727005,-0.06192891299724579,-0.0658578872680664,-0.06519757211208344,-0.07580480724573135,-0.07982153445482254,-0.043354008346796036,-0.04621605947613716,-0.03724861890077591,-0.034969113767147064,-0.0357733890414238,-0.03544146567583084],[0.00942185614258051,-0.001110711949877441,-0.0004033113655168563,0.025006359443068504,0.025072703137993813,0.11252373456954956,0.06446480751037598,0.7209264636039734,0.6916626691818237,0.6788284182548523,0.6770703792572021,0.6750741004943848,0.5895240902900696,0.6035170555114746,0.5733684301376343,0.5766617655754089,0.5837071537971497,0.5448746085166931],[0.035743437707424164,0.06900371611118317,-0.017196128144860268,0.07298585027456284,0.047266632318496704,0.0644771158695221,0.09044082462787628,-0.02012338861823082,0.1286366581916809,0.10552825778722763,0.09775900095701218,0.09495153278112411,0.08601868152618408,0.08644762635231018,0.0914180800318718,0.09961987286806107,0.10001201927661896,0.09096303582191467],[0.1367662250995636,0.04140499606728554,0.08296826481819153,-0.08409912884235382,0.03875927999615669,0.007230987306684256,0.02844598889350891,0.02343735285103321,0.0157670546323061,0.14728565514087677,0.13298949599266052,0.1296444982290268,0.10518240183591843,0.09312283992767334,0.07755359262228012,0.07729439437389374,0.07697280496358871,0.11146243661642075],[0.18568234145641327,0.0980762243270874,0.09856951236724854,0.09494365751743317,0.12638145685195923,0.058882731944322586,0.0695696547627449,0.048972416669130325,0.06238481402397156,0.08901359885931015,0.1317405253648758,0.1568428874015808,0.14630456268787384,0.15268370509147644,0.1349448263645172,0.14565971493721008,0.15068291127681732,0.141204833984375],[0.19221989810466766,0.10746127367019653,0.14179706573486328,0.13709954917430878,0.1796727329492569,0.07260217517614365,0.09206761419773102,0.07407253980636597,0.07941122353076935,0.0979132428765297,0.11466295272111893,0.14726927876472473,0.12981338798999786,0.14166726171970367,0.12965600192546844,0.135972797870636,0.14685170352458954,0.14259403944015503],[0.02107376791536808,0.03580908104777336,-0.01016333419829607,-0.023082006722688675,-0.0032861463259905577,-0.008086210116744041,0.0037895592395216227,-0.024487825110554695,-0.020073112100362778,-0.006998121738433838,-0.006473924033343792,-0.008725202642381191,0.3855787515640259,0.3112976551055908,0.2365151047706604,0.23344644904136658,0.2319093942642212,0.23366571962833405],[0.2029878795146942,0.05952843651175499,0.1362246423959732,-0.0044871666468679905,0.11558126658201218,0.05412299185991287,0.08314549922943115,0.03220163658261299,0.04835816100239754,0.05663212388753891,0.05524064600467682,0.05762846767902374,0.043996457010507584,0.12255341559648514,0.10065581649541855,0.10123611241579056,0.10492204129695892,0.09599430114030838],[0.008320516906678677,0.01632242649793625,-0.019968217238783836,0.0006027828203514218,0.0040209731087088585,0.2550273537635803,0.22263023257255554,0.2746847867965698,0.2628435492515564,0.24050484597682953,0.2325735241174698,0.2258358746767044,0.19395031034946442,0.17286434769630432,0.531505286693573,0.509723961353302,0.49579092860221863,0.4240656793117523],[0.08552087098360062,0.01795276813209057,0.04723071679472923,0.044999029487371445,0.049646180123090744,0.021906929090619087,0.0473141074180603,0.01488535851240158,0.050396595150232315,0.049239423125982285,0.05475402623414993,0.048298295587301254,0.04938550665974617,0.04651245102286339,0.04295683279633522,0.13548964262008667,0.11520964652299881,0.10374187678098679],[0.10548906773328781,0.040826305747032166,0.09635855257511139,0.078490249812603,0.0740218535065651,0.04603957757353783,0.05440904572606087,0.02730490267276764,0.04498463124036789,0.03362767770886421,0.04186609014868736,0.050282325595617294,0.05451343581080437,0.06424085050821304,0.046333760023117065,0.057436197996139526,0.0910264402627945,0.08328237384557724],[0.010047833435237408,0.011626075021922588,-0.022710176184773445,0.01797526702284813,0.021932192146778107,-0.011784489266574383,-0.005910197272896767,0.01526502426713705,0.010274816304445267,0.03470509126782417,0.03257877752184868,0.03162328153848648,0.056318499147892,0.0416896790266037,0.03392359986901283,0.03366182744503021,0.02945532836019993,0.385008305311203]],\"type\":\"heatmap\",\"xaxis\":\"x\",\"yaxis\":\"y\",\"hovertemplate\":\"Position: %{x}\\u003cbr\\u003ePosition: %{y}\\u003cbr\\u003ecolor: %{z}\\u003cextra\\u003e\\u003c\\u002fextra\\u003e\"}],                        {\"template\":{\"data\":{\"histogram2dcontour\":[{\"type\":\"histogram2dcontour\",\"colorbar\":{\"outlinewidth\":0,\"ticks\":\"\"},\"colorscale\":[[0.0,\"#0d0887\"],[0.1111111111111111,\"#46039f\"],[0.2222222222222222,\"#7201a8\"],[0.3333333333333333,\"#9c179e\"],[0.4444444444444444,\"#bd3786\"],[0.5555555555555556,\"#d8576b\"],[0.6666666666666666,\"#ed7953\"],[0.7777777777777778,\"#fb9f3a\"],[0.8888888888888888,\"#fdca26\"],[1.0,\"#f0f921\"]]}],\"choropleth\":[{\"type\":\"choropleth\",\"colorbar\":{\"outlinewidth\":0,\"ticks\":\"\"}}],\"histogram2d\":[{\"type\":\"histogram2d\",\"colorbar\":{\"outlinewidth\":0,\"ticks\":\"\"},\"colorscale\":[[0.0,\"#0d0887\"],[0.1111111111111111,\"#46039f\"],[0.2222222222222222,\"#7201a8\"],[0.3333333333333333,\"#9c179e\"],[0.4444444444444444,\"#bd3786\"],[0.5555555555555556,\"#d8576b\"],[0.6666666666666666,\"#ed7953\"],[0.7777777777777778,\"#fb9f3a\"],[0.8888888888888888,\"#fdca26\"],[1.0,\"#f0f921\"]]}],\"heatmap\":[{\"type\":\"heatmap\",\"colorbar\":{\"outlinewidth\":0,\"ticks\":\"\"},\"colorscale\":[[0.0,\"#0d0887\"],[0.1111111111111111,\"#46039f\"],[0.2222222222222222,\"#7201a8\"],[0.3333333333333333,\"#9c179e\"],[0.4444444444444444,\"#bd3786\"],[0.5555555555555556,\"#d8576b\"],[0.6666666666666666,\"#ed7953\"],[0.7777777777777778,\"#fb9f3a\"],[0.8888888888888888,\"#fdca26\"],[1.0,\"#f0f921\"]]}],\"heatmapgl\":[{\"type\":\"heatmapgl\",\"colorbar\":{\"outlinewidth\":0,\"ticks\":\"\"},\"colorscale\":[[0.0,\"#0d0887\"],[0.1111111111111111,\"#46039f\"],[0.2222222222222222,\"#7201a8\"],[0.3333333333333333,\"#9c179e\"],[0.4444444444444444,\"#bd3786\"],[0.5555555555555556,\"#d8576b\"],[0.6666666666666666,\"#ed7953\"],[0.7777777777777778,\"#fb9f3a\"],[0.8888888888888888,\"#fdca26\"],[1.0,\"#f0f921\"]]}],\"contourcarpet\":[{\"type\":\"contourcarpet\",\"colorbar\":{\"outlinewidth\":0,\"ticks\":\"\"}}],\"contour\":[{\"type\":\"contour\",\"colorbar\":{\"outlinewidth\":0,\"ticks\":\"\"},\"colorscale\":[[0.0,\"#0d0887\"],[0.1111111111111111,\"#46039f\"],[0.2222222222222222,\"#7201a8\"],[0.3333333333333333,\"#9c179e\"],[0.4444444444444444,\"#bd3786\"],[0.5555555555555556,\"#d8576b\"],[0.6666666666666666,\"#ed7953\"],[0.7777777777777778,\"#fb9f3a\"],[0.8888888888888888,\"#fdca26\"],[1.0,\"#f0f921\"]]}],\"surface\":[{\"type\":\"surface\",\"colorbar\":{\"outlinewidth\":0,\"ticks\":\"\"},\"colorscale\":[[0.0,\"#0d0887\"],[0.1111111111111111,\"#46039f\"],[0.2222222222222222,\"#7201a8\"],[0.3333333333333333,\"#9c179e\"],[0.4444444444444444,\"#bd3786\"],[0.5555555555555556,\"#d8576b\"],[0.6666666666666666,\"#ed7953\"],[0.7777777777777778,\"#fb9f3a\"],[0.8888888888888888,\"#fdca26\"],[1.0,\"#f0f921\"]]}],\"mesh3d\":[{\"type\":\"mesh3d\",\"colorbar\":{\"outlinewidth\":0,\"ticks\":\"\"}}],\"scatter\":[{\"fillpattern\":{\"fillmode\":\"overlay\",\"size\":10,\"solidity\":0.2},\"type\":\"scatter\"}],\"parcoords\":[{\"type\":\"parcoords\",\"line\":{\"colorbar\":{\"outlinewidth\":0,\"ticks\":\"\"}}}],\"scatterpolargl\":[{\"type\":\"scatterpolargl\",\"marker\":{\"colorbar\":{\"outlinewidth\":0,\"ticks\":\"\"}}}],\"bar\":[{\"error_x\":{\"color\":\"#2a3f5f\"},\"error_y\":{\"color\":\"#2a3f5f\"},\"marker\":{\"line\":{\"color\":\"#E5ECF6\",\"width\":0.5},\"pattern\":{\"fillmode\":\"overlay\",\"size\":10,\"solidity\":0.2}},\"type\":\"bar\"}],\"scattergeo\":[{\"type\":\"scattergeo\",\"marker\":{\"colorbar\":{\"outlinewidth\":0,\"ticks\":\"\"}}}],\"scatterpolar\":[{\"type\":\"scatterpolar\",\"marker\":{\"colorbar\":{\"outlinewidth\":0,\"ticks\":\"\"}}}],\"histogram\":[{\"marker\":{\"pattern\":{\"fillmode\":\"overlay\",\"size\":10,\"solidity\":0.2}},\"type\":\"histogram\"}],\"scattergl\":[{\"type\":\"scattergl\",\"marker\":{\"colorbar\":{\"outlinewidth\":0,\"ticks\":\"\"}}}],\"scatter3d\":[{\"type\":\"scatter3d\",\"line\":{\"colorbar\":{\"outlinewidth\":0,\"ticks\":\"\"}},\"marker\":{\"colorbar\":{\"outlinewidth\":0,\"ticks\":\"\"}}}],\"scattermapbox\":[{\"type\":\"scattermapbox\",\"marker\":{\"colorbar\":{\"outlinewidth\":0,\"ticks\":\"\"}}}],\"scatterternary\":[{\"type\":\"scatterternary\",\"marker\":{\"colorbar\":{\"outlinewidth\":0,\"ticks\":\"\"}}}],\"scattercarpet\":[{\"type\":\"scattercarpet\",\"marker\":{\"colorbar\":{\"outlinewidth\":0,\"ticks\":\"\"}}}],\"carpet\":[{\"aaxis\":{\"endlinecolor\":\"#2a3f5f\",\"gridcolor\":\"white\",\"linecolor\":\"white\",\"minorgridcolor\":\"white\",\"startlinecolor\":\"#2a3f5f\"},\"baxis\":{\"endlinecolor\":\"#2a3f5f\",\"gridcolor\":\"white\",\"linecolor\":\"white\",\"minorgridcolor\":\"white\",\"startlinecolor\":\"#2a3f5f\"},\"type\":\"carpet\"}],\"table\":[{\"cells\":{\"fill\":{\"color\":\"#EBF0F8\"},\"line\":{\"color\":\"white\"}},\"header\":{\"fill\":{\"color\":\"#C8D4E3\"},\"line\":{\"color\":\"white\"}},\"type\":\"table\"}],\"barpolar\":[{\"marker\":{\"line\":{\"color\":\"#E5ECF6\",\"width\":0.5},\"pattern\":{\"fillmode\":\"overlay\",\"size\":10,\"solidity\":0.2}},\"type\":\"barpolar\"}],\"pie\":[{\"automargin\":true,\"type\":\"pie\"}]},\"layout\":{\"autotypenumbers\":\"strict\",\"colorway\":[\"#636efa\",\"#EF553B\",\"#00cc96\",\"#ab63fa\",\"#FFA15A\",\"#19d3f3\",\"#FF6692\",\"#B6E880\",\"#FF97FF\",\"#FECB52\"],\"font\":{\"color\":\"#2a3f5f\"},\"hovermode\":\"closest\",\"hoverlabel\":{\"align\":\"left\"},\"paper_bgcolor\":\"white\",\"plot_bgcolor\":\"#E5ECF6\",\"polar\":{\"bgcolor\":\"#E5ECF6\",\"angularaxis\":{\"gridcolor\":\"white\",\"linecolor\":\"white\",\"ticks\":\"\"},\"radialaxis\":{\"gridcolor\":\"white\",\"linecolor\":\"white\",\"ticks\":\"\"}},\"ternary\":{\"bgcolor\":\"#E5ECF6\",\"aaxis\":{\"gridcolor\":\"white\",\"linecolor\":\"white\",\"ticks\":\"\"},\"baxis\":{\"gridcolor\":\"white\",\"linecolor\":\"white\",\"ticks\":\"\"},\"caxis\":{\"gridcolor\":\"white\",\"linecolor\":\"white\",\"ticks\":\"\"}},\"coloraxis\":{\"colorbar\":{\"outlinewidth\":0,\"ticks\":\"\"}},\"colorscale\":{\"sequential\":[[0.0,\"#0d0887\"],[0.1111111111111111,\"#46039f\"],[0.2222222222222222,\"#7201a8\"],[0.3333333333333333,\"#9c179e\"],[0.4444444444444444,\"#bd3786\"],[0.5555555555555556,\"#d8576b\"],[0.6666666666666666,\"#ed7953\"],[0.7777777777777778,\"#fb9f3a\"],[0.8888888888888888,\"#fdca26\"],[1.0,\"#f0f921\"]],\"sequentialminus\":[[0.0,\"#0d0887\"],[0.1111111111111111,\"#46039f\"],[0.2222222222222222,\"#7201a8\"],[0.3333333333333333,\"#9c179e\"],[0.4444444444444444,\"#bd3786\"],[0.5555555555555556,\"#d8576b\"],[0.6666666666666666,\"#ed7953\"],[0.7777777777777778,\"#fb9f3a\"],[0.8888888888888888,\"#fdca26\"],[1.0,\"#f0f921\"]],\"diverging\":[[0,\"#8e0152\"],[0.1,\"#c51b7d\"],[0.2,\"#de77ae\"],[0.3,\"#f1b6da\"],[0.4,\"#fde0ef\"],[0.5,\"#f7f7f7\"],[0.6,\"#e6f5d0\"],[0.7,\"#b8e186\"],[0.8,\"#7fbc41\"],[0.9,\"#4d9221\"],[1,\"#276419\"]]},\"xaxis\":{\"gridcolor\":\"white\",\"linecolor\":\"white\",\"ticks\":\"\",\"title\":{\"standoff\":15},\"zerolinecolor\":\"white\",\"automargin\":true,\"zerolinewidth\":2},\"yaxis\":{\"gridcolor\":\"white\",\"linecolor\":\"white\",\"ticks\":\"\",\"title\":{\"standoff\":15},\"zerolinecolor\":\"white\",\"automargin\":true,\"zerolinewidth\":2},\"scene\":{\"xaxis\":{\"backgroundcolor\":\"#E5ECF6\",\"gridcolor\":\"white\",\"linecolor\":\"white\",\"showbackground\":true,\"ticks\":\"\",\"zerolinecolor\":\"white\",\"gridwidth\":2},\"yaxis\":{\"backgroundcolor\":\"#E5ECF6\",\"gridcolor\":\"white\",\"linecolor\":\"white\",\"showbackground\":true,\"ticks\":\"\",\"zerolinecolor\":\"white\",\"gridwidth\":2},\"zaxis\":{\"backgroundcolor\":\"#E5ECF6\",\"gridcolor\":\"white\",\"linecolor\":\"white\",\"showbackground\":true,\"ticks\":\"\",\"zerolinecolor\":\"white\",\"gridwidth\":2}},\"shapedefaults\":{\"line\":{\"color\":\"#2a3f5f\"}},\"annotationdefaults\":{\"arrowcolor\":\"#2a3f5f\",\"arrowhead\":0,\"arrowwidth\":1},\"geo\":{\"bgcolor\":\"white\",\"landcolor\":\"#E5ECF6\",\"subunitcolor\":\"white\",\"showland\":true,\"showlakes\":true,\"lakecolor\":\"white\"},\"title\":{\"x\":0.05},\"mapbox\":{\"style\":\"light\"}}},\"xaxis\":{\"anchor\":\"y\",\"domain\":[0.0,1.0],\"scaleanchor\":\"y\",\"constrain\":\"domain\",\"title\":{\"text\":\"Position\"},\"tickmode\":\"array\",\"tickvals\":[\"\\u003c|endoftext|\\u003e_0\",\"L_1\",\"ately_2\",\",_3\",\" Jerry_4\",\" and_5\",\" Dale_6\",\" had_7\",\" fun_8\",\" at_9\",\" the_10\",\" restaurant_11\",\"._12\",\" Jerry-\\u003e Dale_13\",\" gave_14\",\" a_15\",\" ring_16\",\" to_17\"],\"ticktext\":[\"\\u003c|endoftext|\\u003e_0\",\"L_1\",\"ately_2\",\",_3\",\" Jerry_4\",\" and_5\",\" Dale_6\",\" had_7\",\" fun_8\",\" at_9\",\" the_10\",\" restaurant_11\",\"._12\",\" Jerry-\\u003e Dale_13\",\" gave_14\",\" a_15\",\" ring_16\",\" to_17\"]},\"yaxis\":{\"anchor\":\"x\",\"domain\":[0.0,1.0],\"autorange\":\"reversed\",\"constrain\":\"domain\",\"title\":{\"text\":\"Position\"},\"tickmode\":\"array\",\"tickvals\":[\"\\u003c|endoftext|\\u003e_0\",\"L_1\",\"ately_2\",\",_3\",\" Jerry_4\",\" and_5\",\" Dale_6\",\" had_7\",\" fun_8\",\" at_9\",\" the_10\",\" restaurant_11\",\"._12\",\" Jerry-\\u003e Dale_13\",\" gave_14\",\" a_15\",\" ring_16\",\" to_17\"],\"ticktext\":[\"\\u003c|endoftext|\\u003e_0\",\"L_1\",\"ately_2\",\",_3\",\" Jerry_4\",\" and_5\",\" Dale_6\",\" had_7\",\" fun_8\",\" at_9\",\" the_10\",\" restaurant_11\",\"._12\",\" Jerry-\\u003e Dale_13\",\" gave_14\",\" a_15\",\" ring_16\",\" to_17\"]},\"coloraxis\":{\"colorscale\":[[0.0,\"rgb(103,0,31)\"],[0.1,\"rgb(178,24,43)\"],[0.2,\"rgb(214,96,77)\"],[0.3,\"rgb(244,165,130)\"],[0.4,\"rgb(253,219,199)\"],[0.5,\"rgb(247,247,247)\"],[0.6,\"rgb(209,229,240)\"],[0.7,\"rgb(146,197,222)\"],[0.8,\"rgb(67,147,195)\"],[0.9,\"rgb(33,102,172)\"],[1.0,\"rgb(5,48,97)\"]],\"cmid\":0.0},\"title\":{\"text\":\"Similarity of A_bar^(...) B x_i to h_j on layer 39\"},\"font\":{\"size\":8,\"color\":\"black\"}},                        {\"responsive\": true}                    ).then(function(){\n",
       "                            \n",
       "var gd = document.getElementById('7b602034-d080-4d43-8a88-0e336b149e07');\n",
       "var x = new MutationObserver(function (mutations, observer) {{\n",
       "        var display = window.getComputedStyle(gd).display;\n",
       "        if (!display || display === 'none') {{\n",
       "            console.log([gd, 'removed!']);\n",
       "            Plotly.purge(gd);\n",
       "            observer.disconnect();\n",
       "        }}\n",
       "}});\n",
       "\n",
       "// Listen for the removal of the full notebook cells\n",
       "var notebookContainer = gd.closest('#notebook-container');\n",
       "if (notebookContainer) {{\n",
       "    x.observe(notebookContainer, {childList: true});\n",
       "}}\n",
       "\n",
       "// Listen for the clearing of the current output cell\n",
       "var outputEl = gd.closest('.output');\n",
       "if (outputEl) {{\n",
       "    x.observe(outputEl, {childList: true});\n",
       "}}\n",
       "\n",
       "                        })                };                });            </script>        </div>"
      ]
     },
     "metadata": {},
     "output_type": "display_data"
    }
   ],
   "source": [
    "\n",
    "# make token labels that describe the patch\n",
    "corrupted_str_tokens = model.to_str_tokens(prompt_corrupted_tokens)\n",
    "uncorrupted_str_tokens = model.to_str_tokens(prompt_uncorrupted_tokens)\n",
    "token_labels = []\n",
    "for index, (corrupted_token, uncorrupted_token) in enumerate(zip(corrupted_str_tokens, uncorrupted_str_tokens)):\n",
    "    if corrupted_token == uncorrupted_token:\n",
    "        token_labels.append(f\"{corrupted_token}_{index}\")\n",
    "    else:\n",
    "        token_labels.append(f\"{uncorrupted_token}->{corrupted_token}_{index}\")\n",
    "\n",
    "\n",
    "# for each pos\n",
    "'''\n",
    "layer_labels = [str(layer) for layer in limited_layers]\n",
    "for pos in tqdm(list(range(L))):\n",
    "    fig = imshow(h_to_x_b_similarities[:,pos], show=False, x=token_labels, y=layer_labels, xaxis=\"Position\", yaxis=\"Layer\", title=f\"Similarity to hidden state of token = {token_labels[pos]}\", font_size=8)\n",
    "    fig.update_layout(**plot_args)\n",
    "    fig.update_layout(legend=dict(\n",
    "        yanchor=\"top\",\n",
    "        y=0.99,\n",
    "        xanchor=\"left\",\n",
    "        x=0.01\n",
    "    ))\n",
    "    fig.show()\n",
    "'''\n",
    "LAYER = 39\n",
    "imshow(x_b_similarities[LAYER], show=False, x=token_labels, y=token_labels, xaxis=\"Position\", yaxis=\"Position\", title=f\"Similarity of B x_i to B x_j on layer {LAYER}\", font_size=8).show()\n",
    "imshow(h_similarities[LAYER], show=False, x=token_labels, y=token_labels, xaxis=\"Position\", yaxis=\"Position\", title=f\"Similarity of h_i to h_j on layer {LAYER}\", font_size=8).show()\n",
    "imshow(h_to_x_b_similarities[LAYER], show=False, x=token_labels, y=token_labels, xaxis=\"Position\", yaxis=\"Position\", title=f\"Similarity of B x_i to h_j on layer {LAYER}\", font_size=8).show()\n",
    "imshow(h_to_x_b_similarities_catchup[LAYER], show=False, x=token_labels, y=token_labels, xaxis=\"Position\", yaxis=\"Position\", title=f\"Similarity of A_bar^(...) B x_i to h_j on layer {LAYER}\", font_size=8).show()\n",
    "\n"
   ]
  },
  {
   "cell_type": "markdown",
   "id": "91c18872-bc56-4a29-996b-1bcaccc17228",
   "metadata": {},
   "source": [
    "## Interpreting Convs"
   ]
  },
  {
   "cell_type": "code",
   "execution_count": 53,
   "id": "2b0145a9-4782-49cd-8439-16348045ca98",
   "metadata": {},
   "outputs": [
    {
     "name": "stdout",
     "output_type": "stream",
     "text": [
      "0\n",
      "1\n",
      "2\n",
      "3\n",
      "4\n",
      "5\n",
      "6\n",
      "7\n",
      "8\n",
      "9\n",
      "10\n",
      "11\n",
      "12\n",
      "13\n",
      "14\n",
      "15\n",
      "16\n",
      "17\n",
      "18\n",
      "19\n",
      "20\n",
      "21\n",
      "22\n",
      "23\n",
      "24\n",
      "25\n",
      "26\n",
      "27\n",
      "28\n",
      "29\n",
      "30\n",
      "31\n",
      "32\n",
      "33\n",
      "34\n",
      "35\n",
      "36\n",
      "37\n",
      "38\n",
      "39\n",
      "40\n",
      "41\n",
      "42\n",
      "43\n",
      "44\n",
      "45\n",
      "46\n",
      "47\n"
     ]
    }
   ],
   "source": [
    "# todo: can we do the same thing for skip connection and B_bar (and maybe A_bar?)\n",
    "for INTERPRET_LAYER in range(model.cfg.n_layers):\n",
    "    TOP_N = 200\n",
    "    print(INTERPRET_LAYER)\n",
    "    \n",
    "    #all_tokens = torch.unique(batched_data.flatten())\n",
    "    all_tokens = torch.arange(model.cfg.V)\n",
    "    \n",
    "    V,L,D,E = all_tokens.size()[0], 1, model.cfg.D, model.cfg.E\n",
    "    D_conv = model.cfg.D_conv\n",
    "    # [V,L,D]\n",
    "    input = model.embedding.weight[all_tokens].view(V,L,D)\n",
    "    # [V,L,E]\n",
    "    conv_input = model.blocks[INTERPRET_LAYER].in_proj(input)\n",
    "    # [E,1,D_CONV]\n",
    "    conv_filters = model.blocks[INTERPRET_LAYER].conv1d.weight\n",
    "    sims = torch.zeros([V,D_conv+1], device=model.cfg.device)\n",
    "    cosine_sims = torch.zeros([V,D_conv+1], device=model.cfg.device)\n",
    "    # [V,D]\n",
    "    conv_input_vecs = conv_input[:,0,:]\n",
    "    # [V,1]\n",
    "    conv_input_vecs_mag = torch.linalg.norm(conv_input_vecs, ord=2, dim=1, keepdim=True)\n",
    "    conv_input_vecs_mag[conv_input_vecs_mag==0] = 1.0 # prevent divide by zero\n",
    "    # [V,D]                     [V,D]             [V,1]\n",
    "    conv_input_normalized = conv_input_vecs * 1.0/conv_input_vecs_mag\n",
    "    \n",
    "    for conv_i in range(D_conv+1):\n",
    "        if conv_i < D_conv:\n",
    "            # [E,1]\n",
    "            filter = conv_filters[:,0,conv_i].view(E,1)\n",
    "        else:\n",
    "            filter = model.blocks[INTERPRET_LAYER].conv1d.bias.view(E,1)\n",
    "        # [V,L,1]  [V,L,E]   x [E,1]  # basically just [L,E] x [E,1] matmul for every V\n",
    "        filter_sims    = conv_input @ filter\n",
    "        # [V]                 [V]\n",
    "        sims[:,conv_i] = filter_sims[:,0,0]\n",
    "    \n",
    "        # [1]\n",
    "        filter_mag = torch.linalg.norm(filter.view(E), ord=2, dim=0, keepdim=True)\n",
    "        filter_mag[filter_mag==0] = 1.0 # no divide by zero\n",
    "        # [E,1]              [E,1]      [1]\n",
    "        filter_normalized = filter / filter_mag\n",
    "        # [V,L,1]  [V,L,E]   x [E,1]  # basically just [L,E] x [E,1] matmul for every V\n",
    "        filter_cosine_sims    = conv_input_normalized.view(V,1,E) @ filter_normalized\n",
    "        cosine_sims[:,conv_i] = filter_cosine_sims[:,0,0]\n",
    "    \n",
    "    import pathlib\n",
    "    \n",
    "    pathlib.Path(\"conv interp\").mkdir(parents=True, exist_ok=True)\n",
    "    \n",
    "    with open(f\"conv interp/layer {INTERPRET_LAYER} conv sims all.txt\", \"w\") as f:\n",
    "        def write(s):\n",
    "            f.write(s + \"\\n\")\n",
    "        write(f\"layer {INTERPRET_LAYER}\")\n",
    "        for conv_i in range(D_conv+1):\n",
    "            if conv_i == 0: continue # this one is always zeros for some reason\n",
    "            if conv_i < D_conv:\n",
    "                write(f\"    conv filter {conv_i}\")\n",
    "            else:\n",
    "                write(f\"    bias\")\n",
    "            write(f\"      unnormalized sims:\")\n",
    "            top_n = torch.argsort(-sims[:,conv_i])\n",
    "            for i, tok_i in enumerate(top_n[:TOP_N]):\n",
    "                tok = all_tokens[tok_i]\n",
    "                write(f\"        top {i} is {tok}={repr(model.tokenizer.decode([tok]))} with sim {sims[tok_i,conv_i]}\")\n",
    "            write(f\"      cosine sims:\")\n",
    "            top_n = torch.argsort(-cosine_sims[:,conv_i])\n",
    "            for i, tok_i in enumerate(top_n[:TOP_N]):\n",
    "                tok = all_tokens[tok_i]\n",
    "                write(f\"        top {i} is {tok}={repr(model.tokenizer.decode([tok]))} with sim {cosine_sims[tok_i,conv_i]}\")\n",
    "        \n",
    "    #model.blocks[INTERPRET_LAYER].in_proj(\n"
   ]
  },
  {
   "cell_type": "code",
   "execution_count": 36,
   "id": "af0f6957-eca3-43f5-806f-c56b2f82cbec",
   "metadata": {},
   "outputs": [
    {
     "data": {
      "text/plain": [
       "tensor([    0,    13,    15,    45,   247,   253,   281,   285,   387,   574,\n",
       "          794,  1523,  2143,  2419,  3534,  3906,  4162,  4382,  4657,  4660,\n",
       "         4675,  5484,  5769,  5818,  5961,  6086,  9271, 10135, 10301, 10329,\n",
       "        10497, 12694, 14648, 14791, 16286, 17361, 18267, 21122, 21638, 22463,\n",
       "        24504, 25062, 25498, 26066, 26525, 27477, 27522, 27575, 27982, 28084,\n",
       "        28642, 28707, 28710, 28962, 29051, 29778, 31479, 33099, 33503, 34655,\n",
       "        35028, 36253, 36606, 36741, 38048, 38181, 41903, 42006, 42319, 42486,\n",
       "        43783, 43785, 43898, 44256, 45867, 46389, 46937, 47613, 47756, 48038,\n",
       "        48076, 48555, 49813, 50178], device='cuda:0')"
      ]
     },
     "execution_count": 36,
     "metadata": {},
     "output_type": "execute_result"
    }
   ],
   "source": []
  },
  {
   "cell_type": "code",
   "execution_count": null,
   "id": "d96f0b7b-a8a3-4b8c-8e56-8e2159a76fe6",
   "metadata": {},
   "outputs": [],
   "source": []
  }
 ],
 "metadata": {
  "kernelspec": {
   "display_name": "Python 3 (ipykernel)",
   "language": "python",
   "name": "python3"
  },
  "language_info": {
   "codemirror_mode": {
    "name": "ipython",
    "version": 3
   },
   "file_extension": ".py",
   "mimetype": "text/x-python",
   "name": "python",
   "nbconvert_exporter": "python",
   "pygments_lexer": "ipython3",
   "version": "3.10.11"
  }
 },
 "nbformat": 4,
 "nbformat_minor": 5
}

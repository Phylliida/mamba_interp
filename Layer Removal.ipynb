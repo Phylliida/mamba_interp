{
 "cells": [
  {
   "cell_type": "code",
   "execution_count": 1,
   "id": "f9a78832-f1cb-42a6-a907-f48bdd542a13",
   "metadata": {},
   "outputs": [],
   "source": [
    "import pandas as pd\n",
    "import plotly.express as px\n",
    "import torch\n",
    "from einops import rearrange\n",
    "import torch\n",
    "import tqdm"
   ]
  },
  {
   "cell_type": "code",
   "execution_count": 2,
   "id": "7be2fe9a-9fac-41ad-86cd-73ca5d0f3db5",
   "metadata": {},
   "outputs": [
    {
     "name": "stderr",
     "output_type": "stream",
     "text": [
      "/opt/conda/lib/python3.10/site-packages/torch/_utils.py:776: UserWarning: TypedStorage is deprecated. It will be removed in the future and UntypedStorage will be the only storage class. This should only matter to you if you are using storages directly.  To access UntypedStorage directly, use tensor.untyped_storage() instead of tensor.storage()\n",
      "  return self.fget.__get__(instance, owner)()\n",
      "Special tokens have been added in the vocabulary, make sure the associated word embeddings are fine-tuned or trained.\n"
     ]
    },
    {
     "name": "stdout",
     "output_type": "stream",
     "text": [
      "Moving model to device:  cuda\n"
     ]
    },
    {
     "data": {
      "text/plain": [
       "<torch.autograd.grad_mode.set_grad_enabled at 0x7f64dee87400>"
      ]
     },
     "execution_count": 2,
     "metadata": {},
     "output_type": "execute_result"
    }
   ],
   "source": [
    "from mamba_lens import HookedMamba\n",
    "model = HookedMamba.from_pretrained(\"state-spaces/mamba-370m\", device='cuda')\n",
    "torch.set_grad_enabled(False)"
   ]
  },
  {
   "cell_type": "code",
   "execution_count": 80,
   "id": "781e3268-eb97-4b19-bb45-f3584a770828",
   "metadata": {},
   "outputs": [],
   "source": [
    "def get_pad_token(tokenizer):\n",
    "    return model.tokenizer.encode(model.tokenizer.pad_token, add_special_tokens=False)[0]\n",
    "\n",
    "# given data that is [N,V] and indicies that are [N,K] with each index being an index into the V space\n",
    "# this does what you'd want, it indexes them\n",
    "# idk, see the test\n",
    "def index_into(data, indices):\n",
    "    num_data, num_per_data = indices.size()\n",
    "    # we want\n",
    "    # [0,0,0,...,] num per data of these\n",
    "    # [1,1,1,...,] num per data of these\n",
    "    # ...\n",
    "    # [num_data-1, num_data-1, ...]\n",
    "    first_axis_index = torch.arange(num_data, dtype=torch.long).view(num_data, 1)*torch.ones([num_data, num_per_data], dtype=torch.long)\n",
    "    # now we flatten it so it has an index for each term aligned with our indices\n",
    "    first_axis_index = first_axis_index.flatten()\n",
    "\n",
    "    second_axis_index = indices.flatten()\n",
    "    # now we can just index, and then view back to our original shape\n",
    "    return data[first_axis_index, second_axis_index].view(num_data, num_per_data)\n",
    "    \n",
    "\n",
    "def eval_debug(model, data, correct, incorrect, constrain_to_answers, **kwargs):\n",
    "    for data_i in range(correct.size()[0]):\n",
    "        input = model.tokenizer.decode(data[data_i])\n",
    "        top_k = 2\n",
    "        logits = model.forward(input, **kwargs)[0,-1]\n",
    "        correct_answers = correct[data_i]\n",
    "        incorrect_answers = incorrect[data_i]\n",
    "        if constrain_to_answers:\n",
    "            only_consider_answer_logits = torch.full(logits.size(), fill_value=-torch.inf, device=model.cfg.device)\n",
    "            only_consider_answer_logits[correct_answers] = logits[correct_answers]\n",
    "            only_consider_answer_logits[incorrect_answers] = logits[incorrect_answers]\n",
    "            logits = only_consider_answer_logits\n",
    "        prs = torch.nn.functional.softmax(logits, dim=0)\n",
    "        top = torch.argsort(-logits)[:top_k]\n",
    "        printed = False\n",
    "        printed_prompt = False\n",
    "        for i, tok in enumerate(top):\n",
    "            if not i == 0 and tok in correct_answers:\n",
    "                if not printed_prompt:\n",
    "                    print(\"prompt\", input)\n",
    "                    printed_prompt = True\n",
    "                print(f\"  correct top {i} token {repr(model.tokenizer.decode([tok]))} logit {logits[tok]} prs {prs[tok]}\")\n",
    "                printed = True\n",
    "                #print(\"correct\")\n",
    "                #print(f\"token {model.tokenizer.decode([tok])} logit {logits[tok]} prs {prs[tok]}\")\n",
    "            elif i == 0 and not tok in correct_answers:\n",
    "                if not printed_prompt:\n",
    "                    print(\"prompt\", input)\n",
    "                    printed_prompt = True\n",
    "                print(f\"  incorrect top {i} token {repr(model.tokenizer.decode([tok]))} logit {logits[tok]} prs {prs[tok]}\")\n",
    "                printed = True\n",
    "            if tok in correct_answers:\n",
    "                break\n",
    "        if printed:\n",
    "            print()\n",
    "\n",
    "def eval(model, data, correct, incorrect, constrain_to_answers, **kwargs):\n",
    "        num_examples = correct.size()[0]\n",
    "        logits = model(data, **kwargs)[:,-1]\n",
    "        pad = get_pad_token(tokenizer=model.tokenizer)\n",
    "        logits[:,pad] = -torch.inf # manually set pad pr to -inf logit because sometimes we need to pad num correct or num incorrect\n",
    "\n",
    "        n_data, n_correct = correct.size()\n",
    "        n_data, n_incorrect = incorrect.size()\n",
    "\n",
    "        if constrain_to_answers:\n",
    "            # [n_data, n_correct]\n",
    "            correct_logits = index_into(logits, correct)\n",
    "            # [n_data, n_incorrect]\n",
    "            incorrect_logits = index_into(logits, incorrect)\n",
    "            # [n_data, n_correct + n_incorrect]\n",
    "            combined_logits = torch.concatenate([correct_logits, incorrect_logits], dim=1)\n",
    "            combined_prs = torch.softmax(combined_logits, dim=1)\n",
    "            biggest = torch.argsort(-combined_prs, dim=1)\n",
    "            # if biggest pr is in the correct, we are correct, otherwise, we are not\n",
    "            num_correct = torch.sum(biggest[:,0] < n_correct)\n",
    "    \n",
    "            correct_prs, incorrect_prs = combined_prs.split([n_correct, n_incorrect], dim=1)\n",
    "        else:\n",
    "            prs = torch.nn.functional.softmax(logits, dim=1)\n",
    "            # [n_data, n_correct]\n",
    "            correct_prs = index_into(prs, correct)\n",
    "            # [n_data, n_incorrect]\n",
    "            incorrect_prs = index_into(prs, incorrect)\n",
    "            # [n_data, 1]\n",
    "            top_tokens = torch.topk(logits, 1, dim=1).indices\n",
    "            # [n_data, n_correct]\n",
    "            in_correct = top_tokens == correct\n",
    "            # [n_data]\n",
    "            has_any_correct = torch.any(in_correct, dim=1)\n",
    "            # [1]\n",
    "            num_correct = torch.sum(has_any_correct)\n",
    "    \n",
    "        # the sum(dim=1) is because we or of all the different possible probabilities by summing\n",
    "        # then we'll just report the average\n",
    "        return torch.mean(correct_prs.sum(dim=1)).item(), torch.mean(incorrect_prs.sum(dim=1)).item(), num_correct.item()/float(n_data)\n",
    "\n",
    "def add_padding_answers(tokenizer, answers):\n",
    "    longest_len = len(max(answers, key=lambda x: len(x)))\n",
    "    padded_answers = []\n",
    "    pad_token = get_pad_token(tokenizer=tokenizer)\n",
    "    for answer in answers:\n",
    "        padded_answers.append(answer + [pad_token]*(longest_len-len(answer)))\n",
    "    return padded_answers\n",
    "\n",
    "def get_batched_data(data):\n",
    "    batched_data = []\n",
    "    batched_correct = []\n",
    "    batched_incorrect = []\n",
    "    \n",
    "    for i, (prompt, corrects, incorrects) in enumerate(data):\n",
    "        if i < 3:\n",
    "            print(prompt, corrects, incorrects)\n",
    "        batched_data.append(torch.tensor(model.tokenizer.encode(prompt), device=model.cfg.device))\n",
    "        batched_correct.append([model.tokenizer.encode(correct)[0] for correct in corrects])\n",
    "        batched_incorrect.append([model.tokenizer.encode(incorrect)[0] for incorrect in incorrects])\n",
    "    try:\n",
    "        batched_data = torch.stack(batched_data)\n",
    "        batched_correct = torch.tensor(add_padding_answers(tokenizer=model.tokenizer, answers=batched_correct), device=model.cfg.device)\n",
    "        batched_incorrect = torch.tensor(add_padding_answers(tokenizer=model.tokenizer, answers=batched_incorrect), device=model.cfg.device)\n",
    "    except RuntimeError:\n",
    "        typical_len = len(batched_data[0])\n",
    "        for s in batched_data:\n",
    "            if not len(s) == typical_len:\n",
    "                print(len(s), \"is len of this, typical len is\", typical_len, \"for sequence\", model.to_str_tokens(s))\n",
    "        raise\n",
    "    return batched_data, batched_correct, batched_incorrect\n",
    "\n",
    "def bar_chart(data, x_labels, y_label, title, font_size=None):\n",
    "    # it requires a pandas dict with the columns and rows named, annoying\n",
    "    # by default rows and columns are named with ints so we relabel them accordingly\n",
    "    renames = dict([(i, x_labels[i]) for i in range(len(x_labels))])\n",
    "    ps = pd.DataFrame(data.cpu().numpy()).rename(renames, axis='rows').rename({0: y_label}, axis='columns')\n",
    "    fig = px.bar(ps, y=y_label, x=x_labels, title=title)\n",
    "    if not font_size is None:\n",
    "        fig.update_layout(\n",
    "          xaxis = dict(\n",
    "            tickmode='array',\n",
    "            tickvals = x_labels,\n",
    "            ticktext = x_labels, \n",
    "            ),\n",
    "           font=dict(size=font_size, color=\"black\"))\n",
    "        \n",
    "        #fig.update_xaxes(title_font=dict(size=font_size))\n",
    "    \n",
    "    fig.show()"
   ]
  },
  {
   "cell_type": "code",
   "execution_count": 137,
   "id": "440ec1b4-7953-4fd3-b4a2-d71229f5c372",
   "metadata": {},
   "outputs": [
    {
     "name": "stdout",
     "output_type": "stream",
     "text": [
      "data\n",
      " hockeySEQUENTIAL polyrating hockeySEQUENTIAL poly ['rating'] ['<|endoftext|>']\n",
      " marchinginguishMagn bride marchinginguishMagn [' bride'] ['<|endoftext|>']\n",
      " Determine mediationAsh bandwidth Determine mediationAsh [' bandwidth'] ['<|endoftext|>']\n",
      "\n",
      "\n",
      "valid\n",
      "\n",
      "anciesellarUsedrewanciesellarUsed ['rew'] ['<|endoftext|>']\n",
      "SR ARE SinceicatedSR ARE Since ['icated'] ['<|endoftext|>']\n",
      "Level Milanrak cultivLevel Milanrak [' cultiv'] ['<|endoftext|>']\n",
      "\n",
      "\n",
      "test\n",
      "RegisterCALeda MilkRegisterCALeda [' Milk'] ['<|endoftext|>']\n",
      " alignovirus fringe\n",
      " alignovirus fringe ['\\n'] ['<|endoftext|>']\n",
      "ites Bach unauthorized Centerites Bach unauthorized [' Center'] ['<|endoftext|>']\n"
     ]
    }
   ],
   "source": [
    "## Generate data\n",
    "\n",
    "from docstring import docstring_prompt_generator_function\n",
    "from importlib import reload\n",
    "import test_data\n",
    "reload(test_data)\n",
    "from test_data import IOI_generator, BABA_TEMPLATES, greater_than_data_generator, ABC_TEMPLATES, copy_generator\n",
    "\n",
    "out_acc = torch.zeros([model.cfg.n_layers], device=model.cfg.device)\n",
    "out_prs_correct = torch.zeros([model.cfg.n_layers], device=model.cfg.device)\n",
    "out_prs_incorrect = torch.zeros([model.cfg.n_layers], device=model.cfg.device)\n",
    "\n",
    "num_examples = 100\n",
    "\n",
    "seed = 27\n",
    "valid_seed = 37\n",
    "test_seed = 47\n",
    "\n",
    "data_type = 'copy'\n",
    "\n",
    "constrain_to_answers = True\n",
    "\n",
    "if data_type == 'ioi':\n",
    "    data = IOI_generator(templates=[BABA_TEMPLATES[1]], tokenizer=model.tokenizer, num_examples=num_examples, symmetric=True, seed=seed)\n",
    "    valid_data = IOI_generator(templates=[BABA_TEMPLATES[1]], tokenizer=model.tokenizer, num_examples=num_examples, symmetric=True, seed=valid_seed)\n",
    "    test_data = IOI_generator(templates=[BABA_TEMPLATES[1]], tokenizer=model.tokenizer, num_examples=num_examples, symmetric=True, seed=test_seed)\n",
    "elif data_type == 'docstring':\n",
    "    data = docstring_prompt_generator_function(tokenizer=model.tokenizer, num_examples=num_examples, corrupt='random_answer', seed=seed)\n",
    "    valid_data = docstring_prompt_generator_function(tokenizer=model.tokenizer, num_examples=num_examples, corrupt='random_answer', seed=valid_seed)\n",
    "    test_data = docstring_prompt_generator_function(tokenizer=model.tokenizer, num_examples=num_examples, corrupt='random_answer', seed=test_seed)\n",
    "elif data_type == 'greater than':\n",
    "    constrain_to_answers = False\n",
    "    data = greater_than_data_generator(tokenizer=model.tokenizer, num_examples=num_examples, seed=seed)\n",
    "    valid_data = greater_than_data_generator(tokenizer=model.tokenizer, num_examples=num_examples, seed=valid_seed)\n",
    "    test_data = greater_than_data_generator(tokenizer=model.tokenizer, num_examples=num_examples, seed=test_seed)\n",
    "elif data_type == 'copy':\n",
    "    constrain_to_answers = False\n",
    "    copy_seq_len = 4\n",
    "    data = copy_generator(tokenizer=model.tokenizer, num_examples=num_examples, copy_seq_len=copy_seq_len, seed=seed)\n",
    "    valid_data = copy_generator(tokenizer=model.tokenizer, num_examples=num_examples, copy_seq_len=copy_seq_len, seed=valid_seed)\n",
    "    test_data = copy_generator(tokenizer=model.tokenizer, num_examples=num_examples, copy_seq_len=copy_seq_len, seed=test_seed)\n",
    "\n",
    "print(\"data\")\n",
    "batched_data, batched_correct, batched_incorrect = get_batched_data(data)\n",
    "print(\"\\n\\nvalid\\n\")\n",
    "vbatched_data, vbatched_correct, vbatched_incorrect = get_batched_data(valid_data)\n",
    "print(\"\\n\\ntest\")\n",
    "tbatched_data, tbatched_correct, tbatched_incorrect = get_batched_data(test_data)\n",
    "\n"
   ]
  },
  {
   "cell_type": "code",
   "execution_count": 135,
   "id": "630f838d-f2fc-46e8-ba1a-22bbc5e593cb",
   "metadata": {},
   "outputs": [
    {
     "name": "stdout",
     "output_type": "stream",
     "text": [
      "constraining output to answers? False\n",
      "correct pr 0.9416652321815491 incorrect pr 0.022318443283438683 accuracy 0.98\n",
      "[0, 1, 2, 3, 4, 5, 6, 7, 8, 9, 10, 11, 12, 13, 14, 15, 16, 17, 18, 19, 20, 21, 22, 23, 24, 25, 26, 27, 28, 29, 30, 31, 32, 33, 34, 35, 36, 37, 38, 39, 40, 41, 42, 43, 44, 45, 46, 47]\n"
     ]
    },
    {
     "name": "stderr",
     "output_type": "stream",
     "text": [
      "48it [00:12,  3.88it/s]\n"
     ]
    },
    {
     "name": "stdout",
     "output_type": "stream",
     "text": [
      "removing layer 44\n",
      "correct pr 0.9301146268844604 incorrect pr 0.04429662972688675 accuracy 1.0\n",
      "[0, 1, 2, 3, 4, 5, 6, 7, 8, 9, 10, 11, 12, 13, 14, 15, 16, 17, 18, 19, 20, 21, 22, 23, 24, 25, 26, 27, 28, 29, 30, 31, 32, 33, 34, 35, 36, 37, 38, 39, 40, 41, 42, 43, 45, 46, 47]\n"
     ]
    },
    {
     "name": "stderr",
     "output_type": "stream",
     "text": [
      "47it [00:11,  3.93it/s]\n"
     ]
    },
    {
     "name": "stdout",
     "output_type": "stream",
     "text": [
      "removing layer 1\n",
      "correct pr 0.9083428978919983 incorrect pr 0.06023723632097244 accuracy 0.98\n",
      "[0, 2, 3, 4, 5, 6, 7, 8, 9, 10, 11, 12, 13, 14, 15, 16, 17, 18, 19, 20, 21, 22, 23, 24, 25, 26, 27, 28, 29, 30, 31, 32, 33, 34, 35, 36, 37, 38, 39, 40, 41, 42, 43, 45, 46, 47]\n"
     ]
    },
    {
     "name": "stderr",
     "output_type": "stream",
     "text": [
      "46it [00:11,  4.01it/s]\n"
     ]
    },
    {
     "name": "stdout",
     "output_type": "stream",
     "text": [
      "removing layer 2\n",
      "correct pr 0.865223228931427 incorrect pr 0.10106740891933441 accuracy 0.97\n",
      "[0, 3, 4, 5, 6, 7, 8, 9, 10, 11, 12, 13, 14, 15, 16, 17, 18, 19, 20, 21, 22, 23, 24, 25, 26, 27, 28, 29, 30, 31, 32, 33, 34, 35, 36, 37, 38, 39, 40, 41, 42, 43, 45, 46, 47]\n"
     ]
    },
    {
     "name": "stderr",
     "output_type": "stream",
     "text": [
      "45it [00:11,  4.09it/s]\n"
     ]
    },
    {
     "name": "stdout",
     "output_type": "stream",
     "text": [
      "removing layer 6\n",
      "correct pr 0.8724905252456665 incorrect pr 0.09306599199771881 accuracy 0.99\n",
      "[0, 3, 4, 5, 7, 8, 9, 10, 11, 12, 13, 14, 15, 16, 17, 18, 19, 20, 21, 22, 23, 24, 25, 26, 27, 28, 29, 30, 31, 32, 33, 34, 35, 36, 37, 38, 39, 40, 41, 42, 43, 45, 46, 47]\n"
     ]
    },
    {
     "name": "stderr",
     "output_type": "stream",
     "text": [
      "44it [00:10,  4.17it/s]\n"
     ]
    },
    {
     "name": "stdout",
     "output_type": "stream",
     "text": [
      "removing layer 7\n",
      "correct pr 0.8958735466003418 incorrect pr 0.06687082350254059 accuracy 0.98\n",
      "[0, 3, 4, 5, 8, 9, 10, 11, 12, 13, 14, 15, 16, 17, 18, 19, 20, 21, 22, 23, 24, 25, 26, 27, 28, 29, 30, 31, 32, 33, 34, 35, 36, 37, 38, 39, 40, 41, 42, 43, 45, 46, 47]\n"
     ]
    },
    {
     "name": "stderr",
     "output_type": "stream",
     "text": [
      "43it [00:10,  4.25it/s]\n"
     ]
    },
    {
     "name": "stdout",
     "output_type": "stream",
     "text": [
      "removing layer 3\n",
      "correct pr 0.888591468334198 incorrect pr 0.06958553940057755 accuracy 0.99\n",
      "[0, 4, 5, 8, 9, 10, 11, 12, 13, 14, 15, 16, 17, 18, 19, 20, 21, 22, 23, 24, 25, 26, 27, 28, 29, 30, 31, 32, 33, 34, 35, 36, 37, 38, 39, 40, 41, 42, 43, 45, 46, 47]\n"
     ]
    },
    {
     "name": "stderr",
     "output_type": "stream",
     "text": [
      "42it [00:09,  4.35it/s]\n"
     ]
    },
    {
     "name": "stdout",
     "output_type": "stream",
     "text": [
      "removing layer 5\n",
      "correct pr 0.8801690340042114 incorrect pr 0.06894385814666748 accuracy 0.99\n",
      "[0, 4, 8, 9, 10, 11, 12, 13, 14, 15, 16, 17, 18, 19, 20, 21, 22, 23, 24, 25, 26, 27, 28, 29, 30, 31, 32, 33, 34, 35, 36, 37, 38, 39, 40, 41, 42, 43, 45, 46, 47]\n"
     ]
    },
    {
     "name": "stderr",
     "output_type": "stream",
     "text": [
      "41it [00:09,  4.45it/s]\n"
     ]
    },
    {
     "name": "stdout",
     "output_type": "stream",
     "text": [
      "removing layer 8\n",
      "correct pr 0.8857265114784241 incorrect pr 0.06659113615751266 accuracy 0.98\n",
      "[0, 4, 9, 10, 11, 12, 13, 14, 15, 16, 17, 18, 19, 20, 21, 22, 23, 24, 25, 26, 27, 28, 29, 30, 31, 32, 33, 34, 35, 36, 37, 38, 39, 40, 41, 42, 43, 45, 46, 47]\n"
     ]
    },
    {
     "name": "stderr",
     "output_type": "stream",
     "text": [
      "40it [00:08,  4.56it/s]\n"
     ]
    },
    {
     "name": "stdout",
     "output_type": "stream",
     "text": [
      "removing layer 10\n",
      "correct pr 0.8830859065055847 incorrect pr 0.07275109738111496 accuracy 0.99\n",
      "[0, 4, 9, 11, 12, 13, 14, 15, 16, 17, 18, 19, 20, 21, 22, 23, 24, 25, 26, 27, 28, 29, 30, 31, 32, 33, 34, 35, 36, 37, 38, 39, 40, 41, 42, 43, 45, 46, 47]\n"
     ]
    },
    {
     "name": "stderr",
     "output_type": "stream",
     "text": [
      "39it [00:08,  4.66it/s]\n"
     ]
    },
    {
     "name": "stdout",
     "output_type": "stream",
     "text": [
      "removing layer 13\n",
      "correct pr 0.8414223790168762 incorrect pr 0.10089991241693497 accuracy 0.97\n",
      "[0, 4, 9, 11, 12, 14, 15, 16, 17, 18, 19, 20, 21, 22, 23, 24, 25, 26, 27, 28, 29, 30, 31, 32, 33, 34, 35, 36, 37, 38, 39, 40, 41, 42, 43, 45, 46, 47]\n"
     ]
    },
    {
     "name": "stderr",
     "output_type": "stream",
     "text": [
      "38it [00:07,  4.77it/s]\n"
     ]
    },
    {
     "name": "stdout",
     "output_type": "stream",
     "text": [
      "removing layer 14\n",
      "correct pr 0.8005134463310242 incorrect pr 0.11747725307941437 accuracy 0.98\n",
      "[0, 4, 9, 11, 12, 15, 16, 17, 18, 19, 20, 21, 22, 23, 24, 25, 26, 27, 28, 29, 30, 31, 32, 33, 34, 35, 36, 37, 38, 39, 40, 41, 42, 43, 45, 46, 47]\n"
     ]
    },
    {
     "name": "stderr",
     "output_type": "stream",
     "text": [
      "37it [00:07,  4.91it/s]\n"
     ]
    },
    {
     "name": "stdout",
     "output_type": "stream",
     "text": [
      "removing layer 4\n",
      "correct pr 0.8006725907325745 incorrect pr 0.11583003401756287 accuracy 0.98\n",
      "[0, 9, 11, 12, 15, 16, 17, 18, 19, 20, 21, 22, 23, 24, 25, 26, 27, 28, 29, 30, 31, 32, 33, 34, 35, 36, 37, 38, 39, 40, 41, 42, 43, 45, 46, 47]\n"
     ]
    },
    {
     "name": "stderr",
     "output_type": "stream",
     "text": [
      "36it [00:07,  5.04it/s]\n"
     ]
    },
    {
     "name": "stdout",
     "output_type": "stream",
     "text": [
      "removing layer 37\n",
      "correct pr 0.6978604197502136 incorrect pr 0.2063140869140625 accuracy 0.97\n",
      "[0, 9, 11, 12, 15, 16, 17, 18, 19, 20, 21, 22, 23, 24, 25, 26, 27, 28, 29, 30, 31, 32, 33, 34, 35, 36, 38, 39, 40, 41, 42, 43, 45, 46, 47]\n"
     ]
    },
    {
     "name": "stderr",
     "output_type": "stream",
     "text": [
      "35it [00:06,  5.16it/s]\n"
     ]
    },
    {
     "name": "stdout",
     "output_type": "stream",
     "text": [
      "removing layer 30\n",
      "correct pr 0.6720374822616577 incorrect pr 0.21041597425937653 accuracy 0.92\n",
      "[0, 9, 11, 12, 15, 16, 17, 18, 19, 20, 21, 22, 23, 24, 25, 26, 27, 28, 29, 31, 32, 33, 34, 35, 36, 38, 39, 40, 41, 42, 43, 45, 46, 47]\n"
     ]
    },
    {
     "name": "stderr",
     "output_type": "stream",
     "text": [
      "34it [00:06,  5.32it/s]\n"
     ]
    },
    {
     "name": "stdout",
     "output_type": "stream",
     "text": [
      "removing layer 27\n",
      "correct pr 0.6629920601844788 incorrect pr 0.18776153028011322 accuracy 0.9\n",
      "[0, 9, 11, 12, 15, 16, 17, 18, 19, 20, 21, 22, 23, 24, 25, 26, 28, 29, 31, 32, 33, 34, 35, 36, 38, 39, 40, 41, 42, 43, 45, 46, 47]\n"
     ]
    },
    {
     "name": "stderr",
     "output_type": "stream",
     "text": [
      "33it [00:06,  5.49it/s]\n"
     ]
    },
    {
     "name": "stdout",
     "output_type": "stream",
     "text": [
      "removing layer 35\n",
      "correct pr 0.695491373538971 incorrect pr 0.15639548003673553 accuracy 0.93\n",
      "[0, 9, 11, 12, 15, 16, 17, 18, 19, 20, 21, 22, 23, 24, 25, 26, 28, 29, 31, 32, 33, 34, 36, 38, 39, 40, 41, 42, 43, 45, 46, 47]\n"
     ]
    },
    {
     "name": "stderr",
     "output_type": "stream",
     "text": [
      "32it [00:05,  5.63it/s]\n"
     ]
    },
    {
     "name": "stdout",
     "output_type": "stream",
     "text": [
      "removing layer 38\n",
      "correct pr 0.6469871401786804 incorrect pr 0.15386182069778442 accuracy 0.91\n",
      "[0, 9, 11, 12, 15, 16, 17, 18, 19, 20, 21, 22, 23, 24, 25, 26, 28, 29, 31, 32, 33, 34, 36, 39, 40, 41, 42, 43, 45, 46, 47]\n"
     ]
    },
    {
     "name": "stderr",
     "output_type": "stream",
     "text": [
      "31it [00:05,  5.83it/s]\n"
     ]
    },
    {
     "name": "stdout",
     "output_type": "stream",
     "text": [
      "removing layer 32\n",
      "correct pr 0.641823947429657 incorrect pr 0.12282224744558334 accuracy 0.9\n",
      "[0, 9, 11, 12, 15, 16, 17, 18, 19, 20, 21, 22, 23, 24, 25, 26, 28, 29, 31, 33, 34, 36, 39, 40, 41, 42, 43, 45, 46, 47]\n"
     ]
    },
    {
     "name": "stderr",
     "output_type": "stream",
     "text": [
      "30it [00:04,  6.03it/s]\n"
     ]
    },
    {
     "name": "stdout",
     "output_type": "stream",
     "text": [
      "removing layer 21\n",
      "correct pr 0.5747432708740234 incorrect pr 0.12725624442100525 accuracy 0.88\n",
      "[0, 9, 11, 12, 15, 16, 17, 18, 19, 20, 22, 23, 24, 25, 26, 28, 29, 31, 33, 34, 36, 39, 40, 41, 42, 43, 45, 46, 47]\n"
     ]
    },
    {
     "name": "stderr",
     "output_type": "stream",
     "text": [
      "29it [00:04,  6.22it/s]\n"
     ]
    },
    {
     "name": "stdout",
     "output_type": "stream",
     "text": [
      "removing layer 15\n",
      "correct pr 0.5333713889122009 incorrect pr 0.2086137980222702 accuracy 0.88\n",
      "[0, 9, 11, 12, 16, 17, 18, 19, 20, 22, 23, 24, 25, 26, 28, 29, 31, 33, 34, 36, 39, 40, 41, 42, 43, 45, 46, 47]\n"
     ]
    },
    {
     "name": "stderr",
     "output_type": "stream",
     "text": [
      "28it [00:04,  6.42it/s]\n"
     ]
    },
    {
     "name": "stdout",
     "output_type": "stream",
     "text": [
      "removing layer 17\n",
      "correct pr 0.5793988108634949 incorrect pr 0.17427322268486023 accuracy 0.89\n",
      "[0, 9, 11, 12, 16, 18, 19, 20, 22, 23, 24, 25, 26, 28, 29, 31, 33, 34, 36, 39, 40, 41, 42, 43, 45, 46, 47]\n"
     ]
    },
    {
     "name": "stderr",
     "output_type": "stream",
     "text": [
      "27it [00:04,  6.64it/s]\n"
     ]
    },
    {
     "name": "stdout",
     "output_type": "stream",
     "text": [
      "removing layer 43\n",
      "correct pr 0.6446154713630676 incorrect pr 0.15105655789375305 accuracy 0.91\n",
      "[0, 9, 11, 12, 16, 18, 19, 20, 22, 23, 24, 25, 26, 28, 29, 31, 33, 34, 36, 39, 40, 41, 42, 45, 46, 47]\n"
     ]
    },
    {
     "name": "stderr",
     "output_type": "stream",
     "text": [
      "26it [00:03,  6.92it/s]\n"
     ]
    },
    {
     "name": "stdout",
     "output_type": "stream",
     "text": [
      "removing layer 39\n",
      "correct pr 0.6292223334312439 incorrect pr 0.13182476162910461 accuracy 0.95\n",
      "[0, 9, 11, 12, 16, 18, 19, 20, 22, 23, 24, 25, 26, 28, 29, 31, 33, 34, 36, 40, 41, 42, 45, 46, 47]\n"
     ]
    },
    {
     "name": "stderr",
     "output_type": "stream",
     "text": [
      "25it [00:03,  7.19it/s]\n"
     ]
    },
    {
     "name": "stdout",
     "output_type": "stream",
     "text": [
      "removing layer 28\n",
      "correct pr 0.6500760316848755 incorrect pr 0.11759068816900253 accuracy 0.92\n",
      "[0, 9, 11, 12, 16, 18, 19, 20, 22, 23, 24, 25, 26, 29, 31, 33, 34, 36, 40, 41, 42, 45, 46, 47]\n"
     ]
    },
    {
     "name": "stderr",
     "output_type": "stream",
     "text": [
      "24it [00:03,  7.47it/s]\n"
     ]
    },
    {
     "name": "stdout",
     "output_type": "stream",
     "text": [
      "removing layer 24\n",
      "correct pr 0.5662173628807068 incorrect pr 0.11292890459299088 accuracy 0.84\n",
      "[0, 9, 11, 12, 16, 18, 19, 20, 22, 23, 25, 26, 29, 31, 33, 34, 36, 40, 41, 42, 45, 46, 47]\n"
     ]
    },
    {
     "name": "stderr",
     "output_type": "stream",
     "text": [
      "23it [00:02,  7.82it/s]\n"
     ]
    },
    {
     "name": "stdout",
     "output_type": "stream",
     "text": [
      "removing layer 18\n",
      "correct pr 0.5793377757072449 incorrect pr 0.1464317888021469 accuracy 0.84\n",
      "[0, 9, 11, 12, 16, 19, 20, 22, 23, 25, 26, 29, 31, 33, 34, 36, 40, 41, 42, 45, 46, 47]\n"
     ]
    },
    {
     "name": "stderr",
     "output_type": "stream",
     "text": [
      "22it [00:02,  8.17it/s]\n"
     ]
    },
    {
     "name": "stdout",
     "output_type": "stream",
     "text": [
      "removing layer 9\n",
      "correct pr 0.5326038002967834 incorrect pr 0.1770275980234146 accuracy 0.79\n",
      "[0, 11, 12, 16, 19, 20, 22, 23, 25, 26, 29, 31, 33, 34, 36, 40, 41, 42, 45, 46, 47]\n"
     ]
    },
    {
     "name": "stderr",
     "output_type": "stream",
     "text": [
      "21it [00:02,  8.54it/s]\n"
     ]
    },
    {
     "name": "stdout",
     "output_type": "stream",
     "text": [
      "removing layer 26\n",
      "correct pr 0.4558819532394409 incorrect pr 0.18182574212551117 accuracy 0.73\n",
      "[0, 11, 12, 16, 19, 20, 22, 23, 25, 29, 31, 33, 34, 36, 40, 41, 42, 45, 46, 47]\n"
     ]
    },
    {
     "name": "stderr",
     "output_type": "stream",
     "text": [
      "20it [00:02,  8.93it/s]\n"
     ]
    },
    {
     "name": "stdout",
     "output_type": "stream",
     "text": [
      "removing layer 31\n",
      "correct pr 0.5103229880332947 incorrect pr 0.1997438222169876 accuracy 0.74\n",
      "[0, 11, 12, 16, 19, 20, 22, 23, 25, 29, 33, 34, 36, 40, 41, 42, 45, 46, 47]\n"
     ]
    },
    {
     "name": "stderr",
     "output_type": "stream",
     "text": [
      "19it [00:02,  9.32it/s]\n"
     ]
    },
    {
     "name": "stdout",
     "output_type": "stream",
     "text": [
      "removing layer 42\n",
      "correct pr 0.4661678075790405 incorrect pr 0.2170390486717224 accuracy 0.67\n",
      "[0, 11, 12, 16, 19, 20, 22, 23, 25, 29, 33, 34, 36, 40, 41, 45, 46, 47]\n"
     ]
    },
    {
     "name": "stderr",
     "output_type": "stream",
     "text": [
      "18it [00:01,  9.86it/s]\n"
     ]
    },
    {
     "name": "stdout",
     "output_type": "stream",
     "text": [
      "removing layer 23\n",
      "correct pr 0.4013274312019348 incorrect pr 0.27964481711387634 accuracy 0.53\n",
      "[0, 11, 12, 16, 19, 20, 22, 25, 29, 33, 34, 36, 40, 41, 45, 46, 47]\n"
     ]
    },
    {
     "name": "stderr",
     "output_type": "stream",
     "text": [
      "17it [00:01, 10.58it/s]\n"
     ]
    },
    {
     "name": "stdout",
     "output_type": "stream",
     "text": [
      "removing layer 33\n",
      "correct pr 0.3405931890010834 incorrect pr 0.14059171080589294 accuracy 0.56\n",
      "[0, 11, 12, 16, 19, 20, 22, 25, 29, 34, 36, 40, 41, 45, 46, 47]\n"
     ]
    },
    {
     "name": "stderr",
     "output_type": "stream",
     "text": [
      "16it [00:01, 11.08it/s]\n"
     ]
    },
    {
     "name": "stdout",
     "output_type": "stream",
     "text": [
      "removing layer 25\n",
      "correct pr 0.31950706243515015 incorrect pr 0.11835645139217377 accuracy 0.47\n",
      "[0, 11, 12, 16, 19, 20, 22, 29, 34, 36, 40, 41, 45, 46, 47]\n"
     ]
    },
    {
     "name": "stderr",
     "output_type": "stream",
     "text": [
      "15it [00:01, 11.95it/s]\n"
     ]
    },
    {
     "name": "stdout",
     "output_type": "stream",
     "text": [
      "removing layer 20\n",
      "correct pr 0.37109375 incorrect pr 0.17692506313323975 accuracy 0.56\n",
      "[0, 11, 12, 16, 19, 22, 29, 34, 36, 40, 41, 45, 46, 47]\n"
     ]
    },
    {
     "name": "stderr",
     "output_type": "stream",
     "text": [
      "14it [00:01, 12.70it/s]\n"
     ]
    },
    {
     "name": "stdout",
     "output_type": "stream",
     "text": [
      "removing layer 22\n",
      "correct pr 0.33097606897354126 incorrect pr 0.2744859755039215 accuracy 0.47\n",
      "[0, 11, 12, 16, 19, 29, 34, 36, 40, 41, 45, 46, 47]\n"
     ]
    },
    {
     "name": "stderr",
     "output_type": "stream",
     "text": [
      "13it [00:00, 13.52it/s]\n"
     ]
    },
    {
     "name": "stdout",
     "output_type": "stream",
     "text": [
      "removing layer 47\n",
      "correct pr 0.18816085159778595 incorrect pr 0.1205839142203331 accuracy 0.28\n",
      "[0, 11, 12, 16, 19, 29, 34, 36, 40, 41, 45, 46]\n"
     ]
    },
    {
     "name": "stderr",
     "output_type": "stream",
     "text": [
      "12it [00:00, 14.68it/s]\n"
     ]
    },
    {
     "name": "stdout",
     "output_type": "stream",
     "text": [
      "removing layer 46\n",
      "correct pr 0.25393664836883545 incorrect pr 0.12683574855327606 accuracy 0.28\n",
      "[0, 11, 12, 16, 19, 29, 34, 36, 40, 41, 45]\n"
     ]
    },
    {
     "name": "stderr",
     "output_type": "stream",
     "text": [
      "11it [00:00, 16.09it/s]\n"
     ]
    },
    {
     "name": "stdout",
     "output_type": "stream",
     "text": [
      "removing layer 40\n",
      "correct pr 0.18899941444396973 incorrect pr 0.2514665424823761 accuracy 0.16\n",
      "[0, 11, 12, 16, 19, 29, 34, 36, 41, 45]\n"
     ]
    },
    {
     "name": "stderr",
     "output_type": "stream",
     "text": [
      "10it [00:00, 17.71it/s]\n"
     ]
    },
    {
     "name": "stdout",
     "output_type": "stream",
     "text": [
      "removing layer 45\n",
      "correct pr 0.10888675600290298 incorrect pr 0.18930891156196594 accuracy 0.09\n",
      "[0, 11, 12, 16, 19, 29, 34, 36, 41]\n"
     ]
    },
    {
     "name": "stderr",
     "output_type": "stream",
     "text": [
      "9it [00:00, 19.57it/s]\n"
     ]
    },
    {
     "name": "stdout",
     "output_type": "stream",
     "text": [
      "removing layer 41\n",
      "correct pr 0.0913357138633728 incorrect pr 0.19442707300186157 accuracy 0.09\n",
      "[0, 11, 12, 16, 19, 29, 34, 36]\n"
     ]
    },
    {
     "name": "stderr",
     "output_type": "stream",
     "text": [
      "8it [00:00, 22.12it/s]\n"
     ]
    },
    {
     "name": "stdout",
     "output_type": "stream",
     "text": [
      "removing layer 29\n",
      "correct pr 0.30809980630874634 incorrect pr 0.274895578622818 accuracy 0.34\n",
      "[0, 11, 12, 16, 19, 34, 36]\n"
     ]
    },
    {
     "name": "stderr",
     "output_type": "stream",
     "text": [
      "7it [00:00, 25.10it/s]\n"
     ]
    },
    {
     "name": "stdout",
     "output_type": "stream",
     "text": [
      "removing layer 11\n",
      "correct pr 0.19844909012317657 incorrect pr 0.7124673128128052 accuracy 0.18\n",
      "[0, 12, 16, 19, 34, 36]\n"
     ]
    },
    {
     "name": "stderr",
     "output_type": "stream",
     "text": [
      "6it [00:00, 29.06it/s]\n"
     ]
    },
    {
     "name": "stdout",
     "output_type": "stream",
     "text": [
      "removing layer 19\n",
      "correct pr 0.356290727853775 incorrect pr 0.6037721633911133 accuracy 0.37\n",
      "[0, 12, 16, 34, 36]\n"
     ]
    },
    {
     "name": "stderr",
     "output_type": "stream",
     "text": [
      "5it [00:00, 34.52it/s]\n"
     ]
    },
    {
     "name": "stdout",
     "output_type": "stream",
     "text": [
      "removing layer 12\n",
      "correct pr 0.1555977314710617 incorrect pr 0.2829076647758484 accuracy 0.15\n",
      "[0, 16, 34, 36]\n"
     ]
    },
    {
     "name": "stderr",
     "output_type": "stream",
     "text": [
      "4it [00:00, 43.51it/s]\n"
     ]
    },
    {
     "name": "stdout",
     "output_type": "stream",
     "text": [
      "removing layer 16\n",
      "correct pr 0.23211322724819183 incorrect pr 0.5234177112579346 accuracy 0.24\n",
      "[0, 34, 36]\n"
     ]
    },
    {
     "name": "stderr",
     "output_type": "stream",
     "text": [
      "3it [00:00, 57.58it/s]\n"
     ]
    },
    {
     "name": "stdout",
     "output_type": "stream",
     "text": [
      "removing layer 34\n",
      "correct pr 0.0862603634595871 incorrect pr 0.9050986766815186 accuracy 0.08\n",
      "[0, 36]\n"
     ]
    },
    {
     "name": "stderr",
     "output_type": "stream",
     "text": [
      "2it [00:00, 82.48it/s]\n"
     ]
    },
    {
     "name": "stdout",
     "output_type": "stream",
     "text": [
      "removing layer 0\n",
      "correct pr 0.05642598867416382 incorrect pr 0.3803967237472534 accuracy 0.06\n",
      "[36]\n"
     ]
    },
    {
     "name": "stderr",
     "output_type": "stream",
     "text": [
      "1it [00:00, 148.50it/s]"
     ]
    },
    {
     "name": "stdout",
     "output_type": "stream",
     "text": [
      "removing layer 36\n"
     ]
    },
    {
     "name": "stderr",
     "output_type": "stream",
     "text": [
      "\n"
     ]
    }
   ],
   "source": [
    "## Run the layer removal experiments\n",
    "pr_is_relative = constrain_to_answers\n",
    "relative_str = ' relative ' if constrain_to_answers else ' '\n",
    "\n",
    "print(f\"constraining output to answers? {constrain_to_answers}\")\n",
    "\n",
    "history = []\n",
    "history_stats = []\n",
    "layers_to_remove = []\n",
    "while len(layers_to_remove) < model.cfg.n_layers:\n",
    "    base_layers = list(range(model.cfg.n_layers))\n",
    "\n",
    "\n",
    "    for layer in layers_to_remove:\n",
    "        base_layers.remove(layer)\n",
    "    history.append(list(base_layers))\n",
    "    \n",
    "    correct, incorrect, acc = eval(model, vbatched_data, vbatched_correct, vbatched_incorrect,\n",
    "                                      only_use_these_layers=base_layers, fast_ssm=True, fast_conv=True,\n",
    "                                      constrain_to_answers=constrain_to_answers)\n",
    "    print(f\"correct{relative_str}pr {correct} incorrect{relative_str}pr {incorrect} accuracy {acc}\")\n",
    "    history_stats.append((correct, incorrect, acc))\n",
    "    print(base_layers)\n",
    "    \n",
    "    for i, start_layer in tqdm.tqdm(enumerate(base_layers)):\n",
    "        #layers = list(range(start_layer, end_layer+1))\n",
    "        layers = list(base_layers)\n",
    "        layers.remove(start_layer)\n",
    "\n",
    "        \n",
    "        correct, incorrect, acc = eval(model, batched_data, batched_correct, batched_incorrect,\n",
    "                                      only_use_these_layers=layers, fast_ssm=True, fast_conv=True,\n",
    "                                      constrain_to_answers=constrain_to_answers)\n",
    "        out_prs_correct[i] = correct\n",
    "        out_prs_incorrect[i] = incorrect\n",
    "        out_acc[i] = acc\n",
    "        \n",
    "    \n",
    "    best_layer_to_remove = base_layers[torch.argsort(-out_acc[:len(base_layers)])[0]]\n",
    "    print(\"removing layer\", best_layer_to_remove)\n",
    "    layer_names = [f'layer {x}' for x in base_layers]\n",
    "    layers_to_remove.append(best_layer_to_remove)\n",
    "\n",
    "history_stats = torch.tensor(history_stats)"
   ]
  },
  {
   "cell_type": "code",
   "execution_count": 130,
   "id": "0f355bc2-be2f-4aec-a792-4a83b456ad00",
   "metadata": {},
   "outputs": [
    {
     "name": "stdout",
     "output_type": "stream",
     "text": [
      "constraining output to answers? True\n",
      "\n",
      "test set eval results: correct relative pr 0.8834324479103088 incorrect relative pr 0.11656749248504639 accuracy 0.88\n",
      "\n",
      "prompt Then, Lauren and Philippine had a lot of fun at the store. Lauren gave a drink to\n",
      "  incorrect top 0 token ' Lauren' logit -3.870558261871338 prs 0.9999974966049194\n",
      "  correct top 1 token ' Philippine' logit -16.759098052978516 prs 2.5268357148888754e-06\n",
      "\n",
      "prompt Then, Brooks and Joey had a lot of fun at the house. Joey gave a computer to\n",
      "  incorrect top 0 token ' Joey' logit -8.86937141418457 prs 0.9994902610778809\n",
      "  correct top 1 token ' Brooks' logit -16.450414657592773 prs 0.0005097688990645111\n",
      "\n",
      "prompt Then, Rey and Kathleen had a lot of fun at the store. Kathleen gave a snack to\n",
      "  incorrect top 0 token ' Kathleen' logit -22.520671844482422 prs 0.9999997615814209\n",
      "  correct top 1 token ' Rey' logit -37.748329162597656 prs 2.4361966666219814e-07\n",
      "\n",
      "prompt Then, Olive and Kyle had a lot of fun at the restaurant. Kyle gave a snack to\n",
      "  incorrect top 0 token ' Kyle' logit -24.215248107910156 prs 0.773354172706604\n",
      "  correct top 1 token ' Olive' logit -25.442596435546875 prs 0.22664587199687958\n",
      "\n",
      "prompt Then, Row and Dallas had a lot of fun at the garden. Row gave a kiss to\n",
      "  incorrect top 0 token ' Row' logit -13.493858337402344 prs 0.9998014569282532\n",
      "  correct top 1 token ' Dallas' logit -22.01827049255371 prs 0.00019852198602166027\n",
      "\n",
      "prompt Then, Faith and Sher had a lot of fun at the office. Sher gave a drink to\n",
      "  incorrect top 0 token ' Sher' logit 36.077850341796875 prs 0.999984860420227\n",
      "  correct top 1 token ' Faith' logit 24.9815731048584 prs 1.5168458958214615e-05\n",
      "\n",
      "prompt Then, Juliet and Sharon had a lot of fun at the house. Sharon gave a kiss to\n",
      "  incorrect top 0 token ' Sharon' logit -19.186986923217773 prs 0.9995469450950623\n",
      "  correct top 1 token ' Juliet' logit -26.886184692382812 prs 0.00045298528857529163\n",
      "\n",
      "prompt Then, Geneva and Amber had a lot of fun at the restaurant. Amber gave a bone to\n",
      "  incorrect top 0 token ' Amber' logit 2.3176422119140625 prs 1.0\n",
      "  correct top 1 token ' Geneva' logit -26.42057991027832 prs 3.3048268440437345e-13\n",
      "\n",
      "prompt Then, Claude and Danny had a lot of fun at the office. Danny gave a ring to\n",
      "  incorrect top 0 token ' Danny' logit 7.204087257385254 prs 1.0\n",
      "  correct top 1 token ' Claude' logit -26.379383087158203 prs 2.5994685174329053e-15\n",
      "\n",
      "prompt Then, Shawn and Tony had a lot of fun at the station. Shawn gave a necklace to\n",
      "  incorrect top 0 token ' Shawn' logit 1.1191530227661133 prs 0.609406054019928\n",
      "  correct top 1 token ' Tony' logit 0.6743369102478027 prs 0.3905940055847168\n",
      "\n",
      "prompt Then, Liz and Cary had a lot of fun at the office. Cary gave a computer to\n",
      "  incorrect top 0 token ' Cary' logit -22.00395393371582 prs 0.9505753517150879\n",
      "  correct top 1 token ' Liz' logit -24.960573196411133 prs 0.04942459613084793\n",
      "\n",
      "prompt Then, Cary and Penny had a lot of fun at the office. Cary gave a necklace to\n",
      "  incorrect top 0 token ' Cary' logit -2.8857641220092773 prs 0.8345947861671448\n",
      "  correct top 1 token ' Penny' logit -4.504312038421631 prs 0.16540522873401642\n",
      "\n",
      "prompt Then, Amy and Mil had a lot of fun at the garden. Amy gave a snack to\n",
      "  incorrect top 0 token ' Amy' logit 12.835884094238281 prs 0.9999567270278931\n",
      "  correct top 1 token ' Mil' logit 2.7884562015533447 prs 4.3295087380101904e-05\n",
      "\n",
      "prompt Then, Amy and Mil had a lot of fun at the garden. Mil gave a snack to\n",
      "  incorrect top 0 token ' Mil' logit 12.2907133102417 prs 0.9952458739280701\n",
      "  correct top 1 token ' Amy' logit 6.9467315673828125 prs 0.004754103720188141\n",
      "\n",
      "prompt Then, Vin and Glenn had a lot of fun at the store. Glenn gave a basketball to\n",
      "  incorrect top 0 token ' Glenn' logit -7.475558280944824 prs 0.9997238516807556\n",
      "  correct top 1 token ' Vin' logit -15.669778823852539 prs 0.00027616924489848316\n",
      "\n",
      "prompt Then, Gay and Ara had a lot of fun at the station. Gay gave a drink to\n",
      "  incorrect top 0 token ' Gay' logit 6.672027587890625 prs 0.9992914199829102\n",
      "  correct top 1 token ' Ara' logit -0.5795536041259766 prs 0.0007085499819368124\n",
      "\n",
      "prompt Then, Dre and Liv had a lot of fun at the garden. Liv gave a kiss to\n",
      "  incorrect top 0 token ' Liv' logit -36.84150695800781 prs 0.9994568228721619\n",
      "  correct top 1 token ' Dre' logit -44.358943939208984 prs 0.0005432286416180432\n",
      "\n",
      "prompt Then, Miranda and Eddie had a lot of fun at the station. Eddie gave a snack to\n",
      "  incorrect top 0 token ' Eddie' logit 5.52833366394043 prs 1.0\n",
      "  correct top 1 token ' Miranda' logit -11.405753135681152 prs 4.4220126227401124e-08\n",
      "\n",
      "prompt Then, Cody and Bab had a lot of fun at the station. Bab gave a ring to\n",
      "  incorrect top 0 token ' Bab' logit 9.280902862548828 prs 0.9999985694885254\n",
      "  correct top 1 token ' Cody' logit -4.171779632568359 prs 1.4373866861205897e-06\n",
      "\n",
      "prompt Then, Meta and Lucy had a lot of fun at the station. Meta gave a computer to\n",
      "  incorrect top 0 token ' Meta' logit 2.9768002033233643 prs 0.9999730587005615\n",
      "  correct top 1 token ' Lucy' logit -7.5465240478515625 prs 2.6900897864834405e-05\n",
      "\n",
      "prompt Then, Ira and Cam had a lot of fun at the restaurant. Cam gave a drink to\n",
      "  incorrect top 0 token ' Cam' logit -13.922264099121094 prs 0.9992260932922363\n",
      "  correct top 1 token ' Ira' logit -21.085601806640625 prs 0.0007738659624010324\n",
      "\n",
      "prompt Then, Barry and Liv had a lot of fun at the station. Barry gave a bone to\n",
      "  incorrect top 0 token ' Barry' logit 4.313202857971191 prs 1.0\n",
      "  correct top 1 token ' Liv' logit -15.825745582580566 prs 1.793766135627095e-09\n",
      "\n"
     ]
    }
   ],
   "source": [
    "# pick something from the above output to test on an held out test set\n",
    "# [0, 9, 17, 18, 21, 33, 39] ioi BABA_TEMPLATES[1] 0.86 (also [0, 9, 10, 17, 18, 21, 33, 39] 0.9)\n",
    "# [0, 9, 10, 11, 14, 16, 19, 22, 33, 39] is from ABC_TEMPLATES\n",
    "# [0, 12, 13, 14, 16, 17, 18, 19, 22, 23, 25, 27, 28, 29, 30, 31, 32, 33, 34, 35, 40, 41, 45] docstring 0.81\n",
    "# [0, 12, 13, 14, 16, 17, 18, 19, 20, 21, 22, 23, 24, 25, 27, 28, 29, 30, 31, 32, 33, 34, 35, 40, 41, 44, 45] docstring\n",
    "# [0, 9, 11, 12, 16, 18, 19, 20, 22, 23, 24, 25, 26, 29, 31, 33, 34, 36, 40, 41, 42, 45, 46, 47] greater than\n",
    "# [0, 2, 9, 10, 11, 12, 13, 17, 18, 19, 20, 22, 23, 24, 25, 26, 28, 29, 30, 31, 32, 33, 34, 35, 36, 37, 39, 40, 41, 42, 44, 45, 46, 47] copy\n",
    "print(f\"constraining output to answers? {constrain_to_answers}\")\n",
    "test_layers = [0, 9, 17, 18, 21, 33, 39]\n",
    "\n",
    "correct, incorrect, acc = eval(model, tbatched_data, tbatched_correct, tbatched_incorrect,\n",
    "                                  only_use_these_layers=test_layers, fast_ssm=True, fast_conv=True,\n",
    "                                      constrain_to_answers=constrain_to_answers)\n",
    "print()\n",
    "print(f\"test set eval results: correct{relative_str}pr {correct} incorrect{relative_str}pr {incorrect} accuracy {acc}\")\n",
    "print()\n",
    "eval_debug(model=model,\n",
    "           data=tbatched_data, correct=tbatched_correct, incorrect=tbatched_incorrect,\n",
    "           constrain_to_answers=constrain_to_answers,\n",
    "           only_use_these_layers=test_layers, fast_ssm=True, fast_conv=True)\n"
   ]
  },
  {
   "cell_type": "code",
   "execution_count": 136,
   "id": "5da0be93-5825-415c-aec5-bff16316d215",
   "metadata": {},
   "outputs": [
    {
     "data": {
      "application/vnd.plotly.v1+json": {
       "config": {
        "plotlyServerURL": "https://plot.ly"
       },
       "data": [
        {
         "alignmentgroup": "True",
         "hovertemplate": "x=%{x}<br> pr of correct=%{y}<extra></extra>",
         "legendgroup": "",
         "marker": {
          "color": "#636efa",
          "pattern": {
           "shape": ""
          }
         },
         "name": "",
         "offsetgroup": "",
         "orientation": "v",
         "showlegend": false,
         "textposition": "auto",
         "type": "bar",
         "x": [
          "[0, 1, 2, 3, 4, 5, 6, 7, 8, 9, 10, 11, 12, 13, 14, 15, 16, 17, 18, 19, 20, 21, 22, 23, 24, 25, 26, 27, 28, 29, 30, 31, 32, 33, 34, 35, 36, 37, 38, 39, 40, 41, 42, 43, 44, 45, 46, 47]",
          "[0, 1, 2, 3, 4, 5, 6, 7, 8, 9, 10, 11, 12, 13, 14, 15, 16, 17, 18, 19, 20, 21, 22, 23, 24, 25, 26, 27, 28, 29, 30, 31, 32, 33, 34, 35, 36, 37, 38, 39, 40, 41, 42, 43, 45, 46, 47]",
          "[0, 2, 3, 4, 5, 6, 7, 8, 9, 10, 11, 12, 13, 14, 15, 16, 17, 18, 19, 20, 21, 22, 23, 24, 25, 26, 27, 28, 29, 30, 31, 32, 33, 34, 35, 36, 37, 38, 39, 40, 41, 42, 43, 45, 46, 47]",
          "[0, 3, 4, 5, 6, 7, 8, 9, 10, 11, 12, 13, 14, 15, 16, 17, 18, 19, 20, 21, 22, 23, 24, 25, 26, 27, 28, 29, 30, 31, 32, 33, 34, 35, 36, 37, 38, 39, 40, 41, 42, 43, 45, 46, 47]",
          "[0, 3, 4, 5, 7, 8, 9, 10, 11, 12, 13, 14, 15, 16, 17, 18, 19, 20, 21, 22, 23, 24, 25, 26, 27, 28, 29, 30, 31, 32, 33, 34, 35, 36, 37, 38, 39, 40, 41, 42, 43, 45, 46, 47]",
          "[0, 3, 4, 5, 8, 9, 10, 11, 12, 13, 14, 15, 16, 17, 18, 19, 20, 21, 22, 23, 24, 25, 26, 27, 28, 29, 30, 31, 32, 33, 34, 35, 36, 37, 38, 39, 40, 41, 42, 43, 45, 46, 47]",
          "[0, 4, 5, 8, 9, 10, 11, 12, 13, 14, 15, 16, 17, 18, 19, 20, 21, 22, 23, 24, 25, 26, 27, 28, 29, 30, 31, 32, 33, 34, 35, 36, 37, 38, 39, 40, 41, 42, 43, 45, 46, 47]",
          "[0, 4, 8, 9, 10, 11, 12, 13, 14, 15, 16, 17, 18, 19, 20, 21, 22, 23, 24, 25, 26, 27, 28, 29, 30, 31, 32, 33, 34, 35, 36, 37, 38, 39, 40, 41, 42, 43, 45, 46, 47]",
          "[0, 4, 9, 10, 11, 12, 13, 14, 15, 16, 17, 18, 19, 20, 21, 22, 23, 24, 25, 26, 27, 28, 29, 30, 31, 32, 33, 34, 35, 36, 37, 38, 39, 40, 41, 42, 43, 45, 46, 47]",
          "[0, 4, 9, 11, 12, 13, 14, 15, 16, 17, 18, 19, 20, 21, 22, 23, 24, 25, 26, 27, 28, 29, 30, 31, 32, 33, 34, 35, 36, 37, 38, 39, 40, 41, 42, 43, 45, 46, 47]",
          "[0, 4, 9, 11, 12, 14, 15, 16, 17, 18, 19, 20, 21, 22, 23, 24, 25, 26, 27, 28, 29, 30, 31, 32, 33, 34, 35, 36, 37, 38, 39, 40, 41, 42, 43, 45, 46, 47]",
          "[0, 4, 9, 11, 12, 15, 16, 17, 18, 19, 20, 21, 22, 23, 24, 25, 26, 27, 28, 29, 30, 31, 32, 33, 34, 35, 36, 37, 38, 39, 40, 41, 42, 43, 45, 46, 47]",
          "[0, 9, 11, 12, 15, 16, 17, 18, 19, 20, 21, 22, 23, 24, 25, 26, 27, 28, 29, 30, 31, 32, 33, 34, 35, 36, 37, 38, 39, 40, 41, 42, 43, 45, 46, 47]",
          "[0, 9, 11, 12, 15, 16, 17, 18, 19, 20, 21, 22, 23, 24, 25, 26, 27, 28, 29, 30, 31, 32, 33, 34, 35, 36, 38, 39, 40, 41, 42, 43, 45, 46, 47]",
          "[0, 9, 11, 12, 15, 16, 17, 18, 19, 20, 21, 22, 23, 24, 25, 26, 27, 28, 29, 31, 32, 33, 34, 35, 36, 38, 39, 40, 41, 42, 43, 45, 46, 47]",
          "[0, 9, 11, 12, 15, 16, 17, 18, 19, 20, 21, 22, 23, 24, 25, 26, 28, 29, 31, 32, 33, 34, 35, 36, 38, 39, 40, 41, 42, 43, 45, 46, 47]",
          "[0, 9, 11, 12, 15, 16, 17, 18, 19, 20, 21, 22, 23, 24, 25, 26, 28, 29, 31, 32, 33, 34, 36, 38, 39, 40, 41, 42, 43, 45, 46, 47]",
          "[0, 9, 11, 12, 15, 16, 17, 18, 19, 20, 21, 22, 23, 24, 25, 26, 28, 29, 31, 32, 33, 34, 36, 39, 40, 41, 42, 43, 45, 46, 47]",
          "[0, 9, 11, 12, 15, 16, 17, 18, 19, 20, 21, 22, 23, 24, 25, 26, 28, 29, 31, 33, 34, 36, 39, 40, 41, 42, 43, 45, 46, 47]",
          "[0, 9, 11, 12, 15, 16, 17, 18, 19, 20, 22, 23, 24, 25, 26, 28, 29, 31, 33, 34, 36, 39, 40, 41, 42, 43, 45, 46, 47]",
          "[0, 9, 11, 12, 16, 17, 18, 19, 20, 22, 23, 24, 25, 26, 28, 29, 31, 33, 34, 36, 39, 40, 41, 42, 43, 45, 46, 47]",
          "[0, 9, 11, 12, 16, 18, 19, 20, 22, 23, 24, 25, 26, 28, 29, 31, 33, 34, 36, 39, 40, 41, 42, 43, 45, 46, 47]",
          "[0, 9, 11, 12, 16, 18, 19, 20, 22, 23, 24, 25, 26, 28, 29, 31, 33, 34, 36, 39, 40, 41, 42, 45, 46, 47]",
          "[0, 9, 11, 12, 16, 18, 19, 20, 22, 23, 24, 25, 26, 28, 29, 31, 33, 34, 36, 40, 41, 42, 45, 46, 47]",
          "[0, 9, 11, 12, 16, 18, 19, 20, 22, 23, 24, 25, 26, 29, 31, 33, 34, 36, 40, 41, 42, 45, 46, 47]",
          "[0, 9, 11, 12, 16, 18, 19, 20, 22, 23, 25, 26, 29, 31, 33, 34, 36, 40, 41, 42, 45, 46, 47]",
          "[0, 9, 11, 12, 16, 19, 20, 22, 23, 25, 26, 29, 31, 33, 34, 36, 40, 41, 42, 45, 46, 47]",
          "[0, 11, 12, 16, 19, 20, 22, 23, 25, 26, 29, 31, 33, 34, 36, 40, 41, 42, 45, 46, 47]",
          "[0, 11, 12, 16, 19, 20, 22, 23, 25, 29, 31, 33, 34, 36, 40, 41, 42, 45, 46, 47]",
          "[0, 11, 12, 16, 19, 20, 22, 23, 25, 29, 33, 34, 36, 40, 41, 42, 45, 46, 47]",
          "[0, 11, 12, 16, 19, 20, 22, 23, 25, 29, 33, 34, 36, 40, 41, 45, 46, 47]",
          "[0, 11, 12, 16, 19, 20, 22, 25, 29, 33, 34, 36, 40, 41, 45, 46, 47]",
          "[0, 11, 12, 16, 19, 20, 22, 25, 29, 34, 36, 40, 41, 45, 46, 47]",
          "[0, 11, 12, 16, 19, 20, 22, 29, 34, 36, 40, 41, 45, 46, 47]",
          "[0, 11, 12, 16, 19, 22, 29, 34, 36, 40, 41, 45, 46, 47]",
          "[0, 11, 12, 16, 19, 29, 34, 36, 40, 41, 45, 46, 47]",
          "[0, 11, 12, 16, 19, 29, 34, 36, 40, 41, 45, 46]",
          "[0, 11, 12, 16, 19, 29, 34, 36, 40, 41, 45]",
          "[0, 11, 12, 16, 19, 29, 34, 36, 41, 45]",
          "[0, 11, 12, 16, 19, 29, 34, 36, 41]",
          "[0, 11, 12, 16, 19, 29, 34, 36]",
          "[0, 11, 12, 16, 19, 34, 36]",
          "[0, 12, 16, 19, 34, 36]",
          "[0, 12, 16, 34, 36]",
          "[0, 16, 34, 36]",
          "[0, 34, 36]",
          "[0, 36]",
          "[36]"
         ],
         "xaxis": "x",
         "y": [
          0.9416652321815491,
          0.9301146268844604,
          0.9083428978919983,
          0.865223228931427,
          0.8724905252456665,
          0.8958735466003418,
          0.888591468334198,
          0.8801690340042114,
          0.8857265114784241,
          0.8830859065055847,
          0.8414223790168762,
          0.8005134463310242,
          0.8006725907325745,
          0.6978604197502136,
          0.6720374822616577,
          0.6629920601844788,
          0.695491373538971,
          0.6469871401786804,
          0.641823947429657,
          0.5747432708740234,
          0.5333713889122009,
          0.5793988108634949,
          0.6446154713630676,
          0.6292223334312439,
          0.6500760316848755,
          0.5662173628807068,
          0.5793377757072449,
          0.5326038002967834,
          0.4558819532394409,
          0.5103229880332947,
          0.4661678075790405,
          0.4013274312019348,
          0.3405931890010834,
          0.31950706243515015,
          0.37109375,
          0.33097606897354126,
          0.18816085159778595,
          0.25393664836883545,
          0.18899941444396973,
          0.10888675600290298,
          0.0913357138633728,
          0.30809980630874634,
          0.19844909012317657,
          0.356290727853775,
          0.1555977314710617,
          0.23211322724819183,
          0.0862603634595871,
          0.05642598867416382
         ],
         "yaxis": "y"
        }
       ],
       "layout": {
        "autosize": true,
        "barmode": "relative",
        "font": {
         "color": "black",
         "size": 7
        },
        "legend": {
         "tracegroupgap": 0
        },
        "template": {
         "data": {
          "bar": [
           {
            "error_x": {
             "color": "#2a3f5f"
            },
            "error_y": {
             "color": "#2a3f5f"
            },
            "marker": {
             "line": {
              "color": "#E5ECF6",
              "width": 0.5
             },
             "pattern": {
              "fillmode": "overlay",
              "size": 10,
              "solidity": 0.2
             }
            },
            "type": "bar"
           }
          ],
          "barpolar": [
           {
            "marker": {
             "line": {
              "color": "#E5ECF6",
              "width": 0.5
             },
             "pattern": {
              "fillmode": "overlay",
              "size": 10,
              "solidity": 0.2
             }
            },
            "type": "barpolar"
           }
          ],
          "carpet": [
           {
            "aaxis": {
             "endlinecolor": "#2a3f5f",
             "gridcolor": "white",
             "linecolor": "white",
             "minorgridcolor": "white",
             "startlinecolor": "#2a3f5f"
            },
            "baxis": {
             "endlinecolor": "#2a3f5f",
             "gridcolor": "white",
             "linecolor": "white",
             "minorgridcolor": "white",
             "startlinecolor": "#2a3f5f"
            },
            "type": "carpet"
           }
          ],
          "choropleth": [
           {
            "colorbar": {
             "outlinewidth": 0,
             "ticks": ""
            },
            "type": "choropleth"
           }
          ],
          "contour": [
           {
            "colorbar": {
             "outlinewidth": 0,
             "ticks": ""
            },
            "colorscale": [
             [
              0,
              "#0d0887"
             ],
             [
              0.1111111111111111,
              "#46039f"
             ],
             [
              0.2222222222222222,
              "#7201a8"
             ],
             [
              0.3333333333333333,
              "#9c179e"
             ],
             [
              0.4444444444444444,
              "#bd3786"
             ],
             [
              0.5555555555555556,
              "#d8576b"
             ],
             [
              0.6666666666666666,
              "#ed7953"
             ],
             [
              0.7777777777777778,
              "#fb9f3a"
             ],
             [
              0.8888888888888888,
              "#fdca26"
             ],
             [
              1,
              "#f0f921"
             ]
            ],
            "type": "contour"
           }
          ],
          "contourcarpet": [
           {
            "colorbar": {
             "outlinewidth": 0,
             "ticks": ""
            },
            "type": "contourcarpet"
           }
          ],
          "heatmap": [
           {
            "colorbar": {
             "outlinewidth": 0,
             "ticks": ""
            },
            "colorscale": [
             [
              0,
              "#0d0887"
             ],
             [
              0.1111111111111111,
              "#46039f"
             ],
             [
              0.2222222222222222,
              "#7201a8"
             ],
             [
              0.3333333333333333,
              "#9c179e"
             ],
             [
              0.4444444444444444,
              "#bd3786"
             ],
             [
              0.5555555555555556,
              "#d8576b"
             ],
             [
              0.6666666666666666,
              "#ed7953"
             ],
             [
              0.7777777777777778,
              "#fb9f3a"
             ],
             [
              0.8888888888888888,
              "#fdca26"
             ],
             [
              1,
              "#f0f921"
             ]
            ],
            "type": "heatmap"
           }
          ],
          "heatmapgl": [
           {
            "colorbar": {
             "outlinewidth": 0,
             "ticks": ""
            },
            "colorscale": [
             [
              0,
              "#0d0887"
             ],
             [
              0.1111111111111111,
              "#46039f"
             ],
             [
              0.2222222222222222,
              "#7201a8"
             ],
             [
              0.3333333333333333,
              "#9c179e"
             ],
             [
              0.4444444444444444,
              "#bd3786"
             ],
             [
              0.5555555555555556,
              "#d8576b"
             ],
             [
              0.6666666666666666,
              "#ed7953"
             ],
             [
              0.7777777777777778,
              "#fb9f3a"
             ],
             [
              0.8888888888888888,
              "#fdca26"
             ],
             [
              1,
              "#f0f921"
             ]
            ],
            "type": "heatmapgl"
           }
          ],
          "histogram": [
           {
            "marker": {
             "pattern": {
              "fillmode": "overlay",
              "size": 10,
              "solidity": 0.2
             }
            },
            "type": "histogram"
           }
          ],
          "histogram2d": [
           {
            "colorbar": {
             "outlinewidth": 0,
             "ticks": ""
            },
            "colorscale": [
             [
              0,
              "#0d0887"
             ],
             [
              0.1111111111111111,
              "#46039f"
             ],
             [
              0.2222222222222222,
              "#7201a8"
             ],
             [
              0.3333333333333333,
              "#9c179e"
             ],
             [
              0.4444444444444444,
              "#bd3786"
             ],
             [
              0.5555555555555556,
              "#d8576b"
             ],
             [
              0.6666666666666666,
              "#ed7953"
             ],
             [
              0.7777777777777778,
              "#fb9f3a"
             ],
             [
              0.8888888888888888,
              "#fdca26"
             ],
             [
              1,
              "#f0f921"
             ]
            ],
            "type": "histogram2d"
           }
          ],
          "histogram2dcontour": [
           {
            "colorbar": {
             "outlinewidth": 0,
             "ticks": ""
            },
            "colorscale": [
             [
              0,
              "#0d0887"
             ],
             [
              0.1111111111111111,
              "#46039f"
             ],
             [
              0.2222222222222222,
              "#7201a8"
             ],
             [
              0.3333333333333333,
              "#9c179e"
             ],
             [
              0.4444444444444444,
              "#bd3786"
             ],
             [
              0.5555555555555556,
              "#d8576b"
             ],
             [
              0.6666666666666666,
              "#ed7953"
             ],
             [
              0.7777777777777778,
              "#fb9f3a"
             ],
             [
              0.8888888888888888,
              "#fdca26"
             ],
             [
              1,
              "#f0f921"
             ]
            ],
            "type": "histogram2dcontour"
           }
          ],
          "mesh3d": [
           {
            "colorbar": {
             "outlinewidth": 0,
             "ticks": ""
            },
            "type": "mesh3d"
           }
          ],
          "parcoords": [
           {
            "line": {
             "colorbar": {
              "outlinewidth": 0,
              "ticks": ""
             }
            },
            "type": "parcoords"
           }
          ],
          "pie": [
           {
            "automargin": true,
            "type": "pie"
           }
          ],
          "scatter": [
           {
            "fillpattern": {
             "fillmode": "overlay",
             "size": 10,
             "solidity": 0.2
            },
            "type": "scatter"
           }
          ],
          "scatter3d": [
           {
            "line": {
             "colorbar": {
              "outlinewidth": 0,
              "ticks": ""
             }
            },
            "marker": {
             "colorbar": {
              "outlinewidth": 0,
              "ticks": ""
             }
            },
            "type": "scatter3d"
           }
          ],
          "scattercarpet": [
           {
            "marker": {
             "colorbar": {
              "outlinewidth": 0,
              "ticks": ""
             }
            },
            "type": "scattercarpet"
           }
          ],
          "scattergeo": [
           {
            "marker": {
             "colorbar": {
              "outlinewidth": 0,
              "ticks": ""
             }
            },
            "type": "scattergeo"
           }
          ],
          "scattergl": [
           {
            "marker": {
             "colorbar": {
              "outlinewidth": 0,
              "ticks": ""
             }
            },
            "type": "scattergl"
           }
          ],
          "scattermapbox": [
           {
            "marker": {
             "colorbar": {
              "outlinewidth": 0,
              "ticks": ""
             }
            },
            "type": "scattermapbox"
           }
          ],
          "scatterpolar": [
           {
            "marker": {
             "colorbar": {
              "outlinewidth": 0,
              "ticks": ""
             }
            },
            "type": "scatterpolar"
           }
          ],
          "scatterpolargl": [
           {
            "marker": {
             "colorbar": {
              "outlinewidth": 0,
              "ticks": ""
             }
            },
            "type": "scatterpolargl"
           }
          ],
          "scatterternary": [
           {
            "marker": {
             "colorbar": {
              "outlinewidth": 0,
              "ticks": ""
             }
            },
            "type": "scatterternary"
           }
          ],
          "surface": [
           {
            "colorbar": {
             "outlinewidth": 0,
             "ticks": ""
            },
            "colorscale": [
             [
              0,
              "#0d0887"
             ],
             [
              0.1111111111111111,
              "#46039f"
             ],
             [
              0.2222222222222222,
              "#7201a8"
             ],
             [
              0.3333333333333333,
              "#9c179e"
             ],
             [
              0.4444444444444444,
              "#bd3786"
             ],
             [
              0.5555555555555556,
              "#d8576b"
             ],
             [
              0.6666666666666666,
              "#ed7953"
             ],
             [
              0.7777777777777778,
              "#fb9f3a"
             ],
             [
              0.8888888888888888,
              "#fdca26"
             ],
             [
              1,
              "#f0f921"
             ]
            ],
            "type": "surface"
           }
          ],
          "table": [
           {
            "cells": {
             "fill": {
              "color": "#EBF0F8"
             },
             "line": {
              "color": "white"
             }
            },
            "header": {
             "fill": {
              "color": "#C8D4E3"
             },
             "line": {
              "color": "white"
             }
            },
            "type": "table"
           }
          ]
         },
         "layout": {
          "annotationdefaults": {
           "arrowcolor": "#2a3f5f",
           "arrowhead": 0,
           "arrowwidth": 1
          },
          "autotypenumbers": "strict",
          "coloraxis": {
           "colorbar": {
            "outlinewidth": 0,
            "ticks": ""
           }
          },
          "colorscale": {
           "diverging": [
            [
             0,
             "#8e0152"
            ],
            [
             0.1,
             "#c51b7d"
            ],
            [
             0.2,
             "#de77ae"
            ],
            [
             0.3,
             "#f1b6da"
            ],
            [
             0.4,
             "#fde0ef"
            ],
            [
             0.5,
             "#f7f7f7"
            ],
            [
             0.6,
             "#e6f5d0"
            ],
            [
             0.7,
             "#b8e186"
            ],
            [
             0.8,
             "#7fbc41"
            ],
            [
             0.9,
             "#4d9221"
            ],
            [
             1,
             "#276419"
            ]
           ],
           "sequential": [
            [
             0,
             "#0d0887"
            ],
            [
             0.1111111111111111,
             "#46039f"
            ],
            [
             0.2222222222222222,
             "#7201a8"
            ],
            [
             0.3333333333333333,
             "#9c179e"
            ],
            [
             0.4444444444444444,
             "#bd3786"
            ],
            [
             0.5555555555555556,
             "#d8576b"
            ],
            [
             0.6666666666666666,
             "#ed7953"
            ],
            [
             0.7777777777777778,
             "#fb9f3a"
            ],
            [
             0.8888888888888888,
             "#fdca26"
            ],
            [
             1,
             "#f0f921"
            ]
           ],
           "sequentialminus": [
            [
             0,
             "#0d0887"
            ],
            [
             0.1111111111111111,
             "#46039f"
            ],
            [
             0.2222222222222222,
             "#7201a8"
            ],
            [
             0.3333333333333333,
             "#9c179e"
            ],
            [
             0.4444444444444444,
             "#bd3786"
            ],
            [
             0.5555555555555556,
             "#d8576b"
            ],
            [
             0.6666666666666666,
             "#ed7953"
            ],
            [
             0.7777777777777778,
             "#fb9f3a"
            ],
            [
             0.8888888888888888,
             "#fdca26"
            ],
            [
             1,
             "#f0f921"
            ]
           ]
          },
          "colorway": [
           "#636efa",
           "#EF553B",
           "#00cc96",
           "#ab63fa",
           "#FFA15A",
           "#19d3f3",
           "#FF6692",
           "#B6E880",
           "#FF97FF",
           "#FECB52"
          ],
          "font": {
           "color": "#2a3f5f"
          },
          "geo": {
           "bgcolor": "white",
           "lakecolor": "white",
           "landcolor": "#E5ECF6",
           "showlakes": true,
           "showland": true,
           "subunitcolor": "white"
          },
          "hoverlabel": {
           "align": "left"
          },
          "hovermode": "closest",
          "mapbox": {
           "style": "light"
          },
          "paper_bgcolor": "white",
          "plot_bgcolor": "#E5ECF6",
          "polar": {
           "angularaxis": {
            "gridcolor": "white",
            "linecolor": "white",
            "ticks": ""
           },
           "bgcolor": "#E5ECF6",
           "radialaxis": {
            "gridcolor": "white",
            "linecolor": "white",
            "ticks": ""
           }
          },
          "scene": {
           "xaxis": {
            "backgroundcolor": "#E5ECF6",
            "gridcolor": "white",
            "gridwidth": 2,
            "linecolor": "white",
            "showbackground": true,
            "ticks": "",
            "zerolinecolor": "white"
           },
           "yaxis": {
            "backgroundcolor": "#E5ECF6",
            "gridcolor": "white",
            "gridwidth": 2,
            "linecolor": "white",
            "showbackground": true,
            "ticks": "",
            "zerolinecolor": "white"
           },
           "zaxis": {
            "backgroundcolor": "#E5ECF6",
            "gridcolor": "white",
            "gridwidth": 2,
            "linecolor": "white",
            "showbackground": true,
            "ticks": "",
            "zerolinecolor": "white"
           }
          },
          "shapedefaults": {
           "line": {
            "color": "#2a3f5f"
           }
          },
          "ternary": {
           "aaxis": {
            "gridcolor": "white",
            "linecolor": "white",
            "ticks": ""
           },
           "baxis": {
            "gridcolor": "white",
            "linecolor": "white",
            "ticks": ""
           },
           "bgcolor": "#E5ECF6",
           "caxis": {
            "gridcolor": "white",
            "linecolor": "white",
            "ticks": ""
           }
          },
          "title": {
           "x": 0.05
          },
          "xaxis": {
           "automargin": true,
           "gridcolor": "white",
           "linecolor": "white",
           "ticks": "",
           "title": {
            "standoff": 15
           },
           "zerolinecolor": "white",
           "zerolinewidth": 2
          },
          "yaxis": {
           "automargin": true,
           "gridcolor": "white",
           "linecolor": "white",
           "ticks": "",
           "title": {
            "standoff": 15
           },
           "zerolinecolor": "white",
           "zerolinewidth": 2
          }
         }
        },
        "title": {
         "text": "greater than task, pruning layers pr correct"
        },
        "xaxis": {
         "anchor": "y",
         "autorange": true,
         "domain": [
          0,
          1
         ],
         "range": [
          -0.5,
          47.5
         ],
         "tickmode": "array",
         "ticktext": [
          "[0, 1, 2, 3, 4, 5, 6, 7, 8, 9, 10, 11, 12, 13, 14, 15, 16, 17, 18, 19, 20, 21, 22, 23, 24, 25, 26, 27, 28, 29, 30, 31, 32, 33, 34, 35, 36, 37, 38, 39, 40, 41, 42, 43, 44, 45, 46, 47]",
          "[0, 1, 2, 3, 4, 5, 6, 7, 8, 9, 10, 11, 12, 13, 14, 15, 16, 17, 18, 19, 20, 21, 22, 23, 24, 25, 26, 27, 28, 29, 30, 31, 32, 33, 34, 35, 36, 37, 38, 39, 40, 41, 42, 43, 45, 46, 47]",
          "[0, 2, 3, 4, 5, 6, 7, 8, 9, 10, 11, 12, 13, 14, 15, 16, 17, 18, 19, 20, 21, 22, 23, 24, 25, 26, 27, 28, 29, 30, 31, 32, 33, 34, 35, 36, 37, 38, 39, 40, 41, 42, 43, 45, 46, 47]",
          "[0, 3, 4, 5, 6, 7, 8, 9, 10, 11, 12, 13, 14, 15, 16, 17, 18, 19, 20, 21, 22, 23, 24, 25, 26, 27, 28, 29, 30, 31, 32, 33, 34, 35, 36, 37, 38, 39, 40, 41, 42, 43, 45, 46, 47]",
          "[0, 3, 4, 5, 7, 8, 9, 10, 11, 12, 13, 14, 15, 16, 17, 18, 19, 20, 21, 22, 23, 24, 25, 26, 27, 28, 29, 30, 31, 32, 33, 34, 35, 36, 37, 38, 39, 40, 41, 42, 43, 45, 46, 47]",
          "[0, 3, 4, 5, 8, 9, 10, 11, 12, 13, 14, 15, 16, 17, 18, 19, 20, 21, 22, 23, 24, 25, 26, 27, 28, 29, 30, 31, 32, 33, 34, 35, 36, 37, 38, 39, 40, 41, 42, 43, 45, 46, 47]",
          "[0, 4, 5, 8, 9, 10, 11, 12, 13, 14, 15, 16, 17, 18, 19, 20, 21, 22, 23, 24, 25, 26, 27, 28, 29, 30, 31, 32, 33, 34, 35, 36, 37, 38, 39, 40, 41, 42, 43, 45, 46, 47]",
          "[0, 4, 8, 9, 10, 11, 12, 13, 14, 15, 16, 17, 18, 19, 20, 21, 22, 23, 24, 25, 26, 27, 28, 29, 30, 31, 32, 33, 34, 35, 36, 37, 38, 39, 40, 41, 42, 43, 45, 46, 47]",
          "[0, 4, 9, 10, 11, 12, 13, 14, 15, 16, 17, 18, 19, 20, 21, 22, 23, 24, 25, 26, 27, 28, 29, 30, 31, 32, 33, 34, 35, 36, 37, 38, 39, 40, 41, 42, 43, 45, 46, 47]",
          "[0, 4, 9, 11, 12, 13, 14, 15, 16, 17, 18, 19, 20, 21, 22, 23, 24, 25, 26, 27, 28, 29, 30, 31, 32, 33, 34, 35, 36, 37, 38, 39, 40, 41, 42, 43, 45, 46, 47]",
          "[0, 4, 9, 11, 12, 14, 15, 16, 17, 18, 19, 20, 21, 22, 23, 24, 25, 26, 27, 28, 29, 30, 31, 32, 33, 34, 35, 36, 37, 38, 39, 40, 41, 42, 43, 45, 46, 47]",
          "[0, 4, 9, 11, 12, 15, 16, 17, 18, 19, 20, 21, 22, 23, 24, 25, 26, 27, 28, 29, 30, 31, 32, 33, 34, 35, 36, 37, 38, 39, 40, 41, 42, 43, 45, 46, 47]",
          "[0, 9, 11, 12, 15, 16, 17, 18, 19, 20, 21, 22, 23, 24, 25, 26, 27, 28, 29, 30, 31, 32, 33, 34, 35, 36, 37, 38, 39, 40, 41, 42, 43, 45, 46, 47]",
          "[0, 9, 11, 12, 15, 16, 17, 18, 19, 20, 21, 22, 23, 24, 25, 26, 27, 28, 29, 30, 31, 32, 33, 34, 35, 36, 38, 39, 40, 41, 42, 43, 45, 46, 47]",
          "[0, 9, 11, 12, 15, 16, 17, 18, 19, 20, 21, 22, 23, 24, 25, 26, 27, 28, 29, 31, 32, 33, 34, 35, 36, 38, 39, 40, 41, 42, 43, 45, 46, 47]",
          "[0, 9, 11, 12, 15, 16, 17, 18, 19, 20, 21, 22, 23, 24, 25, 26, 28, 29, 31, 32, 33, 34, 35, 36, 38, 39, 40, 41, 42, 43, 45, 46, 47]",
          "[0, 9, 11, 12, 15, 16, 17, 18, 19, 20, 21, 22, 23, 24, 25, 26, 28, 29, 31, 32, 33, 34, 36, 38, 39, 40, 41, 42, 43, 45, 46, 47]",
          "[0, 9, 11, 12, 15, 16, 17, 18, 19, 20, 21, 22, 23, 24, 25, 26, 28, 29, 31, 32, 33, 34, 36, 39, 40, 41, 42, 43, 45, 46, 47]",
          "[0, 9, 11, 12, 15, 16, 17, 18, 19, 20, 21, 22, 23, 24, 25, 26, 28, 29, 31, 33, 34, 36, 39, 40, 41, 42, 43, 45, 46, 47]",
          "[0, 9, 11, 12, 15, 16, 17, 18, 19, 20, 22, 23, 24, 25, 26, 28, 29, 31, 33, 34, 36, 39, 40, 41, 42, 43, 45, 46, 47]",
          "[0, 9, 11, 12, 16, 17, 18, 19, 20, 22, 23, 24, 25, 26, 28, 29, 31, 33, 34, 36, 39, 40, 41, 42, 43, 45, 46, 47]",
          "[0, 9, 11, 12, 16, 18, 19, 20, 22, 23, 24, 25, 26, 28, 29, 31, 33, 34, 36, 39, 40, 41, 42, 43, 45, 46, 47]",
          "[0, 9, 11, 12, 16, 18, 19, 20, 22, 23, 24, 25, 26, 28, 29, 31, 33, 34, 36, 39, 40, 41, 42, 45, 46, 47]",
          "[0, 9, 11, 12, 16, 18, 19, 20, 22, 23, 24, 25, 26, 28, 29, 31, 33, 34, 36, 40, 41, 42, 45, 46, 47]",
          "[0, 9, 11, 12, 16, 18, 19, 20, 22, 23, 24, 25, 26, 29, 31, 33, 34, 36, 40, 41, 42, 45, 46, 47]",
          "[0, 9, 11, 12, 16, 18, 19, 20, 22, 23, 25, 26, 29, 31, 33, 34, 36, 40, 41, 42, 45, 46, 47]",
          "[0, 9, 11, 12, 16, 19, 20, 22, 23, 25, 26, 29, 31, 33, 34, 36, 40, 41, 42, 45, 46, 47]",
          "[0, 11, 12, 16, 19, 20, 22, 23, 25, 26, 29, 31, 33, 34, 36, 40, 41, 42, 45, 46, 47]",
          "[0, 11, 12, 16, 19, 20, 22, 23, 25, 29, 31, 33, 34, 36, 40, 41, 42, 45, 46, 47]",
          "[0, 11, 12, 16, 19, 20, 22, 23, 25, 29, 33, 34, 36, 40, 41, 42, 45, 46, 47]",
          "[0, 11, 12, 16, 19, 20, 22, 23, 25, 29, 33, 34, 36, 40, 41, 45, 46, 47]",
          "[0, 11, 12, 16, 19, 20, 22, 25, 29, 33, 34, 36, 40, 41, 45, 46, 47]",
          "[0, 11, 12, 16, 19, 20, 22, 25, 29, 34, 36, 40, 41, 45, 46, 47]",
          "[0, 11, 12, 16, 19, 20, 22, 29, 34, 36, 40, 41, 45, 46, 47]",
          "[0, 11, 12, 16, 19, 22, 29, 34, 36, 40, 41, 45, 46, 47]",
          "[0, 11, 12, 16, 19, 29, 34, 36, 40, 41, 45, 46, 47]",
          "[0, 11, 12, 16, 19, 29, 34, 36, 40, 41, 45, 46]",
          "[0, 11, 12, 16, 19, 29, 34, 36, 40, 41, 45]",
          "[0, 11, 12, 16, 19, 29, 34, 36, 41, 45]",
          "[0, 11, 12, 16, 19, 29, 34, 36, 41]",
          "[0, 11, 12, 16, 19, 29, 34, 36]",
          "[0, 11, 12, 16, 19, 34, 36]",
          "[0, 12, 16, 19, 34, 36]",
          "[0, 12, 16, 34, 36]",
          "[0, 16, 34, 36]",
          "[0, 34, 36]",
          "[0, 36]",
          "[36]"
         ],
         "tickvals": [
          "[0, 1, 2, 3, 4, 5, 6, 7, 8, 9, 10, 11, 12, 13, 14, 15, 16, 17, 18, 19, 20, 21, 22, 23, 24, 25, 26, 27, 28, 29, 30, 31, 32, 33, 34, 35, 36, 37, 38, 39, 40, 41, 42, 43, 44, 45, 46, 47]",
          "[0, 1, 2, 3, 4, 5, 6, 7, 8, 9, 10, 11, 12, 13, 14, 15, 16, 17, 18, 19, 20, 21, 22, 23, 24, 25, 26, 27, 28, 29, 30, 31, 32, 33, 34, 35, 36, 37, 38, 39, 40, 41, 42, 43, 45, 46, 47]",
          "[0, 2, 3, 4, 5, 6, 7, 8, 9, 10, 11, 12, 13, 14, 15, 16, 17, 18, 19, 20, 21, 22, 23, 24, 25, 26, 27, 28, 29, 30, 31, 32, 33, 34, 35, 36, 37, 38, 39, 40, 41, 42, 43, 45, 46, 47]",
          "[0, 3, 4, 5, 6, 7, 8, 9, 10, 11, 12, 13, 14, 15, 16, 17, 18, 19, 20, 21, 22, 23, 24, 25, 26, 27, 28, 29, 30, 31, 32, 33, 34, 35, 36, 37, 38, 39, 40, 41, 42, 43, 45, 46, 47]",
          "[0, 3, 4, 5, 7, 8, 9, 10, 11, 12, 13, 14, 15, 16, 17, 18, 19, 20, 21, 22, 23, 24, 25, 26, 27, 28, 29, 30, 31, 32, 33, 34, 35, 36, 37, 38, 39, 40, 41, 42, 43, 45, 46, 47]",
          "[0, 3, 4, 5, 8, 9, 10, 11, 12, 13, 14, 15, 16, 17, 18, 19, 20, 21, 22, 23, 24, 25, 26, 27, 28, 29, 30, 31, 32, 33, 34, 35, 36, 37, 38, 39, 40, 41, 42, 43, 45, 46, 47]",
          "[0, 4, 5, 8, 9, 10, 11, 12, 13, 14, 15, 16, 17, 18, 19, 20, 21, 22, 23, 24, 25, 26, 27, 28, 29, 30, 31, 32, 33, 34, 35, 36, 37, 38, 39, 40, 41, 42, 43, 45, 46, 47]",
          "[0, 4, 8, 9, 10, 11, 12, 13, 14, 15, 16, 17, 18, 19, 20, 21, 22, 23, 24, 25, 26, 27, 28, 29, 30, 31, 32, 33, 34, 35, 36, 37, 38, 39, 40, 41, 42, 43, 45, 46, 47]",
          "[0, 4, 9, 10, 11, 12, 13, 14, 15, 16, 17, 18, 19, 20, 21, 22, 23, 24, 25, 26, 27, 28, 29, 30, 31, 32, 33, 34, 35, 36, 37, 38, 39, 40, 41, 42, 43, 45, 46, 47]",
          "[0, 4, 9, 11, 12, 13, 14, 15, 16, 17, 18, 19, 20, 21, 22, 23, 24, 25, 26, 27, 28, 29, 30, 31, 32, 33, 34, 35, 36, 37, 38, 39, 40, 41, 42, 43, 45, 46, 47]",
          "[0, 4, 9, 11, 12, 14, 15, 16, 17, 18, 19, 20, 21, 22, 23, 24, 25, 26, 27, 28, 29, 30, 31, 32, 33, 34, 35, 36, 37, 38, 39, 40, 41, 42, 43, 45, 46, 47]",
          "[0, 4, 9, 11, 12, 15, 16, 17, 18, 19, 20, 21, 22, 23, 24, 25, 26, 27, 28, 29, 30, 31, 32, 33, 34, 35, 36, 37, 38, 39, 40, 41, 42, 43, 45, 46, 47]",
          "[0, 9, 11, 12, 15, 16, 17, 18, 19, 20, 21, 22, 23, 24, 25, 26, 27, 28, 29, 30, 31, 32, 33, 34, 35, 36, 37, 38, 39, 40, 41, 42, 43, 45, 46, 47]",
          "[0, 9, 11, 12, 15, 16, 17, 18, 19, 20, 21, 22, 23, 24, 25, 26, 27, 28, 29, 30, 31, 32, 33, 34, 35, 36, 38, 39, 40, 41, 42, 43, 45, 46, 47]",
          "[0, 9, 11, 12, 15, 16, 17, 18, 19, 20, 21, 22, 23, 24, 25, 26, 27, 28, 29, 31, 32, 33, 34, 35, 36, 38, 39, 40, 41, 42, 43, 45, 46, 47]",
          "[0, 9, 11, 12, 15, 16, 17, 18, 19, 20, 21, 22, 23, 24, 25, 26, 28, 29, 31, 32, 33, 34, 35, 36, 38, 39, 40, 41, 42, 43, 45, 46, 47]",
          "[0, 9, 11, 12, 15, 16, 17, 18, 19, 20, 21, 22, 23, 24, 25, 26, 28, 29, 31, 32, 33, 34, 36, 38, 39, 40, 41, 42, 43, 45, 46, 47]",
          "[0, 9, 11, 12, 15, 16, 17, 18, 19, 20, 21, 22, 23, 24, 25, 26, 28, 29, 31, 32, 33, 34, 36, 39, 40, 41, 42, 43, 45, 46, 47]",
          "[0, 9, 11, 12, 15, 16, 17, 18, 19, 20, 21, 22, 23, 24, 25, 26, 28, 29, 31, 33, 34, 36, 39, 40, 41, 42, 43, 45, 46, 47]",
          "[0, 9, 11, 12, 15, 16, 17, 18, 19, 20, 22, 23, 24, 25, 26, 28, 29, 31, 33, 34, 36, 39, 40, 41, 42, 43, 45, 46, 47]",
          "[0, 9, 11, 12, 16, 17, 18, 19, 20, 22, 23, 24, 25, 26, 28, 29, 31, 33, 34, 36, 39, 40, 41, 42, 43, 45, 46, 47]",
          "[0, 9, 11, 12, 16, 18, 19, 20, 22, 23, 24, 25, 26, 28, 29, 31, 33, 34, 36, 39, 40, 41, 42, 43, 45, 46, 47]",
          "[0, 9, 11, 12, 16, 18, 19, 20, 22, 23, 24, 25, 26, 28, 29, 31, 33, 34, 36, 39, 40, 41, 42, 45, 46, 47]",
          "[0, 9, 11, 12, 16, 18, 19, 20, 22, 23, 24, 25, 26, 28, 29, 31, 33, 34, 36, 40, 41, 42, 45, 46, 47]",
          "[0, 9, 11, 12, 16, 18, 19, 20, 22, 23, 24, 25, 26, 29, 31, 33, 34, 36, 40, 41, 42, 45, 46, 47]",
          "[0, 9, 11, 12, 16, 18, 19, 20, 22, 23, 25, 26, 29, 31, 33, 34, 36, 40, 41, 42, 45, 46, 47]",
          "[0, 9, 11, 12, 16, 19, 20, 22, 23, 25, 26, 29, 31, 33, 34, 36, 40, 41, 42, 45, 46, 47]",
          "[0, 11, 12, 16, 19, 20, 22, 23, 25, 26, 29, 31, 33, 34, 36, 40, 41, 42, 45, 46, 47]",
          "[0, 11, 12, 16, 19, 20, 22, 23, 25, 29, 31, 33, 34, 36, 40, 41, 42, 45, 46, 47]",
          "[0, 11, 12, 16, 19, 20, 22, 23, 25, 29, 33, 34, 36, 40, 41, 42, 45, 46, 47]",
          "[0, 11, 12, 16, 19, 20, 22, 23, 25, 29, 33, 34, 36, 40, 41, 45, 46, 47]",
          "[0, 11, 12, 16, 19, 20, 22, 25, 29, 33, 34, 36, 40, 41, 45, 46, 47]",
          "[0, 11, 12, 16, 19, 20, 22, 25, 29, 34, 36, 40, 41, 45, 46, 47]",
          "[0, 11, 12, 16, 19, 20, 22, 29, 34, 36, 40, 41, 45, 46, 47]",
          "[0, 11, 12, 16, 19, 22, 29, 34, 36, 40, 41, 45, 46, 47]",
          "[0, 11, 12, 16, 19, 29, 34, 36, 40, 41, 45, 46, 47]",
          "[0, 11, 12, 16, 19, 29, 34, 36, 40, 41, 45, 46]",
          "[0, 11, 12, 16, 19, 29, 34, 36, 40, 41, 45]",
          "[0, 11, 12, 16, 19, 29, 34, 36, 41, 45]",
          "[0, 11, 12, 16, 19, 29, 34, 36, 41]",
          "[0, 11, 12, 16, 19, 29, 34, 36]",
          "[0, 11, 12, 16, 19, 34, 36]",
          "[0, 12, 16, 19, 34, 36]",
          "[0, 12, 16, 34, 36]",
          "[0, 16, 34, 36]",
          "[0, 34, 36]",
          "[0, 36]",
          "[36]"
         ],
         "title": {
          "text": "x"
         },
         "type": "category"
        },
        "yaxis": {
         "anchor": "x",
         "autorange": true,
         "domain": [
          0,
          1
         ],
         "range": [
          0,
          0.9912265601911043
         ],
         "title": {
          "text": " pr of correct"
         },
         "type": "linear"
        }
       }
      },
      "image/png": "[encoded data removed]",
      "text/html": [
       "<div>                            <div id=\"a9167666-a1b5-4cde-b398-986a03da9a14\" class=\"plotly-graph-div\" style=\"height:525px; width:100%;\"></div>            <script type=\"text/javascript\">                require([\"plotly\"], function(Plotly) {                    window.PLOTLYENV=window.PLOTLYENV || {};                                    if (document.getElementById(\"a9167666-a1b5-4cde-b398-986a03da9a14\")) {                    Plotly.newPlot(                        \"a9167666-a1b5-4cde-b398-986a03da9a14\",                        [{\"alignmentgroup\":\"True\",\"hovertemplate\":\"x=%{x}\\u003cbr\\u003e pr of correct=%{y}\\u003cextra\\u003e\\u003c\\u002fextra\\u003e\",\"legendgroup\":\"\",\"marker\":{\"color\":\"#636efa\",\"pattern\":{\"shape\":\"\"}},\"name\":\"\",\"offsetgroup\":\"\",\"orientation\":\"v\",\"showlegend\":false,\"textposition\":\"auto\",\"x\":[\"[0, 1, 2, 3, 4, 5, 6, 7, 8, 9, 10, 11, 12, 13, 14, 15, 16, 17, 18, 19, 20, 21, 22, 23, 24, 25, 26, 27, 28, 29, 30, 31, 32, 33, 34, 35, 36, 37, 38, 39, 40, 41, 42, 43, 44, 45, 46, 47]\",\"[0, 1, 2, 3, 4, 5, 6, 7, 8, 9, 10, 11, 12, 13, 14, 15, 16, 17, 18, 19, 20, 21, 22, 23, 24, 25, 26, 27, 28, 29, 30, 31, 32, 33, 34, 35, 36, 37, 38, 39, 40, 41, 42, 43, 45, 46, 47]\",\"[0, 2, 3, 4, 5, 6, 7, 8, 9, 10, 11, 12, 13, 14, 15, 16, 17, 18, 19, 20, 21, 22, 23, 24, 25, 26, 27, 28, 29, 30, 31, 32, 33, 34, 35, 36, 37, 38, 39, 40, 41, 42, 43, 45, 46, 47]\",\"[0, 3, 4, 5, 6, 7, 8, 9, 10, 11, 12, 13, 14, 15, 16, 17, 18, 19, 20, 21, 22, 23, 24, 25, 26, 27, 28, 29, 30, 31, 32, 33, 34, 35, 36, 37, 38, 39, 40, 41, 42, 43, 45, 46, 47]\",\"[0, 3, 4, 5, 7, 8, 9, 10, 11, 12, 13, 14, 15, 16, 17, 18, 19, 20, 21, 22, 23, 24, 25, 26, 27, 28, 29, 30, 31, 32, 33, 34, 35, 36, 37, 38, 39, 40, 41, 42, 43, 45, 46, 47]\",\"[0, 3, 4, 5, 8, 9, 10, 11, 12, 13, 14, 15, 16, 17, 18, 19, 20, 21, 22, 23, 24, 25, 26, 27, 28, 29, 30, 31, 32, 33, 34, 35, 36, 37, 38, 39, 40, 41, 42, 43, 45, 46, 47]\",\"[0, 4, 5, 8, 9, 10, 11, 12, 13, 14, 15, 16, 17, 18, 19, 20, 21, 22, 23, 24, 25, 26, 27, 28, 29, 30, 31, 32, 33, 34, 35, 36, 37, 38, 39, 40, 41, 42, 43, 45, 46, 47]\",\"[0, 4, 8, 9, 10, 11, 12, 13, 14, 15, 16, 17, 18, 19, 20, 21, 22, 23, 24, 25, 26, 27, 28, 29, 30, 31, 32, 33, 34, 35, 36, 37, 38, 39, 40, 41, 42, 43, 45, 46, 47]\",\"[0, 4, 9, 10, 11, 12, 13, 14, 15, 16, 17, 18, 19, 20, 21, 22, 23, 24, 25, 26, 27, 28, 29, 30, 31, 32, 33, 34, 35, 36, 37, 38, 39, 40, 41, 42, 43, 45, 46, 47]\",\"[0, 4, 9, 11, 12, 13, 14, 15, 16, 17, 18, 19, 20, 21, 22, 23, 24, 25, 26, 27, 28, 29, 30, 31, 32, 33, 34, 35, 36, 37, 38, 39, 40, 41, 42, 43, 45, 46, 47]\",\"[0, 4, 9, 11, 12, 14, 15, 16, 17, 18, 19, 20, 21, 22, 23, 24, 25, 26, 27, 28, 29, 30, 31, 32, 33, 34, 35, 36, 37, 38, 39, 40, 41, 42, 43, 45, 46, 47]\",\"[0, 4, 9, 11, 12, 15, 16, 17, 18, 19, 20, 21, 22, 23, 24, 25, 26, 27, 28, 29, 30, 31, 32, 33, 34, 35, 36, 37, 38, 39, 40, 41, 42, 43, 45, 46, 47]\",\"[0, 9, 11, 12, 15, 16, 17, 18, 19, 20, 21, 22, 23, 24, 25, 26, 27, 28, 29, 30, 31, 32, 33, 34, 35, 36, 37, 38, 39, 40, 41, 42, 43, 45, 46, 47]\",\"[0, 9, 11, 12, 15, 16, 17, 18, 19, 20, 21, 22, 23, 24, 25, 26, 27, 28, 29, 30, 31, 32, 33, 34, 35, 36, 38, 39, 40, 41, 42, 43, 45, 46, 47]\",\"[0, 9, 11, 12, 15, 16, 17, 18, 19, 20, 21, 22, 23, 24, 25, 26, 27, 28, 29, 31, 32, 33, 34, 35, 36, 38, 39, 40, 41, 42, 43, 45, 46, 47]\",\"[0, 9, 11, 12, 15, 16, 17, 18, 19, 20, 21, 22, 23, 24, 25, 26, 28, 29, 31, 32, 33, 34, 35, 36, 38, 39, 40, 41, 42, 43, 45, 46, 47]\",\"[0, 9, 11, 12, 15, 16, 17, 18, 19, 20, 21, 22, 23, 24, 25, 26, 28, 29, 31, 32, 33, 34, 36, 38, 39, 40, 41, 42, 43, 45, 46, 47]\",\"[0, 9, 11, 12, 15, 16, 17, 18, 19, 20, 21, 22, 23, 24, 25, 26, 28, 29, 31, 32, 33, 34, 36, 39, 40, 41, 42, 43, 45, 46, 47]\",\"[0, 9, 11, 12, 15, 16, 17, 18, 19, 20, 21, 22, 23, 24, 25, 26, 28, 29, 31, 33, 34, 36, 39, 40, 41, 42, 43, 45, 46, 47]\",\"[0, 9, 11, 12, 15, 16, 17, 18, 19, 20, 22, 23, 24, 25, 26, 28, 29, 31, 33, 34, 36, 39, 40, 41, 42, 43, 45, 46, 47]\",\"[0, 9, 11, 12, 16, 17, 18, 19, 20, 22, 23, 24, 25, 26, 28, 29, 31, 33, 34, 36, 39, 40, 41, 42, 43, 45, 46, 47]\",\"[0, 9, 11, 12, 16, 18, 19, 20, 22, 23, 24, 25, 26, 28, 29, 31, 33, 34, 36, 39, 40, 41, 42, 43, 45, 46, 47]\",\"[0, 9, 11, 12, 16, 18, 19, 20, 22, 23, 24, 25, 26, 28, 29, 31, 33, 34, 36, 39, 40, 41, 42, 45, 46, 47]\",\"[0, 9, 11, 12, 16, 18, 19, 20, 22, 23, 24, 25, 26, 28, 29, 31, 33, 34, 36, 40, 41, 42, 45, 46, 47]\",\"[0, 9, 11, 12, 16, 18, 19, 20, 22, 23, 24, 25, 26, 29, 31, 33, 34, 36, 40, 41, 42, 45, 46, 47]\",\"[0, 9, 11, 12, 16, 18, 19, 20, 22, 23, 25, 26, 29, 31, 33, 34, 36, 40, 41, 42, 45, 46, 47]\",\"[0, 9, 11, 12, 16, 19, 20, 22, 23, 25, 26, 29, 31, 33, 34, 36, 40, 41, 42, 45, 46, 47]\",\"[0, 11, 12, 16, 19, 20, 22, 23, 25, 26, 29, 31, 33, 34, 36, 40, 41, 42, 45, 46, 47]\",\"[0, 11, 12, 16, 19, 20, 22, 23, 25, 29, 31, 33, 34, 36, 40, 41, 42, 45, 46, 47]\",\"[0, 11, 12, 16, 19, 20, 22, 23, 25, 29, 33, 34, 36, 40, 41, 42, 45, 46, 47]\",\"[0, 11, 12, 16, 19, 20, 22, 23, 25, 29, 33, 34, 36, 40, 41, 45, 46, 47]\",\"[0, 11, 12, 16, 19, 20, 22, 25, 29, 33, 34, 36, 40, 41, 45, 46, 47]\",\"[0, 11, 12, 16, 19, 20, 22, 25, 29, 34, 36, 40, 41, 45, 46, 47]\",\"[0, 11, 12, 16, 19, 20, 22, 29, 34, 36, 40, 41, 45, 46, 47]\",\"[0, 11, 12, 16, 19, 22, 29, 34, 36, 40, 41, 45, 46, 47]\",\"[0, 11, 12, 16, 19, 29, 34, 36, 40, 41, 45, 46, 47]\",\"[0, 11, 12, 16, 19, 29, 34, 36, 40, 41, 45, 46]\",\"[0, 11, 12, 16, 19, 29, 34, 36, 40, 41, 45]\",\"[0, 11, 12, 16, 19, 29, 34, 36, 41, 45]\",\"[0, 11, 12, 16, 19, 29, 34, 36, 41]\",\"[0, 11, 12, 16, 19, 29, 34, 36]\",\"[0, 11, 12, 16, 19, 34, 36]\",\"[0, 12, 16, 19, 34, 36]\",\"[0, 12, 16, 34, 36]\",\"[0, 16, 34, 36]\",\"[0, 34, 36]\",\"[0, 36]\",\"[36]\"],\"xaxis\":\"x\",\"y\":[0.9416652321815491,0.9301146268844604,0.9083428978919983,0.865223228931427,0.8724905252456665,0.8958735466003418,0.888591468334198,0.8801690340042114,0.8857265114784241,0.8830859065055847,0.8414223790168762,0.8005134463310242,0.8006725907325745,0.6978604197502136,0.6720374822616577,0.6629920601844788,0.695491373538971,0.6469871401786804,0.641823947429657,0.5747432708740234,0.5333713889122009,0.5793988108634949,0.6446154713630676,0.6292223334312439,0.6500760316848755,0.5662173628807068,0.5793377757072449,0.5326038002967834,0.4558819532394409,0.5103229880332947,0.4661678075790405,0.4013274312019348,0.3405931890010834,0.31950706243515015,0.37109375,0.33097606897354126,0.18816085159778595,0.25393664836883545,0.18899941444396973,0.10888675600290298,0.0913357138633728,0.30809980630874634,0.19844909012317657,0.356290727853775,0.1555977314710617,0.23211322724819183,0.0862603634595871,0.05642598867416382],\"yaxis\":\"y\",\"type\":\"bar\"}],                        {\"template\":{\"data\":{\"histogram2dcontour\":[{\"type\":\"histogram2dcontour\",\"colorbar\":{\"outlinewidth\":0,\"ticks\":\"\"},\"colorscale\":[[0.0,\"#0d0887\"],[0.1111111111111111,\"#46039f\"],[0.2222222222222222,\"#7201a8\"],[0.3333333333333333,\"#9c179e\"],[0.4444444444444444,\"#bd3786\"],[0.5555555555555556,\"#d8576b\"],[0.6666666666666666,\"#ed7953\"],[0.7777777777777778,\"#fb9f3a\"],[0.8888888888888888,\"#fdca26\"],[1.0,\"#f0f921\"]]}],\"choropleth\":[{\"type\":\"choropleth\",\"colorbar\":{\"outlinewidth\":0,\"ticks\":\"\"}}],\"histogram2d\":[{\"type\":\"histogram2d\",\"colorbar\":{\"outlinewidth\":0,\"ticks\":\"\"},\"colorscale\":[[0.0,\"#0d0887\"],[0.1111111111111111,\"#46039f\"],[0.2222222222222222,\"#7201a8\"],[0.3333333333333333,\"#9c179e\"],[0.4444444444444444,\"#bd3786\"],[0.5555555555555556,\"#d8576b\"],[0.6666666666666666,\"#ed7953\"],[0.7777777777777778,\"#fb9f3a\"],[0.8888888888888888,\"#fdca26\"],[1.0,\"#f0f921\"]]}],\"heatmap\":[{\"type\":\"heatmap\",\"colorbar\":{\"outlinewidth\":0,\"ticks\":\"\"},\"colorscale\":[[0.0,\"#0d0887\"],[0.1111111111111111,\"#46039f\"],[0.2222222222222222,\"#7201a8\"],[0.3333333333333333,\"#9c179e\"],[0.4444444444444444,\"#bd3786\"],[0.5555555555555556,\"#d8576b\"],[0.6666666666666666,\"#ed7953\"],[0.7777777777777778,\"#fb9f3a\"],[0.8888888888888888,\"#fdca26\"],[1.0,\"#f0f921\"]]}],\"heatmapgl\":[{\"type\":\"heatmapgl\",\"colorbar\":{\"outlinewidth\":0,\"ticks\":\"\"},\"colorscale\":[[0.0,\"#0d0887\"],[0.1111111111111111,\"#46039f\"],[0.2222222222222222,\"#7201a8\"],[0.3333333333333333,\"#9c179e\"],[0.4444444444444444,\"#bd3786\"],[0.5555555555555556,\"#d8576b\"],[0.6666666666666666,\"#ed7953\"],[0.7777777777777778,\"#fb9f3a\"],[0.8888888888888888,\"#fdca26\"],[1.0,\"#f0f921\"]]}],\"contourcarpet\":[{\"type\":\"contourcarpet\",\"colorbar\":{\"outlinewidth\":0,\"ticks\":\"\"}}],\"contour\":[{\"type\":\"contour\",\"colorbar\":{\"outlinewidth\":0,\"ticks\":\"\"},\"colorscale\":[[0.0,\"#0d0887\"],[0.1111111111111111,\"#46039f\"],[0.2222222222222222,\"#7201a8\"],[0.3333333333333333,\"#9c179e\"],[0.4444444444444444,\"#bd3786\"],[0.5555555555555556,\"#d8576b\"],[0.6666666666666666,\"#ed7953\"],[0.7777777777777778,\"#fb9f3a\"],[0.8888888888888888,\"#fdca26\"],[1.0,\"#f0f921\"]]}],\"surface\":[{\"type\":\"surface\",\"colorbar\":{\"outlinewidth\":0,\"ticks\":\"\"},\"colorscale\":[[0.0,\"#0d0887\"],[0.1111111111111111,\"#46039f\"],[0.2222222222222222,\"#7201a8\"],[0.3333333333333333,\"#9c179e\"],[0.4444444444444444,\"#bd3786\"],[0.5555555555555556,\"#d8576b\"],[0.6666666666666666,\"#ed7953\"],[0.7777777777777778,\"#fb9f3a\"],[0.8888888888888888,\"#fdca26\"],[1.0,\"#f0f921\"]]}],\"mesh3d\":[{\"type\":\"mesh3d\",\"colorbar\":{\"outlinewidth\":0,\"ticks\":\"\"}}],\"scatter\":[{\"fillpattern\":{\"fillmode\":\"overlay\",\"size\":10,\"solidity\":0.2},\"type\":\"scatter\"}],\"parcoords\":[{\"type\":\"parcoords\",\"line\":{\"colorbar\":{\"outlinewidth\":0,\"ticks\":\"\"}}}],\"scatterpolargl\":[{\"type\":\"scatterpolargl\",\"marker\":{\"colorbar\":{\"outlinewidth\":0,\"ticks\":\"\"}}}],\"bar\":[{\"error_x\":{\"color\":\"#2a3f5f\"},\"error_y\":{\"color\":\"#2a3f5f\"},\"marker\":{\"line\":{\"color\":\"#E5ECF6\",\"width\":0.5},\"pattern\":{\"fillmode\":\"overlay\",\"size\":10,\"solidity\":0.2}},\"type\":\"bar\"}],\"scattergeo\":[{\"type\":\"scattergeo\",\"marker\":{\"colorbar\":{\"outlinewidth\":0,\"ticks\":\"\"}}}],\"scatterpolar\":[{\"type\":\"scatterpolar\",\"marker\":{\"colorbar\":{\"outlinewidth\":0,\"ticks\":\"\"}}}],\"histogram\":[{\"marker\":{\"pattern\":{\"fillmode\":\"overlay\",\"size\":10,\"solidity\":0.2}},\"type\":\"histogram\"}],\"scattergl\":[{\"type\":\"scattergl\",\"marker\":{\"colorbar\":{\"outlinewidth\":0,\"ticks\":\"\"}}}],\"scatter3d\":[{\"type\":\"scatter3d\",\"line\":{\"colorbar\":{\"outlinewidth\":0,\"ticks\":\"\"}},\"marker\":{\"colorbar\":{\"outlinewidth\":0,\"ticks\":\"\"}}}],\"scattermapbox\":[{\"type\":\"scattermapbox\",\"marker\":{\"colorbar\":{\"outlinewidth\":0,\"ticks\":\"\"}}}],\"scatterternary\":[{\"type\":\"scatterternary\",\"marker\":{\"colorbar\":{\"outlinewidth\":0,\"ticks\":\"\"}}}],\"scattercarpet\":[{\"type\":\"scattercarpet\",\"marker\":{\"colorbar\":{\"outlinewidth\":0,\"ticks\":\"\"}}}],\"carpet\":[{\"aaxis\":{\"endlinecolor\":\"#2a3f5f\",\"gridcolor\":\"white\",\"linecolor\":\"white\",\"minorgridcolor\":\"white\",\"startlinecolor\":\"#2a3f5f\"},\"baxis\":{\"endlinecolor\":\"#2a3f5f\",\"gridcolor\":\"white\",\"linecolor\":\"white\",\"minorgridcolor\":\"white\",\"startlinecolor\":\"#2a3f5f\"},\"type\":\"carpet\"}],\"table\":[{\"cells\":{\"fill\":{\"color\":\"#EBF0F8\"},\"line\":{\"color\":\"white\"}},\"header\":{\"fill\":{\"color\":\"#C8D4E3\"},\"line\":{\"color\":\"white\"}},\"type\":\"table\"}],\"barpolar\":[{\"marker\":{\"line\":{\"color\":\"#E5ECF6\",\"width\":0.5},\"pattern\":{\"fillmode\":\"overlay\",\"size\":10,\"solidity\":0.2}},\"type\":\"barpolar\"}],\"pie\":[{\"automargin\":true,\"type\":\"pie\"}]},\"layout\":{\"autotypenumbers\":\"strict\",\"colorway\":[\"#636efa\",\"#EF553B\",\"#00cc96\",\"#ab63fa\",\"#FFA15A\",\"#19d3f3\",\"#FF6692\",\"#B6E880\",\"#FF97FF\",\"#FECB52\"],\"font\":{\"color\":\"#2a3f5f\"},\"hovermode\":\"closest\",\"hoverlabel\":{\"align\":\"left\"},\"paper_bgcolor\":\"white\",\"plot_bgcolor\":\"#E5ECF6\",\"polar\":{\"bgcolor\":\"#E5ECF6\",\"angularaxis\":{\"gridcolor\":\"white\",\"linecolor\":\"white\",\"ticks\":\"\"},\"radialaxis\":{\"gridcolor\":\"white\",\"linecolor\":\"white\",\"ticks\":\"\"}},\"ternary\":{\"bgcolor\":\"#E5ECF6\",\"aaxis\":{\"gridcolor\":\"white\",\"linecolor\":\"white\",\"ticks\":\"\"},\"baxis\":{\"gridcolor\":\"white\",\"linecolor\":\"white\",\"ticks\":\"\"},\"caxis\":{\"gridcolor\":\"white\",\"linecolor\":\"white\",\"ticks\":\"\"}},\"coloraxis\":{\"colorbar\":{\"outlinewidth\":0,\"ticks\":\"\"}},\"colorscale\":{\"sequential\":[[0.0,\"#0d0887\"],[0.1111111111111111,\"#46039f\"],[0.2222222222222222,\"#7201a8\"],[0.3333333333333333,\"#9c179e\"],[0.4444444444444444,\"#bd3786\"],[0.5555555555555556,\"#d8576b\"],[0.6666666666666666,\"#ed7953\"],[0.7777777777777778,\"#fb9f3a\"],[0.8888888888888888,\"#fdca26\"],[1.0,\"#f0f921\"]],\"sequentialminus\":[[0.0,\"#0d0887\"],[0.1111111111111111,\"#46039f\"],[0.2222222222222222,\"#7201a8\"],[0.3333333333333333,\"#9c179e\"],[0.4444444444444444,\"#bd3786\"],[0.5555555555555556,\"#d8576b\"],[0.6666666666666666,\"#ed7953\"],[0.7777777777777778,\"#fb9f3a\"],[0.8888888888888888,\"#fdca26\"],[1.0,\"#f0f921\"]],\"diverging\":[[0,\"#8e0152\"],[0.1,\"#c51b7d\"],[0.2,\"#de77ae\"],[0.3,\"#f1b6da\"],[0.4,\"#fde0ef\"],[0.5,\"#f7f7f7\"],[0.6,\"#e6f5d0\"],[0.7,\"#b8e186\"],[0.8,\"#7fbc41\"],[0.9,\"#4d9221\"],[1,\"#276419\"]]},\"xaxis\":{\"gridcolor\":\"white\",\"linecolor\":\"white\",\"ticks\":\"\",\"title\":{\"standoff\":15},\"zerolinecolor\":\"white\",\"automargin\":true,\"zerolinewidth\":2},\"yaxis\":{\"gridcolor\":\"white\",\"linecolor\":\"white\",\"ticks\":\"\",\"title\":{\"standoff\":15},\"zerolinecolor\":\"white\",\"automargin\":true,\"zerolinewidth\":2},\"scene\":{\"xaxis\":{\"backgroundcolor\":\"#E5ECF6\",\"gridcolor\":\"white\",\"linecolor\":\"white\",\"showbackground\":true,\"ticks\":\"\",\"zerolinecolor\":\"white\",\"gridwidth\":2},\"yaxis\":{\"backgroundcolor\":\"#E5ECF6\",\"gridcolor\":\"white\",\"linecolor\":\"white\",\"showbackground\":true,\"ticks\":\"\",\"zerolinecolor\":\"white\",\"gridwidth\":2},\"zaxis\":{\"backgroundcolor\":\"#E5ECF6\",\"gridcolor\":\"white\",\"linecolor\":\"white\",\"showbackground\":true,\"ticks\":\"\",\"zerolinecolor\":\"white\",\"gridwidth\":2}},\"shapedefaults\":{\"line\":{\"color\":\"#2a3f5f\"}},\"annotationdefaults\":{\"arrowcolor\":\"#2a3f5f\",\"arrowhead\":0,\"arrowwidth\":1},\"geo\":{\"bgcolor\":\"white\",\"landcolor\":\"#E5ECF6\",\"subunitcolor\":\"white\",\"showland\":true,\"showlakes\":true,\"lakecolor\":\"white\"},\"title\":{\"x\":0.05},\"mapbox\":{\"style\":\"light\"}}},\"xaxis\":{\"anchor\":\"y\",\"domain\":[0.0,1.0],\"title\":{\"text\":\"x\"},\"tickmode\":\"array\",\"tickvals\":[\"[0, 1, 2, 3, 4, 5, 6, 7, 8, 9, 10, 11, 12, 13, 14, 15, 16, 17, 18, 19, 20, 21, 22, 23, 24, 25, 26, 27, 28, 29, 30, 31, 32, 33, 34, 35, 36, 37, 38, 39, 40, 41, 42, 43, 44, 45, 46, 47]\",\"[0, 1, 2, 3, 4, 5, 6, 7, 8, 9, 10, 11, 12, 13, 14, 15, 16, 17, 18, 19, 20, 21, 22, 23, 24, 25, 26, 27, 28, 29, 30, 31, 32, 33, 34, 35, 36, 37, 38, 39, 40, 41, 42, 43, 45, 46, 47]\",\"[0, 2, 3, 4, 5, 6, 7, 8, 9, 10, 11, 12, 13, 14, 15, 16, 17, 18, 19, 20, 21, 22, 23, 24, 25, 26, 27, 28, 29, 30, 31, 32, 33, 34, 35, 36, 37, 38, 39, 40, 41, 42, 43, 45, 46, 47]\",\"[0, 3, 4, 5, 6, 7, 8, 9, 10, 11, 12, 13, 14, 15, 16, 17, 18, 19, 20, 21, 22, 23, 24, 25, 26, 27, 28, 29, 30, 31, 32, 33, 34, 35, 36, 37, 38, 39, 40, 41, 42, 43, 45, 46, 47]\",\"[0, 3, 4, 5, 7, 8, 9, 10, 11, 12, 13, 14, 15, 16, 17, 18, 19, 20, 21, 22, 23, 24, 25, 26, 27, 28, 29, 30, 31, 32, 33, 34, 35, 36, 37, 38, 39, 40, 41, 42, 43, 45, 46, 47]\",\"[0, 3, 4, 5, 8, 9, 10, 11, 12, 13, 14, 15, 16, 17, 18, 19, 20, 21, 22, 23, 24, 25, 26, 27, 28, 29, 30, 31, 32, 33, 34, 35, 36, 37, 38, 39, 40, 41, 42, 43, 45, 46, 47]\",\"[0, 4, 5, 8, 9, 10, 11, 12, 13, 14, 15, 16, 17, 18, 19, 20, 21, 22, 23, 24, 25, 26, 27, 28, 29, 30, 31, 32, 33, 34, 35, 36, 37, 38, 39, 40, 41, 42, 43, 45, 46, 47]\",\"[0, 4, 8, 9, 10, 11, 12, 13, 14, 15, 16, 17, 18, 19, 20, 21, 22, 23, 24, 25, 26, 27, 28, 29, 30, 31, 32, 33, 34, 35, 36, 37, 38, 39, 40, 41, 42, 43, 45, 46, 47]\",\"[0, 4, 9, 10, 11, 12, 13, 14, 15, 16, 17, 18, 19, 20, 21, 22, 23, 24, 25, 26, 27, 28, 29, 30, 31, 32, 33, 34, 35, 36, 37, 38, 39, 40, 41, 42, 43, 45, 46, 47]\",\"[0, 4, 9, 11, 12, 13, 14, 15, 16, 17, 18, 19, 20, 21, 22, 23, 24, 25, 26, 27, 28, 29, 30, 31, 32, 33, 34, 35, 36, 37, 38, 39, 40, 41, 42, 43, 45, 46, 47]\",\"[0, 4, 9, 11, 12, 14, 15, 16, 17, 18, 19, 20, 21, 22, 23, 24, 25, 26, 27, 28, 29, 30, 31, 32, 33, 34, 35, 36, 37, 38, 39, 40, 41, 42, 43, 45, 46, 47]\",\"[0, 4, 9, 11, 12, 15, 16, 17, 18, 19, 20, 21, 22, 23, 24, 25, 26, 27, 28, 29, 30, 31, 32, 33, 34, 35, 36, 37, 38, 39, 40, 41, 42, 43, 45, 46, 47]\",\"[0, 9, 11, 12, 15, 16, 17, 18, 19, 20, 21, 22, 23, 24, 25, 26, 27, 28, 29, 30, 31, 32, 33, 34, 35, 36, 37, 38, 39, 40, 41, 42, 43, 45, 46, 47]\",\"[0, 9, 11, 12, 15, 16, 17, 18, 19, 20, 21, 22, 23, 24, 25, 26, 27, 28, 29, 30, 31, 32, 33, 34, 35, 36, 38, 39, 40, 41, 42, 43, 45, 46, 47]\",\"[0, 9, 11, 12, 15, 16, 17, 18, 19, 20, 21, 22, 23, 24, 25, 26, 27, 28, 29, 31, 32, 33, 34, 35, 36, 38, 39, 40, 41, 42, 43, 45, 46, 47]\",\"[0, 9, 11, 12, 15, 16, 17, 18, 19, 20, 21, 22, 23, 24, 25, 26, 28, 29, 31, 32, 33, 34, 35, 36, 38, 39, 40, 41, 42, 43, 45, 46, 47]\",\"[0, 9, 11, 12, 15, 16, 17, 18, 19, 20, 21, 22, 23, 24, 25, 26, 28, 29, 31, 32, 33, 34, 36, 38, 39, 40, 41, 42, 43, 45, 46, 47]\",\"[0, 9, 11, 12, 15, 16, 17, 18, 19, 20, 21, 22, 23, 24, 25, 26, 28, 29, 31, 32, 33, 34, 36, 39, 40, 41, 42, 43, 45, 46, 47]\",\"[0, 9, 11, 12, 15, 16, 17, 18, 19, 20, 21, 22, 23, 24, 25, 26, 28, 29, 31, 33, 34, 36, 39, 40, 41, 42, 43, 45, 46, 47]\",\"[0, 9, 11, 12, 15, 16, 17, 18, 19, 20, 22, 23, 24, 25, 26, 28, 29, 31, 33, 34, 36, 39, 40, 41, 42, 43, 45, 46, 47]\",\"[0, 9, 11, 12, 16, 17, 18, 19, 20, 22, 23, 24, 25, 26, 28, 29, 31, 33, 34, 36, 39, 40, 41, 42, 43, 45, 46, 47]\",\"[0, 9, 11, 12, 16, 18, 19, 20, 22, 23, 24, 25, 26, 28, 29, 31, 33, 34, 36, 39, 40, 41, 42, 43, 45, 46, 47]\",\"[0, 9, 11, 12, 16, 18, 19, 20, 22, 23, 24, 25, 26, 28, 29, 31, 33, 34, 36, 39, 40, 41, 42, 45, 46, 47]\",\"[0, 9, 11, 12, 16, 18, 19, 20, 22, 23, 24, 25, 26, 28, 29, 31, 33, 34, 36, 40, 41, 42, 45, 46, 47]\",\"[0, 9, 11, 12, 16, 18, 19, 20, 22, 23, 24, 25, 26, 29, 31, 33, 34, 36, 40, 41, 42, 45, 46, 47]\",\"[0, 9, 11, 12, 16, 18, 19, 20, 22, 23, 25, 26, 29, 31, 33, 34, 36, 40, 41, 42, 45, 46, 47]\",\"[0, 9, 11, 12, 16, 19, 20, 22, 23, 25, 26, 29, 31, 33, 34, 36, 40, 41, 42, 45, 46, 47]\",\"[0, 11, 12, 16, 19, 20, 22, 23, 25, 26, 29, 31, 33, 34, 36, 40, 41, 42, 45, 46, 47]\",\"[0, 11, 12, 16, 19, 20, 22, 23, 25, 29, 31, 33, 34, 36, 40, 41, 42, 45, 46, 47]\",\"[0, 11, 12, 16, 19, 20, 22, 23, 25, 29, 33, 34, 36, 40, 41, 42, 45, 46, 47]\",\"[0, 11, 12, 16, 19, 20, 22, 23, 25, 29, 33, 34, 36, 40, 41, 45, 46, 47]\",\"[0, 11, 12, 16, 19, 20, 22, 25, 29, 33, 34, 36, 40, 41, 45, 46, 47]\",\"[0, 11, 12, 16, 19, 20, 22, 25, 29, 34, 36, 40, 41, 45, 46, 47]\",\"[0, 11, 12, 16, 19, 20, 22, 29, 34, 36, 40, 41, 45, 46, 47]\",\"[0, 11, 12, 16, 19, 22, 29, 34, 36, 40, 41, 45, 46, 47]\",\"[0, 11, 12, 16, 19, 29, 34, 36, 40, 41, 45, 46, 47]\",\"[0, 11, 12, 16, 19, 29, 34, 36, 40, 41, 45, 46]\",\"[0, 11, 12, 16, 19, 29, 34, 36, 40, 41, 45]\",\"[0, 11, 12, 16, 19, 29, 34, 36, 41, 45]\",\"[0, 11, 12, 16, 19, 29, 34, 36, 41]\",\"[0, 11, 12, 16, 19, 29, 34, 36]\",\"[0, 11, 12, 16, 19, 34, 36]\",\"[0, 12, 16, 19, 34, 36]\",\"[0, 12, 16, 34, 36]\",\"[0, 16, 34, 36]\",\"[0, 34, 36]\",\"[0, 36]\",\"[36]\"],\"ticktext\":[\"[0, 1, 2, 3, 4, 5, 6, 7, 8, 9, 10, 11, 12, 13, 14, 15, 16, 17, 18, 19, 20, 21, 22, 23, 24, 25, 26, 27, 28, 29, 30, 31, 32, 33, 34, 35, 36, 37, 38, 39, 40, 41, 42, 43, 44, 45, 46, 47]\",\"[0, 1, 2, 3, 4, 5, 6, 7, 8, 9, 10, 11, 12, 13, 14, 15, 16, 17, 18, 19, 20, 21, 22, 23, 24, 25, 26, 27, 28, 29, 30, 31, 32, 33, 34, 35, 36, 37, 38, 39, 40, 41, 42, 43, 45, 46, 47]\",\"[0, 2, 3, 4, 5, 6, 7, 8, 9, 10, 11, 12, 13, 14, 15, 16, 17, 18, 19, 20, 21, 22, 23, 24, 25, 26, 27, 28, 29, 30, 31, 32, 33, 34, 35, 36, 37, 38, 39, 40, 41, 42, 43, 45, 46, 47]\",\"[0, 3, 4, 5, 6, 7, 8, 9, 10, 11, 12, 13, 14, 15, 16, 17, 18, 19, 20, 21, 22, 23, 24, 25, 26, 27, 28, 29, 30, 31, 32, 33, 34, 35, 36, 37, 38, 39, 40, 41, 42, 43, 45, 46, 47]\",\"[0, 3, 4, 5, 7, 8, 9, 10, 11, 12, 13, 14, 15, 16, 17, 18, 19, 20, 21, 22, 23, 24, 25, 26, 27, 28, 29, 30, 31, 32, 33, 34, 35, 36, 37, 38, 39, 40, 41, 42, 43, 45, 46, 47]\",\"[0, 3, 4, 5, 8, 9, 10, 11, 12, 13, 14, 15, 16, 17, 18, 19, 20, 21, 22, 23, 24, 25, 26, 27, 28, 29, 30, 31, 32, 33, 34, 35, 36, 37, 38, 39, 40, 41, 42, 43, 45, 46, 47]\",\"[0, 4, 5, 8, 9, 10, 11, 12, 13, 14, 15, 16, 17, 18, 19, 20, 21, 22, 23, 24, 25, 26, 27, 28, 29, 30, 31, 32, 33, 34, 35, 36, 37, 38, 39, 40, 41, 42, 43, 45, 46, 47]\",\"[0, 4, 8, 9, 10, 11, 12, 13, 14, 15, 16, 17, 18, 19, 20, 21, 22, 23, 24, 25, 26, 27, 28, 29, 30, 31, 32, 33, 34, 35, 36, 37, 38, 39, 40, 41, 42, 43, 45, 46, 47]\",\"[0, 4, 9, 10, 11, 12, 13, 14, 15, 16, 17, 18, 19, 20, 21, 22, 23, 24, 25, 26, 27, 28, 29, 30, 31, 32, 33, 34, 35, 36, 37, 38, 39, 40, 41, 42, 43, 45, 46, 47]\",\"[0, 4, 9, 11, 12, 13, 14, 15, 16, 17, 18, 19, 20, 21, 22, 23, 24, 25, 26, 27, 28, 29, 30, 31, 32, 33, 34, 35, 36, 37, 38, 39, 40, 41, 42, 43, 45, 46, 47]\",\"[0, 4, 9, 11, 12, 14, 15, 16, 17, 18, 19, 20, 21, 22, 23, 24, 25, 26, 27, 28, 29, 30, 31, 32, 33, 34, 35, 36, 37, 38, 39, 40, 41, 42, 43, 45, 46, 47]\",\"[0, 4, 9, 11, 12, 15, 16, 17, 18, 19, 20, 21, 22, 23, 24, 25, 26, 27, 28, 29, 30, 31, 32, 33, 34, 35, 36, 37, 38, 39, 40, 41, 42, 43, 45, 46, 47]\",\"[0, 9, 11, 12, 15, 16, 17, 18, 19, 20, 21, 22, 23, 24, 25, 26, 27, 28, 29, 30, 31, 32, 33, 34, 35, 36, 37, 38, 39, 40, 41, 42, 43, 45, 46, 47]\",\"[0, 9, 11, 12, 15, 16, 17, 18, 19, 20, 21, 22, 23, 24, 25, 26, 27, 28, 29, 30, 31, 32, 33, 34, 35, 36, 38, 39, 40, 41, 42, 43, 45, 46, 47]\",\"[0, 9, 11, 12, 15, 16, 17, 18, 19, 20, 21, 22, 23, 24, 25, 26, 27, 28, 29, 31, 32, 33, 34, 35, 36, 38, 39, 40, 41, 42, 43, 45, 46, 47]\",\"[0, 9, 11, 12, 15, 16, 17, 18, 19, 20, 21, 22, 23, 24, 25, 26, 28, 29, 31, 32, 33, 34, 35, 36, 38, 39, 40, 41, 42, 43, 45, 46, 47]\",\"[0, 9, 11, 12, 15, 16, 17, 18, 19, 20, 21, 22, 23, 24, 25, 26, 28, 29, 31, 32, 33, 34, 36, 38, 39, 40, 41, 42, 43, 45, 46, 47]\",\"[0, 9, 11, 12, 15, 16, 17, 18, 19, 20, 21, 22, 23, 24, 25, 26, 28, 29, 31, 32, 33, 34, 36, 39, 40, 41, 42, 43, 45, 46, 47]\",\"[0, 9, 11, 12, 15, 16, 17, 18, 19, 20, 21, 22, 23, 24, 25, 26, 28, 29, 31, 33, 34, 36, 39, 40, 41, 42, 43, 45, 46, 47]\",\"[0, 9, 11, 12, 15, 16, 17, 18, 19, 20, 22, 23, 24, 25, 26, 28, 29, 31, 33, 34, 36, 39, 40, 41, 42, 43, 45, 46, 47]\",\"[0, 9, 11, 12, 16, 17, 18, 19, 20, 22, 23, 24, 25, 26, 28, 29, 31, 33, 34, 36, 39, 40, 41, 42, 43, 45, 46, 47]\",\"[0, 9, 11, 12, 16, 18, 19, 20, 22, 23, 24, 25, 26, 28, 29, 31, 33, 34, 36, 39, 40, 41, 42, 43, 45, 46, 47]\",\"[0, 9, 11, 12, 16, 18, 19, 20, 22, 23, 24, 25, 26, 28, 29, 31, 33, 34, 36, 39, 40, 41, 42, 45, 46, 47]\",\"[0, 9, 11, 12, 16, 18, 19, 20, 22, 23, 24, 25, 26, 28, 29, 31, 33, 34, 36, 40, 41, 42, 45, 46, 47]\",\"[0, 9, 11, 12, 16, 18, 19, 20, 22, 23, 24, 25, 26, 29, 31, 33, 34, 36, 40, 41, 42, 45, 46, 47]\",\"[0, 9, 11, 12, 16, 18, 19, 20, 22, 23, 25, 26, 29, 31, 33, 34, 36, 40, 41, 42, 45, 46, 47]\",\"[0, 9, 11, 12, 16, 19, 20, 22, 23, 25, 26, 29, 31, 33, 34, 36, 40, 41, 42, 45, 46, 47]\",\"[0, 11, 12, 16, 19, 20, 22, 23, 25, 26, 29, 31, 33, 34, 36, 40, 41, 42, 45, 46, 47]\",\"[0, 11, 12, 16, 19, 20, 22, 23, 25, 29, 31, 33, 34, 36, 40, 41, 42, 45, 46, 47]\",\"[0, 11, 12, 16, 19, 20, 22, 23, 25, 29, 33, 34, 36, 40, 41, 42, 45, 46, 47]\",\"[0, 11, 12, 16, 19, 20, 22, 23, 25, 29, 33, 34, 36, 40, 41, 45, 46, 47]\",\"[0, 11, 12, 16, 19, 20, 22, 25, 29, 33, 34, 36, 40, 41, 45, 46, 47]\",\"[0, 11, 12, 16, 19, 20, 22, 25, 29, 34, 36, 40, 41, 45, 46, 47]\",\"[0, 11, 12, 16, 19, 20, 22, 29, 34, 36, 40, 41, 45, 46, 47]\",\"[0, 11, 12, 16, 19, 22, 29, 34, 36, 40, 41, 45, 46, 47]\",\"[0, 11, 12, 16, 19, 29, 34, 36, 40, 41, 45, 46, 47]\",\"[0, 11, 12, 16, 19, 29, 34, 36, 40, 41, 45, 46]\",\"[0, 11, 12, 16, 19, 29, 34, 36, 40, 41, 45]\",\"[0, 11, 12, 16, 19, 29, 34, 36, 41, 45]\",\"[0, 11, 12, 16, 19, 29, 34, 36, 41]\",\"[0, 11, 12, 16, 19, 29, 34, 36]\",\"[0, 11, 12, 16, 19, 34, 36]\",\"[0, 12, 16, 19, 34, 36]\",\"[0, 12, 16, 34, 36]\",\"[0, 16, 34, 36]\",\"[0, 34, 36]\",\"[0, 36]\",\"[36]\"]},\"yaxis\":{\"anchor\":\"x\",\"domain\":[0.0,1.0],\"title\":{\"text\":\" pr of correct\"}},\"legend\":{\"tracegroupgap\":0},\"title\":{\"text\":\"greater than task, pruning layers pr correct\"},\"barmode\":\"relative\",\"font\":{\"size\":7,\"color\":\"black\"}},                        {\"responsive\": true}                    ).then(function(){\n",
       "                            \n",
       "var gd = document.getElementById('a9167666-a1b5-4cde-b398-986a03da9a14');\n",
       "var x = new MutationObserver(function (mutations, observer) {{\n",
       "        var display = window.getComputedStyle(gd).display;\n",
       "        if (!display || display === 'none') {{\n",
       "            console.log([gd, 'removed!']);\n",
       "            Plotly.purge(gd);\n",
       "            observer.disconnect();\n",
       "        }}\n",
       "}});\n",
       "\n",
       "// Listen for the removal of the full notebook cells\n",
       "var notebookContainer = gd.closest('#notebook-container');\n",
       "if (notebookContainer) {{\n",
       "    x.observe(notebookContainer, {childList: true});\n",
       "}}\n",
       "\n",
       "// Listen for the clearing of the current output cell\n",
       "var outputEl = gd.closest('.output');\n",
       "if (outputEl) {{\n",
       "    x.observe(outputEl, {childList: true});\n",
       "}}\n",
       "\n",
       "                        })                };                });            </script>        </div>"
      ]
     },
     "metadata": {},
     "output_type": "display_data"
    },
    {
     "data": {
      "application/vnd.plotly.v1+json": {
       "config": {
        "plotlyServerURL": "https://plot.ly"
       },
       "data": [
        {
         "alignmentgroup": "True",
         "hovertemplate": "x=%{x}<br> pr of incorrect=%{y}<extra></extra>",
         "legendgroup": "",
         "marker": {
          "color": "#636efa",
          "pattern": {
           "shape": ""
          }
         },
         "name": "",
         "offsetgroup": "",
         "orientation": "v",
         "showlegend": false,
         "textposition": "auto",
         "type": "bar",
         "x": [
          "[0, 1, 2, 3, 4, 5, 6, 7, 8, 9, 10, 11, 12, 13, 14, 15, 16, 17, 18, 19, 20, 21, 22, 23, 24, 25, 26, 27, 28, 29, 30, 31, 32, 33, 34, 35, 36, 37, 38, 39, 40, 41, 42, 43, 44, 45, 46, 47]",
          "[0, 1, 2, 3, 4, 5, 6, 7, 8, 9, 10, 11, 12, 13, 14, 15, 16, 17, 18, 19, 20, 21, 22, 23, 24, 25, 26, 27, 28, 29, 30, 31, 32, 33, 34, 35, 36, 37, 38, 39, 40, 41, 42, 43, 45, 46, 47]",
          "[0, 2, 3, 4, 5, 6, 7, 8, 9, 10, 11, 12, 13, 14, 15, 16, 17, 18, 19, 20, 21, 22, 23, 24, 25, 26, 27, 28, 29, 30, 31, 32, 33, 34, 35, 36, 37, 38, 39, 40, 41, 42, 43, 45, 46, 47]",
          "[0, 3, 4, 5, 6, 7, 8, 9, 10, 11, 12, 13, 14, 15, 16, 17, 18, 19, 20, 21, 22, 23, 24, 25, 26, 27, 28, 29, 30, 31, 32, 33, 34, 35, 36, 37, 38, 39, 40, 41, 42, 43, 45, 46, 47]",
          "[0, 3, 4, 5, 7, 8, 9, 10, 11, 12, 13, 14, 15, 16, 17, 18, 19, 20, 21, 22, 23, 24, 25, 26, 27, 28, 29, 30, 31, 32, 33, 34, 35, 36, 37, 38, 39, 40, 41, 42, 43, 45, 46, 47]",
          "[0, 3, 4, 5, 8, 9, 10, 11, 12, 13, 14, 15, 16, 17, 18, 19, 20, 21, 22, 23, 24, 25, 26, 27, 28, 29, 30, 31, 32, 33, 34, 35, 36, 37, 38, 39, 40, 41, 42, 43, 45, 46, 47]",
          "[0, 4, 5, 8, 9, 10, 11, 12, 13, 14, 15, 16, 17, 18, 19, 20, 21, 22, 23, 24, 25, 26, 27, 28, 29, 30, 31, 32, 33, 34, 35, 36, 37, 38, 39, 40, 41, 42, 43, 45, 46, 47]",
          "[0, 4, 8, 9, 10, 11, 12, 13, 14, 15, 16, 17, 18, 19, 20, 21, 22, 23, 24, 25, 26, 27, 28, 29, 30, 31, 32, 33, 34, 35, 36, 37, 38, 39, 40, 41, 42, 43, 45, 46, 47]",
          "[0, 4, 9, 10, 11, 12, 13, 14, 15, 16, 17, 18, 19, 20, 21, 22, 23, 24, 25, 26, 27, 28, 29, 30, 31, 32, 33, 34, 35, 36, 37, 38, 39, 40, 41, 42, 43, 45, 46, 47]",
          "[0, 4, 9, 11, 12, 13, 14, 15, 16, 17, 18, 19, 20, 21, 22, 23, 24, 25, 26, 27, 28, 29, 30, 31, 32, 33, 34, 35, 36, 37, 38, 39, 40, 41, 42, 43, 45, 46, 47]",
          "[0, 4, 9, 11, 12, 14, 15, 16, 17, 18, 19, 20, 21, 22, 23, 24, 25, 26, 27, 28, 29, 30, 31, 32, 33, 34, 35, 36, 37, 38, 39, 40, 41, 42, 43, 45, 46, 47]",
          "[0, 4, 9, 11, 12, 15, 16, 17, 18, 19, 20, 21, 22, 23, 24, 25, 26, 27, 28, 29, 30, 31, 32, 33, 34, 35, 36, 37, 38, 39, 40, 41, 42, 43, 45, 46, 47]",
          "[0, 9, 11, 12, 15, 16, 17, 18, 19, 20, 21, 22, 23, 24, 25, 26, 27, 28, 29, 30, 31, 32, 33, 34, 35, 36, 37, 38, 39, 40, 41, 42, 43, 45, 46, 47]",
          "[0, 9, 11, 12, 15, 16, 17, 18, 19, 20, 21, 22, 23, 24, 25, 26, 27, 28, 29, 30, 31, 32, 33, 34, 35, 36, 38, 39, 40, 41, 42, 43, 45, 46, 47]",
          "[0, 9, 11, 12, 15, 16, 17, 18, 19, 20, 21, 22, 23, 24, 25, 26, 27, 28, 29, 31, 32, 33, 34, 35, 36, 38, 39, 40, 41, 42, 43, 45, 46, 47]",
          "[0, 9, 11, 12, 15, 16, 17, 18, 19, 20, 21, 22, 23, 24, 25, 26, 28, 29, 31, 32, 33, 34, 35, 36, 38, 39, 40, 41, 42, 43, 45, 46, 47]",
          "[0, 9, 11, 12, 15, 16, 17, 18, 19, 20, 21, 22, 23, 24, 25, 26, 28, 29, 31, 32, 33, 34, 36, 38, 39, 40, 41, 42, 43, 45, 46, 47]",
          "[0, 9, 11, 12, 15, 16, 17, 18, 19, 20, 21, 22, 23, 24, 25, 26, 28, 29, 31, 32, 33, 34, 36, 39, 40, 41, 42, 43, 45, 46, 47]",
          "[0, 9, 11, 12, 15, 16, 17, 18, 19, 20, 21, 22, 23, 24, 25, 26, 28, 29, 31, 33, 34, 36, 39, 40, 41, 42, 43, 45, 46, 47]",
          "[0, 9, 11, 12, 15, 16, 17, 18, 19, 20, 22, 23, 24, 25, 26, 28, 29, 31, 33, 34, 36, 39, 40, 41, 42, 43, 45, 46, 47]",
          "[0, 9, 11, 12, 16, 17, 18, 19, 20, 22, 23, 24, 25, 26, 28, 29, 31, 33, 34, 36, 39, 40, 41, 42, 43, 45, 46, 47]",
          "[0, 9, 11, 12, 16, 18, 19, 20, 22, 23, 24, 25, 26, 28, 29, 31, 33, 34, 36, 39, 40, 41, 42, 43, 45, 46, 47]",
          "[0, 9, 11, 12, 16, 18, 19, 20, 22, 23, 24, 25, 26, 28, 29, 31, 33, 34, 36, 39, 40, 41, 42, 45, 46, 47]",
          "[0, 9, 11, 12, 16, 18, 19, 20, 22, 23, 24, 25, 26, 28, 29, 31, 33, 34, 36, 40, 41, 42, 45, 46, 47]",
          "[0, 9, 11, 12, 16, 18, 19, 20, 22, 23, 24, 25, 26, 29, 31, 33, 34, 36, 40, 41, 42, 45, 46, 47]",
          "[0, 9, 11, 12, 16, 18, 19, 20, 22, 23, 25, 26, 29, 31, 33, 34, 36, 40, 41, 42, 45, 46, 47]",
          "[0, 9, 11, 12, 16, 19, 20, 22, 23, 25, 26, 29, 31, 33, 34, 36, 40, 41, 42, 45, 46, 47]",
          "[0, 11, 12, 16, 19, 20, 22, 23, 25, 26, 29, 31, 33, 34, 36, 40, 41, 42, 45, 46, 47]",
          "[0, 11, 12, 16, 19, 20, 22, 23, 25, 29, 31, 33, 34, 36, 40, 41, 42, 45, 46, 47]",
          "[0, 11, 12, 16, 19, 20, 22, 23, 25, 29, 33, 34, 36, 40, 41, 42, 45, 46, 47]",
          "[0, 11, 12, 16, 19, 20, 22, 23, 25, 29, 33, 34, 36, 40, 41, 45, 46, 47]",
          "[0, 11, 12, 16, 19, 20, 22, 25, 29, 33, 34, 36, 40, 41, 45, 46, 47]",
          "[0, 11, 12, 16, 19, 20, 22, 25, 29, 34, 36, 40, 41, 45, 46, 47]",
          "[0, 11, 12, 16, 19, 20, 22, 29, 34, 36, 40, 41, 45, 46, 47]",
          "[0, 11, 12, 16, 19, 22, 29, 34, 36, 40, 41, 45, 46, 47]",
          "[0, 11, 12, 16, 19, 29, 34, 36, 40, 41, 45, 46, 47]",
          "[0, 11, 12, 16, 19, 29, 34, 36, 40, 41, 45, 46]",
          "[0, 11, 12, 16, 19, 29, 34, 36, 40, 41, 45]",
          "[0, 11, 12, 16, 19, 29, 34, 36, 41, 45]",
          "[0, 11, 12, 16, 19, 29, 34, 36, 41]",
          "[0, 11, 12, 16, 19, 29, 34, 36]",
          "[0, 11, 12, 16, 19, 34, 36]",
          "[0, 12, 16, 19, 34, 36]",
          "[0, 12, 16, 34, 36]",
          "[0, 16, 34, 36]",
          "[0, 34, 36]",
          "[0, 36]",
          "[36]"
         ],
         "xaxis": "x",
         "y": [
          0.022318443283438683,
          0.04429662972688675,
          0.06023723632097244,
          0.10106740891933441,
          0.09306599199771881,
          0.06687082350254059,
          0.06958553940057755,
          0.06894385814666748,
          0.06659113615751266,
          0.07275109738111496,
          0.10089991241693497,
          0.11747725307941437,
          0.11583003401756287,
          0.2063140869140625,
          0.21041597425937653,
          0.18776153028011322,
          0.15639548003673553,
          0.15386182069778442,
          0.12282224744558334,
          0.12725624442100525,
          0.2086137980222702,
          0.17427322268486023,
          0.15105655789375305,
          0.13182476162910461,
          0.11759068816900253,
          0.11292890459299088,
          0.1464317888021469,
          0.1770275980234146,
          0.18182574212551117,
          0.1997438222169876,
          0.2170390486717224,
          0.27964481711387634,
          0.14059171080589294,
          0.11835645139217377,
          0.17692506313323975,
          0.2744859755039215,
          0.1205839142203331,
          0.12683574855327606,
          0.2514665424823761,
          0.18930891156196594,
          0.19442707300186157,
          0.274895578622818,
          0.7124673128128052,
          0.6037721633911133,
          0.2829076647758484,
          0.5234177112579346,
          0.9050986766815186,
          0.3803967237472534
         ],
         "yaxis": "y"
        }
       ],
       "layout": {
        "autosize": true,
        "barmode": "relative",
        "font": {
         "color": "black",
         "size": 7
        },
        "legend": {
         "tracegroupgap": 0
        },
        "template": {
         "data": {
          "bar": [
           {
            "error_x": {
             "color": "#2a3f5f"
            },
            "error_y": {
             "color": "#2a3f5f"
            },
            "marker": {
             "line": {
              "color": "#E5ECF6",
              "width": 0.5
             },
             "pattern": {
              "fillmode": "overlay",
              "size": 10,
              "solidity": 0.2
             }
            },
            "type": "bar"
           }
          ],
          "barpolar": [
           {
            "marker": {
             "line": {
              "color": "#E5ECF6",
              "width": 0.5
             },
             "pattern": {
              "fillmode": "overlay",
              "size": 10,
              "solidity": 0.2
             }
            },
            "type": "barpolar"
           }
          ],
          "carpet": [
           {
            "aaxis": {
             "endlinecolor": "#2a3f5f",
             "gridcolor": "white",
             "linecolor": "white",
             "minorgridcolor": "white",
             "startlinecolor": "#2a3f5f"
            },
            "baxis": {
             "endlinecolor": "#2a3f5f",
             "gridcolor": "white",
             "linecolor": "white",
             "minorgridcolor": "white",
             "startlinecolor": "#2a3f5f"
            },
            "type": "carpet"
           }
          ],
          "choropleth": [
           {
            "colorbar": {
             "outlinewidth": 0,
             "ticks": ""
            },
            "type": "choropleth"
           }
          ],
          "contour": [
           {
            "colorbar": {
             "outlinewidth": 0,
             "ticks": ""
            },
            "colorscale": [
             [
              0,
              "#0d0887"
             ],
             [
              0.1111111111111111,
              "#46039f"
             ],
             [
              0.2222222222222222,
              "#7201a8"
             ],
             [
              0.3333333333333333,
              "#9c179e"
             ],
             [
              0.4444444444444444,
              "#bd3786"
             ],
             [
              0.5555555555555556,
              "#d8576b"
             ],
             [
              0.6666666666666666,
              "#ed7953"
             ],
             [
              0.7777777777777778,
              "#fb9f3a"
             ],
             [
              0.8888888888888888,
              "#fdca26"
             ],
             [
              1,
              "#f0f921"
             ]
            ],
            "type": "contour"
           }
          ],
          "contourcarpet": [
           {
            "colorbar": {
             "outlinewidth": 0,
             "ticks": ""
            },
            "type": "contourcarpet"
           }
          ],
          "heatmap": [
           {
            "colorbar": {
             "outlinewidth": 0,
             "ticks": ""
            },
            "colorscale": [
             [
              0,
              "#0d0887"
             ],
             [
              0.1111111111111111,
              "#46039f"
             ],
             [
              0.2222222222222222,
              "#7201a8"
             ],
             [
              0.3333333333333333,
              "#9c179e"
             ],
             [
              0.4444444444444444,
              "#bd3786"
             ],
             [
              0.5555555555555556,
              "#d8576b"
             ],
             [
              0.6666666666666666,
              "#ed7953"
             ],
             [
              0.7777777777777778,
              "#fb9f3a"
             ],
             [
              0.8888888888888888,
              "#fdca26"
             ],
             [
              1,
              "#f0f921"
             ]
            ],
            "type": "heatmap"
           }
          ],
          "heatmapgl": [
           {
            "colorbar": {
             "outlinewidth": 0,
             "ticks": ""
            },
            "colorscale": [
             [
              0,
              "#0d0887"
             ],
             [
              0.1111111111111111,
              "#46039f"
             ],
             [
              0.2222222222222222,
              "#7201a8"
             ],
             [
              0.3333333333333333,
              "#9c179e"
             ],
             [
              0.4444444444444444,
              "#bd3786"
             ],
             [
              0.5555555555555556,
              "#d8576b"
             ],
             [
              0.6666666666666666,
              "#ed7953"
             ],
             [
              0.7777777777777778,
              "#fb9f3a"
             ],
             [
              0.8888888888888888,
              "#fdca26"
             ],
             [
              1,
              "#f0f921"
             ]
            ],
            "type": "heatmapgl"
           }
          ],
          "histogram": [
           {
            "marker": {
             "pattern": {
              "fillmode": "overlay",
              "size": 10,
              "solidity": 0.2
             }
            },
            "type": "histogram"
           }
          ],
          "histogram2d": [
           {
            "colorbar": {
             "outlinewidth": 0,
             "ticks": ""
            },
            "colorscale": [
             [
              0,
              "#0d0887"
             ],
             [
              0.1111111111111111,
              "#46039f"
             ],
             [
              0.2222222222222222,
              "#7201a8"
             ],
             [
              0.3333333333333333,
              "#9c179e"
             ],
             [
              0.4444444444444444,
              "#bd3786"
             ],
             [
              0.5555555555555556,
              "#d8576b"
             ],
             [
              0.6666666666666666,
              "#ed7953"
             ],
             [
              0.7777777777777778,
              "#fb9f3a"
             ],
             [
              0.8888888888888888,
              "#fdca26"
             ],
             [
              1,
              "#f0f921"
             ]
            ],
            "type": "histogram2d"
           }
          ],
          "histogram2dcontour": [
           {
            "colorbar": {
             "outlinewidth": 0,
             "ticks": ""
            },
            "colorscale": [
             [
              0,
              "#0d0887"
             ],
             [
              0.1111111111111111,
              "#46039f"
             ],
             [
              0.2222222222222222,
              "#7201a8"
             ],
             [
              0.3333333333333333,
              "#9c179e"
             ],
             [
              0.4444444444444444,
              "#bd3786"
             ],
             [
              0.5555555555555556,
              "#d8576b"
             ],
             [
              0.6666666666666666,
              "#ed7953"
             ],
             [
              0.7777777777777778,
              "#fb9f3a"
             ],
             [
              0.8888888888888888,
              "#fdca26"
             ],
             [
              1,
              "#f0f921"
             ]
            ],
            "type": "histogram2dcontour"
           }
          ],
          "mesh3d": [
           {
            "colorbar": {
             "outlinewidth": 0,
             "ticks": ""
            },
            "type": "mesh3d"
           }
          ],
          "parcoords": [
           {
            "line": {
             "colorbar": {
              "outlinewidth": 0,
              "ticks": ""
             }
            },
            "type": "parcoords"
           }
          ],
          "pie": [
           {
            "automargin": true,
            "type": "pie"
           }
          ],
          "scatter": [
           {
            "fillpattern": {
             "fillmode": "overlay",
             "size": 10,
             "solidity": 0.2
            },
            "type": "scatter"
           }
          ],
          "scatter3d": [
           {
            "line": {
             "colorbar": {
              "outlinewidth": 0,
              "ticks": ""
             }
            },
            "marker": {
             "colorbar": {
              "outlinewidth": 0,
              "ticks": ""
             }
            },
            "type": "scatter3d"
           }
          ],
          "scattercarpet": [
           {
            "marker": {
             "colorbar": {
              "outlinewidth": 0,
              "ticks": ""
             }
            },
            "type": "scattercarpet"
           }
          ],
          "scattergeo": [
           {
            "marker": {
             "colorbar": {
              "outlinewidth": 0,
              "ticks": ""
             }
            },
            "type": "scattergeo"
           }
          ],
          "scattergl": [
           {
            "marker": {
             "colorbar": {
              "outlinewidth": 0,
              "ticks": ""
             }
            },
            "type": "scattergl"
           }
          ],
          "scattermapbox": [
           {
            "marker": {
             "colorbar": {
              "outlinewidth": 0,
              "ticks": ""
             }
            },
            "type": "scattermapbox"
           }
          ],
          "scatterpolar": [
           {
            "marker": {
             "colorbar": {
              "outlinewidth": 0,
              "ticks": ""
             }
            },
            "type": "scatterpolar"
           }
          ],
          "scatterpolargl": [
           {
            "marker": {
             "colorbar": {
              "outlinewidth": 0,
              "ticks": ""
             }
            },
            "type": "scatterpolargl"
           }
          ],
          "scatterternary": [
           {
            "marker": {
             "colorbar": {
              "outlinewidth": 0,
              "ticks": ""
             }
            },
            "type": "scatterternary"
           }
          ],
          "surface": [
           {
            "colorbar": {
             "outlinewidth": 0,
             "ticks": ""
            },
            "colorscale": [
             [
              0,
              "#0d0887"
             ],
             [
              0.1111111111111111,
              "#46039f"
             ],
             [
              0.2222222222222222,
              "#7201a8"
             ],
             [
              0.3333333333333333,
              "#9c179e"
             ],
             [
              0.4444444444444444,
              "#bd3786"
             ],
             [
              0.5555555555555556,
              "#d8576b"
             ],
             [
              0.6666666666666666,
              "#ed7953"
             ],
             [
              0.7777777777777778,
              "#fb9f3a"
             ],
             [
              0.8888888888888888,
              "#fdca26"
             ],
             [
              1,
              "#f0f921"
             ]
            ],
            "type": "surface"
           }
          ],
          "table": [
           {
            "cells": {
             "fill": {
              "color": "#EBF0F8"
             },
             "line": {
              "color": "white"
             }
            },
            "header": {
             "fill": {
              "color": "#C8D4E3"
             },
             "line": {
              "color": "white"
             }
            },
            "type": "table"
           }
          ]
         },
         "layout": {
          "annotationdefaults": {
           "arrowcolor": "#2a3f5f",
           "arrowhead": 0,
           "arrowwidth": 1
          },
          "autotypenumbers": "strict",
          "coloraxis": {
           "colorbar": {
            "outlinewidth": 0,
            "ticks": ""
           }
          },
          "colorscale": {
           "diverging": [
            [
             0,
             "#8e0152"
            ],
            [
             0.1,
             "#c51b7d"
            ],
            [
             0.2,
             "#de77ae"
            ],
            [
             0.3,
             "#f1b6da"
            ],
            [
             0.4,
             "#fde0ef"
            ],
            [
             0.5,
             "#f7f7f7"
            ],
            [
             0.6,
             "#e6f5d0"
            ],
            [
             0.7,
             "#b8e186"
            ],
            [
             0.8,
             "#7fbc41"
            ],
            [
             0.9,
             "#4d9221"
            ],
            [
             1,
             "#276419"
            ]
           ],
           "sequential": [
            [
             0,
             "#0d0887"
            ],
            [
             0.1111111111111111,
             "#46039f"
            ],
            [
             0.2222222222222222,
             "#7201a8"
            ],
            [
             0.3333333333333333,
             "#9c179e"
            ],
            [
             0.4444444444444444,
             "#bd3786"
            ],
            [
             0.5555555555555556,
             "#d8576b"
            ],
            [
             0.6666666666666666,
             "#ed7953"
            ],
            [
             0.7777777777777778,
             "#fb9f3a"
            ],
            [
             0.8888888888888888,
             "#fdca26"
            ],
            [
             1,
             "#f0f921"
            ]
           ],
           "sequentialminus": [
            [
             0,
             "#0d0887"
            ],
            [
             0.1111111111111111,
             "#46039f"
            ],
            [
             0.2222222222222222,
             "#7201a8"
            ],
            [
             0.3333333333333333,
             "#9c179e"
            ],
            [
             0.4444444444444444,
             "#bd3786"
            ],
            [
             0.5555555555555556,
             "#d8576b"
            ],
            [
             0.6666666666666666,
             "#ed7953"
            ],
            [
             0.7777777777777778,
             "#fb9f3a"
            ],
            [
             0.8888888888888888,
             "#fdca26"
            ],
            [
             1,
             "#f0f921"
            ]
           ]
          },
          "colorway": [
           "#636efa",
           "#EF553B",
           "#00cc96",
           "#ab63fa",
           "#FFA15A",
           "#19d3f3",
           "#FF6692",
           "#B6E880",
           "#FF97FF",
           "#FECB52"
          ],
          "font": {
           "color": "#2a3f5f"
          },
          "geo": {
           "bgcolor": "white",
           "lakecolor": "white",
           "landcolor": "#E5ECF6",
           "showlakes": true,
           "showland": true,
           "subunitcolor": "white"
          },
          "hoverlabel": {
           "align": "left"
          },
          "hovermode": "closest",
          "mapbox": {
           "style": "light"
          },
          "paper_bgcolor": "white",
          "plot_bgcolor": "#E5ECF6",
          "polar": {
           "angularaxis": {
            "gridcolor": "white",
            "linecolor": "white",
            "ticks": ""
           },
           "bgcolor": "#E5ECF6",
           "radialaxis": {
            "gridcolor": "white",
            "linecolor": "white",
            "ticks": ""
           }
          },
          "scene": {
           "xaxis": {
            "backgroundcolor": "#E5ECF6",
            "gridcolor": "white",
            "gridwidth": 2,
            "linecolor": "white",
            "showbackground": true,
            "ticks": "",
            "zerolinecolor": "white"
           },
           "yaxis": {
            "backgroundcolor": "#E5ECF6",
            "gridcolor": "white",
            "gridwidth": 2,
            "linecolor": "white",
            "showbackground": true,
            "ticks": "",
            "zerolinecolor": "white"
           },
           "zaxis": {
            "backgroundcolor": "#E5ECF6",
            "gridcolor": "white",
            "gridwidth": 2,
            "linecolor": "white",
            "showbackground": true,
            "ticks": "",
            "zerolinecolor": "white"
           }
          },
          "shapedefaults": {
           "line": {
            "color": "#2a3f5f"
           }
          },
          "ternary": {
           "aaxis": {
            "gridcolor": "white",
            "linecolor": "white",
            "ticks": ""
           },
           "baxis": {
            "gridcolor": "white",
            "linecolor": "white",
            "ticks": ""
           },
           "bgcolor": "#E5ECF6",
           "caxis": {
            "gridcolor": "white",
            "linecolor": "white",
            "ticks": ""
           }
          },
          "title": {
           "x": 0.05
          },
          "xaxis": {
           "automargin": true,
           "gridcolor": "white",
           "linecolor": "white",
           "ticks": "",
           "title": {
            "standoff": 15
           },
           "zerolinecolor": "white",
           "zerolinewidth": 2
          },
          "yaxis": {
           "automargin": true,
           "gridcolor": "white",
           "linecolor": "white",
           "ticks": "",
           "title": {
            "standoff": 15
           },
           "zerolinecolor": "white",
           "zerolinewidth": 2
          }
         }
        },
        "title": {
         "text": "greater than task, pruning layers pr incorrect"
        },
        "xaxis": {
         "anchor": "y",
         "autorange": true,
         "domain": [
          0,
          1
         ],
         "range": [
          -0.5,
          47.5
         ],
         "tickmode": "array",
         "ticktext": [
          "[0, 1, 2, 3, 4, 5, 6, 7, 8, 9, 10, 11, 12, 13, 14, 15, 16, 17, 18, 19, 20, 21, 22, 23, 24, 25, 26, 27, 28, 29, 30, 31, 32, 33, 34, 35, 36, 37, 38, 39, 40, 41, 42, 43, 44, 45, 46, 47]",
          "[0, 1, 2, 3, 4, 5, 6, 7, 8, 9, 10, 11, 12, 13, 14, 15, 16, 17, 18, 19, 20, 21, 22, 23, 24, 25, 26, 27, 28, 29, 30, 31, 32, 33, 34, 35, 36, 37, 38, 39, 40, 41, 42, 43, 45, 46, 47]",
          "[0, 2, 3, 4, 5, 6, 7, 8, 9, 10, 11, 12, 13, 14, 15, 16, 17, 18, 19, 20, 21, 22, 23, 24, 25, 26, 27, 28, 29, 30, 31, 32, 33, 34, 35, 36, 37, 38, 39, 40, 41, 42, 43, 45, 46, 47]",
          "[0, 3, 4, 5, 6, 7, 8, 9, 10, 11, 12, 13, 14, 15, 16, 17, 18, 19, 20, 21, 22, 23, 24, 25, 26, 27, 28, 29, 30, 31, 32, 33, 34, 35, 36, 37, 38, 39, 40, 41, 42, 43, 45, 46, 47]",
          "[0, 3, 4, 5, 7, 8, 9, 10, 11, 12, 13, 14, 15, 16, 17, 18, 19, 20, 21, 22, 23, 24, 25, 26, 27, 28, 29, 30, 31, 32, 33, 34, 35, 36, 37, 38, 39, 40, 41, 42, 43, 45, 46, 47]",
          "[0, 3, 4, 5, 8, 9, 10, 11, 12, 13, 14, 15, 16, 17, 18, 19, 20, 21, 22, 23, 24, 25, 26, 27, 28, 29, 30, 31, 32, 33, 34, 35, 36, 37, 38, 39, 40, 41, 42, 43, 45, 46, 47]",
          "[0, 4, 5, 8, 9, 10, 11, 12, 13, 14, 15, 16, 17, 18, 19, 20, 21, 22, 23, 24, 25, 26, 27, 28, 29, 30, 31, 32, 33, 34, 35, 36, 37, 38, 39, 40, 41, 42, 43, 45, 46, 47]",
          "[0, 4, 8, 9, 10, 11, 12, 13, 14, 15, 16, 17, 18, 19, 20, 21, 22, 23, 24, 25, 26, 27, 28, 29, 30, 31, 32, 33, 34, 35, 36, 37, 38, 39, 40, 41, 42, 43, 45, 46, 47]",
          "[0, 4, 9, 10, 11, 12, 13, 14, 15, 16, 17, 18, 19, 20, 21, 22, 23, 24, 25, 26, 27, 28, 29, 30, 31, 32, 33, 34, 35, 36, 37, 38, 39, 40, 41, 42, 43, 45, 46, 47]",
          "[0, 4, 9, 11, 12, 13, 14, 15, 16, 17, 18, 19, 20, 21, 22, 23, 24, 25, 26, 27, 28, 29, 30, 31, 32, 33, 34, 35, 36, 37, 38, 39, 40, 41, 42, 43, 45, 46, 47]",
          "[0, 4, 9, 11, 12, 14, 15, 16, 17, 18, 19, 20, 21, 22, 23, 24, 25, 26, 27, 28, 29, 30, 31, 32, 33, 34, 35, 36, 37, 38, 39, 40, 41, 42, 43, 45, 46, 47]",
          "[0, 4, 9, 11, 12, 15, 16, 17, 18, 19, 20, 21, 22, 23, 24, 25, 26, 27, 28, 29, 30, 31, 32, 33, 34, 35, 36, 37, 38, 39, 40, 41, 42, 43, 45, 46, 47]",
          "[0, 9, 11, 12, 15, 16, 17, 18, 19, 20, 21, 22, 23, 24, 25, 26, 27, 28, 29, 30, 31, 32, 33, 34, 35, 36, 37, 38, 39, 40, 41, 42, 43, 45, 46, 47]",
          "[0, 9, 11, 12, 15, 16, 17, 18, 19, 20, 21, 22, 23, 24, 25, 26, 27, 28, 29, 30, 31, 32, 33, 34, 35, 36, 38, 39, 40, 41, 42, 43, 45, 46, 47]",
          "[0, 9, 11, 12, 15, 16, 17, 18, 19, 20, 21, 22, 23, 24, 25, 26, 27, 28, 29, 31, 32, 33, 34, 35, 36, 38, 39, 40, 41, 42, 43, 45, 46, 47]",
          "[0, 9, 11, 12, 15, 16, 17, 18, 19, 20, 21, 22, 23, 24, 25, 26, 28, 29, 31, 32, 33, 34, 35, 36, 38, 39, 40, 41, 42, 43, 45, 46, 47]",
          "[0, 9, 11, 12, 15, 16, 17, 18, 19, 20, 21, 22, 23, 24, 25, 26, 28, 29, 31, 32, 33, 34, 36, 38, 39, 40, 41, 42, 43, 45, 46, 47]",
          "[0, 9, 11, 12, 15, 16, 17, 18, 19, 20, 21, 22, 23, 24, 25, 26, 28, 29, 31, 32, 33, 34, 36, 39, 40, 41, 42, 43, 45, 46, 47]",
          "[0, 9, 11, 12, 15, 16, 17, 18, 19, 20, 21, 22, 23, 24, 25, 26, 28, 29, 31, 33, 34, 36, 39, 40, 41, 42, 43, 45, 46, 47]",
          "[0, 9, 11, 12, 15, 16, 17, 18, 19, 20, 22, 23, 24, 25, 26, 28, 29, 31, 33, 34, 36, 39, 40, 41, 42, 43, 45, 46, 47]",
          "[0, 9, 11, 12, 16, 17, 18, 19, 20, 22, 23, 24, 25, 26, 28, 29, 31, 33, 34, 36, 39, 40, 41, 42, 43, 45, 46, 47]",
          "[0, 9, 11, 12, 16, 18, 19, 20, 22, 23, 24, 25, 26, 28, 29, 31, 33, 34, 36, 39, 40, 41, 42, 43, 45, 46, 47]",
          "[0, 9, 11, 12, 16, 18, 19, 20, 22, 23, 24, 25, 26, 28, 29, 31, 33, 34, 36, 39, 40, 41, 42, 45, 46, 47]",
          "[0, 9, 11, 12, 16, 18, 19, 20, 22, 23, 24, 25, 26, 28, 29, 31, 33, 34, 36, 40, 41, 42, 45, 46, 47]",
          "[0, 9, 11, 12, 16, 18, 19, 20, 22, 23, 24, 25, 26, 29, 31, 33, 34, 36, 40, 41, 42, 45, 46, 47]",
          "[0, 9, 11, 12, 16, 18, 19, 20, 22, 23, 25, 26, 29, 31, 33, 34, 36, 40, 41, 42, 45, 46, 47]",
          "[0, 9, 11, 12, 16, 19, 20, 22, 23, 25, 26, 29, 31, 33, 34, 36, 40, 41, 42, 45, 46, 47]",
          "[0, 11, 12, 16, 19, 20, 22, 23, 25, 26, 29, 31, 33, 34, 36, 40, 41, 42, 45, 46, 47]",
          "[0, 11, 12, 16, 19, 20, 22, 23, 25, 29, 31, 33, 34, 36, 40, 41, 42, 45, 46, 47]",
          "[0, 11, 12, 16, 19, 20, 22, 23, 25, 29, 33, 34, 36, 40, 41, 42, 45, 46, 47]",
          "[0, 11, 12, 16, 19, 20, 22, 23, 25, 29, 33, 34, 36, 40, 41, 45, 46, 47]",
          "[0, 11, 12, 16, 19, 20, 22, 25, 29, 33, 34, 36, 40, 41, 45, 46, 47]",
          "[0, 11, 12, 16, 19, 20, 22, 25, 29, 34, 36, 40, 41, 45, 46, 47]",
          "[0, 11, 12, 16, 19, 20, 22, 29, 34, 36, 40, 41, 45, 46, 47]",
          "[0, 11, 12, 16, 19, 22, 29, 34, 36, 40, 41, 45, 46, 47]",
          "[0, 11, 12, 16, 19, 29, 34, 36, 40, 41, 45, 46, 47]",
          "[0, 11, 12, 16, 19, 29, 34, 36, 40, 41, 45, 46]",
          "[0, 11, 12, 16, 19, 29, 34, 36, 40, 41, 45]",
          "[0, 11, 12, 16, 19, 29, 34, 36, 41, 45]",
          "[0, 11, 12, 16, 19, 29, 34, 36, 41]",
          "[0, 11, 12, 16, 19, 29, 34, 36]",
          "[0, 11, 12, 16, 19, 34, 36]",
          "[0, 12, 16, 19, 34, 36]",
          "[0, 12, 16, 34, 36]",
          "[0, 16, 34, 36]",
          "[0, 34, 36]",
          "[0, 36]",
          "[36]"
         ],
         "tickvals": [
          "[0, 1, 2, 3, 4, 5, 6, 7, 8, 9, 10, 11, 12, 13, 14, 15, 16, 17, 18, 19, 20, 21, 22, 23, 24, 25, 26, 27, 28, 29, 30, 31, 32, 33, 34, 35, 36, 37, 38, 39, 40, 41, 42, 43, 44, 45, 46, 47]",
          "[0, 1, 2, 3, 4, 5, 6, 7, 8, 9, 10, 11, 12, 13, 14, 15, 16, 17, 18, 19, 20, 21, 22, 23, 24, 25, 26, 27, 28, 29, 30, 31, 32, 33, 34, 35, 36, 37, 38, 39, 40, 41, 42, 43, 45, 46, 47]",
          "[0, 2, 3, 4, 5, 6, 7, 8, 9, 10, 11, 12, 13, 14, 15, 16, 17, 18, 19, 20, 21, 22, 23, 24, 25, 26, 27, 28, 29, 30, 31, 32, 33, 34, 35, 36, 37, 38, 39, 40, 41, 42, 43, 45, 46, 47]",
          "[0, 3, 4, 5, 6, 7, 8, 9, 10, 11, 12, 13, 14, 15, 16, 17, 18, 19, 20, 21, 22, 23, 24, 25, 26, 27, 28, 29, 30, 31, 32, 33, 34, 35, 36, 37, 38, 39, 40, 41, 42, 43, 45, 46, 47]",
          "[0, 3, 4, 5, 7, 8, 9, 10, 11, 12, 13, 14, 15, 16, 17, 18, 19, 20, 21, 22, 23, 24, 25, 26, 27, 28, 29, 30, 31, 32, 33, 34, 35, 36, 37, 38, 39, 40, 41, 42, 43, 45, 46, 47]",
          "[0, 3, 4, 5, 8, 9, 10, 11, 12, 13, 14, 15, 16, 17, 18, 19, 20, 21, 22, 23, 24, 25, 26, 27, 28, 29, 30, 31, 32, 33, 34, 35, 36, 37, 38, 39, 40, 41, 42, 43, 45, 46, 47]",
          "[0, 4, 5, 8, 9, 10, 11, 12, 13, 14, 15, 16, 17, 18, 19, 20, 21, 22, 23, 24, 25, 26, 27, 28, 29, 30, 31, 32, 33, 34, 35, 36, 37, 38, 39, 40, 41, 42, 43, 45, 46, 47]",
          "[0, 4, 8, 9, 10, 11, 12, 13, 14, 15, 16, 17, 18, 19, 20, 21, 22, 23, 24, 25, 26, 27, 28, 29, 30, 31, 32, 33, 34, 35, 36, 37, 38, 39, 40, 41, 42, 43, 45, 46, 47]",
          "[0, 4, 9, 10, 11, 12, 13, 14, 15, 16, 17, 18, 19, 20, 21, 22, 23, 24, 25, 26, 27, 28, 29, 30, 31, 32, 33, 34, 35, 36, 37, 38, 39, 40, 41, 42, 43, 45, 46, 47]",
          "[0, 4, 9, 11, 12, 13, 14, 15, 16, 17, 18, 19, 20, 21, 22, 23, 24, 25, 26, 27, 28, 29, 30, 31, 32, 33, 34, 35, 36, 37, 38, 39, 40, 41, 42, 43, 45, 46, 47]",
          "[0, 4, 9, 11, 12, 14, 15, 16, 17, 18, 19, 20, 21, 22, 23, 24, 25, 26, 27, 28, 29, 30, 31, 32, 33, 34, 35, 36, 37, 38, 39, 40, 41, 42, 43, 45, 46, 47]",
          "[0, 4, 9, 11, 12, 15, 16, 17, 18, 19, 20, 21, 22, 23, 24, 25, 26, 27, 28, 29, 30, 31, 32, 33, 34, 35, 36, 37, 38, 39, 40, 41, 42, 43, 45, 46, 47]",
          "[0, 9, 11, 12, 15, 16, 17, 18, 19, 20, 21, 22, 23, 24, 25, 26, 27, 28, 29, 30, 31, 32, 33, 34, 35, 36, 37, 38, 39, 40, 41, 42, 43, 45, 46, 47]",
          "[0, 9, 11, 12, 15, 16, 17, 18, 19, 20, 21, 22, 23, 24, 25, 26, 27, 28, 29, 30, 31, 32, 33, 34, 35, 36, 38, 39, 40, 41, 42, 43, 45, 46, 47]",
          "[0, 9, 11, 12, 15, 16, 17, 18, 19, 20, 21, 22, 23, 24, 25, 26, 27, 28, 29, 31, 32, 33, 34, 35, 36, 38, 39, 40, 41, 42, 43, 45, 46, 47]",
          "[0, 9, 11, 12, 15, 16, 17, 18, 19, 20, 21, 22, 23, 24, 25, 26, 28, 29, 31, 32, 33, 34, 35, 36, 38, 39, 40, 41, 42, 43, 45, 46, 47]",
          "[0, 9, 11, 12, 15, 16, 17, 18, 19, 20, 21, 22, 23, 24, 25, 26, 28, 29, 31, 32, 33, 34, 36, 38, 39, 40, 41, 42, 43, 45, 46, 47]",
          "[0, 9, 11, 12, 15, 16, 17, 18, 19, 20, 21, 22, 23, 24, 25, 26, 28, 29, 31, 32, 33, 34, 36, 39, 40, 41, 42, 43, 45, 46, 47]",
          "[0, 9, 11, 12, 15, 16, 17, 18, 19, 20, 21, 22, 23, 24, 25, 26, 28, 29, 31, 33, 34, 36, 39, 40, 41, 42, 43, 45, 46, 47]",
          "[0, 9, 11, 12, 15, 16, 17, 18, 19, 20, 22, 23, 24, 25, 26, 28, 29, 31, 33, 34, 36, 39, 40, 41, 42, 43, 45, 46, 47]",
          "[0, 9, 11, 12, 16, 17, 18, 19, 20, 22, 23, 24, 25, 26, 28, 29, 31, 33, 34, 36, 39, 40, 41, 42, 43, 45, 46, 47]",
          "[0, 9, 11, 12, 16, 18, 19, 20, 22, 23, 24, 25, 26, 28, 29, 31, 33, 34, 36, 39, 40, 41, 42, 43, 45, 46, 47]",
          "[0, 9, 11, 12, 16, 18, 19, 20, 22, 23, 24, 25, 26, 28, 29, 31, 33, 34, 36, 39, 40, 41, 42, 45, 46, 47]",
          "[0, 9, 11, 12, 16, 18, 19, 20, 22, 23, 24, 25, 26, 28, 29, 31, 33, 34, 36, 40, 41, 42, 45, 46, 47]",
          "[0, 9, 11, 12, 16, 18, 19, 20, 22, 23, 24, 25, 26, 29, 31, 33, 34, 36, 40, 41, 42, 45, 46, 47]",
          "[0, 9, 11, 12, 16, 18, 19, 20, 22, 23, 25, 26, 29, 31, 33, 34, 36, 40, 41, 42, 45, 46, 47]",
          "[0, 9, 11, 12, 16, 19, 20, 22, 23, 25, 26, 29, 31, 33, 34, 36, 40, 41, 42, 45, 46, 47]",
          "[0, 11, 12, 16, 19, 20, 22, 23, 25, 26, 29, 31, 33, 34, 36, 40, 41, 42, 45, 46, 47]",
          "[0, 11, 12, 16, 19, 20, 22, 23, 25, 29, 31, 33, 34, 36, 40, 41, 42, 45, 46, 47]",
          "[0, 11, 12, 16, 19, 20, 22, 23, 25, 29, 33, 34, 36, 40, 41, 42, 45, 46, 47]",
          "[0, 11, 12, 16, 19, 20, 22, 23, 25, 29, 33, 34, 36, 40, 41, 45, 46, 47]",
          "[0, 11, 12, 16, 19, 20, 22, 25, 29, 33, 34, 36, 40, 41, 45, 46, 47]",
          "[0, 11, 12, 16, 19, 20, 22, 25, 29, 34, 36, 40, 41, 45, 46, 47]",
          "[0, 11, 12, 16, 19, 20, 22, 29, 34, 36, 40, 41, 45, 46, 47]",
          "[0, 11, 12, 16, 19, 22, 29, 34, 36, 40, 41, 45, 46, 47]",
          "[0, 11, 12, 16, 19, 29, 34, 36, 40, 41, 45, 46, 47]",
          "[0, 11, 12, 16, 19, 29, 34, 36, 40, 41, 45, 46]",
          "[0, 11, 12, 16, 19, 29, 34, 36, 40, 41, 45]",
          "[0, 11, 12, 16, 19, 29, 34, 36, 41, 45]",
          "[0, 11, 12, 16, 19, 29, 34, 36, 41]",
          "[0, 11, 12, 16, 19, 29, 34, 36]",
          "[0, 11, 12, 16, 19, 34, 36]",
          "[0, 12, 16, 19, 34, 36]",
          "[0, 12, 16, 34, 36]",
          "[0, 16, 34, 36]",
          "[0, 34, 36]",
          "[0, 36]",
          "[36]"
         ],
         "title": {
          "text": "x"
         },
         "type": "category"
        },
        "yaxis": {
         "anchor": "x",
         "autorange": true,
         "domain": [
          0,
          1
         ],
         "range": [
          0,
          0.9527354491384405
         ],
         "title": {
          "text": " pr of incorrect"
         },
         "type": "linear"
        }
       }
      },
      "image/png": "[encoded data removed]",
      "text/html": [
       "<div>                            <div id=\"27544911-f627-4214-9146-f74029b44871\" class=\"plotly-graph-div\" style=\"height:525px; width:100%;\"></div>            <script type=\"text/javascript\">                require([\"plotly\"], function(Plotly) {                    window.PLOTLYENV=window.PLOTLYENV || {};                                    if (document.getElementById(\"27544911-f627-4214-9146-f74029b44871\")) {                    Plotly.newPlot(                        \"27544911-f627-4214-9146-f74029b44871\",                        [{\"alignmentgroup\":\"True\",\"hovertemplate\":\"x=%{x}\\u003cbr\\u003e pr of incorrect=%{y}\\u003cextra\\u003e\\u003c\\u002fextra\\u003e\",\"legendgroup\":\"\",\"marker\":{\"color\":\"#636efa\",\"pattern\":{\"shape\":\"\"}},\"name\":\"\",\"offsetgroup\":\"\",\"orientation\":\"v\",\"showlegend\":false,\"textposition\":\"auto\",\"x\":[\"[0, 1, 2, 3, 4, 5, 6, 7, 8, 9, 10, 11, 12, 13, 14, 15, 16, 17, 18, 19, 20, 21, 22, 23, 24, 25, 26, 27, 28, 29, 30, 31, 32, 33, 34, 35, 36, 37, 38, 39, 40, 41, 42, 43, 44, 45, 46, 47]\",\"[0, 1, 2, 3, 4, 5, 6, 7, 8, 9, 10, 11, 12, 13, 14, 15, 16, 17, 18, 19, 20, 21, 22, 23, 24, 25, 26, 27, 28, 29, 30, 31, 32, 33, 34, 35, 36, 37, 38, 39, 40, 41, 42, 43, 45, 46, 47]\",\"[0, 2, 3, 4, 5, 6, 7, 8, 9, 10, 11, 12, 13, 14, 15, 16, 17, 18, 19, 20, 21, 22, 23, 24, 25, 26, 27, 28, 29, 30, 31, 32, 33, 34, 35, 36, 37, 38, 39, 40, 41, 42, 43, 45, 46, 47]\",\"[0, 3, 4, 5, 6, 7, 8, 9, 10, 11, 12, 13, 14, 15, 16, 17, 18, 19, 20, 21, 22, 23, 24, 25, 26, 27, 28, 29, 30, 31, 32, 33, 34, 35, 36, 37, 38, 39, 40, 41, 42, 43, 45, 46, 47]\",\"[0, 3, 4, 5, 7, 8, 9, 10, 11, 12, 13, 14, 15, 16, 17, 18, 19, 20, 21, 22, 23, 24, 25, 26, 27, 28, 29, 30, 31, 32, 33, 34, 35, 36, 37, 38, 39, 40, 41, 42, 43, 45, 46, 47]\",\"[0, 3, 4, 5, 8, 9, 10, 11, 12, 13, 14, 15, 16, 17, 18, 19, 20, 21, 22, 23, 24, 25, 26, 27, 28, 29, 30, 31, 32, 33, 34, 35, 36, 37, 38, 39, 40, 41, 42, 43, 45, 46, 47]\",\"[0, 4, 5, 8, 9, 10, 11, 12, 13, 14, 15, 16, 17, 18, 19, 20, 21, 22, 23, 24, 25, 26, 27, 28, 29, 30, 31, 32, 33, 34, 35, 36, 37, 38, 39, 40, 41, 42, 43, 45, 46, 47]\",\"[0, 4, 8, 9, 10, 11, 12, 13, 14, 15, 16, 17, 18, 19, 20, 21, 22, 23, 24, 25, 26, 27, 28, 29, 30, 31, 32, 33, 34, 35, 36, 37, 38, 39, 40, 41, 42, 43, 45, 46, 47]\",\"[0, 4, 9, 10, 11, 12, 13, 14, 15, 16, 17, 18, 19, 20, 21, 22, 23, 24, 25, 26, 27, 28, 29, 30, 31, 32, 33, 34, 35, 36, 37, 38, 39, 40, 41, 42, 43, 45, 46, 47]\",\"[0, 4, 9, 11, 12, 13, 14, 15, 16, 17, 18, 19, 20, 21, 22, 23, 24, 25, 26, 27, 28, 29, 30, 31, 32, 33, 34, 35, 36, 37, 38, 39, 40, 41, 42, 43, 45, 46, 47]\",\"[0, 4, 9, 11, 12, 14, 15, 16, 17, 18, 19, 20, 21, 22, 23, 24, 25, 26, 27, 28, 29, 30, 31, 32, 33, 34, 35, 36, 37, 38, 39, 40, 41, 42, 43, 45, 46, 47]\",\"[0, 4, 9, 11, 12, 15, 16, 17, 18, 19, 20, 21, 22, 23, 24, 25, 26, 27, 28, 29, 30, 31, 32, 33, 34, 35, 36, 37, 38, 39, 40, 41, 42, 43, 45, 46, 47]\",\"[0, 9, 11, 12, 15, 16, 17, 18, 19, 20, 21, 22, 23, 24, 25, 26, 27, 28, 29, 30, 31, 32, 33, 34, 35, 36, 37, 38, 39, 40, 41, 42, 43, 45, 46, 47]\",\"[0, 9, 11, 12, 15, 16, 17, 18, 19, 20, 21, 22, 23, 24, 25, 26, 27, 28, 29, 30, 31, 32, 33, 34, 35, 36, 38, 39, 40, 41, 42, 43, 45, 46, 47]\",\"[0, 9, 11, 12, 15, 16, 17, 18, 19, 20, 21, 22, 23, 24, 25, 26, 27, 28, 29, 31, 32, 33, 34, 35, 36, 38, 39, 40, 41, 42, 43, 45, 46, 47]\",\"[0, 9, 11, 12, 15, 16, 17, 18, 19, 20, 21, 22, 23, 24, 25, 26, 28, 29, 31, 32, 33, 34, 35, 36, 38, 39, 40, 41, 42, 43, 45, 46, 47]\",\"[0, 9, 11, 12, 15, 16, 17, 18, 19, 20, 21, 22, 23, 24, 25, 26, 28, 29, 31, 32, 33, 34, 36, 38, 39, 40, 41, 42, 43, 45, 46, 47]\",\"[0, 9, 11, 12, 15, 16, 17, 18, 19, 20, 21, 22, 23, 24, 25, 26, 28, 29, 31, 32, 33, 34, 36, 39, 40, 41, 42, 43, 45, 46, 47]\",\"[0, 9, 11, 12, 15, 16, 17, 18, 19, 20, 21, 22, 23, 24, 25, 26, 28, 29, 31, 33, 34, 36, 39, 40, 41, 42, 43, 45, 46, 47]\",\"[0, 9, 11, 12, 15, 16, 17, 18, 19, 20, 22, 23, 24, 25, 26, 28, 29, 31, 33, 34, 36, 39, 40, 41, 42, 43, 45, 46, 47]\",\"[0, 9, 11, 12, 16, 17, 18, 19, 20, 22, 23, 24, 25, 26, 28, 29, 31, 33, 34, 36, 39, 40, 41, 42, 43, 45, 46, 47]\",\"[0, 9, 11, 12, 16, 18, 19, 20, 22, 23, 24, 25, 26, 28, 29, 31, 33, 34, 36, 39, 40, 41, 42, 43, 45, 46, 47]\",\"[0, 9, 11, 12, 16, 18, 19, 20, 22, 23, 24, 25, 26, 28, 29, 31, 33, 34, 36, 39, 40, 41, 42, 45, 46, 47]\",\"[0, 9, 11, 12, 16, 18, 19, 20, 22, 23, 24, 25, 26, 28, 29, 31, 33, 34, 36, 40, 41, 42, 45, 46, 47]\",\"[0, 9, 11, 12, 16, 18, 19, 20, 22, 23, 24, 25, 26, 29, 31, 33, 34, 36, 40, 41, 42, 45, 46, 47]\",\"[0, 9, 11, 12, 16, 18, 19, 20, 22, 23, 25, 26, 29, 31, 33, 34, 36, 40, 41, 42, 45, 46, 47]\",\"[0, 9, 11, 12, 16, 19, 20, 22, 23, 25, 26, 29, 31, 33, 34, 36, 40, 41, 42, 45, 46, 47]\",\"[0, 11, 12, 16, 19, 20, 22, 23, 25, 26, 29, 31, 33, 34, 36, 40, 41, 42, 45, 46, 47]\",\"[0, 11, 12, 16, 19, 20, 22, 23, 25, 29, 31, 33, 34, 36, 40, 41, 42, 45, 46, 47]\",\"[0, 11, 12, 16, 19, 20, 22, 23, 25, 29, 33, 34, 36, 40, 41, 42, 45, 46, 47]\",\"[0, 11, 12, 16, 19, 20, 22, 23, 25, 29, 33, 34, 36, 40, 41, 45, 46, 47]\",\"[0, 11, 12, 16, 19, 20, 22, 25, 29, 33, 34, 36, 40, 41, 45, 46, 47]\",\"[0, 11, 12, 16, 19, 20, 22, 25, 29, 34, 36, 40, 41, 45, 46, 47]\",\"[0, 11, 12, 16, 19, 20, 22, 29, 34, 36, 40, 41, 45, 46, 47]\",\"[0, 11, 12, 16, 19, 22, 29, 34, 36, 40, 41, 45, 46, 47]\",\"[0, 11, 12, 16, 19, 29, 34, 36, 40, 41, 45, 46, 47]\",\"[0, 11, 12, 16, 19, 29, 34, 36, 40, 41, 45, 46]\",\"[0, 11, 12, 16, 19, 29, 34, 36, 40, 41, 45]\",\"[0, 11, 12, 16, 19, 29, 34, 36, 41, 45]\",\"[0, 11, 12, 16, 19, 29, 34, 36, 41]\",\"[0, 11, 12, 16, 19, 29, 34, 36]\",\"[0, 11, 12, 16, 19, 34, 36]\",\"[0, 12, 16, 19, 34, 36]\",\"[0, 12, 16, 34, 36]\",\"[0, 16, 34, 36]\",\"[0, 34, 36]\",\"[0, 36]\",\"[36]\"],\"xaxis\":\"x\",\"y\":[0.022318443283438683,0.04429662972688675,0.06023723632097244,0.10106740891933441,0.09306599199771881,0.06687082350254059,0.06958553940057755,0.06894385814666748,0.06659113615751266,0.07275109738111496,0.10089991241693497,0.11747725307941437,0.11583003401756287,0.2063140869140625,0.21041597425937653,0.18776153028011322,0.15639548003673553,0.15386182069778442,0.12282224744558334,0.12725624442100525,0.2086137980222702,0.17427322268486023,0.15105655789375305,0.13182476162910461,0.11759068816900253,0.11292890459299088,0.1464317888021469,0.1770275980234146,0.18182574212551117,0.1997438222169876,0.2170390486717224,0.27964481711387634,0.14059171080589294,0.11835645139217377,0.17692506313323975,0.2744859755039215,0.1205839142203331,0.12683574855327606,0.2514665424823761,0.18930891156196594,0.19442707300186157,0.274895578622818,0.7124673128128052,0.6037721633911133,0.2829076647758484,0.5234177112579346,0.9050986766815186,0.3803967237472534],\"yaxis\":\"y\",\"type\":\"bar\"}],                        {\"template\":{\"data\":{\"histogram2dcontour\":[{\"type\":\"histogram2dcontour\",\"colorbar\":{\"outlinewidth\":0,\"ticks\":\"\"},\"colorscale\":[[0.0,\"#0d0887\"],[0.1111111111111111,\"#46039f\"],[0.2222222222222222,\"#7201a8\"],[0.3333333333333333,\"#9c179e\"],[0.4444444444444444,\"#bd3786\"],[0.5555555555555556,\"#d8576b\"],[0.6666666666666666,\"#ed7953\"],[0.7777777777777778,\"#fb9f3a\"],[0.8888888888888888,\"#fdca26\"],[1.0,\"#f0f921\"]]}],\"choropleth\":[{\"type\":\"choropleth\",\"colorbar\":{\"outlinewidth\":0,\"ticks\":\"\"}}],\"histogram2d\":[{\"type\":\"histogram2d\",\"colorbar\":{\"outlinewidth\":0,\"ticks\":\"\"},\"colorscale\":[[0.0,\"#0d0887\"],[0.1111111111111111,\"#46039f\"],[0.2222222222222222,\"#7201a8\"],[0.3333333333333333,\"#9c179e\"],[0.4444444444444444,\"#bd3786\"],[0.5555555555555556,\"#d8576b\"],[0.6666666666666666,\"#ed7953\"],[0.7777777777777778,\"#fb9f3a\"],[0.8888888888888888,\"#fdca26\"],[1.0,\"#f0f921\"]]}],\"heatmap\":[{\"type\":\"heatmap\",\"colorbar\":{\"outlinewidth\":0,\"ticks\":\"\"},\"colorscale\":[[0.0,\"#0d0887\"],[0.1111111111111111,\"#46039f\"],[0.2222222222222222,\"#7201a8\"],[0.3333333333333333,\"#9c179e\"],[0.4444444444444444,\"#bd3786\"],[0.5555555555555556,\"#d8576b\"],[0.6666666666666666,\"#ed7953\"],[0.7777777777777778,\"#fb9f3a\"],[0.8888888888888888,\"#fdca26\"],[1.0,\"#f0f921\"]]}],\"heatmapgl\":[{\"type\":\"heatmapgl\",\"colorbar\":{\"outlinewidth\":0,\"ticks\":\"\"},\"colorscale\":[[0.0,\"#0d0887\"],[0.1111111111111111,\"#46039f\"],[0.2222222222222222,\"#7201a8\"],[0.3333333333333333,\"#9c179e\"],[0.4444444444444444,\"#bd3786\"],[0.5555555555555556,\"#d8576b\"],[0.6666666666666666,\"#ed7953\"],[0.7777777777777778,\"#fb9f3a\"],[0.8888888888888888,\"#fdca26\"],[1.0,\"#f0f921\"]]}],\"contourcarpet\":[{\"type\":\"contourcarpet\",\"colorbar\":{\"outlinewidth\":0,\"ticks\":\"\"}}],\"contour\":[{\"type\":\"contour\",\"colorbar\":{\"outlinewidth\":0,\"ticks\":\"\"},\"colorscale\":[[0.0,\"#0d0887\"],[0.1111111111111111,\"#46039f\"],[0.2222222222222222,\"#7201a8\"],[0.3333333333333333,\"#9c179e\"],[0.4444444444444444,\"#bd3786\"],[0.5555555555555556,\"#d8576b\"],[0.6666666666666666,\"#ed7953\"],[0.7777777777777778,\"#fb9f3a\"],[0.8888888888888888,\"#fdca26\"],[1.0,\"#f0f921\"]]}],\"surface\":[{\"type\":\"surface\",\"colorbar\":{\"outlinewidth\":0,\"ticks\":\"\"},\"colorscale\":[[0.0,\"#0d0887\"],[0.1111111111111111,\"#46039f\"],[0.2222222222222222,\"#7201a8\"],[0.3333333333333333,\"#9c179e\"],[0.4444444444444444,\"#bd3786\"],[0.5555555555555556,\"#d8576b\"],[0.6666666666666666,\"#ed7953\"],[0.7777777777777778,\"#fb9f3a\"],[0.8888888888888888,\"#fdca26\"],[1.0,\"#f0f921\"]]}],\"mesh3d\":[{\"type\":\"mesh3d\",\"colorbar\":{\"outlinewidth\":0,\"ticks\":\"\"}}],\"scatter\":[{\"fillpattern\":{\"fillmode\":\"overlay\",\"size\":10,\"solidity\":0.2},\"type\":\"scatter\"}],\"parcoords\":[{\"type\":\"parcoords\",\"line\":{\"colorbar\":{\"outlinewidth\":0,\"ticks\":\"\"}}}],\"scatterpolargl\":[{\"type\":\"scatterpolargl\",\"marker\":{\"colorbar\":{\"outlinewidth\":0,\"ticks\":\"\"}}}],\"bar\":[{\"error_x\":{\"color\":\"#2a3f5f\"},\"error_y\":{\"color\":\"#2a3f5f\"},\"marker\":{\"line\":{\"color\":\"#E5ECF6\",\"width\":0.5},\"pattern\":{\"fillmode\":\"overlay\",\"size\":10,\"solidity\":0.2}},\"type\":\"bar\"}],\"scattergeo\":[{\"type\":\"scattergeo\",\"marker\":{\"colorbar\":{\"outlinewidth\":0,\"ticks\":\"\"}}}],\"scatterpolar\":[{\"type\":\"scatterpolar\",\"marker\":{\"colorbar\":{\"outlinewidth\":0,\"ticks\":\"\"}}}],\"histogram\":[{\"marker\":{\"pattern\":{\"fillmode\":\"overlay\",\"size\":10,\"solidity\":0.2}},\"type\":\"histogram\"}],\"scattergl\":[{\"type\":\"scattergl\",\"marker\":{\"colorbar\":{\"outlinewidth\":0,\"ticks\":\"\"}}}],\"scatter3d\":[{\"type\":\"scatter3d\",\"line\":{\"colorbar\":{\"outlinewidth\":0,\"ticks\":\"\"}},\"marker\":{\"colorbar\":{\"outlinewidth\":0,\"ticks\":\"\"}}}],\"scattermapbox\":[{\"type\":\"scattermapbox\",\"marker\":{\"colorbar\":{\"outlinewidth\":0,\"ticks\":\"\"}}}],\"scatterternary\":[{\"type\":\"scatterternary\",\"marker\":{\"colorbar\":{\"outlinewidth\":0,\"ticks\":\"\"}}}],\"scattercarpet\":[{\"type\":\"scattercarpet\",\"marker\":{\"colorbar\":{\"outlinewidth\":0,\"ticks\":\"\"}}}],\"carpet\":[{\"aaxis\":{\"endlinecolor\":\"#2a3f5f\",\"gridcolor\":\"white\",\"linecolor\":\"white\",\"minorgridcolor\":\"white\",\"startlinecolor\":\"#2a3f5f\"},\"baxis\":{\"endlinecolor\":\"#2a3f5f\",\"gridcolor\":\"white\",\"linecolor\":\"white\",\"minorgridcolor\":\"white\",\"startlinecolor\":\"#2a3f5f\"},\"type\":\"carpet\"}],\"table\":[{\"cells\":{\"fill\":{\"color\":\"#EBF0F8\"},\"line\":{\"color\":\"white\"}},\"header\":{\"fill\":{\"color\":\"#C8D4E3\"},\"line\":{\"color\":\"white\"}},\"type\":\"table\"}],\"barpolar\":[{\"marker\":{\"line\":{\"color\":\"#E5ECF6\",\"width\":0.5},\"pattern\":{\"fillmode\":\"overlay\",\"size\":10,\"solidity\":0.2}},\"type\":\"barpolar\"}],\"pie\":[{\"automargin\":true,\"type\":\"pie\"}]},\"layout\":{\"autotypenumbers\":\"strict\",\"colorway\":[\"#636efa\",\"#EF553B\",\"#00cc96\",\"#ab63fa\",\"#FFA15A\",\"#19d3f3\",\"#FF6692\",\"#B6E880\",\"#FF97FF\",\"#FECB52\"],\"font\":{\"color\":\"#2a3f5f\"},\"hovermode\":\"closest\",\"hoverlabel\":{\"align\":\"left\"},\"paper_bgcolor\":\"white\",\"plot_bgcolor\":\"#E5ECF6\",\"polar\":{\"bgcolor\":\"#E5ECF6\",\"angularaxis\":{\"gridcolor\":\"white\",\"linecolor\":\"white\",\"ticks\":\"\"},\"radialaxis\":{\"gridcolor\":\"white\",\"linecolor\":\"white\",\"ticks\":\"\"}},\"ternary\":{\"bgcolor\":\"#E5ECF6\",\"aaxis\":{\"gridcolor\":\"white\",\"linecolor\":\"white\",\"ticks\":\"\"},\"baxis\":{\"gridcolor\":\"white\",\"linecolor\":\"white\",\"ticks\":\"\"},\"caxis\":{\"gridcolor\":\"white\",\"linecolor\":\"white\",\"ticks\":\"\"}},\"coloraxis\":{\"colorbar\":{\"outlinewidth\":0,\"ticks\":\"\"}},\"colorscale\":{\"sequential\":[[0.0,\"#0d0887\"],[0.1111111111111111,\"#46039f\"],[0.2222222222222222,\"#7201a8\"],[0.3333333333333333,\"#9c179e\"],[0.4444444444444444,\"#bd3786\"],[0.5555555555555556,\"#d8576b\"],[0.6666666666666666,\"#ed7953\"],[0.7777777777777778,\"#fb9f3a\"],[0.8888888888888888,\"#fdca26\"],[1.0,\"#f0f921\"]],\"sequentialminus\":[[0.0,\"#0d0887\"],[0.1111111111111111,\"#46039f\"],[0.2222222222222222,\"#7201a8\"],[0.3333333333333333,\"#9c179e\"],[0.4444444444444444,\"#bd3786\"],[0.5555555555555556,\"#d8576b\"],[0.6666666666666666,\"#ed7953\"],[0.7777777777777778,\"#fb9f3a\"],[0.8888888888888888,\"#fdca26\"],[1.0,\"#f0f921\"]],\"diverging\":[[0,\"#8e0152\"],[0.1,\"#c51b7d\"],[0.2,\"#de77ae\"],[0.3,\"#f1b6da\"],[0.4,\"#fde0ef\"],[0.5,\"#f7f7f7\"],[0.6,\"#e6f5d0\"],[0.7,\"#b8e186\"],[0.8,\"#7fbc41\"],[0.9,\"#4d9221\"],[1,\"#276419\"]]},\"xaxis\":{\"gridcolor\":\"white\",\"linecolor\":\"white\",\"ticks\":\"\",\"title\":{\"standoff\":15},\"zerolinecolor\":\"white\",\"automargin\":true,\"zerolinewidth\":2},\"yaxis\":{\"gridcolor\":\"white\",\"linecolor\":\"white\",\"ticks\":\"\",\"title\":{\"standoff\":15},\"zerolinecolor\":\"white\",\"automargin\":true,\"zerolinewidth\":2},\"scene\":{\"xaxis\":{\"backgroundcolor\":\"#E5ECF6\",\"gridcolor\":\"white\",\"linecolor\":\"white\",\"showbackground\":true,\"ticks\":\"\",\"zerolinecolor\":\"white\",\"gridwidth\":2},\"yaxis\":{\"backgroundcolor\":\"#E5ECF6\",\"gridcolor\":\"white\",\"linecolor\":\"white\",\"showbackground\":true,\"ticks\":\"\",\"zerolinecolor\":\"white\",\"gridwidth\":2},\"zaxis\":{\"backgroundcolor\":\"#E5ECF6\",\"gridcolor\":\"white\",\"linecolor\":\"white\",\"showbackground\":true,\"ticks\":\"\",\"zerolinecolor\":\"white\",\"gridwidth\":2}},\"shapedefaults\":{\"line\":{\"color\":\"#2a3f5f\"}},\"annotationdefaults\":{\"arrowcolor\":\"#2a3f5f\",\"arrowhead\":0,\"arrowwidth\":1},\"geo\":{\"bgcolor\":\"white\",\"landcolor\":\"#E5ECF6\",\"subunitcolor\":\"white\",\"showland\":true,\"showlakes\":true,\"lakecolor\":\"white\"},\"title\":{\"x\":0.05},\"mapbox\":{\"style\":\"light\"}}},\"xaxis\":{\"anchor\":\"y\",\"domain\":[0.0,1.0],\"title\":{\"text\":\"x\"},\"tickmode\":\"array\",\"tickvals\":[\"[0, 1, 2, 3, 4, 5, 6, 7, 8, 9, 10, 11, 12, 13, 14, 15, 16, 17, 18, 19, 20, 21, 22, 23, 24, 25, 26, 27, 28, 29, 30, 31, 32, 33, 34, 35, 36, 37, 38, 39, 40, 41, 42, 43, 44, 45, 46, 47]\",\"[0, 1, 2, 3, 4, 5, 6, 7, 8, 9, 10, 11, 12, 13, 14, 15, 16, 17, 18, 19, 20, 21, 22, 23, 24, 25, 26, 27, 28, 29, 30, 31, 32, 33, 34, 35, 36, 37, 38, 39, 40, 41, 42, 43, 45, 46, 47]\",\"[0, 2, 3, 4, 5, 6, 7, 8, 9, 10, 11, 12, 13, 14, 15, 16, 17, 18, 19, 20, 21, 22, 23, 24, 25, 26, 27, 28, 29, 30, 31, 32, 33, 34, 35, 36, 37, 38, 39, 40, 41, 42, 43, 45, 46, 47]\",\"[0, 3, 4, 5, 6, 7, 8, 9, 10, 11, 12, 13, 14, 15, 16, 17, 18, 19, 20, 21, 22, 23, 24, 25, 26, 27, 28, 29, 30, 31, 32, 33, 34, 35, 36, 37, 38, 39, 40, 41, 42, 43, 45, 46, 47]\",\"[0, 3, 4, 5, 7, 8, 9, 10, 11, 12, 13, 14, 15, 16, 17, 18, 19, 20, 21, 22, 23, 24, 25, 26, 27, 28, 29, 30, 31, 32, 33, 34, 35, 36, 37, 38, 39, 40, 41, 42, 43, 45, 46, 47]\",\"[0, 3, 4, 5, 8, 9, 10, 11, 12, 13, 14, 15, 16, 17, 18, 19, 20, 21, 22, 23, 24, 25, 26, 27, 28, 29, 30, 31, 32, 33, 34, 35, 36, 37, 38, 39, 40, 41, 42, 43, 45, 46, 47]\",\"[0, 4, 5, 8, 9, 10, 11, 12, 13, 14, 15, 16, 17, 18, 19, 20, 21, 22, 23, 24, 25, 26, 27, 28, 29, 30, 31, 32, 33, 34, 35, 36, 37, 38, 39, 40, 41, 42, 43, 45, 46, 47]\",\"[0, 4, 8, 9, 10, 11, 12, 13, 14, 15, 16, 17, 18, 19, 20, 21, 22, 23, 24, 25, 26, 27, 28, 29, 30, 31, 32, 33, 34, 35, 36, 37, 38, 39, 40, 41, 42, 43, 45, 46, 47]\",\"[0, 4, 9, 10, 11, 12, 13, 14, 15, 16, 17, 18, 19, 20, 21, 22, 23, 24, 25, 26, 27, 28, 29, 30, 31, 32, 33, 34, 35, 36, 37, 38, 39, 40, 41, 42, 43, 45, 46, 47]\",\"[0, 4, 9, 11, 12, 13, 14, 15, 16, 17, 18, 19, 20, 21, 22, 23, 24, 25, 26, 27, 28, 29, 30, 31, 32, 33, 34, 35, 36, 37, 38, 39, 40, 41, 42, 43, 45, 46, 47]\",\"[0, 4, 9, 11, 12, 14, 15, 16, 17, 18, 19, 20, 21, 22, 23, 24, 25, 26, 27, 28, 29, 30, 31, 32, 33, 34, 35, 36, 37, 38, 39, 40, 41, 42, 43, 45, 46, 47]\",\"[0, 4, 9, 11, 12, 15, 16, 17, 18, 19, 20, 21, 22, 23, 24, 25, 26, 27, 28, 29, 30, 31, 32, 33, 34, 35, 36, 37, 38, 39, 40, 41, 42, 43, 45, 46, 47]\",\"[0, 9, 11, 12, 15, 16, 17, 18, 19, 20, 21, 22, 23, 24, 25, 26, 27, 28, 29, 30, 31, 32, 33, 34, 35, 36, 37, 38, 39, 40, 41, 42, 43, 45, 46, 47]\",\"[0, 9, 11, 12, 15, 16, 17, 18, 19, 20, 21, 22, 23, 24, 25, 26, 27, 28, 29, 30, 31, 32, 33, 34, 35, 36, 38, 39, 40, 41, 42, 43, 45, 46, 47]\",\"[0, 9, 11, 12, 15, 16, 17, 18, 19, 20, 21, 22, 23, 24, 25, 26, 27, 28, 29, 31, 32, 33, 34, 35, 36, 38, 39, 40, 41, 42, 43, 45, 46, 47]\",\"[0, 9, 11, 12, 15, 16, 17, 18, 19, 20, 21, 22, 23, 24, 25, 26, 28, 29, 31, 32, 33, 34, 35, 36, 38, 39, 40, 41, 42, 43, 45, 46, 47]\",\"[0, 9, 11, 12, 15, 16, 17, 18, 19, 20, 21, 22, 23, 24, 25, 26, 28, 29, 31, 32, 33, 34, 36, 38, 39, 40, 41, 42, 43, 45, 46, 47]\",\"[0, 9, 11, 12, 15, 16, 17, 18, 19, 20, 21, 22, 23, 24, 25, 26, 28, 29, 31, 32, 33, 34, 36, 39, 40, 41, 42, 43, 45, 46, 47]\",\"[0, 9, 11, 12, 15, 16, 17, 18, 19, 20, 21, 22, 23, 24, 25, 26, 28, 29, 31, 33, 34, 36, 39, 40, 41, 42, 43, 45, 46, 47]\",\"[0, 9, 11, 12, 15, 16, 17, 18, 19, 20, 22, 23, 24, 25, 26, 28, 29, 31, 33, 34, 36, 39, 40, 41, 42, 43, 45, 46, 47]\",\"[0, 9, 11, 12, 16, 17, 18, 19, 20, 22, 23, 24, 25, 26, 28, 29, 31, 33, 34, 36, 39, 40, 41, 42, 43, 45, 46, 47]\",\"[0, 9, 11, 12, 16, 18, 19, 20, 22, 23, 24, 25, 26, 28, 29, 31, 33, 34, 36, 39, 40, 41, 42, 43, 45, 46, 47]\",\"[0, 9, 11, 12, 16, 18, 19, 20, 22, 23, 24, 25, 26, 28, 29, 31, 33, 34, 36, 39, 40, 41, 42, 45, 46, 47]\",\"[0, 9, 11, 12, 16, 18, 19, 20, 22, 23, 24, 25, 26, 28, 29, 31, 33, 34, 36, 40, 41, 42, 45, 46, 47]\",\"[0, 9, 11, 12, 16, 18, 19, 20, 22, 23, 24, 25, 26, 29, 31, 33, 34, 36, 40, 41, 42, 45, 46, 47]\",\"[0, 9, 11, 12, 16, 18, 19, 20, 22, 23, 25, 26, 29, 31, 33, 34, 36, 40, 41, 42, 45, 46, 47]\",\"[0, 9, 11, 12, 16, 19, 20, 22, 23, 25, 26, 29, 31, 33, 34, 36, 40, 41, 42, 45, 46, 47]\",\"[0, 11, 12, 16, 19, 20, 22, 23, 25, 26, 29, 31, 33, 34, 36, 40, 41, 42, 45, 46, 47]\",\"[0, 11, 12, 16, 19, 20, 22, 23, 25, 29, 31, 33, 34, 36, 40, 41, 42, 45, 46, 47]\",\"[0, 11, 12, 16, 19, 20, 22, 23, 25, 29, 33, 34, 36, 40, 41, 42, 45, 46, 47]\",\"[0, 11, 12, 16, 19, 20, 22, 23, 25, 29, 33, 34, 36, 40, 41, 45, 46, 47]\",\"[0, 11, 12, 16, 19, 20, 22, 25, 29, 33, 34, 36, 40, 41, 45, 46, 47]\",\"[0, 11, 12, 16, 19, 20, 22, 25, 29, 34, 36, 40, 41, 45, 46, 47]\",\"[0, 11, 12, 16, 19, 20, 22, 29, 34, 36, 40, 41, 45, 46, 47]\",\"[0, 11, 12, 16, 19, 22, 29, 34, 36, 40, 41, 45, 46, 47]\",\"[0, 11, 12, 16, 19, 29, 34, 36, 40, 41, 45, 46, 47]\",\"[0, 11, 12, 16, 19, 29, 34, 36, 40, 41, 45, 46]\",\"[0, 11, 12, 16, 19, 29, 34, 36, 40, 41, 45]\",\"[0, 11, 12, 16, 19, 29, 34, 36, 41, 45]\",\"[0, 11, 12, 16, 19, 29, 34, 36, 41]\",\"[0, 11, 12, 16, 19, 29, 34, 36]\",\"[0, 11, 12, 16, 19, 34, 36]\",\"[0, 12, 16, 19, 34, 36]\",\"[0, 12, 16, 34, 36]\",\"[0, 16, 34, 36]\",\"[0, 34, 36]\",\"[0, 36]\",\"[36]\"],\"ticktext\":[\"[0, 1, 2, 3, 4, 5, 6, 7, 8, 9, 10, 11, 12, 13, 14, 15, 16, 17, 18, 19, 20, 21, 22, 23, 24, 25, 26, 27, 28, 29, 30, 31, 32, 33, 34, 35, 36, 37, 38, 39, 40, 41, 42, 43, 44, 45, 46, 47]\",\"[0, 1, 2, 3, 4, 5, 6, 7, 8, 9, 10, 11, 12, 13, 14, 15, 16, 17, 18, 19, 20, 21, 22, 23, 24, 25, 26, 27, 28, 29, 30, 31, 32, 33, 34, 35, 36, 37, 38, 39, 40, 41, 42, 43, 45, 46, 47]\",\"[0, 2, 3, 4, 5, 6, 7, 8, 9, 10, 11, 12, 13, 14, 15, 16, 17, 18, 19, 20, 21, 22, 23, 24, 25, 26, 27, 28, 29, 30, 31, 32, 33, 34, 35, 36, 37, 38, 39, 40, 41, 42, 43, 45, 46, 47]\",\"[0, 3, 4, 5, 6, 7, 8, 9, 10, 11, 12, 13, 14, 15, 16, 17, 18, 19, 20, 21, 22, 23, 24, 25, 26, 27, 28, 29, 30, 31, 32, 33, 34, 35, 36, 37, 38, 39, 40, 41, 42, 43, 45, 46, 47]\",\"[0, 3, 4, 5, 7, 8, 9, 10, 11, 12, 13, 14, 15, 16, 17, 18, 19, 20, 21, 22, 23, 24, 25, 26, 27, 28, 29, 30, 31, 32, 33, 34, 35, 36, 37, 38, 39, 40, 41, 42, 43, 45, 46, 47]\",\"[0, 3, 4, 5, 8, 9, 10, 11, 12, 13, 14, 15, 16, 17, 18, 19, 20, 21, 22, 23, 24, 25, 26, 27, 28, 29, 30, 31, 32, 33, 34, 35, 36, 37, 38, 39, 40, 41, 42, 43, 45, 46, 47]\",\"[0, 4, 5, 8, 9, 10, 11, 12, 13, 14, 15, 16, 17, 18, 19, 20, 21, 22, 23, 24, 25, 26, 27, 28, 29, 30, 31, 32, 33, 34, 35, 36, 37, 38, 39, 40, 41, 42, 43, 45, 46, 47]\",\"[0, 4, 8, 9, 10, 11, 12, 13, 14, 15, 16, 17, 18, 19, 20, 21, 22, 23, 24, 25, 26, 27, 28, 29, 30, 31, 32, 33, 34, 35, 36, 37, 38, 39, 40, 41, 42, 43, 45, 46, 47]\",\"[0, 4, 9, 10, 11, 12, 13, 14, 15, 16, 17, 18, 19, 20, 21, 22, 23, 24, 25, 26, 27, 28, 29, 30, 31, 32, 33, 34, 35, 36, 37, 38, 39, 40, 41, 42, 43, 45, 46, 47]\",\"[0, 4, 9, 11, 12, 13, 14, 15, 16, 17, 18, 19, 20, 21, 22, 23, 24, 25, 26, 27, 28, 29, 30, 31, 32, 33, 34, 35, 36, 37, 38, 39, 40, 41, 42, 43, 45, 46, 47]\",\"[0, 4, 9, 11, 12, 14, 15, 16, 17, 18, 19, 20, 21, 22, 23, 24, 25, 26, 27, 28, 29, 30, 31, 32, 33, 34, 35, 36, 37, 38, 39, 40, 41, 42, 43, 45, 46, 47]\",\"[0, 4, 9, 11, 12, 15, 16, 17, 18, 19, 20, 21, 22, 23, 24, 25, 26, 27, 28, 29, 30, 31, 32, 33, 34, 35, 36, 37, 38, 39, 40, 41, 42, 43, 45, 46, 47]\",\"[0, 9, 11, 12, 15, 16, 17, 18, 19, 20, 21, 22, 23, 24, 25, 26, 27, 28, 29, 30, 31, 32, 33, 34, 35, 36, 37, 38, 39, 40, 41, 42, 43, 45, 46, 47]\",\"[0, 9, 11, 12, 15, 16, 17, 18, 19, 20, 21, 22, 23, 24, 25, 26, 27, 28, 29, 30, 31, 32, 33, 34, 35, 36, 38, 39, 40, 41, 42, 43, 45, 46, 47]\",\"[0, 9, 11, 12, 15, 16, 17, 18, 19, 20, 21, 22, 23, 24, 25, 26, 27, 28, 29, 31, 32, 33, 34, 35, 36, 38, 39, 40, 41, 42, 43, 45, 46, 47]\",\"[0, 9, 11, 12, 15, 16, 17, 18, 19, 20, 21, 22, 23, 24, 25, 26, 28, 29, 31, 32, 33, 34, 35, 36, 38, 39, 40, 41, 42, 43, 45, 46, 47]\",\"[0, 9, 11, 12, 15, 16, 17, 18, 19, 20, 21, 22, 23, 24, 25, 26, 28, 29, 31, 32, 33, 34, 36, 38, 39, 40, 41, 42, 43, 45, 46, 47]\",\"[0, 9, 11, 12, 15, 16, 17, 18, 19, 20, 21, 22, 23, 24, 25, 26, 28, 29, 31, 32, 33, 34, 36, 39, 40, 41, 42, 43, 45, 46, 47]\",\"[0, 9, 11, 12, 15, 16, 17, 18, 19, 20, 21, 22, 23, 24, 25, 26, 28, 29, 31, 33, 34, 36, 39, 40, 41, 42, 43, 45, 46, 47]\",\"[0, 9, 11, 12, 15, 16, 17, 18, 19, 20, 22, 23, 24, 25, 26, 28, 29, 31, 33, 34, 36, 39, 40, 41, 42, 43, 45, 46, 47]\",\"[0, 9, 11, 12, 16, 17, 18, 19, 20, 22, 23, 24, 25, 26, 28, 29, 31, 33, 34, 36, 39, 40, 41, 42, 43, 45, 46, 47]\",\"[0, 9, 11, 12, 16, 18, 19, 20, 22, 23, 24, 25, 26, 28, 29, 31, 33, 34, 36, 39, 40, 41, 42, 43, 45, 46, 47]\",\"[0, 9, 11, 12, 16, 18, 19, 20, 22, 23, 24, 25, 26, 28, 29, 31, 33, 34, 36, 39, 40, 41, 42, 45, 46, 47]\",\"[0, 9, 11, 12, 16, 18, 19, 20, 22, 23, 24, 25, 26, 28, 29, 31, 33, 34, 36, 40, 41, 42, 45, 46, 47]\",\"[0, 9, 11, 12, 16, 18, 19, 20, 22, 23, 24, 25, 26, 29, 31, 33, 34, 36, 40, 41, 42, 45, 46, 47]\",\"[0, 9, 11, 12, 16, 18, 19, 20, 22, 23, 25, 26, 29, 31, 33, 34, 36, 40, 41, 42, 45, 46, 47]\",\"[0, 9, 11, 12, 16, 19, 20, 22, 23, 25, 26, 29, 31, 33, 34, 36, 40, 41, 42, 45, 46, 47]\",\"[0, 11, 12, 16, 19, 20, 22, 23, 25, 26, 29, 31, 33, 34, 36, 40, 41, 42, 45, 46, 47]\",\"[0, 11, 12, 16, 19, 20, 22, 23, 25, 29, 31, 33, 34, 36, 40, 41, 42, 45, 46, 47]\",\"[0, 11, 12, 16, 19, 20, 22, 23, 25, 29, 33, 34, 36, 40, 41, 42, 45, 46, 47]\",\"[0, 11, 12, 16, 19, 20, 22, 23, 25, 29, 33, 34, 36, 40, 41, 45, 46, 47]\",\"[0, 11, 12, 16, 19, 20, 22, 25, 29, 33, 34, 36, 40, 41, 45, 46, 47]\",\"[0, 11, 12, 16, 19, 20, 22, 25, 29, 34, 36, 40, 41, 45, 46, 47]\",\"[0, 11, 12, 16, 19, 20, 22, 29, 34, 36, 40, 41, 45, 46, 47]\",\"[0, 11, 12, 16, 19, 22, 29, 34, 36, 40, 41, 45, 46, 47]\",\"[0, 11, 12, 16, 19, 29, 34, 36, 40, 41, 45, 46, 47]\",\"[0, 11, 12, 16, 19, 29, 34, 36, 40, 41, 45, 46]\",\"[0, 11, 12, 16, 19, 29, 34, 36, 40, 41, 45]\",\"[0, 11, 12, 16, 19, 29, 34, 36, 41, 45]\",\"[0, 11, 12, 16, 19, 29, 34, 36, 41]\",\"[0, 11, 12, 16, 19, 29, 34, 36]\",\"[0, 11, 12, 16, 19, 34, 36]\",\"[0, 12, 16, 19, 34, 36]\",\"[0, 12, 16, 34, 36]\",\"[0, 16, 34, 36]\",\"[0, 34, 36]\",\"[0, 36]\",\"[36]\"]},\"yaxis\":{\"anchor\":\"x\",\"domain\":[0.0,1.0],\"title\":{\"text\":\" pr of incorrect\"}},\"legend\":{\"tracegroupgap\":0},\"title\":{\"text\":\"greater than task, pruning layers pr incorrect\"},\"barmode\":\"relative\",\"font\":{\"size\":7,\"color\":\"black\"}},                        {\"responsive\": true}                    ).then(function(){\n",
       "                            \n",
       "var gd = document.getElementById('27544911-f627-4214-9146-f74029b44871');\n",
       "var x = new MutationObserver(function (mutations, observer) {{\n",
       "        var display = window.getComputedStyle(gd).display;\n",
       "        if (!display || display === 'none') {{\n",
       "            console.log([gd, 'removed!']);\n",
       "            Plotly.purge(gd);\n",
       "            observer.disconnect();\n",
       "        }}\n",
       "}});\n",
       "\n",
       "// Listen for the removal of the full notebook cells\n",
       "var notebookContainer = gd.closest('#notebook-container');\n",
       "if (notebookContainer) {{\n",
       "    x.observe(notebookContainer, {childList: true});\n",
       "}}\n",
       "\n",
       "// Listen for the clearing of the current output cell\n",
       "var outputEl = gd.closest('.output');\n",
       "if (outputEl) {{\n",
       "    x.observe(outputEl, {childList: true});\n",
       "}}\n",
       "\n",
       "                        })                };                });            </script>        </div>"
      ]
     },
     "metadata": {},
     "output_type": "display_data"
    },
    {
     "data": {
      "application/vnd.plotly.v1+json": {
       "config": {
        "plotlyServerURL": "https://plot.ly"
       },
       "data": [
        {
         "alignmentgroup": "True",
         "hovertemplate": "x=%{x}<br>accuracy=%{y}<extra></extra>",
         "legendgroup": "",
         "marker": {
          "color": "#636efa",
          "pattern": {
           "shape": ""
          }
         },
         "name": "",
         "offsetgroup": "",
         "orientation": "v",
         "showlegend": false,
         "textposition": "auto",
         "type": "bar",
         "x": [
          "[0, 1, 2, 3, 4, 5, 6, 7, 8, 9, 10, 11, 12, 13, 14, 15, 16, 17, 18, 19, 20, 21, 22, 23, 24, 25, 26, 27, 28, 29, 30, 31, 32, 33, 34, 35, 36, 37, 38, 39, 40, 41, 42, 43, 44, 45, 46, 47]",
          "[0, 1, 2, 3, 4, 5, 6, 7, 8, 9, 10, 11, 12, 13, 14, 15, 16, 17, 18, 19, 20, 21, 22, 23, 24, 25, 26, 27, 28, 29, 30, 31, 32, 33, 34, 35, 36, 37, 38, 39, 40, 41, 42, 43, 45, 46, 47]",
          "[0, 2, 3, 4, 5, 6, 7, 8, 9, 10, 11, 12, 13, 14, 15, 16, 17, 18, 19, 20, 21, 22, 23, 24, 25, 26, 27, 28, 29, 30, 31, 32, 33, 34, 35, 36, 37, 38, 39, 40, 41, 42, 43, 45, 46, 47]",
          "[0, 3, 4, 5, 6, 7, 8, 9, 10, 11, 12, 13, 14, 15, 16, 17, 18, 19, 20, 21, 22, 23, 24, 25, 26, 27, 28, 29, 30, 31, 32, 33, 34, 35, 36, 37, 38, 39, 40, 41, 42, 43, 45, 46, 47]",
          "[0, 3, 4, 5, 7, 8, 9, 10, 11, 12, 13, 14, 15, 16, 17, 18, 19, 20, 21, 22, 23, 24, 25, 26, 27, 28, 29, 30, 31, 32, 33, 34, 35, 36, 37, 38, 39, 40, 41, 42, 43, 45, 46, 47]",
          "[0, 3, 4, 5, 8, 9, 10, 11, 12, 13, 14, 15, 16, 17, 18, 19, 20, 21, 22, 23, 24, 25, 26, 27, 28, 29, 30, 31, 32, 33, 34, 35, 36, 37, 38, 39, 40, 41, 42, 43, 45, 46, 47]",
          "[0, 4, 5, 8, 9, 10, 11, 12, 13, 14, 15, 16, 17, 18, 19, 20, 21, 22, 23, 24, 25, 26, 27, 28, 29, 30, 31, 32, 33, 34, 35, 36, 37, 38, 39, 40, 41, 42, 43, 45, 46, 47]",
          "[0, 4, 8, 9, 10, 11, 12, 13, 14, 15, 16, 17, 18, 19, 20, 21, 22, 23, 24, 25, 26, 27, 28, 29, 30, 31, 32, 33, 34, 35, 36, 37, 38, 39, 40, 41, 42, 43, 45, 46, 47]",
          "[0, 4, 9, 10, 11, 12, 13, 14, 15, 16, 17, 18, 19, 20, 21, 22, 23, 24, 25, 26, 27, 28, 29, 30, 31, 32, 33, 34, 35, 36, 37, 38, 39, 40, 41, 42, 43, 45, 46, 47]",
          "[0, 4, 9, 11, 12, 13, 14, 15, 16, 17, 18, 19, 20, 21, 22, 23, 24, 25, 26, 27, 28, 29, 30, 31, 32, 33, 34, 35, 36, 37, 38, 39, 40, 41, 42, 43, 45, 46, 47]",
          "[0, 4, 9, 11, 12, 14, 15, 16, 17, 18, 19, 20, 21, 22, 23, 24, 25, 26, 27, 28, 29, 30, 31, 32, 33, 34, 35, 36, 37, 38, 39, 40, 41, 42, 43, 45, 46, 47]",
          "[0, 4, 9, 11, 12, 15, 16, 17, 18, 19, 20, 21, 22, 23, 24, 25, 26, 27, 28, 29, 30, 31, 32, 33, 34, 35, 36, 37, 38, 39, 40, 41, 42, 43, 45, 46, 47]",
          "[0, 9, 11, 12, 15, 16, 17, 18, 19, 20, 21, 22, 23, 24, 25, 26, 27, 28, 29, 30, 31, 32, 33, 34, 35, 36, 37, 38, 39, 40, 41, 42, 43, 45, 46, 47]",
          "[0, 9, 11, 12, 15, 16, 17, 18, 19, 20, 21, 22, 23, 24, 25, 26, 27, 28, 29, 30, 31, 32, 33, 34, 35, 36, 38, 39, 40, 41, 42, 43, 45, 46, 47]",
          "[0, 9, 11, 12, 15, 16, 17, 18, 19, 20, 21, 22, 23, 24, 25, 26, 27, 28, 29, 31, 32, 33, 34, 35, 36, 38, 39, 40, 41, 42, 43, 45, 46, 47]",
          "[0, 9, 11, 12, 15, 16, 17, 18, 19, 20, 21, 22, 23, 24, 25, 26, 28, 29, 31, 32, 33, 34, 35, 36, 38, 39, 40, 41, 42, 43, 45, 46, 47]",
          "[0, 9, 11, 12, 15, 16, 17, 18, 19, 20, 21, 22, 23, 24, 25, 26, 28, 29, 31, 32, 33, 34, 36, 38, 39, 40, 41, 42, 43, 45, 46, 47]",
          "[0, 9, 11, 12, 15, 16, 17, 18, 19, 20, 21, 22, 23, 24, 25, 26, 28, 29, 31, 32, 33, 34, 36, 39, 40, 41, 42, 43, 45, 46, 47]",
          "[0, 9, 11, 12, 15, 16, 17, 18, 19, 20, 21, 22, 23, 24, 25, 26, 28, 29, 31, 33, 34, 36, 39, 40, 41, 42, 43, 45, 46, 47]",
          "[0, 9, 11, 12, 15, 16, 17, 18, 19, 20, 22, 23, 24, 25, 26, 28, 29, 31, 33, 34, 36, 39, 40, 41, 42, 43, 45, 46, 47]",
          "[0, 9, 11, 12, 16, 17, 18, 19, 20, 22, 23, 24, 25, 26, 28, 29, 31, 33, 34, 36, 39, 40, 41, 42, 43, 45, 46, 47]",
          "[0, 9, 11, 12, 16, 18, 19, 20, 22, 23, 24, 25, 26, 28, 29, 31, 33, 34, 36, 39, 40, 41, 42, 43, 45, 46, 47]",
          "[0, 9, 11, 12, 16, 18, 19, 20, 22, 23, 24, 25, 26, 28, 29, 31, 33, 34, 36, 39, 40, 41, 42, 45, 46, 47]",
          "[0, 9, 11, 12, 16, 18, 19, 20, 22, 23, 24, 25, 26, 28, 29, 31, 33, 34, 36, 40, 41, 42, 45, 46, 47]",
          "[0, 9, 11, 12, 16, 18, 19, 20, 22, 23, 24, 25, 26, 29, 31, 33, 34, 36, 40, 41, 42, 45, 46, 47]",
          "[0, 9, 11, 12, 16, 18, 19, 20, 22, 23, 25, 26, 29, 31, 33, 34, 36, 40, 41, 42, 45, 46, 47]",
          "[0, 9, 11, 12, 16, 19, 20, 22, 23, 25, 26, 29, 31, 33, 34, 36, 40, 41, 42, 45, 46, 47]",
          "[0, 11, 12, 16, 19, 20, 22, 23, 25, 26, 29, 31, 33, 34, 36, 40, 41, 42, 45, 46, 47]",
          "[0, 11, 12, 16, 19, 20, 22, 23, 25, 29, 31, 33, 34, 36, 40, 41, 42, 45, 46, 47]",
          "[0, 11, 12, 16, 19, 20, 22, 23, 25, 29, 33, 34, 36, 40, 41, 42, 45, 46, 47]",
          "[0, 11, 12, 16, 19, 20, 22, 23, 25, 29, 33, 34, 36, 40, 41, 45, 46, 47]",
          "[0, 11, 12, 16, 19, 20, 22, 25, 29, 33, 34, 36, 40, 41, 45, 46, 47]",
          "[0, 11, 12, 16, 19, 20, 22, 25, 29, 34, 36, 40, 41, 45, 46, 47]",
          "[0, 11, 12, 16, 19, 20, 22, 29, 34, 36, 40, 41, 45, 46, 47]",
          "[0, 11, 12, 16, 19, 22, 29, 34, 36, 40, 41, 45, 46, 47]",
          "[0, 11, 12, 16, 19, 29, 34, 36, 40, 41, 45, 46, 47]",
          "[0, 11, 12, 16, 19, 29, 34, 36, 40, 41, 45, 46]",
          "[0, 11, 12, 16, 19, 29, 34, 36, 40, 41, 45]",
          "[0, 11, 12, 16, 19, 29, 34, 36, 41, 45]",
          "[0, 11, 12, 16, 19, 29, 34, 36, 41]",
          "[0, 11, 12, 16, 19, 29, 34, 36]",
          "[0, 11, 12, 16, 19, 34, 36]",
          "[0, 12, 16, 19, 34, 36]",
          "[0, 12, 16, 34, 36]",
          "[0, 16, 34, 36]",
          "[0, 34, 36]",
          "[0, 36]",
          "[36]"
         ],
         "xaxis": "x",
         "y": [
          0.9800000190734863,
          1,
          0.9800000190734863,
          0.9700000286102295,
          0.9900000095367432,
          0.9800000190734863,
          0.9900000095367432,
          0.9900000095367432,
          0.9800000190734863,
          0.9900000095367432,
          0.9700000286102295,
          0.9800000190734863,
          0.9800000190734863,
          0.9700000286102295,
          0.9200000166893005,
          0.8999999761581421,
          0.9300000071525574,
          0.9100000262260437,
          0.8999999761581421,
          0.8799999952316284,
          0.8799999952316284,
          0.8899999856948853,
          0.9100000262260437,
          0.949999988079071,
          0.9200000166893005,
          0.8399999737739563,
          0.8399999737739563,
          0.7900000214576721,
          0.7300000190734863,
          0.7400000095367432,
          0.6700000166893005,
          0.5299999713897705,
          0.5600000023841858,
          0.4699999988079071,
          0.5600000023841858,
          0.4699999988079071,
          0.2800000011920929,
          0.2800000011920929,
          0.1599999964237213,
          0.09000000357627869,
          0.09000000357627869,
          0.3400000035762787,
          0.18000000715255737,
          0.3700000047683716,
          0.15000000596046448,
          0.23999999463558197,
          0.07999999821186066,
          0.05999999865889549
         ],
         "yaxis": "y"
        }
       ],
       "layout": {
        "autosize": true,
        "barmode": "relative",
        "font": {
         "color": "black",
         "size": 7
        },
        "legend": {
         "tracegroupgap": 0
        },
        "template": {
         "data": {
          "bar": [
           {
            "error_x": {
             "color": "#2a3f5f"
            },
            "error_y": {
             "color": "#2a3f5f"
            },
            "marker": {
             "line": {
              "color": "#E5ECF6",
              "width": 0.5
             },
             "pattern": {
              "fillmode": "overlay",
              "size": 10,
              "solidity": 0.2
             }
            },
            "type": "bar"
           }
          ],
          "barpolar": [
           {
            "marker": {
             "line": {
              "color": "#E5ECF6",
              "width": 0.5
             },
             "pattern": {
              "fillmode": "overlay",
              "size": 10,
              "solidity": 0.2
             }
            },
            "type": "barpolar"
           }
          ],
          "carpet": [
           {
            "aaxis": {
             "endlinecolor": "#2a3f5f",
             "gridcolor": "white",
             "linecolor": "white",
             "minorgridcolor": "white",
             "startlinecolor": "#2a3f5f"
            },
            "baxis": {
             "endlinecolor": "#2a3f5f",
             "gridcolor": "white",
             "linecolor": "white",
             "minorgridcolor": "white",
             "startlinecolor": "#2a3f5f"
            },
            "type": "carpet"
           }
          ],
          "choropleth": [
           {
            "colorbar": {
             "outlinewidth": 0,
             "ticks": ""
            },
            "type": "choropleth"
           }
          ],
          "contour": [
           {
            "colorbar": {
             "outlinewidth": 0,
             "ticks": ""
            },
            "colorscale": [
             [
              0,
              "#0d0887"
             ],
             [
              0.1111111111111111,
              "#46039f"
             ],
             [
              0.2222222222222222,
              "#7201a8"
             ],
             [
              0.3333333333333333,
              "#9c179e"
             ],
             [
              0.4444444444444444,
              "#bd3786"
             ],
             [
              0.5555555555555556,
              "#d8576b"
             ],
             [
              0.6666666666666666,
              "#ed7953"
             ],
             [
              0.7777777777777778,
              "#fb9f3a"
             ],
             [
              0.8888888888888888,
              "#fdca26"
             ],
             [
              1,
              "#f0f921"
             ]
            ],
            "type": "contour"
           }
          ],
          "contourcarpet": [
           {
            "colorbar": {
             "outlinewidth": 0,
             "ticks": ""
            },
            "type": "contourcarpet"
           }
          ],
          "heatmap": [
           {
            "colorbar": {
             "outlinewidth": 0,
             "ticks": ""
            },
            "colorscale": [
             [
              0,
              "#0d0887"
             ],
             [
              0.1111111111111111,
              "#46039f"
             ],
             [
              0.2222222222222222,
              "#7201a8"
             ],
             [
              0.3333333333333333,
              "#9c179e"
             ],
             [
              0.4444444444444444,
              "#bd3786"
             ],
             [
              0.5555555555555556,
              "#d8576b"
             ],
             [
              0.6666666666666666,
              "#ed7953"
             ],
             [
              0.7777777777777778,
              "#fb9f3a"
             ],
             [
              0.8888888888888888,
              "#fdca26"
             ],
             [
              1,
              "#f0f921"
             ]
            ],
            "type": "heatmap"
           }
          ],
          "heatmapgl": [
           {
            "colorbar": {
             "outlinewidth": 0,
             "ticks": ""
            },
            "colorscale": [
             [
              0,
              "#0d0887"
             ],
             [
              0.1111111111111111,
              "#46039f"
             ],
             [
              0.2222222222222222,
              "#7201a8"
             ],
             [
              0.3333333333333333,
              "#9c179e"
             ],
             [
              0.4444444444444444,
              "#bd3786"
             ],
             [
              0.5555555555555556,
              "#d8576b"
             ],
             [
              0.6666666666666666,
              "#ed7953"
             ],
             [
              0.7777777777777778,
              "#fb9f3a"
             ],
             [
              0.8888888888888888,
              "#fdca26"
             ],
             [
              1,
              "#f0f921"
             ]
            ],
            "type": "heatmapgl"
           }
          ],
          "histogram": [
           {
            "marker": {
             "pattern": {
              "fillmode": "overlay",
              "size": 10,
              "solidity": 0.2
             }
            },
            "type": "histogram"
           }
          ],
          "histogram2d": [
           {
            "colorbar": {
             "outlinewidth": 0,
             "ticks": ""
            },
            "colorscale": [
             [
              0,
              "#0d0887"
             ],
             [
              0.1111111111111111,
              "#46039f"
             ],
             [
              0.2222222222222222,
              "#7201a8"
             ],
             [
              0.3333333333333333,
              "#9c179e"
             ],
             [
              0.4444444444444444,
              "#bd3786"
             ],
             [
              0.5555555555555556,
              "#d8576b"
             ],
             [
              0.6666666666666666,
              "#ed7953"
             ],
             [
              0.7777777777777778,
              "#fb9f3a"
             ],
             [
              0.8888888888888888,
              "#fdca26"
             ],
             [
              1,
              "#f0f921"
             ]
            ],
            "type": "histogram2d"
           }
          ],
          "histogram2dcontour": [
           {
            "colorbar": {
             "outlinewidth": 0,
             "ticks": ""
            },
            "colorscale": [
             [
              0,
              "#0d0887"
             ],
             [
              0.1111111111111111,
              "#46039f"
             ],
             [
              0.2222222222222222,
              "#7201a8"
             ],
             [
              0.3333333333333333,
              "#9c179e"
             ],
             [
              0.4444444444444444,
              "#bd3786"
             ],
             [
              0.5555555555555556,
              "#d8576b"
             ],
             [
              0.6666666666666666,
              "#ed7953"
             ],
             [
              0.7777777777777778,
              "#fb9f3a"
             ],
             [
              0.8888888888888888,
              "#fdca26"
             ],
             [
              1,
              "#f0f921"
             ]
            ],
            "type": "histogram2dcontour"
           }
          ],
          "mesh3d": [
           {
            "colorbar": {
             "outlinewidth": 0,
             "ticks": ""
            },
            "type": "mesh3d"
           }
          ],
          "parcoords": [
           {
            "line": {
             "colorbar": {
              "outlinewidth": 0,
              "ticks": ""
             }
            },
            "type": "parcoords"
           }
          ],
          "pie": [
           {
            "automargin": true,
            "type": "pie"
           }
          ],
          "scatter": [
           {
            "fillpattern": {
             "fillmode": "overlay",
             "size": 10,
             "solidity": 0.2
            },
            "type": "scatter"
           }
          ],
          "scatter3d": [
           {
            "line": {
             "colorbar": {
              "outlinewidth": 0,
              "ticks": ""
             }
            },
            "marker": {
             "colorbar": {
              "outlinewidth": 0,
              "ticks": ""
             }
            },
            "type": "scatter3d"
           }
          ],
          "scattercarpet": [
           {
            "marker": {
             "colorbar": {
              "outlinewidth": 0,
              "ticks": ""
             }
            },
            "type": "scattercarpet"
           }
          ],
          "scattergeo": [
           {
            "marker": {
             "colorbar": {
              "outlinewidth": 0,
              "ticks": ""
             }
            },
            "type": "scattergeo"
           }
          ],
          "scattergl": [
           {
            "marker": {
             "colorbar": {
              "outlinewidth": 0,
              "ticks": ""
             }
            },
            "type": "scattergl"
           }
          ],
          "scattermapbox": [
           {
            "marker": {
             "colorbar": {
              "outlinewidth": 0,
              "ticks": ""
             }
            },
            "type": "scattermapbox"
           }
          ],
          "scatterpolar": [
           {
            "marker": {
             "colorbar": {
              "outlinewidth": 0,
              "ticks": ""
             }
            },
            "type": "scatterpolar"
           }
          ],
          "scatterpolargl": [
           {
            "marker": {
             "colorbar": {
              "outlinewidth": 0,
              "ticks": ""
             }
            },
            "type": "scatterpolargl"
           }
          ],
          "scatterternary": [
           {
            "marker": {
             "colorbar": {
              "outlinewidth": 0,
              "ticks": ""
             }
            },
            "type": "scatterternary"
           }
          ],
          "surface": [
           {
            "colorbar": {
             "outlinewidth": 0,
             "ticks": ""
            },
            "colorscale": [
             [
              0,
              "#0d0887"
             ],
             [
              0.1111111111111111,
              "#46039f"
             ],
             [
              0.2222222222222222,
              "#7201a8"
             ],
             [
              0.3333333333333333,
              "#9c179e"
             ],
             [
              0.4444444444444444,
              "#bd3786"
             ],
             [
              0.5555555555555556,
              "#d8576b"
             ],
             [
              0.6666666666666666,
              "#ed7953"
             ],
             [
              0.7777777777777778,
              "#fb9f3a"
             ],
             [
              0.8888888888888888,
              "#fdca26"
             ],
             [
              1,
              "#f0f921"
             ]
            ],
            "type": "surface"
           }
          ],
          "table": [
           {
            "cells": {
             "fill": {
              "color": "#EBF0F8"
             },
             "line": {
              "color": "white"
             }
            },
            "header": {
             "fill": {
              "color": "#C8D4E3"
             },
             "line": {
              "color": "white"
             }
            },
            "type": "table"
           }
          ]
         },
         "layout": {
          "annotationdefaults": {
           "arrowcolor": "#2a3f5f",
           "arrowhead": 0,
           "arrowwidth": 1
          },
          "autotypenumbers": "strict",
          "coloraxis": {
           "colorbar": {
            "outlinewidth": 0,
            "ticks": ""
           }
          },
          "colorscale": {
           "diverging": [
            [
             0,
             "#8e0152"
            ],
            [
             0.1,
             "#c51b7d"
            ],
            [
             0.2,
             "#de77ae"
            ],
            [
             0.3,
             "#f1b6da"
            ],
            [
             0.4,
             "#fde0ef"
            ],
            [
             0.5,
             "#f7f7f7"
            ],
            [
             0.6,
             "#e6f5d0"
            ],
            [
             0.7,
             "#b8e186"
            ],
            [
             0.8,
             "#7fbc41"
            ],
            [
             0.9,
             "#4d9221"
            ],
            [
             1,
             "#276419"
            ]
           ],
           "sequential": [
            [
             0,
             "#0d0887"
            ],
            [
             0.1111111111111111,
             "#46039f"
            ],
            [
             0.2222222222222222,
             "#7201a8"
            ],
            [
             0.3333333333333333,
             "#9c179e"
            ],
            [
             0.4444444444444444,
             "#bd3786"
            ],
            [
             0.5555555555555556,
             "#d8576b"
            ],
            [
             0.6666666666666666,
             "#ed7953"
            ],
            [
             0.7777777777777778,
             "#fb9f3a"
            ],
            [
             0.8888888888888888,
             "#fdca26"
            ],
            [
             1,
             "#f0f921"
            ]
           ],
           "sequentialminus": [
            [
             0,
             "#0d0887"
            ],
            [
             0.1111111111111111,
             "#46039f"
            ],
            [
             0.2222222222222222,
             "#7201a8"
            ],
            [
             0.3333333333333333,
             "#9c179e"
            ],
            [
             0.4444444444444444,
             "#bd3786"
            ],
            [
             0.5555555555555556,
             "#d8576b"
            ],
            [
             0.6666666666666666,
             "#ed7953"
            ],
            [
             0.7777777777777778,
             "#fb9f3a"
            ],
            [
             0.8888888888888888,
             "#fdca26"
            ],
            [
             1,
             "#f0f921"
            ]
           ]
          },
          "colorway": [
           "#636efa",
           "#EF553B",
           "#00cc96",
           "#ab63fa",
           "#FFA15A",
           "#19d3f3",
           "#FF6692",
           "#B6E880",
           "#FF97FF",
           "#FECB52"
          ],
          "font": {
           "color": "#2a3f5f"
          },
          "geo": {
           "bgcolor": "white",
           "lakecolor": "white",
           "landcolor": "#E5ECF6",
           "showlakes": true,
           "showland": true,
           "subunitcolor": "white"
          },
          "hoverlabel": {
           "align": "left"
          },
          "hovermode": "closest",
          "mapbox": {
           "style": "light"
          },
          "paper_bgcolor": "white",
          "plot_bgcolor": "#E5ECF6",
          "polar": {
           "angularaxis": {
            "gridcolor": "white",
            "linecolor": "white",
            "ticks": ""
           },
           "bgcolor": "#E5ECF6",
           "radialaxis": {
            "gridcolor": "white",
            "linecolor": "white",
            "ticks": ""
           }
          },
          "scene": {
           "xaxis": {
            "backgroundcolor": "#E5ECF6",
            "gridcolor": "white",
            "gridwidth": 2,
            "linecolor": "white",
            "showbackground": true,
            "ticks": "",
            "zerolinecolor": "white"
           },
           "yaxis": {
            "backgroundcolor": "#E5ECF6",
            "gridcolor": "white",
            "gridwidth": 2,
            "linecolor": "white",
            "showbackground": true,
            "ticks": "",
            "zerolinecolor": "white"
           },
           "zaxis": {
            "backgroundcolor": "#E5ECF6",
            "gridcolor": "white",
            "gridwidth": 2,
            "linecolor": "white",
            "showbackground": true,
            "ticks": "",
            "zerolinecolor": "white"
           }
          },
          "shapedefaults": {
           "line": {
            "color": "#2a3f5f"
           }
          },
          "ternary": {
           "aaxis": {
            "gridcolor": "white",
            "linecolor": "white",
            "ticks": ""
           },
           "baxis": {
            "gridcolor": "white",
            "linecolor": "white",
            "ticks": ""
           },
           "bgcolor": "#E5ECF6",
           "caxis": {
            "gridcolor": "white",
            "linecolor": "white",
            "ticks": ""
           }
          },
          "title": {
           "x": 0.05
          },
          "xaxis": {
           "automargin": true,
           "gridcolor": "white",
           "linecolor": "white",
           "ticks": "",
           "title": {
            "standoff": 15
           },
           "zerolinecolor": "white",
           "zerolinewidth": 2
          },
          "yaxis": {
           "automargin": true,
           "gridcolor": "white",
           "linecolor": "white",
           "ticks": "",
           "title": {
            "standoff": 15
           },
           "zerolinecolor": "white",
           "zerolinewidth": 2
          }
         }
        },
        "title": {
         "text": "greater than task, pruning layers accuracy"
        },
        "xaxis": {
         "anchor": "y",
         "autorange": true,
         "domain": [
          0,
          1
         ],
         "range": [
          -0.5,
          47.5
         ],
         "tickmode": "array",
         "ticktext": [
          "[0, 1, 2, 3, 4, 5, 6, 7, 8, 9, 10, 11, 12, 13, 14, 15, 16, 17, 18, 19, 20, 21, 22, 23, 24, 25, 26, 27, 28, 29, 30, 31, 32, 33, 34, 35, 36, 37, 38, 39, 40, 41, 42, 43, 44, 45, 46, 47]",
          "[0, 1, 2, 3, 4, 5, 6, 7, 8, 9, 10, 11, 12, 13, 14, 15, 16, 17, 18, 19, 20, 21, 22, 23, 24, 25, 26, 27, 28, 29, 30, 31, 32, 33, 34, 35, 36, 37, 38, 39, 40, 41, 42, 43, 45, 46, 47]",
          "[0, 2, 3, 4, 5, 6, 7, 8, 9, 10, 11, 12, 13, 14, 15, 16, 17, 18, 19, 20, 21, 22, 23, 24, 25, 26, 27, 28, 29, 30, 31, 32, 33, 34, 35, 36, 37, 38, 39, 40, 41, 42, 43, 45, 46, 47]",
          "[0, 3, 4, 5, 6, 7, 8, 9, 10, 11, 12, 13, 14, 15, 16, 17, 18, 19, 20, 21, 22, 23, 24, 25, 26, 27, 28, 29, 30, 31, 32, 33, 34, 35, 36, 37, 38, 39, 40, 41, 42, 43, 45, 46, 47]",
          "[0, 3, 4, 5, 7, 8, 9, 10, 11, 12, 13, 14, 15, 16, 17, 18, 19, 20, 21, 22, 23, 24, 25, 26, 27, 28, 29, 30, 31, 32, 33, 34, 35, 36, 37, 38, 39, 40, 41, 42, 43, 45, 46, 47]",
          "[0, 3, 4, 5, 8, 9, 10, 11, 12, 13, 14, 15, 16, 17, 18, 19, 20, 21, 22, 23, 24, 25, 26, 27, 28, 29, 30, 31, 32, 33, 34, 35, 36, 37, 38, 39, 40, 41, 42, 43, 45, 46, 47]",
          "[0, 4, 5, 8, 9, 10, 11, 12, 13, 14, 15, 16, 17, 18, 19, 20, 21, 22, 23, 24, 25, 26, 27, 28, 29, 30, 31, 32, 33, 34, 35, 36, 37, 38, 39, 40, 41, 42, 43, 45, 46, 47]",
          "[0, 4, 8, 9, 10, 11, 12, 13, 14, 15, 16, 17, 18, 19, 20, 21, 22, 23, 24, 25, 26, 27, 28, 29, 30, 31, 32, 33, 34, 35, 36, 37, 38, 39, 40, 41, 42, 43, 45, 46, 47]",
          "[0, 4, 9, 10, 11, 12, 13, 14, 15, 16, 17, 18, 19, 20, 21, 22, 23, 24, 25, 26, 27, 28, 29, 30, 31, 32, 33, 34, 35, 36, 37, 38, 39, 40, 41, 42, 43, 45, 46, 47]",
          "[0, 4, 9, 11, 12, 13, 14, 15, 16, 17, 18, 19, 20, 21, 22, 23, 24, 25, 26, 27, 28, 29, 30, 31, 32, 33, 34, 35, 36, 37, 38, 39, 40, 41, 42, 43, 45, 46, 47]",
          "[0, 4, 9, 11, 12, 14, 15, 16, 17, 18, 19, 20, 21, 22, 23, 24, 25, 26, 27, 28, 29, 30, 31, 32, 33, 34, 35, 36, 37, 38, 39, 40, 41, 42, 43, 45, 46, 47]",
          "[0, 4, 9, 11, 12, 15, 16, 17, 18, 19, 20, 21, 22, 23, 24, 25, 26, 27, 28, 29, 30, 31, 32, 33, 34, 35, 36, 37, 38, 39, 40, 41, 42, 43, 45, 46, 47]",
          "[0, 9, 11, 12, 15, 16, 17, 18, 19, 20, 21, 22, 23, 24, 25, 26, 27, 28, 29, 30, 31, 32, 33, 34, 35, 36, 37, 38, 39, 40, 41, 42, 43, 45, 46, 47]",
          "[0, 9, 11, 12, 15, 16, 17, 18, 19, 20, 21, 22, 23, 24, 25, 26, 27, 28, 29, 30, 31, 32, 33, 34, 35, 36, 38, 39, 40, 41, 42, 43, 45, 46, 47]",
          "[0, 9, 11, 12, 15, 16, 17, 18, 19, 20, 21, 22, 23, 24, 25, 26, 27, 28, 29, 31, 32, 33, 34, 35, 36, 38, 39, 40, 41, 42, 43, 45, 46, 47]",
          "[0, 9, 11, 12, 15, 16, 17, 18, 19, 20, 21, 22, 23, 24, 25, 26, 28, 29, 31, 32, 33, 34, 35, 36, 38, 39, 40, 41, 42, 43, 45, 46, 47]",
          "[0, 9, 11, 12, 15, 16, 17, 18, 19, 20, 21, 22, 23, 24, 25, 26, 28, 29, 31, 32, 33, 34, 36, 38, 39, 40, 41, 42, 43, 45, 46, 47]",
          "[0, 9, 11, 12, 15, 16, 17, 18, 19, 20, 21, 22, 23, 24, 25, 26, 28, 29, 31, 32, 33, 34, 36, 39, 40, 41, 42, 43, 45, 46, 47]",
          "[0, 9, 11, 12, 15, 16, 17, 18, 19, 20, 21, 22, 23, 24, 25, 26, 28, 29, 31, 33, 34, 36, 39, 40, 41, 42, 43, 45, 46, 47]",
          "[0, 9, 11, 12, 15, 16, 17, 18, 19, 20, 22, 23, 24, 25, 26, 28, 29, 31, 33, 34, 36, 39, 40, 41, 42, 43, 45, 46, 47]",
          "[0, 9, 11, 12, 16, 17, 18, 19, 20, 22, 23, 24, 25, 26, 28, 29, 31, 33, 34, 36, 39, 40, 41, 42, 43, 45, 46, 47]",
          "[0, 9, 11, 12, 16, 18, 19, 20, 22, 23, 24, 25, 26, 28, 29, 31, 33, 34, 36, 39, 40, 41, 42, 43, 45, 46, 47]",
          "[0, 9, 11, 12, 16, 18, 19, 20, 22, 23, 24, 25, 26, 28, 29, 31, 33, 34, 36, 39, 40, 41, 42, 45, 46, 47]",
          "[0, 9, 11, 12, 16, 18, 19, 20, 22, 23, 24, 25, 26, 28, 29, 31, 33, 34, 36, 40, 41, 42, 45, 46, 47]",
          "[0, 9, 11, 12, 16, 18, 19, 20, 22, 23, 24, 25, 26, 29, 31, 33, 34, 36, 40, 41, 42, 45, 46, 47]",
          "[0, 9, 11, 12, 16, 18, 19, 20, 22, 23, 25, 26, 29, 31, 33, 34, 36, 40, 41, 42, 45, 46, 47]",
          "[0, 9, 11, 12, 16, 19, 20, 22, 23, 25, 26, 29, 31, 33, 34, 36, 40, 41, 42, 45, 46, 47]",
          "[0, 11, 12, 16, 19, 20, 22, 23, 25, 26, 29, 31, 33, 34, 36, 40, 41, 42, 45, 46, 47]",
          "[0, 11, 12, 16, 19, 20, 22, 23, 25, 29, 31, 33, 34, 36, 40, 41, 42, 45, 46, 47]",
          "[0, 11, 12, 16, 19, 20, 22, 23, 25, 29, 33, 34, 36, 40, 41, 42, 45, 46, 47]",
          "[0, 11, 12, 16, 19, 20, 22, 23, 25, 29, 33, 34, 36, 40, 41, 45, 46, 47]",
          "[0, 11, 12, 16, 19, 20, 22, 25, 29, 33, 34, 36, 40, 41, 45, 46, 47]",
          "[0, 11, 12, 16, 19, 20, 22, 25, 29, 34, 36, 40, 41, 45, 46, 47]",
          "[0, 11, 12, 16, 19, 20, 22, 29, 34, 36, 40, 41, 45, 46, 47]",
          "[0, 11, 12, 16, 19, 22, 29, 34, 36, 40, 41, 45, 46, 47]",
          "[0, 11, 12, 16, 19, 29, 34, 36, 40, 41, 45, 46, 47]",
          "[0, 11, 12, 16, 19, 29, 34, 36, 40, 41, 45, 46]",
          "[0, 11, 12, 16, 19, 29, 34, 36, 40, 41, 45]",
          "[0, 11, 12, 16, 19, 29, 34, 36, 41, 45]",
          "[0, 11, 12, 16, 19, 29, 34, 36, 41]",
          "[0, 11, 12, 16, 19, 29, 34, 36]",
          "[0, 11, 12, 16, 19, 34, 36]",
          "[0, 12, 16, 19, 34, 36]",
          "[0, 12, 16, 34, 36]",
          "[0, 16, 34, 36]",
          "[0, 34, 36]",
          "[0, 36]",
          "[36]"
         ],
         "tickvals": [
          "[0, 1, 2, 3, 4, 5, 6, 7, 8, 9, 10, 11, 12, 13, 14, 15, 16, 17, 18, 19, 20, 21, 22, 23, 24, 25, 26, 27, 28, 29, 30, 31, 32, 33, 34, 35, 36, 37, 38, 39, 40, 41, 42, 43, 44, 45, 46, 47]",
          "[0, 1, 2, 3, 4, 5, 6, 7, 8, 9, 10, 11, 12, 13, 14, 15, 16, 17, 18, 19, 20, 21, 22, 23, 24, 25, 26, 27, 28, 29, 30, 31, 32, 33, 34, 35, 36, 37, 38, 39, 40, 41, 42, 43, 45, 46, 47]",
          "[0, 2, 3, 4, 5, 6, 7, 8, 9, 10, 11, 12, 13, 14, 15, 16, 17, 18, 19, 20, 21, 22, 23, 24, 25, 26, 27, 28, 29, 30, 31, 32, 33, 34, 35, 36, 37, 38, 39, 40, 41, 42, 43, 45, 46, 47]",
          "[0, 3, 4, 5, 6, 7, 8, 9, 10, 11, 12, 13, 14, 15, 16, 17, 18, 19, 20, 21, 22, 23, 24, 25, 26, 27, 28, 29, 30, 31, 32, 33, 34, 35, 36, 37, 38, 39, 40, 41, 42, 43, 45, 46, 47]",
          "[0, 3, 4, 5, 7, 8, 9, 10, 11, 12, 13, 14, 15, 16, 17, 18, 19, 20, 21, 22, 23, 24, 25, 26, 27, 28, 29, 30, 31, 32, 33, 34, 35, 36, 37, 38, 39, 40, 41, 42, 43, 45, 46, 47]",
          "[0, 3, 4, 5, 8, 9, 10, 11, 12, 13, 14, 15, 16, 17, 18, 19, 20, 21, 22, 23, 24, 25, 26, 27, 28, 29, 30, 31, 32, 33, 34, 35, 36, 37, 38, 39, 40, 41, 42, 43, 45, 46, 47]",
          "[0, 4, 5, 8, 9, 10, 11, 12, 13, 14, 15, 16, 17, 18, 19, 20, 21, 22, 23, 24, 25, 26, 27, 28, 29, 30, 31, 32, 33, 34, 35, 36, 37, 38, 39, 40, 41, 42, 43, 45, 46, 47]",
          "[0, 4, 8, 9, 10, 11, 12, 13, 14, 15, 16, 17, 18, 19, 20, 21, 22, 23, 24, 25, 26, 27, 28, 29, 30, 31, 32, 33, 34, 35, 36, 37, 38, 39, 40, 41, 42, 43, 45, 46, 47]",
          "[0, 4, 9, 10, 11, 12, 13, 14, 15, 16, 17, 18, 19, 20, 21, 22, 23, 24, 25, 26, 27, 28, 29, 30, 31, 32, 33, 34, 35, 36, 37, 38, 39, 40, 41, 42, 43, 45, 46, 47]",
          "[0, 4, 9, 11, 12, 13, 14, 15, 16, 17, 18, 19, 20, 21, 22, 23, 24, 25, 26, 27, 28, 29, 30, 31, 32, 33, 34, 35, 36, 37, 38, 39, 40, 41, 42, 43, 45, 46, 47]",
          "[0, 4, 9, 11, 12, 14, 15, 16, 17, 18, 19, 20, 21, 22, 23, 24, 25, 26, 27, 28, 29, 30, 31, 32, 33, 34, 35, 36, 37, 38, 39, 40, 41, 42, 43, 45, 46, 47]",
          "[0, 4, 9, 11, 12, 15, 16, 17, 18, 19, 20, 21, 22, 23, 24, 25, 26, 27, 28, 29, 30, 31, 32, 33, 34, 35, 36, 37, 38, 39, 40, 41, 42, 43, 45, 46, 47]",
          "[0, 9, 11, 12, 15, 16, 17, 18, 19, 20, 21, 22, 23, 24, 25, 26, 27, 28, 29, 30, 31, 32, 33, 34, 35, 36, 37, 38, 39, 40, 41, 42, 43, 45, 46, 47]",
          "[0, 9, 11, 12, 15, 16, 17, 18, 19, 20, 21, 22, 23, 24, 25, 26, 27, 28, 29, 30, 31, 32, 33, 34, 35, 36, 38, 39, 40, 41, 42, 43, 45, 46, 47]",
          "[0, 9, 11, 12, 15, 16, 17, 18, 19, 20, 21, 22, 23, 24, 25, 26, 27, 28, 29, 31, 32, 33, 34, 35, 36, 38, 39, 40, 41, 42, 43, 45, 46, 47]",
          "[0, 9, 11, 12, 15, 16, 17, 18, 19, 20, 21, 22, 23, 24, 25, 26, 28, 29, 31, 32, 33, 34, 35, 36, 38, 39, 40, 41, 42, 43, 45, 46, 47]",
          "[0, 9, 11, 12, 15, 16, 17, 18, 19, 20, 21, 22, 23, 24, 25, 26, 28, 29, 31, 32, 33, 34, 36, 38, 39, 40, 41, 42, 43, 45, 46, 47]",
          "[0, 9, 11, 12, 15, 16, 17, 18, 19, 20, 21, 22, 23, 24, 25, 26, 28, 29, 31, 32, 33, 34, 36, 39, 40, 41, 42, 43, 45, 46, 47]",
          "[0, 9, 11, 12, 15, 16, 17, 18, 19, 20, 21, 22, 23, 24, 25, 26, 28, 29, 31, 33, 34, 36, 39, 40, 41, 42, 43, 45, 46, 47]",
          "[0, 9, 11, 12, 15, 16, 17, 18, 19, 20, 22, 23, 24, 25, 26, 28, 29, 31, 33, 34, 36, 39, 40, 41, 42, 43, 45, 46, 47]",
          "[0, 9, 11, 12, 16, 17, 18, 19, 20, 22, 23, 24, 25, 26, 28, 29, 31, 33, 34, 36, 39, 40, 41, 42, 43, 45, 46, 47]",
          "[0, 9, 11, 12, 16, 18, 19, 20, 22, 23, 24, 25, 26, 28, 29, 31, 33, 34, 36, 39, 40, 41, 42, 43, 45, 46, 47]",
          "[0, 9, 11, 12, 16, 18, 19, 20, 22, 23, 24, 25, 26, 28, 29, 31, 33, 34, 36, 39, 40, 41, 42, 45, 46, 47]",
          "[0, 9, 11, 12, 16, 18, 19, 20, 22, 23, 24, 25, 26, 28, 29, 31, 33, 34, 36, 40, 41, 42, 45, 46, 47]",
          "[0, 9, 11, 12, 16, 18, 19, 20, 22, 23, 24, 25, 26, 29, 31, 33, 34, 36, 40, 41, 42, 45, 46, 47]",
          "[0, 9, 11, 12, 16, 18, 19, 20, 22, 23, 25, 26, 29, 31, 33, 34, 36, 40, 41, 42, 45, 46, 47]",
          "[0, 9, 11, 12, 16, 19, 20, 22, 23, 25, 26, 29, 31, 33, 34, 36, 40, 41, 42, 45, 46, 47]",
          "[0, 11, 12, 16, 19, 20, 22, 23, 25, 26, 29, 31, 33, 34, 36, 40, 41, 42, 45, 46, 47]",
          "[0, 11, 12, 16, 19, 20, 22, 23, 25, 29, 31, 33, 34, 36, 40, 41, 42, 45, 46, 47]",
          "[0, 11, 12, 16, 19, 20, 22, 23, 25, 29, 33, 34, 36, 40, 41, 42, 45, 46, 47]",
          "[0, 11, 12, 16, 19, 20, 22, 23, 25, 29, 33, 34, 36, 40, 41, 45, 46, 47]",
          "[0, 11, 12, 16, 19, 20, 22, 25, 29, 33, 34, 36, 40, 41, 45, 46, 47]",
          "[0, 11, 12, 16, 19, 20, 22, 25, 29, 34, 36, 40, 41, 45, 46, 47]",
          "[0, 11, 12, 16, 19, 20, 22, 29, 34, 36, 40, 41, 45, 46, 47]",
          "[0, 11, 12, 16, 19, 22, 29, 34, 36, 40, 41, 45, 46, 47]",
          "[0, 11, 12, 16, 19, 29, 34, 36, 40, 41, 45, 46, 47]",
          "[0, 11, 12, 16, 19, 29, 34, 36, 40, 41, 45, 46]",
          "[0, 11, 12, 16, 19, 29, 34, 36, 40, 41, 45]",
          "[0, 11, 12, 16, 19, 29, 34, 36, 41, 45]",
          "[0, 11, 12, 16, 19, 29, 34, 36, 41]",
          "[0, 11, 12, 16, 19, 29, 34, 36]",
          "[0, 11, 12, 16, 19, 34, 36]",
          "[0, 12, 16, 19, 34, 36]",
          "[0, 12, 16, 34, 36]",
          "[0, 16, 34, 36]",
          "[0, 34, 36]",
          "[0, 36]",
          "[36]"
         ],
         "title": {
          "text": "x"
         },
         "type": "category"
        },
        "yaxis": {
         "anchor": "x",
         "autorange": true,
         "domain": [
          0,
          1
         ],
         "range": [
          0,
          1.0526315789473684
         ],
         "title": {
          "text": "accuracy"
         },
         "type": "linear"
        }
       }
      },
      "image/png": "[encoded data removed]",
      "text/html": [
       "<div>                            <div id=\"e1abfac5-1abd-465d-b00e-5807e883b692\" class=\"plotly-graph-div\" style=\"height:525px; width:100%;\"></div>            <script type=\"text/javascript\">                require([\"plotly\"], function(Plotly) {                    window.PLOTLYENV=window.PLOTLYENV || {};                                    if (document.getElementById(\"e1abfac5-1abd-465d-b00e-5807e883b692\")) {                    Plotly.newPlot(                        \"e1abfac5-1abd-465d-b00e-5807e883b692\",                        [{\"alignmentgroup\":\"True\",\"hovertemplate\":\"x=%{x}\\u003cbr\\u003eaccuracy=%{y}\\u003cextra\\u003e\\u003c\\u002fextra\\u003e\",\"legendgroup\":\"\",\"marker\":{\"color\":\"#636efa\",\"pattern\":{\"shape\":\"\"}},\"name\":\"\",\"offsetgroup\":\"\",\"orientation\":\"v\",\"showlegend\":false,\"textposition\":\"auto\",\"x\":[\"[0, 1, 2, 3, 4, 5, 6, 7, 8, 9, 10, 11, 12, 13, 14, 15, 16, 17, 18, 19, 20, 21, 22, 23, 24, 25, 26, 27, 28, 29, 30, 31, 32, 33, 34, 35, 36, 37, 38, 39, 40, 41, 42, 43, 44, 45, 46, 47]\",\"[0, 1, 2, 3, 4, 5, 6, 7, 8, 9, 10, 11, 12, 13, 14, 15, 16, 17, 18, 19, 20, 21, 22, 23, 24, 25, 26, 27, 28, 29, 30, 31, 32, 33, 34, 35, 36, 37, 38, 39, 40, 41, 42, 43, 45, 46, 47]\",\"[0, 2, 3, 4, 5, 6, 7, 8, 9, 10, 11, 12, 13, 14, 15, 16, 17, 18, 19, 20, 21, 22, 23, 24, 25, 26, 27, 28, 29, 30, 31, 32, 33, 34, 35, 36, 37, 38, 39, 40, 41, 42, 43, 45, 46, 47]\",\"[0, 3, 4, 5, 6, 7, 8, 9, 10, 11, 12, 13, 14, 15, 16, 17, 18, 19, 20, 21, 22, 23, 24, 25, 26, 27, 28, 29, 30, 31, 32, 33, 34, 35, 36, 37, 38, 39, 40, 41, 42, 43, 45, 46, 47]\",\"[0, 3, 4, 5, 7, 8, 9, 10, 11, 12, 13, 14, 15, 16, 17, 18, 19, 20, 21, 22, 23, 24, 25, 26, 27, 28, 29, 30, 31, 32, 33, 34, 35, 36, 37, 38, 39, 40, 41, 42, 43, 45, 46, 47]\",\"[0, 3, 4, 5, 8, 9, 10, 11, 12, 13, 14, 15, 16, 17, 18, 19, 20, 21, 22, 23, 24, 25, 26, 27, 28, 29, 30, 31, 32, 33, 34, 35, 36, 37, 38, 39, 40, 41, 42, 43, 45, 46, 47]\",\"[0, 4, 5, 8, 9, 10, 11, 12, 13, 14, 15, 16, 17, 18, 19, 20, 21, 22, 23, 24, 25, 26, 27, 28, 29, 30, 31, 32, 33, 34, 35, 36, 37, 38, 39, 40, 41, 42, 43, 45, 46, 47]\",\"[0, 4, 8, 9, 10, 11, 12, 13, 14, 15, 16, 17, 18, 19, 20, 21, 22, 23, 24, 25, 26, 27, 28, 29, 30, 31, 32, 33, 34, 35, 36, 37, 38, 39, 40, 41, 42, 43, 45, 46, 47]\",\"[0, 4, 9, 10, 11, 12, 13, 14, 15, 16, 17, 18, 19, 20, 21, 22, 23, 24, 25, 26, 27, 28, 29, 30, 31, 32, 33, 34, 35, 36, 37, 38, 39, 40, 41, 42, 43, 45, 46, 47]\",\"[0, 4, 9, 11, 12, 13, 14, 15, 16, 17, 18, 19, 20, 21, 22, 23, 24, 25, 26, 27, 28, 29, 30, 31, 32, 33, 34, 35, 36, 37, 38, 39, 40, 41, 42, 43, 45, 46, 47]\",\"[0, 4, 9, 11, 12, 14, 15, 16, 17, 18, 19, 20, 21, 22, 23, 24, 25, 26, 27, 28, 29, 30, 31, 32, 33, 34, 35, 36, 37, 38, 39, 40, 41, 42, 43, 45, 46, 47]\",\"[0, 4, 9, 11, 12, 15, 16, 17, 18, 19, 20, 21, 22, 23, 24, 25, 26, 27, 28, 29, 30, 31, 32, 33, 34, 35, 36, 37, 38, 39, 40, 41, 42, 43, 45, 46, 47]\",\"[0, 9, 11, 12, 15, 16, 17, 18, 19, 20, 21, 22, 23, 24, 25, 26, 27, 28, 29, 30, 31, 32, 33, 34, 35, 36, 37, 38, 39, 40, 41, 42, 43, 45, 46, 47]\",\"[0, 9, 11, 12, 15, 16, 17, 18, 19, 20, 21, 22, 23, 24, 25, 26, 27, 28, 29, 30, 31, 32, 33, 34, 35, 36, 38, 39, 40, 41, 42, 43, 45, 46, 47]\",\"[0, 9, 11, 12, 15, 16, 17, 18, 19, 20, 21, 22, 23, 24, 25, 26, 27, 28, 29, 31, 32, 33, 34, 35, 36, 38, 39, 40, 41, 42, 43, 45, 46, 47]\",\"[0, 9, 11, 12, 15, 16, 17, 18, 19, 20, 21, 22, 23, 24, 25, 26, 28, 29, 31, 32, 33, 34, 35, 36, 38, 39, 40, 41, 42, 43, 45, 46, 47]\",\"[0, 9, 11, 12, 15, 16, 17, 18, 19, 20, 21, 22, 23, 24, 25, 26, 28, 29, 31, 32, 33, 34, 36, 38, 39, 40, 41, 42, 43, 45, 46, 47]\",\"[0, 9, 11, 12, 15, 16, 17, 18, 19, 20, 21, 22, 23, 24, 25, 26, 28, 29, 31, 32, 33, 34, 36, 39, 40, 41, 42, 43, 45, 46, 47]\",\"[0, 9, 11, 12, 15, 16, 17, 18, 19, 20, 21, 22, 23, 24, 25, 26, 28, 29, 31, 33, 34, 36, 39, 40, 41, 42, 43, 45, 46, 47]\",\"[0, 9, 11, 12, 15, 16, 17, 18, 19, 20, 22, 23, 24, 25, 26, 28, 29, 31, 33, 34, 36, 39, 40, 41, 42, 43, 45, 46, 47]\",\"[0, 9, 11, 12, 16, 17, 18, 19, 20, 22, 23, 24, 25, 26, 28, 29, 31, 33, 34, 36, 39, 40, 41, 42, 43, 45, 46, 47]\",\"[0, 9, 11, 12, 16, 18, 19, 20, 22, 23, 24, 25, 26, 28, 29, 31, 33, 34, 36, 39, 40, 41, 42, 43, 45, 46, 47]\",\"[0, 9, 11, 12, 16, 18, 19, 20, 22, 23, 24, 25, 26, 28, 29, 31, 33, 34, 36, 39, 40, 41, 42, 45, 46, 47]\",\"[0, 9, 11, 12, 16, 18, 19, 20, 22, 23, 24, 25, 26, 28, 29, 31, 33, 34, 36, 40, 41, 42, 45, 46, 47]\",\"[0, 9, 11, 12, 16, 18, 19, 20, 22, 23, 24, 25, 26, 29, 31, 33, 34, 36, 40, 41, 42, 45, 46, 47]\",\"[0, 9, 11, 12, 16, 18, 19, 20, 22, 23, 25, 26, 29, 31, 33, 34, 36, 40, 41, 42, 45, 46, 47]\",\"[0, 9, 11, 12, 16, 19, 20, 22, 23, 25, 26, 29, 31, 33, 34, 36, 40, 41, 42, 45, 46, 47]\",\"[0, 11, 12, 16, 19, 20, 22, 23, 25, 26, 29, 31, 33, 34, 36, 40, 41, 42, 45, 46, 47]\",\"[0, 11, 12, 16, 19, 20, 22, 23, 25, 29, 31, 33, 34, 36, 40, 41, 42, 45, 46, 47]\",\"[0, 11, 12, 16, 19, 20, 22, 23, 25, 29, 33, 34, 36, 40, 41, 42, 45, 46, 47]\",\"[0, 11, 12, 16, 19, 20, 22, 23, 25, 29, 33, 34, 36, 40, 41, 45, 46, 47]\",\"[0, 11, 12, 16, 19, 20, 22, 25, 29, 33, 34, 36, 40, 41, 45, 46, 47]\",\"[0, 11, 12, 16, 19, 20, 22, 25, 29, 34, 36, 40, 41, 45, 46, 47]\",\"[0, 11, 12, 16, 19, 20, 22, 29, 34, 36, 40, 41, 45, 46, 47]\",\"[0, 11, 12, 16, 19, 22, 29, 34, 36, 40, 41, 45, 46, 47]\",\"[0, 11, 12, 16, 19, 29, 34, 36, 40, 41, 45, 46, 47]\",\"[0, 11, 12, 16, 19, 29, 34, 36, 40, 41, 45, 46]\",\"[0, 11, 12, 16, 19, 29, 34, 36, 40, 41, 45]\",\"[0, 11, 12, 16, 19, 29, 34, 36, 41, 45]\",\"[0, 11, 12, 16, 19, 29, 34, 36, 41]\",\"[0, 11, 12, 16, 19, 29, 34, 36]\",\"[0, 11, 12, 16, 19, 34, 36]\",\"[0, 12, 16, 19, 34, 36]\",\"[0, 12, 16, 34, 36]\",\"[0, 16, 34, 36]\",\"[0, 34, 36]\",\"[0, 36]\",\"[36]\"],\"xaxis\":\"x\",\"y\":[0.9800000190734863,1.0,0.9800000190734863,0.9700000286102295,0.9900000095367432,0.9800000190734863,0.9900000095367432,0.9900000095367432,0.9800000190734863,0.9900000095367432,0.9700000286102295,0.9800000190734863,0.9800000190734863,0.9700000286102295,0.9200000166893005,0.8999999761581421,0.9300000071525574,0.9100000262260437,0.8999999761581421,0.8799999952316284,0.8799999952316284,0.8899999856948853,0.9100000262260437,0.949999988079071,0.9200000166893005,0.8399999737739563,0.8399999737739563,0.7900000214576721,0.7300000190734863,0.7400000095367432,0.6700000166893005,0.5299999713897705,0.5600000023841858,0.4699999988079071,0.5600000023841858,0.4699999988079071,0.2800000011920929,0.2800000011920929,0.1599999964237213,0.09000000357627869,0.09000000357627869,0.3400000035762787,0.18000000715255737,0.3700000047683716,0.15000000596046448,0.23999999463558197,0.07999999821186066,0.05999999865889549],\"yaxis\":\"y\",\"type\":\"bar\"}],                        {\"template\":{\"data\":{\"histogram2dcontour\":[{\"type\":\"histogram2dcontour\",\"colorbar\":{\"outlinewidth\":0,\"ticks\":\"\"},\"colorscale\":[[0.0,\"#0d0887\"],[0.1111111111111111,\"#46039f\"],[0.2222222222222222,\"#7201a8\"],[0.3333333333333333,\"#9c179e\"],[0.4444444444444444,\"#bd3786\"],[0.5555555555555556,\"#d8576b\"],[0.6666666666666666,\"#ed7953\"],[0.7777777777777778,\"#fb9f3a\"],[0.8888888888888888,\"#fdca26\"],[1.0,\"#f0f921\"]]}],\"choropleth\":[{\"type\":\"choropleth\",\"colorbar\":{\"outlinewidth\":0,\"ticks\":\"\"}}],\"histogram2d\":[{\"type\":\"histogram2d\",\"colorbar\":{\"outlinewidth\":0,\"ticks\":\"\"},\"colorscale\":[[0.0,\"#0d0887\"],[0.1111111111111111,\"#46039f\"],[0.2222222222222222,\"#7201a8\"],[0.3333333333333333,\"#9c179e\"],[0.4444444444444444,\"#bd3786\"],[0.5555555555555556,\"#d8576b\"],[0.6666666666666666,\"#ed7953\"],[0.7777777777777778,\"#fb9f3a\"],[0.8888888888888888,\"#fdca26\"],[1.0,\"#f0f921\"]]}],\"heatmap\":[{\"type\":\"heatmap\",\"colorbar\":{\"outlinewidth\":0,\"ticks\":\"\"},\"colorscale\":[[0.0,\"#0d0887\"],[0.1111111111111111,\"#46039f\"],[0.2222222222222222,\"#7201a8\"],[0.3333333333333333,\"#9c179e\"],[0.4444444444444444,\"#bd3786\"],[0.5555555555555556,\"#d8576b\"],[0.6666666666666666,\"#ed7953\"],[0.7777777777777778,\"#fb9f3a\"],[0.8888888888888888,\"#fdca26\"],[1.0,\"#f0f921\"]]}],\"heatmapgl\":[{\"type\":\"heatmapgl\",\"colorbar\":{\"outlinewidth\":0,\"ticks\":\"\"},\"colorscale\":[[0.0,\"#0d0887\"],[0.1111111111111111,\"#46039f\"],[0.2222222222222222,\"#7201a8\"],[0.3333333333333333,\"#9c179e\"],[0.4444444444444444,\"#bd3786\"],[0.5555555555555556,\"#d8576b\"],[0.6666666666666666,\"#ed7953\"],[0.7777777777777778,\"#fb9f3a\"],[0.8888888888888888,\"#fdca26\"],[1.0,\"#f0f921\"]]}],\"contourcarpet\":[{\"type\":\"contourcarpet\",\"colorbar\":{\"outlinewidth\":0,\"ticks\":\"\"}}],\"contour\":[{\"type\":\"contour\",\"colorbar\":{\"outlinewidth\":0,\"ticks\":\"\"},\"colorscale\":[[0.0,\"#0d0887\"],[0.1111111111111111,\"#46039f\"],[0.2222222222222222,\"#7201a8\"],[0.3333333333333333,\"#9c179e\"],[0.4444444444444444,\"#bd3786\"],[0.5555555555555556,\"#d8576b\"],[0.6666666666666666,\"#ed7953\"],[0.7777777777777778,\"#fb9f3a\"],[0.8888888888888888,\"#fdca26\"],[1.0,\"#f0f921\"]]}],\"surface\":[{\"type\":\"surface\",\"colorbar\":{\"outlinewidth\":0,\"ticks\":\"\"},\"colorscale\":[[0.0,\"#0d0887\"],[0.1111111111111111,\"#46039f\"],[0.2222222222222222,\"#7201a8\"],[0.3333333333333333,\"#9c179e\"],[0.4444444444444444,\"#bd3786\"],[0.5555555555555556,\"#d8576b\"],[0.6666666666666666,\"#ed7953\"],[0.7777777777777778,\"#fb9f3a\"],[0.8888888888888888,\"#fdca26\"],[1.0,\"#f0f921\"]]}],\"mesh3d\":[{\"type\":\"mesh3d\",\"colorbar\":{\"outlinewidth\":0,\"ticks\":\"\"}}],\"scatter\":[{\"fillpattern\":{\"fillmode\":\"overlay\",\"size\":10,\"solidity\":0.2},\"type\":\"scatter\"}],\"parcoords\":[{\"type\":\"parcoords\",\"line\":{\"colorbar\":{\"outlinewidth\":0,\"ticks\":\"\"}}}],\"scatterpolargl\":[{\"type\":\"scatterpolargl\",\"marker\":{\"colorbar\":{\"outlinewidth\":0,\"ticks\":\"\"}}}],\"bar\":[{\"error_x\":{\"color\":\"#2a3f5f\"},\"error_y\":{\"color\":\"#2a3f5f\"},\"marker\":{\"line\":{\"color\":\"#E5ECF6\",\"width\":0.5},\"pattern\":{\"fillmode\":\"overlay\",\"size\":10,\"solidity\":0.2}},\"type\":\"bar\"}],\"scattergeo\":[{\"type\":\"scattergeo\",\"marker\":{\"colorbar\":{\"outlinewidth\":0,\"ticks\":\"\"}}}],\"scatterpolar\":[{\"type\":\"scatterpolar\",\"marker\":{\"colorbar\":{\"outlinewidth\":0,\"ticks\":\"\"}}}],\"histogram\":[{\"marker\":{\"pattern\":{\"fillmode\":\"overlay\",\"size\":10,\"solidity\":0.2}},\"type\":\"histogram\"}],\"scattergl\":[{\"type\":\"scattergl\",\"marker\":{\"colorbar\":{\"outlinewidth\":0,\"ticks\":\"\"}}}],\"scatter3d\":[{\"type\":\"scatter3d\",\"line\":{\"colorbar\":{\"outlinewidth\":0,\"ticks\":\"\"}},\"marker\":{\"colorbar\":{\"outlinewidth\":0,\"ticks\":\"\"}}}],\"scattermapbox\":[{\"type\":\"scattermapbox\",\"marker\":{\"colorbar\":{\"outlinewidth\":0,\"ticks\":\"\"}}}],\"scatterternary\":[{\"type\":\"scatterternary\",\"marker\":{\"colorbar\":{\"outlinewidth\":0,\"ticks\":\"\"}}}],\"scattercarpet\":[{\"type\":\"scattercarpet\",\"marker\":{\"colorbar\":{\"outlinewidth\":0,\"ticks\":\"\"}}}],\"carpet\":[{\"aaxis\":{\"endlinecolor\":\"#2a3f5f\",\"gridcolor\":\"white\",\"linecolor\":\"white\",\"minorgridcolor\":\"white\",\"startlinecolor\":\"#2a3f5f\"},\"baxis\":{\"endlinecolor\":\"#2a3f5f\",\"gridcolor\":\"white\",\"linecolor\":\"white\",\"minorgridcolor\":\"white\",\"startlinecolor\":\"#2a3f5f\"},\"type\":\"carpet\"}],\"table\":[{\"cells\":{\"fill\":{\"color\":\"#EBF0F8\"},\"line\":{\"color\":\"white\"}},\"header\":{\"fill\":{\"color\":\"#C8D4E3\"},\"line\":{\"color\":\"white\"}},\"type\":\"table\"}],\"barpolar\":[{\"marker\":{\"line\":{\"color\":\"#E5ECF6\",\"width\":0.5},\"pattern\":{\"fillmode\":\"overlay\",\"size\":10,\"solidity\":0.2}},\"type\":\"barpolar\"}],\"pie\":[{\"automargin\":true,\"type\":\"pie\"}]},\"layout\":{\"autotypenumbers\":\"strict\",\"colorway\":[\"#636efa\",\"#EF553B\",\"#00cc96\",\"#ab63fa\",\"#FFA15A\",\"#19d3f3\",\"#FF6692\",\"#B6E880\",\"#FF97FF\",\"#FECB52\"],\"font\":{\"color\":\"#2a3f5f\"},\"hovermode\":\"closest\",\"hoverlabel\":{\"align\":\"left\"},\"paper_bgcolor\":\"white\",\"plot_bgcolor\":\"#E5ECF6\",\"polar\":{\"bgcolor\":\"#E5ECF6\",\"angularaxis\":{\"gridcolor\":\"white\",\"linecolor\":\"white\",\"ticks\":\"\"},\"radialaxis\":{\"gridcolor\":\"white\",\"linecolor\":\"white\",\"ticks\":\"\"}},\"ternary\":{\"bgcolor\":\"#E5ECF6\",\"aaxis\":{\"gridcolor\":\"white\",\"linecolor\":\"white\",\"ticks\":\"\"},\"baxis\":{\"gridcolor\":\"white\",\"linecolor\":\"white\",\"ticks\":\"\"},\"caxis\":{\"gridcolor\":\"white\",\"linecolor\":\"white\",\"ticks\":\"\"}},\"coloraxis\":{\"colorbar\":{\"outlinewidth\":0,\"ticks\":\"\"}},\"colorscale\":{\"sequential\":[[0.0,\"#0d0887\"],[0.1111111111111111,\"#46039f\"],[0.2222222222222222,\"#7201a8\"],[0.3333333333333333,\"#9c179e\"],[0.4444444444444444,\"#bd3786\"],[0.5555555555555556,\"#d8576b\"],[0.6666666666666666,\"#ed7953\"],[0.7777777777777778,\"#fb9f3a\"],[0.8888888888888888,\"#fdca26\"],[1.0,\"#f0f921\"]],\"sequentialminus\":[[0.0,\"#0d0887\"],[0.1111111111111111,\"#46039f\"],[0.2222222222222222,\"#7201a8\"],[0.3333333333333333,\"#9c179e\"],[0.4444444444444444,\"#bd3786\"],[0.5555555555555556,\"#d8576b\"],[0.6666666666666666,\"#ed7953\"],[0.7777777777777778,\"#fb9f3a\"],[0.8888888888888888,\"#fdca26\"],[1.0,\"#f0f921\"]],\"diverging\":[[0,\"#8e0152\"],[0.1,\"#c51b7d\"],[0.2,\"#de77ae\"],[0.3,\"#f1b6da\"],[0.4,\"#fde0ef\"],[0.5,\"#f7f7f7\"],[0.6,\"#e6f5d0\"],[0.7,\"#b8e186\"],[0.8,\"#7fbc41\"],[0.9,\"#4d9221\"],[1,\"#276419\"]]},\"xaxis\":{\"gridcolor\":\"white\",\"linecolor\":\"white\",\"ticks\":\"\",\"title\":{\"standoff\":15},\"zerolinecolor\":\"white\",\"automargin\":true,\"zerolinewidth\":2},\"yaxis\":{\"gridcolor\":\"white\",\"linecolor\":\"white\",\"ticks\":\"\",\"title\":{\"standoff\":15},\"zerolinecolor\":\"white\",\"automargin\":true,\"zerolinewidth\":2},\"scene\":{\"xaxis\":{\"backgroundcolor\":\"#E5ECF6\",\"gridcolor\":\"white\",\"linecolor\":\"white\",\"showbackground\":true,\"ticks\":\"\",\"zerolinecolor\":\"white\",\"gridwidth\":2},\"yaxis\":{\"backgroundcolor\":\"#E5ECF6\",\"gridcolor\":\"white\",\"linecolor\":\"white\",\"showbackground\":true,\"ticks\":\"\",\"zerolinecolor\":\"white\",\"gridwidth\":2},\"zaxis\":{\"backgroundcolor\":\"#E5ECF6\",\"gridcolor\":\"white\",\"linecolor\":\"white\",\"showbackground\":true,\"ticks\":\"\",\"zerolinecolor\":\"white\",\"gridwidth\":2}},\"shapedefaults\":{\"line\":{\"color\":\"#2a3f5f\"}},\"annotationdefaults\":{\"arrowcolor\":\"#2a3f5f\",\"arrowhead\":0,\"arrowwidth\":1},\"geo\":{\"bgcolor\":\"white\",\"landcolor\":\"#E5ECF6\",\"subunitcolor\":\"white\",\"showland\":true,\"showlakes\":true,\"lakecolor\":\"white\"},\"title\":{\"x\":0.05},\"mapbox\":{\"style\":\"light\"}}},\"xaxis\":{\"anchor\":\"y\",\"domain\":[0.0,1.0],\"title\":{\"text\":\"x\"},\"tickmode\":\"array\",\"tickvals\":[\"[0, 1, 2, 3, 4, 5, 6, 7, 8, 9, 10, 11, 12, 13, 14, 15, 16, 17, 18, 19, 20, 21, 22, 23, 24, 25, 26, 27, 28, 29, 30, 31, 32, 33, 34, 35, 36, 37, 38, 39, 40, 41, 42, 43, 44, 45, 46, 47]\",\"[0, 1, 2, 3, 4, 5, 6, 7, 8, 9, 10, 11, 12, 13, 14, 15, 16, 17, 18, 19, 20, 21, 22, 23, 24, 25, 26, 27, 28, 29, 30, 31, 32, 33, 34, 35, 36, 37, 38, 39, 40, 41, 42, 43, 45, 46, 47]\",\"[0, 2, 3, 4, 5, 6, 7, 8, 9, 10, 11, 12, 13, 14, 15, 16, 17, 18, 19, 20, 21, 22, 23, 24, 25, 26, 27, 28, 29, 30, 31, 32, 33, 34, 35, 36, 37, 38, 39, 40, 41, 42, 43, 45, 46, 47]\",\"[0, 3, 4, 5, 6, 7, 8, 9, 10, 11, 12, 13, 14, 15, 16, 17, 18, 19, 20, 21, 22, 23, 24, 25, 26, 27, 28, 29, 30, 31, 32, 33, 34, 35, 36, 37, 38, 39, 40, 41, 42, 43, 45, 46, 47]\",\"[0, 3, 4, 5, 7, 8, 9, 10, 11, 12, 13, 14, 15, 16, 17, 18, 19, 20, 21, 22, 23, 24, 25, 26, 27, 28, 29, 30, 31, 32, 33, 34, 35, 36, 37, 38, 39, 40, 41, 42, 43, 45, 46, 47]\",\"[0, 3, 4, 5, 8, 9, 10, 11, 12, 13, 14, 15, 16, 17, 18, 19, 20, 21, 22, 23, 24, 25, 26, 27, 28, 29, 30, 31, 32, 33, 34, 35, 36, 37, 38, 39, 40, 41, 42, 43, 45, 46, 47]\",\"[0, 4, 5, 8, 9, 10, 11, 12, 13, 14, 15, 16, 17, 18, 19, 20, 21, 22, 23, 24, 25, 26, 27, 28, 29, 30, 31, 32, 33, 34, 35, 36, 37, 38, 39, 40, 41, 42, 43, 45, 46, 47]\",\"[0, 4, 8, 9, 10, 11, 12, 13, 14, 15, 16, 17, 18, 19, 20, 21, 22, 23, 24, 25, 26, 27, 28, 29, 30, 31, 32, 33, 34, 35, 36, 37, 38, 39, 40, 41, 42, 43, 45, 46, 47]\",\"[0, 4, 9, 10, 11, 12, 13, 14, 15, 16, 17, 18, 19, 20, 21, 22, 23, 24, 25, 26, 27, 28, 29, 30, 31, 32, 33, 34, 35, 36, 37, 38, 39, 40, 41, 42, 43, 45, 46, 47]\",\"[0, 4, 9, 11, 12, 13, 14, 15, 16, 17, 18, 19, 20, 21, 22, 23, 24, 25, 26, 27, 28, 29, 30, 31, 32, 33, 34, 35, 36, 37, 38, 39, 40, 41, 42, 43, 45, 46, 47]\",\"[0, 4, 9, 11, 12, 14, 15, 16, 17, 18, 19, 20, 21, 22, 23, 24, 25, 26, 27, 28, 29, 30, 31, 32, 33, 34, 35, 36, 37, 38, 39, 40, 41, 42, 43, 45, 46, 47]\",\"[0, 4, 9, 11, 12, 15, 16, 17, 18, 19, 20, 21, 22, 23, 24, 25, 26, 27, 28, 29, 30, 31, 32, 33, 34, 35, 36, 37, 38, 39, 40, 41, 42, 43, 45, 46, 47]\",\"[0, 9, 11, 12, 15, 16, 17, 18, 19, 20, 21, 22, 23, 24, 25, 26, 27, 28, 29, 30, 31, 32, 33, 34, 35, 36, 37, 38, 39, 40, 41, 42, 43, 45, 46, 47]\",\"[0, 9, 11, 12, 15, 16, 17, 18, 19, 20, 21, 22, 23, 24, 25, 26, 27, 28, 29, 30, 31, 32, 33, 34, 35, 36, 38, 39, 40, 41, 42, 43, 45, 46, 47]\",\"[0, 9, 11, 12, 15, 16, 17, 18, 19, 20, 21, 22, 23, 24, 25, 26, 27, 28, 29, 31, 32, 33, 34, 35, 36, 38, 39, 40, 41, 42, 43, 45, 46, 47]\",\"[0, 9, 11, 12, 15, 16, 17, 18, 19, 20, 21, 22, 23, 24, 25, 26, 28, 29, 31, 32, 33, 34, 35, 36, 38, 39, 40, 41, 42, 43, 45, 46, 47]\",\"[0, 9, 11, 12, 15, 16, 17, 18, 19, 20, 21, 22, 23, 24, 25, 26, 28, 29, 31, 32, 33, 34, 36, 38, 39, 40, 41, 42, 43, 45, 46, 47]\",\"[0, 9, 11, 12, 15, 16, 17, 18, 19, 20, 21, 22, 23, 24, 25, 26, 28, 29, 31, 32, 33, 34, 36, 39, 40, 41, 42, 43, 45, 46, 47]\",\"[0, 9, 11, 12, 15, 16, 17, 18, 19, 20, 21, 22, 23, 24, 25, 26, 28, 29, 31, 33, 34, 36, 39, 40, 41, 42, 43, 45, 46, 47]\",\"[0, 9, 11, 12, 15, 16, 17, 18, 19, 20, 22, 23, 24, 25, 26, 28, 29, 31, 33, 34, 36, 39, 40, 41, 42, 43, 45, 46, 47]\",\"[0, 9, 11, 12, 16, 17, 18, 19, 20, 22, 23, 24, 25, 26, 28, 29, 31, 33, 34, 36, 39, 40, 41, 42, 43, 45, 46, 47]\",\"[0, 9, 11, 12, 16, 18, 19, 20, 22, 23, 24, 25, 26, 28, 29, 31, 33, 34, 36, 39, 40, 41, 42, 43, 45, 46, 47]\",\"[0, 9, 11, 12, 16, 18, 19, 20, 22, 23, 24, 25, 26, 28, 29, 31, 33, 34, 36, 39, 40, 41, 42, 45, 46, 47]\",\"[0, 9, 11, 12, 16, 18, 19, 20, 22, 23, 24, 25, 26, 28, 29, 31, 33, 34, 36, 40, 41, 42, 45, 46, 47]\",\"[0, 9, 11, 12, 16, 18, 19, 20, 22, 23, 24, 25, 26, 29, 31, 33, 34, 36, 40, 41, 42, 45, 46, 47]\",\"[0, 9, 11, 12, 16, 18, 19, 20, 22, 23, 25, 26, 29, 31, 33, 34, 36, 40, 41, 42, 45, 46, 47]\",\"[0, 9, 11, 12, 16, 19, 20, 22, 23, 25, 26, 29, 31, 33, 34, 36, 40, 41, 42, 45, 46, 47]\",\"[0, 11, 12, 16, 19, 20, 22, 23, 25, 26, 29, 31, 33, 34, 36, 40, 41, 42, 45, 46, 47]\",\"[0, 11, 12, 16, 19, 20, 22, 23, 25, 29, 31, 33, 34, 36, 40, 41, 42, 45, 46, 47]\",\"[0, 11, 12, 16, 19, 20, 22, 23, 25, 29, 33, 34, 36, 40, 41, 42, 45, 46, 47]\",\"[0, 11, 12, 16, 19, 20, 22, 23, 25, 29, 33, 34, 36, 40, 41, 45, 46, 47]\",\"[0, 11, 12, 16, 19, 20, 22, 25, 29, 33, 34, 36, 40, 41, 45, 46, 47]\",\"[0, 11, 12, 16, 19, 20, 22, 25, 29, 34, 36, 40, 41, 45, 46, 47]\",\"[0, 11, 12, 16, 19, 20, 22, 29, 34, 36, 40, 41, 45, 46, 47]\",\"[0, 11, 12, 16, 19, 22, 29, 34, 36, 40, 41, 45, 46, 47]\",\"[0, 11, 12, 16, 19, 29, 34, 36, 40, 41, 45, 46, 47]\",\"[0, 11, 12, 16, 19, 29, 34, 36, 40, 41, 45, 46]\",\"[0, 11, 12, 16, 19, 29, 34, 36, 40, 41, 45]\",\"[0, 11, 12, 16, 19, 29, 34, 36, 41, 45]\",\"[0, 11, 12, 16, 19, 29, 34, 36, 41]\",\"[0, 11, 12, 16, 19, 29, 34, 36]\",\"[0, 11, 12, 16, 19, 34, 36]\",\"[0, 12, 16, 19, 34, 36]\",\"[0, 12, 16, 34, 36]\",\"[0, 16, 34, 36]\",\"[0, 34, 36]\",\"[0, 36]\",\"[36]\"],\"ticktext\":[\"[0, 1, 2, 3, 4, 5, 6, 7, 8, 9, 10, 11, 12, 13, 14, 15, 16, 17, 18, 19, 20, 21, 22, 23, 24, 25, 26, 27, 28, 29, 30, 31, 32, 33, 34, 35, 36, 37, 38, 39, 40, 41, 42, 43, 44, 45, 46, 47]\",\"[0, 1, 2, 3, 4, 5, 6, 7, 8, 9, 10, 11, 12, 13, 14, 15, 16, 17, 18, 19, 20, 21, 22, 23, 24, 25, 26, 27, 28, 29, 30, 31, 32, 33, 34, 35, 36, 37, 38, 39, 40, 41, 42, 43, 45, 46, 47]\",\"[0, 2, 3, 4, 5, 6, 7, 8, 9, 10, 11, 12, 13, 14, 15, 16, 17, 18, 19, 20, 21, 22, 23, 24, 25, 26, 27, 28, 29, 30, 31, 32, 33, 34, 35, 36, 37, 38, 39, 40, 41, 42, 43, 45, 46, 47]\",\"[0, 3, 4, 5, 6, 7, 8, 9, 10, 11, 12, 13, 14, 15, 16, 17, 18, 19, 20, 21, 22, 23, 24, 25, 26, 27, 28, 29, 30, 31, 32, 33, 34, 35, 36, 37, 38, 39, 40, 41, 42, 43, 45, 46, 47]\",\"[0, 3, 4, 5, 7, 8, 9, 10, 11, 12, 13, 14, 15, 16, 17, 18, 19, 20, 21, 22, 23, 24, 25, 26, 27, 28, 29, 30, 31, 32, 33, 34, 35, 36, 37, 38, 39, 40, 41, 42, 43, 45, 46, 47]\",\"[0, 3, 4, 5, 8, 9, 10, 11, 12, 13, 14, 15, 16, 17, 18, 19, 20, 21, 22, 23, 24, 25, 26, 27, 28, 29, 30, 31, 32, 33, 34, 35, 36, 37, 38, 39, 40, 41, 42, 43, 45, 46, 47]\",\"[0, 4, 5, 8, 9, 10, 11, 12, 13, 14, 15, 16, 17, 18, 19, 20, 21, 22, 23, 24, 25, 26, 27, 28, 29, 30, 31, 32, 33, 34, 35, 36, 37, 38, 39, 40, 41, 42, 43, 45, 46, 47]\",\"[0, 4, 8, 9, 10, 11, 12, 13, 14, 15, 16, 17, 18, 19, 20, 21, 22, 23, 24, 25, 26, 27, 28, 29, 30, 31, 32, 33, 34, 35, 36, 37, 38, 39, 40, 41, 42, 43, 45, 46, 47]\",\"[0, 4, 9, 10, 11, 12, 13, 14, 15, 16, 17, 18, 19, 20, 21, 22, 23, 24, 25, 26, 27, 28, 29, 30, 31, 32, 33, 34, 35, 36, 37, 38, 39, 40, 41, 42, 43, 45, 46, 47]\",\"[0, 4, 9, 11, 12, 13, 14, 15, 16, 17, 18, 19, 20, 21, 22, 23, 24, 25, 26, 27, 28, 29, 30, 31, 32, 33, 34, 35, 36, 37, 38, 39, 40, 41, 42, 43, 45, 46, 47]\",\"[0, 4, 9, 11, 12, 14, 15, 16, 17, 18, 19, 20, 21, 22, 23, 24, 25, 26, 27, 28, 29, 30, 31, 32, 33, 34, 35, 36, 37, 38, 39, 40, 41, 42, 43, 45, 46, 47]\",\"[0, 4, 9, 11, 12, 15, 16, 17, 18, 19, 20, 21, 22, 23, 24, 25, 26, 27, 28, 29, 30, 31, 32, 33, 34, 35, 36, 37, 38, 39, 40, 41, 42, 43, 45, 46, 47]\",\"[0, 9, 11, 12, 15, 16, 17, 18, 19, 20, 21, 22, 23, 24, 25, 26, 27, 28, 29, 30, 31, 32, 33, 34, 35, 36, 37, 38, 39, 40, 41, 42, 43, 45, 46, 47]\",\"[0, 9, 11, 12, 15, 16, 17, 18, 19, 20, 21, 22, 23, 24, 25, 26, 27, 28, 29, 30, 31, 32, 33, 34, 35, 36, 38, 39, 40, 41, 42, 43, 45, 46, 47]\",\"[0, 9, 11, 12, 15, 16, 17, 18, 19, 20, 21, 22, 23, 24, 25, 26, 27, 28, 29, 31, 32, 33, 34, 35, 36, 38, 39, 40, 41, 42, 43, 45, 46, 47]\",\"[0, 9, 11, 12, 15, 16, 17, 18, 19, 20, 21, 22, 23, 24, 25, 26, 28, 29, 31, 32, 33, 34, 35, 36, 38, 39, 40, 41, 42, 43, 45, 46, 47]\",\"[0, 9, 11, 12, 15, 16, 17, 18, 19, 20, 21, 22, 23, 24, 25, 26, 28, 29, 31, 32, 33, 34, 36, 38, 39, 40, 41, 42, 43, 45, 46, 47]\",\"[0, 9, 11, 12, 15, 16, 17, 18, 19, 20, 21, 22, 23, 24, 25, 26, 28, 29, 31, 32, 33, 34, 36, 39, 40, 41, 42, 43, 45, 46, 47]\",\"[0, 9, 11, 12, 15, 16, 17, 18, 19, 20, 21, 22, 23, 24, 25, 26, 28, 29, 31, 33, 34, 36, 39, 40, 41, 42, 43, 45, 46, 47]\",\"[0, 9, 11, 12, 15, 16, 17, 18, 19, 20, 22, 23, 24, 25, 26, 28, 29, 31, 33, 34, 36, 39, 40, 41, 42, 43, 45, 46, 47]\",\"[0, 9, 11, 12, 16, 17, 18, 19, 20, 22, 23, 24, 25, 26, 28, 29, 31, 33, 34, 36, 39, 40, 41, 42, 43, 45, 46, 47]\",\"[0, 9, 11, 12, 16, 18, 19, 20, 22, 23, 24, 25, 26, 28, 29, 31, 33, 34, 36, 39, 40, 41, 42, 43, 45, 46, 47]\",\"[0, 9, 11, 12, 16, 18, 19, 20, 22, 23, 24, 25, 26, 28, 29, 31, 33, 34, 36, 39, 40, 41, 42, 45, 46, 47]\",\"[0, 9, 11, 12, 16, 18, 19, 20, 22, 23, 24, 25, 26, 28, 29, 31, 33, 34, 36, 40, 41, 42, 45, 46, 47]\",\"[0, 9, 11, 12, 16, 18, 19, 20, 22, 23, 24, 25, 26, 29, 31, 33, 34, 36, 40, 41, 42, 45, 46, 47]\",\"[0, 9, 11, 12, 16, 18, 19, 20, 22, 23, 25, 26, 29, 31, 33, 34, 36, 40, 41, 42, 45, 46, 47]\",\"[0, 9, 11, 12, 16, 19, 20, 22, 23, 25, 26, 29, 31, 33, 34, 36, 40, 41, 42, 45, 46, 47]\",\"[0, 11, 12, 16, 19, 20, 22, 23, 25, 26, 29, 31, 33, 34, 36, 40, 41, 42, 45, 46, 47]\",\"[0, 11, 12, 16, 19, 20, 22, 23, 25, 29, 31, 33, 34, 36, 40, 41, 42, 45, 46, 47]\",\"[0, 11, 12, 16, 19, 20, 22, 23, 25, 29, 33, 34, 36, 40, 41, 42, 45, 46, 47]\",\"[0, 11, 12, 16, 19, 20, 22, 23, 25, 29, 33, 34, 36, 40, 41, 45, 46, 47]\",\"[0, 11, 12, 16, 19, 20, 22, 25, 29, 33, 34, 36, 40, 41, 45, 46, 47]\",\"[0, 11, 12, 16, 19, 20, 22, 25, 29, 34, 36, 40, 41, 45, 46, 47]\",\"[0, 11, 12, 16, 19, 20, 22, 29, 34, 36, 40, 41, 45, 46, 47]\",\"[0, 11, 12, 16, 19, 22, 29, 34, 36, 40, 41, 45, 46, 47]\",\"[0, 11, 12, 16, 19, 29, 34, 36, 40, 41, 45, 46, 47]\",\"[0, 11, 12, 16, 19, 29, 34, 36, 40, 41, 45, 46]\",\"[0, 11, 12, 16, 19, 29, 34, 36, 40, 41, 45]\",\"[0, 11, 12, 16, 19, 29, 34, 36, 41, 45]\",\"[0, 11, 12, 16, 19, 29, 34, 36, 41]\",\"[0, 11, 12, 16, 19, 29, 34, 36]\",\"[0, 11, 12, 16, 19, 34, 36]\",\"[0, 12, 16, 19, 34, 36]\",\"[0, 12, 16, 34, 36]\",\"[0, 16, 34, 36]\",\"[0, 34, 36]\",\"[0, 36]\",\"[36]\"]},\"yaxis\":{\"anchor\":\"x\",\"domain\":[0.0,1.0],\"title\":{\"text\":\"accuracy\"}},\"legend\":{\"tracegroupgap\":0},\"title\":{\"text\":\"greater than task, pruning layers accuracy\"},\"barmode\":\"relative\",\"font\":{\"size\":7,\"color\":\"black\"}},                        {\"responsive\": true}                    ).then(function(){\n",
       "                            \n",
       "var gd = document.getElementById('e1abfac5-1abd-465d-b00e-5807e883b692');\n",
       "var x = new MutationObserver(function (mutations, observer) {{\n",
       "        var display = window.getComputedStyle(gd).display;\n",
       "        if (!display || display === 'none') {{\n",
       "            console.log([gd, 'removed!']);\n",
       "            Plotly.purge(gd);\n",
       "            observer.disconnect();\n",
       "        }}\n",
       "}});\n",
       "\n",
       "// Listen for the removal of the full notebook cells\n",
       "var notebookContainer = gd.closest('#notebook-container');\n",
       "if (notebookContainer) {{\n",
       "    x.observe(notebookContainer, {childList: true});\n",
       "}}\n",
       "\n",
       "// Listen for the clearing of the current output cell\n",
       "var outputEl = gd.closest('.output');\n",
       "if (outputEl) {{\n",
       "    x.observe(outputEl, {childList: true});\n",
       "}}\n",
       "\n",
       "                        })                };                });            </script>        </div>"
      ]
     },
     "metadata": {},
     "output_type": "display_data"
    }
   ],
   "source": [
    "bar_chart(history_stats[:,0], x_labels=[str(x) for x in history], y_label=f'{relative_str}pr of correct', title=f\"{data_type} task, pruning layers{relative_str}pr correct\", font_size=7)\n",
    "bar_chart(history_stats[:,1], x_labels=[str(x) for x in history], y_label=f'{relative_str}pr of incorrect', title=f\"{data_type} task, pruning layers{relative_str}pr incorrect\", font_size=7)\n",
    "bar_chart(history_stats[:,2], x_labels=[str(x) for x in history], y_label='accuracy', title=f\"{data_type} task, pruning layers accuracy\", font_size=7)"
   ]
  },
  {
   "cell_type": "code",
   "execution_count": null,
   "id": "44f0f5a2-fd5f-42b5-8411-2d171eb5642a",
   "metadata": {},
   "outputs": [],
   "source": [
    "'''docstring:\n",
    "def shape(self, format, number, log, item, filename, run):\n",
    "    \"\"\"working adult travel\n",
    "\n",
    "    :param log: store impact\n",
    "    :param item: stand screen\n",
    "    :param\n",
    "'''\n",
    "\n",
    "'''IOI\n",
    "Then, Brooks and Joey had a lot of fun at the house. Joey gave a computer to\n",
    "'''\n",
    "\n",
    "'''greater than\n",
    "The process lasted from the year 1548 to 15\n",
    "'''\n",
    "\n",
    "'''copy\n",
    "anciesellarUsedrewanciesellarUsed ['rew']\n",
    "SR ARE SinceicatedSR ARE Since ['icated']\n",
    "Level Milanrak cultivLevel Milanrak [' cultiv']\n",
    "'''\n"
   ]
  }
 ],
 "metadata": {
  "kernelspec": {
   "display_name": "Python 3 (ipykernel)",
   "language": "python",
   "name": "python3"
  },
  "language_info": {
   "codemirror_mode": {
    "name": "ipython",
    "version": 3
   },
   "file_extension": ".py",
   "mimetype": "text/x-python",
   "name": "python",
   "nbconvert_exporter": "python",
   "pygments_lexer": "ipython3",
   "version": "3.10.11"
  }
 },
 "nbformat": 4,
 "nbformat_minor": 5
}

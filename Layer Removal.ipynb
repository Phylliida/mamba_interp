{
 "cells": [
  {
   "cell_type": "code",
   "execution_count": 1,
   "id": "f9a78832-f1cb-42a6-a907-f48bdd542a13",
   "metadata": {},
   "outputs": [],
   "source": [
    "import pandas as pd\n",
    "import plotly.express as px\n",
    "import torch\n",
    "from einops import rearrange\n",
    "import torch\n",
    "import tqdm"
   ]
  },
  {
   "cell_type": "code",
   "execution_count": 2,
   "id": "7be2fe9a-9fac-41ad-86cd-73ca5d0f3db5",
   "metadata": {},
   "outputs": [
    {
     "name": "stderr",
     "output_type": "stream",
     "text": [
      "/opt/conda/lib/python3.10/site-packages/torch/_utils.py:776: UserWarning: TypedStorage is deprecated. It will be removed in the future and UntypedStorage will be the only storage class. This should only matter to you if you are using storages directly.  To access UntypedStorage directly, use tensor.untyped_storage() instead of tensor.storage()\n",
      "  return self.fget.__get__(instance, owner)()\n",
      "Special tokens have been added in the vocabulary, make sure the associated word embeddings are fine-tuned or trained.\n"
     ]
    },
    {
     "name": "stdout",
     "output_type": "stream",
     "text": [
      "Moving model to device:  cuda\n"
     ]
    },
    {
     "data": {
      "text/plain": [
       "<torch.autograd.grad_mode.set_grad_enabled at 0x7f64dee87400>"
      ]
     },
     "execution_count": 2,
     "metadata": {},
     "output_type": "execute_result"
    }
   ],
   "source": [
    "from mamba_lens import HookedMamba\n",
    "model = HookedMamba.from_pretrained(\"state-spaces/mamba-370m\", device='cuda')\n",
    "torch.set_grad_enabled(False)"
   ]
  },
  {
   "cell_type": "code",
   "execution_count": 80,
   "id": "781e3268-eb97-4b19-bb45-f3584a770828",
   "metadata": {},
   "outputs": [],
   "source": [
    "def get_pad_token(tokenizer):\n",
    "    return model.tokenizer.encode(model.tokenizer.pad_token, add_special_tokens=False)[0]\n",
    "\n",
    "# given data that is [N,V] and indicies that are [N,K] with each index being an index into the V space\n",
    "# this does what you'd want, it indexes them\n",
    "# idk, see the test\n",
    "def index_into(data, indices):\n",
    "    num_data, num_per_data = indices.size()\n",
    "    # we want\n",
    "    # [0,0,0,...,] num per data of these\n",
    "    # [1,1,1,...,] num per data of these\n",
    "    # ...\n",
    "    # [num_data-1, num_data-1, ...]\n",
    "    first_axis_index = torch.arange(num_data, dtype=torch.long).view(num_data, 1)*torch.ones([num_data, num_per_data], dtype=torch.long)\n",
    "    # now we flatten it so it has an index for each term aligned with our indices\n",
    "    first_axis_index = first_axis_index.flatten()\n",
    "\n",
    "    second_axis_index = indices.flatten()\n",
    "    # now we can just index, and then view back to our original shape\n",
    "    return data[first_axis_index, second_axis_index].view(num_data, num_per_data)\n",
    "    \n",
    "\n",
    "def eval_debug(model, data, correct, incorrect, constrain_to_answers, **kwargs):\n",
    "    for data_i in range(correct.size()[0]):\n",
    "        input = model.tokenizer.decode(data[data_i])\n",
    "        top_k = 2\n",
    "        logits = model.forward(input, **kwargs)[0,-1]\n",
    "        correct_answers = correct[data_i]\n",
    "        incorrect_answers = incorrect[data_i]\n",
    "        if constrain_to_answers:\n",
    "            only_consider_answer_logits = torch.full(logits.size(), fill_value=-torch.inf, device=model.cfg.device)\n",
    "            only_consider_answer_logits[correct_answers] = logits[correct_answers]\n",
    "            only_consider_answer_logits[incorrect_answers] = logits[incorrect_answers]\n",
    "            logits = only_consider_answer_logits\n",
    "        prs = torch.nn.functional.softmax(logits, dim=0)\n",
    "        top = torch.argsort(-logits)[:top_k]\n",
    "        printed = False\n",
    "        printed_prompt = False\n",
    "        for i, tok in enumerate(top):\n",
    "            if not i == 0 and tok in correct_answers:\n",
    "                if not printed_prompt:\n",
    "                    print(\"prompt\", input)\n",
    "                    printed_prompt = True\n",
    "                print(f\"  correct top {i} token {repr(model.tokenizer.decode([tok]))} logit {logits[tok]} prs {prs[tok]}\")\n",
    "                printed = True\n",
    "                #print(\"correct\")\n",
    "                #print(f\"token {model.tokenizer.decode([tok])} logit {logits[tok]} prs {prs[tok]}\")\n",
    "            elif i == 0 and not tok in correct_answers:\n",
    "                if not printed_prompt:\n",
    "                    print(\"prompt\", input)\n",
    "                    printed_prompt = True\n",
    "                print(f\"  incorrect top {i} token {repr(model.tokenizer.decode([tok]))} logit {logits[tok]} prs {prs[tok]}\")\n",
    "                printed = True\n",
    "            if tok in correct_answers:\n",
    "                break\n",
    "        if printed:\n",
    "            print()\n",
    "\n",
    "def eval(model, data, correct, incorrect, constrain_to_answers, **kwargs):\n",
    "        num_examples = correct.size()[0]\n",
    "        logits = model(data, **kwargs)[:,-1]\n",
    "        pad = get_pad_token(tokenizer=model.tokenizer)\n",
    "        logits[:,pad] = -torch.inf # manually set pad pr to -inf logit because sometimes we need to pad num correct or num incorrect\n",
    "\n",
    "        n_data, n_correct = correct.size()\n",
    "        n_data, n_incorrect = incorrect.size()\n",
    "\n",
    "        if constrain_to_answers:\n",
    "            # [n_data, n_correct]\n",
    "            correct_logits = index_into(logits, correct)\n",
    "            # [n_data, n_incorrect]\n",
    "            incorrect_logits = index_into(logits, incorrect)\n",
    "            # [n_data, n_correct + n_incorrect]\n",
    "            combined_logits = torch.concatenate([correct_logits, incorrect_logits], dim=1)\n",
    "            combined_prs = torch.softmax(combined_logits, dim=1)\n",
    "            biggest = torch.argsort(-combined_prs, dim=1)\n",
    "            # if biggest pr is in the correct, we are correct, otherwise, we are not\n",
    "            num_correct = torch.sum(biggest[:,0] < n_correct)\n",
    "    \n",
    "            correct_prs, incorrect_prs = combined_prs.split([n_correct, n_incorrect], dim=1)\n",
    "        else:\n",
    "            prs = torch.nn.functional.softmax(logits, dim=1)\n",
    "            # [n_data, n_correct]\n",
    "            correct_prs = index_into(prs, correct)\n",
    "            # [n_data, n_incorrect]\n",
    "            incorrect_prs = index_into(prs, incorrect)\n",
    "            # [n_data, 1]\n",
    "            top_tokens = torch.topk(logits, 1, dim=1).indices\n",
    "            # [n_data, n_correct]\n",
    "            in_correct = top_tokens == correct\n",
    "            # [n_data]\n",
    "            has_any_correct = torch.any(in_correct, dim=1)\n",
    "            # [1]\n",
    "            num_correct = torch.sum(has_any_correct)\n",
    "    \n",
    "        # the sum(dim=1) is because we or of all the different possible probabilities by summing\n",
    "        # then we'll just report the average\n",
    "        return torch.mean(correct_prs.sum(dim=1)).item(), torch.mean(incorrect_prs.sum(dim=1)).item(), num_correct.item()/float(n_data)\n",
    "    \n",
    "    \n",
    "        # doing this doesn't work because they get too small and numerical precision issues\n",
    "        # instead we should softmax over the restricted logits\n",
    "        '''\n",
    "        prs = torch.nn.functional.softmax(logits, dim=1)\n",
    "        #for i in range(tops.size()[0]):\n",
    "        #    print(model.to_str_tokens([tops[i,0]]), tops[i,0], logits[i, tops[i,0]], prs[i, tops[i,0]])\n",
    "        #    break\n",
    "        # [n_data, n_correct]\n",
    "        correct_prs = index_into(prs, correct)\n",
    "        # [n_data, n_incorrect]\n",
    "        incorrect_prs = index_into(prs, incorrect)\n",
    "        # [n_data, 1]\n",
    "        total_prs = correct_prs.sum(dim=1, keepdim=True)+incorrect_prs.sum(dim=1, keepdim=True)\n",
    "        total_prs[total_prs == 0] = 1.0\n",
    "        correct_prs /= total_prs\n",
    "        incorrect_prs /= total_prs\n",
    "\n",
    "        # [n_data, n_correct + n_incorrect]\n",
    "        combined = torch.concatenate([correct_prs, incorrect_prs], dim=1)\n",
    "        biggest = torch.argsort(-combined, dim=1)\n",
    "        n_data, n_correct = correct.size()\n",
    "        # if biggest pr is in the correct, we are correct, otherwise, we are not\n",
    "        num_correct = torch.sum(biggest[:,0] < n_correct)\n",
    "        print(biggest[:0])\n",
    "        print(combined[3:5])\n",
    "        '''\n",
    "\n",
    "def add_padding_answers(tokenizer, answers):\n",
    "    longest_len = len(max(answers, key=lambda x: len(x)))\n",
    "    padded_answers = []\n",
    "    pad_token = get_pad_token(tokenizer=tokenizer)\n",
    "    for answer in answers:\n",
    "        padded_answers.append(answer + [pad_token]*(longest_len-len(answer)))\n",
    "    return padded_answers\n",
    "\n",
    "def get_batched_data(data):\n",
    "    batched_data = []\n",
    "    batched_correct = []\n",
    "    batched_incorrect = []\n",
    "    \n",
    "    for i, (prompt, corrects, incorrects) in enumerate(data):\n",
    "        if i < 3:\n",
    "            print(prompt, corrects, incorrects)\n",
    "        batched_data.append(torch.tensor(model.tokenizer.encode(prompt), device=model.cfg.device))\n",
    "        batched_correct.append([model.tokenizer.encode(correct)[0] for correct in corrects])\n",
    "        batched_incorrect.append([model.tokenizer.encode(incorrect)[0] for incorrect in incorrects])\n",
    "    try:\n",
    "        batched_data = torch.stack(batched_data)\n",
    "        batched_correct = torch.tensor(add_padding_answers(tokenizer=model.tokenizer, answers=batched_correct), device=model.cfg.device)\n",
    "        batched_incorrect = torch.tensor(add_padding_answers(tokenizer=model.tokenizer, answers=batched_incorrect), device=model.cfg.device)\n",
    "    except RuntimeError:\n",
    "        typical_len = len(batched_data[0])\n",
    "        for s in batched_data:\n",
    "            if not len(s) == typical_len:\n",
    "                print(len(s), \"is len of this, typical len is\", typical_len, \"for sequence\", model.to_str_tokens(s))\n",
    "        raise\n",
    "    return batched_data, batched_correct, batched_incorrect\n",
    "\n",
    "def bar_chart(data, x_labels, y_label, title, font_size=None):\n",
    "    # it requires a pandas dict with the columns and rows named, annoying\n",
    "    # by default rows and columns are named with ints so we relabel them accordingly\n",
    "    renames = dict([(i, x_labels[i]) for i in range(len(x_labels))])\n",
    "    ps = pd.DataFrame(data.cpu().numpy()).rename(renames, axis='rows').rename({0: y_label}, axis='columns')\n",
    "    fig = px.bar(ps, y=y_label, x=x_labels, title=title)\n",
    "    if not font_size is None:\n",
    "        fig.update_layout(\n",
    "          xaxis = dict(\n",
    "            tickmode='array',\n",
    "            tickvals = x_labels,\n",
    "            ticktext = x_labels, \n",
    "            ),\n",
    "           font=dict(size=font_size, color=\"black\"))\n",
    "        \n",
    "        #fig.update_xaxes(title_font=dict(size=font_size))\n",
    "    \n",
    "    fig.show()"
   ]
  },
  {
   "cell_type": "code",
   "execution_count": 114,
   "id": "440ec1b4-7953-4fd3-b4a2-d71229f5c372",
   "metadata": {},
   "outputs": [
    {
     "name": "stdout",
     "output_type": "stream",
     "text": [
      "data\n",
      " hockeySEQUENTIAL polyratingraised unsupported petty130 marchinginguish hockeySEQUENTIAL polyratingraised unsupported petty130 marching ['inguish'] ['<|endoftext|>']\n",
      " CCA mellitus Sitrail )\"Mut subsets milliseconds Anglo ------------------------- CCA mellitus Sitrail )\"Mut subsets milliseconds Anglo [' -------------------------'] ['<|endoftext|>']\n",
      " Troydatepicker explosionipation consultingattentionhengmaleBritish pumps Troydatepicker explosionipation consultingattentionhengmaleBritish [' pumps'] ['<|endoftext|>']\n",
      "\n",
      "\n",
      "valid\n",
      "\n",
      "anciesellarUsedrewpackage) make bodiesSR AREanciesellarUsedrewpackage) make bodiesSR [' ARE'] ['<|endoftext|>']\n",
      " dreaming tuition shedolutecoupled*\\<857 dreaming tuition shedolutecoupled*\\< ['857'] ['<|endoftext|>']\n",
      " postal Romanian encountered neurologicalAndersonformance  immunosupp postal Romanian encountered neurologicalAndersonformance  immunos ['upp'] ['<|endoftext|>']\n",
      "\n",
      "\n",
      "test\n",
      "RegisterCALeda Milk Solid)]{} alignovirus fringe\n",
      "RegisterCALeda Milk Solid)]{} alignovirus fringe ['\\n'] ['<|endoftext|>']\n",
      "raine cleans=( Quart impressedUAL crim harm solver Charlesraine cleans=( Quart impressedUAL crim harm solver [' Charles'] ['<|endoftext|>']\n",
      "committee Rex investment sharplyicate (\"[issions wombNature malicecommittee Rex investment sharplyicate (\"[issions wombNature [' malice'] ['<|endoftext|>']\n"
     ]
    }
   ],
   "source": [
    "## Generate data\n",
    "\n",
    "from docstring import docstring_prompt_generator_function\n",
    "from importlib import reload\n",
    "import test_data\n",
    "reload(test_data)\n",
    "from test_data import IOI_generator, BABA_TEMPLATES, greater_than_data_generator, ABC_TEMPLATES, copy_generator\n",
    "\n",
    "out_acc = torch.zeros([model.cfg.n_layers], device=model.cfg.device)\n",
    "out_prs_correct = torch.zeros([model.cfg.n_layers], device=model.cfg.device)\n",
    "out_prs_incorrect = torch.zeros([model.cfg.n_layers], device=model.cfg.device)\n",
    "\n",
    "num_examples = 100\n",
    "\n",
    "seed = 27\n",
    "valid_seed = 37\n",
    "test_seed = 47\n",
    "\n",
    "data_type = 'copy'\n",
    "\n",
    "constrain_to_answers = True\n",
    "\n",
    "if data_type == 'ioi':\n",
    "    data = IOI_generator(templates=[BABA_TEMPLATES[1]], tokenizer=model.tokenizer, num_examples=num_examples, symmetric=True, seed=seed)\n",
    "    valid_data = IOI_generator(templates=[BABA_TEMPLATES[1]], tokenizer=model.tokenizer, num_examples=num_examples, symmetric=True, seed=valid_seed)\n",
    "    test_data = IOI_generator(templates=[BABA_TEMPLATES[1]], tokenizer=model.tokenizer, num_examples=num_examples, symmetric=True, seed=test_seed)\n",
    "elif data_type == 'docstring':\n",
    "    data = docstring_prompt_generator_function(tokenizer=model.tokenizer, num_examples=num_examples, corrupt='random_answer', seed=seed)\n",
    "    valid_data = docstring_prompt_generator_function(tokenizer=model.tokenizer, num_examples=num_examples, corrupt='random_answer', seed=valid_seed)\n",
    "    test_data = docstring_prompt_generator_function(tokenizer=model.tokenizer, num_examples=num_examples, corrupt='random_answer', seed=test_seed)\n",
    "elif data_type == 'greater than':\n",
    "    constrain_to_answers = False\n",
    "    data = greater_than_data_generator(tokenizer=model.tokenizer, num_examples=num_examples, seed=seed)\n",
    "    valid_data = greater_than_data_generator(tokenizer=model.tokenizer, num_examples=num_examples, seed=valid_seed)\n",
    "    test_data = greater_than_data_generator(tokenizer=model.tokenizer, num_examples=num_examples, seed=test_seed)\n",
    "elif data_type == 'copy':\n",
    "    constrain_to_answers = False\n",
    "    copy_seq_len = 10\n",
    "    data = copy_generator(tokenizer=model.tokenizer, num_examples=num_examples, copy_seq_len=copy_seq_len, seed=seed)\n",
    "    valid_data = copy_generator(tokenizer=model.tokenizer, num_examples=num_examples, copy_seq_len=copy_seq_len, seed=valid_seed)\n",
    "    test_data = copy_generator(tokenizer=model.tokenizer, num_examples=num_examples, copy_seq_len=copy_seq_len, seed=test_seed)\n",
    "\n",
    "print(\"data\")\n",
    "batched_data, batched_correct, batched_incorrect = get_batched_data(data)\n",
    "print(\"\\n\\nvalid\\n\")\n",
    "vbatched_data, vbatched_correct, vbatched_incorrect = get_batched_data(valid_data)\n",
    "print(\"\\n\\ntest\")\n",
    "tbatched_data, tbatched_correct, tbatched_incorrect = get_batched_data(test_data)\n",
    "\n"
   ]
  },
  {
   "cell_type": "code",
   "execution_count": null,
   "id": "630f838d-f2fc-46e8-ba1a-22bbc5e593cb",
   "metadata": {},
   "outputs": [
    {
     "name": "stdout",
     "output_type": "stream",
     "text": [
      "constraining output to answers? False\n",
      "correct pr 0.5844205021858215 incorrect pr 0.0 accuracy 0.9\n",
      "[0, 1, 2, 3, 4, 5, 6, 7, 8, 9, 10, 11, 12, 13, 14, 15, 16, 17, 18, 19, 20, 21, 22, 23, 24, 25, 26, 27, 28, 29, 30, 31, 32, 33, 34, 35, 36, 37, 38, 39, 40, 41, 42, 43, 44, 45, 46, 47]\n"
     ]
    },
    {
     "name": "stderr",
     "output_type": "stream",
     "text": [
      "48it [00:14,  3.40it/s]\n"
     ]
    },
    {
     "name": "stdout",
     "output_type": "stream",
     "text": [
      "removing layer 1\n",
      "correct pr 0.6032507419586182 incorrect pr 0.0 accuracy 0.9\n",
      "[0, 2, 3, 4, 5, 6, 7, 8, 9, 10, 11, 12, 13, 14, 15, 16, 17, 18, 19, 20, 21, 22, 23, 24, 25, 26, 27, 28, 29, 30, 31, 32, 33, 34, 35, 36, 37, 38, 39, 40, 41, 42, 43, 44, 45, 46, 47]\n"
     ]
    },
    {
     "name": "stderr",
     "output_type": "stream",
     "text": [
      "47it [00:13,  3.45it/s]\n"
     ]
    },
    {
     "name": "stdout",
     "output_type": "stream",
     "text": [
      "removing layer 14\n",
      "correct pr 0.5890081524848938 incorrect pr 0.0 accuracy 0.89\n",
      "[0, 2, 3, 4, 5, 6, 7, 8, 9, 10, 11, 12, 13, 15, 16, 17, 18, 19, 20, 21, 22, 23, 24, 25, 26, 27, 28, 29, 30, 31, 32, 33, 34, 35, 36, 37, 38, 39, 40, 41, 42, 43, 44, 45, 46, 47]\n"
     ]
    },
    {
     "name": "stderr",
     "output_type": "stream",
     "text": [
      "46it [00:13,  3.52it/s]\n"
     ]
    },
    {
     "name": "stdout",
     "output_type": "stream",
     "text": [
      "removing layer 15\n",
      "correct pr 0.5987220406532288 incorrect pr 0.0 accuracy 0.9\n",
      "[0, 2, 3, 4, 5, 6, 7, 8, 9, 10, 11, 12, 13, 16, 17, 18, 19, 20, 21, 22, 23, 24, 25, 26, 27, 28, 29, 30, 31, 32, 33, 34, 35, 36, 37, 38, 39, 40, 41, 42, 43, 44, 45, 46, 47]\n"
     ]
    },
    {
     "name": "stderr",
     "output_type": "stream",
     "text": [
      "45it [00:12,  3.59it/s]\n"
     ]
    },
    {
     "name": "stdout",
     "output_type": "stream",
     "text": [
      "removing layer 4\n",
      "correct pr 0.5875974893569946 incorrect pr 0.0 accuracy 0.89\n",
      "[0, 2, 3, 5, 6, 7, 8, 9, 10, 11, 12, 13, 16, 17, 18, 19, 20, 21, 22, 23, 24, 25, 26, 27, 28, 29, 30, 31, 32, 33, 34, 35, 36, 37, 38, 39, 40, 41, 42, 43, 44, 45, 46, 47]\n"
     ]
    },
    {
     "name": "stderr",
     "output_type": "stream",
     "text": [
      "44it [00:12,  3.67it/s]\n"
     ]
    },
    {
     "name": "stdout",
     "output_type": "stream",
     "text": [
      "removing layer 7\n",
      "correct pr 0.6008096933364868 incorrect pr 0.0 accuracy 0.88\n",
      "[0, 2, 3, 5, 6, 8, 9, 10, 11, 12, 13, 16, 17, 18, 19, 20, 21, 22, 23, 24, 25, 26, 27, 28, 29, 30, 31, 32, 33, 34, 35, 36, 37, 38, 39, 40, 41, 42, 43, 44, 45, 46, 47]\n"
     ]
    },
    {
     "name": "stderr",
     "output_type": "stream",
     "text": [
      "43it [00:11,  3.75it/s]\n"
     ]
    },
    {
     "name": "stdout",
     "output_type": "stream",
     "text": [
      "removing layer 8\n",
      "correct pr 0.5745116472244263 incorrect pr 0.0 accuracy 0.88\n",
      "[0, 2, 3, 5, 6, 9, 10, 11, 12, 13, 16, 17, 18, 19, 20, 21, 22, 23, 24, 25, 26, 27, 28, 29, 30, 31, 32, 33, 34, 35, 36, 37, 38, 39, 40, 41, 42, 43, 44, 45, 46, 47]\n"
     ]
    },
    {
     "name": "stderr",
     "output_type": "stream",
     "text": [
      "42it [00:10,  3.83it/s]\n"
     ]
    },
    {
     "name": "stdout",
     "output_type": "stream",
     "text": [
      "removing layer 3\n",
      "correct pr 0.5519867539405823 incorrect pr 0.0 accuracy 0.87\n",
      "[0, 2, 5, 6, 9, 10, 11, 12, 13, 16, 17, 18, 19, 20, 21, 22, 23, 24, 25, 26, 27, 28, 29, 30, 31, 32, 33, 34, 35, 36, 37, 38, 39, 40, 41, 42, 43, 44, 45, 46, 47]\n"
     ]
    },
    {
     "name": "stderr",
     "output_type": "stream",
     "text": [
      "41it [00:10,  3.92it/s]\n"
     ]
    },
    {
     "name": "stdout",
     "output_type": "stream",
     "text": [
      "removing layer 6\n",
      "correct pr 0.5468150973320007 incorrect pr 0.0 accuracy 0.89\n",
      "[0, 2, 5, 9, 10, 11, 12, 13, 16, 17, 18, 19, 20, 21, 22, 23, 24, 25, 26, 27, 28, 29, 30, 31, 32, 33, 34, 35, 36, 37, 38, 39, 40, 41, 42, 43, 44, 45, 46, 47]\n"
     ]
    },
    {
     "name": "stderr",
     "output_type": "stream",
     "text": [
      "40it [00:09,  4.01it/s]\n"
     ]
    },
    {
     "name": "stdout",
     "output_type": "stream",
     "text": [
      "removing layer 16\n",
      "correct pr 0.5567450523376465 incorrect pr 0.0 accuracy 0.86\n",
      "[0, 2, 5, 9, 10, 11, 12, 13, 17, 18, 19, 20, 21, 22, 23, 24, 25, 26, 27, 28, 29, 30, 31, 32, 33, 34, 35, 36, 37, 38, 39, 40, 41, 42, 43, 44, 45, 46, 47]\n"
     ]
    },
    {
     "name": "stderr",
     "output_type": "stream",
     "text": [
      "18it [00:04,  4.12it/s]"
     ]
    }
   ],
   "source": [
    "## Run the layer removal experiments\n",
    "pr_is_relative = constrain_to_answers\n",
    "relative_str = ' relative ' if constrain_to_answers else ' '\n",
    "\n",
    "print(f\"constraining output to answers? {constrain_to_answers}\")\n",
    "\n",
    "history = []\n",
    "history_stats = []\n",
    "layers_to_remove = []\n",
    "while len(layers_to_remove) < model.cfg.n_layers:\n",
    "    base_layers = list(range(model.cfg.n_layers))\n",
    "\n",
    "\n",
    "    for layer in layers_to_remove:\n",
    "        base_layers.remove(layer)\n",
    "    history.append(list(base_layers))\n",
    "    \n",
    "    correct, incorrect, acc = eval(model, vbatched_data, vbatched_correct, vbatched_incorrect,\n",
    "                                      only_use_these_layers=base_layers, fast_ssm=True, fast_conv=True,\n",
    "                                      constrain_to_answers=constrain_to_answers)\n",
    "    print(f\"correct{relative_str}pr {correct} incorrect{relative_str}pr {incorrect} accuracy {acc}\")\n",
    "    history_stats.append((correct, incorrect, acc))\n",
    "    print(base_layers)\n",
    "    \n",
    "    for i, start_layer in tqdm.tqdm(enumerate(base_layers)):\n",
    "        #layers = list(range(start_layer, end_layer+1))\n",
    "        layers = list(base_layers)\n",
    "        layers.remove(start_layer)\n",
    "\n",
    "        \n",
    "        correct, incorrect, acc = eval(model, batched_data, batched_correct, batched_incorrect,\n",
    "                                      only_use_these_layers=layers, fast_ssm=True, fast_conv=True,\n",
    "                                      constrain_to_answers=constrain_to_answers)\n",
    "        out_prs_correct[i] = correct\n",
    "        out_prs_incorrect[i] = incorrect\n",
    "        out_acc[i] = acc\n",
    "        \n",
    "    \n",
    "    best_layer_to_remove = base_layers[torch.argsort(-out_acc[:len(base_layers)])[0]]\n",
    "    print(\"removing layer\", best_layer_to_remove)\n",
    "    layer_names = [f'layer {x}' for x in base_layers]\n",
    "    layers_to_remove.append(best_layer_to_remove)\n",
    "\n",
    "history_stats = torch.tensor(history_stats)"
   ]
  },
  {
   "cell_type": "code",
   "execution_count": 81,
   "id": "0f355bc2-be2f-4aec-a792-4a83b456ad00",
   "metadata": {},
   "outputs": [
    {
     "name": "stdout",
     "output_type": "stream",
     "text": [
      "constraining output to answers? False\n",
      "\n",
      "test set eval results: correct pr 0.6495634317398071 incorrect pr 0.13873164355754852 accuracy 0.92\n",
      "\n",
      "prompt The employment lasted from the year 1332 to 13\n",
      "  incorrect top 0 token '33' logit -0.8503713607788086 prs 0.05978742986917496\n",
      "\n",
      "prompt The impact lasted from the year 1748 to 17\n",
      "  incorrect top 0 token ',' logit -7.7801666259765625 prs 0.06563079357147217\n",
      "\n",
      "prompt The reforms lasted from the year 1796 to 17\n",
      "  incorrect top 0 token '99' logit 14.66119384765625 prs 0.23021537065505981\n",
      "  correct top 1 token '98' logit 14.575467109680176 prs 0.2113020271062851\n",
      "\n",
      "prompt The agreement lasted from the year 1112 to 11\n",
      "  incorrect top 0 token '.' logit -14.291669845581055 prs 0.10757892578840256\n",
      "\n",
      "prompt The marriage lasted from the year 1271 to 12\n",
      "  incorrect top 0 token '.' logit -10.621082305908203 prs 0.19373463094234467\n",
      "  correct top 1 token '72' logit -11.124336242675781 prs 0.11712425947189331\n",
      "\n",
      "prompt The raids lasted from the year 1720 to 17\n",
      "  incorrect top 0 token '.' logit -3.3142948150634766 prs 0.15448874235153198\n",
      "\n",
      "prompt The confrontation lasted from the year 1591 to 15\n",
      "  incorrect top 0 token '.' logit -5.345495223999023 prs 0.13211894035339355\n",
      "  correct top 1 token '92' logit -5.46337366104126 prs 0.11742785573005676\n",
      "\n",
      "prompt The work lasted from the year 1340 to 13\n",
      "  incorrect top 0 token '41' logit -1.6766138076782227 prs 0.04748091101646423\n",
      "\n",
      "prompt The marriage lasted from the year 1775 to 17\n",
      "  incorrect top 0 token '\\n' logit 6.821321487426758 prs 0.15194064378738403\n",
      "\n",
      "prompt The effect lasted from the year 1555 to 15\n",
      "  incorrect top 0 token 'F' logit -11.043048858642578 prs 0.27094566822052\n",
      "  correct top 1 token '56' logit -12.068549156188965 prs 0.09716573357582092\n",
      "\n",
      "prompt The hardship lasted from the year 1269 to 12\n",
      "  incorrect top 0 token ',' logit -16.536945343017578 prs 0.08966969698667526\n",
      "\n",
      "prompt The deal lasted from the year 1412 to 14\n",
      "  incorrect top 0 token '.' logit -19.350574493408203 prs 0.10258181393146515\n",
      "\n",
      "prompt The domination lasted from the year 1320 to 13\n",
      "  incorrect top 0 token '.' logit -12.714515686035156 prs 0.08616510033607483\n",
      "\n",
      "prompt The overhaul lasted from the year 1248 to 12\n",
      "  incorrect top 0 token '.' logit 5.342922210693359 prs 0.18853488564491272\n",
      "\n"
     ]
    }
   ],
   "source": [
    "# pick something from the above output to test on an held out test set\n",
    "# [0, 9, 10, 11, 14, 16, 19, 22, 33, 39] is from ABC_TEMPLATES\n",
    "# [0, 12, 13, 14, 16, 17, 18, 19, 20, 21, 22, 23, 24, 25, 27, 28, 29, 30, 31, 32, 33, 34, 35, 40, 41, 44, 45] docstring\n",
    "# [0, 9, 11, 12, 16, 18, 19, 20, 22, 23, 24, 25, 26, 29, 31, 33, 34, 36, 40, 41, 42, 45, 46, 47]\n",
    "print(f\"constraining output to answers? {constrain_to_answers}\")\n",
    "test_layers = [0, 9, 11, 12, 16, 18, 19, 20, 22, 23, 24, 25, 26, 29, 31, 33, 34, 36, 40, 41, 42, 45, 46, 47]\n",
    "correct, incorrect, acc = eval(model, tbatched_data, tbatched_correct, tbatched_incorrect,\n",
    "                                  only_use_these_layers=test_layers, fast_ssm=True, fast_conv=True,\n",
    "                                      constrain_to_answers=constrain_to_answers)\n",
    "print()\n",
    "print(f\"test set eval results: correct{relative_str}pr {correct} incorrect{relative_str}pr {incorrect} accuracy {acc}\")\n",
    "print()\n",
    "eval_debug(model=model,\n",
    "           data=tbatched_data, correct=tbatched_correct, incorrect=tbatched_incorrect,\n",
    "           constrain_to_answers=constrain_to_answers,\n",
    "           only_use_these_layers=test_layers, fast_ssm=True, fast_conv=True)\n"
   ]
  },
  {
   "cell_type": "code",
   "execution_count": 83,
   "id": "5da0be93-5825-415c-aec5-bff16316d215",
   "metadata": {},
   "outputs": [
    {
     "data": {
      "application/vnd.plotly.v1+json": {
       "config": {
        "plotlyServerURL": "https://plot.ly"
       },
       "data": [
        {
         "alignmentgroup": "True",
         "hovertemplate": "x=%{x}<br> pr of correct=%{y}<extra></extra>",
         "legendgroup": "",
         "marker": {
          "color": "#636efa",
          "pattern": {
           "shape": ""
          }
         },
         "name": "",
         "offsetgroup": "",
         "orientation": "v",
         "showlegend": false,
         "textposition": "auto",
         "type": "bar",
         "x": [
          "[0, 1, 2, 3, 4, 5, 6, 7, 8, 9, 10, 11, 12, 13, 14, 15, 16, 17, 18, 19, 20, 21, 22, 23, 24, 25, 26, 27, 28, 29, 30, 31, 32, 33, 34, 35, 36, 37, 38, 39, 40, 41, 42, 43, 44, 45, 46, 47]",
          "[0, 1, 2, 3, 4, 5, 6, 7, 8, 9, 10, 11, 12, 13, 14, 15, 16, 17, 18, 19, 20, 21, 22, 23, 24, 25, 26, 27, 28, 29, 30, 31, 32, 33, 34, 35, 36, 37, 38, 39, 40, 41, 42, 43, 45, 46, 47]",
          "[0, 2, 3, 4, 5, 6, 7, 8, 9, 10, 11, 12, 13, 14, 15, 16, 17, 18, 19, 20, 21, 22, 23, 24, 25, 26, 27, 28, 29, 30, 31, 32, 33, 34, 35, 36, 37, 38, 39, 40, 41, 42, 43, 45, 46, 47]",
          "[0, 3, 4, 5, 6, 7, 8, 9, 10, 11, 12, 13, 14, 15, 16, 17, 18, 19, 20, 21, 22, 23, 24, 25, 26, 27, 28, 29, 30, 31, 32, 33, 34, 35, 36, 37, 38, 39, 40, 41, 42, 43, 45, 46, 47]",
          "[0, 3, 4, 5, 7, 8, 9, 10, 11, 12, 13, 14, 15, 16, 17, 18, 19, 20, 21, 22, 23, 24, 25, 26, 27, 28, 29, 30, 31, 32, 33, 34, 35, 36, 37, 38, 39, 40, 41, 42, 43, 45, 46, 47]",
          "[0, 3, 4, 5, 8, 9, 10, 11, 12, 13, 14, 15, 16, 17, 18, 19, 20, 21, 22, 23, 24, 25, 26, 27, 28, 29, 30, 31, 32, 33, 34, 35, 36, 37, 38, 39, 40, 41, 42, 43, 45, 46, 47]",
          "[0, 4, 5, 8, 9, 10, 11, 12, 13, 14, 15, 16, 17, 18, 19, 20, 21, 22, 23, 24, 25, 26, 27, 28, 29, 30, 31, 32, 33, 34, 35, 36, 37, 38, 39, 40, 41, 42, 43, 45, 46, 47]",
          "[0, 4, 8, 9, 10, 11, 12, 13, 14, 15, 16, 17, 18, 19, 20, 21, 22, 23, 24, 25, 26, 27, 28, 29, 30, 31, 32, 33, 34, 35, 36, 37, 38, 39, 40, 41, 42, 43, 45, 46, 47]",
          "[0, 4, 9, 10, 11, 12, 13, 14, 15, 16, 17, 18, 19, 20, 21, 22, 23, 24, 25, 26, 27, 28, 29, 30, 31, 32, 33, 34, 35, 36, 37, 38, 39, 40, 41, 42, 43, 45, 46, 47]",
          "[0, 4, 9, 11, 12, 13, 14, 15, 16, 17, 18, 19, 20, 21, 22, 23, 24, 25, 26, 27, 28, 29, 30, 31, 32, 33, 34, 35, 36, 37, 38, 39, 40, 41, 42, 43, 45, 46, 47]",
          "[0, 4, 9, 11, 12, 14, 15, 16, 17, 18, 19, 20, 21, 22, 23, 24, 25, 26, 27, 28, 29, 30, 31, 32, 33, 34, 35, 36, 37, 38, 39, 40, 41, 42, 43, 45, 46, 47]",
          "[0, 4, 9, 11, 12, 15, 16, 17, 18, 19, 20, 21, 22, 23, 24, 25, 26, 27, 28, 29, 30, 31, 32, 33, 34, 35, 36, 37, 38, 39, 40, 41, 42, 43, 45, 46, 47]",
          "[0, 9, 11, 12, 15, 16, 17, 18, 19, 20, 21, 22, 23, 24, 25, 26, 27, 28, 29, 30, 31, 32, 33, 34, 35, 36, 37, 38, 39, 40, 41, 42, 43, 45, 46, 47]",
          "[0, 9, 11, 12, 15, 16, 17, 18, 19, 20, 21, 22, 23, 24, 25, 26, 27, 28, 29, 30, 31, 32, 33, 34, 35, 36, 38, 39, 40, 41, 42, 43, 45, 46, 47]",
          "[0, 9, 11, 12, 15, 16, 17, 18, 19, 20, 21, 22, 23, 24, 25, 26, 27, 28, 29, 31, 32, 33, 34, 35, 36, 38, 39, 40, 41, 42, 43, 45, 46, 47]",
          "[0, 9, 11, 12, 15, 16, 17, 18, 19, 20, 21, 22, 23, 24, 25, 26, 28, 29, 31, 32, 33, 34, 35, 36, 38, 39, 40, 41, 42, 43, 45, 46, 47]",
          "[0, 9, 11, 12, 15, 16, 17, 18, 19, 20, 21, 22, 23, 24, 25, 26, 28, 29, 31, 32, 33, 34, 36, 38, 39, 40, 41, 42, 43, 45, 46, 47]",
          "[0, 9, 11, 12, 15, 16, 17, 18, 19, 20, 21, 22, 23, 24, 25, 26, 28, 29, 31, 32, 33, 34, 36, 39, 40, 41, 42, 43, 45, 46, 47]",
          "[0, 9, 11, 12, 15, 16, 17, 18, 19, 20, 21, 22, 23, 24, 25, 26, 28, 29, 31, 33, 34, 36, 39, 40, 41, 42, 43, 45, 46, 47]",
          "[0, 9, 11, 12, 15, 16, 17, 18, 19, 20, 22, 23, 24, 25, 26, 28, 29, 31, 33, 34, 36, 39, 40, 41, 42, 43, 45, 46, 47]",
          "[0, 9, 11, 12, 16, 17, 18, 19, 20, 22, 23, 24, 25, 26, 28, 29, 31, 33, 34, 36, 39, 40, 41, 42, 43, 45, 46, 47]",
          "[0, 9, 11, 12, 16, 18, 19, 20, 22, 23, 24, 25, 26, 28, 29, 31, 33, 34, 36, 39, 40, 41, 42, 43, 45, 46, 47]",
          "[0, 9, 11, 12, 16, 18, 19, 20, 22, 23, 24, 25, 26, 28, 29, 31, 33, 34, 36, 39, 40, 41, 42, 45, 46, 47]",
          "[0, 9, 11, 12, 16, 18, 19, 20, 22, 23, 24, 25, 26, 28, 29, 31, 33, 34, 36, 40, 41, 42, 45, 46, 47]",
          "[0, 9, 11, 12, 16, 18, 19, 20, 22, 23, 24, 25, 26, 29, 31, 33, 34, 36, 40, 41, 42, 45, 46, 47]",
          "[0, 9, 11, 12, 16, 18, 19, 20, 22, 23, 25, 26, 29, 31, 33, 34, 36, 40, 41, 42, 45, 46, 47]",
          "[0, 9, 11, 12, 16, 19, 20, 22, 23, 25, 26, 29, 31, 33, 34, 36, 40, 41, 42, 45, 46, 47]",
          "[0, 11, 12, 16, 19, 20, 22, 23, 25, 26, 29, 31, 33, 34, 36, 40, 41, 42, 45, 46, 47]",
          "[0, 11, 12, 16, 19, 20, 22, 23, 25, 29, 31, 33, 34, 36, 40, 41, 42, 45, 46, 47]",
          "[0, 11, 12, 16, 19, 20, 22, 23, 25, 29, 33, 34, 36, 40, 41, 42, 45, 46, 47]",
          "[0, 11, 12, 16, 19, 20, 22, 23, 25, 29, 33, 34, 36, 40, 41, 45, 46, 47]",
          "[0, 11, 12, 16, 19, 20, 22, 25, 29, 33, 34, 36, 40, 41, 45, 46, 47]",
          "[0, 11, 12, 16, 19, 20, 22, 25, 29, 34, 36, 40, 41, 45, 46, 47]",
          "[0, 11, 12, 16, 19, 20, 22, 29, 34, 36, 40, 41, 45, 46, 47]",
          "[0, 11, 12, 16, 19, 22, 29, 34, 36, 40, 41, 45, 46, 47]",
          "[0, 11, 12, 16, 19, 29, 34, 36, 40, 41, 45, 46, 47]",
          "[0, 11, 12, 16, 19, 29, 34, 36, 40, 41, 45, 46]",
          "[0, 11, 12, 16, 19, 29, 34, 36, 40, 41, 45]",
          "[0, 11, 12, 16, 19, 29, 34, 36, 41, 45]",
          "[0, 11, 12, 16, 19, 29, 34, 36, 41]",
          "[0, 11, 12, 16, 19, 29, 34, 36]",
          "[0, 11, 12, 16, 19, 34, 36]",
          "[0, 12, 16, 19, 34, 36]",
          "[0, 12, 16, 34, 36]",
          "[0, 16, 34, 36]",
          "[0, 34, 36]",
          "[0, 36]",
          "[36]"
         ],
         "xaxis": "x",
         "y": [
          0.9416652321815491,
          0.9301146268844604,
          0.9083428978919983,
          0.865223228931427,
          0.8724905252456665,
          0.8958735466003418,
          0.888591468334198,
          0.8801690340042114,
          0.8857265114784241,
          0.8830859065055847,
          0.8414223790168762,
          0.8005134463310242,
          0.8006725907325745,
          0.6978604197502136,
          0.6720374822616577,
          0.6629920601844788,
          0.695491373538971,
          0.6469871401786804,
          0.641823947429657,
          0.5747432708740234,
          0.5333713889122009,
          0.5793988108634949,
          0.6446154713630676,
          0.6292223334312439,
          0.6500760316848755,
          0.5662173628807068,
          0.5793377757072449,
          0.5326038002967834,
          0.4558819532394409,
          0.5103229880332947,
          0.4661678075790405,
          0.4013274312019348,
          0.3405931890010834,
          0.31950706243515015,
          0.37109375,
          0.33097606897354126,
          0.18816085159778595,
          0.25393664836883545,
          0.18899941444396973,
          0.10888675600290298,
          0.0913357138633728,
          0.30809980630874634,
          0.19844909012317657,
          0.356290727853775,
          0.1555977314710617,
          0.23211322724819183,
          0.0862603634595871,
          0.05642598867416382
         ],
         "yaxis": "y"
        }
       ],
       "layout": {
        "autosize": true,
        "barmode": "relative",
        "font": {
         "color": "black",
         "size": 4
        },
        "legend": {
         "tracegroupgap": 0
        },
        "template": {
         "data": {
          "bar": [
           {
            "error_x": {
             "color": "#2a3f5f"
            },
            "error_y": {
             "color": "#2a3f5f"
            },
            "marker": {
             "line": {
              "color": "#E5ECF6",
              "width": 0.5
             },
             "pattern": {
              "fillmode": "overlay",
              "size": 10,
              "solidity": 0.2
             }
            },
            "type": "bar"
           }
          ],
          "barpolar": [
           {
            "marker": {
             "line": {
              "color": "#E5ECF6",
              "width": 0.5
             },
             "pattern": {
              "fillmode": "overlay",
              "size": 10,
              "solidity": 0.2
             }
            },
            "type": "barpolar"
           }
          ],
          "carpet": [
           {
            "aaxis": {
             "endlinecolor": "#2a3f5f",
             "gridcolor": "white",
             "linecolor": "white",
             "minorgridcolor": "white",
             "startlinecolor": "#2a3f5f"
            },
            "baxis": {
             "endlinecolor": "#2a3f5f",
             "gridcolor": "white",
             "linecolor": "white",
             "minorgridcolor": "white",
             "startlinecolor": "#2a3f5f"
            },
            "type": "carpet"
           }
          ],
          "choropleth": [
           {
            "colorbar": {
             "outlinewidth": 0,
             "ticks": ""
            },
            "type": "choropleth"
           }
          ],
          "contour": [
           {
            "colorbar": {
             "outlinewidth": 0,
             "ticks": ""
            },
            "colorscale": [
             [
              0,
              "#0d0887"
             ],
             [
              0.1111111111111111,
              "#46039f"
             ],
             [
              0.2222222222222222,
              "#7201a8"
             ],
             [
              0.3333333333333333,
              "#9c179e"
             ],
             [
              0.4444444444444444,
              "#bd3786"
             ],
             [
              0.5555555555555556,
              "#d8576b"
             ],
             [
              0.6666666666666666,
              "#ed7953"
             ],
             [
              0.7777777777777778,
              "#fb9f3a"
             ],
             [
              0.8888888888888888,
              "#fdca26"
             ],
             [
              1,
              "#f0f921"
             ]
            ],
            "type": "contour"
           }
          ],
          "contourcarpet": [
           {
            "colorbar": {
             "outlinewidth": 0,
             "ticks": ""
            },
            "type": "contourcarpet"
           }
          ],
          "heatmap": [
           {
            "colorbar": {
             "outlinewidth": 0,
             "ticks": ""
            },
            "colorscale": [
             [
              0,
              "#0d0887"
             ],
             [
              0.1111111111111111,
              "#46039f"
             ],
             [
              0.2222222222222222,
              "#7201a8"
             ],
             [
              0.3333333333333333,
              "#9c179e"
             ],
             [
              0.4444444444444444,
              "#bd3786"
             ],
             [
              0.5555555555555556,
              "#d8576b"
             ],
             [
              0.6666666666666666,
              "#ed7953"
             ],
             [
              0.7777777777777778,
              "#fb9f3a"
             ],
             [
              0.8888888888888888,
              "#fdca26"
             ],
             [
              1,
              "#f0f921"
             ]
            ],
            "type": "heatmap"
           }
          ],
          "heatmapgl": [
           {
            "colorbar": {
             "outlinewidth": 0,
             "ticks": ""
            },
            "colorscale": [
             [
              0,
              "#0d0887"
             ],
             [
              0.1111111111111111,
              "#46039f"
             ],
             [
              0.2222222222222222,
              "#7201a8"
             ],
             [
              0.3333333333333333,
              "#9c179e"
             ],
             [
              0.4444444444444444,
              "#bd3786"
             ],
             [
              0.5555555555555556,
              "#d8576b"
             ],
             [
              0.6666666666666666,
              "#ed7953"
             ],
             [
              0.7777777777777778,
              "#fb9f3a"
             ],
             [
              0.8888888888888888,
              "#fdca26"
             ],
             [
              1,
              "#f0f921"
             ]
            ],
            "type": "heatmapgl"
           }
          ],
          "histogram": [
           {
            "marker": {
             "pattern": {
              "fillmode": "overlay",
              "size": 10,
              "solidity": 0.2
             }
            },
            "type": "histogram"
           }
          ],
          "histogram2d": [
           {
            "colorbar": {
             "outlinewidth": 0,
             "ticks": ""
            },
            "colorscale": [
             [
              0,
              "#0d0887"
             ],
             [
              0.1111111111111111,
              "#46039f"
             ],
             [
              0.2222222222222222,
              "#7201a8"
             ],
             [
              0.3333333333333333,
              "#9c179e"
             ],
             [
              0.4444444444444444,
              "#bd3786"
             ],
             [
              0.5555555555555556,
              "#d8576b"
             ],
             [
              0.6666666666666666,
              "#ed7953"
             ],
             [
              0.7777777777777778,
              "#fb9f3a"
             ],
             [
              0.8888888888888888,
              "#fdca26"
             ],
             [
              1,
              "#f0f921"
             ]
            ],
            "type": "histogram2d"
           }
          ],
          "histogram2dcontour": [
           {
            "colorbar": {
             "outlinewidth": 0,
             "ticks": ""
            },
            "colorscale": [
             [
              0,
              "#0d0887"
             ],
             [
              0.1111111111111111,
              "#46039f"
             ],
             [
              0.2222222222222222,
              "#7201a8"
             ],
             [
              0.3333333333333333,
              "#9c179e"
             ],
             [
              0.4444444444444444,
              "#bd3786"
             ],
             [
              0.5555555555555556,
              "#d8576b"
             ],
             [
              0.6666666666666666,
              "#ed7953"
             ],
             [
              0.7777777777777778,
              "#fb9f3a"
             ],
             [
              0.8888888888888888,
              "#fdca26"
             ],
             [
              1,
              "#f0f921"
             ]
            ],
            "type": "histogram2dcontour"
           }
          ],
          "mesh3d": [
           {
            "colorbar": {
             "outlinewidth": 0,
             "ticks": ""
            },
            "type": "mesh3d"
           }
          ],
          "parcoords": [
           {
            "line": {
             "colorbar": {
              "outlinewidth": 0,
              "ticks": ""
             }
            },
            "type": "parcoords"
           }
          ],
          "pie": [
           {
            "automargin": true,
            "type": "pie"
           }
          ],
          "scatter": [
           {
            "fillpattern": {
             "fillmode": "overlay",
             "size": 10,
             "solidity": 0.2
            },
            "type": "scatter"
           }
          ],
          "scatter3d": [
           {
            "line": {
             "colorbar": {
              "outlinewidth": 0,
              "ticks": ""
             }
            },
            "marker": {
             "colorbar": {
              "outlinewidth": 0,
              "ticks": ""
             }
            },
            "type": "scatter3d"
           }
          ],
          "scattercarpet": [
           {
            "marker": {
             "colorbar": {
              "outlinewidth": 0,
              "ticks": ""
             }
            },
            "type": "scattercarpet"
           }
          ],
          "scattergeo": [
           {
            "marker": {
             "colorbar": {
              "outlinewidth": 0,
              "ticks": ""
             }
            },
            "type": "scattergeo"
           }
          ],
          "scattergl": [
           {
            "marker": {
             "colorbar": {
              "outlinewidth": 0,
              "ticks": ""
             }
            },
            "type": "scattergl"
           }
          ],
          "scattermapbox": [
           {
            "marker": {
             "colorbar": {
              "outlinewidth": 0,
              "ticks": ""
             }
            },
            "type": "scattermapbox"
           }
          ],
          "scatterpolar": [
           {
            "marker": {
             "colorbar": {
              "outlinewidth": 0,
              "ticks": ""
             }
            },
            "type": "scatterpolar"
           }
          ],
          "scatterpolargl": [
           {
            "marker": {
             "colorbar": {
              "outlinewidth": 0,
              "ticks": ""
             }
            },
            "type": "scatterpolargl"
           }
          ],
          "scatterternary": [
           {
            "marker": {
             "colorbar": {
              "outlinewidth": 0,
              "ticks": ""
             }
            },
            "type": "scatterternary"
           }
          ],
          "surface": [
           {
            "colorbar": {
             "outlinewidth": 0,
             "ticks": ""
            },
            "colorscale": [
             [
              0,
              "#0d0887"
             ],
             [
              0.1111111111111111,
              "#46039f"
             ],
             [
              0.2222222222222222,
              "#7201a8"
             ],
             [
              0.3333333333333333,
              "#9c179e"
             ],
             [
              0.4444444444444444,
              "#bd3786"
             ],
             [
              0.5555555555555556,
              "#d8576b"
             ],
             [
              0.6666666666666666,
              "#ed7953"
             ],
             [
              0.7777777777777778,
              "#fb9f3a"
             ],
             [
              0.8888888888888888,
              "#fdca26"
             ],
             [
              1,
              "#f0f921"
             ]
            ],
            "type": "surface"
           }
          ],
          "table": [
           {
            "cells": {
             "fill": {
              "color": "#EBF0F8"
             },
             "line": {
              "color": "white"
             }
            },
            "header": {
             "fill": {
              "color": "#C8D4E3"
             },
             "line": {
              "color": "white"
             }
            },
            "type": "table"
           }
          ]
         },
         "layout": {
          "annotationdefaults": {
           "arrowcolor": "#2a3f5f",
           "arrowhead": 0,
           "arrowwidth": 1
          },
          "autotypenumbers": "strict",
          "coloraxis": {
           "colorbar": {
            "outlinewidth": 0,
            "ticks": ""
           }
          },
          "colorscale": {
           "diverging": [
            [
             0,
             "#8e0152"
            ],
            [
             0.1,
             "#c51b7d"
            ],
            [
             0.2,
             "#de77ae"
            ],
            [
             0.3,
             "#f1b6da"
            ],
            [
             0.4,
             "#fde0ef"
            ],
            [
             0.5,
             "#f7f7f7"
            ],
            [
             0.6,
             "#e6f5d0"
            ],
            [
             0.7,
             "#b8e186"
            ],
            [
             0.8,
             "#7fbc41"
            ],
            [
             0.9,
             "#4d9221"
            ],
            [
             1,
             "#276419"
            ]
           ],
           "sequential": [
            [
             0,
             "#0d0887"
            ],
            [
             0.1111111111111111,
             "#46039f"
            ],
            [
             0.2222222222222222,
             "#7201a8"
            ],
            [
             0.3333333333333333,
             "#9c179e"
            ],
            [
             0.4444444444444444,
             "#bd3786"
            ],
            [
             0.5555555555555556,
             "#d8576b"
            ],
            [
             0.6666666666666666,
             "#ed7953"
            ],
            [
             0.7777777777777778,
             "#fb9f3a"
            ],
            [
             0.8888888888888888,
             "#fdca26"
            ],
            [
             1,
             "#f0f921"
            ]
           ],
           "sequentialminus": [
            [
             0,
             "#0d0887"
            ],
            [
             0.1111111111111111,
             "#46039f"
            ],
            [
             0.2222222222222222,
             "#7201a8"
            ],
            [
             0.3333333333333333,
             "#9c179e"
            ],
            [
             0.4444444444444444,
             "#bd3786"
            ],
            [
             0.5555555555555556,
             "#d8576b"
            ],
            [
             0.6666666666666666,
             "#ed7953"
            ],
            [
             0.7777777777777778,
             "#fb9f3a"
            ],
            [
             0.8888888888888888,
             "#fdca26"
            ],
            [
             1,
             "#f0f921"
            ]
           ]
          },
          "colorway": [
           "#636efa",
           "#EF553B",
           "#00cc96",
           "#ab63fa",
           "#FFA15A",
           "#19d3f3",
           "#FF6692",
           "#B6E880",
           "#FF97FF",
           "#FECB52"
          ],
          "font": {
           "color": "#2a3f5f"
          },
          "geo": {
           "bgcolor": "white",
           "lakecolor": "white",
           "landcolor": "#E5ECF6",
           "showlakes": true,
           "showland": true,
           "subunitcolor": "white"
          },
          "hoverlabel": {
           "align": "left"
          },
          "hovermode": "closest",
          "mapbox": {
           "style": "light"
          },
          "paper_bgcolor": "white",
          "plot_bgcolor": "#E5ECF6",
          "polar": {
           "angularaxis": {
            "gridcolor": "white",
            "linecolor": "white",
            "ticks": ""
           },
           "bgcolor": "#E5ECF6",
           "radialaxis": {
            "gridcolor": "white",
            "linecolor": "white",
            "ticks": ""
           }
          },
          "scene": {
           "xaxis": {
            "backgroundcolor": "#E5ECF6",
            "gridcolor": "white",
            "gridwidth": 2,
            "linecolor": "white",
            "showbackground": true,
            "ticks": "",
            "zerolinecolor": "white"
           },
           "yaxis": {
            "backgroundcolor": "#E5ECF6",
            "gridcolor": "white",
            "gridwidth": 2,
            "linecolor": "white",
            "showbackground": true,
            "ticks": "",
            "zerolinecolor": "white"
           },
           "zaxis": {
            "backgroundcolor": "#E5ECF6",
            "gridcolor": "white",
            "gridwidth": 2,
            "linecolor": "white",
            "showbackground": true,
            "ticks": "",
            "zerolinecolor": "white"
           }
          },
          "shapedefaults": {
           "line": {
            "color": "#2a3f5f"
           }
          },
          "ternary": {
           "aaxis": {
            "gridcolor": "white",
            "linecolor": "white",
            "ticks": ""
           },
           "baxis": {
            "gridcolor": "white",
            "linecolor": "white",
            "ticks": ""
           },
           "bgcolor": "#E5ECF6",
           "caxis": {
            "gridcolor": "white",
            "linecolor": "white",
            "ticks": ""
           }
          },
          "title": {
           "x": 0.05
          },
          "xaxis": {
           "automargin": true,
           "gridcolor": "white",
           "linecolor": "white",
           "ticks": "",
           "title": {
            "standoff": 15
           },
           "zerolinecolor": "white",
           "zerolinewidth": 2
          },
          "yaxis": {
           "automargin": true,
           "gridcolor": "white",
           "linecolor": "white",
           "ticks": "",
           "title": {
            "standoff": 15
           },
           "zerolinecolor": "white",
           "zerolinewidth": 2
          }
         }
        },
        "title": {
         "text": "greater than pruning layers pr correct"
        },
        "xaxis": {
         "anchor": "y",
         "autorange": true,
         "domain": [
          0,
          1
         ],
         "range": [
          -0.5,
          47.5
         ],
         "tickmode": "array",
         "ticktext": [
          "[0, 1, 2, 3, 4, 5, 6, 7, 8, 9, 10, 11, 12, 13, 14, 15, 16, 17, 18, 19, 20, 21, 22, 23, 24, 25, 26, 27, 28, 29, 30, 31, 32, 33, 34, 35, 36, 37, 38, 39, 40, 41, 42, 43, 44, 45, 46, 47]",
          "[0, 1, 2, 3, 4, 5, 6, 7, 8, 9, 10, 11, 12, 13, 14, 15, 16, 17, 18, 19, 20, 21, 22, 23, 24, 25, 26, 27, 28, 29, 30, 31, 32, 33, 34, 35, 36, 37, 38, 39, 40, 41, 42, 43, 45, 46, 47]",
          "[0, 2, 3, 4, 5, 6, 7, 8, 9, 10, 11, 12, 13, 14, 15, 16, 17, 18, 19, 20, 21, 22, 23, 24, 25, 26, 27, 28, 29, 30, 31, 32, 33, 34, 35, 36, 37, 38, 39, 40, 41, 42, 43, 45, 46, 47]",
          "[0, 3, 4, 5, 6, 7, 8, 9, 10, 11, 12, 13, 14, 15, 16, 17, 18, 19, 20, 21, 22, 23, 24, 25, 26, 27, 28, 29, 30, 31, 32, 33, 34, 35, 36, 37, 38, 39, 40, 41, 42, 43, 45, 46, 47]",
          "[0, 3, 4, 5, 7, 8, 9, 10, 11, 12, 13, 14, 15, 16, 17, 18, 19, 20, 21, 22, 23, 24, 25, 26, 27, 28, 29, 30, 31, 32, 33, 34, 35, 36, 37, 38, 39, 40, 41, 42, 43, 45, 46, 47]",
          "[0, 3, 4, 5, 8, 9, 10, 11, 12, 13, 14, 15, 16, 17, 18, 19, 20, 21, 22, 23, 24, 25, 26, 27, 28, 29, 30, 31, 32, 33, 34, 35, 36, 37, 38, 39, 40, 41, 42, 43, 45, 46, 47]",
          "[0, 4, 5, 8, 9, 10, 11, 12, 13, 14, 15, 16, 17, 18, 19, 20, 21, 22, 23, 24, 25, 26, 27, 28, 29, 30, 31, 32, 33, 34, 35, 36, 37, 38, 39, 40, 41, 42, 43, 45, 46, 47]",
          "[0, 4, 8, 9, 10, 11, 12, 13, 14, 15, 16, 17, 18, 19, 20, 21, 22, 23, 24, 25, 26, 27, 28, 29, 30, 31, 32, 33, 34, 35, 36, 37, 38, 39, 40, 41, 42, 43, 45, 46, 47]",
          "[0, 4, 9, 10, 11, 12, 13, 14, 15, 16, 17, 18, 19, 20, 21, 22, 23, 24, 25, 26, 27, 28, 29, 30, 31, 32, 33, 34, 35, 36, 37, 38, 39, 40, 41, 42, 43, 45, 46, 47]",
          "[0, 4, 9, 11, 12, 13, 14, 15, 16, 17, 18, 19, 20, 21, 22, 23, 24, 25, 26, 27, 28, 29, 30, 31, 32, 33, 34, 35, 36, 37, 38, 39, 40, 41, 42, 43, 45, 46, 47]",
          "[0, 4, 9, 11, 12, 14, 15, 16, 17, 18, 19, 20, 21, 22, 23, 24, 25, 26, 27, 28, 29, 30, 31, 32, 33, 34, 35, 36, 37, 38, 39, 40, 41, 42, 43, 45, 46, 47]",
          "[0, 4, 9, 11, 12, 15, 16, 17, 18, 19, 20, 21, 22, 23, 24, 25, 26, 27, 28, 29, 30, 31, 32, 33, 34, 35, 36, 37, 38, 39, 40, 41, 42, 43, 45, 46, 47]",
          "[0, 9, 11, 12, 15, 16, 17, 18, 19, 20, 21, 22, 23, 24, 25, 26, 27, 28, 29, 30, 31, 32, 33, 34, 35, 36, 37, 38, 39, 40, 41, 42, 43, 45, 46, 47]",
          "[0, 9, 11, 12, 15, 16, 17, 18, 19, 20, 21, 22, 23, 24, 25, 26, 27, 28, 29, 30, 31, 32, 33, 34, 35, 36, 38, 39, 40, 41, 42, 43, 45, 46, 47]",
          "[0, 9, 11, 12, 15, 16, 17, 18, 19, 20, 21, 22, 23, 24, 25, 26, 27, 28, 29, 31, 32, 33, 34, 35, 36, 38, 39, 40, 41, 42, 43, 45, 46, 47]",
          "[0, 9, 11, 12, 15, 16, 17, 18, 19, 20, 21, 22, 23, 24, 25, 26, 28, 29, 31, 32, 33, 34, 35, 36, 38, 39, 40, 41, 42, 43, 45, 46, 47]",
          "[0, 9, 11, 12, 15, 16, 17, 18, 19, 20, 21, 22, 23, 24, 25, 26, 28, 29, 31, 32, 33, 34, 36, 38, 39, 40, 41, 42, 43, 45, 46, 47]",
          "[0, 9, 11, 12, 15, 16, 17, 18, 19, 20, 21, 22, 23, 24, 25, 26, 28, 29, 31, 32, 33, 34, 36, 39, 40, 41, 42, 43, 45, 46, 47]",
          "[0, 9, 11, 12, 15, 16, 17, 18, 19, 20, 21, 22, 23, 24, 25, 26, 28, 29, 31, 33, 34, 36, 39, 40, 41, 42, 43, 45, 46, 47]",
          "[0, 9, 11, 12, 15, 16, 17, 18, 19, 20, 22, 23, 24, 25, 26, 28, 29, 31, 33, 34, 36, 39, 40, 41, 42, 43, 45, 46, 47]",
          "[0, 9, 11, 12, 16, 17, 18, 19, 20, 22, 23, 24, 25, 26, 28, 29, 31, 33, 34, 36, 39, 40, 41, 42, 43, 45, 46, 47]",
          "[0, 9, 11, 12, 16, 18, 19, 20, 22, 23, 24, 25, 26, 28, 29, 31, 33, 34, 36, 39, 40, 41, 42, 43, 45, 46, 47]",
          "[0, 9, 11, 12, 16, 18, 19, 20, 22, 23, 24, 25, 26, 28, 29, 31, 33, 34, 36, 39, 40, 41, 42, 45, 46, 47]",
          "[0, 9, 11, 12, 16, 18, 19, 20, 22, 23, 24, 25, 26, 28, 29, 31, 33, 34, 36, 40, 41, 42, 45, 46, 47]",
          "[0, 9, 11, 12, 16, 18, 19, 20, 22, 23, 24, 25, 26, 29, 31, 33, 34, 36, 40, 41, 42, 45, 46, 47]",
          "[0, 9, 11, 12, 16, 18, 19, 20, 22, 23, 25, 26, 29, 31, 33, 34, 36, 40, 41, 42, 45, 46, 47]",
          "[0, 9, 11, 12, 16, 19, 20, 22, 23, 25, 26, 29, 31, 33, 34, 36, 40, 41, 42, 45, 46, 47]",
          "[0, 11, 12, 16, 19, 20, 22, 23, 25, 26, 29, 31, 33, 34, 36, 40, 41, 42, 45, 46, 47]",
          "[0, 11, 12, 16, 19, 20, 22, 23, 25, 29, 31, 33, 34, 36, 40, 41, 42, 45, 46, 47]",
          "[0, 11, 12, 16, 19, 20, 22, 23, 25, 29, 33, 34, 36, 40, 41, 42, 45, 46, 47]",
          "[0, 11, 12, 16, 19, 20, 22, 23, 25, 29, 33, 34, 36, 40, 41, 45, 46, 47]",
          "[0, 11, 12, 16, 19, 20, 22, 25, 29, 33, 34, 36, 40, 41, 45, 46, 47]",
          "[0, 11, 12, 16, 19, 20, 22, 25, 29, 34, 36, 40, 41, 45, 46, 47]",
          "[0, 11, 12, 16, 19, 20, 22, 29, 34, 36, 40, 41, 45, 46, 47]",
          "[0, 11, 12, 16, 19, 22, 29, 34, 36, 40, 41, 45, 46, 47]",
          "[0, 11, 12, 16, 19, 29, 34, 36, 40, 41, 45, 46, 47]",
          "[0, 11, 12, 16, 19, 29, 34, 36, 40, 41, 45, 46]",
          "[0, 11, 12, 16, 19, 29, 34, 36, 40, 41, 45]",
          "[0, 11, 12, 16, 19, 29, 34, 36, 41, 45]",
          "[0, 11, 12, 16, 19, 29, 34, 36, 41]",
          "[0, 11, 12, 16, 19, 29, 34, 36]",
          "[0, 11, 12, 16, 19, 34, 36]",
          "[0, 12, 16, 19, 34, 36]",
          "[0, 12, 16, 34, 36]",
          "[0, 16, 34, 36]",
          "[0, 34, 36]",
          "[0, 36]",
          "[36]"
         ],
         "tickvals": [
          "[0, 1, 2, 3, 4, 5, 6, 7, 8, 9, 10, 11, 12, 13, 14, 15, 16, 17, 18, 19, 20, 21, 22, 23, 24, 25, 26, 27, 28, 29, 30, 31, 32, 33, 34, 35, 36, 37, 38, 39, 40, 41, 42, 43, 44, 45, 46, 47]",
          "[0, 1, 2, 3, 4, 5, 6, 7, 8, 9, 10, 11, 12, 13, 14, 15, 16, 17, 18, 19, 20, 21, 22, 23, 24, 25, 26, 27, 28, 29, 30, 31, 32, 33, 34, 35, 36, 37, 38, 39, 40, 41, 42, 43, 45, 46, 47]",
          "[0, 2, 3, 4, 5, 6, 7, 8, 9, 10, 11, 12, 13, 14, 15, 16, 17, 18, 19, 20, 21, 22, 23, 24, 25, 26, 27, 28, 29, 30, 31, 32, 33, 34, 35, 36, 37, 38, 39, 40, 41, 42, 43, 45, 46, 47]",
          "[0, 3, 4, 5, 6, 7, 8, 9, 10, 11, 12, 13, 14, 15, 16, 17, 18, 19, 20, 21, 22, 23, 24, 25, 26, 27, 28, 29, 30, 31, 32, 33, 34, 35, 36, 37, 38, 39, 40, 41, 42, 43, 45, 46, 47]",
          "[0, 3, 4, 5, 7, 8, 9, 10, 11, 12, 13, 14, 15, 16, 17, 18, 19, 20, 21, 22, 23, 24, 25, 26, 27, 28, 29, 30, 31, 32, 33, 34, 35, 36, 37, 38, 39, 40, 41, 42, 43, 45, 46, 47]",
          "[0, 3, 4, 5, 8, 9, 10, 11, 12, 13, 14, 15, 16, 17, 18, 19, 20, 21, 22, 23, 24, 25, 26, 27, 28, 29, 30, 31, 32, 33, 34, 35, 36, 37, 38, 39, 40, 41, 42, 43, 45, 46, 47]",
          "[0, 4, 5, 8, 9, 10, 11, 12, 13, 14, 15, 16, 17, 18, 19, 20, 21, 22, 23, 24, 25, 26, 27, 28, 29, 30, 31, 32, 33, 34, 35, 36, 37, 38, 39, 40, 41, 42, 43, 45, 46, 47]",
          "[0, 4, 8, 9, 10, 11, 12, 13, 14, 15, 16, 17, 18, 19, 20, 21, 22, 23, 24, 25, 26, 27, 28, 29, 30, 31, 32, 33, 34, 35, 36, 37, 38, 39, 40, 41, 42, 43, 45, 46, 47]",
          "[0, 4, 9, 10, 11, 12, 13, 14, 15, 16, 17, 18, 19, 20, 21, 22, 23, 24, 25, 26, 27, 28, 29, 30, 31, 32, 33, 34, 35, 36, 37, 38, 39, 40, 41, 42, 43, 45, 46, 47]",
          "[0, 4, 9, 11, 12, 13, 14, 15, 16, 17, 18, 19, 20, 21, 22, 23, 24, 25, 26, 27, 28, 29, 30, 31, 32, 33, 34, 35, 36, 37, 38, 39, 40, 41, 42, 43, 45, 46, 47]",
          "[0, 4, 9, 11, 12, 14, 15, 16, 17, 18, 19, 20, 21, 22, 23, 24, 25, 26, 27, 28, 29, 30, 31, 32, 33, 34, 35, 36, 37, 38, 39, 40, 41, 42, 43, 45, 46, 47]",
          "[0, 4, 9, 11, 12, 15, 16, 17, 18, 19, 20, 21, 22, 23, 24, 25, 26, 27, 28, 29, 30, 31, 32, 33, 34, 35, 36, 37, 38, 39, 40, 41, 42, 43, 45, 46, 47]",
          "[0, 9, 11, 12, 15, 16, 17, 18, 19, 20, 21, 22, 23, 24, 25, 26, 27, 28, 29, 30, 31, 32, 33, 34, 35, 36, 37, 38, 39, 40, 41, 42, 43, 45, 46, 47]",
          "[0, 9, 11, 12, 15, 16, 17, 18, 19, 20, 21, 22, 23, 24, 25, 26, 27, 28, 29, 30, 31, 32, 33, 34, 35, 36, 38, 39, 40, 41, 42, 43, 45, 46, 47]",
          "[0, 9, 11, 12, 15, 16, 17, 18, 19, 20, 21, 22, 23, 24, 25, 26, 27, 28, 29, 31, 32, 33, 34, 35, 36, 38, 39, 40, 41, 42, 43, 45, 46, 47]",
          "[0, 9, 11, 12, 15, 16, 17, 18, 19, 20, 21, 22, 23, 24, 25, 26, 28, 29, 31, 32, 33, 34, 35, 36, 38, 39, 40, 41, 42, 43, 45, 46, 47]",
          "[0, 9, 11, 12, 15, 16, 17, 18, 19, 20, 21, 22, 23, 24, 25, 26, 28, 29, 31, 32, 33, 34, 36, 38, 39, 40, 41, 42, 43, 45, 46, 47]",
          "[0, 9, 11, 12, 15, 16, 17, 18, 19, 20, 21, 22, 23, 24, 25, 26, 28, 29, 31, 32, 33, 34, 36, 39, 40, 41, 42, 43, 45, 46, 47]",
          "[0, 9, 11, 12, 15, 16, 17, 18, 19, 20, 21, 22, 23, 24, 25, 26, 28, 29, 31, 33, 34, 36, 39, 40, 41, 42, 43, 45, 46, 47]",
          "[0, 9, 11, 12, 15, 16, 17, 18, 19, 20, 22, 23, 24, 25, 26, 28, 29, 31, 33, 34, 36, 39, 40, 41, 42, 43, 45, 46, 47]",
          "[0, 9, 11, 12, 16, 17, 18, 19, 20, 22, 23, 24, 25, 26, 28, 29, 31, 33, 34, 36, 39, 40, 41, 42, 43, 45, 46, 47]",
          "[0, 9, 11, 12, 16, 18, 19, 20, 22, 23, 24, 25, 26, 28, 29, 31, 33, 34, 36, 39, 40, 41, 42, 43, 45, 46, 47]",
          "[0, 9, 11, 12, 16, 18, 19, 20, 22, 23, 24, 25, 26, 28, 29, 31, 33, 34, 36, 39, 40, 41, 42, 45, 46, 47]",
          "[0, 9, 11, 12, 16, 18, 19, 20, 22, 23, 24, 25, 26, 28, 29, 31, 33, 34, 36, 40, 41, 42, 45, 46, 47]",
          "[0, 9, 11, 12, 16, 18, 19, 20, 22, 23, 24, 25, 26, 29, 31, 33, 34, 36, 40, 41, 42, 45, 46, 47]",
          "[0, 9, 11, 12, 16, 18, 19, 20, 22, 23, 25, 26, 29, 31, 33, 34, 36, 40, 41, 42, 45, 46, 47]",
          "[0, 9, 11, 12, 16, 19, 20, 22, 23, 25, 26, 29, 31, 33, 34, 36, 40, 41, 42, 45, 46, 47]",
          "[0, 11, 12, 16, 19, 20, 22, 23, 25, 26, 29, 31, 33, 34, 36, 40, 41, 42, 45, 46, 47]",
          "[0, 11, 12, 16, 19, 20, 22, 23, 25, 29, 31, 33, 34, 36, 40, 41, 42, 45, 46, 47]",
          "[0, 11, 12, 16, 19, 20, 22, 23, 25, 29, 33, 34, 36, 40, 41, 42, 45, 46, 47]",
          "[0, 11, 12, 16, 19, 20, 22, 23, 25, 29, 33, 34, 36, 40, 41, 45, 46, 47]",
          "[0, 11, 12, 16, 19, 20, 22, 25, 29, 33, 34, 36, 40, 41, 45, 46, 47]",
          "[0, 11, 12, 16, 19, 20, 22, 25, 29, 34, 36, 40, 41, 45, 46, 47]",
          "[0, 11, 12, 16, 19, 20, 22, 29, 34, 36, 40, 41, 45, 46, 47]",
          "[0, 11, 12, 16, 19, 22, 29, 34, 36, 40, 41, 45, 46, 47]",
          "[0, 11, 12, 16, 19, 29, 34, 36, 40, 41, 45, 46, 47]",
          "[0, 11, 12, 16, 19, 29, 34, 36, 40, 41, 45, 46]",
          "[0, 11, 12, 16, 19, 29, 34, 36, 40, 41, 45]",
          "[0, 11, 12, 16, 19, 29, 34, 36, 41, 45]",
          "[0, 11, 12, 16, 19, 29, 34, 36, 41]",
          "[0, 11, 12, 16, 19, 29, 34, 36]",
          "[0, 11, 12, 16, 19, 34, 36]",
          "[0, 12, 16, 19, 34, 36]",
          "[0, 12, 16, 34, 36]",
          "[0, 16, 34, 36]",
          "[0, 34, 36]",
          "[0, 36]",
          "[36]"
         ],
         "title": {
          "text": "x"
         },
         "type": "category"
        },
        "yaxis": {
         "anchor": "x",
         "autorange": true,
         "domain": [
          0,
          1
         ],
         "range": [
          0,
          0.9912265601911043
         ],
         "title": {
          "text": " pr of correct"
         },
         "type": "linear"
        }
       }
      },
      "image/png": "[encoded data removed]",
      "text/html": [
       "<div>                            <div id=\"ad3c984f-a05d-4762-967b-ad4d0fa9ee67\" class=\"plotly-graph-div\" style=\"height:525px; width:100%;\"></div>            <script type=\"text/javascript\">                require([\"plotly\"], function(Plotly) {                    window.PLOTLYENV=window.PLOTLYENV || {};                                    if (document.getElementById(\"ad3c984f-a05d-4762-967b-ad4d0fa9ee67\")) {                    Plotly.newPlot(                        \"ad3c984f-a05d-4762-967b-ad4d0fa9ee67\",                        [{\"alignmentgroup\":\"True\",\"hovertemplate\":\"x=%{x}\\u003cbr\\u003e pr of correct=%{y}\\u003cextra\\u003e\\u003c\\u002fextra\\u003e\",\"legendgroup\":\"\",\"marker\":{\"color\":\"#636efa\",\"pattern\":{\"shape\":\"\"}},\"name\":\"\",\"offsetgroup\":\"\",\"orientation\":\"v\",\"showlegend\":false,\"textposition\":\"auto\",\"x\":[\"[0, 1, 2, 3, 4, 5, 6, 7, 8, 9, 10, 11, 12, 13, 14, 15, 16, 17, 18, 19, 20, 21, 22, 23, 24, 25, 26, 27, 28, 29, 30, 31, 32, 33, 34, 35, 36, 37, 38, 39, 40, 41, 42, 43, 44, 45, 46, 47]\",\"[0, 1, 2, 3, 4, 5, 6, 7, 8, 9, 10, 11, 12, 13, 14, 15, 16, 17, 18, 19, 20, 21, 22, 23, 24, 25, 26, 27, 28, 29, 30, 31, 32, 33, 34, 35, 36, 37, 38, 39, 40, 41, 42, 43, 45, 46, 47]\",\"[0, 2, 3, 4, 5, 6, 7, 8, 9, 10, 11, 12, 13, 14, 15, 16, 17, 18, 19, 20, 21, 22, 23, 24, 25, 26, 27, 28, 29, 30, 31, 32, 33, 34, 35, 36, 37, 38, 39, 40, 41, 42, 43, 45, 46, 47]\",\"[0, 3, 4, 5, 6, 7, 8, 9, 10, 11, 12, 13, 14, 15, 16, 17, 18, 19, 20, 21, 22, 23, 24, 25, 26, 27, 28, 29, 30, 31, 32, 33, 34, 35, 36, 37, 38, 39, 40, 41, 42, 43, 45, 46, 47]\",\"[0, 3, 4, 5, 7, 8, 9, 10, 11, 12, 13, 14, 15, 16, 17, 18, 19, 20, 21, 22, 23, 24, 25, 26, 27, 28, 29, 30, 31, 32, 33, 34, 35, 36, 37, 38, 39, 40, 41, 42, 43, 45, 46, 47]\",\"[0, 3, 4, 5, 8, 9, 10, 11, 12, 13, 14, 15, 16, 17, 18, 19, 20, 21, 22, 23, 24, 25, 26, 27, 28, 29, 30, 31, 32, 33, 34, 35, 36, 37, 38, 39, 40, 41, 42, 43, 45, 46, 47]\",\"[0, 4, 5, 8, 9, 10, 11, 12, 13, 14, 15, 16, 17, 18, 19, 20, 21, 22, 23, 24, 25, 26, 27, 28, 29, 30, 31, 32, 33, 34, 35, 36, 37, 38, 39, 40, 41, 42, 43, 45, 46, 47]\",\"[0, 4, 8, 9, 10, 11, 12, 13, 14, 15, 16, 17, 18, 19, 20, 21, 22, 23, 24, 25, 26, 27, 28, 29, 30, 31, 32, 33, 34, 35, 36, 37, 38, 39, 40, 41, 42, 43, 45, 46, 47]\",\"[0, 4, 9, 10, 11, 12, 13, 14, 15, 16, 17, 18, 19, 20, 21, 22, 23, 24, 25, 26, 27, 28, 29, 30, 31, 32, 33, 34, 35, 36, 37, 38, 39, 40, 41, 42, 43, 45, 46, 47]\",\"[0, 4, 9, 11, 12, 13, 14, 15, 16, 17, 18, 19, 20, 21, 22, 23, 24, 25, 26, 27, 28, 29, 30, 31, 32, 33, 34, 35, 36, 37, 38, 39, 40, 41, 42, 43, 45, 46, 47]\",\"[0, 4, 9, 11, 12, 14, 15, 16, 17, 18, 19, 20, 21, 22, 23, 24, 25, 26, 27, 28, 29, 30, 31, 32, 33, 34, 35, 36, 37, 38, 39, 40, 41, 42, 43, 45, 46, 47]\",\"[0, 4, 9, 11, 12, 15, 16, 17, 18, 19, 20, 21, 22, 23, 24, 25, 26, 27, 28, 29, 30, 31, 32, 33, 34, 35, 36, 37, 38, 39, 40, 41, 42, 43, 45, 46, 47]\",\"[0, 9, 11, 12, 15, 16, 17, 18, 19, 20, 21, 22, 23, 24, 25, 26, 27, 28, 29, 30, 31, 32, 33, 34, 35, 36, 37, 38, 39, 40, 41, 42, 43, 45, 46, 47]\",\"[0, 9, 11, 12, 15, 16, 17, 18, 19, 20, 21, 22, 23, 24, 25, 26, 27, 28, 29, 30, 31, 32, 33, 34, 35, 36, 38, 39, 40, 41, 42, 43, 45, 46, 47]\",\"[0, 9, 11, 12, 15, 16, 17, 18, 19, 20, 21, 22, 23, 24, 25, 26, 27, 28, 29, 31, 32, 33, 34, 35, 36, 38, 39, 40, 41, 42, 43, 45, 46, 47]\",\"[0, 9, 11, 12, 15, 16, 17, 18, 19, 20, 21, 22, 23, 24, 25, 26, 28, 29, 31, 32, 33, 34, 35, 36, 38, 39, 40, 41, 42, 43, 45, 46, 47]\",\"[0, 9, 11, 12, 15, 16, 17, 18, 19, 20, 21, 22, 23, 24, 25, 26, 28, 29, 31, 32, 33, 34, 36, 38, 39, 40, 41, 42, 43, 45, 46, 47]\",\"[0, 9, 11, 12, 15, 16, 17, 18, 19, 20, 21, 22, 23, 24, 25, 26, 28, 29, 31, 32, 33, 34, 36, 39, 40, 41, 42, 43, 45, 46, 47]\",\"[0, 9, 11, 12, 15, 16, 17, 18, 19, 20, 21, 22, 23, 24, 25, 26, 28, 29, 31, 33, 34, 36, 39, 40, 41, 42, 43, 45, 46, 47]\",\"[0, 9, 11, 12, 15, 16, 17, 18, 19, 20, 22, 23, 24, 25, 26, 28, 29, 31, 33, 34, 36, 39, 40, 41, 42, 43, 45, 46, 47]\",\"[0, 9, 11, 12, 16, 17, 18, 19, 20, 22, 23, 24, 25, 26, 28, 29, 31, 33, 34, 36, 39, 40, 41, 42, 43, 45, 46, 47]\",\"[0, 9, 11, 12, 16, 18, 19, 20, 22, 23, 24, 25, 26, 28, 29, 31, 33, 34, 36, 39, 40, 41, 42, 43, 45, 46, 47]\",\"[0, 9, 11, 12, 16, 18, 19, 20, 22, 23, 24, 25, 26, 28, 29, 31, 33, 34, 36, 39, 40, 41, 42, 45, 46, 47]\",\"[0, 9, 11, 12, 16, 18, 19, 20, 22, 23, 24, 25, 26, 28, 29, 31, 33, 34, 36, 40, 41, 42, 45, 46, 47]\",\"[0, 9, 11, 12, 16, 18, 19, 20, 22, 23, 24, 25, 26, 29, 31, 33, 34, 36, 40, 41, 42, 45, 46, 47]\",\"[0, 9, 11, 12, 16, 18, 19, 20, 22, 23, 25, 26, 29, 31, 33, 34, 36, 40, 41, 42, 45, 46, 47]\",\"[0, 9, 11, 12, 16, 19, 20, 22, 23, 25, 26, 29, 31, 33, 34, 36, 40, 41, 42, 45, 46, 47]\",\"[0, 11, 12, 16, 19, 20, 22, 23, 25, 26, 29, 31, 33, 34, 36, 40, 41, 42, 45, 46, 47]\",\"[0, 11, 12, 16, 19, 20, 22, 23, 25, 29, 31, 33, 34, 36, 40, 41, 42, 45, 46, 47]\",\"[0, 11, 12, 16, 19, 20, 22, 23, 25, 29, 33, 34, 36, 40, 41, 42, 45, 46, 47]\",\"[0, 11, 12, 16, 19, 20, 22, 23, 25, 29, 33, 34, 36, 40, 41, 45, 46, 47]\",\"[0, 11, 12, 16, 19, 20, 22, 25, 29, 33, 34, 36, 40, 41, 45, 46, 47]\",\"[0, 11, 12, 16, 19, 20, 22, 25, 29, 34, 36, 40, 41, 45, 46, 47]\",\"[0, 11, 12, 16, 19, 20, 22, 29, 34, 36, 40, 41, 45, 46, 47]\",\"[0, 11, 12, 16, 19, 22, 29, 34, 36, 40, 41, 45, 46, 47]\",\"[0, 11, 12, 16, 19, 29, 34, 36, 40, 41, 45, 46, 47]\",\"[0, 11, 12, 16, 19, 29, 34, 36, 40, 41, 45, 46]\",\"[0, 11, 12, 16, 19, 29, 34, 36, 40, 41, 45]\",\"[0, 11, 12, 16, 19, 29, 34, 36, 41, 45]\",\"[0, 11, 12, 16, 19, 29, 34, 36, 41]\",\"[0, 11, 12, 16, 19, 29, 34, 36]\",\"[0, 11, 12, 16, 19, 34, 36]\",\"[0, 12, 16, 19, 34, 36]\",\"[0, 12, 16, 34, 36]\",\"[0, 16, 34, 36]\",\"[0, 34, 36]\",\"[0, 36]\",\"[36]\"],\"xaxis\":\"x\",\"y\":[0.9416652321815491,0.9301146268844604,0.9083428978919983,0.865223228931427,0.8724905252456665,0.8958735466003418,0.888591468334198,0.8801690340042114,0.8857265114784241,0.8830859065055847,0.8414223790168762,0.8005134463310242,0.8006725907325745,0.6978604197502136,0.6720374822616577,0.6629920601844788,0.695491373538971,0.6469871401786804,0.641823947429657,0.5747432708740234,0.5333713889122009,0.5793988108634949,0.6446154713630676,0.6292223334312439,0.6500760316848755,0.5662173628807068,0.5793377757072449,0.5326038002967834,0.4558819532394409,0.5103229880332947,0.4661678075790405,0.4013274312019348,0.3405931890010834,0.31950706243515015,0.37109375,0.33097606897354126,0.18816085159778595,0.25393664836883545,0.18899941444396973,0.10888675600290298,0.0913357138633728,0.30809980630874634,0.19844909012317657,0.356290727853775,0.1555977314710617,0.23211322724819183,0.0862603634595871,0.05642598867416382],\"yaxis\":\"y\",\"type\":\"bar\"}],                        {\"template\":{\"data\":{\"histogram2dcontour\":[{\"type\":\"histogram2dcontour\",\"colorbar\":{\"outlinewidth\":0,\"ticks\":\"\"},\"colorscale\":[[0.0,\"#0d0887\"],[0.1111111111111111,\"#46039f\"],[0.2222222222222222,\"#7201a8\"],[0.3333333333333333,\"#9c179e\"],[0.4444444444444444,\"#bd3786\"],[0.5555555555555556,\"#d8576b\"],[0.6666666666666666,\"#ed7953\"],[0.7777777777777778,\"#fb9f3a\"],[0.8888888888888888,\"#fdca26\"],[1.0,\"#f0f921\"]]}],\"choropleth\":[{\"type\":\"choropleth\",\"colorbar\":{\"outlinewidth\":0,\"ticks\":\"\"}}],\"histogram2d\":[{\"type\":\"histogram2d\",\"colorbar\":{\"outlinewidth\":0,\"ticks\":\"\"},\"colorscale\":[[0.0,\"#0d0887\"],[0.1111111111111111,\"#46039f\"],[0.2222222222222222,\"#7201a8\"],[0.3333333333333333,\"#9c179e\"],[0.4444444444444444,\"#bd3786\"],[0.5555555555555556,\"#d8576b\"],[0.6666666666666666,\"#ed7953\"],[0.7777777777777778,\"#fb9f3a\"],[0.8888888888888888,\"#fdca26\"],[1.0,\"#f0f921\"]]}],\"heatmap\":[{\"type\":\"heatmap\",\"colorbar\":{\"outlinewidth\":0,\"ticks\":\"\"},\"colorscale\":[[0.0,\"#0d0887\"],[0.1111111111111111,\"#46039f\"],[0.2222222222222222,\"#7201a8\"],[0.3333333333333333,\"#9c179e\"],[0.4444444444444444,\"#bd3786\"],[0.5555555555555556,\"#d8576b\"],[0.6666666666666666,\"#ed7953\"],[0.7777777777777778,\"#fb9f3a\"],[0.8888888888888888,\"#fdca26\"],[1.0,\"#f0f921\"]]}],\"heatmapgl\":[{\"type\":\"heatmapgl\",\"colorbar\":{\"outlinewidth\":0,\"ticks\":\"\"},\"colorscale\":[[0.0,\"#0d0887\"],[0.1111111111111111,\"#46039f\"],[0.2222222222222222,\"#7201a8\"],[0.3333333333333333,\"#9c179e\"],[0.4444444444444444,\"#bd3786\"],[0.5555555555555556,\"#d8576b\"],[0.6666666666666666,\"#ed7953\"],[0.7777777777777778,\"#fb9f3a\"],[0.8888888888888888,\"#fdca26\"],[1.0,\"#f0f921\"]]}],\"contourcarpet\":[{\"type\":\"contourcarpet\",\"colorbar\":{\"outlinewidth\":0,\"ticks\":\"\"}}],\"contour\":[{\"type\":\"contour\",\"colorbar\":{\"outlinewidth\":0,\"ticks\":\"\"},\"colorscale\":[[0.0,\"#0d0887\"],[0.1111111111111111,\"#46039f\"],[0.2222222222222222,\"#7201a8\"],[0.3333333333333333,\"#9c179e\"],[0.4444444444444444,\"#bd3786\"],[0.5555555555555556,\"#d8576b\"],[0.6666666666666666,\"#ed7953\"],[0.7777777777777778,\"#fb9f3a\"],[0.8888888888888888,\"#fdca26\"],[1.0,\"#f0f921\"]]}],\"surface\":[{\"type\":\"surface\",\"colorbar\":{\"outlinewidth\":0,\"ticks\":\"\"},\"colorscale\":[[0.0,\"#0d0887\"],[0.1111111111111111,\"#46039f\"],[0.2222222222222222,\"#7201a8\"],[0.3333333333333333,\"#9c179e\"],[0.4444444444444444,\"#bd3786\"],[0.5555555555555556,\"#d8576b\"],[0.6666666666666666,\"#ed7953\"],[0.7777777777777778,\"#fb9f3a\"],[0.8888888888888888,\"#fdca26\"],[1.0,\"#f0f921\"]]}],\"mesh3d\":[{\"type\":\"mesh3d\",\"colorbar\":{\"outlinewidth\":0,\"ticks\":\"\"}}],\"scatter\":[{\"fillpattern\":{\"fillmode\":\"overlay\",\"size\":10,\"solidity\":0.2},\"type\":\"scatter\"}],\"parcoords\":[{\"type\":\"parcoords\",\"line\":{\"colorbar\":{\"outlinewidth\":0,\"ticks\":\"\"}}}],\"scatterpolargl\":[{\"type\":\"scatterpolargl\",\"marker\":{\"colorbar\":{\"outlinewidth\":0,\"ticks\":\"\"}}}],\"bar\":[{\"error_x\":{\"color\":\"#2a3f5f\"},\"error_y\":{\"color\":\"#2a3f5f\"},\"marker\":{\"line\":{\"color\":\"#E5ECF6\",\"width\":0.5},\"pattern\":{\"fillmode\":\"overlay\",\"size\":10,\"solidity\":0.2}},\"type\":\"bar\"}],\"scattergeo\":[{\"type\":\"scattergeo\",\"marker\":{\"colorbar\":{\"outlinewidth\":0,\"ticks\":\"\"}}}],\"scatterpolar\":[{\"type\":\"scatterpolar\",\"marker\":{\"colorbar\":{\"outlinewidth\":0,\"ticks\":\"\"}}}],\"histogram\":[{\"marker\":{\"pattern\":{\"fillmode\":\"overlay\",\"size\":10,\"solidity\":0.2}},\"type\":\"histogram\"}],\"scattergl\":[{\"type\":\"scattergl\",\"marker\":{\"colorbar\":{\"outlinewidth\":0,\"ticks\":\"\"}}}],\"scatter3d\":[{\"type\":\"scatter3d\",\"line\":{\"colorbar\":{\"outlinewidth\":0,\"ticks\":\"\"}},\"marker\":{\"colorbar\":{\"outlinewidth\":0,\"ticks\":\"\"}}}],\"scattermapbox\":[{\"type\":\"scattermapbox\",\"marker\":{\"colorbar\":{\"outlinewidth\":0,\"ticks\":\"\"}}}],\"scatterternary\":[{\"type\":\"scatterternary\",\"marker\":{\"colorbar\":{\"outlinewidth\":0,\"ticks\":\"\"}}}],\"scattercarpet\":[{\"type\":\"scattercarpet\",\"marker\":{\"colorbar\":{\"outlinewidth\":0,\"ticks\":\"\"}}}],\"carpet\":[{\"aaxis\":{\"endlinecolor\":\"#2a3f5f\",\"gridcolor\":\"white\",\"linecolor\":\"white\",\"minorgridcolor\":\"white\",\"startlinecolor\":\"#2a3f5f\"},\"baxis\":{\"endlinecolor\":\"#2a3f5f\",\"gridcolor\":\"white\",\"linecolor\":\"white\",\"minorgridcolor\":\"white\",\"startlinecolor\":\"#2a3f5f\"},\"type\":\"carpet\"}],\"table\":[{\"cells\":{\"fill\":{\"color\":\"#EBF0F8\"},\"line\":{\"color\":\"white\"}},\"header\":{\"fill\":{\"color\":\"#C8D4E3\"},\"line\":{\"color\":\"white\"}},\"type\":\"table\"}],\"barpolar\":[{\"marker\":{\"line\":{\"color\":\"#E5ECF6\",\"width\":0.5},\"pattern\":{\"fillmode\":\"overlay\",\"size\":10,\"solidity\":0.2}},\"type\":\"barpolar\"}],\"pie\":[{\"automargin\":true,\"type\":\"pie\"}]},\"layout\":{\"autotypenumbers\":\"strict\",\"colorway\":[\"#636efa\",\"#EF553B\",\"#00cc96\",\"#ab63fa\",\"#FFA15A\",\"#19d3f3\",\"#FF6692\",\"#B6E880\",\"#FF97FF\",\"#FECB52\"],\"font\":{\"color\":\"#2a3f5f\"},\"hovermode\":\"closest\",\"hoverlabel\":{\"align\":\"left\"},\"paper_bgcolor\":\"white\",\"plot_bgcolor\":\"#E5ECF6\",\"polar\":{\"bgcolor\":\"#E5ECF6\",\"angularaxis\":{\"gridcolor\":\"white\",\"linecolor\":\"white\",\"ticks\":\"\"},\"radialaxis\":{\"gridcolor\":\"white\",\"linecolor\":\"white\",\"ticks\":\"\"}},\"ternary\":{\"bgcolor\":\"#E5ECF6\",\"aaxis\":{\"gridcolor\":\"white\",\"linecolor\":\"white\",\"ticks\":\"\"},\"baxis\":{\"gridcolor\":\"white\",\"linecolor\":\"white\",\"ticks\":\"\"},\"caxis\":{\"gridcolor\":\"white\",\"linecolor\":\"white\",\"ticks\":\"\"}},\"coloraxis\":{\"colorbar\":{\"outlinewidth\":0,\"ticks\":\"\"}},\"colorscale\":{\"sequential\":[[0.0,\"#0d0887\"],[0.1111111111111111,\"#46039f\"],[0.2222222222222222,\"#7201a8\"],[0.3333333333333333,\"#9c179e\"],[0.4444444444444444,\"#bd3786\"],[0.5555555555555556,\"#d8576b\"],[0.6666666666666666,\"#ed7953\"],[0.7777777777777778,\"#fb9f3a\"],[0.8888888888888888,\"#fdca26\"],[1.0,\"#f0f921\"]],\"sequentialminus\":[[0.0,\"#0d0887\"],[0.1111111111111111,\"#46039f\"],[0.2222222222222222,\"#7201a8\"],[0.3333333333333333,\"#9c179e\"],[0.4444444444444444,\"#bd3786\"],[0.5555555555555556,\"#d8576b\"],[0.6666666666666666,\"#ed7953\"],[0.7777777777777778,\"#fb9f3a\"],[0.8888888888888888,\"#fdca26\"],[1.0,\"#f0f921\"]],\"diverging\":[[0,\"#8e0152\"],[0.1,\"#c51b7d\"],[0.2,\"#de77ae\"],[0.3,\"#f1b6da\"],[0.4,\"#fde0ef\"],[0.5,\"#f7f7f7\"],[0.6,\"#e6f5d0\"],[0.7,\"#b8e186\"],[0.8,\"#7fbc41\"],[0.9,\"#4d9221\"],[1,\"#276419\"]]},\"xaxis\":{\"gridcolor\":\"white\",\"linecolor\":\"white\",\"ticks\":\"\",\"title\":{\"standoff\":15},\"zerolinecolor\":\"white\",\"automargin\":true,\"zerolinewidth\":2},\"yaxis\":{\"gridcolor\":\"white\",\"linecolor\":\"white\",\"ticks\":\"\",\"title\":{\"standoff\":15},\"zerolinecolor\":\"white\",\"automargin\":true,\"zerolinewidth\":2},\"scene\":{\"xaxis\":{\"backgroundcolor\":\"#E5ECF6\",\"gridcolor\":\"white\",\"linecolor\":\"white\",\"showbackground\":true,\"ticks\":\"\",\"zerolinecolor\":\"white\",\"gridwidth\":2},\"yaxis\":{\"backgroundcolor\":\"#E5ECF6\",\"gridcolor\":\"white\",\"linecolor\":\"white\",\"showbackground\":true,\"ticks\":\"\",\"zerolinecolor\":\"white\",\"gridwidth\":2},\"zaxis\":{\"backgroundcolor\":\"#E5ECF6\",\"gridcolor\":\"white\",\"linecolor\":\"white\",\"showbackground\":true,\"ticks\":\"\",\"zerolinecolor\":\"white\",\"gridwidth\":2}},\"shapedefaults\":{\"line\":{\"color\":\"#2a3f5f\"}},\"annotationdefaults\":{\"arrowcolor\":\"#2a3f5f\",\"arrowhead\":0,\"arrowwidth\":1},\"geo\":{\"bgcolor\":\"white\",\"landcolor\":\"#E5ECF6\",\"subunitcolor\":\"white\",\"showland\":true,\"showlakes\":true,\"lakecolor\":\"white\"},\"title\":{\"x\":0.05},\"mapbox\":{\"style\":\"light\"}}},\"xaxis\":{\"anchor\":\"y\",\"domain\":[0.0,1.0],\"title\":{\"text\":\"x\"},\"tickmode\":\"array\",\"tickvals\":[\"[0, 1, 2, 3, 4, 5, 6, 7, 8, 9, 10, 11, 12, 13, 14, 15, 16, 17, 18, 19, 20, 21, 22, 23, 24, 25, 26, 27, 28, 29, 30, 31, 32, 33, 34, 35, 36, 37, 38, 39, 40, 41, 42, 43, 44, 45, 46, 47]\",\"[0, 1, 2, 3, 4, 5, 6, 7, 8, 9, 10, 11, 12, 13, 14, 15, 16, 17, 18, 19, 20, 21, 22, 23, 24, 25, 26, 27, 28, 29, 30, 31, 32, 33, 34, 35, 36, 37, 38, 39, 40, 41, 42, 43, 45, 46, 47]\",\"[0, 2, 3, 4, 5, 6, 7, 8, 9, 10, 11, 12, 13, 14, 15, 16, 17, 18, 19, 20, 21, 22, 23, 24, 25, 26, 27, 28, 29, 30, 31, 32, 33, 34, 35, 36, 37, 38, 39, 40, 41, 42, 43, 45, 46, 47]\",\"[0, 3, 4, 5, 6, 7, 8, 9, 10, 11, 12, 13, 14, 15, 16, 17, 18, 19, 20, 21, 22, 23, 24, 25, 26, 27, 28, 29, 30, 31, 32, 33, 34, 35, 36, 37, 38, 39, 40, 41, 42, 43, 45, 46, 47]\",\"[0, 3, 4, 5, 7, 8, 9, 10, 11, 12, 13, 14, 15, 16, 17, 18, 19, 20, 21, 22, 23, 24, 25, 26, 27, 28, 29, 30, 31, 32, 33, 34, 35, 36, 37, 38, 39, 40, 41, 42, 43, 45, 46, 47]\",\"[0, 3, 4, 5, 8, 9, 10, 11, 12, 13, 14, 15, 16, 17, 18, 19, 20, 21, 22, 23, 24, 25, 26, 27, 28, 29, 30, 31, 32, 33, 34, 35, 36, 37, 38, 39, 40, 41, 42, 43, 45, 46, 47]\",\"[0, 4, 5, 8, 9, 10, 11, 12, 13, 14, 15, 16, 17, 18, 19, 20, 21, 22, 23, 24, 25, 26, 27, 28, 29, 30, 31, 32, 33, 34, 35, 36, 37, 38, 39, 40, 41, 42, 43, 45, 46, 47]\",\"[0, 4, 8, 9, 10, 11, 12, 13, 14, 15, 16, 17, 18, 19, 20, 21, 22, 23, 24, 25, 26, 27, 28, 29, 30, 31, 32, 33, 34, 35, 36, 37, 38, 39, 40, 41, 42, 43, 45, 46, 47]\",\"[0, 4, 9, 10, 11, 12, 13, 14, 15, 16, 17, 18, 19, 20, 21, 22, 23, 24, 25, 26, 27, 28, 29, 30, 31, 32, 33, 34, 35, 36, 37, 38, 39, 40, 41, 42, 43, 45, 46, 47]\",\"[0, 4, 9, 11, 12, 13, 14, 15, 16, 17, 18, 19, 20, 21, 22, 23, 24, 25, 26, 27, 28, 29, 30, 31, 32, 33, 34, 35, 36, 37, 38, 39, 40, 41, 42, 43, 45, 46, 47]\",\"[0, 4, 9, 11, 12, 14, 15, 16, 17, 18, 19, 20, 21, 22, 23, 24, 25, 26, 27, 28, 29, 30, 31, 32, 33, 34, 35, 36, 37, 38, 39, 40, 41, 42, 43, 45, 46, 47]\",\"[0, 4, 9, 11, 12, 15, 16, 17, 18, 19, 20, 21, 22, 23, 24, 25, 26, 27, 28, 29, 30, 31, 32, 33, 34, 35, 36, 37, 38, 39, 40, 41, 42, 43, 45, 46, 47]\",\"[0, 9, 11, 12, 15, 16, 17, 18, 19, 20, 21, 22, 23, 24, 25, 26, 27, 28, 29, 30, 31, 32, 33, 34, 35, 36, 37, 38, 39, 40, 41, 42, 43, 45, 46, 47]\",\"[0, 9, 11, 12, 15, 16, 17, 18, 19, 20, 21, 22, 23, 24, 25, 26, 27, 28, 29, 30, 31, 32, 33, 34, 35, 36, 38, 39, 40, 41, 42, 43, 45, 46, 47]\",\"[0, 9, 11, 12, 15, 16, 17, 18, 19, 20, 21, 22, 23, 24, 25, 26, 27, 28, 29, 31, 32, 33, 34, 35, 36, 38, 39, 40, 41, 42, 43, 45, 46, 47]\",\"[0, 9, 11, 12, 15, 16, 17, 18, 19, 20, 21, 22, 23, 24, 25, 26, 28, 29, 31, 32, 33, 34, 35, 36, 38, 39, 40, 41, 42, 43, 45, 46, 47]\",\"[0, 9, 11, 12, 15, 16, 17, 18, 19, 20, 21, 22, 23, 24, 25, 26, 28, 29, 31, 32, 33, 34, 36, 38, 39, 40, 41, 42, 43, 45, 46, 47]\",\"[0, 9, 11, 12, 15, 16, 17, 18, 19, 20, 21, 22, 23, 24, 25, 26, 28, 29, 31, 32, 33, 34, 36, 39, 40, 41, 42, 43, 45, 46, 47]\",\"[0, 9, 11, 12, 15, 16, 17, 18, 19, 20, 21, 22, 23, 24, 25, 26, 28, 29, 31, 33, 34, 36, 39, 40, 41, 42, 43, 45, 46, 47]\",\"[0, 9, 11, 12, 15, 16, 17, 18, 19, 20, 22, 23, 24, 25, 26, 28, 29, 31, 33, 34, 36, 39, 40, 41, 42, 43, 45, 46, 47]\",\"[0, 9, 11, 12, 16, 17, 18, 19, 20, 22, 23, 24, 25, 26, 28, 29, 31, 33, 34, 36, 39, 40, 41, 42, 43, 45, 46, 47]\",\"[0, 9, 11, 12, 16, 18, 19, 20, 22, 23, 24, 25, 26, 28, 29, 31, 33, 34, 36, 39, 40, 41, 42, 43, 45, 46, 47]\",\"[0, 9, 11, 12, 16, 18, 19, 20, 22, 23, 24, 25, 26, 28, 29, 31, 33, 34, 36, 39, 40, 41, 42, 45, 46, 47]\",\"[0, 9, 11, 12, 16, 18, 19, 20, 22, 23, 24, 25, 26, 28, 29, 31, 33, 34, 36, 40, 41, 42, 45, 46, 47]\",\"[0, 9, 11, 12, 16, 18, 19, 20, 22, 23, 24, 25, 26, 29, 31, 33, 34, 36, 40, 41, 42, 45, 46, 47]\",\"[0, 9, 11, 12, 16, 18, 19, 20, 22, 23, 25, 26, 29, 31, 33, 34, 36, 40, 41, 42, 45, 46, 47]\",\"[0, 9, 11, 12, 16, 19, 20, 22, 23, 25, 26, 29, 31, 33, 34, 36, 40, 41, 42, 45, 46, 47]\",\"[0, 11, 12, 16, 19, 20, 22, 23, 25, 26, 29, 31, 33, 34, 36, 40, 41, 42, 45, 46, 47]\",\"[0, 11, 12, 16, 19, 20, 22, 23, 25, 29, 31, 33, 34, 36, 40, 41, 42, 45, 46, 47]\",\"[0, 11, 12, 16, 19, 20, 22, 23, 25, 29, 33, 34, 36, 40, 41, 42, 45, 46, 47]\",\"[0, 11, 12, 16, 19, 20, 22, 23, 25, 29, 33, 34, 36, 40, 41, 45, 46, 47]\",\"[0, 11, 12, 16, 19, 20, 22, 25, 29, 33, 34, 36, 40, 41, 45, 46, 47]\",\"[0, 11, 12, 16, 19, 20, 22, 25, 29, 34, 36, 40, 41, 45, 46, 47]\",\"[0, 11, 12, 16, 19, 20, 22, 29, 34, 36, 40, 41, 45, 46, 47]\",\"[0, 11, 12, 16, 19, 22, 29, 34, 36, 40, 41, 45, 46, 47]\",\"[0, 11, 12, 16, 19, 29, 34, 36, 40, 41, 45, 46, 47]\",\"[0, 11, 12, 16, 19, 29, 34, 36, 40, 41, 45, 46]\",\"[0, 11, 12, 16, 19, 29, 34, 36, 40, 41, 45]\",\"[0, 11, 12, 16, 19, 29, 34, 36, 41, 45]\",\"[0, 11, 12, 16, 19, 29, 34, 36, 41]\",\"[0, 11, 12, 16, 19, 29, 34, 36]\",\"[0, 11, 12, 16, 19, 34, 36]\",\"[0, 12, 16, 19, 34, 36]\",\"[0, 12, 16, 34, 36]\",\"[0, 16, 34, 36]\",\"[0, 34, 36]\",\"[0, 36]\",\"[36]\"],\"ticktext\":[\"[0, 1, 2, 3, 4, 5, 6, 7, 8, 9, 10, 11, 12, 13, 14, 15, 16, 17, 18, 19, 20, 21, 22, 23, 24, 25, 26, 27, 28, 29, 30, 31, 32, 33, 34, 35, 36, 37, 38, 39, 40, 41, 42, 43, 44, 45, 46, 47]\",\"[0, 1, 2, 3, 4, 5, 6, 7, 8, 9, 10, 11, 12, 13, 14, 15, 16, 17, 18, 19, 20, 21, 22, 23, 24, 25, 26, 27, 28, 29, 30, 31, 32, 33, 34, 35, 36, 37, 38, 39, 40, 41, 42, 43, 45, 46, 47]\",\"[0, 2, 3, 4, 5, 6, 7, 8, 9, 10, 11, 12, 13, 14, 15, 16, 17, 18, 19, 20, 21, 22, 23, 24, 25, 26, 27, 28, 29, 30, 31, 32, 33, 34, 35, 36, 37, 38, 39, 40, 41, 42, 43, 45, 46, 47]\",\"[0, 3, 4, 5, 6, 7, 8, 9, 10, 11, 12, 13, 14, 15, 16, 17, 18, 19, 20, 21, 22, 23, 24, 25, 26, 27, 28, 29, 30, 31, 32, 33, 34, 35, 36, 37, 38, 39, 40, 41, 42, 43, 45, 46, 47]\",\"[0, 3, 4, 5, 7, 8, 9, 10, 11, 12, 13, 14, 15, 16, 17, 18, 19, 20, 21, 22, 23, 24, 25, 26, 27, 28, 29, 30, 31, 32, 33, 34, 35, 36, 37, 38, 39, 40, 41, 42, 43, 45, 46, 47]\",\"[0, 3, 4, 5, 8, 9, 10, 11, 12, 13, 14, 15, 16, 17, 18, 19, 20, 21, 22, 23, 24, 25, 26, 27, 28, 29, 30, 31, 32, 33, 34, 35, 36, 37, 38, 39, 40, 41, 42, 43, 45, 46, 47]\",\"[0, 4, 5, 8, 9, 10, 11, 12, 13, 14, 15, 16, 17, 18, 19, 20, 21, 22, 23, 24, 25, 26, 27, 28, 29, 30, 31, 32, 33, 34, 35, 36, 37, 38, 39, 40, 41, 42, 43, 45, 46, 47]\",\"[0, 4, 8, 9, 10, 11, 12, 13, 14, 15, 16, 17, 18, 19, 20, 21, 22, 23, 24, 25, 26, 27, 28, 29, 30, 31, 32, 33, 34, 35, 36, 37, 38, 39, 40, 41, 42, 43, 45, 46, 47]\",\"[0, 4, 9, 10, 11, 12, 13, 14, 15, 16, 17, 18, 19, 20, 21, 22, 23, 24, 25, 26, 27, 28, 29, 30, 31, 32, 33, 34, 35, 36, 37, 38, 39, 40, 41, 42, 43, 45, 46, 47]\",\"[0, 4, 9, 11, 12, 13, 14, 15, 16, 17, 18, 19, 20, 21, 22, 23, 24, 25, 26, 27, 28, 29, 30, 31, 32, 33, 34, 35, 36, 37, 38, 39, 40, 41, 42, 43, 45, 46, 47]\",\"[0, 4, 9, 11, 12, 14, 15, 16, 17, 18, 19, 20, 21, 22, 23, 24, 25, 26, 27, 28, 29, 30, 31, 32, 33, 34, 35, 36, 37, 38, 39, 40, 41, 42, 43, 45, 46, 47]\",\"[0, 4, 9, 11, 12, 15, 16, 17, 18, 19, 20, 21, 22, 23, 24, 25, 26, 27, 28, 29, 30, 31, 32, 33, 34, 35, 36, 37, 38, 39, 40, 41, 42, 43, 45, 46, 47]\",\"[0, 9, 11, 12, 15, 16, 17, 18, 19, 20, 21, 22, 23, 24, 25, 26, 27, 28, 29, 30, 31, 32, 33, 34, 35, 36, 37, 38, 39, 40, 41, 42, 43, 45, 46, 47]\",\"[0, 9, 11, 12, 15, 16, 17, 18, 19, 20, 21, 22, 23, 24, 25, 26, 27, 28, 29, 30, 31, 32, 33, 34, 35, 36, 38, 39, 40, 41, 42, 43, 45, 46, 47]\",\"[0, 9, 11, 12, 15, 16, 17, 18, 19, 20, 21, 22, 23, 24, 25, 26, 27, 28, 29, 31, 32, 33, 34, 35, 36, 38, 39, 40, 41, 42, 43, 45, 46, 47]\",\"[0, 9, 11, 12, 15, 16, 17, 18, 19, 20, 21, 22, 23, 24, 25, 26, 28, 29, 31, 32, 33, 34, 35, 36, 38, 39, 40, 41, 42, 43, 45, 46, 47]\",\"[0, 9, 11, 12, 15, 16, 17, 18, 19, 20, 21, 22, 23, 24, 25, 26, 28, 29, 31, 32, 33, 34, 36, 38, 39, 40, 41, 42, 43, 45, 46, 47]\",\"[0, 9, 11, 12, 15, 16, 17, 18, 19, 20, 21, 22, 23, 24, 25, 26, 28, 29, 31, 32, 33, 34, 36, 39, 40, 41, 42, 43, 45, 46, 47]\",\"[0, 9, 11, 12, 15, 16, 17, 18, 19, 20, 21, 22, 23, 24, 25, 26, 28, 29, 31, 33, 34, 36, 39, 40, 41, 42, 43, 45, 46, 47]\",\"[0, 9, 11, 12, 15, 16, 17, 18, 19, 20, 22, 23, 24, 25, 26, 28, 29, 31, 33, 34, 36, 39, 40, 41, 42, 43, 45, 46, 47]\",\"[0, 9, 11, 12, 16, 17, 18, 19, 20, 22, 23, 24, 25, 26, 28, 29, 31, 33, 34, 36, 39, 40, 41, 42, 43, 45, 46, 47]\",\"[0, 9, 11, 12, 16, 18, 19, 20, 22, 23, 24, 25, 26, 28, 29, 31, 33, 34, 36, 39, 40, 41, 42, 43, 45, 46, 47]\",\"[0, 9, 11, 12, 16, 18, 19, 20, 22, 23, 24, 25, 26, 28, 29, 31, 33, 34, 36, 39, 40, 41, 42, 45, 46, 47]\",\"[0, 9, 11, 12, 16, 18, 19, 20, 22, 23, 24, 25, 26, 28, 29, 31, 33, 34, 36, 40, 41, 42, 45, 46, 47]\",\"[0, 9, 11, 12, 16, 18, 19, 20, 22, 23, 24, 25, 26, 29, 31, 33, 34, 36, 40, 41, 42, 45, 46, 47]\",\"[0, 9, 11, 12, 16, 18, 19, 20, 22, 23, 25, 26, 29, 31, 33, 34, 36, 40, 41, 42, 45, 46, 47]\",\"[0, 9, 11, 12, 16, 19, 20, 22, 23, 25, 26, 29, 31, 33, 34, 36, 40, 41, 42, 45, 46, 47]\",\"[0, 11, 12, 16, 19, 20, 22, 23, 25, 26, 29, 31, 33, 34, 36, 40, 41, 42, 45, 46, 47]\",\"[0, 11, 12, 16, 19, 20, 22, 23, 25, 29, 31, 33, 34, 36, 40, 41, 42, 45, 46, 47]\",\"[0, 11, 12, 16, 19, 20, 22, 23, 25, 29, 33, 34, 36, 40, 41, 42, 45, 46, 47]\",\"[0, 11, 12, 16, 19, 20, 22, 23, 25, 29, 33, 34, 36, 40, 41, 45, 46, 47]\",\"[0, 11, 12, 16, 19, 20, 22, 25, 29, 33, 34, 36, 40, 41, 45, 46, 47]\",\"[0, 11, 12, 16, 19, 20, 22, 25, 29, 34, 36, 40, 41, 45, 46, 47]\",\"[0, 11, 12, 16, 19, 20, 22, 29, 34, 36, 40, 41, 45, 46, 47]\",\"[0, 11, 12, 16, 19, 22, 29, 34, 36, 40, 41, 45, 46, 47]\",\"[0, 11, 12, 16, 19, 29, 34, 36, 40, 41, 45, 46, 47]\",\"[0, 11, 12, 16, 19, 29, 34, 36, 40, 41, 45, 46]\",\"[0, 11, 12, 16, 19, 29, 34, 36, 40, 41, 45]\",\"[0, 11, 12, 16, 19, 29, 34, 36, 41, 45]\",\"[0, 11, 12, 16, 19, 29, 34, 36, 41]\",\"[0, 11, 12, 16, 19, 29, 34, 36]\",\"[0, 11, 12, 16, 19, 34, 36]\",\"[0, 12, 16, 19, 34, 36]\",\"[0, 12, 16, 34, 36]\",\"[0, 16, 34, 36]\",\"[0, 34, 36]\",\"[0, 36]\",\"[36]\"]},\"yaxis\":{\"anchor\":\"x\",\"domain\":[0.0,1.0],\"title\":{\"text\":\" pr of correct\"}},\"legend\":{\"tracegroupgap\":0},\"title\":{\"text\":\"greater than pruning layers pr correct\"},\"barmode\":\"relative\",\"font\":{\"size\":4,\"color\":\"black\"}},                        {\"responsive\": true}                    ).then(function(){\n",
       "                            \n",
       "var gd = document.getElementById('ad3c984f-a05d-4762-967b-ad4d0fa9ee67');\n",
       "var x = new MutationObserver(function (mutations, observer) {{\n",
       "        var display = window.getComputedStyle(gd).display;\n",
       "        if (!display || display === 'none') {{\n",
       "            console.log([gd, 'removed!']);\n",
       "            Plotly.purge(gd);\n",
       "            observer.disconnect();\n",
       "        }}\n",
       "}});\n",
       "\n",
       "// Listen for the removal of the full notebook cells\n",
       "var notebookContainer = gd.closest('#notebook-container');\n",
       "if (notebookContainer) {{\n",
       "    x.observe(notebookContainer, {childList: true});\n",
       "}}\n",
       "\n",
       "// Listen for the clearing of the current output cell\n",
       "var outputEl = gd.closest('.output');\n",
       "if (outputEl) {{\n",
       "    x.observe(outputEl, {childList: true});\n",
       "}}\n",
       "\n",
       "                        })                };                });            </script>        </div>"
      ]
     },
     "metadata": {},
     "output_type": "display_data"
    },
    {
     "data": {
      "application/vnd.plotly.v1+json": {
       "config": {
        "plotlyServerURL": "https://plot.ly"
       },
       "data": [
        {
         "alignmentgroup": "True",
         "hovertemplate": "x=%{x}<br> pr of incorrect=%{y}<extra></extra>",
         "legendgroup": "",
         "marker": {
          "color": "#636efa",
          "pattern": {
           "shape": ""
          }
         },
         "name": "",
         "offsetgroup": "",
         "orientation": "v",
         "showlegend": false,
         "textposition": "auto",
         "type": "bar",
         "x": [
          "[0, 1, 2, 3, 4, 5, 6, 7, 8, 9, 10, 11, 12, 13, 14, 15, 16, 17, 18, 19, 20, 21, 22, 23, 24, 25, 26, 27, 28, 29, 30, 31, 32, 33, 34, 35, 36, 37, 38, 39, 40, 41, 42, 43, 44, 45, 46, 47]",
          "[0, 1, 2, 3, 4, 5, 6, 7, 8, 9, 10, 11, 12, 13, 14, 15, 16, 17, 18, 19, 20, 21, 22, 23, 24, 25, 26, 27, 28, 29, 30, 31, 32, 33, 34, 35, 36, 37, 38, 39, 40, 41, 42, 43, 45, 46, 47]",
          "[0, 2, 3, 4, 5, 6, 7, 8, 9, 10, 11, 12, 13, 14, 15, 16, 17, 18, 19, 20, 21, 22, 23, 24, 25, 26, 27, 28, 29, 30, 31, 32, 33, 34, 35, 36, 37, 38, 39, 40, 41, 42, 43, 45, 46, 47]",
          "[0, 3, 4, 5, 6, 7, 8, 9, 10, 11, 12, 13, 14, 15, 16, 17, 18, 19, 20, 21, 22, 23, 24, 25, 26, 27, 28, 29, 30, 31, 32, 33, 34, 35, 36, 37, 38, 39, 40, 41, 42, 43, 45, 46, 47]",
          "[0, 3, 4, 5, 7, 8, 9, 10, 11, 12, 13, 14, 15, 16, 17, 18, 19, 20, 21, 22, 23, 24, 25, 26, 27, 28, 29, 30, 31, 32, 33, 34, 35, 36, 37, 38, 39, 40, 41, 42, 43, 45, 46, 47]",
          "[0, 3, 4, 5, 8, 9, 10, 11, 12, 13, 14, 15, 16, 17, 18, 19, 20, 21, 22, 23, 24, 25, 26, 27, 28, 29, 30, 31, 32, 33, 34, 35, 36, 37, 38, 39, 40, 41, 42, 43, 45, 46, 47]",
          "[0, 4, 5, 8, 9, 10, 11, 12, 13, 14, 15, 16, 17, 18, 19, 20, 21, 22, 23, 24, 25, 26, 27, 28, 29, 30, 31, 32, 33, 34, 35, 36, 37, 38, 39, 40, 41, 42, 43, 45, 46, 47]",
          "[0, 4, 8, 9, 10, 11, 12, 13, 14, 15, 16, 17, 18, 19, 20, 21, 22, 23, 24, 25, 26, 27, 28, 29, 30, 31, 32, 33, 34, 35, 36, 37, 38, 39, 40, 41, 42, 43, 45, 46, 47]",
          "[0, 4, 9, 10, 11, 12, 13, 14, 15, 16, 17, 18, 19, 20, 21, 22, 23, 24, 25, 26, 27, 28, 29, 30, 31, 32, 33, 34, 35, 36, 37, 38, 39, 40, 41, 42, 43, 45, 46, 47]",
          "[0, 4, 9, 11, 12, 13, 14, 15, 16, 17, 18, 19, 20, 21, 22, 23, 24, 25, 26, 27, 28, 29, 30, 31, 32, 33, 34, 35, 36, 37, 38, 39, 40, 41, 42, 43, 45, 46, 47]",
          "[0, 4, 9, 11, 12, 14, 15, 16, 17, 18, 19, 20, 21, 22, 23, 24, 25, 26, 27, 28, 29, 30, 31, 32, 33, 34, 35, 36, 37, 38, 39, 40, 41, 42, 43, 45, 46, 47]",
          "[0, 4, 9, 11, 12, 15, 16, 17, 18, 19, 20, 21, 22, 23, 24, 25, 26, 27, 28, 29, 30, 31, 32, 33, 34, 35, 36, 37, 38, 39, 40, 41, 42, 43, 45, 46, 47]",
          "[0, 9, 11, 12, 15, 16, 17, 18, 19, 20, 21, 22, 23, 24, 25, 26, 27, 28, 29, 30, 31, 32, 33, 34, 35, 36, 37, 38, 39, 40, 41, 42, 43, 45, 46, 47]",
          "[0, 9, 11, 12, 15, 16, 17, 18, 19, 20, 21, 22, 23, 24, 25, 26, 27, 28, 29, 30, 31, 32, 33, 34, 35, 36, 38, 39, 40, 41, 42, 43, 45, 46, 47]",
          "[0, 9, 11, 12, 15, 16, 17, 18, 19, 20, 21, 22, 23, 24, 25, 26, 27, 28, 29, 31, 32, 33, 34, 35, 36, 38, 39, 40, 41, 42, 43, 45, 46, 47]",
          "[0, 9, 11, 12, 15, 16, 17, 18, 19, 20, 21, 22, 23, 24, 25, 26, 28, 29, 31, 32, 33, 34, 35, 36, 38, 39, 40, 41, 42, 43, 45, 46, 47]",
          "[0, 9, 11, 12, 15, 16, 17, 18, 19, 20, 21, 22, 23, 24, 25, 26, 28, 29, 31, 32, 33, 34, 36, 38, 39, 40, 41, 42, 43, 45, 46, 47]",
          "[0, 9, 11, 12, 15, 16, 17, 18, 19, 20, 21, 22, 23, 24, 25, 26, 28, 29, 31, 32, 33, 34, 36, 39, 40, 41, 42, 43, 45, 46, 47]",
          "[0, 9, 11, 12, 15, 16, 17, 18, 19, 20, 21, 22, 23, 24, 25, 26, 28, 29, 31, 33, 34, 36, 39, 40, 41, 42, 43, 45, 46, 47]",
          "[0, 9, 11, 12, 15, 16, 17, 18, 19, 20, 22, 23, 24, 25, 26, 28, 29, 31, 33, 34, 36, 39, 40, 41, 42, 43, 45, 46, 47]",
          "[0, 9, 11, 12, 16, 17, 18, 19, 20, 22, 23, 24, 25, 26, 28, 29, 31, 33, 34, 36, 39, 40, 41, 42, 43, 45, 46, 47]",
          "[0, 9, 11, 12, 16, 18, 19, 20, 22, 23, 24, 25, 26, 28, 29, 31, 33, 34, 36, 39, 40, 41, 42, 43, 45, 46, 47]",
          "[0, 9, 11, 12, 16, 18, 19, 20, 22, 23, 24, 25, 26, 28, 29, 31, 33, 34, 36, 39, 40, 41, 42, 45, 46, 47]",
          "[0, 9, 11, 12, 16, 18, 19, 20, 22, 23, 24, 25, 26, 28, 29, 31, 33, 34, 36, 40, 41, 42, 45, 46, 47]",
          "[0, 9, 11, 12, 16, 18, 19, 20, 22, 23, 24, 25, 26, 29, 31, 33, 34, 36, 40, 41, 42, 45, 46, 47]",
          "[0, 9, 11, 12, 16, 18, 19, 20, 22, 23, 25, 26, 29, 31, 33, 34, 36, 40, 41, 42, 45, 46, 47]",
          "[0, 9, 11, 12, 16, 19, 20, 22, 23, 25, 26, 29, 31, 33, 34, 36, 40, 41, 42, 45, 46, 47]",
          "[0, 11, 12, 16, 19, 20, 22, 23, 25, 26, 29, 31, 33, 34, 36, 40, 41, 42, 45, 46, 47]",
          "[0, 11, 12, 16, 19, 20, 22, 23, 25, 29, 31, 33, 34, 36, 40, 41, 42, 45, 46, 47]",
          "[0, 11, 12, 16, 19, 20, 22, 23, 25, 29, 33, 34, 36, 40, 41, 42, 45, 46, 47]",
          "[0, 11, 12, 16, 19, 20, 22, 23, 25, 29, 33, 34, 36, 40, 41, 45, 46, 47]",
          "[0, 11, 12, 16, 19, 20, 22, 25, 29, 33, 34, 36, 40, 41, 45, 46, 47]",
          "[0, 11, 12, 16, 19, 20, 22, 25, 29, 34, 36, 40, 41, 45, 46, 47]",
          "[0, 11, 12, 16, 19, 20, 22, 29, 34, 36, 40, 41, 45, 46, 47]",
          "[0, 11, 12, 16, 19, 22, 29, 34, 36, 40, 41, 45, 46, 47]",
          "[0, 11, 12, 16, 19, 29, 34, 36, 40, 41, 45, 46, 47]",
          "[0, 11, 12, 16, 19, 29, 34, 36, 40, 41, 45, 46]",
          "[0, 11, 12, 16, 19, 29, 34, 36, 40, 41, 45]",
          "[0, 11, 12, 16, 19, 29, 34, 36, 41, 45]",
          "[0, 11, 12, 16, 19, 29, 34, 36, 41]",
          "[0, 11, 12, 16, 19, 29, 34, 36]",
          "[0, 11, 12, 16, 19, 34, 36]",
          "[0, 12, 16, 19, 34, 36]",
          "[0, 12, 16, 34, 36]",
          "[0, 16, 34, 36]",
          "[0, 34, 36]",
          "[0, 36]",
          "[36]"
         ],
         "xaxis": "x",
         "y": [
          0.022318443283438683,
          0.04429662972688675,
          0.06023723632097244,
          0.10106740891933441,
          0.09306599199771881,
          0.06687082350254059,
          0.06958553940057755,
          0.06894385814666748,
          0.06659113615751266,
          0.07275109738111496,
          0.10089991241693497,
          0.11747725307941437,
          0.11583003401756287,
          0.2063140869140625,
          0.21041597425937653,
          0.18776153028011322,
          0.15639548003673553,
          0.15386182069778442,
          0.12282224744558334,
          0.12725624442100525,
          0.2086137980222702,
          0.17427322268486023,
          0.15105655789375305,
          0.13182476162910461,
          0.11759068816900253,
          0.11292890459299088,
          0.1464317888021469,
          0.1770275980234146,
          0.18182574212551117,
          0.1997438222169876,
          0.2170390486717224,
          0.27964481711387634,
          0.14059171080589294,
          0.11835645139217377,
          0.17692506313323975,
          0.2744859755039215,
          0.1205839142203331,
          0.12683574855327606,
          0.2514665424823761,
          0.18930891156196594,
          0.19442707300186157,
          0.274895578622818,
          0.7124673128128052,
          0.6037721633911133,
          0.2829076647758484,
          0.5234177112579346,
          0.9050986766815186,
          0.3803967237472534
         ],
         "yaxis": "y"
        }
       ],
       "layout": {
        "autosize": true,
        "barmode": "relative",
        "font": {
         "color": "black",
         "size": 4
        },
        "legend": {
         "tracegroupgap": 0
        },
        "template": {
         "data": {
          "bar": [
           {
            "error_x": {
             "color": "#2a3f5f"
            },
            "error_y": {
             "color": "#2a3f5f"
            },
            "marker": {
             "line": {
              "color": "#E5ECF6",
              "width": 0.5
             },
             "pattern": {
              "fillmode": "overlay",
              "size": 10,
              "solidity": 0.2
             }
            },
            "type": "bar"
           }
          ],
          "barpolar": [
           {
            "marker": {
             "line": {
              "color": "#E5ECF6",
              "width": 0.5
             },
             "pattern": {
              "fillmode": "overlay",
              "size": 10,
              "solidity": 0.2
             }
            },
            "type": "barpolar"
           }
          ],
          "carpet": [
           {
            "aaxis": {
             "endlinecolor": "#2a3f5f",
             "gridcolor": "white",
             "linecolor": "white",
             "minorgridcolor": "white",
             "startlinecolor": "#2a3f5f"
            },
            "baxis": {
             "endlinecolor": "#2a3f5f",
             "gridcolor": "white",
             "linecolor": "white",
             "minorgridcolor": "white",
             "startlinecolor": "#2a3f5f"
            },
            "type": "carpet"
           }
          ],
          "choropleth": [
           {
            "colorbar": {
             "outlinewidth": 0,
             "ticks": ""
            },
            "type": "choropleth"
           }
          ],
          "contour": [
           {
            "colorbar": {
             "outlinewidth": 0,
             "ticks": ""
            },
            "colorscale": [
             [
              0,
              "#0d0887"
             ],
             [
              0.1111111111111111,
              "#46039f"
             ],
             [
              0.2222222222222222,
              "#7201a8"
             ],
             [
              0.3333333333333333,
              "#9c179e"
             ],
             [
              0.4444444444444444,
              "#bd3786"
             ],
             [
              0.5555555555555556,
              "#d8576b"
             ],
             [
              0.6666666666666666,
              "#ed7953"
             ],
             [
              0.7777777777777778,
              "#fb9f3a"
             ],
             [
              0.8888888888888888,
              "#fdca26"
             ],
             [
              1,
              "#f0f921"
             ]
            ],
            "type": "contour"
           }
          ],
          "contourcarpet": [
           {
            "colorbar": {
             "outlinewidth": 0,
             "ticks": ""
            },
            "type": "contourcarpet"
           }
          ],
          "heatmap": [
           {
            "colorbar": {
             "outlinewidth": 0,
             "ticks": ""
            },
            "colorscale": [
             [
              0,
              "#0d0887"
             ],
             [
              0.1111111111111111,
              "#46039f"
             ],
             [
              0.2222222222222222,
              "#7201a8"
             ],
             [
              0.3333333333333333,
              "#9c179e"
             ],
             [
              0.4444444444444444,
              "#bd3786"
             ],
             [
              0.5555555555555556,
              "#d8576b"
             ],
             [
              0.6666666666666666,
              "#ed7953"
             ],
             [
              0.7777777777777778,
              "#fb9f3a"
             ],
             [
              0.8888888888888888,
              "#fdca26"
             ],
             [
              1,
              "#f0f921"
             ]
            ],
            "type": "heatmap"
           }
          ],
          "heatmapgl": [
           {
            "colorbar": {
             "outlinewidth": 0,
             "ticks": ""
            },
            "colorscale": [
             [
              0,
              "#0d0887"
             ],
             [
              0.1111111111111111,
              "#46039f"
             ],
             [
              0.2222222222222222,
              "#7201a8"
             ],
             [
              0.3333333333333333,
              "#9c179e"
             ],
             [
              0.4444444444444444,
              "#bd3786"
             ],
             [
              0.5555555555555556,
              "#d8576b"
             ],
             [
              0.6666666666666666,
              "#ed7953"
             ],
             [
              0.7777777777777778,
              "#fb9f3a"
             ],
             [
              0.8888888888888888,
              "#fdca26"
             ],
             [
              1,
              "#f0f921"
             ]
            ],
            "type": "heatmapgl"
           }
          ],
          "histogram": [
           {
            "marker": {
             "pattern": {
              "fillmode": "overlay",
              "size": 10,
              "solidity": 0.2
             }
            },
            "type": "histogram"
           }
          ],
          "histogram2d": [
           {
            "colorbar": {
             "outlinewidth": 0,
             "ticks": ""
            },
            "colorscale": [
             [
              0,
              "#0d0887"
             ],
             [
              0.1111111111111111,
              "#46039f"
             ],
             [
              0.2222222222222222,
              "#7201a8"
             ],
             [
              0.3333333333333333,
              "#9c179e"
             ],
             [
              0.4444444444444444,
              "#bd3786"
             ],
             [
              0.5555555555555556,
              "#d8576b"
             ],
             [
              0.6666666666666666,
              "#ed7953"
             ],
             [
              0.7777777777777778,
              "#fb9f3a"
             ],
             [
              0.8888888888888888,
              "#fdca26"
             ],
             [
              1,
              "#f0f921"
             ]
            ],
            "type": "histogram2d"
           }
          ],
          "histogram2dcontour": [
           {
            "colorbar": {
             "outlinewidth": 0,
             "ticks": ""
            },
            "colorscale": [
             [
              0,
              "#0d0887"
             ],
             [
              0.1111111111111111,
              "#46039f"
             ],
             [
              0.2222222222222222,
              "#7201a8"
             ],
             [
              0.3333333333333333,
              "#9c179e"
             ],
             [
              0.4444444444444444,
              "#bd3786"
             ],
             [
              0.5555555555555556,
              "#d8576b"
             ],
             [
              0.6666666666666666,
              "#ed7953"
             ],
             [
              0.7777777777777778,
              "#fb9f3a"
             ],
             [
              0.8888888888888888,
              "#fdca26"
             ],
             [
              1,
              "#f0f921"
             ]
            ],
            "type": "histogram2dcontour"
           }
          ],
          "mesh3d": [
           {
            "colorbar": {
             "outlinewidth": 0,
             "ticks": ""
            },
            "type": "mesh3d"
           }
          ],
          "parcoords": [
           {
            "line": {
             "colorbar": {
              "outlinewidth": 0,
              "ticks": ""
             }
            },
            "type": "parcoords"
           }
          ],
          "pie": [
           {
            "automargin": true,
            "type": "pie"
           }
          ],
          "scatter": [
           {
            "fillpattern": {
             "fillmode": "overlay",
             "size": 10,
             "solidity": 0.2
            },
            "type": "scatter"
           }
          ],
          "scatter3d": [
           {
            "line": {
             "colorbar": {
              "outlinewidth": 0,
              "ticks": ""
             }
            },
            "marker": {
             "colorbar": {
              "outlinewidth": 0,
              "ticks": ""
             }
            },
            "type": "scatter3d"
           }
          ],
          "scattercarpet": [
           {
            "marker": {
             "colorbar": {
              "outlinewidth": 0,
              "ticks": ""
             }
            },
            "type": "scattercarpet"
           }
          ],
          "scattergeo": [
           {
            "marker": {
             "colorbar": {
              "outlinewidth": 0,
              "ticks": ""
             }
            },
            "type": "scattergeo"
           }
          ],
          "scattergl": [
           {
            "marker": {
             "colorbar": {
              "outlinewidth": 0,
              "ticks": ""
             }
            },
            "type": "scattergl"
           }
          ],
          "scattermapbox": [
           {
            "marker": {
             "colorbar": {
              "outlinewidth": 0,
              "ticks": ""
             }
            },
            "type": "scattermapbox"
           }
          ],
          "scatterpolar": [
           {
            "marker": {
             "colorbar": {
              "outlinewidth": 0,
              "ticks": ""
             }
            },
            "type": "scatterpolar"
           }
          ],
          "scatterpolargl": [
           {
            "marker": {
             "colorbar": {
              "outlinewidth": 0,
              "ticks": ""
             }
            },
            "type": "scatterpolargl"
           }
          ],
          "scatterternary": [
           {
            "marker": {
             "colorbar": {
              "outlinewidth": 0,
              "ticks": ""
             }
            },
            "type": "scatterternary"
           }
          ],
          "surface": [
           {
            "colorbar": {
             "outlinewidth": 0,
             "ticks": ""
            },
            "colorscale": [
             [
              0,
              "#0d0887"
             ],
             [
              0.1111111111111111,
              "#46039f"
             ],
             [
              0.2222222222222222,
              "#7201a8"
             ],
             [
              0.3333333333333333,
              "#9c179e"
             ],
             [
              0.4444444444444444,
              "#bd3786"
             ],
             [
              0.5555555555555556,
              "#d8576b"
             ],
             [
              0.6666666666666666,
              "#ed7953"
             ],
             [
              0.7777777777777778,
              "#fb9f3a"
             ],
             [
              0.8888888888888888,
              "#fdca26"
             ],
             [
              1,
              "#f0f921"
             ]
            ],
            "type": "surface"
           }
          ],
          "table": [
           {
            "cells": {
             "fill": {
              "color": "#EBF0F8"
             },
             "line": {
              "color": "white"
             }
            },
            "header": {
             "fill": {
              "color": "#C8D4E3"
             },
             "line": {
              "color": "white"
             }
            },
            "type": "table"
           }
          ]
         },
         "layout": {
          "annotationdefaults": {
           "arrowcolor": "#2a3f5f",
           "arrowhead": 0,
           "arrowwidth": 1
          },
          "autotypenumbers": "strict",
          "coloraxis": {
           "colorbar": {
            "outlinewidth": 0,
            "ticks": ""
           }
          },
          "colorscale": {
           "diverging": [
            [
             0,
             "#8e0152"
            ],
            [
             0.1,
             "#c51b7d"
            ],
            [
             0.2,
             "#de77ae"
            ],
            [
             0.3,
             "#f1b6da"
            ],
            [
             0.4,
             "#fde0ef"
            ],
            [
             0.5,
             "#f7f7f7"
            ],
            [
             0.6,
             "#e6f5d0"
            ],
            [
             0.7,
             "#b8e186"
            ],
            [
             0.8,
             "#7fbc41"
            ],
            [
             0.9,
             "#4d9221"
            ],
            [
             1,
             "#276419"
            ]
           ],
           "sequential": [
            [
             0,
             "#0d0887"
            ],
            [
             0.1111111111111111,
             "#46039f"
            ],
            [
             0.2222222222222222,
             "#7201a8"
            ],
            [
             0.3333333333333333,
             "#9c179e"
            ],
            [
             0.4444444444444444,
             "#bd3786"
            ],
            [
             0.5555555555555556,
             "#d8576b"
            ],
            [
             0.6666666666666666,
             "#ed7953"
            ],
            [
             0.7777777777777778,
             "#fb9f3a"
            ],
            [
             0.8888888888888888,
             "#fdca26"
            ],
            [
             1,
             "#f0f921"
            ]
           ],
           "sequentialminus": [
            [
             0,
             "#0d0887"
            ],
            [
             0.1111111111111111,
             "#46039f"
            ],
            [
             0.2222222222222222,
             "#7201a8"
            ],
            [
             0.3333333333333333,
             "#9c179e"
            ],
            [
             0.4444444444444444,
             "#bd3786"
            ],
            [
             0.5555555555555556,
             "#d8576b"
            ],
            [
             0.6666666666666666,
             "#ed7953"
            ],
            [
             0.7777777777777778,
             "#fb9f3a"
            ],
            [
             0.8888888888888888,
             "#fdca26"
            ],
            [
             1,
             "#f0f921"
            ]
           ]
          },
          "colorway": [
           "#636efa",
           "#EF553B",
           "#00cc96",
           "#ab63fa",
           "#FFA15A",
           "#19d3f3",
           "#FF6692",
           "#B6E880",
           "#FF97FF",
           "#FECB52"
          ],
          "font": {
           "color": "#2a3f5f"
          },
          "geo": {
           "bgcolor": "white",
           "lakecolor": "white",
           "landcolor": "#E5ECF6",
           "showlakes": true,
           "showland": true,
           "subunitcolor": "white"
          },
          "hoverlabel": {
           "align": "left"
          },
          "hovermode": "closest",
          "mapbox": {
           "style": "light"
          },
          "paper_bgcolor": "white",
          "plot_bgcolor": "#E5ECF6",
          "polar": {
           "angularaxis": {
            "gridcolor": "white",
            "linecolor": "white",
            "ticks": ""
           },
           "bgcolor": "#E5ECF6",
           "radialaxis": {
            "gridcolor": "white",
            "linecolor": "white",
            "ticks": ""
           }
          },
          "scene": {
           "xaxis": {
            "backgroundcolor": "#E5ECF6",
            "gridcolor": "white",
            "gridwidth": 2,
            "linecolor": "white",
            "showbackground": true,
            "ticks": "",
            "zerolinecolor": "white"
           },
           "yaxis": {
            "backgroundcolor": "#E5ECF6",
            "gridcolor": "white",
            "gridwidth": 2,
            "linecolor": "white",
            "showbackground": true,
            "ticks": "",
            "zerolinecolor": "white"
           },
           "zaxis": {
            "backgroundcolor": "#E5ECF6",
            "gridcolor": "white",
            "gridwidth": 2,
            "linecolor": "white",
            "showbackground": true,
            "ticks": "",
            "zerolinecolor": "white"
           }
          },
          "shapedefaults": {
           "line": {
            "color": "#2a3f5f"
           }
          },
          "ternary": {
           "aaxis": {
            "gridcolor": "white",
            "linecolor": "white",
            "ticks": ""
           },
           "baxis": {
            "gridcolor": "white",
            "linecolor": "white",
            "ticks": ""
           },
           "bgcolor": "#E5ECF6",
           "caxis": {
            "gridcolor": "white",
            "linecolor": "white",
            "ticks": ""
           }
          },
          "title": {
           "x": 0.05
          },
          "xaxis": {
           "automargin": true,
           "gridcolor": "white",
           "linecolor": "white",
           "ticks": "",
           "title": {
            "standoff": 15
           },
           "zerolinecolor": "white",
           "zerolinewidth": 2
          },
          "yaxis": {
           "automargin": true,
           "gridcolor": "white",
           "linecolor": "white",
           "ticks": "",
           "title": {
            "standoff": 15
           },
           "zerolinecolor": "white",
           "zerolinewidth": 2
          }
         }
        },
        "title": {
         "text": "greater than pruning layers pr incorrect"
        },
        "xaxis": {
         "anchor": "y",
         "autorange": true,
         "domain": [
          0,
          1
         ],
         "range": [
          -0.5,
          47.5
         ],
         "tickmode": "array",
         "ticktext": [
          "[0, 1, 2, 3, 4, 5, 6, 7, 8, 9, 10, 11, 12, 13, 14, 15, 16, 17, 18, 19, 20, 21, 22, 23, 24, 25, 26, 27, 28, 29, 30, 31, 32, 33, 34, 35, 36, 37, 38, 39, 40, 41, 42, 43, 44, 45, 46, 47]",
          "[0, 1, 2, 3, 4, 5, 6, 7, 8, 9, 10, 11, 12, 13, 14, 15, 16, 17, 18, 19, 20, 21, 22, 23, 24, 25, 26, 27, 28, 29, 30, 31, 32, 33, 34, 35, 36, 37, 38, 39, 40, 41, 42, 43, 45, 46, 47]",
          "[0, 2, 3, 4, 5, 6, 7, 8, 9, 10, 11, 12, 13, 14, 15, 16, 17, 18, 19, 20, 21, 22, 23, 24, 25, 26, 27, 28, 29, 30, 31, 32, 33, 34, 35, 36, 37, 38, 39, 40, 41, 42, 43, 45, 46, 47]",
          "[0, 3, 4, 5, 6, 7, 8, 9, 10, 11, 12, 13, 14, 15, 16, 17, 18, 19, 20, 21, 22, 23, 24, 25, 26, 27, 28, 29, 30, 31, 32, 33, 34, 35, 36, 37, 38, 39, 40, 41, 42, 43, 45, 46, 47]",
          "[0, 3, 4, 5, 7, 8, 9, 10, 11, 12, 13, 14, 15, 16, 17, 18, 19, 20, 21, 22, 23, 24, 25, 26, 27, 28, 29, 30, 31, 32, 33, 34, 35, 36, 37, 38, 39, 40, 41, 42, 43, 45, 46, 47]",
          "[0, 3, 4, 5, 8, 9, 10, 11, 12, 13, 14, 15, 16, 17, 18, 19, 20, 21, 22, 23, 24, 25, 26, 27, 28, 29, 30, 31, 32, 33, 34, 35, 36, 37, 38, 39, 40, 41, 42, 43, 45, 46, 47]",
          "[0, 4, 5, 8, 9, 10, 11, 12, 13, 14, 15, 16, 17, 18, 19, 20, 21, 22, 23, 24, 25, 26, 27, 28, 29, 30, 31, 32, 33, 34, 35, 36, 37, 38, 39, 40, 41, 42, 43, 45, 46, 47]",
          "[0, 4, 8, 9, 10, 11, 12, 13, 14, 15, 16, 17, 18, 19, 20, 21, 22, 23, 24, 25, 26, 27, 28, 29, 30, 31, 32, 33, 34, 35, 36, 37, 38, 39, 40, 41, 42, 43, 45, 46, 47]",
          "[0, 4, 9, 10, 11, 12, 13, 14, 15, 16, 17, 18, 19, 20, 21, 22, 23, 24, 25, 26, 27, 28, 29, 30, 31, 32, 33, 34, 35, 36, 37, 38, 39, 40, 41, 42, 43, 45, 46, 47]",
          "[0, 4, 9, 11, 12, 13, 14, 15, 16, 17, 18, 19, 20, 21, 22, 23, 24, 25, 26, 27, 28, 29, 30, 31, 32, 33, 34, 35, 36, 37, 38, 39, 40, 41, 42, 43, 45, 46, 47]",
          "[0, 4, 9, 11, 12, 14, 15, 16, 17, 18, 19, 20, 21, 22, 23, 24, 25, 26, 27, 28, 29, 30, 31, 32, 33, 34, 35, 36, 37, 38, 39, 40, 41, 42, 43, 45, 46, 47]",
          "[0, 4, 9, 11, 12, 15, 16, 17, 18, 19, 20, 21, 22, 23, 24, 25, 26, 27, 28, 29, 30, 31, 32, 33, 34, 35, 36, 37, 38, 39, 40, 41, 42, 43, 45, 46, 47]",
          "[0, 9, 11, 12, 15, 16, 17, 18, 19, 20, 21, 22, 23, 24, 25, 26, 27, 28, 29, 30, 31, 32, 33, 34, 35, 36, 37, 38, 39, 40, 41, 42, 43, 45, 46, 47]",
          "[0, 9, 11, 12, 15, 16, 17, 18, 19, 20, 21, 22, 23, 24, 25, 26, 27, 28, 29, 30, 31, 32, 33, 34, 35, 36, 38, 39, 40, 41, 42, 43, 45, 46, 47]",
          "[0, 9, 11, 12, 15, 16, 17, 18, 19, 20, 21, 22, 23, 24, 25, 26, 27, 28, 29, 31, 32, 33, 34, 35, 36, 38, 39, 40, 41, 42, 43, 45, 46, 47]",
          "[0, 9, 11, 12, 15, 16, 17, 18, 19, 20, 21, 22, 23, 24, 25, 26, 28, 29, 31, 32, 33, 34, 35, 36, 38, 39, 40, 41, 42, 43, 45, 46, 47]",
          "[0, 9, 11, 12, 15, 16, 17, 18, 19, 20, 21, 22, 23, 24, 25, 26, 28, 29, 31, 32, 33, 34, 36, 38, 39, 40, 41, 42, 43, 45, 46, 47]",
          "[0, 9, 11, 12, 15, 16, 17, 18, 19, 20, 21, 22, 23, 24, 25, 26, 28, 29, 31, 32, 33, 34, 36, 39, 40, 41, 42, 43, 45, 46, 47]",
          "[0, 9, 11, 12, 15, 16, 17, 18, 19, 20, 21, 22, 23, 24, 25, 26, 28, 29, 31, 33, 34, 36, 39, 40, 41, 42, 43, 45, 46, 47]",
          "[0, 9, 11, 12, 15, 16, 17, 18, 19, 20, 22, 23, 24, 25, 26, 28, 29, 31, 33, 34, 36, 39, 40, 41, 42, 43, 45, 46, 47]",
          "[0, 9, 11, 12, 16, 17, 18, 19, 20, 22, 23, 24, 25, 26, 28, 29, 31, 33, 34, 36, 39, 40, 41, 42, 43, 45, 46, 47]",
          "[0, 9, 11, 12, 16, 18, 19, 20, 22, 23, 24, 25, 26, 28, 29, 31, 33, 34, 36, 39, 40, 41, 42, 43, 45, 46, 47]",
          "[0, 9, 11, 12, 16, 18, 19, 20, 22, 23, 24, 25, 26, 28, 29, 31, 33, 34, 36, 39, 40, 41, 42, 45, 46, 47]",
          "[0, 9, 11, 12, 16, 18, 19, 20, 22, 23, 24, 25, 26, 28, 29, 31, 33, 34, 36, 40, 41, 42, 45, 46, 47]",
          "[0, 9, 11, 12, 16, 18, 19, 20, 22, 23, 24, 25, 26, 29, 31, 33, 34, 36, 40, 41, 42, 45, 46, 47]",
          "[0, 9, 11, 12, 16, 18, 19, 20, 22, 23, 25, 26, 29, 31, 33, 34, 36, 40, 41, 42, 45, 46, 47]",
          "[0, 9, 11, 12, 16, 19, 20, 22, 23, 25, 26, 29, 31, 33, 34, 36, 40, 41, 42, 45, 46, 47]",
          "[0, 11, 12, 16, 19, 20, 22, 23, 25, 26, 29, 31, 33, 34, 36, 40, 41, 42, 45, 46, 47]",
          "[0, 11, 12, 16, 19, 20, 22, 23, 25, 29, 31, 33, 34, 36, 40, 41, 42, 45, 46, 47]",
          "[0, 11, 12, 16, 19, 20, 22, 23, 25, 29, 33, 34, 36, 40, 41, 42, 45, 46, 47]",
          "[0, 11, 12, 16, 19, 20, 22, 23, 25, 29, 33, 34, 36, 40, 41, 45, 46, 47]",
          "[0, 11, 12, 16, 19, 20, 22, 25, 29, 33, 34, 36, 40, 41, 45, 46, 47]",
          "[0, 11, 12, 16, 19, 20, 22, 25, 29, 34, 36, 40, 41, 45, 46, 47]",
          "[0, 11, 12, 16, 19, 20, 22, 29, 34, 36, 40, 41, 45, 46, 47]",
          "[0, 11, 12, 16, 19, 22, 29, 34, 36, 40, 41, 45, 46, 47]",
          "[0, 11, 12, 16, 19, 29, 34, 36, 40, 41, 45, 46, 47]",
          "[0, 11, 12, 16, 19, 29, 34, 36, 40, 41, 45, 46]",
          "[0, 11, 12, 16, 19, 29, 34, 36, 40, 41, 45]",
          "[0, 11, 12, 16, 19, 29, 34, 36, 41, 45]",
          "[0, 11, 12, 16, 19, 29, 34, 36, 41]",
          "[0, 11, 12, 16, 19, 29, 34, 36]",
          "[0, 11, 12, 16, 19, 34, 36]",
          "[0, 12, 16, 19, 34, 36]",
          "[0, 12, 16, 34, 36]",
          "[0, 16, 34, 36]",
          "[0, 34, 36]",
          "[0, 36]",
          "[36]"
         ],
         "tickvals": [
          "[0, 1, 2, 3, 4, 5, 6, 7, 8, 9, 10, 11, 12, 13, 14, 15, 16, 17, 18, 19, 20, 21, 22, 23, 24, 25, 26, 27, 28, 29, 30, 31, 32, 33, 34, 35, 36, 37, 38, 39, 40, 41, 42, 43, 44, 45, 46, 47]",
          "[0, 1, 2, 3, 4, 5, 6, 7, 8, 9, 10, 11, 12, 13, 14, 15, 16, 17, 18, 19, 20, 21, 22, 23, 24, 25, 26, 27, 28, 29, 30, 31, 32, 33, 34, 35, 36, 37, 38, 39, 40, 41, 42, 43, 45, 46, 47]",
          "[0, 2, 3, 4, 5, 6, 7, 8, 9, 10, 11, 12, 13, 14, 15, 16, 17, 18, 19, 20, 21, 22, 23, 24, 25, 26, 27, 28, 29, 30, 31, 32, 33, 34, 35, 36, 37, 38, 39, 40, 41, 42, 43, 45, 46, 47]",
          "[0, 3, 4, 5, 6, 7, 8, 9, 10, 11, 12, 13, 14, 15, 16, 17, 18, 19, 20, 21, 22, 23, 24, 25, 26, 27, 28, 29, 30, 31, 32, 33, 34, 35, 36, 37, 38, 39, 40, 41, 42, 43, 45, 46, 47]",
          "[0, 3, 4, 5, 7, 8, 9, 10, 11, 12, 13, 14, 15, 16, 17, 18, 19, 20, 21, 22, 23, 24, 25, 26, 27, 28, 29, 30, 31, 32, 33, 34, 35, 36, 37, 38, 39, 40, 41, 42, 43, 45, 46, 47]",
          "[0, 3, 4, 5, 8, 9, 10, 11, 12, 13, 14, 15, 16, 17, 18, 19, 20, 21, 22, 23, 24, 25, 26, 27, 28, 29, 30, 31, 32, 33, 34, 35, 36, 37, 38, 39, 40, 41, 42, 43, 45, 46, 47]",
          "[0, 4, 5, 8, 9, 10, 11, 12, 13, 14, 15, 16, 17, 18, 19, 20, 21, 22, 23, 24, 25, 26, 27, 28, 29, 30, 31, 32, 33, 34, 35, 36, 37, 38, 39, 40, 41, 42, 43, 45, 46, 47]",
          "[0, 4, 8, 9, 10, 11, 12, 13, 14, 15, 16, 17, 18, 19, 20, 21, 22, 23, 24, 25, 26, 27, 28, 29, 30, 31, 32, 33, 34, 35, 36, 37, 38, 39, 40, 41, 42, 43, 45, 46, 47]",
          "[0, 4, 9, 10, 11, 12, 13, 14, 15, 16, 17, 18, 19, 20, 21, 22, 23, 24, 25, 26, 27, 28, 29, 30, 31, 32, 33, 34, 35, 36, 37, 38, 39, 40, 41, 42, 43, 45, 46, 47]",
          "[0, 4, 9, 11, 12, 13, 14, 15, 16, 17, 18, 19, 20, 21, 22, 23, 24, 25, 26, 27, 28, 29, 30, 31, 32, 33, 34, 35, 36, 37, 38, 39, 40, 41, 42, 43, 45, 46, 47]",
          "[0, 4, 9, 11, 12, 14, 15, 16, 17, 18, 19, 20, 21, 22, 23, 24, 25, 26, 27, 28, 29, 30, 31, 32, 33, 34, 35, 36, 37, 38, 39, 40, 41, 42, 43, 45, 46, 47]",
          "[0, 4, 9, 11, 12, 15, 16, 17, 18, 19, 20, 21, 22, 23, 24, 25, 26, 27, 28, 29, 30, 31, 32, 33, 34, 35, 36, 37, 38, 39, 40, 41, 42, 43, 45, 46, 47]",
          "[0, 9, 11, 12, 15, 16, 17, 18, 19, 20, 21, 22, 23, 24, 25, 26, 27, 28, 29, 30, 31, 32, 33, 34, 35, 36, 37, 38, 39, 40, 41, 42, 43, 45, 46, 47]",
          "[0, 9, 11, 12, 15, 16, 17, 18, 19, 20, 21, 22, 23, 24, 25, 26, 27, 28, 29, 30, 31, 32, 33, 34, 35, 36, 38, 39, 40, 41, 42, 43, 45, 46, 47]",
          "[0, 9, 11, 12, 15, 16, 17, 18, 19, 20, 21, 22, 23, 24, 25, 26, 27, 28, 29, 31, 32, 33, 34, 35, 36, 38, 39, 40, 41, 42, 43, 45, 46, 47]",
          "[0, 9, 11, 12, 15, 16, 17, 18, 19, 20, 21, 22, 23, 24, 25, 26, 28, 29, 31, 32, 33, 34, 35, 36, 38, 39, 40, 41, 42, 43, 45, 46, 47]",
          "[0, 9, 11, 12, 15, 16, 17, 18, 19, 20, 21, 22, 23, 24, 25, 26, 28, 29, 31, 32, 33, 34, 36, 38, 39, 40, 41, 42, 43, 45, 46, 47]",
          "[0, 9, 11, 12, 15, 16, 17, 18, 19, 20, 21, 22, 23, 24, 25, 26, 28, 29, 31, 32, 33, 34, 36, 39, 40, 41, 42, 43, 45, 46, 47]",
          "[0, 9, 11, 12, 15, 16, 17, 18, 19, 20, 21, 22, 23, 24, 25, 26, 28, 29, 31, 33, 34, 36, 39, 40, 41, 42, 43, 45, 46, 47]",
          "[0, 9, 11, 12, 15, 16, 17, 18, 19, 20, 22, 23, 24, 25, 26, 28, 29, 31, 33, 34, 36, 39, 40, 41, 42, 43, 45, 46, 47]",
          "[0, 9, 11, 12, 16, 17, 18, 19, 20, 22, 23, 24, 25, 26, 28, 29, 31, 33, 34, 36, 39, 40, 41, 42, 43, 45, 46, 47]",
          "[0, 9, 11, 12, 16, 18, 19, 20, 22, 23, 24, 25, 26, 28, 29, 31, 33, 34, 36, 39, 40, 41, 42, 43, 45, 46, 47]",
          "[0, 9, 11, 12, 16, 18, 19, 20, 22, 23, 24, 25, 26, 28, 29, 31, 33, 34, 36, 39, 40, 41, 42, 45, 46, 47]",
          "[0, 9, 11, 12, 16, 18, 19, 20, 22, 23, 24, 25, 26, 28, 29, 31, 33, 34, 36, 40, 41, 42, 45, 46, 47]",
          "[0, 9, 11, 12, 16, 18, 19, 20, 22, 23, 24, 25, 26, 29, 31, 33, 34, 36, 40, 41, 42, 45, 46, 47]",
          "[0, 9, 11, 12, 16, 18, 19, 20, 22, 23, 25, 26, 29, 31, 33, 34, 36, 40, 41, 42, 45, 46, 47]",
          "[0, 9, 11, 12, 16, 19, 20, 22, 23, 25, 26, 29, 31, 33, 34, 36, 40, 41, 42, 45, 46, 47]",
          "[0, 11, 12, 16, 19, 20, 22, 23, 25, 26, 29, 31, 33, 34, 36, 40, 41, 42, 45, 46, 47]",
          "[0, 11, 12, 16, 19, 20, 22, 23, 25, 29, 31, 33, 34, 36, 40, 41, 42, 45, 46, 47]",
          "[0, 11, 12, 16, 19, 20, 22, 23, 25, 29, 33, 34, 36, 40, 41, 42, 45, 46, 47]",
          "[0, 11, 12, 16, 19, 20, 22, 23, 25, 29, 33, 34, 36, 40, 41, 45, 46, 47]",
          "[0, 11, 12, 16, 19, 20, 22, 25, 29, 33, 34, 36, 40, 41, 45, 46, 47]",
          "[0, 11, 12, 16, 19, 20, 22, 25, 29, 34, 36, 40, 41, 45, 46, 47]",
          "[0, 11, 12, 16, 19, 20, 22, 29, 34, 36, 40, 41, 45, 46, 47]",
          "[0, 11, 12, 16, 19, 22, 29, 34, 36, 40, 41, 45, 46, 47]",
          "[0, 11, 12, 16, 19, 29, 34, 36, 40, 41, 45, 46, 47]",
          "[0, 11, 12, 16, 19, 29, 34, 36, 40, 41, 45, 46]",
          "[0, 11, 12, 16, 19, 29, 34, 36, 40, 41, 45]",
          "[0, 11, 12, 16, 19, 29, 34, 36, 41, 45]",
          "[0, 11, 12, 16, 19, 29, 34, 36, 41]",
          "[0, 11, 12, 16, 19, 29, 34, 36]",
          "[0, 11, 12, 16, 19, 34, 36]",
          "[0, 12, 16, 19, 34, 36]",
          "[0, 12, 16, 34, 36]",
          "[0, 16, 34, 36]",
          "[0, 34, 36]",
          "[0, 36]",
          "[36]"
         ],
         "title": {
          "text": "x"
         },
         "type": "category"
        },
        "yaxis": {
         "anchor": "x",
         "autorange": true,
         "domain": [
          0,
          1
         ],
         "range": [
          0,
          0.9527354491384405
         ],
         "title": {
          "text": " pr of incorrect"
         },
         "type": "linear"
        }
       }
      },
      "image/png": "[encoded data removed]",
      "text/html": [
       "<div>                            <div id=\"ade81647-a77e-420f-b468-b726993f1016\" class=\"plotly-graph-div\" style=\"height:525px; width:100%;\"></div>            <script type=\"text/javascript\">                require([\"plotly\"], function(Plotly) {                    window.PLOTLYENV=window.PLOTLYENV || {};                                    if (document.getElementById(\"ade81647-a77e-420f-b468-b726993f1016\")) {                    Plotly.newPlot(                        \"ade81647-a77e-420f-b468-b726993f1016\",                        [{\"alignmentgroup\":\"True\",\"hovertemplate\":\"x=%{x}\\u003cbr\\u003e pr of incorrect=%{y}\\u003cextra\\u003e\\u003c\\u002fextra\\u003e\",\"legendgroup\":\"\",\"marker\":{\"color\":\"#636efa\",\"pattern\":{\"shape\":\"\"}},\"name\":\"\",\"offsetgroup\":\"\",\"orientation\":\"v\",\"showlegend\":false,\"textposition\":\"auto\",\"x\":[\"[0, 1, 2, 3, 4, 5, 6, 7, 8, 9, 10, 11, 12, 13, 14, 15, 16, 17, 18, 19, 20, 21, 22, 23, 24, 25, 26, 27, 28, 29, 30, 31, 32, 33, 34, 35, 36, 37, 38, 39, 40, 41, 42, 43, 44, 45, 46, 47]\",\"[0, 1, 2, 3, 4, 5, 6, 7, 8, 9, 10, 11, 12, 13, 14, 15, 16, 17, 18, 19, 20, 21, 22, 23, 24, 25, 26, 27, 28, 29, 30, 31, 32, 33, 34, 35, 36, 37, 38, 39, 40, 41, 42, 43, 45, 46, 47]\",\"[0, 2, 3, 4, 5, 6, 7, 8, 9, 10, 11, 12, 13, 14, 15, 16, 17, 18, 19, 20, 21, 22, 23, 24, 25, 26, 27, 28, 29, 30, 31, 32, 33, 34, 35, 36, 37, 38, 39, 40, 41, 42, 43, 45, 46, 47]\",\"[0, 3, 4, 5, 6, 7, 8, 9, 10, 11, 12, 13, 14, 15, 16, 17, 18, 19, 20, 21, 22, 23, 24, 25, 26, 27, 28, 29, 30, 31, 32, 33, 34, 35, 36, 37, 38, 39, 40, 41, 42, 43, 45, 46, 47]\",\"[0, 3, 4, 5, 7, 8, 9, 10, 11, 12, 13, 14, 15, 16, 17, 18, 19, 20, 21, 22, 23, 24, 25, 26, 27, 28, 29, 30, 31, 32, 33, 34, 35, 36, 37, 38, 39, 40, 41, 42, 43, 45, 46, 47]\",\"[0, 3, 4, 5, 8, 9, 10, 11, 12, 13, 14, 15, 16, 17, 18, 19, 20, 21, 22, 23, 24, 25, 26, 27, 28, 29, 30, 31, 32, 33, 34, 35, 36, 37, 38, 39, 40, 41, 42, 43, 45, 46, 47]\",\"[0, 4, 5, 8, 9, 10, 11, 12, 13, 14, 15, 16, 17, 18, 19, 20, 21, 22, 23, 24, 25, 26, 27, 28, 29, 30, 31, 32, 33, 34, 35, 36, 37, 38, 39, 40, 41, 42, 43, 45, 46, 47]\",\"[0, 4, 8, 9, 10, 11, 12, 13, 14, 15, 16, 17, 18, 19, 20, 21, 22, 23, 24, 25, 26, 27, 28, 29, 30, 31, 32, 33, 34, 35, 36, 37, 38, 39, 40, 41, 42, 43, 45, 46, 47]\",\"[0, 4, 9, 10, 11, 12, 13, 14, 15, 16, 17, 18, 19, 20, 21, 22, 23, 24, 25, 26, 27, 28, 29, 30, 31, 32, 33, 34, 35, 36, 37, 38, 39, 40, 41, 42, 43, 45, 46, 47]\",\"[0, 4, 9, 11, 12, 13, 14, 15, 16, 17, 18, 19, 20, 21, 22, 23, 24, 25, 26, 27, 28, 29, 30, 31, 32, 33, 34, 35, 36, 37, 38, 39, 40, 41, 42, 43, 45, 46, 47]\",\"[0, 4, 9, 11, 12, 14, 15, 16, 17, 18, 19, 20, 21, 22, 23, 24, 25, 26, 27, 28, 29, 30, 31, 32, 33, 34, 35, 36, 37, 38, 39, 40, 41, 42, 43, 45, 46, 47]\",\"[0, 4, 9, 11, 12, 15, 16, 17, 18, 19, 20, 21, 22, 23, 24, 25, 26, 27, 28, 29, 30, 31, 32, 33, 34, 35, 36, 37, 38, 39, 40, 41, 42, 43, 45, 46, 47]\",\"[0, 9, 11, 12, 15, 16, 17, 18, 19, 20, 21, 22, 23, 24, 25, 26, 27, 28, 29, 30, 31, 32, 33, 34, 35, 36, 37, 38, 39, 40, 41, 42, 43, 45, 46, 47]\",\"[0, 9, 11, 12, 15, 16, 17, 18, 19, 20, 21, 22, 23, 24, 25, 26, 27, 28, 29, 30, 31, 32, 33, 34, 35, 36, 38, 39, 40, 41, 42, 43, 45, 46, 47]\",\"[0, 9, 11, 12, 15, 16, 17, 18, 19, 20, 21, 22, 23, 24, 25, 26, 27, 28, 29, 31, 32, 33, 34, 35, 36, 38, 39, 40, 41, 42, 43, 45, 46, 47]\",\"[0, 9, 11, 12, 15, 16, 17, 18, 19, 20, 21, 22, 23, 24, 25, 26, 28, 29, 31, 32, 33, 34, 35, 36, 38, 39, 40, 41, 42, 43, 45, 46, 47]\",\"[0, 9, 11, 12, 15, 16, 17, 18, 19, 20, 21, 22, 23, 24, 25, 26, 28, 29, 31, 32, 33, 34, 36, 38, 39, 40, 41, 42, 43, 45, 46, 47]\",\"[0, 9, 11, 12, 15, 16, 17, 18, 19, 20, 21, 22, 23, 24, 25, 26, 28, 29, 31, 32, 33, 34, 36, 39, 40, 41, 42, 43, 45, 46, 47]\",\"[0, 9, 11, 12, 15, 16, 17, 18, 19, 20, 21, 22, 23, 24, 25, 26, 28, 29, 31, 33, 34, 36, 39, 40, 41, 42, 43, 45, 46, 47]\",\"[0, 9, 11, 12, 15, 16, 17, 18, 19, 20, 22, 23, 24, 25, 26, 28, 29, 31, 33, 34, 36, 39, 40, 41, 42, 43, 45, 46, 47]\",\"[0, 9, 11, 12, 16, 17, 18, 19, 20, 22, 23, 24, 25, 26, 28, 29, 31, 33, 34, 36, 39, 40, 41, 42, 43, 45, 46, 47]\",\"[0, 9, 11, 12, 16, 18, 19, 20, 22, 23, 24, 25, 26, 28, 29, 31, 33, 34, 36, 39, 40, 41, 42, 43, 45, 46, 47]\",\"[0, 9, 11, 12, 16, 18, 19, 20, 22, 23, 24, 25, 26, 28, 29, 31, 33, 34, 36, 39, 40, 41, 42, 45, 46, 47]\",\"[0, 9, 11, 12, 16, 18, 19, 20, 22, 23, 24, 25, 26, 28, 29, 31, 33, 34, 36, 40, 41, 42, 45, 46, 47]\",\"[0, 9, 11, 12, 16, 18, 19, 20, 22, 23, 24, 25, 26, 29, 31, 33, 34, 36, 40, 41, 42, 45, 46, 47]\",\"[0, 9, 11, 12, 16, 18, 19, 20, 22, 23, 25, 26, 29, 31, 33, 34, 36, 40, 41, 42, 45, 46, 47]\",\"[0, 9, 11, 12, 16, 19, 20, 22, 23, 25, 26, 29, 31, 33, 34, 36, 40, 41, 42, 45, 46, 47]\",\"[0, 11, 12, 16, 19, 20, 22, 23, 25, 26, 29, 31, 33, 34, 36, 40, 41, 42, 45, 46, 47]\",\"[0, 11, 12, 16, 19, 20, 22, 23, 25, 29, 31, 33, 34, 36, 40, 41, 42, 45, 46, 47]\",\"[0, 11, 12, 16, 19, 20, 22, 23, 25, 29, 33, 34, 36, 40, 41, 42, 45, 46, 47]\",\"[0, 11, 12, 16, 19, 20, 22, 23, 25, 29, 33, 34, 36, 40, 41, 45, 46, 47]\",\"[0, 11, 12, 16, 19, 20, 22, 25, 29, 33, 34, 36, 40, 41, 45, 46, 47]\",\"[0, 11, 12, 16, 19, 20, 22, 25, 29, 34, 36, 40, 41, 45, 46, 47]\",\"[0, 11, 12, 16, 19, 20, 22, 29, 34, 36, 40, 41, 45, 46, 47]\",\"[0, 11, 12, 16, 19, 22, 29, 34, 36, 40, 41, 45, 46, 47]\",\"[0, 11, 12, 16, 19, 29, 34, 36, 40, 41, 45, 46, 47]\",\"[0, 11, 12, 16, 19, 29, 34, 36, 40, 41, 45, 46]\",\"[0, 11, 12, 16, 19, 29, 34, 36, 40, 41, 45]\",\"[0, 11, 12, 16, 19, 29, 34, 36, 41, 45]\",\"[0, 11, 12, 16, 19, 29, 34, 36, 41]\",\"[0, 11, 12, 16, 19, 29, 34, 36]\",\"[0, 11, 12, 16, 19, 34, 36]\",\"[0, 12, 16, 19, 34, 36]\",\"[0, 12, 16, 34, 36]\",\"[0, 16, 34, 36]\",\"[0, 34, 36]\",\"[0, 36]\",\"[36]\"],\"xaxis\":\"x\",\"y\":[0.022318443283438683,0.04429662972688675,0.06023723632097244,0.10106740891933441,0.09306599199771881,0.06687082350254059,0.06958553940057755,0.06894385814666748,0.06659113615751266,0.07275109738111496,0.10089991241693497,0.11747725307941437,0.11583003401756287,0.2063140869140625,0.21041597425937653,0.18776153028011322,0.15639548003673553,0.15386182069778442,0.12282224744558334,0.12725624442100525,0.2086137980222702,0.17427322268486023,0.15105655789375305,0.13182476162910461,0.11759068816900253,0.11292890459299088,0.1464317888021469,0.1770275980234146,0.18182574212551117,0.1997438222169876,0.2170390486717224,0.27964481711387634,0.14059171080589294,0.11835645139217377,0.17692506313323975,0.2744859755039215,0.1205839142203331,0.12683574855327606,0.2514665424823761,0.18930891156196594,0.19442707300186157,0.274895578622818,0.7124673128128052,0.6037721633911133,0.2829076647758484,0.5234177112579346,0.9050986766815186,0.3803967237472534],\"yaxis\":\"y\",\"type\":\"bar\"}],                        {\"template\":{\"data\":{\"histogram2dcontour\":[{\"type\":\"histogram2dcontour\",\"colorbar\":{\"outlinewidth\":0,\"ticks\":\"\"},\"colorscale\":[[0.0,\"#0d0887\"],[0.1111111111111111,\"#46039f\"],[0.2222222222222222,\"#7201a8\"],[0.3333333333333333,\"#9c179e\"],[0.4444444444444444,\"#bd3786\"],[0.5555555555555556,\"#d8576b\"],[0.6666666666666666,\"#ed7953\"],[0.7777777777777778,\"#fb9f3a\"],[0.8888888888888888,\"#fdca26\"],[1.0,\"#f0f921\"]]}],\"choropleth\":[{\"type\":\"choropleth\",\"colorbar\":{\"outlinewidth\":0,\"ticks\":\"\"}}],\"histogram2d\":[{\"type\":\"histogram2d\",\"colorbar\":{\"outlinewidth\":0,\"ticks\":\"\"},\"colorscale\":[[0.0,\"#0d0887\"],[0.1111111111111111,\"#46039f\"],[0.2222222222222222,\"#7201a8\"],[0.3333333333333333,\"#9c179e\"],[0.4444444444444444,\"#bd3786\"],[0.5555555555555556,\"#d8576b\"],[0.6666666666666666,\"#ed7953\"],[0.7777777777777778,\"#fb9f3a\"],[0.8888888888888888,\"#fdca26\"],[1.0,\"#f0f921\"]]}],\"heatmap\":[{\"type\":\"heatmap\",\"colorbar\":{\"outlinewidth\":0,\"ticks\":\"\"},\"colorscale\":[[0.0,\"#0d0887\"],[0.1111111111111111,\"#46039f\"],[0.2222222222222222,\"#7201a8\"],[0.3333333333333333,\"#9c179e\"],[0.4444444444444444,\"#bd3786\"],[0.5555555555555556,\"#d8576b\"],[0.6666666666666666,\"#ed7953\"],[0.7777777777777778,\"#fb9f3a\"],[0.8888888888888888,\"#fdca26\"],[1.0,\"#f0f921\"]]}],\"heatmapgl\":[{\"type\":\"heatmapgl\",\"colorbar\":{\"outlinewidth\":0,\"ticks\":\"\"},\"colorscale\":[[0.0,\"#0d0887\"],[0.1111111111111111,\"#46039f\"],[0.2222222222222222,\"#7201a8\"],[0.3333333333333333,\"#9c179e\"],[0.4444444444444444,\"#bd3786\"],[0.5555555555555556,\"#d8576b\"],[0.6666666666666666,\"#ed7953\"],[0.7777777777777778,\"#fb9f3a\"],[0.8888888888888888,\"#fdca26\"],[1.0,\"#f0f921\"]]}],\"contourcarpet\":[{\"type\":\"contourcarpet\",\"colorbar\":{\"outlinewidth\":0,\"ticks\":\"\"}}],\"contour\":[{\"type\":\"contour\",\"colorbar\":{\"outlinewidth\":0,\"ticks\":\"\"},\"colorscale\":[[0.0,\"#0d0887\"],[0.1111111111111111,\"#46039f\"],[0.2222222222222222,\"#7201a8\"],[0.3333333333333333,\"#9c179e\"],[0.4444444444444444,\"#bd3786\"],[0.5555555555555556,\"#d8576b\"],[0.6666666666666666,\"#ed7953\"],[0.7777777777777778,\"#fb9f3a\"],[0.8888888888888888,\"#fdca26\"],[1.0,\"#f0f921\"]]}],\"surface\":[{\"type\":\"surface\",\"colorbar\":{\"outlinewidth\":0,\"ticks\":\"\"},\"colorscale\":[[0.0,\"#0d0887\"],[0.1111111111111111,\"#46039f\"],[0.2222222222222222,\"#7201a8\"],[0.3333333333333333,\"#9c179e\"],[0.4444444444444444,\"#bd3786\"],[0.5555555555555556,\"#d8576b\"],[0.6666666666666666,\"#ed7953\"],[0.7777777777777778,\"#fb9f3a\"],[0.8888888888888888,\"#fdca26\"],[1.0,\"#f0f921\"]]}],\"mesh3d\":[{\"type\":\"mesh3d\",\"colorbar\":{\"outlinewidth\":0,\"ticks\":\"\"}}],\"scatter\":[{\"fillpattern\":{\"fillmode\":\"overlay\",\"size\":10,\"solidity\":0.2},\"type\":\"scatter\"}],\"parcoords\":[{\"type\":\"parcoords\",\"line\":{\"colorbar\":{\"outlinewidth\":0,\"ticks\":\"\"}}}],\"scatterpolargl\":[{\"type\":\"scatterpolargl\",\"marker\":{\"colorbar\":{\"outlinewidth\":0,\"ticks\":\"\"}}}],\"bar\":[{\"error_x\":{\"color\":\"#2a3f5f\"},\"error_y\":{\"color\":\"#2a3f5f\"},\"marker\":{\"line\":{\"color\":\"#E5ECF6\",\"width\":0.5},\"pattern\":{\"fillmode\":\"overlay\",\"size\":10,\"solidity\":0.2}},\"type\":\"bar\"}],\"scattergeo\":[{\"type\":\"scattergeo\",\"marker\":{\"colorbar\":{\"outlinewidth\":0,\"ticks\":\"\"}}}],\"scatterpolar\":[{\"type\":\"scatterpolar\",\"marker\":{\"colorbar\":{\"outlinewidth\":0,\"ticks\":\"\"}}}],\"histogram\":[{\"marker\":{\"pattern\":{\"fillmode\":\"overlay\",\"size\":10,\"solidity\":0.2}},\"type\":\"histogram\"}],\"scattergl\":[{\"type\":\"scattergl\",\"marker\":{\"colorbar\":{\"outlinewidth\":0,\"ticks\":\"\"}}}],\"scatter3d\":[{\"type\":\"scatter3d\",\"line\":{\"colorbar\":{\"outlinewidth\":0,\"ticks\":\"\"}},\"marker\":{\"colorbar\":{\"outlinewidth\":0,\"ticks\":\"\"}}}],\"scattermapbox\":[{\"type\":\"scattermapbox\",\"marker\":{\"colorbar\":{\"outlinewidth\":0,\"ticks\":\"\"}}}],\"scatterternary\":[{\"type\":\"scatterternary\",\"marker\":{\"colorbar\":{\"outlinewidth\":0,\"ticks\":\"\"}}}],\"scattercarpet\":[{\"type\":\"scattercarpet\",\"marker\":{\"colorbar\":{\"outlinewidth\":0,\"ticks\":\"\"}}}],\"carpet\":[{\"aaxis\":{\"endlinecolor\":\"#2a3f5f\",\"gridcolor\":\"white\",\"linecolor\":\"white\",\"minorgridcolor\":\"white\",\"startlinecolor\":\"#2a3f5f\"},\"baxis\":{\"endlinecolor\":\"#2a3f5f\",\"gridcolor\":\"white\",\"linecolor\":\"white\",\"minorgridcolor\":\"white\",\"startlinecolor\":\"#2a3f5f\"},\"type\":\"carpet\"}],\"table\":[{\"cells\":{\"fill\":{\"color\":\"#EBF0F8\"},\"line\":{\"color\":\"white\"}},\"header\":{\"fill\":{\"color\":\"#C8D4E3\"},\"line\":{\"color\":\"white\"}},\"type\":\"table\"}],\"barpolar\":[{\"marker\":{\"line\":{\"color\":\"#E5ECF6\",\"width\":0.5},\"pattern\":{\"fillmode\":\"overlay\",\"size\":10,\"solidity\":0.2}},\"type\":\"barpolar\"}],\"pie\":[{\"automargin\":true,\"type\":\"pie\"}]},\"layout\":{\"autotypenumbers\":\"strict\",\"colorway\":[\"#636efa\",\"#EF553B\",\"#00cc96\",\"#ab63fa\",\"#FFA15A\",\"#19d3f3\",\"#FF6692\",\"#B6E880\",\"#FF97FF\",\"#FECB52\"],\"font\":{\"color\":\"#2a3f5f\"},\"hovermode\":\"closest\",\"hoverlabel\":{\"align\":\"left\"},\"paper_bgcolor\":\"white\",\"plot_bgcolor\":\"#E5ECF6\",\"polar\":{\"bgcolor\":\"#E5ECF6\",\"angularaxis\":{\"gridcolor\":\"white\",\"linecolor\":\"white\",\"ticks\":\"\"},\"radialaxis\":{\"gridcolor\":\"white\",\"linecolor\":\"white\",\"ticks\":\"\"}},\"ternary\":{\"bgcolor\":\"#E5ECF6\",\"aaxis\":{\"gridcolor\":\"white\",\"linecolor\":\"white\",\"ticks\":\"\"},\"baxis\":{\"gridcolor\":\"white\",\"linecolor\":\"white\",\"ticks\":\"\"},\"caxis\":{\"gridcolor\":\"white\",\"linecolor\":\"white\",\"ticks\":\"\"}},\"coloraxis\":{\"colorbar\":{\"outlinewidth\":0,\"ticks\":\"\"}},\"colorscale\":{\"sequential\":[[0.0,\"#0d0887\"],[0.1111111111111111,\"#46039f\"],[0.2222222222222222,\"#7201a8\"],[0.3333333333333333,\"#9c179e\"],[0.4444444444444444,\"#bd3786\"],[0.5555555555555556,\"#d8576b\"],[0.6666666666666666,\"#ed7953\"],[0.7777777777777778,\"#fb9f3a\"],[0.8888888888888888,\"#fdca26\"],[1.0,\"#f0f921\"]],\"sequentialminus\":[[0.0,\"#0d0887\"],[0.1111111111111111,\"#46039f\"],[0.2222222222222222,\"#7201a8\"],[0.3333333333333333,\"#9c179e\"],[0.4444444444444444,\"#bd3786\"],[0.5555555555555556,\"#d8576b\"],[0.6666666666666666,\"#ed7953\"],[0.7777777777777778,\"#fb9f3a\"],[0.8888888888888888,\"#fdca26\"],[1.0,\"#f0f921\"]],\"diverging\":[[0,\"#8e0152\"],[0.1,\"#c51b7d\"],[0.2,\"#de77ae\"],[0.3,\"#f1b6da\"],[0.4,\"#fde0ef\"],[0.5,\"#f7f7f7\"],[0.6,\"#e6f5d0\"],[0.7,\"#b8e186\"],[0.8,\"#7fbc41\"],[0.9,\"#4d9221\"],[1,\"#276419\"]]},\"xaxis\":{\"gridcolor\":\"white\",\"linecolor\":\"white\",\"ticks\":\"\",\"title\":{\"standoff\":15},\"zerolinecolor\":\"white\",\"automargin\":true,\"zerolinewidth\":2},\"yaxis\":{\"gridcolor\":\"white\",\"linecolor\":\"white\",\"ticks\":\"\",\"title\":{\"standoff\":15},\"zerolinecolor\":\"white\",\"automargin\":true,\"zerolinewidth\":2},\"scene\":{\"xaxis\":{\"backgroundcolor\":\"#E5ECF6\",\"gridcolor\":\"white\",\"linecolor\":\"white\",\"showbackground\":true,\"ticks\":\"\",\"zerolinecolor\":\"white\",\"gridwidth\":2},\"yaxis\":{\"backgroundcolor\":\"#E5ECF6\",\"gridcolor\":\"white\",\"linecolor\":\"white\",\"showbackground\":true,\"ticks\":\"\",\"zerolinecolor\":\"white\",\"gridwidth\":2},\"zaxis\":{\"backgroundcolor\":\"#E5ECF6\",\"gridcolor\":\"white\",\"linecolor\":\"white\",\"showbackground\":true,\"ticks\":\"\",\"zerolinecolor\":\"white\",\"gridwidth\":2}},\"shapedefaults\":{\"line\":{\"color\":\"#2a3f5f\"}},\"annotationdefaults\":{\"arrowcolor\":\"#2a3f5f\",\"arrowhead\":0,\"arrowwidth\":1},\"geo\":{\"bgcolor\":\"white\",\"landcolor\":\"#E5ECF6\",\"subunitcolor\":\"white\",\"showland\":true,\"showlakes\":true,\"lakecolor\":\"white\"},\"title\":{\"x\":0.05},\"mapbox\":{\"style\":\"light\"}}},\"xaxis\":{\"anchor\":\"y\",\"domain\":[0.0,1.0],\"title\":{\"text\":\"x\"},\"tickmode\":\"array\",\"tickvals\":[\"[0, 1, 2, 3, 4, 5, 6, 7, 8, 9, 10, 11, 12, 13, 14, 15, 16, 17, 18, 19, 20, 21, 22, 23, 24, 25, 26, 27, 28, 29, 30, 31, 32, 33, 34, 35, 36, 37, 38, 39, 40, 41, 42, 43, 44, 45, 46, 47]\",\"[0, 1, 2, 3, 4, 5, 6, 7, 8, 9, 10, 11, 12, 13, 14, 15, 16, 17, 18, 19, 20, 21, 22, 23, 24, 25, 26, 27, 28, 29, 30, 31, 32, 33, 34, 35, 36, 37, 38, 39, 40, 41, 42, 43, 45, 46, 47]\",\"[0, 2, 3, 4, 5, 6, 7, 8, 9, 10, 11, 12, 13, 14, 15, 16, 17, 18, 19, 20, 21, 22, 23, 24, 25, 26, 27, 28, 29, 30, 31, 32, 33, 34, 35, 36, 37, 38, 39, 40, 41, 42, 43, 45, 46, 47]\",\"[0, 3, 4, 5, 6, 7, 8, 9, 10, 11, 12, 13, 14, 15, 16, 17, 18, 19, 20, 21, 22, 23, 24, 25, 26, 27, 28, 29, 30, 31, 32, 33, 34, 35, 36, 37, 38, 39, 40, 41, 42, 43, 45, 46, 47]\",\"[0, 3, 4, 5, 7, 8, 9, 10, 11, 12, 13, 14, 15, 16, 17, 18, 19, 20, 21, 22, 23, 24, 25, 26, 27, 28, 29, 30, 31, 32, 33, 34, 35, 36, 37, 38, 39, 40, 41, 42, 43, 45, 46, 47]\",\"[0, 3, 4, 5, 8, 9, 10, 11, 12, 13, 14, 15, 16, 17, 18, 19, 20, 21, 22, 23, 24, 25, 26, 27, 28, 29, 30, 31, 32, 33, 34, 35, 36, 37, 38, 39, 40, 41, 42, 43, 45, 46, 47]\",\"[0, 4, 5, 8, 9, 10, 11, 12, 13, 14, 15, 16, 17, 18, 19, 20, 21, 22, 23, 24, 25, 26, 27, 28, 29, 30, 31, 32, 33, 34, 35, 36, 37, 38, 39, 40, 41, 42, 43, 45, 46, 47]\",\"[0, 4, 8, 9, 10, 11, 12, 13, 14, 15, 16, 17, 18, 19, 20, 21, 22, 23, 24, 25, 26, 27, 28, 29, 30, 31, 32, 33, 34, 35, 36, 37, 38, 39, 40, 41, 42, 43, 45, 46, 47]\",\"[0, 4, 9, 10, 11, 12, 13, 14, 15, 16, 17, 18, 19, 20, 21, 22, 23, 24, 25, 26, 27, 28, 29, 30, 31, 32, 33, 34, 35, 36, 37, 38, 39, 40, 41, 42, 43, 45, 46, 47]\",\"[0, 4, 9, 11, 12, 13, 14, 15, 16, 17, 18, 19, 20, 21, 22, 23, 24, 25, 26, 27, 28, 29, 30, 31, 32, 33, 34, 35, 36, 37, 38, 39, 40, 41, 42, 43, 45, 46, 47]\",\"[0, 4, 9, 11, 12, 14, 15, 16, 17, 18, 19, 20, 21, 22, 23, 24, 25, 26, 27, 28, 29, 30, 31, 32, 33, 34, 35, 36, 37, 38, 39, 40, 41, 42, 43, 45, 46, 47]\",\"[0, 4, 9, 11, 12, 15, 16, 17, 18, 19, 20, 21, 22, 23, 24, 25, 26, 27, 28, 29, 30, 31, 32, 33, 34, 35, 36, 37, 38, 39, 40, 41, 42, 43, 45, 46, 47]\",\"[0, 9, 11, 12, 15, 16, 17, 18, 19, 20, 21, 22, 23, 24, 25, 26, 27, 28, 29, 30, 31, 32, 33, 34, 35, 36, 37, 38, 39, 40, 41, 42, 43, 45, 46, 47]\",\"[0, 9, 11, 12, 15, 16, 17, 18, 19, 20, 21, 22, 23, 24, 25, 26, 27, 28, 29, 30, 31, 32, 33, 34, 35, 36, 38, 39, 40, 41, 42, 43, 45, 46, 47]\",\"[0, 9, 11, 12, 15, 16, 17, 18, 19, 20, 21, 22, 23, 24, 25, 26, 27, 28, 29, 31, 32, 33, 34, 35, 36, 38, 39, 40, 41, 42, 43, 45, 46, 47]\",\"[0, 9, 11, 12, 15, 16, 17, 18, 19, 20, 21, 22, 23, 24, 25, 26, 28, 29, 31, 32, 33, 34, 35, 36, 38, 39, 40, 41, 42, 43, 45, 46, 47]\",\"[0, 9, 11, 12, 15, 16, 17, 18, 19, 20, 21, 22, 23, 24, 25, 26, 28, 29, 31, 32, 33, 34, 36, 38, 39, 40, 41, 42, 43, 45, 46, 47]\",\"[0, 9, 11, 12, 15, 16, 17, 18, 19, 20, 21, 22, 23, 24, 25, 26, 28, 29, 31, 32, 33, 34, 36, 39, 40, 41, 42, 43, 45, 46, 47]\",\"[0, 9, 11, 12, 15, 16, 17, 18, 19, 20, 21, 22, 23, 24, 25, 26, 28, 29, 31, 33, 34, 36, 39, 40, 41, 42, 43, 45, 46, 47]\",\"[0, 9, 11, 12, 15, 16, 17, 18, 19, 20, 22, 23, 24, 25, 26, 28, 29, 31, 33, 34, 36, 39, 40, 41, 42, 43, 45, 46, 47]\",\"[0, 9, 11, 12, 16, 17, 18, 19, 20, 22, 23, 24, 25, 26, 28, 29, 31, 33, 34, 36, 39, 40, 41, 42, 43, 45, 46, 47]\",\"[0, 9, 11, 12, 16, 18, 19, 20, 22, 23, 24, 25, 26, 28, 29, 31, 33, 34, 36, 39, 40, 41, 42, 43, 45, 46, 47]\",\"[0, 9, 11, 12, 16, 18, 19, 20, 22, 23, 24, 25, 26, 28, 29, 31, 33, 34, 36, 39, 40, 41, 42, 45, 46, 47]\",\"[0, 9, 11, 12, 16, 18, 19, 20, 22, 23, 24, 25, 26, 28, 29, 31, 33, 34, 36, 40, 41, 42, 45, 46, 47]\",\"[0, 9, 11, 12, 16, 18, 19, 20, 22, 23, 24, 25, 26, 29, 31, 33, 34, 36, 40, 41, 42, 45, 46, 47]\",\"[0, 9, 11, 12, 16, 18, 19, 20, 22, 23, 25, 26, 29, 31, 33, 34, 36, 40, 41, 42, 45, 46, 47]\",\"[0, 9, 11, 12, 16, 19, 20, 22, 23, 25, 26, 29, 31, 33, 34, 36, 40, 41, 42, 45, 46, 47]\",\"[0, 11, 12, 16, 19, 20, 22, 23, 25, 26, 29, 31, 33, 34, 36, 40, 41, 42, 45, 46, 47]\",\"[0, 11, 12, 16, 19, 20, 22, 23, 25, 29, 31, 33, 34, 36, 40, 41, 42, 45, 46, 47]\",\"[0, 11, 12, 16, 19, 20, 22, 23, 25, 29, 33, 34, 36, 40, 41, 42, 45, 46, 47]\",\"[0, 11, 12, 16, 19, 20, 22, 23, 25, 29, 33, 34, 36, 40, 41, 45, 46, 47]\",\"[0, 11, 12, 16, 19, 20, 22, 25, 29, 33, 34, 36, 40, 41, 45, 46, 47]\",\"[0, 11, 12, 16, 19, 20, 22, 25, 29, 34, 36, 40, 41, 45, 46, 47]\",\"[0, 11, 12, 16, 19, 20, 22, 29, 34, 36, 40, 41, 45, 46, 47]\",\"[0, 11, 12, 16, 19, 22, 29, 34, 36, 40, 41, 45, 46, 47]\",\"[0, 11, 12, 16, 19, 29, 34, 36, 40, 41, 45, 46, 47]\",\"[0, 11, 12, 16, 19, 29, 34, 36, 40, 41, 45, 46]\",\"[0, 11, 12, 16, 19, 29, 34, 36, 40, 41, 45]\",\"[0, 11, 12, 16, 19, 29, 34, 36, 41, 45]\",\"[0, 11, 12, 16, 19, 29, 34, 36, 41]\",\"[0, 11, 12, 16, 19, 29, 34, 36]\",\"[0, 11, 12, 16, 19, 34, 36]\",\"[0, 12, 16, 19, 34, 36]\",\"[0, 12, 16, 34, 36]\",\"[0, 16, 34, 36]\",\"[0, 34, 36]\",\"[0, 36]\",\"[36]\"],\"ticktext\":[\"[0, 1, 2, 3, 4, 5, 6, 7, 8, 9, 10, 11, 12, 13, 14, 15, 16, 17, 18, 19, 20, 21, 22, 23, 24, 25, 26, 27, 28, 29, 30, 31, 32, 33, 34, 35, 36, 37, 38, 39, 40, 41, 42, 43, 44, 45, 46, 47]\",\"[0, 1, 2, 3, 4, 5, 6, 7, 8, 9, 10, 11, 12, 13, 14, 15, 16, 17, 18, 19, 20, 21, 22, 23, 24, 25, 26, 27, 28, 29, 30, 31, 32, 33, 34, 35, 36, 37, 38, 39, 40, 41, 42, 43, 45, 46, 47]\",\"[0, 2, 3, 4, 5, 6, 7, 8, 9, 10, 11, 12, 13, 14, 15, 16, 17, 18, 19, 20, 21, 22, 23, 24, 25, 26, 27, 28, 29, 30, 31, 32, 33, 34, 35, 36, 37, 38, 39, 40, 41, 42, 43, 45, 46, 47]\",\"[0, 3, 4, 5, 6, 7, 8, 9, 10, 11, 12, 13, 14, 15, 16, 17, 18, 19, 20, 21, 22, 23, 24, 25, 26, 27, 28, 29, 30, 31, 32, 33, 34, 35, 36, 37, 38, 39, 40, 41, 42, 43, 45, 46, 47]\",\"[0, 3, 4, 5, 7, 8, 9, 10, 11, 12, 13, 14, 15, 16, 17, 18, 19, 20, 21, 22, 23, 24, 25, 26, 27, 28, 29, 30, 31, 32, 33, 34, 35, 36, 37, 38, 39, 40, 41, 42, 43, 45, 46, 47]\",\"[0, 3, 4, 5, 8, 9, 10, 11, 12, 13, 14, 15, 16, 17, 18, 19, 20, 21, 22, 23, 24, 25, 26, 27, 28, 29, 30, 31, 32, 33, 34, 35, 36, 37, 38, 39, 40, 41, 42, 43, 45, 46, 47]\",\"[0, 4, 5, 8, 9, 10, 11, 12, 13, 14, 15, 16, 17, 18, 19, 20, 21, 22, 23, 24, 25, 26, 27, 28, 29, 30, 31, 32, 33, 34, 35, 36, 37, 38, 39, 40, 41, 42, 43, 45, 46, 47]\",\"[0, 4, 8, 9, 10, 11, 12, 13, 14, 15, 16, 17, 18, 19, 20, 21, 22, 23, 24, 25, 26, 27, 28, 29, 30, 31, 32, 33, 34, 35, 36, 37, 38, 39, 40, 41, 42, 43, 45, 46, 47]\",\"[0, 4, 9, 10, 11, 12, 13, 14, 15, 16, 17, 18, 19, 20, 21, 22, 23, 24, 25, 26, 27, 28, 29, 30, 31, 32, 33, 34, 35, 36, 37, 38, 39, 40, 41, 42, 43, 45, 46, 47]\",\"[0, 4, 9, 11, 12, 13, 14, 15, 16, 17, 18, 19, 20, 21, 22, 23, 24, 25, 26, 27, 28, 29, 30, 31, 32, 33, 34, 35, 36, 37, 38, 39, 40, 41, 42, 43, 45, 46, 47]\",\"[0, 4, 9, 11, 12, 14, 15, 16, 17, 18, 19, 20, 21, 22, 23, 24, 25, 26, 27, 28, 29, 30, 31, 32, 33, 34, 35, 36, 37, 38, 39, 40, 41, 42, 43, 45, 46, 47]\",\"[0, 4, 9, 11, 12, 15, 16, 17, 18, 19, 20, 21, 22, 23, 24, 25, 26, 27, 28, 29, 30, 31, 32, 33, 34, 35, 36, 37, 38, 39, 40, 41, 42, 43, 45, 46, 47]\",\"[0, 9, 11, 12, 15, 16, 17, 18, 19, 20, 21, 22, 23, 24, 25, 26, 27, 28, 29, 30, 31, 32, 33, 34, 35, 36, 37, 38, 39, 40, 41, 42, 43, 45, 46, 47]\",\"[0, 9, 11, 12, 15, 16, 17, 18, 19, 20, 21, 22, 23, 24, 25, 26, 27, 28, 29, 30, 31, 32, 33, 34, 35, 36, 38, 39, 40, 41, 42, 43, 45, 46, 47]\",\"[0, 9, 11, 12, 15, 16, 17, 18, 19, 20, 21, 22, 23, 24, 25, 26, 27, 28, 29, 31, 32, 33, 34, 35, 36, 38, 39, 40, 41, 42, 43, 45, 46, 47]\",\"[0, 9, 11, 12, 15, 16, 17, 18, 19, 20, 21, 22, 23, 24, 25, 26, 28, 29, 31, 32, 33, 34, 35, 36, 38, 39, 40, 41, 42, 43, 45, 46, 47]\",\"[0, 9, 11, 12, 15, 16, 17, 18, 19, 20, 21, 22, 23, 24, 25, 26, 28, 29, 31, 32, 33, 34, 36, 38, 39, 40, 41, 42, 43, 45, 46, 47]\",\"[0, 9, 11, 12, 15, 16, 17, 18, 19, 20, 21, 22, 23, 24, 25, 26, 28, 29, 31, 32, 33, 34, 36, 39, 40, 41, 42, 43, 45, 46, 47]\",\"[0, 9, 11, 12, 15, 16, 17, 18, 19, 20, 21, 22, 23, 24, 25, 26, 28, 29, 31, 33, 34, 36, 39, 40, 41, 42, 43, 45, 46, 47]\",\"[0, 9, 11, 12, 15, 16, 17, 18, 19, 20, 22, 23, 24, 25, 26, 28, 29, 31, 33, 34, 36, 39, 40, 41, 42, 43, 45, 46, 47]\",\"[0, 9, 11, 12, 16, 17, 18, 19, 20, 22, 23, 24, 25, 26, 28, 29, 31, 33, 34, 36, 39, 40, 41, 42, 43, 45, 46, 47]\",\"[0, 9, 11, 12, 16, 18, 19, 20, 22, 23, 24, 25, 26, 28, 29, 31, 33, 34, 36, 39, 40, 41, 42, 43, 45, 46, 47]\",\"[0, 9, 11, 12, 16, 18, 19, 20, 22, 23, 24, 25, 26, 28, 29, 31, 33, 34, 36, 39, 40, 41, 42, 45, 46, 47]\",\"[0, 9, 11, 12, 16, 18, 19, 20, 22, 23, 24, 25, 26, 28, 29, 31, 33, 34, 36, 40, 41, 42, 45, 46, 47]\",\"[0, 9, 11, 12, 16, 18, 19, 20, 22, 23, 24, 25, 26, 29, 31, 33, 34, 36, 40, 41, 42, 45, 46, 47]\",\"[0, 9, 11, 12, 16, 18, 19, 20, 22, 23, 25, 26, 29, 31, 33, 34, 36, 40, 41, 42, 45, 46, 47]\",\"[0, 9, 11, 12, 16, 19, 20, 22, 23, 25, 26, 29, 31, 33, 34, 36, 40, 41, 42, 45, 46, 47]\",\"[0, 11, 12, 16, 19, 20, 22, 23, 25, 26, 29, 31, 33, 34, 36, 40, 41, 42, 45, 46, 47]\",\"[0, 11, 12, 16, 19, 20, 22, 23, 25, 29, 31, 33, 34, 36, 40, 41, 42, 45, 46, 47]\",\"[0, 11, 12, 16, 19, 20, 22, 23, 25, 29, 33, 34, 36, 40, 41, 42, 45, 46, 47]\",\"[0, 11, 12, 16, 19, 20, 22, 23, 25, 29, 33, 34, 36, 40, 41, 45, 46, 47]\",\"[0, 11, 12, 16, 19, 20, 22, 25, 29, 33, 34, 36, 40, 41, 45, 46, 47]\",\"[0, 11, 12, 16, 19, 20, 22, 25, 29, 34, 36, 40, 41, 45, 46, 47]\",\"[0, 11, 12, 16, 19, 20, 22, 29, 34, 36, 40, 41, 45, 46, 47]\",\"[0, 11, 12, 16, 19, 22, 29, 34, 36, 40, 41, 45, 46, 47]\",\"[0, 11, 12, 16, 19, 29, 34, 36, 40, 41, 45, 46, 47]\",\"[0, 11, 12, 16, 19, 29, 34, 36, 40, 41, 45, 46]\",\"[0, 11, 12, 16, 19, 29, 34, 36, 40, 41, 45]\",\"[0, 11, 12, 16, 19, 29, 34, 36, 41, 45]\",\"[0, 11, 12, 16, 19, 29, 34, 36, 41]\",\"[0, 11, 12, 16, 19, 29, 34, 36]\",\"[0, 11, 12, 16, 19, 34, 36]\",\"[0, 12, 16, 19, 34, 36]\",\"[0, 12, 16, 34, 36]\",\"[0, 16, 34, 36]\",\"[0, 34, 36]\",\"[0, 36]\",\"[36]\"]},\"yaxis\":{\"anchor\":\"x\",\"domain\":[0.0,1.0],\"title\":{\"text\":\" pr of incorrect\"}},\"legend\":{\"tracegroupgap\":0},\"title\":{\"text\":\"greater than pruning layers pr incorrect\"},\"barmode\":\"relative\",\"font\":{\"size\":4,\"color\":\"black\"}},                        {\"responsive\": true}                    ).then(function(){\n",
       "                            \n",
       "var gd = document.getElementById('ade81647-a77e-420f-b468-b726993f1016');\n",
       "var x = new MutationObserver(function (mutations, observer) {{\n",
       "        var display = window.getComputedStyle(gd).display;\n",
       "        if (!display || display === 'none') {{\n",
       "            console.log([gd, 'removed!']);\n",
       "            Plotly.purge(gd);\n",
       "            observer.disconnect();\n",
       "        }}\n",
       "}});\n",
       "\n",
       "// Listen for the removal of the full notebook cells\n",
       "var notebookContainer = gd.closest('#notebook-container');\n",
       "if (notebookContainer) {{\n",
       "    x.observe(notebookContainer, {childList: true});\n",
       "}}\n",
       "\n",
       "// Listen for the clearing of the current output cell\n",
       "var outputEl = gd.closest('.output');\n",
       "if (outputEl) {{\n",
       "    x.observe(outputEl, {childList: true});\n",
       "}}\n",
       "\n",
       "                        })                };                });            </script>        </div>"
      ]
     },
     "metadata": {},
     "output_type": "display_data"
    },
    {
     "data": {
      "application/vnd.plotly.v1+json": {
       "config": {
        "plotlyServerURL": "https://plot.ly"
       },
       "data": [
        {
         "alignmentgroup": "True",
         "hovertemplate": "x=%{x}<br>accuracy=%{y}<extra></extra>",
         "legendgroup": "",
         "marker": {
          "color": "#636efa",
          "pattern": {
           "shape": ""
          }
         },
         "name": "",
         "offsetgroup": "",
         "orientation": "v",
         "showlegend": false,
         "textposition": "auto",
         "type": "bar",
         "x": [
          "[0, 1, 2, 3, 4, 5, 6, 7, 8, 9, 10, 11, 12, 13, 14, 15, 16, 17, 18, 19, 20, 21, 22, 23, 24, 25, 26, 27, 28, 29, 30, 31, 32, 33, 34, 35, 36, 37, 38, 39, 40, 41, 42, 43, 44, 45, 46, 47]",
          "[0, 1, 2, 3, 4, 5, 6, 7, 8, 9, 10, 11, 12, 13, 14, 15, 16, 17, 18, 19, 20, 21, 22, 23, 24, 25, 26, 27, 28, 29, 30, 31, 32, 33, 34, 35, 36, 37, 38, 39, 40, 41, 42, 43, 45, 46, 47]",
          "[0, 2, 3, 4, 5, 6, 7, 8, 9, 10, 11, 12, 13, 14, 15, 16, 17, 18, 19, 20, 21, 22, 23, 24, 25, 26, 27, 28, 29, 30, 31, 32, 33, 34, 35, 36, 37, 38, 39, 40, 41, 42, 43, 45, 46, 47]",
          "[0, 3, 4, 5, 6, 7, 8, 9, 10, 11, 12, 13, 14, 15, 16, 17, 18, 19, 20, 21, 22, 23, 24, 25, 26, 27, 28, 29, 30, 31, 32, 33, 34, 35, 36, 37, 38, 39, 40, 41, 42, 43, 45, 46, 47]",
          "[0, 3, 4, 5, 7, 8, 9, 10, 11, 12, 13, 14, 15, 16, 17, 18, 19, 20, 21, 22, 23, 24, 25, 26, 27, 28, 29, 30, 31, 32, 33, 34, 35, 36, 37, 38, 39, 40, 41, 42, 43, 45, 46, 47]",
          "[0, 3, 4, 5, 8, 9, 10, 11, 12, 13, 14, 15, 16, 17, 18, 19, 20, 21, 22, 23, 24, 25, 26, 27, 28, 29, 30, 31, 32, 33, 34, 35, 36, 37, 38, 39, 40, 41, 42, 43, 45, 46, 47]",
          "[0, 4, 5, 8, 9, 10, 11, 12, 13, 14, 15, 16, 17, 18, 19, 20, 21, 22, 23, 24, 25, 26, 27, 28, 29, 30, 31, 32, 33, 34, 35, 36, 37, 38, 39, 40, 41, 42, 43, 45, 46, 47]",
          "[0, 4, 8, 9, 10, 11, 12, 13, 14, 15, 16, 17, 18, 19, 20, 21, 22, 23, 24, 25, 26, 27, 28, 29, 30, 31, 32, 33, 34, 35, 36, 37, 38, 39, 40, 41, 42, 43, 45, 46, 47]",
          "[0, 4, 9, 10, 11, 12, 13, 14, 15, 16, 17, 18, 19, 20, 21, 22, 23, 24, 25, 26, 27, 28, 29, 30, 31, 32, 33, 34, 35, 36, 37, 38, 39, 40, 41, 42, 43, 45, 46, 47]",
          "[0, 4, 9, 11, 12, 13, 14, 15, 16, 17, 18, 19, 20, 21, 22, 23, 24, 25, 26, 27, 28, 29, 30, 31, 32, 33, 34, 35, 36, 37, 38, 39, 40, 41, 42, 43, 45, 46, 47]",
          "[0, 4, 9, 11, 12, 14, 15, 16, 17, 18, 19, 20, 21, 22, 23, 24, 25, 26, 27, 28, 29, 30, 31, 32, 33, 34, 35, 36, 37, 38, 39, 40, 41, 42, 43, 45, 46, 47]",
          "[0, 4, 9, 11, 12, 15, 16, 17, 18, 19, 20, 21, 22, 23, 24, 25, 26, 27, 28, 29, 30, 31, 32, 33, 34, 35, 36, 37, 38, 39, 40, 41, 42, 43, 45, 46, 47]",
          "[0, 9, 11, 12, 15, 16, 17, 18, 19, 20, 21, 22, 23, 24, 25, 26, 27, 28, 29, 30, 31, 32, 33, 34, 35, 36, 37, 38, 39, 40, 41, 42, 43, 45, 46, 47]",
          "[0, 9, 11, 12, 15, 16, 17, 18, 19, 20, 21, 22, 23, 24, 25, 26, 27, 28, 29, 30, 31, 32, 33, 34, 35, 36, 38, 39, 40, 41, 42, 43, 45, 46, 47]",
          "[0, 9, 11, 12, 15, 16, 17, 18, 19, 20, 21, 22, 23, 24, 25, 26, 27, 28, 29, 31, 32, 33, 34, 35, 36, 38, 39, 40, 41, 42, 43, 45, 46, 47]",
          "[0, 9, 11, 12, 15, 16, 17, 18, 19, 20, 21, 22, 23, 24, 25, 26, 28, 29, 31, 32, 33, 34, 35, 36, 38, 39, 40, 41, 42, 43, 45, 46, 47]",
          "[0, 9, 11, 12, 15, 16, 17, 18, 19, 20, 21, 22, 23, 24, 25, 26, 28, 29, 31, 32, 33, 34, 36, 38, 39, 40, 41, 42, 43, 45, 46, 47]",
          "[0, 9, 11, 12, 15, 16, 17, 18, 19, 20, 21, 22, 23, 24, 25, 26, 28, 29, 31, 32, 33, 34, 36, 39, 40, 41, 42, 43, 45, 46, 47]",
          "[0, 9, 11, 12, 15, 16, 17, 18, 19, 20, 21, 22, 23, 24, 25, 26, 28, 29, 31, 33, 34, 36, 39, 40, 41, 42, 43, 45, 46, 47]",
          "[0, 9, 11, 12, 15, 16, 17, 18, 19, 20, 22, 23, 24, 25, 26, 28, 29, 31, 33, 34, 36, 39, 40, 41, 42, 43, 45, 46, 47]",
          "[0, 9, 11, 12, 16, 17, 18, 19, 20, 22, 23, 24, 25, 26, 28, 29, 31, 33, 34, 36, 39, 40, 41, 42, 43, 45, 46, 47]",
          "[0, 9, 11, 12, 16, 18, 19, 20, 22, 23, 24, 25, 26, 28, 29, 31, 33, 34, 36, 39, 40, 41, 42, 43, 45, 46, 47]",
          "[0, 9, 11, 12, 16, 18, 19, 20, 22, 23, 24, 25, 26, 28, 29, 31, 33, 34, 36, 39, 40, 41, 42, 45, 46, 47]",
          "[0, 9, 11, 12, 16, 18, 19, 20, 22, 23, 24, 25, 26, 28, 29, 31, 33, 34, 36, 40, 41, 42, 45, 46, 47]",
          "[0, 9, 11, 12, 16, 18, 19, 20, 22, 23, 24, 25, 26, 29, 31, 33, 34, 36, 40, 41, 42, 45, 46, 47]",
          "[0, 9, 11, 12, 16, 18, 19, 20, 22, 23, 25, 26, 29, 31, 33, 34, 36, 40, 41, 42, 45, 46, 47]",
          "[0, 9, 11, 12, 16, 19, 20, 22, 23, 25, 26, 29, 31, 33, 34, 36, 40, 41, 42, 45, 46, 47]",
          "[0, 11, 12, 16, 19, 20, 22, 23, 25, 26, 29, 31, 33, 34, 36, 40, 41, 42, 45, 46, 47]",
          "[0, 11, 12, 16, 19, 20, 22, 23, 25, 29, 31, 33, 34, 36, 40, 41, 42, 45, 46, 47]",
          "[0, 11, 12, 16, 19, 20, 22, 23, 25, 29, 33, 34, 36, 40, 41, 42, 45, 46, 47]",
          "[0, 11, 12, 16, 19, 20, 22, 23, 25, 29, 33, 34, 36, 40, 41, 45, 46, 47]",
          "[0, 11, 12, 16, 19, 20, 22, 25, 29, 33, 34, 36, 40, 41, 45, 46, 47]",
          "[0, 11, 12, 16, 19, 20, 22, 25, 29, 34, 36, 40, 41, 45, 46, 47]",
          "[0, 11, 12, 16, 19, 20, 22, 29, 34, 36, 40, 41, 45, 46, 47]",
          "[0, 11, 12, 16, 19, 22, 29, 34, 36, 40, 41, 45, 46, 47]",
          "[0, 11, 12, 16, 19, 29, 34, 36, 40, 41, 45, 46, 47]",
          "[0, 11, 12, 16, 19, 29, 34, 36, 40, 41, 45, 46]",
          "[0, 11, 12, 16, 19, 29, 34, 36, 40, 41, 45]",
          "[0, 11, 12, 16, 19, 29, 34, 36, 41, 45]",
          "[0, 11, 12, 16, 19, 29, 34, 36, 41]",
          "[0, 11, 12, 16, 19, 29, 34, 36]",
          "[0, 11, 12, 16, 19, 34, 36]",
          "[0, 12, 16, 19, 34, 36]",
          "[0, 12, 16, 34, 36]",
          "[0, 16, 34, 36]",
          "[0, 34, 36]",
          "[0, 36]",
          "[36]"
         ],
         "xaxis": "x",
         "y": [
          0.9800000190734863,
          1,
          0.9800000190734863,
          0.9700000286102295,
          0.9900000095367432,
          0.9800000190734863,
          0.9900000095367432,
          0.9900000095367432,
          0.9800000190734863,
          0.9900000095367432,
          0.9700000286102295,
          0.9800000190734863,
          0.9800000190734863,
          0.9700000286102295,
          0.9200000166893005,
          0.8999999761581421,
          0.9300000071525574,
          0.9100000262260437,
          0.8999999761581421,
          0.8799999952316284,
          0.8799999952316284,
          0.8899999856948853,
          0.9100000262260437,
          0.949999988079071,
          0.9200000166893005,
          0.8399999737739563,
          0.8399999737739563,
          0.7900000214576721,
          0.7300000190734863,
          0.7400000095367432,
          0.6700000166893005,
          0.5299999713897705,
          0.5600000023841858,
          0.4699999988079071,
          0.5600000023841858,
          0.4699999988079071,
          0.2800000011920929,
          0.2800000011920929,
          0.1599999964237213,
          0.09000000357627869,
          0.09000000357627869,
          0.3400000035762787,
          0.18000000715255737,
          0.3700000047683716,
          0.15000000596046448,
          0.23999999463558197,
          0.07999999821186066,
          0.05999999865889549
         ],
         "yaxis": "y"
        }
       ],
       "layout": {
        "autosize": true,
        "barmode": "relative",
        "font": {
         "color": "black",
         "size": 4
        },
        "legend": {
         "tracegroupgap": 0
        },
        "template": {
         "data": {
          "bar": [
           {
            "error_x": {
             "color": "#2a3f5f"
            },
            "error_y": {
             "color": "#2a3f5f"
            },
            "marker": {
             "line": {
              "color": "#E5ECF6",
              "width": 0.5
             },
             "pattern": {
              "fillmode": "overlay",
              "size": 10,
              "solidity": 0.2
             }
            },
            "type": "bar"
           }
          ],
          "barpolar": [
           {
            "marker": {
             "line": {
              "color": "#E5ECF6",
              "width": 0.5
             },
             "pattern": {
              "fillmode": "overlay",
              "size": 10,
              "solidity": 0.2
             }
            },
            "type": "barpolar"
           }
          ],
          "carpet": [
           {
            "aaxis": {
             "endlinecolor": "#2a3f5f",
             "gridcolor": "white",
             "linecolor": "white",
             "minorgridcolor": "white",
             "startlinecolor": "#2a3f5f"
            },
            "baxis": {
             "endlinecolor": "#2a3f5f",
             "gridcolor": "white",
             "linecolor": "white",
             "minorgridcolor": "white",
             "startlinecolor": "#2a3f5f"
            },
            "type": "carpet"
           }
          ],
          "choropleth": [
           {
            "colorbar": {
             "outlinewidth": 0,
             "ticks": ""
            },
            "type": "choropleth"
           }
          ],
          "contour": [
           {
            "colorbar": {
             "outlinewidth": 0,
             "ticks": ""
            },
            "colorscale": [
             [
              0,
              "#0d0887"
             ],
             [
              0.1111111111111111,
              "#46039f"
             ],
             [
              0.2222222222222222,
              "#7201a8"
             ],
             [
              0.3333333333333333,
              "#9c179e"
             ],
             [
              0.4444444444444444,
              "#bd3786"
             ],
             [
              0.5555555555555556,
              "#d8576b"
             ],
             [
              0.6666666666666666,
              "#ed7953"
             ],
             [
              0.7777777777777778,
              "#fb9f3a"
             ],
             [
              0.8888888888888888,
              "#fdca26"
             ],
             [
              1,
              "#f0f921"
             ]
            ],
            "type": "contour"
           }
          ],
          "contourcarpet": [
           {
            "colorbar": {
             "outlinewidth": 0,
             "ticks": ""
            },
            "type": "contourcarpet"
           }
          ],
          "heatmap": [
           {
            "colorbar": {
             "outlinewidth": 0,
             "ticks": ""
            },
            "colorscale": [
             [
              0,
              "#0d0887"
             ],
             [
              0.1111111111111111,
              "#46039f"
             ],
             [
              0.2222222222222222,
              "#7201a8"
             ],
             [
              0.3333333333333333,
              "#9c179e"
             ],
             [
              0.4444444444444444,
              "#bd3786"
             ],
             [
              0.5555555555555556,
              "#d8576b"
             ],
             [
              0.6666666666666666,
              "#ed7953"
             ],
             [
              0.7777777777777778,
              "#fb9f3a"
             ],
             [
              0.8888888888888888,
              "#fdca26"
             ],
             [
              1,
              "#f0f921"
             ]
            ],
            "type": "heatmap"
           }
          ],
          "heatmapgl": [
           {
            "colorbar": {
             "outlinewidth": 0,
             "ticks": ""
            },
            "colorscale": [
             [
              0,
              "#0d0887"
             ],
             [
              0.1111111111111111,
              "#46039f"
             ],
             [
              0.2222222222222222,
              "#7201a8"
             ],
             [
              0.3333333333333333,
              "#9c179e"
             ],
             [
              0.4444444444444444,
              "#bd3786"
             ],
             [
              0.5555555555555556,
              "#d8576b"
             ],
             [
              0.6666666666666666,
              "#ed7953"
             ],
             [
              0.7777777777777778,
              "#fb9f3a"
             ],
             [
              0.8888888888888888,
              "#fdca26"
             ],
             [
              1,
              "#f0f921"
             ]
            ],
            "type": "heatmapgl"
           }
          ],
          "histogram": [
           {
            "marker": {
             "pattern": {
              "fillmode": "overlay",
              "size": 10,
              "solidity": 0.2
             }
            },
            "type": "histogram"
           }
          ],
          "histogram2d": [
           {
            "colorbar": {
             "outlinewidth": 0,
             "ticks": ""
            },
            "colorscale": [
             [
              0,
              "#0d0887"
             ],
             [
              0.1111111111111111,
              "#46039f"
             ],
             [
              0.2222222222222222,
              "#7201a8"
             ],
             [
              0.3333333333333333,
              "#9c179e"
             ],
             [
              0.4444444444444444,
              "#bd3786"
             ],
             [
              0.5555555555555556,
              "#d8576b"
             ],
             [
              0.6666666666666666,
              "#ed7953"
             ],
             [
              0.7777777777777778,
              "#fb9f3a"
             ],
             [
              0.8888888888888888,
              "#fdca26"
             ],
             [
              1,
              "#f0f921"
             ]
            ],
            "type": "histogram2d"
           }
          ],
          "histogram2dcontour": [
           {
            "colorbar": {
             "outlinewidth": 0,
             "ticks": ""
            },
            "colorscale": [
             [
              0,
              "#0d0887"
             ],
             [
              0.1111111111111111,
              "#46039f"
             ],
             [
              0.2222222222222222,
              "#7201a8"
             ],
             [
              0.3333333333333333,
              "#9c179e"
             ],
             [
              0.4444444444444444,
              "#bd3786"
             ],
             [
              0.5555555555555556,
              "#d8576b"
             ],
             [
              0.6666666666666666,
              "#ed7953"
             ],
             [
              0.7777777777777778,
              "#fb9f3a"
             ],
             [
              0.8888888888888888,
              "#fdca26"
             ],
             [
              1,
              "#f0f921"
             ]
            ],
            "type": "histogram2dcontour"
           }
          ],
          "mesh3d": [
           {
            "colorbar": {
             "outlinewidth": 0,
             "ticks": ""
            },
            "type": "mesh3d"
           }
          ],
          "parcoords": [
           {
            "line": {
             "colorbar": {
              "outlinewidth": 0,
              "ticks": ""
             }
            },
            "type": "parcoords"
           }
          ],
          "pie": [
           {
            "automargin": true,
            "type": "pie"
           }
          ],
          "scatter": [
           {
            "fillpattern": {
             "fillmode": "overlay",
             "size": 10,
             "solidity": 0.2
            },
            "type": "scatter"
           }
          ],
          "scatter3d": [
           {
            "line": {
             "colorbar": {
              "outlinewidth": 0,
              "ticks": ""
             }
            },
            "marker": {
             "colorbar": {
              "outlinewidth": 0,
              "ticks": ""
             }
            },
            "type": "scatter3d"
           }
          ],
          "scattercarpet": [
           {
            "marker": {
             "colorbar": {
              "outlinewidth": 0,
              "ticks": ""
             }
            },
            "type": "scattercarpet"
           }
          ],
          "scattergeo": [
           {
            "marker": {
             "colorbar": {
              "outlinewidth": 0,
              "ticks": ""
             }
            },
            "type": "scattergeo"
           }
          ],
          "scattergl": [
           {
            "marker": {
             "colorbar": {
              "outlinewidth": 0,
              "ticks": ""
             }
            },
            "type": "scattergl"
           }
          ],
          "scattermapbox": [
           {
            "marker": {
             "colorbar": {
              "outlinewidth": 0,
              "ticks": ""
             }
            },
            "type": "scattermapbox"
           }
          ],
          "scatterpolar": [
           {
            "marker": {
             "colorbar": {
              "outlinewidth": 0,
              "ticks": ""
             }
            },
            "type": "scatterpolar"
           }
          ],
          "scatterpolargl": [
           {
            "marker": {
             "colorbar": {
              "outlinewidth": 0,
              "ticks": ""
             }
            },
            "type": "scatterpolargl"
           }
          ],
          "scatterternary": [
           {
            "marker": {
             "colorbar": {
              "outlinewidth": 0,
              "ticks": ""
             }
            },
            "type": "scatterternary"
           }
          ],
          "surface": [
           {
            "colorbar": {
             "outlinewidth": 0,
             "ticks": ""
            },
            "colorscale": [
             [
              0,
              "#0d0887"
             ],
             [
              0.1111111111111111,
              "#46039f"
             ],
             [
              0.2222222222222222,
              "#7201a8"
             ],
             [
              0.3333333333333333,
              "#9c179e"
             ],
             [
              0.4444444444444444,
              "#bd3786"
             ],
             [
              0.5555555555555556,
              "#d8576b"
             ],
             [
              0.6666666666666666,
              "#ed7953"
             ],
             [
              0.7777777777777778,
              "#fb9f3a"
             ],
             [
              0.8888888888888888,
              "#fdca26"
             ],
             [
              1,
              "#f0f921"
             ]
            ],
            "type": "surface"
           }
          ],
          "table": [
           {
            "cells": {
             "fill": {
              "color": "#EBF0F8"
             },
             "line": {
              "color": "white"
             }
            },
            "header": {
             "fill": {
              "color": "#C8D4E3"
             },
             "line": {
              "color": "white"
             }
            },
            "type": "table"
           }
          ]
         },
         "layout": {
          "annotationdefaults": {
           "arrowcolor": "#2a3f5f",
           "arrowhead": 0,
           "arrowwidth": 1
          },
          "autotypenumbers": "strict",
          "coloraxis": {
           "colorbar": {
            "outlinewidth": 0,
            "ticks": ""
           }
          },
          "colorscale": {
           "diverging": [
            [
             0,
             "#8e0152"
            ],
            [
             0.1,
             "#c51b7d"
            ],
            [
             0.2,
             "#de77ae"
            ],
            [
             0.3,
             "#f1b6da"
            ],
            [
             0.4,
             "#fde0ef"
            ],
            [
             0.5,
             "#f7f7f7"
            ],
            [
             0.6,
             "#e6f5d0"
            ],
            [
             0.7,
             "#b8e186"
            ],
            [
             0.8,
             "#7fbc41"
            ],
            [
             0.9,
             "#4d9221"
            ],
            [
             1,
             "#276419"
            ]
           ],
           "sequential": [
            [
             0,
             "#0d0887"
            ],
            [
             0.1111111111111111,
             "#46039f"
            ],
            [
             0.2222222222222222,
             "#7201a8"
            ],
            [
             0.3333333333333333,
             "#9c179e"
            ],
            [
             0.4444444444444444,
             "#bd3786"
            ],
            [
             0.5555555555555556,
             "#d8576b"
            ],
            [
             0.6666666666666666,
             "#ed7953"
            ],
            [
             0.7777777777777778,
             "#fb9f3a"
            ],
            [
             0.8888888888888888,
             "#fdca26"
            ],
            [
             1,
             "#f0f921"
            ]
           ],
           "sequentialminus": [
            [
             0,
             "#0d0887"
            ],
            [
             0.1111111111111111,
             "#46039f"
            ],
            [
             0.2222222222222222,
             "#7201a8"
            ],
            [
             0.3333333333333333,
             "#9c179e"
            ],
            [
             0.4444444444444444,
             "#bd3786"
            ],
            [
             0.5555555555555556,
             "#d8576b"
            ],
            [
             0.6666666666666666,
             "#ed7953"
            ],
            [
             0.7777777777777778,
             "#fb9f3a"
            ],
            [
             0.8888888888888888,
             "#fdca26"
            ],
            [
             1,
             "#f0f921"
            ]
           ]
          },
          "colorway": [
           "#636efa",
           "#EF553B",
           "#00cc96",
           "#ab63fa",
           "#FFA15A",
           "#19d3f3",
           "#FF6692",
           "#B6E880",
           "#FF97FF",
           "#FECB52"
          ],
          "font": {
           "color": "#2a3f5f"
          },
          "geo": {
           "bgcolor": "white",
           "lakecolor": "white",
           "landcolor": "#E5ECF6",
           "showlakes": true,
           "showland": true,
           "subunitcolor": "white"
          },
          "hoverlabel": {
           "align": "left"
          },
          "hovermode": "closest",
          "mapbox": {
           "style": "light"
          },
          "paper_bgcolor": "white",
          "plot_bgcolor": "#E5ECF6",
          "polar": {
           "angularaxis": {
            "gridcolor": "white",
            "linecolor": "white",
            "ticks": ""
           },
           "bgcolor": "#E5ECF6",
           "radialaxis": {
            "gridcolor": "white",
            "linecolor": "white",
            "ticks": ""
           }
          },
          "scene": {
           "xaxis": {
            "backgroundcolor": "#E5ECF6",
            "gridcolor": "white",
            "gridwidth": 2,
            "linecolor": "white",
            "showbackground": true,
            "ticks": "",
            "zerolinecolor": "white"
           },
           "yaxis": {
            "backgroundcolor": "#E5ECF6",
            "gridcolor": "white",
            "gridwidth": 2,
            "linecolor": "white",
            "showbackground": true,
            "ticks": "",
            "zerolinecolor": "white"
           },
           "zaxis": {
            "backgroundcolor": "#E5ECF6",
            "gridcolor": "white",
            "gridwidth": 2,
            "linecolor": "white",
            "showbackground": true,
            "ticks": "",
            "zerolinecolor": "white"
           }
          },
          "shapedefaults": {
           "line": {
            "color": "#2a3f5f"
           }
          },
          "ternary": {
           "aaxis": {
            "gridcolor": "white",
            "linecolor": "white",
            "ticks": ""
           },
           "baxis": {
            "gridcolor": "white",
            "linecolor": "white",
            "ticks": ""
           },
           "bgcolor": "#E5ECF6",
           "caxis": {
            "gridcolor": "white",
            "linecolor": "white",
            "ticks": ""
           }
          },
          "title": {
           "x": 0.05
          },
          "xaxis": {
           "automargin": true,
           "gridcolor": "white",
           "linecolor": "white",
           "ticks": "",
           "title": {
            "standoff": 15
           },
           "zerolinecolor": "white",
           "zerolinewidth": 2
          },
          "yaxis": {
           "automargin": true,
           "gridcolor": "white",
           "linecolor": "white",
           "ticks": "",
           "title": {
            "standoff": 15
           },
           "zerolinecolor": "white",
           "zerolinewidth": 2
          }
         }
        },
        "title": {
         "text": "greater than pruning layers accuracy"
        },
        "xaxis": {
         "anchor": "y",
         "autorange": true,
         "domain": [
          0,
          1
         ],
         "range": [
          -0.5,
          47.5
         ],
         "tickmode": "array",
         "ticktext": [
          "[0, 1, 2, 3, 4, 5, 6, 7, 8, 9, 10, 11, 12, 13, 14, 15, 16, 17, 18, 19, 20, 21, 22, 23, 24, 25, 26, 27, 28, 29, 30, 31, 32, 33, 34, 35, 36, 37, 38, 39, 40, 41, 42, 43, 44, 45, 46, 47]",
          "[0, 1, 2, 3, 4, 5, 6, 7, 8, 9, 10, 11, 12, 13, 14, 15, 16, 17, 18, 19, 20, 21, 22, 23, 24, 25, 26, 27, 28, 29, 30, 31, 32, 33, 34, 35, 36, 37, 38, 39, 40, 41, 42, 43, 45, 46, 47]",
          "[0, 2, 3, 4, 5, 6, 7, 8, 9, 10, 11, 12, 13, 14, 15, 16, 17, 18, 19, 20, 21, 22, 23, 24, 25, 26, 27, 28, 29, 30, 31, 32, 33, 34, 35, 36, 37, 38, 39, 40, 41, 42, 43, 45, 46, 47]",
          "[0, 3, 4, 5, 6, 7, 8, 9, 10, 11, 12, 13, 14, 15, 16, 17, 18, 19, 20, 21, 22, 23, 24, 25, 26, 27, 28, 29, 30, 31, 32, 33, 34, 35, 36, 37, 38, 39, 40, 41, 42, 43, 45, 46, 47]",
          "[0, 3, 4, 5, 7, 8, 9, 10, 11, 12, 13, 14, 15, 16, 17, 18, 19, 20, 21, 22, 23, 24, 25, 26, 27, 28, 29, 30, 31, 32, 33, 34, 35, 36, 37, 38, 39, 40, 41, 42, 43, 45, 46, 47]",
          "[0, 3, 4, 5, 8, 9, 10, 11, 12, 13, 14, 15, 16, 17, 18, 19, 20, 21, 22, 23, 24, 25, 26, 27, 28, 29, 30, 31, 32, 33, 34, 35, 36, 37, 38, 39, 40, 41, 42, 43, 45, 46, 47]",
          "[0, 4, 5, 8, 9, 10, 11, 12, 13, 14, 15, 16, 17, 18, 19, 20, 21, 22, 23, 24, 25, 26, 27, 28, 29, 30, 31, 32, 33, 34, 35, 36, 37, 38, 39, 40, 41, 42, 43, 45, 46, 47]",
          "[0, 4, 8, 9, 10, 11, 12, 13, 14, 15, 16, 17, 18, 19, 20, 21, 22, 23, 24, 25, 26, 27, 28, 29, 30, 31, 32, 33, 34, 35, 36, 37, 38, 39, 40, 41, 42, 43, 45, 46, 47]",
          "[0, 4, 9, 10, 11, 12, 13, 14, 15, 16, 17, 18, 19, 20, 21, 22, 23, 24, 25, 26, 27, 28, 29, 30, 31, 32, 33, 34, 35, 36, 37, 38, 39, 40, 41, 42, 43, 45, 46, 47]",
          "[0, 4, 9, 11, 12, 13, 14, 15, 16, 17, 18, 19, 20, 21, 22, 23, 24, 25, 26, 27, 28, 29, 30, 31, 32, 33, 34, 35, 36, 37, 38, 39, 40, 41, 42, 43, 45, 46, 47]",
          "[0, 4, 9, 11, 12, 14, 15, 16, 17, 18, 19, 20, 21, 22, 23, 24, 25, 26, 27, 28, 29, 30, 31, 32, 33, 34, 35, 36, 37, 38, 39, 40, 41, 42, 43, 45, 46, 47]",
          "[0, 4, 9, 11, 12, 15, 16, 17, 18, 19, 20, 21, 22, 23, 24, 25, 26, 27, 28, 29, 30, 31, 32, 33, 34, 35, 36, 37, 38, 39, 40, 41, 42, 43, 45, 46, 47]",
          "[0, 9, 11, 12, 15, 16, 17, 18, 19, 20, 21, 22, 23, 24, 25, 26, 27, 28, 29, 30, 31, 32, 33, 34, 35, 36, 37, 38, 39, 40, 41, 42, 43, 45, 46, 47]",
          "[0, 9, 11, 12, 15, 16, 17, 18, 19, 20, 21, 22, 23, 24, 25, 26, 27, 28, 29, 30, 31, 32, 33, 34, 35, 36, 38, 39, 40, 41, 42, 43, 45, 46, 47]",
          "[0, 9, 11, 12, 15, 16, 17, 18, 19, 20, 21, 22, 23, 24, 25, 26, 27, 28, 29, 31, 32, 33, 34, 35, 36, 38, 39, 40, 41, 42, 43, 45, 46, 47]",
          "[0, 9, 11, 12, 15, 16, 17, 18, 19, 20, 21, 22, 23, 24, 25, 26, 28, 29, 31, 32, 33, 34, 35, 36, 38, 39, 40, 41, 42, 43, 45, 46, 47]",
          "[0, 9, 11, 12, 15, 16, 17, 18, 19, 20, 21, 22, 23, 24, 25, 26, 28, 29, 31, 32, 33, 34, 36, 38, 39, 40, 41, 42, 43, 45, 46, 47]",
          "[0, 9, 11, 12, 15, 16, 17, 18, 19, 20, 21, 22, 23, 24, 25, 26, 28, 29, 31, 32, 33, 34, 36, 39, 40, 41, 42, 43, 45, 46, 47]",
          "[0, 9, 11, 12, 15, 16, 17, 18, 19, 20, 21, 22, 23, 24, 25, 26, 28, 29, 31, 33, 34, 36, 39, 40, 41, 42, 43, 45, 46, 47]",
          "[0, 9, 11, 12, 15, 16, 17, 18, 19, 20, 22, 23, 24, 25, 26, 28, 29, 31, 33, 34, 36, 39, 40, 41, 42, 43, 45, 46, 47]",
          "[0, 9, 11, 12, 16, 17, 18, 19, 20, 22, 23, 24, 25, 26, 28, 29, 31, 33, 34, 36, 39, 40, 41, 42, 43, 45, 46, 47]",
          "[0, 9, 11, 12, 16, 18, 19, 20, 22, 23, 24, 25, 26, 28, 29, 31, 33, 34, 36, 39, 40, 41, 42, 43, 45, 46, 47]",
          "[0, 9, 11, 12, 16, 18, 19, 20, 22, 23, 24, 25, 26, 28, 29, 31, 33, 34, 36, 39, 40, 41, 42, 45, 46, 47]",
          "[0, 9, 11, 12, 16, 18, 19, 20, 22, 23, 24, 25, 26, 28, 29, 31, 33, 34, 36, 40, 41, 42, 45, 46, 47]",
          "[0, 9, 11, 12, 16, 18, 19, 20, 22, 23, 24, 25, 26, 29, 31, 33, 34, 36, 40, 41, 42, 45, 46, 47]",
          "[0, 9, 11, 12, 16, 18, 19, 20, 22, 23, 25, 26, 29, 31, 33, 34, 36, 40, 41, 42, 45, 46, 47]",
          "[0, 9, 11, 12, 16, 19, 20, 22, 23, 25, 26, 29, 31, 33, 34, 36, 40, 41, 42, 45, 46, 47]",
          "[0, 11, 12, 16, 19, 20, 22, 23, 25, 26, 29, 31, 33, 34, 36, 40, 41, 42, 45, 46, 47]",
          "[0, 11, 12, 16, 19, 20, 22, 23, 25, 29, 31, 33, 34, 36, 40, 41, 42, 45, 46, 47]",
          "[0, 11, 12, 16, 19, 20, 22, 23, 25, 29, 33, 34, 36, 40, 41, 42, 45, 46, 47]",
          "[0, 11, 12, 16, 19, 20, 22, 23, 25, 29, 33, 34, 36, 40, 41, 45, 46, 47]",
          "[0, 11, 12, 16, 19, 20, 22, 25, 29, 33, 34, 36, 40, 41, 45, 46, 47]",
          "[0, 11, 12, 16, 19, 20, 22, 25, 29, 34, 36, 40, 41, 45, 46, 47]",
          "[0, 11, 12, 16, 19, 20, 22, 29, 34, 36, 40, 41, 45, 46, 47]",
          "[0, 11, 12, 16, 19, 22, 29, 34, 36, 40, 41, 45, 46, 47]",
          "[0, 11, 12, 16, 19, 29, 34, 36, 40, 41, 45, 46, 47]",
          "[0, 11, 12, 16, 19, 29, 34, 36, 40, 41, 45, 46]",
          "[0, 11, 12, 16, 19, 29, 34, 36, 40, 41, 45]",
          "[0, 11, 12, 16, 19, 29, 34, 36, 41, 45]",
          "[0, 11, 12, 16, 19, 29, 34, 36, 41]",
          "[0, 11, 12, 16, 19, 29, 34, 36]",
          "[0, 11, 12, 16, 19, 34, 36]",
          "[0, 12, 16, 19, 34, 36]",
          "[0, 12, 16, 34, 36]",
          "[0, 16, 34, 36]",
          "[0, 34, 36]",
          "[0, 36]",
          "[36]"
         ],
         "tickvals": [
          "[0, 1, 2, 3, 4, 5, 6, 7, 8, 9, 10, 11, 12, 13, 14, 15, 16, 17, 18, 19, 20, 21, 22, 23, 24, 25, 26, 27, 28, 29, 30, 31, 32, 33, 34, 35, 36, 37, 38, 39, 40, 41, 42, 43, 44, 45, 46, 47]",
          "[0, 1, 2, 3, 4, 5, 6, 7, 8, 9, 10, 11, 12, 13, 14, 15, 16, 17, 18, 19, 20, 21, 22, 23, 24, 25, 26, 27, 28, 29, 30, 31, 32, 33, 34, 35, 36, 37, 38, 39, 40, 41, 42, 43, 45, 46, 47]",
          "[0, 2, 3, 4, 5, 6, 7, 8, 9, 10, 11, 12, 13, 14, 15, 16, 17, 18, 19, 20, 21, 22, 23, 24, 25, 26, 27, 28, 29, 30, 31, 32, 33, 34, 35, 36, 37, 38, 39, 40, 41, 42, 43, 45, 46, 47]",
          "[0, 3, 4, 5, 6, 7, 8, 9, 10, 11, 12, 13, 14, 15, 16, 17, 18, 19, 20, 21, 22, 23, 24, 25, 26, 27, 28, 29, 30, 31, 32, 33, 34, 35, 36, 37, 38, 39, 40, 41, 42, 43, 45, 46, 47]",
          "[0, 3, 4, 5, 7, 8, 9, 10, 11, 12, 13, 14, 15, 16, 17, 18, 19, 20, 21, 22, 23, 24, 25, 26, 27, 28, 29, 30, 31, 32, 33, 34, 35, 36, 37, 38, 39, 40, 41, 42, 43, 45, 46, 47]",
          "[0, 3, 4, 5, 8, 9, 10, 11, 12, 13, 14, 15, 16, 17, 18, 19, 20, 21, 22, 23, 24, 25, 26, 27, 28, 29, 30, 31, 32, 33, 34, 35, 36, 37, 38, 39, 40, 41, 42, 43, 45, 46, 47]",
          "[0, 4, 5, 8, 9, 10, 11, 12, 13, 14, 15, 16, 17, 18, 19, 20, 21, 22, 23, 24, 25, 26, 27, 28, 29, 30, 31, 32, 33, 34, 35, 36, 37, 38, 39, 40, 41, 42, 43, 45, 46, 47]",
          "[0, 4, 8, 9, 10, 11, 12, 13, 14, 15, 16, 17, 18, 19, 20, 21, 22, 23, 24, 25, 26, 27, 28, 29, 30, 31, 32, 33, 34, 35, 36, 37, 38, 39, 40, 41, 42, 43, 45, 46, 47]",
          "[0, 4, 9, 10, 11, 12, 13, 14, 15, 16, 17, 18, 19, 20, 21, 22, 23, 24, 25, 26, 27, 28, 29, 30, 31, 32, 33, 34, 35, 36, 37, 38, 39, 40, 41, 42, 43, 45, 46, 47]",
          "[0, 4, 9, 11, 12, 13, 14, 15, 16, 17, 18, 19, 20, 21, 22, 23, 24, 25, 26, 27, 28, 29, 30, 31, 32, 33, 34, 35, 36, 37, 38, 39, 40, 41, 42, 43, 45, 46, 47]",
          "[0, 4, 9, 11, 12, 14, 15, 16, 17, 18, 19, 20, 21, 22, 23, 24, 25, 26, 27, 28, 29, 30, 31, 32, 33, 34, 35, 36, 37, 38, 39, 40, 41, 42, 43, 45, 46, 47]",
          "[0, 4, 9, 11, 12, 15, 16, 17, 18, 19, 20, 21, 22, 23, 24, 25, 26, 27, 28, 29, 30, 31, 32, 33, 34, 35, 36, 37, 38, 39, 40, 41, 42, 43, 45, 46, 47]",
          "[0, 9, 11, 12, 15, 16, 17, 18, 19, 20, 21, 22, 23, 24, 25, 26, 27, 28, 29, 30, 31, 32, 33, 34, 35, 36, 37, 38, 39, 40, 41, 42, 43, 45, 46, 47]",
          "[0, 9, 11, 12, 15, 16, 17, 18, 19, 20, 21, 22, 23, 24, 25, 26, 27, 28, 29, 30, 31, 32, 33, 34, 35, 36, 38, 39, 40, 41, 42, 43, 45, 46, 47]",
          "[0, 9, 11, 12, 15, 16, 17, 18, 19, 20, 21, 22, 23, 24, 25, 26, 27, 28, 29, 31, 32, 33, 34, 35, 36, 38, 39, 40, 41, 42, 43, 45, 46, 47]",
          "[0, 9, 11, 12, 15, 16, 17, 18, 19, 20, 21, 22, 23, 24, 25, 26, 28, 29, 31, 32, 33, 34, 35, 36, 38, 39, 40, 41, 42, 43, 45, 46, 47]",
          "[0, 9, 11, 12, 15, 16, 17, 18, 19, 20, 21, 22, 23, 24, 25, 26, 28, 29, 31, 32, 33, 34, 36, 38, 39, 40, 41, 42, 43, 45, 46, 47]",
          "[0, 9, 11, 12, 15, 16, 17, 18, 19, 20, 21, 22, 23, 24, 25, 26, 28, 29, 31, 32, 33, 34, 36, 39, 40, 41, 42, 43, 45, 46, 47]",
          "[0, 9, 11, 12, 15, 16, 17, 18, 19, 20, 21, 22, 23, 24, 25, 26, 28, 29, 31, 33, 34, 36, 39, 40, 41, 42, 43, 45, 46, 47]",
          "[0, 9, 11, 12, 15, 16, 17, 18, 19, 20, 22, 23, 24, 25, 26, 28, 29, 31, 33, 34, 36, 39, 40, 41, 42, 43, 45, 46, 47]",
          "[0, 9, 11, 12, 16, 17, 18, 19, 20, 22, 23, 24, 25, 26, 28, 29, 31, 33, 34, 36, 39, 40, 41, 42, 43, 45, 46, 47]",
          "[0, 9, 11, 12, 16, 18, 19, 20, 22, 23, 24, 25, 26, 28, 29, 31, 33, 34, 36, 39, 40, 41, 42, 43, 45, 46, 47]",
          "[0, 9, 11, 12, 16, 18, 19, 20, 22, 23, 24, 25, 26, 28, 29, 31, 33, 34, 36, 39, 40, 41, 42, 45, 46, 47]",
          "[0, 9, 11, 12, 16, 18, 19, 20, 22, 23, 24, 25, 26, 28, 29, 31, 33, 34, 36, 40, 41, 42, 45, 46, 47]",
          "[0, 9, 11, 12, 16, 18, 19, 20, 22, 23, 24, 25, 26, 29, 31, 33, 34, 36, 40, 41, 42, 45, 46, 47]",
          "[0, 9, 11, 12, 16, 18, 19, 20, 22, 23, 25, 26, 29, 31, 33, 34, 36, 40, 41, 42, 45, 46, 47]",
          "[0, 9, 11, 12, 16, 19, 20, 22, 23, 25, 26, 29, 31, 33, 34, 36, 40, 41, 42, 45, 46, 47]",
          "[0, 11, 12, 16, 19, 20, 22, 23, 25, 26, 29, 31, 33, 34, 36, 40, 41, 42, 45, 46, 47]",
          "[0, 11, 12, 16, 19, 20, 22, 23, 25, 29, 31, 33, 34, 36, 40, 41, 42, 45, 46, 47]",
          "[0, 11, 12, 16, 19, 20, 22, 23, 25, 29, 33, 34, 36, 40, 41, 42, 45, 46, 47]",
          "[0, 11, 12, 16, 19, 20, 22, 23, 25, 29, 33, 34, 36, 40, 41, 45, 46, 47]",
          "[0, 11, 12, 16, 19, 20, 22, 25, 29, 33, 34, 36, 40, 41, 45, 46, 47]",
          "[0, 11, 12, 16, 19, 20, 22, 25, 29, 34, 36, 40, 41, 45, 46, 47]",
          "[0, 11, 12, 16, 19, 20, 22, 29, 34, 36, 40, 41, 45, 46, 47]",
          "[0, 11, 12, 16, 19, 22, 29, 34, 36, 40, 41, 45, 46, 47]",
          "[0, 11, 12, 16, 19, 29, 34, 36, 40, 41, 45, 46, 47]",
          "[0, 11, 12, 16, 19, 29, 34, 36, 40, 41, 45, 46]",
          "[0, 11, 12, 16, 19, 29, 34, 36, 40, 41, 45]",
          "[0, 11, 12, 16, 19, 29, 34, 36, 41, 45]",
          "[0, 11, 12, 16, 19, 29, 34, 36, 41]",
          "[0, 11, 12, 16, 19, 29, 34, 36]",
          "[0, 11, 12, 16, 19, 34, 36]",
          "[0, 12, 16, 19, 34, 36]",
          "[0, 12, 16, 34, 36]",
          "[0, 16, 34, 36]",
          "[0, 34, 36]",
          "[0, 36]",
          "[36]"
         ],
         "title": {
          "text": "x"
         },
         "type": "category"
        },
        "yaxis": {
         "anchor": "x",
         "autorange": true,
         "domain": [
          0,
          1
         ],
         "range": [
          0,
          1.0526315789473684
         ],
         "title": {
          "text": "accuracy"
         },
         "type": "linear"
        }
       }
      },
      "image/png": "[encoded data removed]",
      "text/html": [
       "<div>                            <div id=\"e37f81f5-8858-4b8e-bce6-f127303550db\" class=\"plotly-graph-div\" style=\"height:525px; width:100%;\"></div>            <script type=\"text/javascript\">                require([\"plotly\"], function(Plotly) {                    window.PLOTLYENV=window.PLOTLYENV || {};                                    if (document.getElementById(\"e37f81f5-8858-4b8e-bce6-f127303550db\")) {                    Plotly.newPlot(                        \"e37f81f5-8858-4b8e-bce6-f127303550db\",                        [{\"alignmentgroup\":\"True\",\"hovertemplate\":\"x=%{x}\\u003cbr\\u003eaccuracy=%{y}\\u003cextra\\u003e\\u003c\\u002fextra\\u003e\",\"legendgroup\":\"\",\"marker\":{\"color\":\"#636efa\",\"pattern\":{\"shape\":\"\"}},\"name\":\"\",\"offsetgroup\":\"\",\"orientation\":\"v\",\"showlegend\":false,\"textposition\":\"auto\",\"x\":[\"[0, 1, 2, 3, 4, 5, 6, 7, 8, 9, 10, 11, 12, 13, 14, 15, 16, 17, 18, 19, 20, 21, 22, 23, 24, 25, 26, 27, 28, 29, 30, 31, 32, 33, 34, 35, 36, 37, 38, 39, 40, 41, 42, 43, 44, 45, 46, 47]\",\"[0, 1, 2, 3, 4, 5, 6, 7, 8, 9, 10, 11, 12, 13, 14, 15, 16, 17, 18, 19, 20, 21, 22, 23, 24, 25, 26, 27, 28, 29, 30, 31, 32, 33, 34, 35, 36, 37, 38, 39, 40, 41, 42, 43, 45, 46, 47]\",\"[0, 2, 3, 4, 5, 6, 7, 8, 9, 10, 11, 12, 13, 14, 15, 16, 17, 18, 19, 20, 21, 22, 23, 24, 25, 26, 27, 28, 29, 30, 31, 32, 33, 34, 35, 36, 37, 38, 39, 40, 41, 42, 43, 45, 46, 47]\",\"[0, 3, 4, 5, 6, 7, 8, 9, 10, 11, 12, 13, 14, 15, 16, 17, 18, 19, 20, 21, 22, 23, 24, 25, 26, 27, 28, 29, 30, 31, 32, 33, 34, 35, 36, 37, 38, 39, 40, 41, 42, 43, 45, 46, 47]\",\"[0, 3, 4, 5, 7, 8, 9, 10, 11, 12, 13, 14, 15, 16, 17, 18, 19, 20, 21, 22, 23, 24, 25, 26, 27, 28, 29, 30, 31, 32, 33, 34, 35, 36, 37, 38, 39, 40, 41, 42, 43, 45, 46, 47]\",\"[0, 3, 4, 5, 8, 9, 10, 11, 12, 13, 14, 15, 16, 17, 18, 19, 20, 21, 22, 23, 24, 25, 26, 27, 28, 29, 30, 31, 32, 33, 34, 35, 36, 37, 38, 39, 40, 41, 42, 43, 45, 46, 47]\",\"[0, 4, 5, 8, 9, 10, 11, 12, 13, 14, 15, 16, 17, 18, 19, 20, 21, 22, 23, 24, 25, 26, 27, 28, 29, 30, 31, 32, 33, 34, 35, 36, 37, 38, 39, 40, 41, 42, 43, 45, 46, 47]\",\"[0, 4, 8, 9, 10, 11, 12, 13, 14, 15, 16, 17, 18, 19, 20, 21, 22, 23, 24, 25, 26, 27, 28, 29, 30, 31, 32, 33, 34, 35, 36, 37, 38, 39, 40, 41, 42, 43, 45, 46, 47]\",\"[0, 4, 9, 10, 11, 12, 13, 14, 15, 16, 17, 18, 19, 20, 21, 22, 23, 24, 25, 26, 27, 28, 29, 30, 31, 32, 33, 34, 35, 36, 37, 38, 39, 40, 41, 42, 43, 45, 46, 47]\",\"[0, 4, 9, 11, 12, 13, 14, 15, 16, 17, 18, 19, 20, 21, 22, 23, 24, 25, 26, 27, 28, 29, 30, 31, 32, 33, 34, 35, 36, 37, 38, 39, 40, 41, 42, 43, 45, 46, 47]\",\"[0, 4, 9, 11, 12, 14, 15, 16, 17, 18, 19, 20, 21, 22, 23, 24, 25, 26, 27, 28, 29, 30, 31, 32, 33, 34, 35, 36, 37, 38, 39, 40, 41, 42, 43, 45, 46, 47]\",\"[0, 4, 9, 11, 12, 15, 16, 17, 18, 19, 20, 21, 22, 23, 24, 25, 26, 27, 28, 29, 30, 31, 32, 33, 34, 35, 36, 37, 38, 39, 40, 41, 42, 43, 45, 46, 47]\",\"[0, 9, 11, 12, 15, 16, 17, 18, 19, 20, 21, 22, 23, 24, 25, 26, 27, 28, 29, 30, 31, 32, 33, 34, 35, 36, 37, 38, 39, 40, 41, 42, 43, 45, 46, 47]\",\"[0, 9, 11, 12, 15, 16, 17, 18, 19, 20, 21, 22, 23, 24, 25, 26, 27, 28, 29, 30, 31, 32, 33, 34, 35, 36, 38, 39, 40, 41, 42, 43, 45, 46, 47]\",\"[0, 9, 11, 12, 15, 16, 17, 18, 19, 20, 21, 22, 23, 24, 25, 26, 27, 28, 29, 31, 32, 33, 34, 35, 36, 38, 39, 40, 41, 42, 43, 45, 46, 47]\",\"[0, 9, 11, 12, 15, 16, 17, 18, 19, 20, 21, 22, 23, 24, 25, 26, 28, 29, 31, 32, 33, 34, 35, 36, 38, 39, 40, 41, 42, 43, 45, 46, 47]\",\"[0, 9, 11, 12, 15, 16, 17, 18, 19, 20, 21, 22, 23, 24, 25, 26, 28, 29, 31, 32, 33, 34, 36, 38, 39, 40, 41, 42, 43, 45, 46, 47]\",\"[0, 9, 11, 12, 15, 16, 17, 18, 19, 20, 21, 22, 23, 24, 25, 26, 28, 29, 31, 32, 33, 34, 36, 39, 40, 41, 42, 43, 45, 46, 47]\",\"[0, 9, 11, 12, 15, 16, 17, 18, 19, 20, 21, 22, 23, 24, 25, 26, 28, 29, 31, 33, 34, 36, 39, 40, 41, 42, 43, 45, 46, 47]\",\"[0, 9, 11, 12, 15, 16, 17, 18, 19, 20, 22, 23, 24, 25, 26, 28, 29, 31, 33, 34, 36, 39, 40, 41, 42, 43, 45, 46, 47]\",\"[0, 9, 11, 12, 16, 17, 18, 19, 20, 22, 23, 24, 25, 26, 28, 29, 31, 33, 34, 36, 39, 40, 41, 42, 43, 45, 46, 47]\",\"[0, 9, 11, 12, 16, 18, 19, 20, 22, 23, 24, 25, 26, 28, 29, 31, 33, 34, 36, 39, 40, 41, 42, 43, 45, 46, 47]\",\"[0, 9, 11, 12, 16, 18, 19, 20, 22, 23, 24, 25, 26, 28, 29, 31, 33, 34, 36, 39, 40, 41, 42, 45, 46, 47]\",\"[0, 9, 11, 12, 16, 18, 19, 20, 22, 23, 24, 25, 26, 28, 29, 31, 33, 34, 36, 40, 41, 42, 45, 46, 47]\",\"[0, 9, 11, 12, 16, 18, 19, 20, 22, 23, 24, 25, 26, 29, 31, 33, 34, 36, 40, 41, 42, 45, 46, 47]\",\"[0, 9, 11, 12, 16, 18, 19, 20, 22, 23, 25, 26, 29, 31, 33, 34, 36, 40, 41, 42, 45, 46, 47]\",\"[0, 9, 11, 12, 16, 19, 20, 22, 23, 25, 26, 29, 31, 33, 34, 36, 40, 41, 42, 45, 46, 47]\",\"[0, 11, 12, 16, 19, 20, 22, 23, 25, 26, 29, 31, 33, 34, 36, 40, 41, 42, 45, 46, 47]\",\"[0, 11, 12, 16, 19, 20, 22, 23, 25, 29, 31, 33, 34, 36, 40, 41, 42, 45, 46, 47]\",\"[0, 11, 12, 16, 19, 20, 22, 23, 25, 29, 33, 34, 36, 40, 41, 42, 45, 46, 47]\",\"[0, 11, 12, 16, 19, 20, 22, 23, 25, 29, 33, 34, 36, 40, 41, 45, 46, 47]\",\"[0, 11, 12, 16, 19, 20, 22, 25, 29, 33, 34, 36, 40, 41, 45, 46, 47]\",\"[0, 11, 12, 16, 19, 20, 22, 25, 29, 34, 36, 40, 41, 45, 46, 47]\",\"[0, 11, 12, 16, 19, 20, 22, 29, 34, 36, 40, 41, 45, 46, 47]\",\"[0, 11, 12, 16, 19, 22, 29, 34, 36, 40, 41, 45, 46, 47]\",\"[0, 11, 12, 16, 19, 29, 34, 36, 40, 41, 45, 46, 47]\",\"[0, 11, 12, 16, 19, 29, 34, 36, 40, 41, 45, 46]\",\"[0, 11, 12, 16, 19, 29, 34, 36, 40, 41, 45]\",\"[0, 11, 12, 16, 19, 29, 34, 36, 41, 45]\",\"[0, 11, 12, 16, 19, 29, 34, 36, 41]\",\"[0, 11, 12, 16, 19, 29, 34, 36]\",\"[0, 11, 12, 16, 19, 34, 36]\",\"[0, 12, 16, 19, 34, 36]\",\"[0, 12, 16, 34, 36]\",\"[0, 16, 34, 36]\",\"[0, 34, 36]\",\"[0, 36]\",\"[36]\"],\"xaxis\":\"x\",\"y\":[0.9800000190734863,1.0,0.9800000190734863,0.9700000286102295,0.9900000095367432,0.9800000190734863,0.9900000095367432,0.9900000095367432,0.9800000190734863,0.9900000095367432,0.9700000286102295,0.9800000190734863,0.9800000190734863,0.9700000286102295,0.9200000166893005,0.8999999761581421,0.9300000071525574,0.9100000262260437,0.8999999761581421,0.8799999952316284,0.8799999952316284,0.8899999856948853,0.9100000262260437,0.949999988079071,0.9200000166893005,0.8399999737739563,0.8399999737739563,0.7900000214576721,0.7300000190734863,0.7400000095367432,0.6700000166893005,0.5299999713897705,0.5600000023841858,0.4699999988079071,0.5600000023841858,0.4699999988079071,0.2800000011920929,0.2800000011920929,0.1599999964237213,0.09000000357627869,0.09000000357627869,0.3400000035762787,0.18000000715255737,0.3700000047683716,0.15000000596046448,0.23999999463558197,0.07999999821186066,0.05999999865889549],\"yaxis\":\"y\",\"type\":\"bar\"}],                        {\"template\":{\"data\":{\"histogram2dcontour\":[{\"type\":\"histogram2dcontour\",\"colorbar\":{\"outlinewidth\":0,\"ticks\":\"\"},\"colorscale\":[[0.0,\"#0d0887\"],[0.1111111111111111,\"#46039f\"],[0.2222222222222222,\"#7201a8\"],[0.3333333333333333,\"#9c179e\"],[0.4444444444444444,\"#bd3786\"],[0.5555555555555556,\"#d8576b\"],[0.6666666666666666,\"#ed7953\"],[0.7777777777777778,\"#fb9f3a\"],[0.8888888888888888,\"#fdca26\"],[1.0,\"#f0f921\"]]}],\"choropleth\":[{\"type\":\"choropleth\",\"colorbar\":{\"outlinewidth\":0,\"ticks\":\"\"}}],\"histogram2d\":[{\"type\":\"histogram2d\",\"colorbar\":{\"outlinewidth\":0,\"ticks\":\"\"},\"colorscale\":[[0.0,\"#0d0887\"],[0.1111111111111111,\"#46039f\"],[0.2222222222222222,\"#7201a8\"],[0.3333333333333333,\"#9c179e\"],[0.4444444444444444,\"#bd3786\"],[0.5555555555555556,\"#d8576b\"],[0.6666666666666666,\"#ed7953\"],[0.7777777777777778,\"#fb9f3a\"],[0.8888888888888888,\"#fdca26\"],[1.0,\"#f0f921\"]]}],\"heatmap\":[{\"type\":\"heatmap\",\"colorbar\":{\"outlinewidth\":0,\"ticks\":\"\"},\"colorscale\":[[0.0,\"#0d0887\"],[0.1111111111111111,\"#46039f\"],[0.2222222222222222,\"#7201a8\"],[0.3333333333333333,\"#9c179e\"],[0.4444444444444444,\"#bd3786\"],[0.5555555555555556,\"#d8576b\"],[0.6666666666666666,\"#ed7953\"],[0.7777777777777778,\"#fb9f3a\"],[0.8888888888888888,\"#fdca26\"],[1.0,\"#f0f921\"]]}],\"heatmapgl\":[{\"type\":\"heatmapgl\",\"colorbar\":{\"outlinewidth\":0,\"ticks\":\"\"},\"colorscale\":[[0.0,\"#0d0887\"],[0.1111111111111111,\"#46039f\"],[0.2222222222222222,\"#7201a8\"],[0.3333333333333333,\"#9c179e\"],[0.4444444444444444,\"#bd3786\"],[0.5555555555555556,\"#d8576b\"],[0.6666666666666666,\"#ed7953\"],[0.7777777777777778,\"#fb9f3a\"],[0.8888888888888888,\"#fdca26\"],[1.0,\"#f0f921\"]]}],\"contourcarpet\":[{\"type\":\"contourcarpet\",\"colorbar\":{\"outlinewidth\":0,\"ticks\":\"\"}}],\"contour\":[{\"type\":\"contour\",\"colorbar\":{\"outlinewidth\":0,\"ticks\":\"\"},\"colorscale\":[[0.0,\"#0d0887\"],[0.1111111111111111,\"#46039f\"],[0.2222222222222222,\"#7201a8\"],[0.3333333333333333,\"#9c179e\"],[0.4444444444444444,\"#bd3786\"],[0.5555555555555556,\"#d8576b\"],[0.6666666666666666,\"#ed7953\"],[0.7777777777777778,\"#fb9f3a\"],[0.8888888888888888,\"#fdca26\"],[1.0,\"#f0f921\"]]}],\"surface\":[{\"type\":\"surface\",\"colorbar\":{\"outlinewidth\":0,\"ticks\":\"\"},\"colorscale\":[[0.0,\"#0d0887\"],[0.1111111111111111,\"#46039f\"],[0.2222222222222222,\"#7201a8\"],[0.3333333333333333,\"#9c179e\"],[0.4444444444444444,\"#bd3786\"],[0.5555555555555556,\"#d8576b\"],[0.6666666666666666,\"#ed7953\"],[0.7777777777777778,\"#fb9f3a\"],[0.8888888888888888,\"#fdca26\"],[1.0,\"#f0f921\"]]}],\"mesh3d\":[{\"type\":\"mesh3d\",\"colorbar\":{\"outlinewidth\":0,\"ticks\":\"\"}}],\"scatter\":[{\"fillpattern\":{\"fillmode\":\"overlay\",\"size\":10,\"solidity\":0.2},\"type\":\"scatter\"}],\"parcoords\":[{\"type\":\"parcoords\",\"line\":{\"colorbar\":{\"outlinewidth\":0,\"ticks\":\"\"}}}],\"scatterpolargl\":[{\"type\":\"scatterpolargl\",\"marker\":{\"colorbar\":{\"outlinewidth\":0,\"ticks\":\"\"}}}],\"bar\":[{\"error_x\":{\"color\":\"#2a3f5f\"},\"error_y\":{\"color\":\"#2a3f5f\"},\"marker\":{\"line\":{\"color\":\"#E5ECF6\",\"width\":0.5},\"pattern\":{\"fillmode\":\"overlay\",\"size\":10,\"solidity\":0.2}},\"type\":\"bar\"}],\"scattergeo\":[{\"type\":\"scattergeo\",\"marker\":{\"colorbar\":{\"outlinewidth\":0,\"ticks\":\"\"}}}],\"scatterpolar\":[{\"type\":\"scatterpolar\",\"marker\":{\"colorbar\":{\"outlinewidth\":0,\"ticks\":\"\"}}}],\"histogram\":[{\"marker\":{\"pattern\":{\"fillmode\":\"overlay\",\"size\":10,\"solidity\":0.2}},\"type\":\"histogram\"}],\"scattergl\":[{\"type\":\"scattergl\",\"marker\":{\"colorbar\":{\"outlinewidth\":0,\"ticks\":\"\"}}}],\"scatter3d\":[{\"type\":\"scatter3d\",\"line\":{\"colorbar\":{\"outlinewidth\":0,\"ticks\":\"\"}},\"marker\":{\"colorbar\":{\"outlinewidth\":0,\"ticks\":\"\"}}}],\"scattermapbox\":[{\"type\":\"scattermapbox\",\"marker\":{\"colorbar\":{\"outlinewidth\":0,\"ticks\":\"\"}}}],\"scatterternary\":[{\"type\":\"scatterternary\",\"marker\":{\"colorbar\":{\"outlinewidth\":0,\"ticks\":\"\"}}}],\"scattercarpet\":[{\"type\":\"scattercarpet\",\"marker\":{\"colorbar\":{\"outlinewidth\":0,\"ticks\":\"\"}}}],\"carpet\":[{\"aaxis\":{\"endlinecolor\":\"#2a3f5f\",\"gridcolor\":\"white\",\"linecolor\":\"white\",\"minorgridcolor\":\"white\",\"startlinecolor\":\"#2a3f5f\"},\"baxis\":{\"endlinecolor\":\"#2a3f5f\",\"gridcolor\":\"white\",\"linecolor\":\"white\",\"minorgridcolor\":\"white\",\"startlinecolor\":\"#2a3f5f\"},\"type\":\"carpet\"}],\"table\":[{\"cells\":{\"fill\":{\"color\":\"#EBF0F8\"},\"line\":{\"color\":\"white\"}},\"header\":{\"fill\":{\"color\":\"#C8D4E3\"},\"line\":{\"color\":\"white\"}},\"type\":\"table\"}],\"barpolar\":[{\"marker\":{\"line\":{\"color\":\"#E5ECF6\",\"width\":0.5},\"pattern\":{\"fillmode\":\"overlay\",\"size\":10,\"solidity\":0.2}},\"type\":\"barpolar\"}],\"pie\":[{\"automargin\":true,\"type\":\"pie\"}]},\"layout\":{\"autotypenumbers\":\"strict\",\"colorway\":[\"#636efa\",\"#EF553B\",\"#00cc96\",\"#ab63fa\",\"#FFA15A\",\"#19d3f3\",\"#FF6692\",\"#B6E880\",\"#FF97FF\",\"#FECB52\"],\"font\":{\"color\":\"#2a3f5f\"},\"hovermode\":\"closest\",\"hoverlabel\":{\"align\":\"left\"},\"paper_bgcolor\":\"white\",\"plot_bgcolor\":\"#E5ECF6\",\"polar\":{\"bgcolor\":\"#E5ECF6\",\"angularaxis\":{\"gridcolor\":\"white\",\"linecolor\":\"white\",\"ticks\":\"\"},\"radialaxis\":{\"gridcolor\":\"white\",\"linecolor\":\"white\",\"ticks\":\"\"}},\"ternary\":{\"bgcolor\":\"#E5ECF6\",\"aaxis\":{\"gridcolor\":\"white\",\"linecolor\":\"white\",\"ticks\":\"\"},\"baxis\":{\"gridcolor\":\"white\",\"linecolor\":\"white\",\"ticks\":\"\"},\"caxis\":{\"gridcolor\":\"white\",\"linecolor\":\"white\",\"ticks\":\"\"}},\"coloraxis\":{\"colorbar\":{\"outlinewidth\":0,\"ticks\":\"\"}},\"colorscale\":{\"sequential\":[[0.0,\"#0d0887\"],[0.1111111111111111,\"#46039f\"],[0.2222222222222222,\"#7201a8\"],[0.3333333333333333,\"#9c179e\"],[0.4444444444444444,\"#bd3786\"],[0.5555555555555556,\"#d8576b\"],[0.6666666666666666,\"#ed7953\"],[0.7777777777777778,\"#fb9f3a\"],[0.8888888888888888,\"#fdca26\"],[1.0,\"#f0f921\"]],\"sequentialminus\":[[0.0,\"#0d0887\"],[0.1111111111111111,\"#46039f\"],[0.2222222222222222,\"#7201a8\"],[0.3333333333333333,\"#9c179e\"],[0.4444444444444444,\"#bd3786\"],[0.5555555555555556,\"#d8576b\"],[0.6666666666666666,\"#ed7953\"],[0.7777777777777778,\"#fb9f3a\"],[0.8888888888888888,\"#fdca26\"],[1.0,\"#f0f921\"]],\"diverging\":[[0,\"#8e0152\"],[0.1,\"#c51b7d\"],[0.2,\"#de77ae\"],[0.3,\"#f1b6da\"],[0.4,\"#fde0ef\"],[0.5,\"#f7f7f7\"],[0.6,\"#e6f5d0\"],[0.7,\"#b8e186\"],[0.8,\"#7fbc41\"],[0.9,\"#4d9221\"],[1,\"#276419\"]]},\"xaxis\":{\"gridcolor\":\"white\",\"linecolor\":\"white\",\"ticks\":\"\",\"title\":{\"standoff\":15},\"zerolinecolor\":\"white\",\"automargin\":true,\"zerolinewidth\":2},\"yaxis\":{\"gridcolor\":\"white\",\"linecolor\":\"white\",\"ticks\":\"\",\"title\":{\"standoff\":15},\"zerolinecolor\":\"white\",\"automargin\":true,\"zerolinewidth\":2},\"scene\":{\"xaxis\":{\"backgroundcolor\":\"#E5ECF6\",\"gridcolor\":\"white\",\"linecolor\":\"white\",\"showbackground\":true,\"ticks\":\"\",\"zerolinecolor\":\"white\",\"gridwidth\":2},\"yaxis\":{\"backgroundcolor\":\"#E5ECF6\",\"gridcolor\":\"white\",\"linecolor\":\"white\",\"showbackground\":true,\"ticks\":\"\",\"zerolinecolor\":\"white\",\"gridwidth\":2},\"zaxis\":{\"backgroundcolor\":\"#E5ECF6\",\"gridcolor\":\"white\",\"linecolor\":\"white\",\"showbackground\":true,\"ticks\":\"\",\"zerolinecolor\":\"white\",\"gridwidth\":2}},\"shapedefaults\":{\"line\":{\"color\":\"#2a3f5f\"}},\"annotationdefaults\":{\"arrowcolor\":\"#2a3f5f\",\"arrowhead\":0,\"arrowwidth\":1},\"geo\":{\"bgcolor\":\"white\",\"landcolor\":\"#E5ECF6\",\"subunitcolor\":\"white\",\"showland\":true,\"showlakes\":true,\"lakecolor\":\"white\"},\"title\":{\"x\":0.05},\"mapbox\":{\"style\":\"light\"}}},\"xaxis\":{\"anchor\":\"y\",\"domain\":[0.0,1.0],\"title\":{\"text\":\"x\"},\"tickmode\":\"array\",\"tickvals\":[\"[0, 1, 2, 3, 4, 5, 6, 7, 8, 9, 10, 11, 12, 13, 14, 15, 16, 17, 18, 19, 20, 21, 22, 23, 24, 25, 26, 27, 28, 29, 30, 31, 32, 33, 34, 35, 36, 37, 38, 39, 40, 41, 42, 43, 44, 45, 46, 47]\",\"[0, 1, 2, 3, 4, 5, 6, 7, 8, 9, 10, 11, 12, 13, 14, 15, 16, 17, 18, 19, 20, 21, 22, 23, 24, 25, 26, 27, 28, 29, 30, 31, 32, 33, 34, 35, 36, 37, 38, 39, 40, 41, 42, 43, 45, 46, 47]\",\"[0, 2, 3, 4, 5, 6, 7, 8, 9, 10, 11, 12, 13, 14, 15, 16, 17, 18, 19, 20, 21, 22, 23, 24, 25, 26, 27, 28, 29, 30, 31, 32, 33, 34, 35, 36, 37, 38, 39, 40, 41, 42, 43, 45, 46, 47]\",\"[0, 3, 4, 5, 6, 7, 8, 9, 10, 11, 12, 13, 14, 15, 16, 17, 18, 19, 20, 21, 22, 23, 24, 25, 26, 27, 28, 29, 30, 31, 32, 33, 34, 35, 36, 37, 38, 39, 40, 41, 42, 43, 45, 46, 47]\",\"[0, 3, 4, 5, 7, 8, 9, 10, 11, 12, 13, 14, 15, 16, 17, 18, 19, 20, 21, 22, 23, 24, 25, 26, 27, 28, 29, 30, 31, 32, 33, 34, 35, 36, 37, 38, 39, 40, 41, 42, 43, 45, 46, 47]\",\"[0, 3, 4, 5, 8, 9, 10, 11, 12, 13, 14, 15, 16, 17, 18, 19, 20, 21, 22, 23, 24, 25, 26, 27, 28, 29, 30, 31, 32, 33, 34, 35, 36, 37, 38, 39, 40, 41, 42, 43, 45, 46, 47]\",\"[0, 4, 5, 8, 9, 10, 11, 12, 13, 14, 15, 16, 17, 18, 19, 20, 21, 22, 23, 24, 25, 26, 27, 28, 29, 30, 31, 32, 33, 34, 35, 36, 37, 38, 39, 40, 41, 42, 43, 45, 46, 47]\",\"[0, 4, 8, 9, 10, 11, 12, 13, 14, 15, 16, 17, 18, 19, 20, 21, 22, 23, 24, 25, 26, 27, 28, 29, 30, 31, 32, 33, 34, 35, 36, 37, 38, 39, 40, 41, 42, 43, 45, 46, 47]\",\"[0, 4, 9, 10, 11, 12, 13, 14, 15, 16, 17, 18, 19, 20, 21, 22, 23, 24, 25, 26, 27, 28, 29, 30, 31, 32, 33, 34, 35, 36, 37, 38, 39, 40, 41, 42, 43, 45, 46, 47]\",\"[0, 4, 9, 11, 12, 13, 14, 15, 16, 17, 18, 19, 20, 21, 22, 23, 24, 25, 26, 27, 28, 29, 30, 31, 32, 33, 34, 35, 36, 37, 38, 39, 40, 41, 42, 43, 45, 46, 47]\",\"[0, 4, 9, 11, 12, 14, 15, 16, 17, 18, 19, 20, 21, 22, 23, 24, 25, 26, 27, 28, 29, 30, 31, 32, 33, 34, 35, 36, 37, 38, 39, 40, 41, 42, 43, 45, 46, 47]\",\"[0, 4, 9, 11, 12, 15, 16, 17, 18, 19, 20, 21, 22, 23, 24, 25, 26, 27, 28, 29, 30, 31, 32, 33, 34, 35, 36, 37, 38, 39, 40, 41, 42, 43, 45, 46, 47]\",\"[0, 9, 11, 12, 15, 16, 17, 18, 19, 20, 21, 22, 23, 24, 25, 26, 27, 28, 29, 30, 31, 32, 33, 34, 35, 36, 37, 38, 39, 40, 41, 42, 43, 45, 46, 47]\",\"[0, 9, 11, 12, 15, 16, 17, 18, 19, 20, 21, 22, 23, 24, 25, 26, 27, 28, 29, 30, 31, 32, 33, 34, 35, 36, 38, 39, 40, 41, 42, 43, 45, 46, 47]\",\"[0, 9, 11, 12, 15, 16, 17, 18, 19, 20, 21, 22, 23, 24, 25, 26, 27, 28, 29, 31, 32, 33, 34, 35, 36, 38, 39, 40, 41, 42, 43, 45, 46, 47]\",\"[0, 9, 11, 12, 15, 16, 17, 18, 19, 20, 21, 22, 23, 24, 25, 26, 28, 29, 31, 32, 33, 34, 35, 36, 38, 39, 40, 41, 42, 43, 45, 46, 47]\",\"[0, 9, 11, 12, 15, 16, 17, 18, 19, 20, 21, 22, 23, 24, 25, 26, 28, 29, 31, 32, 33, 34, 36, 38, 39, 40, 41, 42, 43, 45, 46, 47]\",\"[0, 9, 11, 12, 15, 16, 17, 18, 19, 20, 21, 22, 23, 24, 25, 26, 28, 29, 31, 32, 33, 34, 36, 39, 40, 41, 42, 43, 45, 46, 47]\",\"[0, 9, 11, 12, 15, 16, 17, 18, 19, 20, 21, 22, 23, 24, 25, 26, 28, 29, 31, 33, 34, 36, 39, 40, 41, 42, 43, 45, 46, 47]\",\"[0, 9, 11, 12, 15, 16, 17, 18, 19, 20, 22, 23, 24, 25, 26, 28, 29, 31, 33, 34, 36, 39, 40, 41, 42, 43, 45, 46, 47]\",\"[0, 9, 11, 12, 16, 17, 18, 19, 20, 22, 23, 24, 25, 26, 28, 29, 31, 33, 34, 36, 39, 40, 41, 42, 43, 45, 46, 47]\",\"[0, 9, 11, 12, 16, 18, 19, 20, 22, 23, 24, 25, 26, 28, 29, 31, 33, 34, 36, 39, 40, 41, 42, 43, 45, 46, 47]\",\"[0, 9, 11, 12, 16, 18, 19, 20, 22, 23, 24, 25, 26, 28, 29, 31, 33, 34, 36, 39, 40, 41, 42, 45, 46, 47]\",\"[0, 9, 11, 12, 16, 18, 19, 20, 22, 23, 24, 25, 26, 28, 29, 31, 33, 34, 36, 40, 41, 42, 45, 46, 47]\",\"[0, 9, 11, 12, 16, 18, 19, 20, 22, 23, 24, 25, 26, 29, 31, 33, 34, 36, 40, 41, 42, 45, 46, 47]\",\"[0, 9, 11, 12, 16, 18, 19, 20, 22, 23, 25, 26, 29, 31, 33, 34, 36, 40, 41, 42, 45, 46, 47]\",\"[0, 9, 11, 12, 16, 19, 20, 22, 23, 25, 26, 29, 31, 33, 34, 36, 40, 41, 42, 45, 46, 47]\",\"[0, 11, 12, 16, 19, 20, 22, 23, 25, 26, 29, 31, 33, 34, 36, 40, 41, 42, 45, 46, 47]\",\"[0, 11, 12, 16, 19, 20, 22, 23, 25, 29, 31, 33, 34, 36, 40, 41, 42, 45, 46, 47]\",\"[0, 11, 12, 16, 19, 20, 22, 23, 25, 29, 33, 34, 36, 40, 41, 42, 45, 46, 47]\",\"[0, 11, 12, 16, 19, 20, 22, 23, 25, 29, 33, 34, 36, 40, 41, 45, 46, 47]\",\"[0, 11, 12, 16, 19, 20, 22, 25, 29, 33, 34, 36, 40, 41, 45, 46, 47]\",\"[0, 11, 12, 16, 19, 20, 22, 25, 29, 34, 36, 40, 41, 45, 46, 47]\",\"[0, 11, 12, 16, 19, 20, 22, 29, 34, 36, 40, 41, 45, 46, 47]\",\"[0, 11, 12, 16, 19, 22, 29, 34, 36, 40, 41, 45, 46, 47]\",\"[0, 11, 12, 16, 19, 29, 34, 36, 40, 41, 45, 46, 47]\",\"[0, 11, 12, 16, 19, 29, 34, 36, 40, 41, 45, 46]\",\"[0, 11, 12, 16, 19, 29, 34, 36, 40, 41, 45]\",\"[0, 11, 12, 16, 19, 29, 34, 36, 41, 45]\",\"[0, 11, 12, 16, 19, 29, 34, 36, 41]\",\"[0, 11, 12, 16, 19, 29, 34, 36]\",\"[0, 11, 12, 16, 19, 34, 36]\",\"[0, 12, 16, 19, 34, 36]\",\"[0, 12, 16, 34, 36]\",\"[0, 16, 34, 36]\",\"[0, 34, 36]\",\"[0, 36]\",\"[36]\"],\"ticktext\":[\"[0, 1, 2, 3, 4, 5, 6, 7, 8, 9, 10, 11, 12, 13, 14, 15, 16, 17, 18, 19, 20, 21, 22, 23, 24, 25, 26, 27, 28, 29, 30, 31, 32, 33, 34, 35, 36, 37, 38, 39, 40, 41, 42, 43, 44, 45, 46, 47]\",\"[0, 1, 2, 3, 4, 5, 6, 7, 8, 9, 10, 11, 12, 13, 14, 15, 16, 17, 18, 19, 20, 21, 22, 23, 24, 25, 26, 27, 28, 29, 30, 31, 32, 33, 34, 35, 36, 37, 38, 39, 40, 41, 42, 43, 45, 46, 47]\",\"[0, 2, 3, 4, 5, 6, 7, 8, 9, 10, 11, 12, 13, 14, 15, 16, 17, 18, 19, 20, 21, 22, 23, 24, 25, 26, 27, 28, 29, 30, 31, 32, 33, 34, 35, 36, 37, 38, 39, 40, 41, 42, 43, 45, 46, 47]\",\"[0, 3, 4, 5, 6, 7, 8, 9, 10, 11, 12, 13, 14, 15, 16, 17, 18, 19, 20, 21, 22, 23, 24, 25, 26, 27, 28, 29, 30, 31, 32, 33, 34, 35, 36, 37, 38, 39, 40, 41, 42, 43, 45, 46, 47]\",\"[0, 3, 4, 5, 7, 8, 9, 10, 11, 12, 13, 14, 15, 16, 17, 18, 19, 20, 21, 22, 23, 24, 25, 26, 27, 28, 29, 30, 31, 32, 33, 34, 35, 36, 37, 38, 39, 40, 41, 42, 43, 45, 46, 47]\",\"[0, 3, 4, 5, 8, 9, 10, 11, 12, 13, 14, 15, 16, 17, 18, 19, 20, 21, 22, 23, 24, 25, 26, 27, 28, 29, 30, 31, 32, 33, 34, 35, 36, 37, 38, 39, 40, 41, 42, 43, 45, 46, 47]\",\"[0, 4, 5, 8, 9, 10, 11, 12, 13, 14, 15, 16, 17, 18, 19, 20, 21, 22, 23, 24, 25, 26, 27, 28, 29, 30, 31, 32, 33, 34, 35, 36, 37, 38, 39, 40, 41, 42, 43, 45, 46, 47]\",\"[0, 4, 8, 9, 10, 11, 12, 13, 14, 15, 16, 17, 18, 19, 20, 21, 22, 23, 24, 25, 26, 27, 28, 29, 30, 31, 32, 33, 34, 35, 36, 37, 38, 39, 40, 41, 42, 43, 45, 46, 47]\",\"[0, 4, 9, 10, 11, 12, 13, 14, 15, 16, 17, 18, 19, 20, 21, 22, 23, 24, 25, 26, 27, 28, 29, 30, 31, 32, 33, 34, 35, 36, 37, 38, 39, 40, 41, 42, 43, 45, 46, 47]\",\"[0, 4, 9, 11, 12, 13, 14, 15, 16, 17, 18, 19, 20, 21, 22, 23, 24, 25, 26, 27, 28, 29, 30, 31, 32, 33, 34, 35, 36, 37, 38, 39, 40, 41, 42, 43, 45, 46, 47]\",\"[0, 4, 9, 11, 12, 14, 15, 16, 17, 18, 19, 20, 21, 22, 23, 24, 25, 26, 27, 28, 29, 30, 31, 32, 33, 34, 35, 36, 37, 38, 39, 40, 41, 42, 43, 45, 46, 47]\",\"[0, 4, 9, 11, 12, 15, 16, 17, 18, 19, 20, 21, 22, 23, 24, 25, 26, 27, 28, 29, 30, 31, 32, 33, 34, 35, 36, 37, 38, 39, 40, 41, 42, 43, 45, 46, 47]\",\"[0, 9, 11, 12, 15, 16, 17, 18, 19, 20, 21, 22, 23, 24, 25, 26, 27, 28, 29, 30, 31, 32, 33, 34, 35, 36, 37, 38, 39, 40, 41, 42, 43, 45, 46, 47]\",\"[0, 9, 11, 12, 15, 16, 17, 18, 19, 20, 21, 22, 23, 24, 25, 26, 27, 28, 29, 30, 31, 32, 33, 34, 35, 36, 38, 39, 40, 41, 42, 43, 45, 46, 47]\",\"[0, 9, 11, 12, 15, 16, 17, 18, 19, 20, 21, 22, 23, 24, 25, 26, 27, 28, 29, 31, 32, 33, 34, 35, 36, 38, 39, 40, 41, 42, 43, 45, 46, 47]\",\"[0, 9, 11, 12, 15, 16, 17, 18, 19, 20, 21, 22, 23, 24, 25, 26, 28, 29, 31, 32, 33, 34, 35, 36, 38, 39, 40, 41, 42, 43, 45, 46, 47]\",\"[0, 9, 11, 12, 15, 16, 17, 18, 19, 20, 21, 22, 23, 24, 25, 26, 28, 29, 31, 32, 33, 34, 36, 38, 39, 40, 41, 42, 43, 45, 46, 47]\",\"[0, 9, 11, 12, 15, 16, 17, 18, 19, 20, 21, 22, 23, 24, 25, 26, 28, 29, 31, 32, 33, 34, 36, 39, 40, 41, 42, 43, 45, 46, 47]\",\"[0, 9, 11, 12, 15, 16, 17, 18, 19, 20, 21, 22, 23, 24, 25, 26, 28, 29, 31, 33, 34, 36, 39, 40, 41, 42, 43, 45, 46, 47]\",\"[0, 9, 11, 12, 15, 16, 17, 18, 19, 20, 22, 23, 24, 25, 26, 28, 29, 31, 33, 34, 36, 39, 40, 41, 42, 43, 45, 46, 47]\",\"[0, 9, 11, 12, 16, 17, 18, 19, 20, 22, 23, 24, 25, 26, 28, 29, 31, 33, 34, 36, 39, 40, 41, 42, 43, 45, 46, 47]\",\"[0, 9, 11, 12, 16, 18, 19, 20, 22, 23, 24, 25, 26, 28, 29, 31, 33, 34, 36, 39, 40, 41, 42, 43, 45, 46, 47]\",\"[0, 9, 11, 12, 16, 18, 19, 20, 22, 23, 24, 25, 26, 28, 29, 31, 33, 34, 36, 39, 40, 41, 42, 45, 46, 47]\",\"[0, 9, 11, 12, 16, 18, 19, 20, 22, 23, 24, 25, 26, 28, 29, 31, 33, 34, 36, 40, 41, 42, 45, 46, 47]\",\"[0, 9, 11, 12, 16, 18, 19, 20, 22, 23, 24, 25, 26, 29, 31, 33, 34, 36, 40, 41, 42, 45, 46, 47]\",\"[0, 9, 11, 12, 16, 18, 19, 20, 22, 23, 25, 26, 29, 31, 33, 34, 36, 40, 41, 42, 45, 46, 47]\",\"[0, 9, 11, 12, 16, 19, 20, 22, 23, 25, 26, 29, 31, 33, 34, 36, 40, 41, 42, 45, 46, 47]\",\"[0, 11, 12, 16, 19, 20, 22, 23, 25, 26, 29, 31, 33, 34, 36, 40, 41, 42, 45, 46, 47]\",\"[0, 11, 12, 16, 19, 20, 22, 23, 25, 29, 31, 33, 34, 36, 40, 41, 42, 45, 46, 47]\",\"[0, 11, 12, 16, 19, 20, 22, 23, 25, 29, 33, 34, 36, 40, 41, 42, 45, 46, 47]\",\"[0, 11, 12, 16, 19, 20, 22, 23, 25, 29, 33, 34, 36, 40, 41, 45, 46, 47]\",\"[0, 11, 12, 16, 19, 20, 22, 25, 29, 33, 34, 36, 40, 41, 45, 46, 47]\",\"[0, 11, 12, 16, 19, 20, 22, 25, 29, 34, 36, 40, 41, 45, 46, 47]\",\"[0, 11, 12, 16, 19, 20, 22, 29, 34, 36, 40, 41, 45, 46, 47]\",\"[0, 11, 12, 16, 19, 22, 29, 34, 36, 40, 41, 45, 46, 47]\",\"[0, 11, 12, 16, 19, 29, 34, 36, 40, 41, 45, 46, 47]\",\"[0, 11, 12, 16, 19, 29, 34, 36, 40, 41, 45, 46]\",\"[0, 11, 12, 16, 19, 29, 34, 36, 40, 41, 45]\",\"[0, 11, 12, 16, 19, 29, 34, 36, 41, 45]\",\"[0, 11, 12, 16, 19, 29, 34, 36, 41]\",\"[0, 11, 12, 16, 19, 29, 34, 36]\",\"[0, 11, 12, 16, 19, 34, 36]\",\"[0, 12, 16, 19, 34, 36]\",\"[0, 12, 16, 34, 36]\",\"[0, 16, 34, 36]\",\"[0, 34, 36]\",\"[0, 36]\",\"[36]\"]},\"yaxis\":{\"anchor\":\"x\",\"domain\":[0.0,1.0],\"title\":{\"text\":\"accuracy\"}},\"legend\":{\"tracegroupgap\":0},\"title\":{\"text\":\"greater than pruning layers accuracy\"},\"barmode\":\"relative\",\"font\":{\"size\":4,\"color\":\"black\"}},                        {\"responsive\": true}                    ).then(function(){\n",
       "                            \n",
       "var gd = document.getElementById('e37f81f5-8858-4b8e-bce6-f127303550db');\n",
       "var x = new MutationObserver(function (mutations, observer) {{\n",
       "        var display = window.getComputedStyle(gd).display;\n",
       "        if (!display || display === 'none') {{\n",
       "            console.log([gd, 'removed!']);\n",
       "            Plotly.purge(gd);\n",
       "            observer.disconnect();\n",
       "        }}\n",
       "}});\n",
       "\n",
       "// Listen for the removal of the full notebook cells\n",
       "var notebookContainer = gd.closest('#notebook-container');\n",
       "if (notebookContainer) {{\n",
       "    x.observe(notebookContainer, {childList: true});\n",
       "}}\n",
       "\n",
       "// Listen for the clearing of the current output cell\n",
       "var outputEl = gd.closest('.output');\n",
       "if (outputEl) {{\n",
       "    x.observe(outputEl, {childList: true});\n",
       "}}\n",
       "\n",
       "                        })                };                });            </script>        </div>"
      ]
     },
     "metadata": {},
     "output_type": "display_data"
    }
   ],
   "source": [
    "bar_chart(history_stats[:,0], x_labels=[str(x) for x in history], y_label=f'{relative_str}pr of correct', title=f\"{data_type} pruning layers{relative_str}pr correct\", font_size=4)\n",
    "bar_chart(history_stats[:,1], x_labels=[str(x) for x in history], y_label=f'{relative_str}pr of incorrect', title=f\"{data_type} pruning layers{relative_str}pr incorrect\", font_size=4)\n",
    "bar_chart(history_stats[:,2], x_labels=[str(x) for x in history], y_label='accuracy', title=f\"{data_type} pruning layers accuracy\", font_size=4)\n",
    "\n",
    "\n",
    "\n",
    "\n",
    "\n"
   ]
  },
  {
   "cell_type": "code",
   "execution_count": null,
   "id": "44f0f5a2-fd5f-42b5-8411-2d171eb5642a",
   "metadata": {},
   "outputs": [],
   "source": []
  }
 ],
 "metadata": {
  "kernelspec": {
   "display_name": "Python 3 (ipykernel)",
   "language": "python",
   "name": "python3"
  },
  "language_info": {
   "codemirror_mode": {
    "name": "ipython",
    "version": 3
   },
   "file_extension": ".py",
   "mimetype": "text/x-python",
   "name": "python",
   "nbconvert_exporter": "python",
   "pygments_lexer": "ipython3",
   "version": "3.10.11"
  }
 },
 "nbformat": 4,
 "nbformat_minor": 5
}

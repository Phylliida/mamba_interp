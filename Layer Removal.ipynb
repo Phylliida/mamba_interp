{
 "cells": [
  {
   "cell_type": "code",
   "execution_count": 1,
   "id": "f9a78832-f1cb-42a6-a907-f48bdd542a13",
   "metadata": {},
   "outputs": [],
   "source": [
    "import pandas as pd\n",
    "import plotly.express as px\n",
    "import torch\n",
    "from einops import rearrange\n",
    "import torch\n",
    "import tqdm"
   ]
  },
  {
   "cell_type": "code",
   "execution_count": 2,
   "id": "7be2fe9a-9fac-41ad-86cd-73ca5d0f3db5",
   "metadata": {},
   "outputs": [
    {
     "name": "stderr",
     "output_type": "stream",
     "text": [
      "/opt/conda/lib/python3.10/site-packages/torch/_utils.py:776: UserWarning: TypedStorage is deprecated. It will be removed in the future and UntypedStorage will be the only storage class. This should only matter to you if you are using storages directly.  To access UntypedStorage directly, use tensor.untyped_storage() instead of tensor.storage()\n",
      "  return self.fget.__get__(instance, owner)()\n",
      "Special tokens have been added in the vocabulary, make sure the associated word embeddings are fine-tuned or trained.\n"
     ]
    },
    {
     "name": "stdout",
     "output_type": "stream",
     "text": [
      "Moving model to device:  cuda\n"
     ]
    },
    {
     "data": {
      "text/plain": [
       "<torch.autograd.grad_mode.set_grad_enabled at 0x7f64dee87400>"
      ]
     },
     "execution_count": 2,
     "metadata": {},
     "output_type": "execute_result"
    }
   ],
   "source": [
    "from importlib import reload\n",
    "from mamba_lens import HookedMamba\n",
    "model = HookedMamba.from_pretrained(\"state-spaces/mamba-370m\", device='cuda')\n",
    "torch.set_grad_enabled(False)"
   ]
  },
  {
   "cell_type": "code",
   "execution_count": 58,
   "id": "781e3268-eb97-4b19-bb45-f3584a770828",
   "metadata": {},
   "outputs": [],
   "source": [
    "def get_pad_token(tokenizer):\n",
    "    return model.tokenizer.encode(model.tokenizer.pad_token, add_special_tokens=False)[0]\n",
    "\n",
    "# given data that is [N,V] and indicies that are [N,K] with each index being an index into the V space\n",
    "# this does what you'd want, it indexes them\n",
    "# idk, see the test\n",
    "def index_into(data, indices):\n",
    "    num_data, num_per_data = indices.size()\n",
    "    # we want\n",
    "    # [0,0,0,...,] num per data of these\n",
    "    # [1,1,1,...,] num per data of these\n",
    "    # ...\n",
    "    # [num_data-1, num_data-1, ...]\n",
    "    first_axis_index = torch.arange(num_data, dtype=torch.long).view(num_data, 1)*torch.ones([num_data, num_per_data], dtype=torch.long)\n",
    "    # now we flatten it so it has an index for each term aligned with our indices\n",
    "    first_axis_index = first_axis_index.flatten()\n",
    "\n",
    "    second_axis_index = indices.flatten()\n",
    "    # now we can just index, and then view back to our original shape\n",
    "    return data[first_axis_index, second_axis_index].view(num_data, num_per_data)\n",
    "    \n",
    "\n",
    "def eval_debug(model, data, correct, incorrect, constrain_to_answers, **kwargs):\n",
    "    for data_i in range(correct.size()[0]):\n",
    "        input = model.tokenizer.decode(data[data_i])\n",
    "        top_k = 2\n",
    "        logits = model.forward(input, **kwargs)[0,-1]\n",
    "        correct_answers = correct[data_i]\n",
    "        incorrect_answers = incorrect[data_i]\n",
    "        if constrain_to_answers:\n",
    "            only_consider_answer_logits = torch.full(logits.size(), fill_value=-torch.inf, device=model.cfg.device)\n",
    "            only_consider_answer_logits[correct_answers] = logits[correct_answers]\n",
    "            only_consider_answer_logits[incorrect_answers] = logits[incorrect_answers]\n",
    "            logits = only_consider_answer_logits\n",
    "        prs = torch.nn.functional.softmax(logits, dim=0)\n",
    "        top = torch.argsort(-logits)[:top_k]\n",
    "        printed = False\n",
    "        printed_prompt = False\n",
    "        for i, tok in enumerate(top):\n",
    "            if not i == 0 and tok in correct_answers:\n",
    "                if not printed_prompt:\n",
    "                    print(\"prompt\", input)\n",
    "                    printed_prompt = True\n",
    "                print(f\"  correct top {i} token {repr(model.tokenizer.decode([tok]))} logit {logits[tok]} prs {prs[tok]}\")\n",
    "                printed = True\n",
    "                #print(\"correct\")\n",
    "                #print(f\"token {model.tokenizer.decode([tok])} logit {logits[tok]} prs {prs[tok]}\")\n",
    "            elif i == 0 and not tok in correct_answers:\n",
    "                if not printed_prompt:\n",
    "                    print(\"prompt\", input)\n",
    "                    printed_prompt = True\n",
    "                print(f\"  incorrect top {i} token {repr(model.tokenizer.decode([tok]))} logit {logits[tok]} prs {prs[tok]}\")\n",
    "                printed = True\n",
    "        if printed:\n",
    "            print()\n",
    "\n",
    "def eval(model, data, correct, incorrect, constrain_to_answers, **kwargs):\n",
    "        num_examples = correct.size()[0]\n",
    "        logits = model(data, **kwargs)[:,-1]\n",
    "        pad = get_pad_token(tokenizer=model.tokenizer)\n",
    "        logits[:,pad] = -torch.inf # manually set pad pr to -inf logit because sometimes we need to pad num correct or num incorrect\n",
    "\n",
    "        n_data, n_correct = correct.size()\n",
    "        n_data, n_incorrect = incorrect.size()\n",
    "\n",
    "        if constrain_to_answers:\n",
    "            # [n_data, n_correct]\n",
    "            correct_logits = index_into(logits, correct)\n",
    "            # [n_data, n_incorrect]\n",
    "            incorrect_logits = index_into(logits, incorrect)\n",
    "            # [n_data, n_correct + n_incorrect]\n",
    "            combined_logits = torch.concatenate([correct_logits, incorrect_logits], dim=1)\n",
    "            combined_prs = torch.softmax(combined_logits, dim=1)\n",
    "            biggest = torch.argsort(-combined_prs, dim=1)\n",
    "            # if biggest pr is in the correct, we are correct, otherwise, we are not\n",
    "            num_correct = torch.sum(biggest[:,0] < n_correct)\n",
    "    \n",
    "            correct_prs, incorrect_prs = combined_prs.split([n_correct, n_incorrect], dim=1)\n",
    "        else:\n",
    "            prs = torch.nn.functional.softmax(logits, dim=1)\n",
    "            # [n_data, n_correct]\n",
    "            correct_prs = index_into(prs, correct)\n",
    "            # [n_data, n_incorrect]\n",
    "            incorrect_prs = index_into(prs, incorrect)\n",
    "            # [n_data, 1]\n",
    "            top_tokens = torch.topk(logits, 1, dim=1).indices\n",
    "            # [n_data, n_correct]\n",
    "            in_correct = top_tokens == correct\n",
    "            # [n_data]\n",
    "            has_any_correct = torch.any(in_correct, dim=1)\n",
    "            # [1]\n",
    "            num_correct = torch.sum(has_any_correct)\n",
    "    \n",
    "        # the sum(dim=1) is because we or of all the different possible probabilities by summing\n",
    "        # then we'll just report the average\n",
    "        return torch.mean(correct_prs.sum(dim=1)).item(), torch.mean(incorrect_prs.sum(dim=1)).item(), num_correct.item()/float(n_data)\n",
    "    \n",
    "    \n",
    "        # doing this doesn't work because they get too small and numerical precision issues\n",
    "        # instead we should softmax over the restricted logits\n",
    "        '''\n",
    "        prs = torch.nn.functional.softmax(logits, dim=1)\n",
    "        #for i in range(tops.size()[0]):\n",
    "        #    print(model.to_str_tokens([tops[i,0]]), tops[i,0], logits[i, tops[i,0]], prs[i, tops[i,0]])\n",
    "        #    break\n",
    "        # [n_data, n_correct]\n",
    "        correct_prs = index_into(prs, correct)\n",
    "        # [n_data, n_incorrect]\n",
    "        incorrect_prs = index_into(prs, incorrect)\n",
    "        # [n_data, 1]\n",
    "        total_prs = correct_prs.sum(dim=1, keepdim=True)+incorrect_prs.sum(dim=1, keepdim=True)\n",
    "        total_prs[total_prs == 0] = 1.0\n",
    "        correct_prs /= total_prs\n",
    "        incorrect_prs /= total_prs\n",
    "\n",
    "        # [n_data, n_correct + n_incorrect]\n",
    "        combined = torch.concatenate([correct_prs, incorrect_prs], dim=1)\n",
    "        biggest = torch.argsort(-combined, dim=1)\n",
    "        n_data, n_correct = correct.size()\n",
    "        # if biggest pr is in the correct, we are correct, otherwise, we are not\n",
    "        num_correct = torch.sum(biggest[:,0] < n_correct)\n",
    "        print(biggest[:0])\n",
    "        print(combined[3:5])\n",
    "        '''\n",
    "\n",
    "def add_padding_answers(tokenizer, answers):\n",
    "    longest_len = len(max(answers, key=lambda x: len(x)))\n",
    "    padded_answers = []\n",
    "    pad_token = get_pad_token(tokenizer=tokenizer)\n",
    "    for answer in answers:\n",
    "        padded_answers.append(answer + [pad_token]*(longest_len-len(answer)))\n",
    "    return padded_answers\n",
    "\n",
    "def get_batched_data(data):\n",
    "    batched_data = []\n",
    "    batched_correct = []\n",
    "    batched_incorrect = []\n",
    "    \n",
    "    for i, (prompt, corrects, incorrects) in enumerate(data):\n",
    "        if i < 3:\n",
    "            print(prompt, corrects, incorrects)\n",
    "        batched_data.append(torch.tensor(model.tokenizer.encode(prompt), device=model.cfg.device))\n",
    "        batched_correct.append([model.tokenizer.encode(correct)[0] for correct in corrects])\n",
    "        batched_incorrect.append([model.tokenizer.encode(incorrect)[0] for incorrect in incorrects])\n",
    "    try:\n",
    "        batched_data = torch.stack(batched_data)\n",
    "        batched_correct = torch.tensor(add_padding_answers(tokenizer=model.tokenizer, answers=batched_correct), device=model.cfg.device)\n",
    "        batched_incorrect = torch.tensor(add_padding_answers(tokenizer=model.tokenizer, answers=batched_incorrect), device=model.cfg.device)\n",
    "    except RuntimeError:\n",
    "        typical_len = len(batched_data[0])\n",
    "        for s in batched_data:\n",
    "            if not len(s) == typical_len:\n",
    "                print(len(s), \"is len of this, typical len is\", typical_len, \"for sequence\", model.to_str_tokens(s))\n",
    "        raise\n",
    "    return batched_data, batched_correct, batched_incorrect\n",
    "\n",
    "def bar_chart(data, x_labels, y_label, title, font_size=None):\n",
    "    # it requires a pandas dict with the columns and rows named, annoying\n",
    "    # by default rows and columns are named with ints so we relabel them accordingly\n",
    "    renames = dict([(i, x_labels[i]) for i in range(len(x_labels))])\n",
    "    ps = pd.DataFrame(data.cpu().numpy()).rename(renames, axis='rows').rename({0: y_label}, axis='columns')\n",
    "    fig = px.bar(ps, y=y_label, x=x_labels, title=title)\n",
    "    if not font_size is None:\n",
    "        fig.update_layout(\n",
    "          xaxis = dict(\n",
    "            tickmode='array',\n",
    "            tickvals = x_labels,\n",
    "            ticktext = x_labels, \n",
    "            ),\n",
    "           font=dict(size=font_size, color=\"black\"))\n",
    "        \n",
    "        #fig.update_xaxes(title_font=dict(size=font_size))\n",
    "    \n",
    "    fig.show()"
   ]
  },
  {
   "cell_type": "code",
   "execution_count": 68,
   "id": "440ec1b4-7953-4fd3-b4a2-d71229f5c372",
   "metadata": {},
   "outputs": [
    {
     "name": "stdout",
     "output_type": "stream",
     "text": [
      "data\n",
      "\n",
      "def string(self, event, module, count, current, run, parser):\n",
      "    \"\"\"mark history second\n",
      "\n",
      "    :param count: sort trial\n",
      "    :param current: request campaign\n",
      "    :param [' run'] [' start', ' row', ' response', ' form', ' index', ' query', ' resource', ' output', ' count', ' current', ' event', ' module', ' parser']\n",
      "\n",
      "def string(self, event, module, count, current, start, parser):\n",
      "    \"\"\"mark history second\n",
      "\n",
      "    :param count: sort trial\n",
      "    :param current: request campaign\n",
      "    :param [' start'] [' row', ' response', ' form', ' index', ' query', ' resource', ' output', ' count', ' current', ' event', ' module', ' parser', ' run']\n",
      "\n",
      "def instance(self, shape, context, code, index, result, names):\n",
      "    \"\"\"faith data screen\n",
      "\n",
      "    :param code: sum item\n",
      "    :param index: stock section\n",
      "    :param [' result'] [' parser', ' old', ' date', ' default', ' size', ' settings', ' status', ' found', ' code', ' index', ' shape', ' context', ' names']\n",
      "valid\n",
      "\n",
      "def required(self, module, text, token, event, fields, file):\n",
      "    \"\"\"core connection circle\n",
      "\n",
      "    :param token: map function\n",
      "    :param event: method angle\n",
      "    :param [' fields'] [' array', ' host', ' color', ' model', ' table', ' root', ' server', ' data', ' token', ' event', ' module', ' text', ' file']\n",
      "\n",
      "def required(self, module, text, token, event, array, file):\n",
      "    \"\"\"core connection circle\n",
      "\n",
      "    :param token: map function\n",
      "    :param event: method angle\n",
      "    :param [' array'] [' host', ' color', ' model', ' table', ' root', ' server', ' data', ' token', ' event', ' module', ' text', ' file', ' fields']\n",
      "\n",
      "def array(self, item, info, update, color, mode, log):\n",
      "    \"\"\"help network master\n",
      "\n",
      "    :param update: health lad\n",
      "    :param color: will element\n",
      "    :param [' mode'] [' first', ' name', ' test', ' string', ' shape', ' request', ' call', ' num', ' update', ' color', ' item', ' info', ' log']\n",
      "test\n",
      "\n",
      "def shape(self, format, number, log, item, json, run):\n",
      "    \"\"\"working adult travel\n",
      "\n",
      "    :param log: store impact\n",
      "    :param item: stand screen\n",
      "    :param [' json'] [' filename', ' task', ' response', ' action', ' create', ' label', ' base', ' valid', ' log', ' item', ' format', ' number', ' run']\n",
      "\n",
      "def shape(self, format, number, log, item, filename, run):\n",
      "    \"\"\"working adult travel\n",
      "\n",
      "    :param log: store impact\n",
      "    :param item: stand screen\n",
      "    :param [' filename'] [' task', ' response', ' action', ' create', ' label', ' base', ' valid', ' log', ' item', ' format', ' number', ' run', ' json']\n",
      "\n",
      "def data(self, source, size, required, function, name, color):\n",
      "    \"\"\"actor chart import\n",
      "\n",
      "    :param required: application coal\n",
      "    :param function: run position\n",
      "    :param [' name'] [' load', ' end', ' project', ' response', ' parser', ' form', ' result', ' error', ' required', ' function', ' source', ' size', ' color']\n"
     ]
    }
   ],
   "source": [
    "## Generate data\n",
    "\n",
    "from docstring import docstring_prompt_generator_function\n",
    "from importlib import reload\n",
    "import test_data\n",
    "reload(test_data)\n",
    "from test_data import IOI_generator, BABA_TEMPLATES, greater_than_data_generator, ABC_TEMPLATES\n",
    "\n",
    "out_acc = torch.zeros([model.cfg.n_layers], device=model.cfg.device)\n",
    "out_prs_correct = torch.zeros([model.cfg.n_layers], device=model.cfg.device)\n",
    "out_prs_incorrect = torch.zeros([model.cfg.n_layers], device=model.cfg.device)\n",
    "\n",
    "num_examples = 100\n",
    "\n",
    "seed = 27\n",
    "valid_seed = 37\n",
    "test_seed = 47\n",
    "\n",
    "data_type = 'docstring'\n",
    "\n",
    "constrain_to_answers = True\n",
    "\n",
    "if data_type == 'ioi':\n",
    "    data = IOI_generator(templates=[BABA_TEMPLATES[1]], tokenizer=model.tokenizer, num_examples=num_examples, symmetric=True, seed=seed)\n",
    "    valid_data = IOI_generator(templates=[BABA_TEMPLATES[1]], tokenizer=model.tokenizer, num_examples=num_examples, symmetric=True, seed=valid_seed)\n",
    "    test_data = IOI_generator(templates=[BABA_TEMPLATES[1]], tokenizer=model.tokenizer, num_examples=num_examples, symmetric=True, seed=test_seed)\n",
    "elif data_type == 'docstring':\n",
    "    data = docstring_prompt_generator_function(tokenizer=model.tokenizer, num_examples=num_examples, corrupt='random_answer', seed=seed)\n",
    "    valid_data = docstring_prompt_generator_function(tokenizer=model.tokenizer, num_examples=num_examples, corrupt='random_answer', seed=valid_seed)\n",
    "    test_data = docstring_prompt_generator_function(tokenizer=model.tokenizer, num_examples=num_examples, corrupt='random_answer', seed=test_seed)\n",
    "elif data_type == 'greater than':\n",
    "    constrain_to_answers = False\n",
    "    data = greater_than_data_generator(tokenizer=model.tokenizer, num_examples=num_examples, seed=seed)\n",
    "    valid_data = greater_than_data_generator(tokenizer=model.tokenizer, num_examples=num_examples, seed=valid_seed)\n",
    "    test_data = greater_than_data_generator(tokenizer=model.tokenizer, num_examples=num_examples, seed=test_seed)\n",
    "print(\"data\")\n",
    "batched_data, batched_correct, batched_incorrect = get_batched_data(data)\n",
    "print(\"valid\")\n",
    "vbatched_data, vbatched_correct, vbatched_incorrect = get_batched_data(valid_data)\n",
    "print(\"test\")\n",
    "tbatched_data, tbatched_correct, tbatched_incorrect = get_batched_data(test_data)\n",
    "\n"
   ]
  },
  {
   "cell_type": "code",
   "execution_count": null,
   "id": "630f838d-f2fc-46e8-ba1a-22bbc5e593cb",
   "metadata": {},
   "outputs": [],
   "source": [
    "## Run the layer removal experiments\n",
    "pr_is_relative = constrain_to_answers\n",
    "relative_str = ' relative ' if constrain_to_answers else ' '\n",
    "\n",
    "print(f\"constraining output to answers? {constrain_to_answers}\")\n",
    "\n",
    "history = []\n",
    "history_stats = []\n",
    "layers_to_remove = []\n",
    "while len(layers_to_remove) < model.cfg.n_layers:\n",
    "    base_layers = list(range(model.cfg.n_layers))\n",
    "\n",
    "\n",
    "    for layer in layers_to_remove:\n",
    "        base_layers.remove(layer)\n",
    "    history.append(list(base_layers))\n",
    "    \n",
    "    correct, incorrect, acc = eval(model, vbatched_data, vbatched_correct, vbatched_incorrect,\n",
    "                                      only_use_these_layers=base_layers, fast_ssm=True, fast_conv=True,\n",
    "                                      constrain_to_answers=constrain_to_answers)\n",
    "    print(f\"correct{relative_str}pr {correct} incorrect{relative_str}pr {incorrect} accuracy {acc}\")\n",
    "    history_stats.append((correct, incorrect, acc))\n",
    "    print(base_layers)\n",
    "    \n",
    "    for i, start_layer in tqdm.tqdm(enumerate(base_layers)):\n",
    "        #layers = list(range(start_layer, end_layer+1))\n",
    "        layers = list(base_layers)\n",
    "        layers.remove(start_layer)\n",
    "\n",
    "        \n",
    "        correct, incorrect, acc = eval(model, batched_data, batched_correct, batched_incorrect,\n",
    "                                      only_use_these_layers=layers, fast_ssm=True, fast_conv=True,\n",
    "                                      constrain_to_answers=constrain_to_answers)\n",
    "        out_prs_correct[i] = correct\n",
    "        out_prs_incorrect[i] = incorrect\n",
    "        out_acc[i] = acc\n",
    "        \n",
    "    \n",
    "    best_layer_to_remove = base_layers[torch.argsort(-out_acc[:len(base_layers)])[0]]\n",
    "    print(\"removing layer\", best_layer_to_remove)\n",
    "    layer_names = [f'layer {x}' for x in base_layers]\n",
    "    layers_to_remove.append(best_layer_to_remove)\n",
    "\n",
    "history_stats = torch.tensor(history_stats)"
   ]
  },
  {
   "cell_type": "code",
   "execution_count": 69,
   "id": "0f355bc2-be2f-4aec-a792-4a83b456ad00",
   "metadata": {},
   "outputs": [
    {
     "name": "stdout",
     "output_type": "stream",
     "text": [
      "constraining output to answers? True\n",
      "\n",
      "test set eval results: correct relative pr 0.04425078630447388 incorrect relative pr 0.9557492136955261 accuracy 0.02\n",
      "\n",
      "prompt \n",
      "def shape(self, format, number, log, item, json, run):\n",
      "    \"\"\"working adult travel\n",
      "\n",
      "    :param log: store impact\n",
      "    :param item: stand screen\n",
      "    :param\n",
      "  incorrect top 0 token ' run' logit 23.660402297973633 prs 0.8695743680000305\n",
      "\n",
      "prompt \n",
      "def shape(self, format, number, log, item, filename, run):\n",
      "    \"\"\"working adult travel\n",
      "\n",
      "    :param log: store impact\n",
      "    :param item: stand screen\n",
      "    :param\n",
      "  incorrect top 0 token ' run' logit 26.898967742919922 prs 0.981844425201416\n",
      "\n",
      "prompt \n",
      "def data(self, source, size, required, function, name, color):\n",
      "    \"\"\"actor chart import\n",
      "\n",
      "    :param required: application coal\n",
      "    :param function: run position\n",
      "    :param\n",
      "  incorrect top 0 token ' size' logit 29.187742233276367 prs 0.9996500015258789\n",
      "  correct top 1 token ' name' logit 21.1231689453125 prs 0.00031437521101906896\n",
      "\n",
      "prompt \n",
      "def data(self, source, size, required, function, load, color):\n",
      "    \"\"\"actor chart import\n",
      "\n",
      "    :param required: application coal\n",
      "    :param function: run position\n",
      "    :param\n",
      "  incorrect top 0 token ' size' logit 28.940656661987305 prs 0.9996088147163391\n",
      "\n",
      "prompt \n",
      "def page(self, results, title, tag, info, request, values):\n",
      "    \"\"\"wind core professional\n",
      "\n",
      "    :param tag: location edge\n",
      "    :param info: intelligence morning\n",
      "    :param\n",
      "  incorrect top 0 token ' base' logit 23.613737106323242 prs 0.5347422361373901\n",
      "\n",
      "prompt \n",
      "def page(self, results, title, tag, info, base, values):\n",
      "    \"\"\"wind core professional\n",
      "\n",
      "    :param tag: location edge\n",
      "    :param info: intelligence morning\n",
      "    :param\n",
      "  incorrect top 0 token ' name' logit 23.56171226501465 prs 0.7315718531608582\n",
      "  correct top 1 token ' base' logit 22.48485565185547 prs 0.24922068417072296\n",
      "\n",
      "prompt \n",
      "def code(self, function, call, result, content, message, name):\n",
      "    \"\"\"fruit meal play\n",
      "\n",
      "    :param result: coat box\n",
      "    :param content: final yard\n",
      "    :param\n",
      "  incorrect top 0 token ' content' logit 30.50273895263672 prs 0.906217098236084\n",
      "\n",
      "prompt \n",
      "def code(self, function, call, result, content, response, name):\n",
      "    \"\"\"fruit meal play\n",
      "\n",
      "    :param result: coat box\n",
      "    :param content: final yard\n",
      "    :param\n",
      "  incorrect top 0 token ' content' logit 29.934484481811523 prs 0.6825811266899109\n",
      "\n",
      "prompt \n",
      "def version(self, user, test, first, module, function, date):\n",
      "    \"\"\"flow cut mile\n",
      "\n",
      "    :param first: knowledge stone\n",
      "    :param module: education action\n",
      "    :param\n",
      "  incorrect top 0 token ' first' logit 26.314279556274414 prs 0.5507112741470337\n",
      "\n",
      "prompt \n",
      "def version(self, user, test, first, module, name, date):\n",
      "    \"\"\"flow cut mile\n",
      "\n",
      "    :param first: knowledge stone\n",
      "    :param module: education action\n",
      "    :param\n",
      "  incorrect top 0 token ' first' logit 26.377037048339844 prs 0.7539348602294922\n",
      "\n",
      "prompt \n",
      "def header(self, order, expected, project, valid, session, results):\n",
      "    \"\"\"game danger dimension\n",
      "\n",
      "    :param project: hold mission\n",
      "    :param valid: iron win\n",
      "    :param\n",
      "  incorrect top 0 token ' size' logit 31.338987350463867 prs 0.9760722517967224\n",
      "\n",
      "prompt \n",
      "def header(self, order, expected, project, valid, info, results):\n",
      "    \"\"\"game danger dimension\n",
      "\n",
      "    :param project: hold mission\n",
      "    :param valid: iron win\n",
      "    :param\n",
      "  incorrect top 0 token ' size' logit 31.818771362304688 prs 0.9913057684898376\n",
      "\n",
      "prompt \n",
      "def form(self, index, user, mode, group, parent, check):\n",
      "    \"\"\"product camera bill\n",
      "\n",
      "    :param mode: regulation chief\n",
      "    :param group: depth dark\n",
      "    :param\n",
      "  incorrect top 0 token ' group' logit 39.0347785949707 prs 1.0\n",
      "\n",
      "prompt \n",
      "def form(self, index, user, mode, group, model, check):\n",
      "    \"\"\"product camera bill\n",
      "\n",
      "    :param mode: regulation chief\n",
      "    :param group: depth dark\n",
      "    :param\n",
      "  incorrect top 0 token ' group' logit 38.28274154663086 prs 0.9999998807907104\n",
      "\n",
      "prompt \n",
      "def user(self, page, node, path, start, instance, tag):\n",
      "    \"\"\"student duty cat\n",
      "\n",
      "    :param path: chain forest\n",
      "    :param start: thought type\n",
      "    :param\n",
      "  incorrect top 0 token ' start' logit 35.6585807800293 prs 0.9999909400939941\n",
      "\n",
      "prompt \n",
      "def user(self, page, node, path, start, server, tag):\n",
      "    \"\"\"student duty cat\n",
      "\n",
      "    :param path: chain forest\n",
      "    :param start: thought type\n",
      "    :param\n",
      "  incorrect top 0 token ' start' logit 35.46109390258789 prs 0.9999938011169434\n",
      "\n",
      "prompt \n",
      "def load(self, response, number, update, default, val, result):\n",
      "    \"\"\"watch client drive\n",
      "\n",
      "    :param update: suit president\n",
      "    :param default: opening performance\n",
      "    :param\n",
      "  incorrect top 0 token ' new' logit 26.022722244262695 prs 0.8082872629165649\n",
      "\n",
      "prompt \n",
      "def load(self, response, number, update, default, size, result):\n",
      "    \"\"\"watch client drive\n",
      "\n",
      "    :param update: suit president\n",
      "    :param default: opening performance\n",
      "    :param\n",
      "  incorrect top 0 token ' new' logit 26.298480987548828 prs 0.7981140613555908\n",
      "\n",
      "prompt \n",
      "def host(self, shape, value, action, group, val, ret):\n",
      "    \"\"\"examination memory past\n",
      "\n",
      "    :param action: channel peace\n",
      "    :param group: stage release\n",
      "    :param\n",
      "  incorrect top 0 token ' group' logit 30.446701049804688 prs 0.9582120776176453\n",
      "\n",
      "prompt \n",
      "def host(self, shape, value, action, group, number, ret):\n",
      "    \"\"\"examination memory past\n",
      "\n",
      "    :param action: channel peace\n",
      "    :param group: stage release\n",
      "    :param\n",
      "  incorrect top 0 token ' group' logit 30.228605270385742 prs 0.9718711972236633\n",
      "\n",
      "prompt \n",
      "def ret(self, count, config, run, results, format, request):\n",
      "    \"\"\"risk sea shock\n",
      "\n",
      "    :param run: sun joy\n",
      "    :param results: type standing\n",
      "    :param\n",
      "  incorrect top 0 token ' run' logit 34.5959358215332 prs 0.9994463324546814\n",
      "\n",
      "prompt \n",
      "def ret(self, count, config, run, results, valid, request):\n",
      "    \"\"\"risk sea shock\n",
      "\n",
      "    :param run: sun joy\n",
      "    :param results: type standing\n",
      "    :param\n",
      "  incorrect top 0 token ' run' logit 33.8006477355957 prs 0.9994931221008301\n",
      "\n",
      "prompt \n",
      "def message(self, label, key, test, array, name, content):\n",
      "    \"\"\"currency guide application\n",
      "\n",
      "    :param test: bread square\n",
      "    :param array: father background\n",
      "    :param\n",
      "  incorrect top 0 token ' test' logit 39.638999938964844 prs 0.9986300468444824\n",
      "\n",
      "prompt \n",
      "def message(self, label, key, test, array, size, content):\n",
      "    \"\"\"currency guide application\n",
      "\n",
      "    :param test: bread square\n",
      "    :param array: father background\n",
      "    :param\n",
      "  incorrect top 0 token ' test' logit 39.84016799926758 prs 0.998818576335907\n",
      "\n",
      "prompt \n",
      "def option(self, data, message, code, resource, path, run):\n",
      "    \"\"\"technology flower mill\n",
      "\n",
      "    :param code: club force\n",
      "    :param resource: video growth\n",
      "    :param\n",
      "  incorrect top 0 token ' data' logit 29.040346145629883 prs 0.7453763484954834\n",
      "\n",
      "prompt \n",
      "def option(self, data, message, code, resource, request, run):\n",
      "    \"\"\"technology flower mill\n",
      "\n",
      "    :param code: club force\n",
      "    :param resource: video growth\n",
      "    :param\n",
      "  incorrect top 0 token ' data' logit 29.71678924560547 prs 0.8322298526763916\n",
      "\n",
      "prompt \n",
      "def token(self, request, model, load, title, instance, run):\n",
      "    \"\"\"language credit album\n",
      "\n",
      "    :param load: payment complex\n",
      "    :param title: pain stairs\n",
      "    :param\n",
      "  incorrect top 0 token ' load' logit 36.17366409301758 prs 0.9987653493881226\n",
      "\n",
      "prompt \n",
      "def token(self, request, model, load, title, settings, run):\n",
      "    \"\"\"language credit album\n",
      "\n",
      "    :param load: payment complex\n",
      "    :param title: pain stairs\n",
      "    :param\n",
      "  incorrect top 0 token ' load' logit 35.98997497558594 prs 0.9997492432594299\n",
      "\n",
      "prompt \n",
      "def parent(self, default, field, action, command, event, load):\n",
      "    \"\"\"history match risk\n",
      "\n",
      "    :param action: lane tax\n",
      "    :param command: cap bay\n",
      "    :param\n",
      "  incorrect top 0 token ' field' logit 36.48482131958008 prs 0.9999990463256836\n",
      "  correct top 1 token ' event' logit 22.446691513061523 prs 8.004188316590444e-07\n",
      "\n",
      "prompt \n",
      "def parent(self, default, field, action, command, color, load):\n",
      "    \"\"\"history match risk\n",
      "\n",
      "    :param action: lane tax\n",
      "    :param command: cap bay\n",
      "    :param\n",
      "  incorrect top 0 token ' field' logit 36.239463806152344 prs 0.9999994039535522\n",
      "\n",
      "prompt \n",
      "def msg(self, context, obj, filename, model, files, output):\n",
      "    \"\"\"walk bishop shock\n",
      "\n",
      "    :param filename: crime research\n",
      "    :param model: suit row\n",
      "    :param\n",
      "  incorrect top 0 token ' key' logit 27.65985107421875 prs 0.9999065399169922\n",
      "  correct top 1 token ' files' logit 17.97420883178711 prs 6.216392648639157e-05\n",
      "\n",
      "prompt \n",
      "def msg(self, context, obj, filename, model, log, output):\n",
      "    \"\"\"walk bishop shock\n",
      "\n",
      "    :param filename: crime research\n",
      "    :param model: suit row\n",
      "    :param\n",
      "  incorrect top 0 token ' key' logit 27.73677635192871 prs 0.9999380111694336\n",
      "  correct top 1 token ' log' logit 17.66219139099121 prs 4.2134364775847644e-05\n",
      "\n",
      "prompt \n",
      "def info(self, json, required, state, server, ret, date):\n",
      "    \"\"\"core bread net\n",
      "\n",
      "    :param state: football leg\n",
      "    :param server: rank mouth\n",
      "    :param\n",
      "  incorrect top 0 token ' state' logit 30.418725967407227 prs 0.9997175335884094\n",
      "\n",
      "prompt \n",
      "def info(self, json, required, state, server, names, date):\n",
      "    \"\"\"core bread net\n",
      "\n",
      "    :param state: football leg\n",
      "    :param server: rank mouth\n",
      "    :param\n",
      "  incorrect top 0 token ' state' logit 30.431697845458984 prs 0.9997468590736389\n",
      "\n",
      "prompt \n",
      "def data(self, node, settings, valid, label, root, path):\n",
      "    \"\"\"touch production animal\n",
      "\n",
      "    :param valid: finding page\n",
      "    :param label: purpose president\n",
      "    :param\n",
      "  incorrect top 0 token ' label' logit 21.19209861755371 prs 0.7570498585700989\n",
      "\n",
      "prompt \n",
      "def data(self, node, settings, valid, label, page, path):\n",
      "    \"\"\"touch production animal\n",
      "\n",
      "    :param valid: finding page\n",
      "    :param label: purpose president\n",
      "    :param\n",
      "  incorrect top 0 token ' label' logit 20.37030601501465 prs 0.5024977326393127\n",
      "\n",
      "prompt \n",
      "def old(self, text, model, log, module, sub, context):\n",
      "    \"\"\"pound description egg\n",
      "\n",
      "    :param log: box environment\n",
      "    :param module: band male\n",
      "    :param\n",
      "  incorrect top 0 token ' module' logit 30.769771575927734 prs 0.9698839783668518\n",
      "\n",
      "prompt \n",
      "def old(self, text, model, log, module, valid, context):\n",
      "    \"\"\"pound description egg\n",
      "\n",
      "    :param log: box environment\n",
      "    :param module: band male\n",
      "    :param\n",
      "  incorrect top 0 token ' module' logit 29.60386848449707 prs 0.8531210422515869\n",
      "\n",
      "prompt \n",
      "def data(self, error, output, resource, group, names, obj):\n",
      "    \"\"\"button bread border\n",
      "\n",
      "    :param resource: design hero\n",
      "    :param group: range working\n",
      "    :param\n",
      "  incorrect top 0 token ' group' logit 38.42280578613281 prs 0.9999936819076538\n",
      "\n",
      "prompt \n",
      "def data(self, error, output, resource, group, val, obj):\n",
      "    \"\"\"button bread border\n",
      "\n",
      "    :param resource: design hero\n",
      "    :param group: range working\n",
      "    :param\n",
      "  incorrect top 0 token ' group' logit 37.33197784423828 prs 0.9999845027923584\n",
      "\n",
      "prompt \n",
      "def expected(self, field, log, check, parser, user, run):\n",
      "    \"\"\"author holder concept\n",
      "\n",
      "    :param check: pocket row\n",
      "    :param parser: hill title\n",
      "    :param\n",
      "  incorrect top 0 token ' field' logit 44.478851318359375 prs 1.0\n",
      "\n",
      "prompt \n",
      "def expected(self, field, log, check, parser, output, run):\n",
      "    \"\"\"author holder concept\n",
      "\n",
      "    :param check: pocket row\n",
      "    :param parser: hill title\n",
      "    :param\n",
      "  incorrect top 0 token ' field' logit 43.667640686035156 prs 1.0\n",
      "\n",
      "prompt \n",
      "def name(self, num, read, description, task, check, path):\n",
      "    \"\"\"tin ear engineering\n",
      "\n",
      "    :param description: button vote\n",
      "    :param task: land button\n",
      "    :param\n",
      "  incorrect top 0 token ' path' logit 22.721532821655273 prs 0.882043719291687\n",
      "\n",
      "prompt \n",
      "def name(self, num, read, description, task, file, path):\n",
      "    \"\"\"tin ear engineering\n",
      "\n",
      "    :param description: button vote\n",
      "    :param task: land button\n",
      "    :param\n",
      "  incorrect top 0 token ' path' logit 26.418071746826172 prs 0.9971122741699219\n",
      "  correct top 1 token ' file' logit 19.330034255981445 prs 0.0008326232200488448\n",
      "\n",
      "prompt \n",
      "def last(self, number, end, names, node, options, load):\n",
      "    \"\"\"travel cycle arm\n",
      "\n",
      "    :param names: box hat\n",
      "    :param node: wood talk\n",
      "    :param\n",
      "  incorrect top 0 token ' load' logit 26.055477142333984 prs 0.6818793416023254\n",
      "\n",
      "prompt \n",
      "def last(self, number, end, names, node, current, load):\n",
      "    \"\"\"travel cycle arm\n",
      "\n",
      "    :param names: box hat\n",
      "    :param node: wood talk\n",
      "    :param\n",
      "  incorrect top 0 token ' load' logit 29.219228744506836 prs 0.983458399772644\n",
      "\n",
      "prompt \n",
      "def old(self, color, load, session, field, last, error):\n",
      "    \"\"\"task mode knowledge\n",
      "\n",
      "    :param session: author protein\n",
      "    :param field: store demand\n",
      "    :param\n",
      "  incorrect top 0 token ' field' logit 68.43278503417969 prs 1.0\n",
      "\n",
      "prompt \n",
      "def old(self, color, load, session, field, line, error):\n",
      "    \"\"\"task mode knowledge\n",
      "\n",
      "    :param session: author protein\n",
      "    :param field: store demand\n",
      "    :param\n",
      "  incorrect top 0 token ' field' logit 66.06071472167969 prs 1.0\n",
      "  correct top 1 token ' line' logit 24.074129104614258 prs 5.827157060178942e-19\n",
      "\n",
      "prompt \n",
      "def action(self, parser, last, test, start, command, field):\n",
      "    \"\"\"nature rise boot\n",
      "\n",
      "    :param test: model metal\n",
      "    :param start: scale selection\n",
      "    :param\n",
      "  incorrect top 0 token ' field' logit 38.22780990600586 prs 0.9998350143432617\n",
      "\n",
      "prompt \n",
      "def action(self, parser, last, test, start, first, field):\n",
      "    \"\"\"nature rise boot\n",
      "\n",
      "    :param test: model metal\n",
      "    :param start: scale selection\n",
      "    :param\n",
      "  incorrect top 0 token ' field' logit 41.8590087890625 prs 0.9999973773956299\n",
      "\n",
      "prompt \n",
      "def page(self, state, project, run, found, call, order):\n",
      "    \"\"\"camp element male\n",
      "\n",
      "    :param run: horse complex\n",
      "    :param found: mouse cut\n",
      "    :param\n",
      "  incorrect top 0 token ' run' logit 32.36507797241211 prs 0.9978072047233582\n",
      "\n",
      "prompt \n",
      "def page(self, state, project, run, found, update, order):\n",
      "    \"\"\"camp element male\n",
      "\n",
      "    :param run: horse complex\n",
      "    :param found: mouse cut\n",
      "    :param\n",
      "  incorrect top 0 token ' run' logit 32.86414337158203 prs 0.9982409477233887\n",
      "\n",
      "prompt \n",
      "def info(self, expected, content, item, date, server, ret):\n",
      "    \"\"\"material sky medium\n",
      "\n",
      "    :param item: motion camera\n",
      "    :param date: income section\n",
      "    :param\n",
      "  incorrect top 0 token ' key' logit 25.923215866088867 prs 0.38144052028656006\n",
      "\n",
      "prompt \n",
      "def files(self, event, description, path, option, number, value):\n",
      "    \"\"\"route flight radio\n",
      "\n",
      "    :param path: move operator\n",
      "    :param option: art coin\n",
      "    :param\n",
      "  incorrect top 0 token ' value' logit 25.372852325439453 prs 0.7755197286605835\n",
      "\n",
      "prompt \n",
      "def files(self, event, description, path, option, error, value):\n",
      "    \"\"\"route flight radio\n",
      "\n",
      "    :param path: move operator\n",
      "    :param option: art coin\n",
      "    :param\n",
      "  incorrect top 0 token ' value' logit 25.023693084716797 prs 0.5281409025192261\n",
      "\n",
      "prompt \n",
      "def value(self, shape, check, output, query, first, user):\n",
      "    \"\"\"transfer cloud shop\n",
      "\n",
      "    :param output: trip ticket\n",
      "    :param query: technology aim\n",
      "    :param\n",
      "  incorrect top 0 token ' state' logit 30.326656341552734 prs 0.9749588966369629\n",
      "  correct top 1 token ' first' logit 26.203510284423828 prs 0.015787987038493156\n",
      "\n",
      "prompt \n",
      "def old(self, target, module, url, shape, label, instance):\n",
      "    \"\"\"collection count floor\n",
      "\n",
      "    :param url: stress owner\n",
      "    :param shape: bay secret\n",
      "    :param\n",
      "  incorrect top 0 token ' end' logit 22.613075256347656 prs 0.8951108455657959\n",
      "\n",
      "prompt \n",
      "def tag(self, parent, content, log, row, index, fields):\n",
      "    \"\"\"chief heat program\n",
      "\n",
      "    :param log: tax travel\n",
      "    :param row: reader article\n",
      "    :param\n",
      "  incorrect top 0 token ' state' logit 23.103736877441406 prs 0.912402331829071\n",
      "\n",
      "prompt \n",
      "def tag(self, parent, content, log, row, path, fields):\n",
      "    \"\"\"chief heat program\n",
      "\n",
      "    :param log: tax travel\n",
      "    :param row: reader article\n",
      "    :param\n",
      "  incorrect top 0 token ' fields' logit 29.600788116455078 prs 0.999674916267395\n",
      "\n",
      "prompt \n",
      "def filename(self, string, description, tag, required, server, match):\n",
      "    \"\"\"knowledge band impact\n",
      "\n",
      "    :param tag: course feature\n",
      "    :param required: actor role\n",
      "    :param\n",
      "  incorrect top 0 token ' group' logit 24.96988868713379 prs 0.7510589361190796\n",
      "\n",
      "prompt \n",
      "def filename(self, string, description, tag, required, result, match):\n",
      "    \"\"\"knowledge band impact\n",
      "\n",
      "    :param tag: course feature\n",
      "    :param required: actor role\n",
      "    :param\n",
      "  incorrect top 0 token ' group' logit 25.186452865600586 prs 0.7836370468139648\n",
      "\n",
      "prompt \n",
      "def key(self, instance, obj, val, version, count, files):\n",
      "    \"\"\"bottom concept topic\n",
      "\n",
      "    :param val: bird message\n",
      "    :param version: flower apple\n",
      "    :param\n",
      "  incorrect top 0 token ' version' logit 32.68925094604492 prs 0.9997918009757996\n",
      "\n",
      "prompt \n",
      "def key(self, instance, obj, val, version, parent, files):\n",
      "    \"\"\"bottom concept topic\n",
      "\n",
      "    :param val: bird message\n",
      "    :param version: flower apple\n",
      "    :param\n",
      "  incorrect top 0 token ' version' logit 33.07542419433594 prs 0.9999207258224487\n",
      "\n",
      "prompt \n",
      "def index(self, parent, val, results, state, event, call):\n",
      "    \"\"\"cat vision object\n",
      "\n",
      "    :param results: project communication\n",
      "    :param state: type peak\n",
      "    :param\n",
      "  incorrect top 0 token ' state' logit 43.85163497924805 prs 1.0\n",
      "\n",
      "prompt \n",
      "def index(self, parent, val, results, state, mode, call):\n",
      "    \"\"\"cat vision object\n",
      "\n",
      "    :param results: project communication\n",
      "    :param state: type peak\n",
      "    :param\n",
      "  incorrect top 0 token ' state' logit 43.71635055541992 prs 1.0\n",
      "\n",
      "prompt \n",
      "def last(self, host, target, token, code, result, url):\n",
      "    \"\"\"nature seed purpose\n",
      "\n",
      "    :param token: travel profit\n",
      "    :param code: shape module\n",
      "    :param\n",
      "  incorrect top 0 token ' code' logit 30.733570098876953 prs 0.9923071265220642\n",
      "\n",
      "prompt \n",
      "def last(self, host, target, token, code, name, url):\n",
      "    \"\"\"nature seed purpose\n",
      "\n",
      "    :param token: travel profit\n",
      "    :param code: shape module\n",
      "    :param\n",
      "  incorrect top 0 token ' code' logit 30.158519744873047 prs 0.9764019250869751\n",
      "  correct top 1 token ' name' logit 26.424182891845703 prs 0.023325275629758835\n",
      "\n",
      "prompt \n",
      "def row(self, valid, port, load, file, resource, item):\n",
      "    \"\"\"player aid demand\n",
      "\n",
      "    :param load: skin bill\n",
      "    :param file: speech environment\n",
      "    :param\n",
      "  incorrect top 0 token ' load' logit 32.17190933227539 prs 0.9959070682525635\n",
      "\n",
      "prompt \n",
      "def row(self, valid, port, load, file, call, item):\n",
      "    \"\"\"player aid demand\n",
      "\n",
      "    :param load: skin bill\n",
      "    :param file: speech environment\n",
      "    :param\n",
      "  incorrect top 0 token ' load' logit 32.256141662597656 prs 0.9967143535614014\n",
      "\n",
      "prompt \n",
      "def form(self, string, valid, root, index, data, options):\n",
      "    \"\"\"bank suit content\n",
      "\n",
      "    :param root: agent ball\n",
      "    :param index: chief draft\n",
      "    :param\n",
      "  incorrect top 0 token ' run' logit 25.38054656982422 prs 0.9828064441680908\n",
      "  correct top 1 token ' data' logit 21.125812530517578 prs 0.013952772133052349\n",
      "\n",
      "prompt \n",
      "def form(self, string, valid, root, index, instance, options):\n",
      "    \"\"\"bank suit content\n",
      "\n",
      "    :param root: agent ball\n",
      "    :param index: chief draft\n",
      "    :param\n",
      "  incorrect top 0 token ' run' logit 25.048669815063477 prs 0.9922312498092651\n",
      "\n",
      "prompt \n",
      "def val(self, item, image, config, function, client, code):\n",
      "    \"\"\"host scope fire\n",
      "\n",
      "    :param config: phase apple\n",
      "    :param function: context process\n",
      "    :param\n",
      "  incorrect top 0 token ' code' logit 29.57893180847168 prs 0.9995043277740479\n",
      "\n",
      "prompt \n",
      "def val(self, item, image, config, function, host, code):\n",
      "    \"\"\"host scope fire\n",
      "\n",
      "    :param config: phase apple\n",
      "    :param function: context process\n",
      "    :param\n",
      "  incorrect top 0 token ' code' logit 23.752655029296875 prs 0.7668304443359375\n",
      "\n",
      "prompt \n",
      "def results(self, header, group, source, format, content, ret):\n",
      "    \"\"\"mouse label activity\n",
      "\n",
      "    :param source: event green\n",
      "    :param format: round summary\n",
      "    :param\n",
      "  incorrect top 0 token ' name' logit 29.039125442504883 prs 0.6354158520698547\n",
      "\n",
      "prompt \n",
      "def field(self, value, function, start, output, log, results):\n",
      "    \"\"\"cycle pound speech\n",
      "\n",
      "    :param start: relative ticket\n",
      "    :param output: element vote\n",
      "    :param\n",
      "  incorrect top 0 token ' start' logit 33.56179428100586 prs 0.999566376209259\n",
      "\n",
      "prompt \n",
      "def field(self, value, function, start, output, first, results):\n",
      "    \"\"\"cycle pound speech\n",
      "\n",
      "    :param start: relative ticket\n",
      "    :param output: element vote\n",
      "    :param\n",
      "  incorrect top 0 token ' start' logit 32.662845611572266 prs 0.9994924068450928\n",
      "\n",
      "prompt \n",
      "def row(self, action, task, file, path, order, event):\n",
      "    \"\"\"cut record theme\n",
      "\n",
      "    :param file: director gap\n",
      "    :param path: phone framework\n",
      "    :param\n",
      "  incorrect top 0 token ' path' logit 27.610389709472656 prs 0.8638828992843628\n",
      "\n",
      "prompt \n",
      "def row(self, action, task, file, path, output, event):\n",
      "    \"\"\"cut record theme\n",
      "\n",
      "    :param file: director gap\n",
      "    :param path: phone framework\n",
      "    :param\n",
      "  incorrect top 0 token ' path' logit 27.63595962524414 prs 0.9217652678489685\n",
      "\n",
      "prompt \n",
      "def group(self, client, response, output, shape, image, version):\n",
      "    \"\"\"worker street row\n",
      "\n",
      "    :param output: present character\n",
      "    :param shape: pattern food\n",
      "    :param\n",
      "  incorrect top 0 token ' version' logit 19.273765563964844 prs 0.5315043330192566\n",
      "\n",
      "prompt \n",
      "def group(self, client, response, output, shape, result, version):\n",
      "    \"\"\"worker street row\n",
      "\n",
      "    :param output: present character\n",
      "    :param shape: pattern food\n",
      "    :param\n",
      "  incorrect top 0 token ' response' logit 18.043991088867188 prs 0.3945308029651642\n",
      "\n",
      "prompt \n",
      "def values(self, parent, mode, header, message, title, function):\n",
      "    \"\"\"father worker volume\n",
      "\n",
      "    :param header: left claim\n",
      "    :param message: coal park\n",
      "    :param\n",
      "  incorrect top 0 token ' call' logit 21.54283332824707 prs 0.9751953482627869\n",
      "\n",
      "prompt \n",
      "def token(self, results, ret, url, text, port, command):\n",
      "    \"\"\"tip sequence credit\n",
      "\n",
      "    :param url: protein bar\n",
      "    :param text: bay knowledge\n",
      "    :param\n",
      "  incorrect top 0 token ' text' logit 31.253347396850586 prs 0.9999121427536011\n",
      "\n",
      "prompt \n",
      "def token(self, results, ret, url, text, filename, command):\n",
      "    \"\"\"tip sequence credit\n",
      "\n",
      "    :param url: protein bar\n",
      "    :param text: bay knowledge\n",
      "    :param\n",
      "  incorrect top 0 token ' text' logit 32.193477630615234 prs 0.9999794960021973\n",
      "\n",
      "prompt \n",
      "def value(self, start, file, group, parser, title, info):\n",
      "    \"\"\"park stand prison\n",
      "\n",
      "    :param group: adult attack\n",
      "    :param parser: care final\n",
      "    :param\n",
      "  incorrect top 0 token ' group' logit 31.32485008239746 prs 0.9645160436630249\n",
      "\n",
      "prompt \n",
      "def value(self, start, file, group, parser, context, info):\n",
      "    \"\"\"park stand prison\n",
      "\n",
      "    :param group: adult attack\n",
      "    :param parser: care final\n",
      "    :param\n",
      "  incorrect top 0 token ' group' logit 31.317264556884766 prs 0.9623634219169617\n",
      "\n",
      "prompt \n",
      "def size(self, default, description, event, count, ret, expected):\n",
      "    \"\"\"pool sex tax\n",
      "\n",
      "    :param event: attack product\n",
      "    :param count: writing circle\n",
      "    :param\n",
      "  incorrect top 0 token ' event' logit 25.224225997924805 prs 0.9200359582901001\n",
      "\n",
      "prompt \n",
      "def size(self, default, description, event, count, old, expected):\n",
      "    \"\"\"pool sex tax\n",
      "\n",
      "    :param event: attack product\n",
      "    :param count: writing circle\n",
      "    :param\n",
      "  incorrect top 0 token ' event' logit 24.530912399291992 prs 0.8092486262321472\n",
      "\n",
      "prompt \n",
      "def item(self, command, key, path, old, shape, tag):\n",
      "    \"\"\"copy mouth guard\n",
      "\n",
      "    :param path: field cap\n",
      "    :param old: key unit\n",
      "    :param\n",
      "  incorrect top 0 token ' key' logit 26.102739334106445 prs 0.8220087885856628\n",
      "\n",
      "prompt \n",
      "def error(self, index, update, request, current, value, parser):\n",
      "    \"\"\"creation education forest\n",
      "\n",
      "    :param request: shape trial\n",
      "    :param current: stress ball\n",
      "    :param\n",
      "  incorrect top 0 token ' call' logit 29.586658477783203 prs 0.9954715967178345\n",
      "  correct top 1 token ' value' logit 24.053665161132812 prs 0.003936229273676872\n",
      "\n",
      "prompt \n",
      "def error(self, index, update, request, current, path, parser):\n",
      "    \"\"\"creation education forest\n",
      "\n",
      "    :param request: shape trial\n",
      "    :param current: stress ball\n",
      "    :param\n",
      "  incorrect top 0 token ' call' logit 29.04584312438965 prs 0.9831804633140564\n",
      "  correct top 1 token ' path' logit 24.060163497924805 prs 0.006720168050378561\n",
      "\n",
      "prompt \n",
      "def end(self, update, page, token, item, json, filename):\n",
      "    \"\"\"stage reply colour\n",
      "\n",
      "    :param token: wind election\n",
      "    :param item: protection tax\n",
      "    :param\n",
      "  incorrect top 0 token ' content' logit 19.94249725341797 prs 0.9836564064025879\n",
      "\n",
      "prompt \n",
      "def end(self, update, page, token, item, node, filename):\n",
      "    \"\"\"stage reply colour\n",
      "\n",
      "    :param token: wind election\n",
      "    :param item: protection tax\n",
      "    :param\n",
      "  incorrect top 0 token ' content' logit 21.09821128845215 prs 0.9857134819030762\n",
      "\n",
      "prompt \n",
      "def instance(self, output, response, query, command, new, group):\n",
      "    \"\"\"pipe ban environment\n",
      "\n",
      "    :param query: director consumer\n",
      "    :param command: director individual\n",
      "    :param\n",
      "  incorrect top 0 token ' group' logit 29.874799728393555 prs 0.9985163807868958\n",
      "  correct top 1 token ' new' logit 23.026756286621094 prs 0.001059955800883472\n",
      "\n",
      "prompt \n",
      "def instance(self, output, response, query, command, check, group):\n",
      "    \"\"\"pipe ban environment\n",
      "\n",
      "    :param query: director consumer\n",
      "    :param command: director individual\n",
      "    :param\n",
      "  incorrect top 0 token ' group' logit 29.369733810424805 prs 0.9965270161628723\n",
      "\n"
     ]
    }
   ],
   "source": [
    "# pick something from the above output to test on an held out test set\n",
    "# [0, 9, 10, 11, 14, 16, 19, 22, 33, 39] is from ABC_TEMPLATES\n",
    "print(f\"constraining output to answers? {constrain_to_answers}\")\n",
    "test_layers = [0, 9, 10, 11, 14, 16, 19, 22, 33, 39]\n",
    "correct, incorrect, acc = eval(model, tbatched_data, tbatched_correct, tbatched_incorrect,\n",
    "                                  only_use_these_layers=test_layers, fast_ssm=True, fast_conv=True,\n",
    "                                      constrain_to_answers=constrain_to_answers)\n",
    "print()\n",
    "print(f\"test set eval results: correct{relative_str}pr {correct} incorrect{relative_str}pr {incorrect} accuracy {acc}\")\n",
    "print()\n",
    "eval_debug(model=model,\n",
    "           data=tbatched_data, correct=tbatched_correct, incorrect=tbatched_incorrect,\n",
    "           constrain_to_answers=constrain_to_answers,\n",
    "           only_use_these_layers=test_layers, fast_ssm=True, fast_conv=True)\n"
   ]
  },
  {
   "cell_type": "code",
   "execution_count": 28,
   "id": "5da0be93-5825-415c-aec5-bff16316d215",
   "metadata": {},
   "outputs": [
    {
     "data": {
      "application/vnd.plotly.v1+json": {
       "config": {
        "plotlyServerURL": "https://plot.ly"
       },
       "data": [
        {
         "alignmentgroup": "True",
         "hovertemplate": "x=%{x}<br> pr of correct=%{y}<extra></extra>",
         "legendgroup": "",
         "marker": {
          "color": "#636efa",
          "pattern": {
           "shape": ""
          }
         },
         "name": "",
         "offsetgroup": "",
         "orientation": "v",
         "showlegend": false,
         "textposition": "auto",
         "type": "bar",
         "x": [
          "[0, 1, 2, 3, 4, 5, 6, 7, 8, 9, 10, 11, 12, 13, 14, 15, 16, 17, 18, 19, 20, 21, 22, 23, 24, 25, 26, 27, 28, 29, 30, 31, 32, 33, 34, 35, 36, 37, 38, 39, 40, 41, 42, 43, 44, 45, 46, 47]",
          "[0, 1, 2, 3, 4, 5, 6, 7, 8, 9, 10, 11, 12, 13, 14, 15, 16, 17, 18, 19, 20, 21, 22, 23, 24, 25, 26, 27, 28, 29, 30, 31, 32, 33, 34, 35, 36, 37, 39, 40, 41, 42, 43, 44, 45, 46, 47]",
          "[0, 1, 2, 3, 4, 5, 6, 7, 8, 9, 10, 11, 12, 13, 14, 15, 16, 17, 18, 19, 20, 21, 22, 23, 24, 25, 26, 27, 28, 29, 30, 31, 32, 33, 34, 35, 36, 37, 39, 40, 41, 42, 43, 44, 45, 47]",
          "[0, 1, 2, 3, 4, 5, 6, 7, 8, 9, 10, 12, 13, 14, 15, 16, 17, 18, 19, 20, 21, 22, 23, 24, 25, 26, 27, 28, 29, 30, 31, 32, 33, 34, 35, 36, 37, 39, 40, 41, 42, 43, 44, 45, 47]",
          "[0, 2, 3, 4, 5, 6, 7, 8, 9, 10, 12, 13, 14, 15, 16, 17, 18, 19, 20, 21, 22, 23, 24, 25, 26, 27, 28, 29, 30, 31, 32, 33, 34, 35, 36, 37, 39, 40, 41, 42, 43, 44, 45, 47]",
          "[0, 3, 4, 5, 6, 7, 8, 9, 10, 12, 13, 14, 15, 16, 17, 18, 19, 20, 21, 22, 23, 24, 25, 26, 27, 28, 29, 30, 31, 32, 33, 34, 35, 36, 37, 39, 40, 41, 42, 43, 44, 45, 47]",
          "[0, 4, 5, 6, 7, 8, 9, 10, 12, 13, 14, 15, 16, 17, 18, 19, 20, 21, 22, 23, 24, 25, 26, 27, 28, 29, 30, 31, 32, 33, 34, 35, 36, 37, 39, 40, 41, 42, 43, 44, 45, 47]",
          "[0, 4, 6, 7, 8, 9, 10, 12, 13, 14, 15, 16, 17, 18, 19, 20, 21, 22, 23, 24, 25, 26, 27, 28, 29, 30, 31, 32, 33, 34, 35, 36, 37, 39, 40, 41, 42, 43, 44, 45, 47]",
          "[0, 6, 7, 8, 9, 10, 12, 13, 14, 15, 16, 17, 18, 19, 20, 21, 22, 23, 24, 25, 26, 27, 28, 29, 30, 31, 32, 33, 34, 35, 36, 37, 39, 40, 41, 42, 43, 44, 45, 47]",
          "[0, 6, 7, 8, 9, 10, 13, 14, 15, 16, 17, 18, 19, 20, 21, 22, 23, 24, 25, 26, 27, 28, 29, 30, 31, 32, 33, 34, 35, 36, 37, 39, 40, 41, 42, 43, 44, 45, 47]",
          "[0, 6, 7, 8, 9, 10, 13, 15, 16, 17, 18, 19, 20, 21, 22, 23, 24, 25, 26, 27, 28, 29, 30, 31, 32, 33, 34, 35, 36, 37, 39, 40, 41, 42, 43, 44, 45, 47]",
          "[0, 6, 7, 8, 9, 10, 13, 15, 16, 17, 18, 19, 21, 22, 23, 24, 25, 26, 27, 28, 29, 30, 31, 32, 33, 34, 35, 36, 37, 39, 40, 41, 42, 43, 44, 45, 47]",
          "[0, 6, 7, 8, 9, 10, 15, 16, 17, 18, 19, 21, 22, 23, 24, 25, 26, 27, 28, 29, 30, 31, 32, 33, 34, 35, 36, 37, 39, 40, 41, 42, 43, 44, 45, 47]",
          "[0, 6, 7, 8, 9, 10, 15, 16, 17, 18, 19, 21, 22, 23, 24, 25, 26, 27, 28, 29, 30, 31, 32, 33, 34, 36, 37, 39, 40, 41, 42, 43, 44, 45, 47]",
          "[0, 6, 7, 8, 10, 15, 16, 17, 18, 19, 21, 22, 23, 24, 25, 26, 27, 28, 29, 30, 31, 32, 33, 34, 36, 37, 39, 40, 41, 42, 43, 44, 45, 47]",
          "[0, 6, 7, 8, 10, 15, 16, 17, 18, 19, 21, 23, 24, 25, 26, 27, 28, 29, 30, 31, 32, 33, 34, 36, 37, 39, 40, 41, 42, 43, 44, 45, 47]",
          "[0, 6, 7, 8, 10, 15, 16, 17, 18, 19, 21, 23, 24, 25, 26, 27, 28, 29, 30, 31, 32, 33, 34, 36, 37, 39, 40, 41, 42, 44, 45, 47]",
          "[0, 6, 7, 8, 10, 15, 16, 17, 18, 19, 21, 23, 24, 25, 26, 27, 29, 30, 31, 32, 33, 34, 36, 37, 39, 40, 41, 42, 44, 45, 47]",
          "[0, 6, 7, 8, 10, 15, 16, 17, 18, 19, 21, 23, 24, 25, 26, 27, 29, 30, 31, 32, 33, 34, 36, 37, 39, 40, 42, 44, 45, 47]",
          "[0, 6, 7, 8, 10, 15, 16, 17, 18, 19, 21, 23, 24, 25, 26, 29, 30, 31, 32, 33, 34, 36, 37, 39, 40, 42, 44, 45, 47]",
          "[0, 6, 7, 8, 10, 15, 16, 17, 18, 19, 21, 23, 24, 25, 26, 29, 30, 31, 32, 33, 34, 37, 39, 40, 42, 44, 45, 47]",
          "[0, 6, 7, 8, 10, 15, 16, 17, 18, 19, 21, 23, 24, 25, 26, 29, 30, 31, 32, 33, 34, 39, 40, 42, 44, 45, 47]",
          "[0, 6, 7, 8, 10, 15, 16, 17, 18, 19, 21, 24, 25, 26, 29, 30, 31, 32, 33, 34, 39, 40, 42, 44, 45, 47]",
          "[0, 7, 8, 10, 15, 16, 17, 18, 19, 21, 24, 25, 26, 29, 30, 31, 32, 33, 34, 39, 40, 42, 44, 45, 47]",
          "[0, 7, 8, 10, 15, 16, 17, 19, 21, 24, 25, 26, 29, 30, 31, 32, 33, 34, 39, 40, 42, 44, 45, 47]",
          "[0, 7, 8, 10, 15, 16, 17, 19, 21, 24, 25, 26, 29, 30, 31, 32, 34, 39, 40, 42, 44, 45, 47]",
          "[0, 7, 8, 10, 15, 16, 17, 19, 21, 25, 26, 29, 30, 31, 32, 34, 39, 40, 42, 44, 45, 47]",
          "[0, 7, 8, 10, 15, 16, 17, 19, 21, 25, 26, 29, 30, 31, 32, 34, 39, 42, 44, 45, 47]",
          "[0, 7, 8, 10, 15, 16, 17, 19, 21, 25, 26, 29, 30, 32, 34, 39, 42, 44, 45, 47]",
          "[0, 7, 8, 10, 15, 16, 19, 21, 25, 26, 29, 30, 32, 34, 39, 42, 44, 45, 47]",
          "[0, 7, 8, 10, 15, 16, 19, 21, 25, 26, 29, 30, 32, 39, 42, 44, 45, 47]",
          "[0, 8, 10, 15, 16, 19, 21, 25, 26, 29, 30, 32, 39, 42, 44, 45, 47]",
          "[0, 10, 15, 16, 19, 21, 25, 26, 29, 30, 32, 39, 42, 44, 45, 47]",
          "[0, 10, 15, 16, 19, 21, 25, 26, 30, 32, 39, 42, 44, 45, 47]",
          "[0, 10, 15, 16, 19, 21, 26, 30, 32, 39, 42, 44, 45, 47]",
          "[0, 10, 15, 16, 19, 21, 26, 30, 32, 39, 42, 44, 45]",
          "[0, 10, 15, 16, 19, 21, 26, 30, 32, 39, 42, 44]",
          "[0, 10, 15, 16, 19, 21, 26, 30, 32, 39, 42]",
          "[0, 10, 15, 16, 19, 21, 26, 30, 32, 39]",
          "[0, 10, 15, 16, 19, 21, 30, 32, 39]",
          "[0, 10, 15, 16, 19, 21, 32, 39]",
          "[0, 10, 15, 16, 21, 32, 39]",
          "[0, 15, 16, 21, 32, 39]",
          "[0, 15, 21, 32, 39]",
          "[0, 21, 32, 39]",
          "[0, 32, 39]",
          "[0, 32]",
          "[0]"
         ],
         "xaxis": "x",
         "y": [
          0.25013071298599243,
          0.4591582119464874,
          0.3721102178096771,
          0.42101195454597473,
          0.4945985972881317,
          0.46720463037490845,
          0.4641507863998413,
          0.4459783136844635,
          0.4327159821987152,
          0.42529505491256714,
          0.44542375206947327,
          0.5315329432487488,
          0.4709083139896393,
          0.45955878496170044,
          0.4630673825740814,
          0.41964057087898254,
          0.4644625782966614,
          0.4809550344944,
          0.5501512289047241,
          0.5915475487709045,
          0.4686427116394043,
          0.4619865417480469,
          0.4095599353313446,
          0.3287523686885834,
          0.25819507241249084,
          0.3173906207084656,
          0.3332805037498474,
          0.2764897048473358,
          0.23017744719982147,
          0.2171282321214676,
          0.1903354376554489,
          0.13234348595142365,
          0.1678571254014969,
          0.06385635584592819,
          0.11457759886980057,
          0.111569844186306,
          0.10589314252138138,
          0.2031034380197525,
          0.2713175415992737,
          0.17862391471862793,
          0.12388680130243301,
          0.06692968308925629,
          3.6241538658998707e-09,
          2.185160108414408e-10,
          2.8305137789175205e-07,
          8.052504001530218e-18,
          3.502229371399934e-32,
          0
         ],
         "yaxis": "y"
        }
       ],
       "layout": {
        "autosize": true,
        "barmode": "relative",
        "font": {
         "color": "black",
         "size": 4
        },
        "legend": {
         "tracegroupgap": 0
        },
        "template": {
         "data": {
          "bar": [
           {
            "error_x": {
             "color": "#2a3f5f"
            },
            "error_y": {
             "color": "#2a3f5f"
            },
            "marker": {
             "line": {
              "color": "#E5ECF6",
              "width": 0.5
             },
             "pattern": {
              "fillmode": "overlay",
              "size": 10,
              "solidity": 0.2
             }
            },
            "type": "bar"
           }
          ],
          "barpolar": [
           {
            "marker": {
             "line": {
              "color": "#E5ECF6",
              "width": 0.5
             },
             "pattern": {
              "fillmode": "overlay",
              "size": 10,
              "solidity": 0.2
             }
            },
            "type": "barpolar"
           }
          ],
          "carpet": [
           {
            "aaxis": {
             "endlinecolor": "#2a3f5f",
             "gridcolor": "white",
             "linecolor": "white",
             "minorgridcolor": "white",
             "startlinecolor": "#2a3f5f"
            },
            "baxis": {
             "endlinecolor": "#2a3f5f",
             "gridcolor": "white",
             "linecolor": "white",
             "minorgridcolor": "white",
             "startlinecolor": "#2a3f5f"
            },
            "type": "carpet"
           }
          ],
          "choropleth": [
           {
            "colorbar": {
             "outlinewidth": 0,
             "ticks": ""
            },
            "type": "choropleth"
           }
          ],
          "contour": [
           {
            "colorbar": {
             "outlinewidth": 0,
             "ticks": ""
            },
            "colorscale": [
             [
              0,
              "#0d0887"
             ],
             [
              0.1111111111111111,
              "#46039f"
             ],
             [
              0.2222222222222222,
              "#7201a8"
             ],
             [
              0.3333333333333333,
              "#9c179e"
             ],
             [
              0.4444444444444444,
              "#bd3786"
             ],
             [
              0.5555555555555556,
              "#d8576b"
             ],
             [
              0.6666666666666666,
              "#ed7953"
             ],
             [
              0.7777777777777778,
              "#fb9f3a"
             ],
             [
              0.8888888888888888,
              "#fdca26"
             ],
             [
              1,
              "#f0f921"
             ]
            ],
            "type": "contour"
           }
          ],
          "contourcarpet": [
           {
            "colorbar": {
             "outlinewidth": 0,
             "ticks": ""
            },
            "type": "contourcarpet"
           }
          ],
          "heatmap": [
           {
            "colorbar": {
             "outlinewidth": 0,
             "ticks": ""
            },
            "colorscale": [
             [
              0,
              "#0d0887"
             ],
             [
              0.1111111111111111,
              "#46039f"
             ],
             [
              0.2222222222222222,
              "#7201a8"
             ],
             [
              0.3333333333333333,
              "#9c179e"
             ],
             [
              0.4444444444444444,
              "#bd3786"
             ],
             [
              0.5555555555555556,
              "#d8576b"
             ],
             [
              0.6666666666666666,
              "#ed7953"
             ],
             [
              0.7777777777777778,
              "#fb9f3a"
             ],
             [
              0.8888888888888888,
              "#fdca26"
             ],
             [
              1,
              "#f0f921"
             ]
            ],
            "type": "heatmap"
           }
          ],
          "heatmapgl": [
           {
            "colorbar": {
             "outlinewidth": 0,
             "ticks": ""
            },
            "colorscale": [
             [
              0,
              "#0d0887"
             ],
             [
              0.1111111111111111,
              "#46039f"
             ],
             [
              0.2222222222222222,
              "#7201a8"
             ],
             [
              0.3333333333333333,
              "#9c179e"
             ],
             [
              0.4444444444444444,
              "#bd3786"
             ],
             [
              0.5555555555555556,
              "#d8576b"
             ],
             [
              0.6666666666666666,
              "#ed7953"
             ],
             [
              0.7777777777777778,
              "#fb9f3a"
             ],
             [
              0.8888888888888888,
              "#fdca26"
             ],
             [
              1,
              "#f0f921"
             ]
            ],
            "type": "heatmapgl"
           }
          ],
          "histogram": [
           {
            "marker": {
             "pattern": {
              "fillmode": "overlay",
              "size": 10,
              "solidity": 0.2
             }
            },
            "type": "histogram"
           }
          ],
          "histogram2d": [
           {
            "colorbar": {
             "outlinewidth": 0,
             "ticks": ""
            },
            "colorscale": [
             [
              0,
              "#0d0887"
             ],
             [
              0.1111111111111111,
              "#46039f"
             ],
             [
              0.2222222222222222,
              "#7201a8"
             ],
             [
              0.3333333333333333,
              "#9c179e"
             ],
             [
              0.4444444444444444,
              "#bd3786"
             ],
             [
              0.5555555555555556,
              "#d8576b"
             ],
             [
              0.6666666666666666,
              "#ed7953"
             ],
             [
              0.7777777777777778,
              "#fb9f3a"
             ],
             [
              0.8888888888888888,
              "#fdca26"
             ],
             [
              1,
              "#f0f921"
             ]
            ],
            "type": "histogram2d"
           }
          ],
          "histogram2dcontour": [
           {
            "colorbar": {
             "outlinewidth": 0,
             "ticks": ""
            },
            "colorscale": [
             [
              0,
              "#0d0887"
             ],
             [
              0.1111111111111111,
              "#46039f"
             ],
             [
              0.2222222222222222,
              "#7201a8"
             ],
             [
              0.3333333333333333,
              "#9c179e"
             ],
             [
              0.4444444444444444,
              "#bd3786"
             ],
             [
              0.5555555555555556,
              "#d8576b"
             ],
             [
              0.6666666666666666,
              "#ed7953"
             ],
             [
              0.7777777777777778,
              "#fb9f3a"
             ],
             [
              0.8888888888888888,
              "#fdca26"
             ],
             [
              1,
              "#f0f921"
             ]
            ],
            "type": "histogram2dcontour"
           }
          ],
          "mesh3d": [
           {
            "colorbar": {
             "outlinewidth": 0,
             "ticks": ""
            },
            "type": "mesh3d"
           }
          ],
          "parcoords": [
           {
            "line": {
             "colorbar": {
              "outlinewidth": 0,
              "ticks": ""
             }
            },
            "type": "parcoords"
           }
          ],
          "pie": [
           {
            "automargin": true,
            "type": "pie"
           }
          ],
          "scatter": [
           {
            "fillpattern": {
             "fillmode": "overlay",
             "size": 10,
             "solidity": 0.2
            },
            "type": "scatter"
           }
          ],
          "scatter3d": [
           {
            "line": {
             "colorbar": {
              "outlinewidth": 0,
              "ticks": ""
             }
            },
            "marker": {
             "colorbar": {
              "outlinewidth": 0,
              "ticks": ""
             }
            },
            "type": "scatter3d"
           }
          ],
          "scattercarpet": [
           {
            "marker": {
             "colorbar": {
              "outlinewidth": 0,
              "ticks": ""
             }
            },
            "type": "scattercarpet"
           }
          ],
          "scattergeo": [
           {
            "marker": {
             "colorbar": {
              "outlinewidth": 0,
              "ticks": ""
             }
            },
            "type": "scattergeo"
           }
          ],
          "scattergl": [
           {
            "marker": {
             "colorbar": {
              "outlinewidth": 0,
              "ticks": ""
             }
            },
            "type": "scattergl"
           }
          ],
          "scattermapbox": [
           {
            "marker": {
             "colorbar": {
              "outlinewidth": 0,
              "ticks": ""
             }
            },
            "type": "scattermapbox"
           }
          ],
          "scatterpolar": [
           {
            "marker": {
             "colorbar": {
              "outlinewidth": 0,
              "ticks": ""
             }
            },
            "type": "scatterpolar"
           }
          ],
          "scatterpolargl": [
           {
            "marker": {
             "colorbar": {
              "outlinewidth": 0,
              "ticks": ""
             }
            },
            "type": "scatterpolargl"
           }
          ],
          "scatterternary": [
           {
            "marker": {
             "colorbar": {
              "outlinewidth": 0,
              "ticks": ""
             }
            },
            "type": "scatterternary"
           }
          ],
          "surface": [
           {
            "colorbar": {
             "outlinewidth": 0,
             "ticks": ""
            },
            "colorscale": [
             [
              0,
              "#0d0887"
             ],
             [
              0.1111111111111111,
              "#46039f"
             ],
             [
              0.2222222222222222,
              "#7201a8"
             ],
             [
              0.3333333333333333,
              "#9c179e"
             ],
             [
              0.4444444444444444,
              "#bd3786"
             ],
             [
              0.5555555555555556,
              "#d8576b"
             ],
             [
              0.6666666666666666,
              "#ed7953"
             ],
             [
              0.7777777777777778,
              "#fb9f3a"
             ],
             [
              0.8888888888888888,
              "#fdca26"
             ],
             [
              1,
              "#f0f921"
             ]
            ],
            "type": "surface"
           }
          ],
          "table": [
           {
            "cells": {
             "fill": {
              "color": "#EBF0F8"
             },
             "line": {
              "color": "white"
             }
            },
            "header": {
             "fill": {
              "color": "#C8D4E3"
             },
             "line": {
              "color": "white"
             }
            },
            "type": "table"
           }
          ]
         },
         "layout": {
          "annotationdefaults": {
           "arrowcolor": "#2a3f5f",
           "arrowhead": 0,
           "arrowwidth": 1
          },
          "autotypenumbers": "strict",
          "coloraxis": {
           "colorbar": {
            "outlinewidth": 0,
            "ticks": ""
           }
          },
          "colorscale": {
           "diverging": [
            [
             0,
             "#8e0152"
            ],
            [
             0.1,
             "#c51b7d"
            ],
            [
             0.2,
             "#de77ae"
            ],
            [
             0.3,
             "#f1b6da"
            ],
            [
             0.4,
             "#fde0ef"
            ],
            [
             0.5,
             "#f7f7f7"
            ],
            [
             0.6,
             "#e6f5d0"
            ],
            [
             0.7,
             "#b8e186"
            ],
            [
             0.8,
             "#7fbc41"
            ],
            [
             0.9,
             "#4d9221"
            ],
            [
             1,
             "#276419"
            ]
           ],
           "sequential": [
            [
             0,
             "#0d0887"
            ],
            [
             0.1111111111111111,
             "#46039f"
            ],
            [
             0.2222222222222222,
             "#7201a8"
            ],
            [
             0.3333333333333333,
             "#9c179e"
            ],
            [
             0.4444444444444444,
             "#bd3786"
            ],
            [
             0.5555555555555556,
             "#d8576b"
            ],
            [
             0.6666666666666666,
             "#ed7953"
            ],
            [
             0.7777777777777778,
             "#fb9f3a"
            ],
            [
             0.8888888888888888,
             "#fdca26"
            ],
            [
             1,
             "#f0f921"
            ]
           ],
           "sequentialminus": [
            [
             0,
             "#0d0887"
            ],
            [
             0.1111111111111111,
             "#46039f"
            ],
            [
             0.2222222222222222,
             "#7201a8"
            ],
            [
             0.3333333333333333,
             "#9c179e"
            ],
            [
             0.4444444444444444,
             "#bd3786"
            ],
            [
             0.5555555555555556,
             "#d8576b"
            ],
            [
             0.6666666666666666,
             "#ed7953"
            ],
            [
             0.7777777777777778,
             "#fb9f3a"
            ],
            [
             0.8888888888888888,
             "#fdca26"
            ],
            [
             1,
             "#f0f921"
            ]
           ]
          },
          "colorway": [
           "#636efa",
           "#EF553B",
           "#00cc96",
           "#ab63fa",
           "#FFA15A",
           "#19d3f3",
           "#FF6692",
           "#B6E880",
           "#FF97FF",
           "#FECB52"
          ],
          "font": {
           "color": "#2a3f5f"
          },
          "geo": {
           "bgcolor": "white",
           "lakecolor": "white",
           "landcolor": "#E5ECF6",
           "showlakes": true,
           "showland": true,
           "subunitcolor": "white"
          },
          "hoverlabel": {
           "align": "left"
          },
          "hovermode": "closest",
          "mapbox": {
           "style": "light"
          },
          "paper_bgcolor": "white",
          "plot_bgcolor": "#E5ECF6",
          "polar": {
           "angularaxis": {
            "gridcolor": "white",
            "linecolor": "white",
            "ticks": ""
           },
           "bgcolor": "#E5ECF6",
           "radialaxis": {
            "gridcolor": "white",
            "linecolor": "white",
            "ticks": ""
           }
          },
          "scene": {
           "xaxis": {
            "backgroundcolor": "#E5ECF6",
            "gridcolor": "white",
            "gridwidth": 2,
            "linecolor": "white",
            "showbackground": true,
            "ticks": "",
            "zerolinecolor": "white"
           },
           "yaxis": {
            "backgroundcolor": "#E5ECF6",
            "gridcolor": "white",
            "gridwidth": 2,
            "linecolor": "white",
            "showbackground": true,
            "ticks": "",
            "zerolinecolor": "white"
           },
           "zaxis": {
            "backgroundcolor": "#E5ECF6",
            "gridcolor": "white",
            "gridwidth": 2,
            "linecolor": "white",
            "showbackground": true,
            "ticks": "",
            "zerolinecolor": "white"
           }
          },
          "shapedefaults": {
           "line": {
            "color": "#2a3f5f"
           }
          },
          "ternary": {
           "aaxis": {
            "gridcolor": "white",
            "linecolor": "white",
            "ticks": ""
           },
           "baxis": {
            "gridcolor": "white",
            "linecolor": "white",
            "ticks": ""
           },
           "bgcolor": "#E5ECF6",
           "caxis": {
            "gridcolor": "white",
            "linecolor": "white",
            "ticks": ""
           }
          },
          "title": {
           "x": 0.05
          },
          "xaxis": {
           "automargin": true,
           "gridcolor": "white",
           "linecolor": "white",
           "ticks": "",
           "title": {
            "standoff": 15
           },
           "zerolinecolor": "white",
           "zerolinewidth": 2
          },
          "yaxis": {
           "automargin": true,
           "gridcolor": "white",
           "linecolor": "white",
           "ticks": "",
           "title": {
            "standoff": 15
           },
           "zerolinecolor": "white",
           "zerolinewidth": 2
          }
         }
        },
        "title": {
         "text": "ioi pruning layers relative pr correct"
        },
        "xaxis": {
         "anchor": "y",
         "autorange": true,
         "domain": [
          0,
          1
         ],
         "range": [
          -0.5,
          47.5
         ],
         "tickmode": "array",
         "ticktext": [
          "[0, 1, 2, 3, 4, 5, 6, 7, 8, 9, 10, 11, 12, 13, 14, 15, 16, 17, 18, 19, 20, 21, 22, 23, 24, 25, 26, 27, 28, 29, 30, 31, 32, 33, 34, 35, 36, 37, 38, 39, 40, 41, 42, 43, 44, 45, 46, 47]",
          "[0, 1, 2, 3, 4, 5, 6, 7, 8, 9, 10, 11, 12, 13, 14, 15, 16, 17, 18, 19, 20, 21, 22, 23, 24, 25, 26, 27, 28, 29, 30, 31, 32, 33, 34, 35, 36, 37, 39, 40, 41, 42, 43, 44, 45, 46, 47]",
          "[0, 1, 2, 3, 4, 5, 6, 7, 8, 9, 10, 11, 12, 13, 14, 15, 16, 17, 18, 19, 20, 21, 22, 23, 24, 25, 26, 27, 28, 29, 30, 31, 32, 33, 34, 35, 36, 37, 39, 40, 41, 42, 43, 44, 45, 47]",
          "[0, 1, 2, 3, 4, 5, 6, 7, 8, 9, 10, 12, 13, 14, 15, 16, 17, 18, 19, 20, 21, 22, 23, 24, 25, 26, 27, 28, 29, 30, 31, 32, 33, 34, 35, 36, 37, 39, 40, 41, 42, 43, 44, 45, 47]",
          "[0, 2, 3, 4, 5, 6, 7, 8, 9, 10, 12, 13, 14, 15, 16, 17, 18, 19, 20, 21, 22, 23, 24, 25, 26, 27, 28, 29, 30, 31, 32, 33, 34, 35, 36, 37, 39, 40, 41, 42, 43, 44, 45, 47]",
          "[0, 3, 4, 5, 6, 7, 8, 9, 10, 12, 13, 14, 15, 16, 17, 18, 19, 20, 21, 22, 23, 24, 25, 26, 27, 28, 29, 30, 31, 32, 33, 34, 35, 36, 37, 39, 40, 41, 42, 43, 44, 45, 47]",
          "[0, 4, 5, 6, 7, 8, 9, 10, 12, 13, 14, 15, 16, 17, 18, 19, 20, 21, 22, 23, 24, 25, 26, 27, 28, 29, 30, 31, 32, 33, 34, 35, 36, 37, 39, 40, 41, 42, 43, 44, 45, 47]",
          "[0, 4, 6, 7, 8, 9, 10, 12, 13, 14, 15, 16, 17, 18, 19, 20, 21, 22, 23, 24, 25, 26, 27, 28, 29, 30, 31, 32, 33, 34, 35, 36, 37, 39, 40, 41, 42, 43, 44, 45, 47]",
          "[0, 6, 7, 8, 9, 10, 12, 13, 14, 15, 16, 17, 18, 19, 20, 21, 22, 23, 24, 25, 26, 27, 28, 29, 30, 31, 32, 33, 34, 35, 36, 37, 39, 40, 41, 42, 43, 44, 45, 47]",
          "[0, 6, 7, 8, 9, 10, 13, 14, 15, 16, 17, 18, 19, 20, 21, 22, 23, 24, 25, 26, 27, 28, 29, 30, 31, 32, 33, 34, 35, 36, 37, 39, 40, 41, 42, 43, 44, 45, 47]",
          "[0, 6, 7, 8, 9, 10, 13, 15, 16, 17, 18, 19, 20, 21, 22, 23, 24, 25, 26, 27, 28, 29, 30, 31, 32, 33, 34, 35, 36, 37, 39, 40, 41, 42, 43, 44, 45, 47]",
          "[0, 6, 7, 8, 9, 10, 13, 15, 16, 17, 18, 19, 21, 22, 23, 24, 25, 26, 27, 28, 29, 30, 31, 32, 33, 34, 35, 36, 37, 39, 40, 41, 42, 43, 44, 45, 47]",
          "[0, 6, 7, 8, 9, 10, 15, 16, 17, 18, 19, 21, 22, 23, 24, 25, 26, 27, 28, 29, 30, 31, 32, 33, 34, 35, 36, 37, 39, 40, 41, 42, 43, 44, 45, 47]",
          "[0, 6, 7, 8, 9, 10, 15, 16, 17, 18, 19, 21, 22, 23, 24, 25, 26, 27, 28, 29, 30, 31, 32, 33, 34, 36, 37, 39, 40, 41, 42, 43, 44, 45, 47]",
          "[0, 6, 7, 8, 10, 15, 16, 17, 18, 19, 21, 22, 23, 24, 25, 26, 27, 28, 29, 30, 31, 32, 33, 34, 36, 37, 39, 40, 41, 42, 43, 44, 45, 47]",
          "[0, 6, 7, 8, 10, 15, 16, 17, 18, 19, 21, 23, 24, 25, 26, 27, 28, 29, 30, 31, 32, 33, 34, 36, 37, 39, 40, 41, 42, 43, 44, 45, 47]",
          "[0, 6, 7, 8, 10, 15, 16, 17, 18, 19, 21, 23, 24, 25, 26, 27, 28, 29, 30, 31, 32, 33, 34, 36, 37, 39, 40, 41, 42, 44, 45, 47]",
          "[0, 6, 7, 8, 10, 15, 16, 17, 18, 19, 21, 23, 24, 25, 26, 27, 29, 30, 31, 32, 33, 34, 36, 37, 39, 40, 41, 42, 44, 45, 47]",
          "[0, 6, 7, 8, 10, 15, 16, 17, 18, 19, 21, 23, 24, 25, 26, 27, 29, 30, 31, 32, 33, 34, 36, 37, 39, 40, 42, 44, 45, 47]",
          "[0, 6, 7, 8, 10, 15, 16, 17, 18, 19, 21, 23, 24, 25, 26, 29, 30, 31, 32, 33, 34, 36, 37, 39, 40, 42, 44, 45, 47]",
          "[0, 6, 7, 8, 10, 15, 16, 17, 18, 19, 21, 23, 24, 25, 26, 29, 30, 31, 32, 33, 34, 37, 39, 40, 42, 44, 45, 47]",
          "[0, 6, 7, 8, 10, 15, 16, 17, 18, 19, 21, 23, 24, 25, 26, 29, 30, 31, 32, 33, 34, 39, 40, 42, 44, 45, 47]",
          "[0, 6, 7, 8, 10, 15, 16, 17, 18, 19, 21, 24, 25, 26, 29, 30, 31, 32, 33, 34, 39, 40, 42, 44, 45, 47]",
          "[0, 7, 8, 10, 15, 16, 17, 18, 19, 21, 24, 25, 26, 29, 30, 31, 32, 33, 34, 39, 40, 42, 44, 45, 47]",
          "[0, 7, 8, 10, 15, 16, 17, 19, 21, 24, 25, 26, 29, 30, 31, 32, 33, 34, 39, 40, 42, 44, 45, 47]",
          "[0, 7, 8, 10, 15, 16, 17, 19, 21, 24, 25, 26, 29, 30, 31, 32, 34, 39, 40, 42, 44, 45, 47]",
          "[0, 7, 8, 10, 15, 16, 17, 19, 21, 25, 26, 29, 30, 31, 32, 34, 39, 40, 42, 44, 45, 47]",
          "[0, 7, 8, 10, 15, 16, 17, 19, 21, 25, 26, 29, 30, 31, 32, 34, 39, 42, 44, 45, 47]",
          "[0, 7, 8, 10, 15, 16, 17, 19, 21, 25, 26, 29, 30, 32, 34, 39, 42, 44, 45, 47]",
          "[0, 7, 8, 10, 15, 16, 19, 21, 25, 26, 29, 30, 32, 34, 39, 42, 44, 45, 47]",
          "[0, 7, 8, 10, 15, 16, 19, 21, 25, 26, 29, 30, 32, 39, 42, 44, 45, 47]",
          "[0, 8, 10, 15, 16, 19, 21, 25, 26, 29, 30, 32, 39, 42, 44, 45, 47]",
          "[0, 10, 15, 16, 19, 21, 25, 26, 29, 30, 32, 39, 42, 44, 45, 47]",
          "[0, 10, 15, 16, 19, 21, 25, 26, 30, 32, 39, 42, 44, 45, 47]",
          "[0, 10, 15, 16, 19, 21, 26, 30, 32, 39, 42, 44, 45, 47]",
          "[0, 10, 15, 16, 19, 21, 26, 30, 32, 39, 42, 44, 45]",
          "[0, 10, 15, 16, 19, 21, 26, 30, 32, 39, 42, 44]",
          "[0, 10, 15, 16, 19, 21, 26, 30, 32, 39, 42]",
          "[0, 10, 15, 16, 19, 21, 26, 30, 32, 39]",
          "[0, 10, 15, 16, 19, 21, 30, 32, 39]",
          "[0, 10, 15, 16, 19, 21, 32, 39]",
          "[0, 10, 15, 16, 21, 32, 39]",
          "[0, 15, 16, 21, 32, 39]",
          "[0, 15, 21, 32, 39]",
          "[0, 21, 32, 39]",
          "[0, 32, 39]",
          "[0, 32]",
          "[0]"
         ],
         "tickvals": [
          "[0, 1, 2, 3, 4, 5, 6, 7, 8, 9, 10, 11, 12, 13, 14, 15, 16, 17, 18, 19, 20, 21, 22, 23, 24, 25, 26, 27, 28, 29, 30, 31, 32, 33, 34, 35, 36, 37, 38, 39, 40, 41, 42, 43, 44, 45, 46, 47]",
          "[0, 1, 2, 3, 4, 5, 6, 7, 8, 9, 10, 11, 12, 13, 14, 15, 16, 17, 18, 19, 20, 21, 22, 23, 24, 25, 26, 27, 28, 29, 30, 31, 32, 33, 34, 35, 36, 37, 39, 40, 41, 42, 43, 44, 45, 46, 47]",
          "[0, 1, 2, 3, 4, 5, 6, 7, 8, 9, 10, 11, 12, 13, 14, 15, 16, 17, 18, 19, 20, 21, 22, 23, 24, 25, 26, 27, 28, 29, 30, 31, 32, 33, 34, 35, 36, 37, 39, 40, 41, 42, 43, 44, 45, 47]",
          "[0, 1, 2, 3, 4, 5, 6, 7, 8, 9, 10, 12, 13, 14, 15, 16, 17, 18, 19, 20, 21, 22, 23, 24, 25, 26, 27, 28, 29, 30, 31, 32, 33, 34, 35, 36, 37, 39, 40, 41, 42, 43, 44, 45, 47]",
          "[0, 2, 3, 4, 5, 6, 7, 8, 9, 10, 12, 13, 14, 15, 16, 17, 18, 19, 20, 21, 22, 23, 24, 25, 26, 27, 28, 29, 30, 31, 32, 33, 34, 35, 36, 37, 39, 40, 41, 42, 43, 44, 45, 47]",
          "[0, 3, 4, 5, 6, 7, 8, 9, 10, 12, 13, 14, 15, 16, 17, 18, 19, 20, 21, 22, 23, 24, 25, 26, 27, 28, 29, 30, 31, 32, 33, 34, 35, 36, 37, 39, 40, 41, 42, 43, 44, 45, 47]",
          "[0, 4, 5, 6, 7, 8, 9, 10, 12, 13, 14, 15, 16, 17, 18, 19, 20, 21, 22, 23, 24, 25, 26, 27, 28, 29, 30, 31, 32, 33, 34, 35, 36, 37, 39, 40, 41, 42, 43, 44, 45, 47]",
          "[0, 4, 6, 7, 8, 9, 10, 12, 13, 14, 15, 16, 17, 18, 19, 20, 21, 22, 23, 24, 25, 26, 27, 28, 29, 30, 31, 32, 33, 34, 35, 36, 37, 39, 40, 41, 42, 43, 44, 45, 47]",
          "[0, 6, 7, 8, 9, 10, 12, 13, 14, 15, 16, 17, 18, 19, 20, 21, 22, 23, 24, 25, 26, 27, 28, 29, 30, 31, 32, 33, 34, 35, 36, 37, 39, 40, 41, 42, 43, 44, 45, 47]",
          "[0, 6, 7, 8, 9, 10, 13, 14, 15, 16, 17, 18, 19, 20, 21, 22, 23, 24, 25, 26, 27, 28, 29, 30, 31, 32, 33, 34, 35, 36, 37, 39, 40, 41, 42, 43, 44, 45, 47]",
          "[0, 6, 7, 8, 9, 10, 13, 15, 16, 17, 18, 19, 20, 21, 22, 23, 24, 25, 26, 27, 28, 29, 30, 31, 32, 33, 34, 35, 36, 37, 39, 40, 41, 42, 43, 44, 45, 47]",
          "[0, 6, 7, 8, 9, 10, 13, 15, 16, 17, 18, 19, 21, 22, 23, 24, 25, 26, 27, 28, 29, 30, 31, 32, 33, 34, 35, 36, 37, 39, 40, 41, 42, 43, 44, 45, 47]",
          "[0, 6, 7, 8, 9, 10, 15, 16, 17, 18, 19, 21, 22, 23, 24, 25, 26, 27, 28, 29, 30, 31, 32, 33, 34, 35, 36, 37, 39, 40, 41, 42, 43, 44, 45, 47]",
          "[0, 6, 7, 8, 9, 10, 15, 16, 17, 18, 19, 21, 22, 23, 24, 25, 26, 27, 28, 29, 30, 31, 32, 33, 34, 36, 37, 39, 40, 41, 42, 43, 44, 45, 47]",
          "[0, 6, 7, 8, 10, 15, 16, 17, 18, 19, 21, 22, 23, 24, 25, 26, 27, 28, 29, 30, 31, 32, 33, 34, 36, 37, 39, 40, 41, 42, 43, 44, 45, 47]",
          "[0, 6, 7, 8, 10, 15, 16, 17, 18, 19, 21, 23, 24, 25, 26, 27, 28, 29, 30, 31, 32, 33, 34, 36, 37, 39, 40, 41, 42, 43, 44, 45, 47]",
          "[0, 6, 7, 8, 10, 15, 16, 17, 18, 19, 21, 23, 24, 25, 26, 27, 28, 29, 30, 31, 32, 33, 34, 36, 37, 39, 40, 41, 42, 44, 45, 47]",
          "[0, 6, 7, 8, 10, 15, 16, 17, 18, 19, 21, 23, 24, 25, 26, 27, 29, 30, 31, 32, 33, 34, 36, 37, 39, 40, 41, 42, 44, 45, 47]",
          "[0, 6, 7, 8, 10, 15, 16, 17, 18, 19, 21, 23, 24, 25, 26, 27, 29, 30, 31, 32, 33, 34, 36, 37, 39, 40, 42, 44, 45, 47]",
          "[0, 6, 7, 8, 10, 15, 16, 17, 18, 19, 21, 23, 24, 25, 26, 29, 30, 31, 32, 33, 34, 36, 37, 39, 40, 42, 44, 45, 47]",
          "[0, 6, 7, 8, 10, 15, 16, 17, 18, 19, 21, 23, 24, 25, 26, 29, 30, 31, 32, 33, 34, 37, 39, 40, 42, 44, 45, 47]",
          "[0, 6, 7, 8, 10, 15, 16, 17, 18, 19, 21, 23, 24, 25, 26, 29, 30, 31, 32, 33, 34, 39, 40, 42, 44, 45, 47]",
          "[0, 6, 7, 8, 10, 15, 16, 17, 18, 19, 21, 24, 25, 26, 29, 30, 31, 32, 33, 34, 39, 40, 42, 44, 45, 47]",
          "[0, 7, 8, 10, 15, 16, 17, 18, 19, 21, 24, 25, 26, 29, 30, 31, 32, 33, 34, 39, 40, 42, 44, 45, 47]",
          "[0, 7, 8, 10, 15, 16, 17, 19, 21, 24, 25, 26, 29, 30, 31, 32, 33, 34, 39, 40, 42, 44, 45, 47]",
          "[0, 7, 8, 10, 15, 16, 17, 19, 21, 24, 25, 26, 29, 30, 31, 32, 34, 39, 40, 42, 44, 45, 47]",
          "[0, 7, 8, 10, 15, 16, 17, 19, 21, 25, 26, 29, 30, 31, 32, 34, 39, 40, 42, 44, 45, 47]",
          "[0, 7, 8, 10, 15, 16, 17, 19, 21, 25, 26, 29, 30, 31, 32, 34, 39, 42, 44, 45, 47]",
          "[0, 7, 8, 10, 15, 16, 17, 19, 21, 25, 26, 29, 30, 32, 34, 39, 42, 44, 45, 47]",
          "[0, 7, 8, 10, 15, 16, 19, 21, 25, 26, 29, 30, 32, 34, 39, 42, 44, 45, 47]",
          "[0, 7, 8, 10, 15, 16, 19, 21, 25, 26, 29, 30, 32, 39, 42, 44, 45, 47]",
          "[0, 8, 10, 15, 16, 19, 21, 25, 26, 29, 30, 32, 39, 42, 44, 45, 47]",
          "[0, 10, 15, 16, 19, 21, 25, 26, 29, 30, 32, 39, 42, 44, 45, 47]",
          "[0, 10, 15, 16, 19, 21, 25, 26, 30, 32, 39, 42, 44, 45, 47]",
          "[0, 10, 15, 16, 19, 21, 26, 30, 32, 39, 42, 44, 45, 47]",
          "[0, 10, 15, 16, 19, 21, 26, 30, 32, 39, 42, 44, 45]",
          "[0, 10, 15, 16, 19, 21, 26, 30, 32, 39, 42, 44]",
          "[0, 10, 15, 16, 19, 21, 26, 30, 32, 39, 42]",
          "[0, 10, 15, 16, 19, 21, 26, 30, 32, 39]",
          "[0, 10, 15, 16, 19, 21, 30, 32, 39]",
          "[0, 10, 15, 16, 19, 21, 32, 39]",
          "[0, 10, 15, 16, 21, 32, 39]",
          "[0, 15, 16, 21, 32, 39]",
          "[0, 15, 21, 32, 39]",
          "[0, 21, 32, 39]",
          "[0, 32, 39]",
          "[0, 32]",
          "[0]"
         ],
         "title": {
          "text": "x"
         },
         "type": "category"
        },
        "yaxis": {
         "anchor": "x",
         "autorange": true,
         "domain": [
          0,
          1
         ],
         "range": [
          0,
          0.6226816302851627
         ],
         "title": {
          "text": " pr of correct"
         },
         "type": "linear"
        }
       }
      },
      "image/png": "[encoded data removed]",
      "text/html": [
       "<div>                            <div id=\"ae091fdd-cd44-482d-91d4-91965ea4ef4f\" class=\"plotly-graph-div\" style=\"height:525px; width:100%;\"></div>            <script type=\"text/javascript\">                require([\"plotly\"], function(Plotly) {                    window.PLOTLYENV=window.PLOTLYENV || {};                                    if (document.getElementById(\"ae091fdd-cd44-482d-91d4-91965ea4ef4f\")) {                    Plotly.newPlot(                        \"ae091fdd-cd44-482d-91d4-91965ea4ef4f\",                        [{\"alignmentgroup\":\"True\",\"hovertemplate\":\"x=%{x}\\u003cbr\\u003e pr of correct=%{y}\\u003cextra\\u003e\\u003c\\u002fextra\\u003e\",\"legendgroup\":\"\",\"marker\":{\"color\":\"#636efa\",\"pattern\":{\"shape\":\"\"}},\"name\":\"\",\"offsetgroup\":\"\",\"orientation\":\"v\",\"showlegend\":false,\"textposition\":\"auto\",\"x\":[\"[0, 1, 2, 3, 4, 5, 6, 7, 8, 9, 10, 11, 12, 13, 14, 15, 16, 17, 18, 19, 20, 21, 22, 23, 24, 25, 26, 27, 28, 29, 30, 31, 32, 33, 34, 35, 36, 37, 38, 39, 40, 41, 42, 43, 44, 45, 46, 47]\",\"[0, 1, 2, 3, 4, 5, 6, 7, 8, 9, 10, 11, 12, 13, 14, 15, 16, 17, 18, 19, 20, 21, 22, 23, 24, 25, 26, 27, 28, 29, 30, 31, 32, 33, 34, 35, 36, 37, 39, 40, 41, 42, 43, 44, 45, 46, 47]\",\"[0, 1, 2, 3, 4, 5, 6, 7, 8, 9, 10, 11, 12, 13, 14, 15, 16, 17, 18, 19, 20, 21, 22, 23, 24, 25, 26, 27, 28, 29, 30, 31, 32, 33, 34, 35, 36, 37, 39, 40, 41, 42, 43, 44, 45, 47]\",\"[0, 1, 2, 3, 4, 5, 6, 7, 8, 9, 10, 12, 13, 14, 15, 16, 17, 18, 19, 20, 21, 22, 23, 24, 25, 26, 27, 28, 29, 30, 31, 32, 33, 34, 35, 36, 37, 39, 40, 41, 42, 43, 44, 45, 47]\",\"[0, 2, 3, 4, 5, 6, 7, 8, 9, 10, 12, 13, 14, 15, 16, 17, 18, 19, 20, 21, 22, 23, 24, 25, 26, 27, 28, 29, 30, 31, 32, 33, 34, 35, 36, 37, 39, 40, 41, 42, 43, 44, 45, 47]\",\"[0, 3, 4, 5, 6, 7, 8, 9, 10, 12, 13, 14, 15, 16, 17, 18, 19, 20, 21, 22, 23, 24, 25, 26, 27, 28, 29, 30, 31, 32, 33, 34, 35, 36, 37, 39, 40, 41, 42, 43, 44, 45, 47]\",\"[0, 4, 5, 6, 7, 8, 9, 10, 12, 13, 14, 15, 16, 17, 18, 19, 20, 21, 22, 23, 24, 25, 26, 27, 28, 29, 30, 31, 32, 33, 34, 35, 36, 37, 39, 40, 41, 42, 43, 44, 45, 47]\",\"[0, 4, 6, 7, 8, 9, 10, 12, 13, 14, 15, 16, 17, 18, 19, 20, 21, 22, 23, 24, 25, 26, 27, 28, 29, 30, 31, 32, 33, 34, 35, 36, 37, 39, 40, 41, 42, 43, 44, 45, 47]\",\"[0, 6, 7, 8, 9, 10, 12, 13, 14, 15, 16, 17, 18, 19, 20, 21, 22, 23, 24, 25, 26, 27, 28, 29, 30, 31, 32, 33, 34, 35, 36, 37, 39, 40, 41, 42, 43, 44, 45, 47]\",\"[0, 6, 7, 8, 9, 10, 13, 14, 15, 16, 17, 18, 19, 20, 21, 22, 23, 24, 25, 26, 27, 28, 29, 30, 31, 32, 33, 34, 35, 36, 37, 39, 40, 41, 42, 43, 44, 45, 47]\",\"[0, 6, 7, 8, 9, 10, 13, 15, 16, 17, 18, 19, 20, 21, 22, 23, 24, 25, 26, 27, 28, 29, 30, 31, 32, 33, 34, 35, 36, 37, 39, 40, 41, 42, 43, 44, 45, 47]\",\"[0, 6, 7, 8, 9, 10, 13, 15, 16, 17, 18, 19, 21, 22, 23, 24, 25, 26, 27, 28, 29, 30, 31, 32, 33, 34, 35, 36, 37, 39, 40, 41, 42, 43, 44, 45, 47]\",\"[0, 6, 7, 8, 9, 10, 15, 16, 17, 18, 19, 21, 22, 23, 24, 25, 26, 27, 28, 29, 30, 31, 32, 33, 34, 35, 36, 37, 39, 40, 41, 42, 43, 44, 45, 47]\",\"[0, 6, 7, 8, 9, 10, 15, 16, 17, 18, 19, 21, 22, 23, 24, 25, 26, 27, 28, 29, 30, 31, 32, 33, 34, 36, 37, 39, 40, 41, 42, 43, 44, 45, 47]\",\"[0, 6, 7, 8, 10, 15, 16, 17, 18, 19, 21, 22, 23, 24, 25, 26, 27, 28, 29, 30, 31, 32, 33, 34, 36, 37, 39, 40, 41, 42, 43, 44, 45, 47]\",\"[0, 6, 7, 8, 10, 15, 16, 17, 18, 19, 21, 23, 24, 25, 26, 27, 28, 29, 30, 31, 32, 33, 34, 36, 37, 39, 40, 41, 42, 43, 44, 45, 47]\",\"[0, 6, 7, 8, 10, 15, 16, 17, 18, 19, 21, 23, 24, 25, 26, 27, 28, 29, 30, 31, 32, 33, 34, 36, 37, 39, 40, 41, 42, 44, 45, 47]\",\"[0, 6, 7, 8, 10, 15, 16, 17, 18, 19, 21, 23, 24, 25, 26, 27, 29, 30, 31, 32, 33, 34, 36, 37, 39, 40, 41, 42, 44, 45, 47]\",\"[0, 6, 7, 8, 10, 15, 16, 17, 18, 19, 21, 23, 24, 25, 26, 27, 29, 30, 31, 32, 33, 34, 36, 37, 39, 40, 42, 44, 45, 47]\",\"[0, 6, 7, 8, 10, 15, 16, 17, 18, 19, 21, 23, 24, 25, 26, 29, 30, 31, 32, 33, 34, 36, 37, 39, 40, 42, 44, 45, 47]\",\"[0, 6, 7, 8, 10, 15, 16, 17, 18, 19, 21, 23, 24, 25, 26, 29, 30, 31, 32, 33, 34, 37, 39, 40, 42, 44, 45, 47]\",\"[0, 6, 7, 8, 10, 15, 16, 17, 18, 19, 21, 23, 24, 25, 26, 29, 30, 31, 32, 33, 34, 39, 40, 42, 44, 45, 47]\",\"[0, 6, 7, 8, 10, 15, 16, 17, 18, 19, 21, 24, 25, 26, 29, 30, 31, 32, 33, 34, 39, 40, 42, 44, 45, 47]\",\"[0, 7, 8, 10, 15, 16, 17, 18, 19, 21, 24, 25, 26, 29, 30, 31, 32, 33, 34, 39, 40, 42, 44, 45, 47]\",\"[0, 7, 8, 10, 15, 16, 17, 19, 21, 24, 25, 26, 29, 30, 31, 32, 33, 34, 39, 40, 42, 44, 45, 47]\",\"[0, 7, 8, 10, 15, 16, 17, 19, 21, 24, 25, 26, 29, 30, 31, 32, 34, 39, 40, 42, 44, 45, 47]\",\"[0, 7, 8, 10, 15, 16, 17, 19, 21, 25, 26, 29, 30, 31, 32, 34, 39, 40, 42, 44, 45, 47]\",\"[0, 7, 8, 10, 15, 16, 17, 19, 21, 25, 26, 29, 30, 31, 32, 34, 39, 42, 44, 45, 47]\",\"[0, 7, 8, 10, 15, 16, 17, 19, 21, 25, 26, 29, 30, 32, 34, 39, 42, 44, 45, 47]\",\"[0, 7, 8, 10, 15, 16, 19, 21, 25, 26, 29, 30, 32, 34, 39, 42, 44, 45, 47]\",\"[0, 7, 8, 10, 15, 16, 19, 21, 25, 26, 29, 30, 32, 39, 42, 44, 45, 47]\",\"[0, 8, 10, 15, 16, 19, 21, 25, 26, 29, 30, 32, 39, 42, 44, 45, 47]\",\"[0, 10, 15, 16, 19, 21, 25, 26, 29, 30, 32, 39, 42, 44, 45, 47]\",\"[0, 10, 15, 16, 19, 21, 25, 26, 30, 32, 39, 42, 44, 45, 47]\",\"[0, 10, 15, 16, 19, 21, 26, 30, 32, 39, 42, 44, 45, 47]\",\"[0, 10, 15, 16, 19, 21, 26, 30, 32, 39, 42, 44, 45]\",\"[0, 10, 15, 16, 19, 21, 26, 30, 32, 39, 42, 44]\",\"[0, 10, 15, 16, 19, 21, 26, 30, 32, 39, 42]\",\"[0, 10, 15, 16, 19, 21, 26, 30, 32, 39]\",\"[0, 10, 15, 16, 19, 21, 30, 32, 39]\",\"[0, 10, 15, 16, 19, 21, 32, 39]\",\"[0, 10, 15, 16, 21, 32, 39]\",\"[0, 15, 16, 21, 32, 39]\",\"[0, 15, 21, 32, 39]\",\"[0, 21, 32, 39]\",\"[0, 32, 39]\",\"[0, 32]\",\"[0]\"],\"xaxis\":\"x\",\"y\":[0.25013071298599243,0.4591582119464874,0.3721102178096771,0.42101195454597473,0.4945985972881317,0.46720463037490845,0.4641507863998413,0.4459783136844635,0.4327159821987152,0.42529505491256714,0.44542375206947327,0.5315329432487488,0.4709083139896393,0.45955878496170044,0.4630673825740814,0.41964057087898254,0.4644625782966614,0.4809550344944,0.5501512289047241,0.5915475487709045,0.4686427116394043,0.4619865417480469,0.4095599353313446,0.3287523686885834,0.25819507241249084,0.3173906207084656,0.3332805037498474,0.2764897048473358,0.23017744719982147,0.2171282321214676,0.1903354376554489,0.13234348595142365,0.1678571254014969,0.06385635584592819,0.11457759886980057,0.111569844186306,0.10589314252138138,0.2031034380197525,0.2713175415992737,0.17862391471862793,0.12388680130243301,0.06692968308925629,3.6241538658998707e-09,2.185160108414408e-10,2.8305137789175205e-07,8.052504001530218e-18,3.502229371399934e-32,0.0],\"yaxis\":\"y\",\"type\":\"bar\"}],                        {\"template\":{\"data\":{\"histogram2dcontour\":[{\"type\":\"histogram2dcontour\",\"colorbar\":{\"outlinewidth\":0,\"ticks\":\"\"},\"colorscale\":[[0.0,\"#0d0887\"],[0.1111111111111111,\"#46039f\"],[0.2222222222222222,\"#7201a8\"],[0.3333333333333333,\"#9c179e\"],[0.4444444444444444,\"#bd3786\"],[0.5555555555555556,\"#d8576b\"],[0.6666666666666666,\"#ed7953\"],[0.7777777777777778,\"#fb9f3a\"],[0.8888888888888888,\"#fdca26\"],[1.0,\"#f0f921\"]]}],\"choropleth\":[{\"type\":\"choropleth\",\"colorbar\":{\"outlinewidth\":0,\"ticks\":\"\"}}],\"histogram2d\":[{\"type\":\"histogram2d\",\"colorbar\":{\"outlinewidth\":0,\"ticks\":\"\"},\"colorscale\":[[0.0,\"#0d0887\"],[0.1111111111111111,\"#46039f\"],[0.2222222222222222,\"#7201a8\"],[0.3333333333333333,\"#9c179e\"],[0.4444444444444444,\"#bd3786\"],[0.5555555555555556,\"#d8576b\"],[0.6666666666666666,\"#ed7953\"],[0.7777777777777778,\"#fb9f3a\"],[0.8888888888888888,\"#fdca26\"],[1.0,\"#f0f921\"]]}],\"heatmap\":[{\"type\":\"heatmap\",\"colorbar\":{\"outlinewidth\":0,\"ticks\":\"\"},\"colorscale\":[[0.0,\"#0d0887\"],[0.1111111111111111,\"#46039f\"],[0.2222222222222222,\"#7201a8\"],[0.3333333333333333,\"#9c179e\"],[0.4444444444444444,\"#bd3786\"],[0.5555555555555556,\"#d8576b\"],[0.6666666666666666,\"#ed7953\"],[0.7777777777777778,\"#fb9f3a\"],[0.8888888888888888,\"#fdca26\"],[1.0,\"#f0f921\"]]}],\"heatmapgl\":[{\"type\":\"heatmapgl\",\"colorbar\":{\"outlinewidth\":0,\"ticks\":\"\"},\"colorscale\":[[0.0,\"#0d0887\"],[0.1111111111111111,\"#46039f\"],[0.2222222222222222,\"#7201a8\"],[0.3333333333333333,\"#9c179e\"],[0.4444444444444444,\"#bd3786\"],[0.5555555555555556,\"#d8576b\"],[0.6666666666666666,\"#ed7953\"],[0.7777777777777778,\"#fb9f3a\"],[0.8888888888888888,\"#fdca26\"],[1.0,\"#f0f921\"]]}],\"contourcarpet\":[{\"type\":\"contourcarpet\",\"colorbar\":{\"outlinewidth\":0,\"ticks\":\"\"}}],\"contour\":[{\"type\":\"contour\",\"colorbar\":{\"outlinewidth\":0,\"ticks\":\"\"},\"colorscale\":[[0.0,\"#0d0887\"],[0.1111111111111111,\"#46039f\"],[0.2222222222222222,\"#7201a8\"],[0.3333333333333333,\"#9c179e\"],[0.4444444444444444,\"#bd3786\"],[0.5555555555555556,\"#d8576b\"],[0.6666666666666666,\"#ed7953\"],[0.7777777777777778,\"#fb9f3a\"],[0.8888888888888888,\"#fdca26\"],[1.0,\"#f0f921\"]]}],\"surface\":[{\"type\":\"surface\",\"colorbar\":{\"outlinewidth\":0,\"ticks\":\"\"},\"colorscale\":[[0.0,\"#0d0887\"],[0.1111111111111111,\"#46039f\"],[0.2222222222222222,\"#7201a8\"],[0.3333333333333333,\"#9c179e\"],[0.4444444444444444,\"#bd3786\"],[0.5555555555555556,\"#d8576b\"],[0.6666666666666666,\"#ed7953\"],[0.7777777777777778,\"#fb9f3a\"],[0.8888888888888888,\"#fdca26\"],[1.0,\"#f0f921\"]]}],\"mesh3d\":[{\"type\":\"mesh3d\",\"colorbar\":{\"outlinewidth\":0,\"ticks\":\"\"}}],\"scatter\":[{\"fillpattern\":{\"fillmode\":\"overlay\",\"size\":10,\"solidity\":0.2},\"type\":\"scatter\"}],\"parcoords\":[{\"type\":\"parcoords\",\"line\":{\"colorbar\":{\"outlinewidth\":0,\"ticks\":\"\"}}}],\"scatterpolargl\":[{\"type\":\"scatterpolargl\",\"marker\":{\"colorbar\":{\"outlinewidth\":0,\"ticks\":\"\"}}}],\"bar\":[{\"error_x\":{\"color\":\"#2a3f5f\"},\"error_y\":{\"color\":\"#2a3f5f\"},\"marker\":{\"line\":{\"color\":\"#E5ECF6\",\"width\":0.5},\"pattern\":{\"fillmode\":\"overlay\",\"size\":10,\"solidity\":0.2}},\"type\":\"bar\"}],\"scattergeo\":[{\"type\":\"scattergeo\",\"marker\":{\"colorbar\":{\"outlinewidth\":0,\"ticks\":\"\"}}}],\"scatterpolar\":[{\"type\":\"scatterpolar\",\"marker\":{\"colorbar\":{\"outlinewidth\":0,\"ticks\":\"\"}}}],\"histogram\":[{\"marker\":{\"pattern\":{\"fillmode\":\"overlay\",\"size\":10,\"solidity\":0.2}},\"type\":\"histogram\"}],\"scattergl\":[{\"type\":\"scattergl\",\"marker\":{\"colorbar\":{\"outlinewidth\":0,\"ticks\":\"\"}}}],\"scatter3d\":[{\"type\":\"scatter3d\",\"line\":{\"colorbar\":{\"outlinewidth\":0,\"ticks\":\"\"}},\"marker\":{\"colorbar\":{\"outlinewidth\":0,\"ticks\":\"\"}}}],\"scattermapbox\":[{\"type\":\"scattermapbox\",\"marker\":{\"colorbar\":{\"outlinewidth\":0,\"ticks\":\"\"}}}],\"scatterternary\":[{\"type\":\"scatterternary\",\"marker\":{\"colorbar\":{\"outlinewidth\":0,\"ticks\":\"\"}}}],\"scattercarpet\":[{\"type\":\"scattercarpet\",\"marker\":{\"colorbar\":{\"outlinewidth\":0,\"ticks\":\"\"}}}],\"carpet\":[{\"aaxis\":{\"endlinecolor\":\"#2a3f5f\",\"gridcolor\":\"white\",\"linecolor\":\"white\",\"minorgridcolor\":\"white\",\"startlinecolor\":\"#2a3f5f\"},\"baxis\":{\"endlinecolor\":\"#2a3f5f\",\"gridcolor\":\"white\",\"linecolor\":\"white\",\"minorgridcolor\":\"white\",\"startlinecolor\":\"#2a3f5f\"},\"type\":\"carpet\"}],\"table\":[{\"cells\":{\"fill\":{\"color\":\"#EBF0F8\"},\"line\":{\"color\":\"white\"}},\"header\":{\"fill\":{\"color\":\"#C8D4E3\"},\"line\":{\"color\":\"white\"}},\"type\":\"table\"}],\"barpolar\":[{\"marker\":{\"line\":{\"color\":\"#E5ECF6\",\"width\":0.5},\"pattern\":{\"fillmode\":\"overlay\",\"size\":10,\"solidity\":0.2}},\"type\":\"barpolar\"}],\"pie\":[{\"automargin\":true,\"type\":\"pie\"}]},\"layout\":{\"autotypenumbers\":\"strict\",\"colorway\":[\"#636efa\",\"#EF553B\",\"#00cc96\",\"#ab63fa\",\"#FFA15A\",\"#19d3f3\",\"#FF6692\",\"#B6E880\",\"#FF97FF\",\"#FECB52\"],\"font\":{\"color\":\"#2a3f5f\"},\"hovermode\":\"closest\",\"hoverlabel\":{\"align\":\"left\"},\"paper_bgcolor\":\"white\",\"plot_bgcolor\":\"#E5ECF6\",\"polar\":{\"bgcolor\":\"#E5ECF6\",\"angularaxis\":{\"gridcolor\":\"white\",\"linecolor\":\"white\",\"ticks\":\"\"},\"radialaxis\":{\"gridcolor\":\"white\",\"linecolor\":\"white\",\"ticks\":\"\"}},\"ternary\":{\"bgcolor\":\"#E5ECF6\",\"aaxis\":{\"gridcolor\":\"white\",\"linecolor\":\"white\",\"ticks\":\"\"},\"baxis\":{\"gridcolor\":\"white\",\"linecolor\":\"white\",\"ticks\":\"\"},\"caxis\":{\"gridcolor\":\"white\",\"linecolor\":\"white\",\"ticks\":\"\"}},\"coloraxis\":{\"colorbar\":{\"outlinewidth\":0,\"ticks\":\"\"}},\"colorscale\":{\"sequential\":[[0.0,\"#0d0887\"],[0.1111111111111111,\"#46039f\"],[0.2222222222222222,\"#7201a8\"],[0.3333333333333333,\"#9c179e\"],[0.4444444444444444,\"#bd3786\"],[0.5555555555555556,\"#d8576b\"],[0.6666666666666666,\"#ed7953\"],[0.7777777777777778,\"#fb9f3a\"],[0.8888888888888888,\"#fdca26\"],[1.0,\"#f0f921\"]],\"sequentialminus\":[[0.0,\"#0d0887\"],[0.1111111111111111,\"#46039f\"],[0.2222222222222222,\"#7201a8\"],[0.3333333333333333,\"#9c179e\"],[0.4444444444444444,\"#bd3786\"],[0.5555555555555556,\"#d8576b\"],[0.6666666666666666,\"#ed7953\"],[0.7777777777777778,\"#fb9f3a\"],[0.8888888888888888,\"#fdca26\"],[1.0,\"#f0f921\"]],\"diverging\":[[0,\"#8e0152\"],[0.1,\"#c51b7d\"],[0.2,\"#de77ae\"],[0.3,\"#f1b6da\"],[0.4,\"#fde0ef\"],[0.5,\"#f7f7f7\"],[0.6,\"#e6f5d0\"],[0.7,\"#b8e186\"],[0.8,\"#7fbc41\"],[0.9,\"#4d9221\"],[1,\"#276419\"]]},\"xaxis\":{\"gridcolor\":\"white\",\"linecolor\":\"white\",\"ticks\":\"\",\"title\":{\"standoff\":15},\"zerolinecolor\":\"white\",\"automargin\":true,\"zerolinewidth\":2},\"yaxis\":{\"gridcolor\":\"white\",\"linecolor\":\"white\",\"ticks\":\"\",\"title\":{\"standoff\":15},\"zerolinecolor\":\"white\",\"automargin\":true,\"zerolinewidth\":2},\"scene\":{\"xaxis\":{\"backgroundcolor\":\"#E5ECF6\",\"gridcolor\":\"white\",\"linecolor\":\"white\",\"showbackground\":true,\"ticks\":\"\",\"zerolinecolor\":\"white\",\"gridwidth\":2},\"yaxis\":{\"backgroundcolor\":\"#E5ECF6\",\"gridcolor\":\"white\",\"linecolor\":\"white\",\"showbackground\":true,\"ticks\":\"\",\"zerolinecolor\":\"white\",\"gridwidth\":2},\"zaxis\":{\"backgroundcolor\":\"#E5ECF6\",\"gridcolor\":\"white\",\"linecolor\":\"white\",\"showbackground\":true,\"ticks\":\"\",\"zerolinecolor\":\"white\",\"gridwidth\":2}},\"shapedefaults\":{\"line\":{\"color\":\"#2a3f5f\"}},\"annotationdefaults\":{\"arrowcolor\":\"#2a3f5f\",\"arrowhead\":0,\"arrowwidth\":1},\"geo\":{\"bgcolor\":\"white\",\"landcolor\":\"#E5ECF6\",\"subunitcolor\":\"white\",\"showland\":true,\"showlakes\":true,\"lakecolor\":\"white\"},\"title\":{\"x\":0.05},\"mapbox\":{\"style\":\"light\"}}},\"xaxis\":{\"anchor\":\"y\",\"domain\":[0.0,1.0],\"title\":{\"text\":\"x\"},\"tickmode\":\"array\",\"tickvals\":[\"[0, 1, 2, 3, 4, 5, 6, 7, 8, 9, 10, 11, 12, 13, 14, 15, 16, 17, 18, 19, 20, 21, 22, 23, 24, 25, 26, 27, 28, 29, 30, 31, 32, 33, 34, 35, 36, 37, 38, 39, 40, 41, 42, 43, 44, 45, 46, 47]\",\"[0, 1, 2, 3, 4, 5, 6, 7, 8, 9, 10, 11, 12, 13, 14, 15, 16, 17, 18, 19, 20, 21, 22, 23, 24, 25, 26, 27, 28, 29, 30, 31, 32, 33, 34, 35, 36, 37, 39, 40, 41, 42, 43, 44, 45, 46, 47]\",\"[0, 1, 2, 3, 4, 5, 6, 7, 8, 9, 10, 11, 12, 13, 14, 15, 16, 17, 18, 19, 20, 21, 22, 23, 24, 25, 26, 27, 28, 29, 30, 31, 32, 33, 34, 35, 36, 37, 39, 40, 41, 42, 43, 44, 45, 47]\",\"[0, 1, 2, 3, 4, 5, 6, 7, 8, 9, 10, 12, 13, 14, 15, 16, 17, 18, 19, 20, 21, 22, 23, 24, 25, 26, 27, 28, 29, 30, 31, 32, 33, 34, 35, 36, 37, 39, 40, 41, 42, 43, 44, 45, 47]\",\"[0, 2, 3, 4, 5, 6, 7, 8, 9, 10, 12, 13, 14, 15, 16, 17, 18, 19, 20, 21, 22, 23, 24, 25, 26, 27, 28, 29, 30, 31, 32, 33, 34, 35, 36, 37, 39, 40, 41, 42, 43, 44, 45, 47]\",\"[0, 3, 4, 5, 6, 7, 8, 9, 10, 12, 13, 14, 15, 16, 17, 18, 19, 20, 21, 22, 23, 24, 25, 26, 27, 28, 29, 30, 31, 32, 33, 34, 35, 36, 37, 39, 40, 41, 42, 43, 44, 45, 47]\",\"[0, 4, 5, 6, 7, 8, 9, 10, 12, 13, 14, 15, 16, 17, 18, 19, 20, 21, 22, 23, 24, 25, 26, 27, 28, 29, 30, 31, 32, 33, 34, 35, 36, 37, 39, 40, 41, 42, 43, 44, 45, 47]\",\"[0, 4, 6, 7, 8, 9, 10, 12, 13, 14, 15, 16, 17, 18, 19, 20, 21, 22, 23, 24, 25, 26, 27, 28, 29, 30, 31, 32, 33, 34, 35, 36, 37, 39, 40, 41, 42, 43, 44, 45, 47]\",\"[0, 6, 7, 8, 9, 10, 12, 13, 14, 15, 16, 17, 18, 19, 20, 21, 22, 23, 24, 25, 26, 27, 28, 29, 30, 31, 32, 33, 34, 35, 36, 37, 39, 40, 41, 42, 43, 44, 45, 47]\",\"[0, 6, 7, 8, 9, 10, 13, 14, 15, 16, 17, 18, 19, 20, 21, 22, 23, 24, 25, 26, 27, 28, 29, 30, 31, 32, 33, 34, 35, 36, 37, 39, 40, 41, 42, 43, 44, 45, 47]\",\"[0, 6, 7, 8, 9, 10, 13, 15, 16, 17, 18, 19, 20, 21, 22, 23, 24, 25, 26, 27, 28, 29, 30, 31, 32, 33, 34, 35, 36, 37, 39, 40, 41, 42, 43, 44, 45, 47]\",\"[0, 6, 7, 8, 9, 10, 13, 15, 16, 17, 18, 19, 21, 22, 23, 24, 25, 26, 27, 28, 29, 30, 31, 32, 33, 34, 35, 36, 37, 39, 40, 41, 42, 43, 44, 45, 47]\",\"[0, 6, 7, 8, 9, 10, 15, 16, 17, 18, 19, 21, 22, 23, 24, 25, 26, 27, 28, 29, 30, 31, 32, 33, 34, 35, 36, 37, 39, 40, 41, 42, 43, 44, 45, 47]\",\"[0, 6, 7, 8, 9, 10, 15, 16, 17, 18, 19, 21, 22, 23, 24, 25, 26, 27, 28, 29, 30, 31, 32, 33, 34, 36, 37, 39, 40, 41, 42, 43, 44, 45, 47]\",\"[0, 6, 7, 8, 10, 15, 16, 17, 18, 19, 21, 22, 23, 24, 25, 26, 27, 28, 29, 30, 31, 32, 33, 34, 36, 37, 39, 40, 41, 42, 43, 44, 45, 47]\",\"[0, 6, 7, 8, 10, 15, 16, 17, 18, 19, 21, 23, 24, 25, 26, 27, 28, 29, 30, 31, 32, 33, 34, 36, 37, 39, 40, 41, 42, 43, 44, 45, 47]\",\"[0, 6, 7, 8, 10, 15, 16, 17, 18, 19, 21, 23, 24, 25, 26, 27, 28, 29, 30, 31, 32, 33, 34, 36, 37, 39, 40, 41, 42, 44, 45, 47]\",\"[0, 6, 7, 8, 10, 15, 16, 17, 18, 19, 21, 23, 24, 25, 26, 27, 29, 30, 31, 32, 33, 34, 36, 37, 39, 40, 41, 42, 44, 45, 47]\",\"[0, 6, 7, 8, 10, 15, 16, 17, 18, 19, 21, 23, 24, 25, 26, 27, 29, 30, 31, 32, 33, 34, 36, 37, 39, 40, 42, 44, 45, 47]\",\"[0, 6, 7, 8, 10, 15, 16, 17, 18, 19, 21, 23, 24, 25, 26, 29, 30, 31, 32, 33, 34, 36, 37, 39, 40, 42, 44, 45, 47]\",\"[0, 6, 7, 8, 10, 15, 16, 17, 18, 19, 21, 23, 24, 25, 26, 29, 30, 31, 32, 33, 34, 37, 39, 40, 42, 44, 45, 47]\",\"[0, 6, 7, 8, 10, 15, 16, 17, 18, 19, 21, 23, 24, 25, 26, 29, 30, 31, 32, 33, 34, 39, 40, 42, 44, 45, 47]\",\"[0, 6, 7, 8, 10, 15, 16, 17, 18, 19, 21, 24, 25, 26, 29, 30, 31, 32, 33, 34, 39, 40, 42, 44, 45, 47]\",\"[0, 7, 8, 10, 15, 16, 17, 18, 19, 21, 24, 25, 26, 29, 30, 31, 32, 33, 34, 39, 40, 42, 44, 45, 47]\",\"[0, 7, 8, 10, 15, 16, 17, 19, 21, 24, 25, 26, 29, 30, 31, 32, 33, 34, 39, 40, 42, 44, 45, 47]\",\"[0, 7, 8, 10, 15, 16, 17, 19, 21, 24, 25, 26, 29, 30, 31, 32, 34, 39, 40, 42, 44, 45, 47]\",\"[0, 7, 8, 10, 15, 16, 17, 19, 21, 25, 26, 29, 30, 31, 32, 34, 39, 40, 42, 44, 45, 47]\",\"[0, 7, 8, 10, 15, 16, 17, 19, 21, 25, 26, 29, 30, 31, 32, 34, 39, 42, 44, 45, 47]\",\"[0, 7, 8, 10, 15, 16, 17, 19, 21, 25, 26, 29, 30, 32, 34, 39, 42, 44, 45, 47]\",\"[0, 7, 8, 10, 15, 16, 19, 21, 25, 26, 29, 30, 32, 34, 39, 42, 44, 45, 47]\",\"[0, 7, 8, 10, 15, 16, 19, 21, 25, 26, 29, 30, 32, 39, 42, 44, 45, 47]\",\"[0, 8, 10, 15, 16, 19, 21, 25, 26, 29, 30, 32, 39, 42, 44, 45, 47]\",\"[0, 10, 15, 16, 19, 21, 25, 26, 29, 30, 32, 39, 42, 44, 45, 47]\",\"[0, 10, 15, 16, 19, 21, 25, 26, 30, 32, 39, 42, 44, 45, 47]\",\"[0, 10, 15, 16, 19, 21, 26, 30, 32, 39, 42, 44, 45, 47]\",\"[0, 10, 15, 16, 19, 21, 26, 30, 32, 39, 42, 44, 45]\",\"[0, 10, 15, 16, 19, 21, 26, 30, 32, 39, 42, 44]\",\"[0, 10, 15, 16, 19, 21, 26, 30, 32, 39, 42]\",\"[0, 10, 15, 16, 19, 21, 26, 30, 32, 39]\",\"[0, 10, 15, 16, 19, 21, 30, 32, 39]\",\"[0, 10, 15, 16, 19, 21, 32, 39]\",\"[0, 10, 15, 16, 21, 32, 39]\",\"[0, 15, 16, 21, 32, 39]\",\"[0, 15, 21, 32, 39]\",\"[0, 21, 32, 39]\",\"[0, 32, 39]\",\"[0, 32]\",\"[0]\"],\"ticktext\":[\"[0, 1, 2, 3, 4, 5, 6, 7, 8, 9, 10, 11, 12, 13, 14, 15, 16, 17, 18, 19, 20, 21, 22, 23, 24, 25, 26, 27, 28, 29, 30, 31, 32, 33, 34, 35, 36, 37, 38, 39, 40, 41, 42, 43, 44, 45, 46, 47]\",\"[0, 1, 2, 3, 4, 5, 6, 7, 8, 9, 10, 11, 12, 13, 14, 15, 16, 17, 18, 19, 20, 21, 22, 23, 24, 25, 26, 27, 28, 29, 30, 31, 32, 33, 34, 35, 36, 37, 39, 40, 41, 42, 43, 44, 45, 46, 47]\",\"[0, 1, 2, 3, 4, 5, 6, 7, 8, 9, 10, 11, 12, 13, 14, 15, 16, 17, 18, 19, 20, 21, 22, 23, 24, 25, 26, 27, 28, 29, 30, 31, 32, 33, 34, 35, 36, 37, 39, 40, 41, 42, 43, 44, 45, 47]\",\"[0, 1, 2, 3, 4, 5, 6, 7, 8, 9, 10, 12, 13, 14, 15, 16, 17, 18, 19, 20, 21, 22, 23, 24, 25, 26, 27, 28, 29, 30, 31, 32, 33, 34, 35, 36, 37, 39, 40, 41, 42, 43, 44, 45, 47]\",\"[0, 2, 3, 4, 5, 6, 7, 8, 9, 10, 12, 13, 14, 15, 16, 17, 18, 19, 20, 21, 22, 23, 24, 25, 26, 27, 28, 29, 30, 31, 32, 33, 34, 35, 36, 37, 39, 40, 41, 42, 43, 44, 45, 47]\",\"[0, 3, 4, 5, 6, 7, 8, 9, 10, 12, 13, 14, 15, 16, 17, 18, 19, 20, 21, 22, 23, 24, 25, 26, 27, 28, 29, 30, 31, 32, 33, 34, 35, 36, 37, 39, 40, 41, 42, 43, 44, 45, 47]\",\"[0, 4, 5, 6, 7, 8, 9, 10, 12, 13, 14, 15, 16, 17, 18, 19, 20, 21, 22, 23, 24, 25, 26, 27, 28, 29, 30, 31, 32, 33, 34, 35, 36, 37, 39, 40, 41, 42, 43, 44, 45, 47]\",\"[0, 4, 6, 7, 8, 9, 10, 12, 13, 14, 15, 16, 17, 18, 19, 20, 21, 22, 23, 24, 25, 26, 27, 28, 29, 30, 31, 32, 33, 34, 35, 36, 37, 39, 40, 41, 42, 43, 44, 45, 47]\",\"[0, 6, 7, 8, 9, 10, 12, 13, 14, 15, 16, 17, 18, 19, 20, 21, 22, 23, 24, 25, 26, 27, 28, 29, 30, 31, 32, 33, 34, 35, 36, 37, 39, 40, 41, 42, 43, 44, 45, 47]\",\"[0, 6, 7, 8, 9, 10, 13, 14, 15, 16, 17, 18, 19, 20, 21, 22, 23, 24, 25, 26, 27, 28, 29, 30, 31, 32, 33, 34, 35, 36, 37, 39, 40, 41, 42, 43, 44, 45, 47]\",\"[0, 6, 7, 8, 9, 10, 13, 15, 16, 17, 18, 19, 20, 21, 22, 23, 24, 25, 26, 27, 28, 29, 30, 31, 32, 33, 34, 35, 36, 37, 39, 40, 41, 42, 43, 44, 45, 47]\",\"[0, 6, 7, 8, 9, 10, 13, 15, 16, 17, 18, 19, 21, 22, 23, 24, 25, 26, 27, 28, 29, 30, 31, 32, 33, 34, 35, 36, 37, 39, 40, 41, 42, 43, 44, 45, 47]\",\"[0, 6, 7, 8, 9, 10, 15, 16, 17, 18, 19, 21, 22, 23, 24, 25, 26, 27, 28, 29, 30, 31, 32, 33, 34, 35, 36, 37, 39, 40, 41, 42, 43, 44, 45, 47]\",\"[0, 6, 7, 8, 9, 10, 15, 16, 17, 18, 19, 21, 22, 23, 24, 25, 26, 27, 28, 29, 30, 31, 32, 33, 34, 36, 37, 39, 40, 41, 42, 43, 44, 45, 47]\",\"[0, 6, 7, 8, 10, 15, 16, 17, 18, 19, 21, 22, 23, 24, 25, 26, 27, 28, 29, 30, 31, 32, 33, 34, 36, 37, 39, 40, 41, 42, 43, 44, 45, 47]\",\"[0, 6, 7, 8, 10, 15, 16, 17, 18, 19, 21, 23, 24, 25, 26, 27, 28, 29, 30, 31, 32, 33, 34, 36, 37, 39, 40, 41, 42, 43, 44, 45, 47]\",\"[0, 6, 7, 8, 10, 15, 16, 17, 18, 19, 21, 23, 24, 25, 26, 27, 28, 29, 30, 31, 32, 33, 34, 36, 37, 39, 40, 41, 42, 44, 45, 47]\",\"[0, 6, 7, 8, 10, 15, 16, 17, 18, 19, 21, 23, 24, 25, 26, 27, 29, 30, 31, 32, 33, 34, 36, 37, 39, 40, 41, 42, 44, 45, 47]\",\"[0, 6, 7, 8, 10, 15, 16, 17, 18, 19, 21, 23, 24, 25, 26, 27, 29, 30, 31, 32, 33, 34, 36, 37, 39, 40, 42, 44, 45, 47]\",\"[0, 6, 7, 8, 10, 15, 16, 17, 18, 19, 21, 23, 24, 25, 26, 29, 30, 31, 32, 33, 34, 36, 37, 39, 40, 42, 44, 45, 47]\",\"[0, 6, 7, 8, 10, 15, 16, 17, 18, 19, 21, 23, 24, 25, 26, 29, 30, 31, 32, 33, 34, 37, 39, 40, 42, 44, 45, 47]\",\"[0, 6, 7, 8, 10, 15, 16, 17, 18, 19, 21, 23, 24, 25, 26, 29, 30, 31, 32, 33, 34, 39, 40, 42, 44, 45, 47]\",\"[0, 6, 7, 8, 10, 15, 16, 17, 18, 19, 21, 24, 25, 26, 29, 30, 31, 32, 33, 34, 39, 40, 42, 44, 45, 47]\",\"[0, 7, 8, 10, 15, 16, 17, 18, 19, 21, 24, 25, 26, 29, 30, 31, 32, 33, 34, 39, 40, 42, 44, 45, 47]\",\"[0, 7, 8, 10, 15, 16, 17, 19, 21, 24, 25, 26, 29, 30, 31, 32, 33, 34, 39, 40, 42, 44, 45, 47]\",\"[0, 7, 8, 10, 15, 16, 17, 19, 21, 24, 25, 26, 29, 30, 31, 32, 34, 39, 40, 42, 44, 45, 47]\",\"[0, 7, 8, 10, 15, 16, 17, 19, 21, 25, 26, 29, 30, 31, 32, 34, 39, 40, 42, 44, 45, 47]\",\"[0, 7, 8, 10, 15, 16, 17, 19, 21, 25, 26, 29, 30, 31, 32, 34, 39, 42, 44, 45, 47]\",\"[0, 7, 8, 10, 15, 16, 17, 19, 21, 25, 26, 29, 30, 32, 34, 39, 42, 44, 45, 47]\",\"[0, 7, 8, 10, 15, 16, 19, 21, 25, 26, 29, 30, 32, 34, 39, 42, 44, 45, 47]\",\"[0, 7, 8, 10, 15, 16, 19, 21, 25, 26, 29, 30, 32, 39, 42, 44, 45, 47]\",\"[0, 8, 10, 15, 16, 19, 21, 25, 26, 29, 30, 32, 39, 42, 44, 45, 47]\",\"[0, 10, 15, 16, 19, 21, 25, 26, 29, 30, 32, 39, 42, 44, 45, 47]\",\"[0, 10, 15, 16, 19, 21, 25, 26, 30, 32, 39, 42, 44, 45, 47]\",\"[0, 10, 15, 16, 19, 21, 26, 30, 32, 39, 42, 44, 45, 47]\",\"[0, 10, 15, 16, 19, 21, 26, 30, 32, 39, 42, 44, 45]\",\"[0, 10, 15, 16, 19, 21, 26, 30, 32, 39, 42, 44]\",\"[0, 10, 15, 16, 19, 21, 26, 30, 32, 39, 42]\",\"[0, 10, 15, 16, 19, 21, 26, 30, 32, 39]\",\"[0, 10, 15, 16, 19, 21, 30, 32, 39]\",\"[0, 10, 15, 16, 19, 21, 32, 39]\",\"[0, 10, 15, 16, 21, 32, 39]\",\"[0, 15, 16, 21, 32, 39]\",\"[0, 15, 21, 32, 39]\",\"[0, 21, 32, 39]\",\"[0, 32, 39]\",\"[0, 32]\",\"[0]\"]},\"yaxis\":{\"anchor\":\"x\",\"domain\":[0.0,1.0],\"title\":{\"text\":\" pr of correct\"}},\"legend\":{\"tracegroupgap\":0},\"title\":{\"text\":\"ioi pruning layers relative pr correct\"},\"barmode\":\"relative\",\"font\":{\"size\":4,\"color\":\"black\"}},                        {\"responsive\": true}                    ).then(function(){\n",
       "                            \n",
       "var gd = document.getElementById('ae091fdd-cd44-482d-91d4-91965ea4ef4f');\n",
       "var x = new MutationObserver(function (mutations, observer) {{\n",
       "        var display = window.getComputedStyle(gd).display;\n",
       "        if (!display || display === 'none') {{\n",
       "            console.log([gd, 'removed!']);\n",
       "            Plotly.purge(gd);\n",
       "            observer.disconnect();\n",
       "        }}\n",
       "}});\n",
       "\n",
       "// Listen for the removal of the full notebook cells\n",
       "var notebookContainer = gd.closest('#notebook-container');\n",
       "if (notebookContainer) {{\n",
       "    x.observe(notebookContainer, {childList: true});\n",
       "}}\n",
       "\n",
       "// Listen for the clearing of the current output cell\n",
       "var outputEl = gd.closest('.output');\n",
       "if (outputEl) {{\n",
       "    x.observe(outputEl, {childList: true});\n",
       "}}\n",
       "\n",
       "                        })                };                });            </script>        </div>"
      ]
     },
     "metadata": {},
     "output_type": "display_data"
    },
    {
     "data": {
      "application/vnd.plotly.v1+json": {
       "config": {
        "plotlyServerURL": "https://plot.ly"
       },
       "data": [
        {
         "alignmentgroup": "True",
         "hovertemplate": "x=%{x}<br> pr of incorrect=%{y}<extra></extra>",
         "legendgroup": "",
         "marker": {
          "color": "#636efa",
          "pattern": {
           "shape": ""
          }
         },
         "name": "",
         "offsetgroup": "",
         "orientation": "v",
         "showlegend": false,
         "textposition": "auto",
         "type": "bar",
         "x": [
          "[0, 1, 2, 3, 4, 5, 6, 7, 8, 9, 10, 11, 12, 13, 14, 15, 16, 17, 18, 19, 20, 21, 22, 23, 24, 25, 26, 27, 28, 29, 30, 31, 32, 33, 34, 35, 36, 37, 38, 39, 40, 41, 42, 43, 44, 45, 46, 47]",
          "[0, 1, 2, 3, 4, 5, 6, 7, 8, 9, 10, 11, 12, 13, 14, 15, 16, 17, 18, 19, 20, 21, 22, 23, 24, 25, 26, 27, 28, 29, 30, 31, 32, 33, 34, 35, 36, 37, 39, 40, 41, 42, 43, 44, 45, 46, 47]",
          "[0, 1, 2, 3, 4, 5, 6, 7, 8, 9, 10, 11, 12, 13, 14, 15, 16, 17, 18, 19, 20, 21, 22, 23, 24, 25, 26, 27, 28, 29, 30, 31, 32, 33, 34, 35, 36, 37, 39, 40, 41, 42, 43, 44, 45, 47]",
          "[0, 1, 2, 3, 4, 5, 6, 7, 8, 9, 10, 12, 13, 14, 15, 16, 17, 18, 19, 20, 21, 22, 23, 24, 25, 26, 27, 28, 29, 30, 31, 32, 33, 34, 35, 36, 37, 39, 40, 41, 42, 43, 44, 45, 47]",
          "[0, 2, 3, 4, 5, 6, 7, 8, 9, 10, 12, 13, 14, 15, 16, 17, 18, 19, 20, 21, 22, 23, 24, 25, 26, 27, 28, 29, 30, 31, 32, 33, 34, 35, 36, 37, 39, 40, 41, 42, 43, 44, 45, 47]",
          "[0, 3, 4, 5, 6, 7, 8, 9, 10, 12, 13, 14, 15, 16, 17, 18, 19, 20, 21, 22, 23, 24, 25, 26, 27, 28, 29, 30, 31, 32, 33, 34, 35, 36, 37, 39, 40, 41, 42, 43, 44, 45, 47]",
          "[0, 4, 5, 6, 7, 8, 9, 10, 12, 13, 14, 15, 16, 17, 18, 19, 20, 21, 22, 23, 24, 25, 26, 27, 28, 29, 30, 31, 32, 33, 34, 35, 36, 37, 39, 40, 41, 42, 43, 44, 45, 47]",
          "[0, 4, 6, 7, 8, 9, 10, 12, 13, 14, 15, 16, 17, 18, 19, 20, 21, 22, 23, 24, 25, 26, 27, 28, 29, 30, 31, 32, 33, 34, 35, 36, 37, 39, 40, 41, 42, 43, 44, 45, 47]",
          "[0, 6, 7, 8, 9, 10, 12, 13, 14, 15, 16, 17, 18, 19, 20, 21, 22, 23, 24, 25, 26, 27, 28, 29, 30, 31, 32, 33, 34, 35, 36, 37, 39, 40, 41, 42, 43, 44, 45, 47]",
          "[0, 6, 7, 8, 9, 10, 13, 14, 15, 16, 17, 18, 19, 20, 21, 22, 23, 24, 25, 26, 27, 28, 29, 30, 31, 32, 33, 34, 35, 36, 37, 39, 40, 41, 42, 43, 44, 45, 47]",
          "[0, 6, 7, 8, 9, 10, 13, 15, 16, 17, 18, 19, 20, 21, 22, 23, 24, 25, 26, 27, 28, 29, 30, 31, 32, 33, 34, 35, 36, 37, 39, 40, 41, 42, 43, 44, 45, 47]",
          "[0, 6, 7, 8, 9, 10, 13, 15, 16, 17, 18, 19, 21, 22, 23, 24, 25, 26, 27, 28, 29, 30, 31, 32, 33, 34, 35, 36, 37, 39, 40, 41, 42, 43, 44, 45, 47]",
          "[0, 6, 7, 8, 9, 10, 15, 16, 17, 18, 19, 21, 22, 23, 24, 25, 26, 27, 28, 29, 30, 31, 32, 33, 34, 35, 36, 37, 39, 40, 41, 42, 43, 44, 45, 47]",
          "[0, 6, 7, 8, 9, 10, 15, 16, 17, 18, 19, 21, 22, 23, 24, 25, 26, 27, 28, 29, 30, 31, 32, 33, 34, 36, 37, 39, 40, 41, 42, 43, 44, 45, 47]",
          "[0, 6, 7, 8, 10, 15, 16, 17, 18, 19, 21, 22, 23, 24, 25, 26, 27, 28, 29, 30, 31, 32, 33, 34, 36, 37, 39, 40, 41, 42, 43, 44, 45, 47]",
          "[0, 6, 7, 8, 10, 15, 16, 17, 18, 19, 21, 23, 24, 25, 26, 27, 28, 29, 30, 31, 32, 33, 34, 36, 37, 39, 40, 41, 42, 43, 44, 45, 47]",
          "[0, 6, 7, 8, 10, 15, 16, 17, 18, 19, 21, 23, 24, 25, 26, 27, 28, 29, 30, 31, 32, 33, 34, 36, 37, 39, 40, 41, 42, 44, 45, 47]",
          "[0, 6, 7, 8, 10, 15, 16, 17, 18, 19, 21, 23, 24, 25, 26, 27, 29, 30, 31, 32, 33, 34, 36, 37, 39, 40, 41, 42, 44, 45, 47]",
          "[0, 6, 7, 8, 10, 15, 16, 17, 18, 19, 21, 23, 24, 25, 26, 27, 29, 30, 31, 32, 33, 34, 36, 37, 39, 40, 42, 44, 45, 47]",
          "[0, 6, 7, 8, 10, 15, 16, 17, 18, 19, 21, 23, 24, 25, 26, 29, 30, 31, 32, 33, 34, 36, 37, 39, 40, 42, 44, 45, 47]",
          "[0, 6, 7, 8, 10, 15, 16, 17, 18, 19, 21, 23, 24, 25, 26, 29, 30, 31, 32, 33, 34, 37, 39, 40, 42, 44, 45, 47]",
          "[0, 6, 7, 8, 10, 15, 16, 17, 18, 19, 21, 23, 24, 25, 26, 29, 30, 31, 32, 33, 34, 39, 40, 42, 44, 45, 47]",
          "[0, 6, 7, 8, 10, 15, 16, 17, 18, 19, 21, 24, 25, 26, 29, 30, 31, 32, 33, 34, 39, 40, 42, 44, 45, 47]",
          "[0, 7, 8, 10, 15, 16, 17, 18, 19, 21, 24, 25, 26, 29, 30, 31, 32, 33, 34, 39, 40, 42, 44, 45, 47]",
          "[0, 7, 8, 10, 15, 16, 17, 19, 21, 24, 25, 26, 29, 30, 31, 32, 33, 34, 39, 40, 42, 44, 45, 47]",
          "[0, 7, 8, 10, 15, 16, 17, 19, 21, 24, 25, 26, 29, 30, 31, 32, 34, 39, 40, 42, 44, 45, 47]",
          "[0, 7, 8, 10, 15, 16, 17, 19, 21, 25, 26, 29, 30, 31, 32, 34, 39, 40, 42, 44, 45, 47]",
          "[0, 7, 8, 10, 15, 16, 17, 19, 21, 25, 26, 29, 30, 31, 32, 34, 39, 42, 44, 45, 47]",
          "[0, 7, 8, 10, 15, 16, 17, 19, 21, 25, 26, 29, 30, 32, 34, 39, 42, 44, 45, 47]",
          "[0, 7, 8, 10, 15, 16, 19, 21, 25, 26, 29, 30, 32, 34, 39, 42, 44, 45, 47]",
          "[0, 7, 8, 10, 15, 16, 19, 21, 25, 26, 29, 30, 32, 39, 42, 44, 45, 47]",
          "[0, 8, 10, 15, 16, 19, 21, 25, 26, 29, 30, 32, 39, 42, 44, 45, 47]",
          "[0, 10, 15, 16, 19, 21, 25, 26, 29, 30, 32, 39, 42, 44, 45, 47]",
          "[0, 10, 15, 16, 19, 21, 25, 26, 30, 32, 39, 42, 44, 45, 47]",
          "[0, 10, 15, 16, 19, 21, 26, 30, 32, 39, 42, 44, 45, 47]",
          "[0, 10, 15, 16, 19, 21, 26, 30, 32, 39, 42, 44, 45]",
          "[0, 10, 15, 16, 19, 21, 26, 30, 32, 39, 42, 44]",
          "[0, 10, 15, 16, 19, 21, 26, 30, 32, 39, 42]",
          "[0, 10, 15, 16, 19, 21, 26, 30, 32, 39]",
          "[0, 10, 15, 16, 19, 21, 30, 32, 39]",
          "[0, 10, 15, 16, 19, 21, 32, 39]",
          "[0, 10, 15, 16, 21, 32, 39]",
          "[0, 15, 16, 21, 32, 39]",
          "[0, 15, 21, 32, 39]",
          "[0, 21, 32, 39]",
          "[0, 32, 39]",
          "[0, 32]",
          "[0]"
         ],
         "xaxis": "x",
         "y": [
          0.006349329836666584,
          0.010736803524196148,
          0.015206471085548401,
          0.01529964804649353,
          0.009315747767686844,
          0.009611138142645359,
          0.00798199512064457,
          0.008808841928839684,
          0.007121620234102011,
          0.007773445453494787,
          0.005732811521738768,
          0.007783541455864906,
          0.015218745917081833,
          0.012015278451144695,
          0.011564445681869984,
          0.013998582027852535,
          0.015044762752950191,
          0.022475862875580788,
          0.02348526194691658,
          0.008630472235381603,
          0.016931936144828796,
          0.031206728890538216,
          0.028341609984636307,
          0.0270506851375103,
          0.0103972302749753,
          0.07475358992815018,
          0.02618875354528427,
          0.023298019543290138,
          0.024128269404172897,
          0.05195537582039833,
          0.06606755405664444,
          0.04718627780675888,
          0.07749558240175247,
          0.02790790982544422,
          0.1231398656964302,
          0.16523116827011108,
          0.15835872292518616,
          0.29634150862693787,
          0.3864045739173889,
          0.17678703367710114,
          0.25832927227020264,
          0.4331992566585541,
          0.02899961918592453,
          0.02062220685184002,
          0.0009952306281775236,
          5.742771236327826e-08,
          1.9262573195639399e-32,
          0
         ],
         "yaxis": "y"
        }
       ],
       "layout": {
        "autosize": true,
        "barmode": "relative",
        "font": {
         "color": "black",
         "size": 4
        },
        "legend": {
         "tracegroupgap": 0
        },
        "template": {
         "data": {
          "bar": [
           {
            "error_x": {
             "color": "#2a3f5f"
            },
            "error_y": {
             "color": "#2a3f5f"
            },
            "marker": {
             "line": {
              "color": "#E5ECF6",
              "width": 0.5
             },
             "pattern": {
              "fillmode": "overlay",
              "size": 10,
              "solidity": 0.2
             }
            },
            "type": "bar"
           }
          ],
          "barpolar": [
           {
            "marker": {
             "line": {
              "color": "#E5ECF6",
              "width": 0.5
             },
             "pattern": {
              "fillmode": "overlay",
              "size": 10,
              "solidity": 0.2
             }
            },
            "type": "barpolar"
           }
          ],
          "carpet": [
           {
            "aaxis": {
             "endlinecolor": "#2a3f5f",
             "gridcolor": "white",
             "linecolor": "white",
             "minorgridcolor": "white",
             "startlinecolor": "#2a3f5f"
            },
            "baxis": {
             "endlinecolor": "#2a3f5f",
             "gridcolor": "white",
             "linecolor": "white",
             "minorgridcolor": "white",
             "startlinecolor": "#2a3f5f"
            },
            "type": "carpet"
           }
          ],
          "choropleth": [
           {
            "colorbar": {
             "outlinewidth": 0,
             "ticks": ""
            },
            "type": "choropleth"
           }
          ],
          "contour": [
           {
            "colorbar": {
             "outlinewidth": 0,
             "ticks": ""
            },
            "colorscale": [
             [
              0,
              "#0d0887"
             ],
             [
              0.1111111111111111,
              "#46039f"
             ],
             [
              0.2222222222222222,
              "#7201a8"
             ],
             [
              0.3333333333333333,
              "#9c179e"
             ],
             [
              0.4444444444444444,
              "#bd3786"
             ],
             [
              0.5555555555555556,
              "#d8576b"
             ],
             [
              0.6666666666666666,
              "#ed7953"
             ],
             [
              0.7777777777777778,
              "#fb9f3a"
             ],
             [
              0.8888888888888888,
              "#fdca26"
             ],
             [
              1,
              "#f0f921"
             ]
            ],
            "type": "contour"
           }
          ],
          "contourcarpet": [
           {
            "colorbar": {
             "outlinewidth": 0,
             "ticks": ""
            },
            "type": "contourcarpet"
           }
          ],
          "heatmap": [
           {
            "colorbar": {
             "outlinewidth": 0,
             "ticks": ""
            },
            "colorscale": [
             [
              0,
              "#0d0887"
             ],
             [
              0.1111111111111111,
              "#46039f"
             ],
             [
              0.2222222222222222,
              "#7201a8"
             ],
             [
              0.3333333333333333,
              "#9c179e"
             ],
             [
              0.4444444444444444,
              "#bd3786"
             ],
             [
              0.5555555555555556,
              "#d8576b"
             ],
             [
              0.6666666666666666,
              "#ed7953"
             ],
             [
              0.7777777777777778,
              "#fb9f3a"
             ],
             [
              0.8888888888888888,
              "#fdca26"
             ],
             [
              1,
              "#f0f921"
             ]
            ],
            "type": "heatmap"
           }
          ],
          "heatmapgl": [
           {
            "colorbar": {
             "outlinewidth": 0,
             "ticks": ""
            },
            "colorscale": [
             [
              0,
              "#0d0887"
             ],
             [
              0.1111111111111111,
              "#46039f"
             ],
             [
              0.2222222222222222,
              "#7201a8"
             ],
             [
              0.3333333333333333,
              "#9c179e"
             ],
             [
              0.4444444444444444,
              "#bd3786"
             ],
             [
              0.5555555555555556,
              "#d8576b"
             ],
             [
              0.6666666666666666,
              "#ed7953"
             ],
             [
              0.7777777777777778,
              "#fb9f3a"
             ],
             [
              0.8888888888888888,
              "#fdca26"
             ],
             [
              1,
              "#f0f921"
             ]
            ],
            "type": "heatmapgl"
           }
          ],
          "histogram": [
           {
            "marker": {
             "pattern": {
              "fillmode": "overlay",
              "size": 10,
              "solidity": 0.2
             }
            },
            "type": "histogram"
           }
          ],
          "histogram2d": [
           {
            "colorbar": {
             "outlinewidth": 0,
             "ticks": ""
            },
            "colorscale": [
             [
              0,
              "#0d0887"
             ],
             [
              0.1111111111111111,
              "#46039f"
             ],
             [
              0.2222222222222222,
              "#7201a8"
             ],
             [
              0.3333333333333333,
              "#9c179e"
             ],
             [
              0.4444444444444444,
              "#bd3786"
             ],
             [
              0.5555555555555556,
              "#d8576b"
             ],
             [
              0.6666666666666666,
              "#ed7953"
             ],
             [
              0.7777777777777778,
              "#fb9f3a"
             ],
             [
              0.8888888888888888,
              "#fdca26"
             ],
             [
              1,
              "#f0f921"
             ]
            ],
            "type": "histogram2d"
           }
          ],
          "histogram2dcontour": [
           {
            "colorbar": {
             "outlinewidth": 0,
             "ticks": ""
            },
            "colorscale": [
             [
              0,
              "#0d0887"
             ],
             [
              0.1111111111111111,
              "#46039f"
             ],
             [
              0.2222222222222222,
              "#7201a8"
             ],
             [
              0.3333333333333333,
              "#9c179e"
             ],
             [
              0.4444444444444444,
              "#bd3786"
             ],
             [
              0.5555555555555556,
              "#d8576b"
             ],
             [
              0.6666666666666666,
              "#ed7953"
             ],
             [
              0.7777777777777778,
              "#fb9f3a"
             ],
             [
              0.8888888888888888,
              "#fdca26"
             ],
             [
              1,
              "#f0f921"
             ]
            ],
            "type": "histogram2dcontour"
           }
          ],
          "mesh3d": [
           {
            "colorbar": {
             "outlinewidth": 0,
             "ticks": ""
            },
            "type": "mesh3d"
           }
          ],
          "parcoords": [
           {
            "line": {
             "colorbar": {
              "outlinewidth": 0,
              "ticks": ""
             }
            },
            "type": "parcoords"
           }
          ],
          "pie": [
           {
            "automargin": true,
            "type": "pie"
           }
          ],
          "scatter": [
           {
            "fillpattern": {
             "fillmode": "overlay",
             "size": 10,
             "solidity": 0.2
            },
            "type": "scatter"
           }
          ],
          "scatter3d": [
           {
            "line": {
             "colorbar": {
              "outlinewidth": 0,
              "ticks": ""
             }
            },
            "marker": {
             "colorbar": {
              "outlinewidth": 0,
              "ticks": ""
             }
            },
            "type": "scatter3d"
           }
          ],
          "scattercarpet": [
           {
            "marker": {
             "colorbar": {
              "outlinewidth": 0,
              "ticks": ""
             }
            },
            "type": "scattercarpet"
           }
          ],
          "scattergeo": [
           {
            "marker": {
             "colorbar": {
              "outlinewidth": 0,
              "ticks": ""
             }
            },
            "type": "scattergeo"
           }
          ],
          "scattergl": [
           {
            "marker": {
             "colorbar": {
              "outlinewidth": 0,
              "ticks": ""
             }
            },
            "type": "scattergl"
           }
          ],
          "scattermapbox": [
           {
            "marker": {
             "colorbar": {
              "outlinewidth": 0,
              "ticks": ""
             }
            },
            "type": "scattermapbox"
           }
          ],
          "scatterpolar": [
           {
            "marker": {
             "colorbar": {
              "outlinewidth": 0,
              "ticks": ""
             }
            },
            "type": "scatterpolar"
           }
          ],
          "scatterpolargl": [
           {
            "marker": {
             "colorbar": {
              "outlinewidth": 0,
              "ticks": ""
             }
            },
            "type": "scatterpolargl"
           }
          ],
          "scatterternary": [
           {
            "marker": {
             "colorbar": {
              "outlinewidth": 0,
              "ticks": ""
             }
            },
            "type": "scatterternary"
           }
          ],
          "surface": [
           {
            "colorbar": {
             "outlinewidth": 0,
             "ticks": ""
            },
            "colorscale": [
             [
              0,
              "#0d0887"
             ],
             [
              0.1111111111111111,
              "#46039f"
             ],
             [
              0.2222222222222222,
              "#7201a8"
             ],
             [
              0.3333333333333333,
              "#9c179e"
             ],
             [
              0.4444444444444444,
              "#bd3786"
             ],
             [
              0.5555555555555556,
              "#d8576b"
             ],
             [
              0.6666666666666666,
              "#ed7953"
             ],
             [
              0.7777777777777778,
              "#fb9f3a"
             ],
             [
              0.8888888888888888,
              "#fdca26"
             ],
             [
              1,
              "#f0f921"
             ]
            ],
            "type": "surface"
           }
          ],
          "table": [
           {
            "cells": {
             "fill": {
              "color": "#EBF0F8"
             },
             "line": {
              "color": "white"
             }
            },
            "header": {
             "fill": {
              "color": "#C8D4E3"
             },
             "line": {
              "color": "white"
             }
            },
            "type": "table"
           }
          ]
         },
         "layout": {
          "annotationdefaults": {
           "arrowcolor": "#2a3f5f",
           "arrowhead": 0,
           "arrowwidth": 1
          },
          "autotypenumbers": "strict",
          "coloraxis": {
           "colorbar": {
            "outlinewidth": 0,
            "ticks": ""
           }
          },
          "colorscale": {
           "diverging": [
            [
             0,
             "#8e0152"
            ],
            [
             0.1,
             "#c51b7d"
            ],
            [
             0.2,
             "#de77ae"
            ],
            [
             0.3,
             "#f1b6da"
            ],
            [
             0.4,
             "#fde0ef"
            ],
            [
             0.5,
             "#f7f7f7"
            ],
            [
             0.6,
             "#e6f5d0"
            ],
            [
             0.7,
             "#b8e186"
            ],
            [
             0.8,
             "#7fbc41"
            ],
            [
             0.9,
             "#4d9221"
            ],
            [
             1,
             "#276419"
            ]
           ],
           "sequential": [
            [
             0,
             "#0d0887"
            ],
            [
             0.1111111111111111,
             "#46039f"
            ],
            [
             0.2222222222222222,
             "#7201a8"
            ],
            [
             0.3333333333333333,
             "#9c179e"
            ],
            [
             0.4444444444444444,
             "#bd3786"
            ],
            [
             0.5555555555555556,
             "#d8576b"
            ],
            [
             0.6666666666666666,
             "#ed7953"
            ],
            [
             0.7777777777777778,
             "#fb9f3a"
            ],
            [
             0.8888888888888888,
             "#fdca26"
            ],
            [
             1,
             "#f0f921"
            ]
           ],
           "sequentialminus": [
            [
             0,
             "#0d0887"
            ],
            [
             0.1111111111111111,
             "#46039f"
            ],
            [
             0.2222222222222222,
             "#7201a8"
            ],
            [
             0.3333333333333333,
             "#9c179e"
            ],
            [
             0.4444444444444444,
             "#bd3786"
            ],
            [
             0.5555555555555556,
             "#d8576b"
            ],
            [
             0.6666666666666666,
             "#ed7953"
            ],
            [
             0.7777777777777778,
             "#fb9f3a"
            ],
            [
             0.8888888888888888,
             "#fdca26"
            ],
            [
             1,
             "#f0f921"
            ]
           ]
          },
          "colorway": [
           "#636efa",
           "#EF553B",
           "#00cc96",
           "#ab63fa",
           "#FFA15A",
           "#19d3f3",
           "#FF6692",
           "#B6E880",
           "#FF97FF",
           "#FECB52"
          ],
          "font": {
           "color": "#2a3f5f"
          },
          "geo": {
           "bgcolor": "white",
           "lakecolor": "white",
           "landcolor": "#E5ECF6",
           "showlakes": true,
           "showland": true,
           "subunitcolor": "white"
          },
          "hoverlabel": {
           "align": "left"
          },
          "hovermode": "closest",
          "mapbox": {
           "style": "light"
          },
          "paper_bgcolor": "white",
          "plot_bgcolor": "#E5ECF6",
          "polar": {
           "angularaxis": {
            "gridcolor": "white",
            "linecolor": "white",
            "ticks": ""
           },
           "bgcolor": "#E5ECF6",
           "radialaxis": {
            "gridcolor": "white",
            "linecolor": "white",
            "ticks": ""
           }
          },
          "scene": {
           "xaxis": {
            "backgroundcolor": "#E5ECF6",
            "gridcolor": "white",
            "gridwidth": 2,
            "linecolor": "white",
            "showbackground": true,
            "ticks": "",
            "zerolinecolor": "white"
           },
           "yaxis": {
            "backgroundcolor": "#E5ECF6",
            "gridcolor": "white",
            "gridwidth": 2,
            "linecolor": "white",
            "showbackground": true,
            "ticks": "",
            "zerolinecolor": "white"
           },
           "zaxis": {
            "backgroundcolor": "#E5ECF6",
            "gridcolor": "white",
            "gridwidth": 2,
            "linecolor": "white",
            "showbackground": true,
            "ticks": "",
            "zerolinecolor": "white"
           }
          },
          "shapedefaults": {
           "line": {
            "color": "#2a3f5f"
           }
          },
          "ternary": {
           "aaxis": {
            "gridcolor": "white",
            "linecolor": "white",
            "ticks": ""
           },
           "baxis": {
            "gridcolor": "white",
            "linecolor": "white",
            "ticks": ""
           },
           "bgcolor": "#E5ECF6",
           "caxis": {
            "gridcolor": "white",
            "linecolor": "white",
            "ticks": ""
           }
          },
          "title": {
           "x": 0.05
          },
          "xaxis": {
           "automargin": true,
           "gridcolor": "white",
           "linecolor": "white",
           "ticks": "",
           "title": {
            "standoff": 15
           },
           "zerolinecolor": "white",
           "zerolinewidth": 2
          },
          "yaxis": {
           "automargin": true,
           "gridcolor": "white",
           "linecolor": "white",
           "ticks": "",
           "title": {
            "standoff": 15
           },
           "zerolinecolor": "white",
           "zerolinewidth": 2
          }
         }
        },
        "title": {
         "text": "ioi pruning layers relative pr incorrect"
        },
        "xaxis": {
         "anchor": "y",
         "autorange": true,
         "domain": [
          0,
          1
         ],
         "range": [
          -0.5,
          47.5
         ],
         "tickmode": "array",
         "ticktext": [
          "[0, 1, 2, 3, 4, 5, 6, 7, 8, 9, 10, 11, 12, 13, 14, 15, 16, 17, 18, 19, 20, 21, 22, 23, 24, 25, 26, 27, 28, 29, 30, 31, 32, 33, 34, 35, 36, 37, 38, 39, 40, 41, 42, 43, 44, 45, 46, 47]",
          "[0, 1, 2, 3, 4, 5, 6, 7, 8, 9, 10, 11, 12, 13, 14, 15, 16, 17, 18, 19, 20, 21, 22, 23, 24, 25, 26, 27, 28, 29, 30, 31, 32, 33, 34, 35, 36, 37, 39, 40, 41, 42, 43, 44, 45, 46, 47]",
          "[0, 1, 2, 3, 4, 5, 6, 7, 8, 9, 10, 11, 12, 13, 14, 15, 16, 17, 18, 19, 20, 21, 22, 23, 24, 25, 26, 27, 28, 29, 30, 31, 32, 33, 34, 35, 36, 37, 39, 40, 41, 42, 43, 44, 45, 47]",
          "[0, 1, 2, 3, 4, 5, 6, 7, 8, 9, 10, 12, 13, 14, 15, 16, 17, 18, 19, 20, 21, 22, 23, 24, 25, 26, 27, 28, 29, 30, 31, 32, 33, 34, 35, 36, 37, 39, 40, 41, 42, 43, 44, 45, 47]",
          "[0, 2, 3, 4, 5, 6, 7, 8, 9, 10, 12, 13, 14, 15, 16, 17, 18, 19, 20, 21, 22, 23, 24, 25, 26, 27, 28, 29, 30, 31, 32, 33, 34, 35, 36, 37, 39, 40, 41, 42, 43, 44, 45, 47]",
          "[0, 3, 4, 5, 6, 7, 8, 9, 10, 12, 13, 14, 15, 16, 17, 18, 19, 20, 21, 22, 23, 24, 25, 26, 27, 28, 29, 30, 31, 32, 33, 34, 35, 36, 37, 39, 40, 41, 42, 43, 44, 45, 47]",
          "[0, 4, 5, 6, 7, 8, 9, 10, 12, 13, 14, 15, 16, 17, 18, 19, 20, 21, 22, 23, 24, 25, 26, 27, 28, 29, 30, 31, 32, 33, 34, 35, 36, 37, 39, 40, 41, 42, 43, 44, 45, 47]",
          "[0, 4, 6, 7, 8, 9, 10, 12, 13, 14, 15, 16, 17, 18, 19, 20, 21, 22, 23, 24, 25, 26, 27, 28, 29, 30, 31, 32, 33, 34, 35, 36, 37, 39, 40, 41, 42, 43, 44, 45, 47]",
          "[0, 6, 7, 8, 9, 10, 12, 13, 14, 15, 16, 17, 18, 19, 20, 21, 22, 23, 24, 25, 26, 27, 28, 29, 30, 31, 32, 33, 34, 35, 36, 37, 39, 40, 41, 42, 43, 44, 45, 47]",
          "[0, 6, 7, 8, 9, 10, 13, 14, 15, 16, 17, 18, 19, 20, 21, 22, 23, 24, 25, 26, 27, 28, 29, 30, 31, 32, 33, 34, 35, 36, 37, 39, 40, 41, 42, 43, 44, 45, 47]",
          "[0, 6, 7, 8, 9, 10, 13, 15, 16, 17, 18, 19, 20, 21, 22, 23, 24, 25, 26, 27, 28, 29, 30, 31, 32, 33, 34, 35, 36, 37, 39, 40, 41, 42, 43, 44, 45, 47]",
          "[0, 6, 7, 8, 9, 10, 13, 15, 16, 17, 18, 19, 21, 22, 23, 24, 25, 26, 27, 28, 29, 30, 31, 32, 33, 34, 35, 36, 37, 39, 40, 41, 42, 43, 44, 45, 47]",
          "[0, 6, 7, 8, 9, 10, 15, 16, 17, 18, 19, 21, 22, 23, 24, 25, 26, 27, 28, 29, 30, 31, 32, 33, 34, 35, 36, 37, 39, 40, 41, 42, 43, 44, 45, 47]",
          "[0, 6, 7, 8, 9, 10, 15, 16, 17, 18, 19, 21, 22, 23, 24, 25, 26, 27, 28, 29, 30, 31, 32, 33, 34, 36, 37, 39, 40, 41, 42, 43, 44, 45, 47]",
          "[0, 6, 7, 8, 10, 15, 16, 17, 18, 19, 21, 22, 23, 24, 25, 26, 27, 28, 29, 30, 31, 32, 33, 34, 36, 37, 39, 40, 41, 42, 43, 44, 45, 47]",
          "[0, 6, 7, 8, 10, 15, 16, 17, 18, 19, 21, 23, 24, 25, 26, 27, 28, 29, 30, 31, 32, 33, 34, 36, 37, 39, 40, 41, 42, 43, 44, 45, 47]",
          "[0, 6, 7, 8, 10, 15, 16, 17, 18, 19, 21, 23, 24, 25, 26, 27, 28, 29, 30, 31, 32, 33, 34, 36, 37, 39, 40, 41, 42, 44, 45, 47]",
          "[0, 6, 7, 8, 10, 15, 16, 17, 18, 19, 21, 23, 24, 25, 26, 27, 29, 30, 31, 32, 33, 34, 36, 37, 39, 40, 41, 42, 44, 45, 47]",
          "[0, 6, 7, 8, 10, 15, 16, 17, 18, 19, 21, 23, 24, 25, 26, 27, 29, 30, 31, 32, 33, 34, 36, 37, 39, 40, 42, 44, 45, 47]",
          "[0, 6, 7, 8, 10, 15, 16, 17, 18, 19, 21, 23, 24, 25, 26, 29, 30, 31, 32, 33, 34, 36, 37, 39, 40, 42, 44, 45, 47]",
          "[0, 6, 7, 8, 10, 15, 16, 17, 18, 19, 21, 23, 24, 25, 26, 29, 30, 31, 32, 33, 34, 37, 39, 40, 42, 44, 45, 47]",
          "[0, 6, 7, 8, 10, 15, 16, 17, 18, 19, 21, 23, 24, 25, 26, 29, 30, 31, 32, 33, 34, 39, 40, 42, 44, 45, 47]",
          "[0, 6, 7, 8, 10, 15, 16, 17, 18, 19, 21, 24, 25, 26, 29, 30, 31, 32, 33, 34, 39, 40, 42, 44, 45, 47]",
          "[0, 7, 8, 10, 15, 16, 17, 18, 19, 21, 24, 25, 26, 29, 30, 31, 32, 33, 34, 39, 40, 42, 44, 45, 47]",
          "[0, 7, 8, 10, 15, 16, 17, 19, 21, 24, 25, 26, 29, 30, 31, 32, 33, 34, 39, 40, 42, 44, 45, 47]",
          "[0, 7, 8, 10, 15, 16, 17, 19, 21, 24, 25, 26, 29, 30, 31, 32, 34, 39, 40, 42, 44, 45, 47]",
          "[0, 7, 8, 10, 15, 16, 17, 19, 21, 25, 26, 29, 30, 31, 32, 34, 39, 40, 42, 44, 45, 47]",
          "[0, 7, 8, 10, 15, 16, 17, 19, 21, 25, 26, 29, 30, 31, 32, 34, 39, 42, 44, 45, 47]",
          "[0, 7, 8, 10, 15, 16, 17, 19, 21, 25, 26, 29, 30, 32, 34, 39, 42, 44, 45, 47]",
          "[0, 7, 8, 10, 15, 16, 19, 21, 25, 26, 29, 30, 32, 34, 39, 42, 44, 45, 47]",
          "[0, 7, 8, 10, 15, 16, 19, 21, 25, 26, 29, 30, 32, 39, 42, 44, 45, 47]",
          "[0, 8, 10, 15, 16, 19, 21, 25, 26, 29, 30, 32, 39, 42, 44, 45, 47]",
          "[0, 10, 15, 16, 19, 21, 25, 26, 29, 30, 32, 39, 42, 44, 45, 47]",
          "[0, 10, 15, 16, 19, 21, 25, 26, 30, 32, 39, 42, 44, 45, 47]",
          "[0, 10, 15, 16, 19, 21, 26, 30, 32, 39, 42, 44, 45, 47]",
          "[0, 10, 15, 16, 19, 21, 26, 30, 32, 39, 42, 44, 45]",
          "[0, 10, 15, 16, 19, 21, 26, 30, 32, 39, 42, 44]",
          "[0, 10, 15, 16, 19, 21, 26, 30, 32, 39, 42]",
          "[0, 10, 15, 16, 19, 21, 26, 30, 32, 39]",
          "[0, 10, 15, 16, 19, 21, 30, 32, 39]",
          "[0, 10, 15, 16, 19, 21, 32, 39]",
          "[0, 10, 15, 16, 21, 32, 39]",
          "[0, 15, 16, 21, 32, 39]",
          "[0, 15, 21, 32, 39]",
          "[0, 21, 32, 39]",
          "[0, 32, 39]",
          "[0, 32]",
          "[0]"
         ],
         "tickvals": [
          "[0, 1, 2, 3, 4, 5, 6, 7, 8, 9, 10, 11, 12, 13, 14, 15, 16, 17, 18, 19, 20, 21, 22, 23, 24, 25, 26, 27, 28, 29, 30, 31, 32, 33, 34, 35, 36, 37, 38, 39, 40, 41, 42, 43, 44, 45, 46, 47]",
          "[0, 1, 2, 3, 4, 5, 6, 7, 8, 9, 10, 11, 12, 13, 14, 15, 16, 17, 18, 19, 20, 21, 22, 23, 24, 25, 26, 27, 28, 29, 30, 31, 32, 33, 34, 35, 36, 37, 39, 40, 41, 42, 43, 44, 45, 46, 47]",
          "[0, 1, 2, 3, 4, 5, 6, 7, 8, 9, 10, 11, 12, 13, 14, 15, 16, 17, 18, 19, 20, 21, 22, 23, 24, 25, 26, 27, 28, 29, 30, 31, 32, 33, 34, 35, 36, 37, 39, 40, 41, 42, 43, 44, 45, 47]",
          "[0, 1, 2, 3, 4, 5, 6, 7, 8, 9, 10, 12, 13, 14, 15, 16, 17, 18, 19, 20, 21, 22, 23, 24, 25, 26, 27, 28, 29, 30, 31, 32, 33, 34, 35, 36, 37, 39, 40, 41, 42, 43, 44, 45, 47]",
          "[0, 2, 3, 4, 5, 6, 7, 8, 9, 10, 12, 13, 14, 15, 16, 17, 18, 19, 20, 21, 22, 23, 24, 25, 26, 27, 28, 29, 30, 31, 32, 33, 34, 35, 36, 37, 39, 40, 41, 42, 43, 44, 45, 47]",
          "[0, 3, 4, 5, 6, 7, 8, 9, 10, 12, 13, 14, 15, 16, 17, 18, 19, 20, 21, 22, 23, 24, 25, 26, 27, 28, 29, 30, 31, 32, 33, 34, 35, 36, 37, 39, 40, 41, 42, 43, 44, 45, 47]",
          "[0, 4, 5, 6, 7, 8, 9, 10, 12, 13, 14, 15, 16, 17, 18, 19, 20, 21, 22, 23, 24, 25, 26, 27, 28, 29, 30, 31, 32, 33, 34, 35, 36, 37, 39, 40, 41, 42, 43, 44, 45, 47]",
          "[0, 4, 6, 7, 8, 9, 10, 12, 13, 14, 15, 16, 17, 18, 19, 20, 21, 22, 23, 24, 25, 26, 27, 28, 29, 30, 31, 32, 33, 34, 35, 36, 37, 39, 40, 41, 42, 43, 44, 45, 47]",
          "[0, 6, 7, 8, 9, 10, 12, 13, 14, 15, 16, 17, 18, 19, 20, 21, 22, 23, 24, 25, 26, 27, 28, 29, 30, 31, 32, 33, 34, 35, 36, 37, 39, 40, 41, 42, 43, 44, 45, 47]",
          "[0, 6, 7, 8, 9, 10, 13, 14, 15, 16, 17, 18, 19, 20, 21, 22, 23, 24, 25, 26, 27, 28, 29, 30, 31, 32, 33, 34, 35, 36, 37, 39, 40, 41, 42, 43, 44, 45, 47]",
          "[0, 6, 7, 8, 9, 10, 13, 15, 16, 17, 18, 19, 20, 21, 22, 23, 24, 25, 26, 27, 28, 29, 30, 31, 32, 33, 34, 35, 36, 37, 39, 40, 41, 42, 43, 44, 45, 47]",
          "[0, 6, 7, 8, 9, 10, 13, 15, 16, 17, 18, 19, 21, 22, 23, 24, 25, 26, 27, 28, 29, 30, 31, 32, 33, 34, 35, 36, 37, 39, 40, 41, 42, 43, 44, 45, 47]",
          "[0, 6, 7, 8, 9, 10, 15, 16, 17, 18, 19, 21, 22, 23, 24, 25, 26, 27, 28, 29, 30, 31, 32, 33, 34, 35, 36, 37, 39, 40, 41, 42, 43, 44, 45, 47]",
          "[0, 6, 7, 8, 9, 10, 15, 16, 17, 18, 19, 21, 22, 23, 24, 25, 26, 27, 28, 29, 30, 31, 32, 33, 34, 36, 37, 39, 40, 41, 42, 43, 44, 45, 47]",
          "[0, 6, 7, 8, 10, 15, 16, 17, 18, 19, 21, 22, 23, 24, 25, 26, 27, 28, 29, 30, 31, 32, 33, 34, 36, 37, 39, 40, 41, 42, 43, 44, 45, 47]",
          "[0, 6, 7, 8, 10, 15, 16, 17, 18, 19, 21, 23, 24, 25, 26, 27, 28, 29, 30, 31, 32, 33, 34, 36, 37, 39, 40, 41, 42, 43, 44, 45, 47]",
          "[0, 6, 7, 8, 10, 15, 16, 17, 18, 19, 21, 23, 24, 25, 26, 27, 28, 29, 30, 31, 32, 33, 34, 36, 37, 39, 40, 41, 42, 44, 45, 47]",
          "[0, 6, 7, 8, 10, 15, 16, 17, 18, 19, 21, 23, 24, 25, 26, 27, 29, 30, 31, 32, 33, 34, 36, 37, 39, 40, 41, 42, 44, 45, 47]",
          "[0, 6, 7, 8, 10, 15, 16, 17, 18, 19, 21, 23, 24, 25, 26, 27, 29, 30, 31, 32, 33, 34, 36, 37, 39, 40, 42, 44, 45, 47]",
          "[0, 6, 7, 8, 10, 15, 16, 17, 18, 19, 21, 23, 24, 25, 26, 29, 30, 31, 32, 33, 34, 36, 37, 39, 40, 42, 44, 45, 47]",
          "[0, 6, 7, 8, 10, 15, 16, 17, 18, 19, 21, 23, 24, 25, 26, 29, 30, 31, 32, 33, 34, 37, 39, 40, 42, 44, 45, 47]",
          "[0, 6, 7, 8, 10, 15, 16, 17, 18, 19, 21, 23, 24, 25, 26, 29, 30, 31, 32, 33, 34, 39, 40, 42, 44, 45, 47]",
          "[0, 6, 7, 8, 10, 15, 16, 17, 18, 19, 21, 24, 25, 26, 29, 30, 31, 32, 33, 34, 39, 40, 42, 44, 45, 47]",
          "[0, 7, 8, 10, 15, 16, 17, 18, 19, 21, 24, 25, 26, 29, 30, 31, 32, 33, 34, 39, 40, 42, 44, 45, 47]",
          "[0, 7, 8, 10, 15, 16, 17, 19, 21, 24, 25, 26, 29, 30, 31, 32, 33, 34, 39, 40, 42, 44, 45, 47]",
          "[0, 7, 8, 10, 15, 16, 17, 19, 21, 24, 25, 26, 29, 30, 31, 32, 34, 39, 40, 42, 44, 45, 47]",
          "[0, 7, 8, 10, 15, 16, 17, 19, 21, 25, 26, 29, 30, 31, 32, 34, 39, 40, 42, 44, 45, 47]",
          "[0, 7, 8, 10, 15, 16, 17, 19, 21, 25, 26, 29, 30, 31, 32, 34, 39, 42, 44, 45, 47]",
          "[0, 7, 8, 10, 15, 16, 17, 19, 21, 25, 26, 29, 30, 32, 34, 39, 42, 44, 45, 47]",
          "[0, 7, 8, 10, 15, 16, 19, 21, 25, 26, 29, 30, 32, 34, 39, 42, 44, 45, 47]",
          "[0, 7, 8, 10, 15, 16, 19, 21, 25, 26, 29, 30, 32, 39, 42, 44, 45, 47]",
          "[0, 8, 10, 15, 16, 19, 21, 25, 26, 29, 30, 32, 39, 42, 44, 45, 47]",
          "[0, 10, 15, 16, 19, 21, 25, 26, 29, 30, 32, 39, 42, 44, 45, 47]",
          "[0, 10, 15, 16, 19, 21, 25, 26, 30, 32, 39, 42, 44, 45, 47]",
          "[0, 10, 15, 16, 19, 21, 26, 30, 32, 39, 42, 44, 45, 47]",
          "[0, 10, 15, 16, 19, 21, 26, 30, 32, 39, 42, 44, 45]",
          "[0, 10, 15, 16, 19, 21, 26, 30, 32, 39, 42, 44]",
          "[0, 10, 15, 16, 19, 21, 26, 30, 32, 39, 42]",
          "[0, 10, 15, 16, 19, 21, 26, 30, 32, 39]",
          "[0, 10, 15, 16, 19, 21, 30, 32, 39]",
          "[0, 10, 15, 16, 19, 21, 32, 39]",
          "[0, 10, 15, 16, 21, 32, 39]",
          "[0, 15, 16, 21, 32, 39]",
          "[0, 15, 21, 32, 39]",
          "[0, 21, 32, 39]",
          "[0, 32, 39]",
          "[0, 32]",
          "[0]"
         ],
         "title": {
          "text": "x"
         },
         "type": "category"
        },
        "yaxis": {
         "anchor": "x",
         "autorange": true,
         "domain": [
          0,
          1
         ],
         "range": [
          0,
          0.4559992175353201
         ],
         "title": {
          "text": " pr of incorrect"
         },
         "type": "linear"
        }
       }
      },
      "image/png": "[encoded data removed]",
      "text/html": [
       "<div>                            <div id=\"b6d2cf5d-9557-448f-b312-558c1c538ede\" class=\"plotly-graph-div\" style=\"height:525px; width:100%;\"></div>            <script type=\"text/javascript\">                require([\"plotly\"], function(Plotly) {                    window.PLOTLYENV=window.PLOTLYENV || {};                                    if (document.getElementById(\"b6d2cf5d-9557-448f-b312-558c1c538ede\")) {                    Plotly.newPlot(                        \"b6d2cf5d-9557-448f-b312-558c1c538ede\",                        [{\"alignmentgroup\":\"True\",\"hovertemplate\":\"x=%{x}\\u003cbr\\u003e pr of incorrect=%{y}\\u003cextra\\u003e\\u003c\\u002fextra\\u003e\",\"legendgroup\":\"\",\"marker\":{\"color\":\"#636efa\",\"pattern\":{\"shape\":\"\"}},\"name\":\"\",\"offsetgroup\":\"\",\"orientation\":\"v\",\"showlegend\":false,\"textposition\":\"auto\",\"x\":[\"[0, 1, 2, 3, 4, 5, 6, 7, 8, 9, 10, 11, 12, 13, 14, 15, 16, 17, 18, 19, 20, 21, 22, 23, 24, 25, 26, 27, 28, 29, 30, 31, 32, 33, 34, 35, 36, 37, 38, 39, 40, 41, 42, 43, 44, 45, 46, 47]\",\"[0, 1, 2, 3, 4, 5, 6, 7, 8, 9, 10, 11, 12, 13, 14, 15, 16, 17, 18, 19, 20, 21, 22, 23, 24, 25, 26, 27, 28, 29, 30, 31, 32, 33, 34, 35, 36, 37, 39, 40, 41, 42, 43, 44, 45, 46, 47]\",\"[0, 1, 2, 3, 4, 5, 6, 7, 8, 9, 10, 11, 12, 13, 14, 15, 16, 17, 18, 19, 20, 21, 22, 23, 24, 25, 26, 27, 28, 29, 30, 31, 32, 33, 34, 35, 36, 37, 39, 40, 41, 42, 43, 44, 45, 47]\",\"[0, 1, 2, 3, 4, 5, 6, 7, 8, 9, 10, 12, 13, 14, 15, 16, 17, 18, 19, 20, 21, 22, 23, 24, 25, 26, 27, 28, 29, 30, 31, 32, 33, 34, 35, 36, 37, 39, 40, 41, 42, 43, 44, 45, 47]\",\"[0, 2, 3, 4, 5, 6, 7, 8, 9, 10, 12, 13, 14, 15, 16, 17, 18, 19, 20, 21, 22, 23, 24, 25, 26, 27, 28, 29, 30, 31, 32, 33, 34, 35, 36, 37, 39, 40, 41, 42, 43, 44, 45, 47]\",\"[0, 3, 4, 5, 6, 7, 8, 9, 10, 12, 13, 14, 15, 16, 17, 18, 19, 20, 21, 22, 23, 24, 25, 26, 27, 28, 29, 30, 31, 32, 33, 34, 35, 36, 37, 39, 40, 41, 42, 43, 44, 45, 47]\",\"[0, 4, 5, 6, 7, 8, 9, 10, 12, 13, 14, 15, 16, 17, 18, 19, 20, 21, 22, 23, 24, 25, 26, 27, 28, 29, 30, 31, 32, 33, 34, 35, 36, 37, 39, 40, 41, 42, 43, 44, 45, 47]\",\"[0, 4, 6, 7, 8, 9, 10, 12, 13, 14, 15, 16, 17, 18, 19, 20, 21, 22, 23, 24, 25, 26, 27, 28, 29, 30, 31, 32, 33, 34, 35, 36, 37, 39, 40, 41, 42, 43, 44, 45, 47]\",\"[0, 6, 7, 8, 9, 10, 12, 13, 14, 15, 16, 17, 18, 19, 20, 21, 22, 23, 24, 25, 26, 27, 28, 29, 30, 31, 32, 33, 34, 35, 36, 37, 39, 40, 41, 42, 43, 44, 45, 47]\",\"[0, 6, 7, 8, 9, 10, 13, 14, 15, 16, 17, 18, 19, 20, 21, 22, 23, 24, 25, 26, 27, 28, 29, 30, 31, 32, 33, 34, 35, 36, 37, 39, 40, 41, 42, 43, 44, 45, 47]\",\"[0, 6, 7, 8, 9, 10, 13, 15, 16, 17, 18, 19, 20, 21, 22, 23, 24, 25, 26, 27, 28, 29, 30, 31, 32, 33, 34, 35, 36, 37, 39, 40, 41, 42, 43, 44, 45, 47]\",\"[0, 6, 7, 8, 9, 10, 13, 15, 16, 17, 18, 19, 21, 22, 23, 24, 25, 26, 27, 28, 29, 30, 31, 32, 33, 34, 35, 36, 37, 39, 40, 41, 42, 43, 44, 45, 47]\",\"[0, 6, 7, 8, 9, 10, 15, 16, 17, 18, 19, 21, 22, 23, 24, 25, 26, 27, 28, 29, 30, 31, 32, 33, 34, 35, 36, 37, 39, 40, 41, 42, 43, 44, 45, 47]\",\"[0, 6, 7, 8, 9, 10, 15, 16, 17, 18, 19, 21, 22, 23, 24, 25, 26, 27, 28, 29, 30, 31, 32, 33, 34, 36, 37, 39, 40, 41, 42, 43, 44, 45, 47]\",\"[0, 6, 7, 8, 10, 15, 16, 17, 18, 19, 21, 22, 23, 24, 25, 26, 27, 28, 29, 30, 31, 32, 33, 34, 36, 37, 39, 40, 41, 42, 43, 44, 45, 47]\",\"[0, 6, 7, 8, 10, 15, 16, 17, 18, 19, 21, 23, 24, 25, 26, 27, 28, 29, 30, 31, 32, 33, 34, 36, 37, 39, 40, 41, 42, 43, 44, 45, 47]\",\"[0, 6, 7, 8, 10, 15, 16, 17, 18, 19, 21, 23, 24, 25, 26, 27, 28, 29, 30, 31, 32, 33, 34, 36, 37, 39, 40, 41, 42, 44, 45, 47]\",\"[0, 6, 7, 8, 10, 15, 16, 17, 18, 19, 21, 23, 24, 25, 26, 27, 29, 30, 31, 32, 33, 34, 36, 37, 39, 40, 41, 42, 44, 45, 47]\",\"[0, 6, 7, 8, 10, 15, 16, 17, 18, 19, 21, 23, 24, 25, 26, 27, 29, 30, 31, 32, 33, 34, 36, 37, 39, 40, 42, 44, 45, 47]\",\"[0, 6, 7, 8, 10, 15, 16, 17, 18, 19, 21, 23, 24, 25, 26, 29, 30, 31, 32, 33, 34, 36, 37, 39, 40, 42, 44, 45, 47]\",\"[0, 6, 7, 8, 10, 15, 16, 17, 18, 19, 21, 23, 24, 25, 26, 29, 30, 31, 32, 33, 34, 37, 39, 40, 42, 44, 45, 47]\",\"[0, 6, 7, 8, 10, 15, 16, 17, 18, 19, 21, 23, 24, 25, 26, 29, 30, 31, 32, 33, 34, 39, 40, 42, 44, 45, 47]\",\"[0, 6, 7, 8, 10, 15, 16, 17, 18, 19, 21, 24, 25, 26, 29, 30, 31, 32, 33, 34, 39, 40, 42, 44, 45, 47]\",\"[0, 7, 8, 10, 15, 16, 17, 18, 19, 21, 24, 25, 26, 29, 30, 31, 32, 33, 34, 39, 40, 42, 44, 45, 47]\",\"[0, 7, 8, 10, 15, 16, 17, 19, 21, 24, 25, 26, 29, 30, 31, 32, 33, 34, 39, 40, 42, 44, 45, 47]\",\"[0, 7, 8, 10, 15, 16, 17, 19, 21, 24, 25, 26, 29, 30, 31, 32, 34, 39, 40, 42, 44, 45, 47]\",\"[0, 7, 8, 10, 15, 16, 17, 19, 21, 25, 26, 29, 30, 31, 32, 34, 39, 40, 42, 44, 45, 47]\",\"[0, 7, 8, 10, 15, 16, 17, 19, 21, 25, 26, 29, 30, 31, 32, 34, 39, 42, 44, 45, 47]\",\"[0, 7, 8, 10, 15, 16, 17, 19, 21, 25, 26, 29, 30, 32, 34, 39, 42, 44, 45, 47]\",\"[0, 7, 8, 10, 15, 16, 19, 21, 25, 26, 29, 30, 32, 34, 39, 42, 44, 45, 47]\",\"[0, 7, 8, 10, 15, 16, 19, 21, 25, 26, 29, 30, 32, 39, 42, 44, 45, 47]\",\"[0, 8, 10, 15, 16, 19, 21, 25, 26, 29, 30, 32, 39, 42, 44, 45, 47]\",\"[0, 10, 15, 16, 19, 21, 25, 26, 29, 30, 32, 39, 42, 44, 45, 47]\",\"[0, 10, 15, 16, 19, 21, 25, 26, 30, 32, 39, 42, 44, 45, 47]\",\"[0, 10, 15, 16, 19, 21, 26, 30, 32, 39, 42, 44, 45, 47]\",\"[0, 10, 15, 16, 19, 21, 26, 30, 32, 39, 42, 44, 45]\",\"[0, 10, 15, 16, 19, 21, 26, 30, 32, 39, 42, 44]\",\"[0, 10, 15, 16, 19, 21, 26, 30, 32, 39, 42]\",\"[0, 10, 15, 16, 19, 21, 26, 30, 32, 39]\",\"[0, 10, 15, 16, 19, 21, 30, 32, 39]\",\"[0, 10, 15, 16, 19, 21, 32, 39]\",\"[0, 10, 15, 16, 21, 32, 39]\",\"[0, 15, 16, 21, 32, 39]\",\"[0, 15, 21, 32, 39]\",\"[0, 21, 32, 39]\",\"[0, 32, 39]\",\"[0, 32]\",\"[0]\"],\"xaxis\":\"x\",\"y\":[0.006349329836666584,0.010736803524196148,0.015206471085548401,0.01529964804649353,0.009315747767686844,0.009611138142645359,0.00798199512064457,0.008808841928839684,0.007121620234102011,0.007773445453494787,0.005732811521738768,0.007783541455864906,0.015218745917081833,0.012015278451144695,0.011564445681869984,0.013998582027852535,0.015044762752950191,0.022475862875580788,0.02348526194691658,0.008630472235381603,0.016931936144828796,0.031206728890538216,0.028341609984636307,0.0270506851375103,0.0103972302749753,0.07475358992815018,0.02618875354528427,0.023298019543290138,0.024128269404172897,0.05195537582039833,0.06606755405664444,0.04718627780675888,0.07749558240175247,0.02790790982544422,0.1231398656964302,0.16523116827011108,0.15835872292518616,0.29634150862693787,0.3864045739173889,0.17678703367710114,0.25832927227020264,0.4331992566585541,0.02899961918592453,0.02062220685184002,0.0009952306281775236,5.742771236327826e-08,1.9262573195639399e-32,0.0],\"yaxis\":\"y\",\"type\":\"bar\"}],                        {\"template\":{\"data\":{\"histogram2dcontour\":[{\"type\":\"histogram2dcontour\",\"colorbar\":{\"outlinewidth\":0,\"ticks\":\"\"},\"colorscale\":[[0.0,\"#0d0887\"],[0.1111111111111111,\"#46039f\"],[0.2222222222222222,\"#7201a8\"],[0.3333333333333333,\"#9c179e\"],[0.4444444444444444,\"#bd3786\"],[0.5555555555555556,\"#d8576b\"],[0.6666666666666666,\"#ed7953\"],[0.7777777777777778,\"#fb9f3a\"],[0.8888888888888888,\"#fdca26\"],[1.0,\"#f0f921\"]]}],\"choropleth\":[{\"type\":\"choropleth\",\"colorbar\":{\"outlinewidth\":0,\"ticks\":\"\"}}],\"histogram2d\":[{\"type\":\"histogram2d\",\"colorbar\":{\"outlinewidth\":0,\"ticks\":\"\"},\"colorscale\":[[0.0,\"#0d0887\"],[0.1111111111111111,\"#46039f\"],[0.2222222222222222,\"#7201a8\"],[0.3333333333333333,\"#9c179e\"],[0.4444444444444444,\"#bd3786\"],[0.5555555555555556,\"#d8576b\"],[0.6666666666666666,\"#ed7953\"],[0.7777777777777778,\"#fb9f3a\"],[0.8888888888888888,\"#fdca26\"],[1.0,\"#f0f921\"]]}],\"heatmap\":[{\"type\":\"heatmap\",\"colorbar\":{\"outlinewidth\":0,\"ticks\":\"\"},\"colorscale\":[[0.0,\"#0d0887\"],[0.1111111111111111,\"#46039f\"],[0.2222222222222222,\"#7201a8\"],[0.3333333333333333,\"#9c179e\"],[0.4444444444444444,\"#bd3786\"],[0.5555555555555556,\"#d8576b\"],[0.6666666666666666,\"#ed7953\"],[0.7777777777777778,\"#fb9f3a\"],[0.8888888888888888,\"#fdca26\"],[1.0,\"#f0f921\"]]}],\"heatmapgl\":[{\"type\":\"heatmapgl\",\"colorbar\":{\"outlinewidth\":0,\"ticks\":\"\"},\"colorscale\":[[0.0,\"#0d0887\"],[0.1111111111111111,\"#46039f\"],[0.2222222222222222,\"#7201a8\"],[0.3333333333333333,\"#9c179e\"],[0.4444444444444444,\"#bd3786\"],[0.5555555555555556,\"#d8576b\"],[0.6666666666666666,\"#ed7953\"],[0.7777777777777778,\"#fb9f3a\"],[0.8888888888888888,\"#fdca26\"],[1.0,\"#f0f921\"]]}],\"contourcarpet\":[{\"type\":\"contourcarpet\",\"colorbar\":{\"outlinewidth\":0,\"ticks\":\"\"}}],\"contour\":[{\"type\":\"contour\",\"colorbar\":{\"outlinewidth\":0,\"ticks\":\"\"},\"colorscale\":[[0.0,\"#0d0887\"],[0.1111111111111111,\"#46039f\"],[0.2222222222222222,\"#7201a8\"],[0.3333333333333333,\"#9c179e\"],[0.4444444444444444,\"#bd3786\"],[0.5555555555555556,\"#d8576b\"],[0.6666666666666666,\"#ed7953\"],[0.7777777777777778,\"#fb9f3a\"],[0.8888888888888888,\"#fdca26\"],[1.0,\"#f0f921\"]]}],\"surface\":[{\"type\":\"surface\",\"colorbar\":{\"outlinewidth\":0,\"ticks\":\"\"},\"colorscale\":[[0.0,\"#0d0887\"],[0.1111111111111111,\"#46039f\"],[0.2222222222222222,\"#7201a8\"],[0.3333333333333333,\"#9c179e\"],[0.4444444444444444,\"#bd3786\"],[0.5555555555555556,\"#d8576b\"],[0.6666666666666666,\"#ed7953\"],[0.7777777777777778,\"#fb9f3a\"],[0.8888888888888888,\"#fdca26\"],[1.0,\"#f0f921\"]]}],\"mesh3d\":[{\"type\":\"mesh3d\",\"colorbar\":{\"outlinewidth\":0,\"ticks\":\"\"}}],\"scatter\":[{\"fillpattern\":{\"fillmode\":\"overlay\",\"size\":10,\"solidity\":0.2},\"type\":\"scatter\"}],\"parcoords\":[{\"type\":\"parcoords\",\"line\":{\"colorbar\":{\"outlinewidth\":0,\"ticks\":\"\"}}}],\"scatterpolargl\":[{\"type\":\"scatterpolargl\",\"marker\":{\"colorbar\":{\"outlinewidth\":0,\"ticks\":\"\"}}}],\"bar\":[{\"error_x\":{\"color\":\"#2a3f5f\"},\"error_y\":{\"color\":\"#2a3f5f\"},\"marker\":{\"line\":{\"color\":\"#E5ECF6\",\"width\":0.5},\"pattern\":{\"fillmode\":\"overlay\",\"size\":10,\"solidity\":0.2}},\"type\":\"bar\"}],\"scattergeo\":[{\"type\":\"scattergeo\",\"marker\":{\"colorbar\":{\"outlinewidth\":0,\"ticks\":\"\"}}}],\"scatterpolar\":[{\"type\":\"scatterpolar\",\"marker\":{\"colorbar\":{\"outlinewidth\":0,\"ticks\":\"\"}}}],\"histogram\":[{\"marker\":{\"pattern\":{\"fillmode\":\"overlay\",\"size\":10,\"solidity\":0.2}},\"type\":\"histogram\"}],\"scattergl\":[{\"type\":\"scattergl\",\"marker\":{\"colorbar\":{\"outlinewidth\":0,\"ticks\":\"\"}}}],\"scatter3d\":[{\"type\":\"scatter3d\",\"line\":{\"colorbar\":{\"outlinewidth\":0,\"ticks\":\"\"}},\"marker\":{\"colorbar\":{\"outlinewidth\":0,\"ticks\":\"\"}}}],\"scattermapbox\":[{\"type\":\"scattermapbox\",\"marker\":{\"colorbar\":{\"outlinewidth\":0,\"ticks\":\"\"}}}],\"scatterternary\":[{\"type\":\"scatterternary\",\"marker\":{\"colorbar\":{\"outlinewidth\":0,\"ticks\":\"\"}}}],\"scattercarpet\":[{\"type\":\"scattercarpet\",\"marker\":{\"colorbar\":{\"outlinewidth\":0,\"ticks\":\"\"}}}],\"carpet\":[{\"aaxis\":{\"endlinecolor\":\"#2a3f5f\",\"gridcolor\":\"white\",\"linecolor\":\"white\",\"minorgridcolor\":\"white\",\"startlinecolor\":\"#2a3f5f\"},\"baxis\":{\"endlinecolor\":\"#2a3f5f\",\"gridcolor\":\"white\",\"linecolor\":\"white\",\"minorgridcolor\":\"white\",\"startlinecolor\":\"#2a3f5f\"},\"type\":\"carpet\"}],\"table\":[{\"cells\":{\"fill\":{\"color\":\"#EBF0F8\"},\"line\":{\"color\":\"white\"}},\"header\":{\"fill\":{\"color\":\"#C8D4E3\"},\"line\":{\"color\":\"white\"}},\"type\":\"table\"}],\"barpolar\":[{\"marker\":{\"line\":{\"color\":\"#E5ECF6\",\"width\":0.5},\"pattern\":{\"fillmode\":\"overlay\",\"size\":10,\"solidity\":0.2}},\"type\":\"barpolar\"}],\"pie\":[{\"automargin\":true,\"type\":\"pie\"}]},\"layout\":{\"autotypenumbers\":\"strict\",\"colorway\":[\"#636efa\",\"#EF553B\",\"#00cc96\",\"#ab63fa\",\"#FFA15A\",\"#19d3f3\",\"#FF6692\",\"#B6E880\",\"#FF97FF\",\"#FECB52\"],\"font\":{\"color\":\"#2a3f5f\"},\"hovermode\":\"closest\",\"hoverlabel\":{\"align\":\"left\"},\"paper_bgcolor\":\"white\",\"plot_bgcolor\":\"#E5ECF6\",\"polar\":{\"bgcolor\":\"#E5ECF6\",\"angularaxis\":{\"gridcolor\":\"white\",\"linecolor\":\"white\",\"ticks\":\"\"},\"radialaxis\":{\"gridcolor\":\"white\",\"linecolor\":\"white\",\"ticks\":\"\"}},\"ternary\":{\"bgcolor\":\"#E5ECF6\",\"aaxis\":{\"gridcolor\":\"white\",\"linecolor\":\"white\",\"ticks\":\"\"},\"baxis\":{\"gridcolor\":\"white\",\"linecolor\":\"white\",\"ticks\":\"\"},\"caxis\":{\"gridcolor\":\"white\",\"linecolor\":\"white\",\"ticks\":\"\"}},\"coloraxis\":{\"colorbar\":{\"outlinewidth\":0,\"ticks\":\"\"}},\"colorscale\":{\"sequential\":[[0.0,\"#0d0887\"],[0.1111111111111111,\"#46039f\"],[0.2222222222222222,\"#7201a8\"],[0.3333333333333333,\"#9c179e\"],[0.4444444444444444,\"#bd3786\"],[0.5555555555555556,\"#d8576b\"],[0.6666666666666666,\"#ed7953\"],[0.7777777777777778,\"#fb9f3a\"],[0.8888888888888888,\"#fdca26\"],[1.0,\"#f0f921\"]],\"sequentialminus\":[[0.0,\"#0d0887\"],[0.1111111111111111,\"#46039f\"],[0.2222222222222222,\"#7201a8\"],[0.3333333333333333,\"#9c179e\"],[0.4444444444444444,\"#bd3786\"],[0.5555555555555556,\"#d8576b\"],[0.6666666666666666,\"#ed7953\"],[0.7777777777777778,\"#fb9f3a\"],[0.8888888888888888,\"#fdca26\"],[1.0,\"#f0f921\"]],\"diverging\":[[0,\"#8e0152\"],[0.1,\"#c51b7d\"],[0.2,\"#de77ae\"],[0.3,\"#f1b6da\"],[0.4,\"#fde0ef\"],[0.5,\"#f7f7f7\"],[0.6,\"#e6f5d0\"],[0.7,\"#b8e186\"],[0.8,\"#7fbc41\"],[0.9,\"#4d9221\"],[1,\"#276419\"]]},\"xaxis\":{\"gridcolor\":\"white\",\"linecolor\":\"white\",\"ticks\":\"\",\"title\":{\"standoff\":15},\"zerolinecolor\":\"white\",\"automargin\":true,\"zerolinewidth\":2},\"yaxis\":{\"gridcolor\":\"white\",\"linecolor\":\"white\",\"ticks\":\"\",\"title\":{\"standoff\":15},\"zerolinecolor\":\"white\",\"automargin\":true,\"zerolinewidth\":2},\"scene\":{\"xaxis\":{\"backgroundcolor\":\"#E5ECF6\",\"gridcolor\":\"white\",\"linecolor\":\"white\",\"showbackground\":true,\"ticks\":\"\",\"zerolinecolor\":\"white\",\"gridwidth\":2},\"yaxis\":{\"backgroundcolor\":\"#E5ECF6\",\"gridcolor\":\"white\",\"linecolor\":\"white\",\"showbackground\":true,\"ticks\":\"\",\"zerolinecolor\":\"white\",\"gridwidth\":2},\"zaxis\":{\"backgroundcolor\":\"#E5ECF6\",\"gridcolor\":\"white\",\"linecolor\":\"white\",\"showbackground\":true,\"ticks\":\"\",\"zerolinecolor\":\"white\",\"gridwidth\":2}},\"shapedefaults\":{\"line\":{\"color\":\"#2a3f5f\"}},\"annotationdefaults\":{\"arrowcolor\":\"#2a3f5f\",\"arrowhead\":0,\"arrowwidth\":1},\"geo\":{\"bgcolor\":\"white\",\"landcolor\":\"#E5ECF6\",\"subunitcolor\":\"white\",\"showland\":true,\"showlakes\":true,\"lakecolor\":\"white\"},\"title\":{\"x\":0.05},\"mapbox\":{\"style\":\"light\"}}},\"xaxis\":{\"anchor\":\"y\",\"domain\":[0.0,1.0],\"title\":{\"text\":\"x\"},\"tickmode\":\"array\",\"tickvals\":[\"[0, 1, 2, 3, 4, 5, 6, 7, 8, 9, 10, 11, 12, 13, 14, 15, 16, 17, 18, 19, 20, 21, 22, 23, 24, 25, 26, 27, 28, 29, 30, 31, 32, 33, 34, 35, 36, 37, 38, 39, 40, 41, 42, 43, 44, 45, 46, 47]\",\"[0, 1, 2, 3, 4, 5, 6, 7, 8, 9, 10, 11, 12, 13, 14, 15, 16, 17, 18, 19, 20, 21, 22, 23, 24, 25, 26, 27, 28, 29, 30, 31, 32, 33, 34, 35, 36, 37, 39, 40, 41, 42, 43, 44, 45, 46, 47]\",\"[0, 1, 2, 3, 4, 5, 6, 7, 8, 9, 10, 11, 12, 13, 14, 15, 16, 17, 18, 19, 20, 21, 22, 23, 24, 25, 26, 27, 28, 29, 30, 31, 32, 33, 34, 35, 36, 37, 39, 40, 41, 42, 43, 44, 45, 47]\",\"[0, 1, 2, 3, 4, 5, 6, 7, 8, 9, 10, 12, 13, 14, 15, 16, 17, 18, 19, 20, 21, 22, 23, 24, 25, 26, 27, 28, 29, 30, 31, 32, 33, 34, 35, 36, 37, 39, 40, 41, 42, 43, 44, 45, 47]\",\"[0, 2, 3, 4, 5, 6, 7, 8, 9, 10, 12, 13, 14, 15, 16, 17, 18, 19, 20, 21, 22, 23, 24, 25, 26, 27, 28, 29, 30, 31, 32, 33, 34, 35, 36, 37, 39, 40, 41, 42, 43, 44, 45, 47]\",\"[0, 3, 4, 5, 6, 7, 8, 9, 10, 12, 13, 14, 15, 16, 17, 18, 19, 20, 21, 22, 23, 24, 25, 26, 27, 28, 29, 30, 31, 32, 33, 34, 35, 36, 37, 39, 40, 41, 42, 43, 44, 45, 47]\",\"[0, 4, 5, 6, 7, 8, 9, 10, 12, 13, 14, 15, 16, 17, 18, 19, 20, 21, 22, 23, 24, 25, 26, 27, 28, 29, 30, 31, 32, 33, 34, 35, 36, 37, 39, 40, 41, 42, 43, 44, 45, 47]\",\"[0, 4, 6, 7, 8, 9, 10, 12, 13, 14, 15, 16, 17, 18, 19, 20, 21, 22, 23, 24, 25, 26, 27, 28, 29, 30, 31, 32, 33, 34, 35, 36, 37, 39, 40, 41, 42, 43, 44, 45, 47]\",\"[0, 6, 7, 8, 9, 10, 12, 13, 14, 15, 16, 17, 18, 19, 20, 21, 22, 23, 24, 25, 26, 27, 28, 29, 30, 31, 32, 33, 34, 35, 36, 37, 39, 40, 41, 42, 43, 44, 45, 47]\",\"[0, 6, 7, 8, 9, 10, 13, 14, 15, 16, 17, 18, 19, 20, 21, 22, 23, 24, 25, 26, 27, 28, 29, 30, 31, 32, 33, 34, 35, 36, 37, 39, 40, 41, 42, 43, 44, 45, 47]\",\"[0, 6, 7, 8, 9, 10, 13, 15, 16, 17, 18, 19, 20, 21, 22, 23, 24, 25, 26, 27, 28, 29, 30, 31, 32, 33, 34, 35, 36, 37, 39, 40, 41, 42, 43, 44, 45, 47]\",\"[0, 6, 7, 8, 9, 10, 13, 15, 16, 17, 18, 19, 21, 22, 23, 24, 25, 26, 27, 28, 29, 30, 31, 32, 33, 34, 35, 36, 37, 39, 40, 41, 42, 43, 44, 45, 47]\",\"[0, 6, 7, 8, 9, 10, 15, 16, 17, 18, 19, 21, 22, 23, 24, 25, 26, 27, 28, 29, 30, 31, 32, 33, 34, 35, 36, 37, 39, 40, 41, 42, 43, 44, 45, 47]\",\"[0, 6, 7, 8, 9, 10, 15, 16, 17, 18, 19, 21, 22, 23, 24, 25, 26, 27, 28, 29, 30, 31, 32, 33, 34, 36, 37, 39, 40, 41, 42, 43, 44, 45, 47]\",\"[0, 6, 7, 8, 10, 15, 16, 17, 18, 19, 21, 22, 23, 24, 25, 26, 27, 28, 29, 30, 31, 32, 33, 34, 36, 37, 39, 40, 41, 42, 43, 44, 45, 47]\",\"[0, 6, 7, 8, 10, 15, 16, 17, 18, 19, 21, 23, 24, 25, 26, 27, 28, 29, 30, 31, 32, 33, 34, 36, 37, 39, 40, 41, 42, 43, 44, 45, 47]\",\"[0, 6, 7, 8, 10, 15, 16, 17, 18, 19, 21, 23, 24, 25, 26, 27, 28, 29, 30, 31, 32, 33, 34, 36, 37, 39, 40, 41, 42, 44, 45, 47]\",\"[0, 6, 7, 8, 10, 15, 16, 17, 18, 19, 21, 23, 24, 25, 26, 27, 29, 30, 31, 32, 33, 34, 36, 37, 39, 40, 41, 42, 44, 45, 47]\",\"[0, 6, 7, 8, 10, 15, 16, 17, 18, 19, 21, 23, 24, 25, 26, 27, 29, 30, 31, 32, 33, 34, 36, 37, 39, 40, 42, 44, 45, 47]\",\"[0, 6, 7, 8, 10, 15, 16, 17, 18, 19, 21, 23, 24, 25, 26, 29, 30, 31, 32, 33, 34, 36, 37, 39, 40, 42, 44, 45, 47]\",\"[0, 6, 7, 8, 10, 15, 16, 17, 18, 19, 21, 23, 24, 25, 26, 29, 30, 31, 32, 33, 34, 37, 39, 40, 42, 44, 45, 47]\",\"[0, 6, 7, 8, 10, 15, 16, 17, 18, 19, 21, 23, 24, 25, 26, 29, 30, 31, 32, 33, 34, 39, 40, 42, 44, 45, 47]\",\"[0, 6, 7, 8, 10, 15, 16, 17, 18, 19, 21, 24, 25, 26, 29, 30, 31, 32, 33, 34, 39, 40, 42, 44, 45, 47]\",\"[0, 7, 8, 10, 15, 16, 17, 18, 19, 21, 24, 25, 26, 29, 30, 31, 32, 33, 34, 39, 40, 42, 44, 45, 47]\",\"[0, 7, 8, 10, 15, 16, 17, 19, 21, 24, 25, 26, 29, 30, 31, 32, 33, 34, 39, 40, 42, 44, 45, 47]\",\"[0, 7, 8, 10, 15, 16, 17, 19, 21, 24, 25, 26, 29, 30, 31, 32, 34, 39, 40, 42, 44, 45, 47]\",\"[0, 7, 8, 10, 15, 16, 17, 19, 21, 25, 26, 29, 30, 31, 32, 34, 39, 40, 42, 44, 45, 47]\",\"[0, 7, 8, 10, 15, 16, 17, 19, 21, 25, 26, 29, 30, 31, 32, 34, 39, 42, 44, 45, 47]\",\"[0, 7, 8, 10, 15, 16, 17, 19, 21, 25, 26, 29, 30, 32, 34, 39, 42, 44, 45, 47]\",\"[0, 7, 8, 10, 15, 16, 19, 21, 25, 26, 29, 30, 32, 34, 39, 42, 44, 45, 47]\",\"[0, 7, 8, 10, 15, 16, 19, 21, 25, 26, 29, 30, 32, 39, 42, 44, 45, 47]\",\"[0, 8, 10, 15, 16, 19, 21, 25, 26, 29, 30, 32, 39, 42, 44, 45, 47]\",\"[0, 10, 15, 16, 19, 21, 25, 26, 29, 30, 32, 39, 42, 44, 45, 47]\",\"[0, 10, 15, 16, 19, 21, 25, 26, 30, 32, 39, 42, 44, 45, 47]\",\"[0, 10, 15, 16, 19, 21, 26, 30, 32, 39, 42, 44, 45, 47]\",\"[0, 10, 15, 16, 19, 21, 26, 30, 32, 39, 42, 44, 45]\",\"[0, 10, 15, 16, 19, 21, 26, 30, 32, 39, 42, 44]\",\"[0, 10, 15, 16, 19, 21, 26, 30, 32, 39, 42]\",\"[0, 10, 15, 16, 19, 21, 26, 30, 32, 39]\",\"[0, 10, 15, 16, 19, 21, 30, 32, 39]\",\"[0, 10, 15, 16, 19, 21, 32, 39]\",\"[0, 10, 15, 16, 21, 32, 39]\",\"[0, 15, 16, 21, 32, 39]\",\"[0, 15, 21, 32, 39]\",\"[0, 21, 32, 39]\",\"[0, 32, 39]\",\"[0, 32]\",\"[0]\"],\"ticktext\":[\"[0, 1, 2, 3, 4, 5, 6, 7, 8, 9, 10, 11, 12, 13, 14, 15, 16, 17, 18, 19, 20, 21, 22, 23, 24, 25, 26, 27, 28, 29, 30, 31, 32, 33, 34, 35, 36, 37, 38, 39, 40, 41, 42, 43, 44, 45, 46, 47]\",\"[0, 1, 2, 3, 4, 5, 6, 7, 8, 9, 10, 11, 12, 13, 14, 15, 16, 17, 18, 19, 20, 21, 22, 23, 24, 25, 26, 27, 28, 29, 30, 31, 32, 33, 34, 35, 36, 37, 39, 40, 41, 42, 43, 44, 45, 46, 47]\",\"[0, 1, 2, 3, 4, 5, 6, 7, 8, 9, 10, 11, 12, 13, 14, 15, 16, 17, 18, 19, 20, 21, 22, 23, 24, 25, 26, 27, 28, 29, 30, 31, 32, 33, 34, 35, 36, 37, 39, 40, 41, 42, 43, 44, 45, 47]\",\"[0, 1, 2, 3, 4, 5, 6, 7, 8, 9, 10, 12, 13, 14, 15, 16, 17, 18, 19, 20, 21, 22, 23, 24, 25, 26, 27, 28, 29, 30, 31, 32, 33, 34, 35, 36, 37, 39, 40, 41, 42, 43, 44, 45, 47]\",\"[0, 2, 3, 4, 5, 6, 7, 8, 9, 10, 12, 13, 14, 15, 16, 17, 18, 19, 20, 21, 22, 23, 24, 25, 26, 27, 28, 29, 30, 31, 32, 33, 34, 35, 36, 37, 39, 40, 41, 42, 43, 44, 45, 47]\",\"[0, 3, 4, 5, 6, 7, 8, 9, 10, 12, 13, 14, 15, 16, 17, 18, 19, 20, 21, 22, 23, 24, 25, 26, 27, 28, 29, 30, 31, 32, 33, 34, 35, 36, 37, 39, 40, 41, 42, 43, 44, 45, 47]\",\"[0, 4, 5, 6, 7, 8, 9, 10, 12, 13, 14, 15, 16, 17, 18, 19, 20, 21, 22, 23, 24, 25, 26, 27, 28, 29, 30, 31, 32, 33, 34, 35, 36, 37, 39, 40, 41, 42, 43, 44, 45, 47]\",\"[0, 4, 6, 7, 8, 9, 10, 12, 13, 14, 15, 16, 17, 18, 19, 20, 21, 22, 23, 24, 25, 26, 27, 28, 29, 30, 31, 32, 33, 34, 35, 36, 37, 39, 40, 41, 42, 43, 44, 45, 47]\",\"[0, 6, 7, 8, 9, 10, 12, 13, 14, 15, 16, 17, 18, 19, 20, 21, 22, 23, 24, 25, 26, 27, 28, 29, 30, 31, 32, 33, 34, 35, 36, 37, 39, 40, 41, 42, 43, 44, 45, 47]\",\"[0, 6, 7, 8, 9, 10, 13, 14, 15, 16, 17, 18, 19, 20, 21, 22, 23, 24, 25, 26, 27, 28, 29, 30, 31, 32, 33, 34, 35, 36, 37, 39, 40, 41, 42, 43, 44, 45, 47]\",\"[0, 6, 7, 8, 9, 10, 13, 15, 16, 17, 18, 19, 20, 21, 22, 23, 24, 25, 26, 27, 28, 29, 30, 31, 32, 33, 34, 35, 36, 37, 39, 40, 41, 42, 43, 44, 45, 47]\",\"[0, 6, 7, 8, 9, 10, 13, 15, 16, 17, 18, 19, 21, 22, 23, 24, 25, 26, 27, 28, 29, 30, 31, 32, 33, 34, 35, 36, 37, 39, 40, 41, 42, 43, 44, 45, 47]\",\"[0, 6, 7, 8, 9, 10, 15, 16, 17, 18, 19, 21, 22, 23, 24, 25, 26, 27, 28, 29, 30, 31, 32, 33, 34, 35, 36, 37, 39, 40, 41, 42, 43, 44, 45, 47]\",\"[0, 6, 7, 8, 9, 10, 15, 16, 17, 18, 19, 21, 22, 23, 24, 25, 26, 27, 28, 29, 30, 31, 32, 33, 34, 36, 37, 39, 40, 41, 42, 43, 44, 45, 47]\",\"[0, 6, 7, 8, 10, 15, 16, 17, 18, 19, 21, 22, 23, 24, 25, 26, 27, 28, 29, 30, 31, 32, 33, 34, 36, 37, 39, 40, 41, 42, 43, 44, 45, 47]\",\"[0, 6, 7, 8, 10, 15, 16, 17, 18, 19, 21, 23, 24, 25, 26, 27, 28, 29, 30, 31, 32, 33, 34, 36, 37, 39, 40, 41, 42, 43, 44, 45, 47]\",\"[0, 6, 7, 8, 10, 15, 16, 17, 18, 19, 21, 23, 24, 25, 26, 27, 28, 29, 30, 31, 32, 33, 34, 36, 37, 39, 40, 41, 42, 44, 45, 47]\",\"[0, 6, 7, 8, 10, 15, 16, 17, 18, 19, 21, 23, 24, 25, 26, 27, 29, 30, 31, 32, 33, 34, 36, 37, 39, 40, 41, 42, 44, 45, 47]\",\"[0, 6, 7, 8, 10, 15, 16, 17, 18, 19, 21, 23, 24, 25, 26, 27, 29, 30, 31, 32, 33, 34, 36, 37, 39, 40, 42, 44, 45, 47]\",\"[0, 6, 7, 8, 10, 15, 16, 17, 18, 19, 21, 23, 24, 25, 26, 29, 30, 31, 32, 33, 34, 36, 37, 39, 40, 42, 44, 45, 47]\",\"[0, 6, 7, 8, 10, 15, 16, 17, 18, 19, 21, 23, 24, 25, 26, 29, 30, 31, 32, 33, 34, 37, 39, 40, 42, 44, 45, 47]\",\"[0, 6, 7, 8, 10, 15, 16, 17, 18, 19, 21, 23, 24, 25, 26, 29, 30, 31, 32, 33, 34, 39, 40, 42, 44, 45, 47]\",\"[0, 6, 7, 8, 10, 15, 16, 17, 18, 19, 21, 24, 25, 26, 29, 30, 31, 32, 33, 34, 39, 40, 42, 44, 45, 47]\",\"[0, 7, 8, 10, 15, 16, 17, 18, 19, 21, 24, 25, 26, 29, 30, 31, 32, 33, 34, 39, 40, 42, 44, 45, 47]\",\"[0, 7, 8, 10, 15, 16, 17, 19, 21, 24, 25, 26, 29, 30, 31, 32, 33, 34, 39, 40, 42, 44, 45, 47]\",\"[0, 7, 8, 10, 15, 16, 17, 19, 21, 24, 25, 26, 29, 30, 31, 32, 34, 39, 40, 42, 44, 45, 47]\",\"[0, 7, 8, 10, 15, 16, 17, 19, 21, 25, 26, 29, 30, 31, 32, 34, 39, 40, 42, 44, 45, 47]\",\"[0, 7, 8, 10, 15, 16, 17, 19, 21, 25, 26, 29, 30, 31, 32, 34, 39, 42, 44, 45, 47]\",\"[0, 7, 8, 10, 15, 16, 17, 19, 21, 25, 26, 29, 30, 32, 34, 39, 42, 44, 45, 47]\",\"[0, 7, 8, 10, 15, 16, 19, 21, 25, 26, 29, 30, 32, 34, 39, 42, 44, 45, 47]\",\"[0, 7, 8, 10, 15, 16, 19, 21, 25, 26, 29, 30, 32, 39, 42, 44, 45, 47]\",\"[0, 8, 10, 15, 16, 19, 21, 25, 26, 29, 30, 32, 39, 42, 44, 45, 47]\",\"[0, 10, 15, 16, 19, 21, 25, 26, 29, 30, 32, 39, 42, 44, 45, 47]\",\"[0, 10, 15, 16, 19, 21, 25, 26, 30, 32, 39, 42, 44, 45, 47]\",\"[0, 10, 15, 16, 19, 21, 26, 30, 32, 39, 42, 44, 45, 47]\",\"[0, 10, 15, 16, 19, 21, 26, 30, 32, 39, 42, 44, 45]\",\"[0, 10, 15, 16, 19, 21, 26, 30, 32, 39, 42, 44]\",\"[0, 10, 15, 16, 19, 21, 26, 30, 32, 39, 42]\",\"[0, 10, 15, 16, 19, 21, 26, 30, 32, 39]\",\"[0, 10, 15, 16, 19, 21, 30, 32, 39]\",\"[0, 10, 15, 16, 19, 21, 32, 39]\",\"[0, 10, 15, 16, 21, 32, 39]\",\"[0, 15, 16, 21, 32, 39]\",\"[0, 15, 21, 32, 39]\",\"[0, 21, 32, 39]\",\"[0, 32, 39]\",\"[0, 32]\",\"[0]\"]},\"yaxis\":{\"anchor\":\"x\",\"domain\":[0.0,1.0],\"title\":{\"text\":\" pr of incorrect\"}},\"legend\":{\"tracegroupgap\":0},\"title\":{\"text\":\"ioi pruning layers relative pr incorrect\"},\"barmode\":\"relative\",\"font\":{\"size\":4,\"color\":\"black\"}},                        {\"responsive\": true}                    ).then(function(){\n",
       "                            \n",
       "var gd = document.getElementById('b6d2cf5d-9557-448f-b312-558c1c538ede');\n",
       "var x = new MutationObserver(function (mutations, observer) {{\n",
       "        var display = window.getComputedStyle(gd).display;\n",
       "        if (!display || display === 'none') {{\n",
       "            console.log([gd, 'removed!']);\n",
       "            Plotly.purge(gd);\n",
       "            observer.disconnect();\n",
       "        }}\n",
       "}});\n",
       "\n",
       "// Listen for the removal of the full notebook cells\n",
       "var notebookContainer = gd.closest('#notebook-container');\n",
       "if (notebookContainer) {{\n",
       "    x.observe(notebookContainer, {childList: true});\n",
       "}}\n",
       "\n",
       "// Listen for the clearing of the current output cell\n",
       "var outputEl = gd.closest('.output');\n",
       "if (outputEl) {{\n",
       "    x.observe(outputEl, {childList: true});\n",
       "}}\n",
       "\n",
       "                        })                };                });            </script>        </div>"
      ]
     },
     "metadata": {},
     "output_type": "display_data"
    },
    {
     "data": {
      "application/vnd.plotly.v1+json": {
       "config": {
        "plotlyServerURL": "https://plot.ly"
       },
       "data": [
        {
         "alignmentgroup": "True",
         "hovertemplate": "x=%{x}<br>accuracy=%{y}<extra></extra>",
         "legendgroup": "",
         "marker": {
          "color": "#636efa",
          "pattern": {
           "shape": ""
          }
         },
         "name": "",
         "offsetgroup": "",
         "orientation": "v",
         "showlegend": false,
         "textposition": "auto",
         "type": "bar",
         "x": [
          "[0, 1, 2, 3, 4, 5, 6, 7, 8, 9, 10, 11, 12, 13, 14, 15, 16, 17, 18, 19, 20, 21, 22, 23, 24, 25, 26, 27, 28, 29, 30, 31, 32, 33, 34, 35, 36, 37, 38, 39, 40, 41, 42, 43, 44, 45, 46, 47]",
          "[0, 1, 2, 3, 4, 5, 6, 7, 8, 9, 10, 11, 12, 13, 14, 15, 16, 17, 18, 19, 20, 21, 22, 23, 24, 25, 26, 27, 28, 29, 30, 31, 32, 33, 34, 35, 36, 37, 39, 40, 41, 42, 43, 44, 45, 46, 47]",
          "[0, 1, 2, 3, 4, 5, 6, 7, 8, 9, 10, 11, 12, 13, 14, 15, 16, 17, 18, 19, 20, 21, 22, 23, 24, 25, 26, 27, 28, 29, 30, 31, 32, 33, 34, 35, 36, 37, 39, 40, 41, 42, 43, 44, 45, 47]",
          "[0, 1, 2, 3, 4, 5, 6, 7, 8, 9, 10, 12, 13, 14, 15, 16, 17, 18, 19, 20, 21, 22, 23, 24, 25, 26, 27, 28, 29, 30, 31, 32, 33, 34, 35, 36, 37, 39, 40, 41, 42, 43, 44, 45, 47]",
          "[0, 2, 3, 4, 5, 6, 7, 8, 9, 10, 12, 13, 14, 15, 16, 17, 18, 19, 20, 21, 22, 23, 24, 25, 26, 27, 28, 29, 30, 31, 32, 33, 34, 35, 36, 37, 39, 40, 41, 42, 43, 44, 45, 47]",
          "[0, 3, 4, 5, 6, 7, 8, 9, 10, 12, 13, 14, 15, 16, 17, 18, 19, 20, 21, 22, 23, 24, 25, 26, 27, 28, 29, 30, 31, 32, 33, 34, 35, 36, 37, 39, 40, 41, 42, 43, 44, 45, 47]",
          "[0, 4, 5, 6, 7, 8, 9, 10, 12, 13, 14, 15, 16, 17, 18, 19, 20, 21, 22, 23, 24, 25, 26, 27, 28, 29, 30, 31, 32, 33, 34, 35, 36, 37, 39, 40, 41, 42, 43, 44, 45, 47]",
          "[0, 4, 6, 7, 8, 9, 10, 12, 13, 14, 15, 16, 17, 18, 19, 20, 21, 22, 23, 24, 25, 26, 27, 28, 29, 30, 31, 32, 33, 34, 35, 36, 37, 39, 40, 41, 42, 43, 44, 45, 47]",
          "[0, 6, 7, 8, 9, 10, 12, 13, 14, 15, 16, 17, 18, 19, 20, 21, 22, 23, 24, 25, 26, 27, 28, 29, 30, 31, 32, 33, 34, 35, 36, 37, 39, 40, 41, 42, 43, 44, 45, 47]",
          "[0, 6, 7, 8, 9, 10, 13, 14, 15, 16, 17, 18, 19, 20, 21, 22, 23, 24, 25, 26, 27, 28, 29, 30, 31, 32, 33, 34, 35, 36, 37, 39, 40, 41, 42, 43, 44, 45, 47]",
          "[0, 6, 7, 8, 9, 10, 13, 15, 16, 17, 18, 19, 20, 21, 22, 23, 24, 25, 26, 27, 28, 29, 30, 31, 32, 33, 34, 35, 36, 37, 39, 40, 41, 42, 43, 44, 45, 47]",
          "[0, 6, 7, 8, 9, 10, 13, 15, 16, 17, 18, 19, 21, 22, 23, 24, 25, 26, 27, 28, 29, 30, 31, 32, 33, 34, 35, 36, 37, 39, 40, 41, 42, 43, 44, 45, 47]",
          "[0, 6, 7, 8, 9, 10, 15, 16, 17, 18, 19, 21, 22, 23, 24, 25, 26, 27, 28, 29, 30, 31, 32, 33, 34, 35, 36, 37, 39, 40, 41, 42, 43, 44, 45, 47]",
          "[0, 6, 7, 8, 9, 10, 15, 16, 17, 18, 19, 21, 22, 23, 24, 25, 26, 27, 28, 29, 30, 31, 32, 33, 34, 36, 37, 39, 40, 41, 42, 43, 44, 45, 47]",
          "[0, 6, 7, 8, 10, 15, 16, 17, 18, 19, 21, 22, 23, 24, 25, 26, 27, 28, 29, 30, 31, 32, 33, 34, 36, 37, 39, 40, 41, 42, 43, 44, 45, 47]",
          "[0, 6, 7, 8, 10, 15, 16, 17, 18, 19, 21, 23, 24, 25, 26, 27, 28, 29, 30, 31, 32, 33, 34, 36, 37, 39, 40, 41, 42, 43, 44, 45, 47]",
          "[0, 6, 7, 8, 10, 15, 16, 17, 18, 19, 21, 23, 24, 25, 26, 27, 28, 29, 30, 31, 32, 33, 34, 36, 37, 39, 40, 41, 42, 44, 45, 47]",
          "[0, 6, 7, 8, 10, 15, 16, 17, 18, 19, 21, 23, 24, 25, 26, 27, 29, 30, 31, 32, 33, 34, 36, 37, 39, 40, 41, 42, 44, 45, 47]",
          "[0, 6, 7, 8, 10, 15, 16, 17, 18, 19, 21, 23, 24, 25, 26, 27, 29, 30, 31, 32, 33, 34, 36, 37, 39, 40, 42, 44, 45, 47]",
          "[0, 6, 7, 8, 10, 15, 16, 17, 18, 19, 21, 23, 24, 25, 26, 29, 30, 31, 32, 33, 34, 36, 37, 39, 40, 42, 44, 45, 47]",
          "[0, 6, 7, 8, 10, 15, 16, 17, 18, 19, 21, 23, 24, 25, 26, 29, 30, 31, 32, 33, 34, 37, 39, 40, 42, 44, 45, 47]",
          "[0, 6, 7, 8, 10, 15, 16, 17, 18, 19, 21, 23, 24, 25, 26, 29, 30, 31, 32, 33, 34, 39, 40, 42, 44, 45, 47]",
          "[0, 6, 7, 8, 10, 15, 16, 17, 18, 19, 21, 24, 25, 26, 29, 30, 31, 32, 33, 34, 39, 40, 42, 44, 45, 47]",
          "[0, 7, 8, 10, 15, 16, 17, 18, 19, 21, 24, 25, 26, 29, 30, 31, 32, 33, 34, 39, 40, 42, 44, 45, 47]",
          "[0, 7, 8, 10, 15, 16, 17, 19, 21, 24, 25, 26, 29, 30, 31, 32, 33, 34, 39, 40, 42, 44, 45, 47]",
          "[0, 7, 8, 10, 15, 16, 17, 19, 21, 24, 25, 26, 29, 30, 31, 32, 34, 39, 40, 42, 44, 45, 47]",
          "[0, 7, 8, 10, 15, 16, 17, 19, 21, 25, 26, 29, 30, 31, 32, 34, 39, 40, 42, 44, 45, 47]",
          "[0, 7, 8, 10, 15, 16, 17, 19, 21, 25, 26, 29, 30, 31, 32, 34, 39, 42, 44, 45, 47]",
          "[0, 7, 8, 10, 15, 16, 17, 19, 21, 25, 26, 29, 30, 32, 34, 39, 42, 44, 45, 47]",
          "[0, 7, 8, 10, 15, 16, 19, 21, 25, 26, 29, 30, 32, 34, 39, 42, 44, 45, 47]",
          "[0, 7, 8, 10, 15, 16, 19, 21, 25, 26, 29, 30, 32, 39, 42, 44, 45, 47]",
          "[0, 8, 10, 15, 16, 19, 21, 25, 26, 29, 30, 32, 39, 42, 44, 45, 47]",
          "[0, 10, 15, 16, 19, 21, 25, 26, 29, 30, 32, 39, 42, 44, 45, 47]",
          "[0, 10, 15, 16, 19, 21, 25, 26, 30, 32, 39, 42, 44, 45, 47]",
          "[0, 10, 15, 16, 19, 21, 26, 30, 32, 39, 42, 44, 45, 47]",
          "[0, 10, 15, 16, 19, 21, 26, 30, 32, 39, 42, 44, 45]",
          "[0, 10, 15, 16, 19, 21, 26, 30, 32, 39, 42, 44]",
          "[0, 10, 15, 16, 19, 21, 26, 30, 32, 39, 42]",
          "[0, 10, 15, 16, 19, 21, 26, 30, 32, 39]",
          "[0, 10, 15, 16, 19, 21, 30, 32, 39]",
          "[0, 10, 15, 16, 19, 21, 32, 39]",
          "[0, 10, 15, 16, 21, 32, 39]",
          "[0, 15, 16, 21, 32, 39]",
          "[0, 15, 21, 32, 39]",
          "[0, 21, 32, 39]",
          "[0, 32, 39]",
          "[0, 32]",
          "[0]"
         ],
         "xaxis": "x",
         "y": [
          0.7200000286102295,
          0.8799999952316284,
          0.9399999976158142,
          0.9599999785423279,
          0.9599999785423279,
          0.9399999976158142,
          0.9599999785423279,
          0.9599999785423279,
          0.9599999785423279,
          0.9800000190734863,
          0.9700000286102295,
          0.9900000095367432,
          0.9800000190734863,
          0.9800000190734863,
          0.9599999785423279,
          0.9399999976158142,
          0.949999988079071,
          0.9700000286102295,
          0.9200000166893005,
          0.9399999976158142,
          0.9399999976158142,
          0.9100000262260437,
          0.8600000143051147,
          0.8299999833106995,
          0.7099999785423279,
          0.6200000047683716,
          0.6899999976158142,
          0.5699999928474426,
          0.4300000071525574,
          0.41999998688697815,
          0.30000001192092896,
          0.2800000011920929,
          0.3100000023841858,
          0.20999999344348907,
          0.17000000178813934,
          0.14000000059604645,
          0.12999999523162842,
          0.23000000417232513,
          0.27000001072883606,
          0.1899999976158142,
          0.11999999731779099,
          0.07999999821186066,
          0,
          0,
          0,
          0,
          0,
          0
         ],
         "yaxis": "y"
        }
       ],
       "layout": {
        "autosize": true,
        "barmode": "relative",
        "font": {
         "color": "black",
         "size": 4
        },
        "legend": {
         "tracegroupgap": 0
        },
        "template": {
         "data": {
          "bar": [
           {
            "error_x": {
             "color": "#2a3f5f"
            },
            "error_y": {
             "color": "#2a3f5f"
            },
            "marker": {
             "line": {
              "color": "#E5ECF6",
              "width": 0.5
             },
             "pattern": {
              "fillmode": "overlay",
              "size": 10,
              "solidity": 0.2
             }
            },
            "type": "bar"
           }
          ],
          "barpolar": [
           {
            "marker": {
             "line": {
              "color": "#E5ECF6",
              "width": 0.5
             },
             "pattern": {
              "fillmode": "overlay",
              "size": 10,
              "solidity": 0.2
             }
            },
            "type": "barpolar"
           }
          ],
          "carpet": [
           {
            "aaxis": {
             "endlinecolor": "#2a3f5f",
             "gridcolor": "white",
             "linecolor": "white",
             "minorgridcolor": "white",
             "startlinecolor": "#2a3f5f"
            },
            "baxis": {
             "endlinecolor": "#2a3f5f",
             "gridcolor": "white",
             "linecolor": "white",
             "minorgridcolor": "white",
             "startlinecolor": "#2a3f5f"
            },
            "type": "carpet"
           }
          ],
          "choropleth": [
           {
            "colorbar": {
             "outlinewidth": 0,
             "ticks": ""
            },
            "type": "choropleth"
           }
          ],
          "contour": [
           {
            "colorbar": {
             "outlinewidth": 0,
             "ticks": ""
            },
            "colorscale": [
             [
              0,
              "#0d0887"
             ],
             [
              0.1111111111111111,
              "#46039f"
             ],
             [
              0.2222222222222222,
              "#7201a8"
             ],
             [
              0.3333333333333333,
              "#9c179e"
             ],
             [
              0.4444444444444444,
              "#bd3786"
             ],
             [
              0.5555555555555556,
              "#d8576b"
             ],
             [
              0.6666666666666666,
              "#ed7953"
             ],
             [
              0.7777777777777778,
              "#fb9f3a"
             ],
             [
              0.8888888888888888,
              "#fdca26"
             ],
             [
              1,
              "#f0f921"
             ]
            ],
            "type": "contour"
           }
          ],
          "contourcarpet": [
           {
            "colorbar": {
             "outlinewidth": 0,
             "ticks": ""
            },
            "type": "contourcarpet"
           }
          ],
          "heatmap": [
           {
            "colorbar": {
             "outlinewidth": 0,
             "ticks": ""
            },
            "colorscale": [
             [
              0,
              "#0d0887"
             ],
             [
              0.1111111111111111,
              "#46039f"
             ],
             [
              0.2222222222222222,
              "#7201a8"
             ],
             [
              0.3333333333333333,
              "#9c179e"
             ],
             [
              0.4444444444444444,
              "#bd3786"
             ],
             [
              0.5555555555555556,
              "#d8576b"
             ],
             [
              0.6666666666666666,
              "#ed7953"
             ],
             [
              0.7777777777777778,
              "#fb9f3a"
             ],
             [
              0.8888888888888888,
              "#fdca26"
             ],
             [
              1,
              "#f0f921"
             ]
            ],
            "type": "heatmap"
           }
          ],
          "heatmapgl": [
           {
            "colorbar": {
             "outlinewidth": 0,
             "ticks": ""
            },
            "colorscale": [
             [
              0,
              "#0d0887"
             ],
             [
              0.1111111111111111,
              "#46039f"
             ],
             [
              0.2222222222222222,
              "#7201a8"
             ],
             [
              0.3333333333333333,
              "#9c179e"
             ],
             [
              0.4444444444444444,
              "#bd3786"
             ],
             [
              0.5555555555555556,
              "#d8576b"
             ],
             [
              0.6666666666666666,
              "#ed7953"
             ],
             [
              0.7777777777777778,
              "#fb9f3a"
             ],
             [
              0.8888888888888888,
              "#fdca26"
             ],
             [
              1,
              "#f0f921"
             ]
            ],
            "type": "heatmapgl"
           }
          ],
          "histogram": [
           {
            "marker": {
             "pattern": {
              "fillmode": "overlay",
              "size": 10,
              "solidity": 0.2
             }
            },
            "type": "histogram"
           }
          ],
          "histogram2d": [
           {
            "colorbar": {
             "outlinewidth": 0,
             "ticks": ""
            },
            "colorscale": [
             [
              0,
              "#0d0887"
             ],
             [
              0.1111111111111111,
              "#46039f"
             ],
             [
              0.2222222222222222,
              "#7201a8"
             ],
             [
              0.3333333333333333,
              "#9c179e"
             ],
             [
              0.4444444444444444,
              "#bd3786"
             ],
             [
              0.5555555555555556,
              "#d8576b"
             ],
             [
              0.6666666666666666,
              "#ed7953"
             ],
             [
              0.7777777777777778,
              "#fb9f3a"
             ],
             [
              0.8888888888888888,
              "#fdca26"
             ],
             [
              1,
              "#f0f921"
             ]
            ],
            "type": "histogram2d"
           }
          ],
          "histogram2dcontour": [
           {
            "colorbar": {
             "outlinewidth": 0,
             "ticks": ""
            },
            "colorscale": [
             [
              0,
              "#0d0887"
             ],
             [
              0.1111111111111111,
              "#46039f"
             ],
             [
              0.2222222222222222,
              "#7201a8"
             ],
             [
              0.3333333333333333,
              "#9c179e"
             ],
             [
              0.4444444444444444,
              "#bd3786"
             ],
             [
              0.5555555555555556,
              "#d8576b"
             ],
             [
              0.6666666666666666,
              "#ed7953"
             ],
             [
              0.7777777777777778,
              "#fb9f3a"
             ],
             [
              0.8888888888888888,
              "#fdca26"
             ],
             [
              1,
              "#f0f921"
             ]
            ],
            "type": "histogram2dcontour"
           }
          ],
          "mesh3d": [
           {
            "colorbar": {
             "outlinewidth": 0,
             "ticks": ""
            },
            "type": "mesh3d"
           }
          ],
          "parcoords": [
           {
            "line": {
             "colorbar": {
              "outlinewidth": 0,
              "ticks": ""
             }
            },
            "type": "parcoords"
           }
          ],
          "pie": [
           {
            "automargin": true,
            "type": "pie"
           }
          ],
          "scatter": [
           {
            "fillpattern": {
             "fillmode": "overlay",
             "size": 10,
             "solidity": 0.2
            },
            "type": "scatter"
           }
          ],
          "scatter3d": [
           {
            "line": {
             "colorbar": {
              "outlinewidth": 0,
              "ticks": ""
             }
            },
            "marker": {
             "colorbar": {
              "outlinewidth": 0,
              "ticks": ""
             }
            },
            "type": "scatter3d"
           }
          ],
          "scattercarpet": [
           {
            "marker": {
             "colorbar": {
              "outlinewidth": 0,
              "ticks": ""
             }
            },
            "type": "scattercarpet"
           }
          ],
          "scattergeo": [
           {
            "marker": {
             "colorbar": {
              "outlinewidth": 0,
              "ticks": ""
             }
            },
            "type": "scattergeo"
           }
          ],
          "scattergl": [
           {
            "marker": {
             "colorbar": {
              "outlinewidth": 0,
              "ticks": ""
             }
            },
            "type": "scattergl"
           }
          ],
          "scattermapbox": [
           {
            "marker": {
             "colorbar": {
              "outlinewidth": 0,
              "ticks": ""
             }
            },
            "type": "scattermapbox"
           }
          ],
          "scatterpolar": [
           {
            "marker": {
             "colorbar": {
              "outlinewidth": 0,
              "ticks": ""
             }
            },
            "type": "scatterpolar"
           }
          ],
          "scatterpolargl": [
           {
            "marker": {
             "colorbar": {
              "outlinewidth": 0,
              "ticks": ""
             }
            },
            "type": "scatterpolargl"
           }
          ],
          "scatterternary": [
           {
            "marker": {
             "colorbar": {
              "outlinewidth": 0,
              "ticks": ""
             }
            },
            "type": "scatterternary"
           }
          ],
          "surface": [
           {
            "colorbar": {
             "outlinewidth": 0,
             "ticks": ""
            },
            "colorscale": [
             [
              0,
              "#0d0887"
             ],
             [
              0.1111111111111111,
              "#46039f"
             ],
             [
              0.2222222222222222,
              "#7201a8"
             ],
             [
              0.3333333333333333,
              "#9c179e"
             ],
             [
              0.4444444444444444,
              "#bd3786"
             ],
             [
              0.5555555555555556,
              "#d8576b"
             ],
             [
              0.6666666666666666,
              "#ed7953"
             ],
             [
              0.7777777777777778,
              "#fb9f3a"
             ],
             [
              0.8888888888888888,
              "#fdca26"
             ],
             [
              1,
              "#f0f921"
             ]
            ],
            "type": "surface"
           }
          ],
          "table": [
           {
            "cells": {
             "fill": {
              "color": "#EBF0F8"
             },
             "line": {
              "color": "white"
             }
            },
            "header": {
             "fill": {
              "color": "#C8D4E3"
             },
             "line": {
              "color": "white"
             }
            },
            "type": "table"
           }
          ]
         },
         "layout": {
          "annotationdefaults": {
           "arrowcolor": "#2a3f5f",
           "arrowhead": 0,
           "arrowwidth": 1
          },
          "autotypenumbers": "strict",
          "coloraxis": {
           "colorbar": {
            "outlinewidth": 0,
            "ticks": ""
           }
          },
          "colorscale": {
           "diverging": [
            [
             0,
             "#8e0152"
            ],
            [
             0.1,
             "#c51b7d"
            ],
            [
             0.2,
             "#de77ae"
            ],
            [
             0.3,
             "#f1b6da"
            ],
            [
             0.4,
             "#fde0ef"
            ],
            [
             0.5,
             "#f7f7f7"
            ],
            [
             0.6,
             "#e6f5d0"
            ],
            [
             0.7,
             "#b8e186"
            ],
            [
             0.8,
             "#7fbc41"
            ],
            [
             0.9,
             "#4d9221"
            ],
            [
             1,
             "#276419"
            ]
           ],
           "sequential": [
            [
             0,
             "#0d0887"
            ],
            [
             0.1111111111111111,
             "#46039f"
            ],
            [
             0.2222222222222222,
             "#7201a8"
            ],
            [
             0.3333333333333333,
             "#9c179e"
            ],
            [
             0.4444444444444444,
             "#bd3786"
            ],
            [
             0.5555555555555556,
             "#d8576b"
            ],
            [
             0.6666666666666666,
             "#ed7953"
            ],
            [
             0.7777777777777778,
             "#fb9f3a"
            ],
            [
             0.8888888888888888,
             "#fdca26"
            ],
            [
             1,
             "#f0f921"
            ]
           ],
           "sequentialminus": [
            [
             0,
             "#0d0887"
            ],
            [
             0.1111111111111111,
             "#46039f"
            ],
            [
             0.2222222222222222,
             "#7201a8"
            ],
            [
             0.3333333333333333,
             "#9c179e"
            ],
            [
             0.4444444444444444,
             "#bd3786"
            ],
            [
             0.5555555555555556,
             "#d8576b"
            ],
            [
             0.6666666666666666,
             "#ed7953"
            ],
            [
             0.7777777777777778,
             "#fb9f3a"
            ],
            [
             0.8888888888888888,
             "#fdca26"
            ],
            [
             1,
             "#f0f921"
            ]
           ]
          },
          "colorway": [
           "#636efa",
           "#EF553B",
           "#00cc96",
           "#ab63fa",
           "#FFA15A",
           "#19d3f3",
           "#FF6692",
           "#B6E880",
           "#FF97FF",
           "#FECB52"
          ],
          "font": {
           "color": "#2a3f5f"
          },
          "geo": {
           "bgcolor": "white",
           "lakecolor": "white",
           "landcolor": "#E5ECF6",
           "showlakes": true,
           "showland": true,
           "subunitcolor": "white"
          },
          "hoverlabel": {
           "align": "left"
          },
          "hovermode": "closest",
          "mapbox": {
           "style": "light"
          },
          "paper_bgcolor": "white",
          "plot_bgcolor": "#E5ECF6",
          "polar": {
           "angularaxis": {
            "gridcolor": "white",
            "linecolor": "white",
            "ticks": ""
           },
           "bgcolor": "#E5ECF6",
           "radialaxis": {
            "gridcolor": "white",
            "linecolor": "white",
            "ticks": ""
           }
          },
          "scene": {
           "xaxis": {
            "backgroundcolor": "#E5ECF6",
            "gridcolor": "white",
            "gridwidth": 2,
            "linecolor": "white",
            "showbackground": true,
            "ticks": "",
            "zerolinecolor": "white"
           },
           "yaxis": {
            "backgroundcolor": "#E5ECF6",
            "gridcolor": "white",
            "gridwidth": 2,
            "linecolor": "white",
            "showbackground": true,
            "ticks": "",
            "zerolinecolor": "white"
           },
           "zaxis": {
            "backgroundcolor": "#E5ECF6",
            "gridcolor": "white",
            "gridwidth": 2,
            "linecolor": "white",
            "showbackground": true,
            "ticks": "",
            "zerolinecolor": "white"
           }
          },
          "shapedefaults": {
           "line": {
            "color": "#2a3f5f"
           }
          },
          "ternary": {
           "aaxis": {
            "gridcolor": "white",
            "linecolor": "white",
            "ticks": ""
           },
           "baxis": {
            "gridcolor": "white",
            "linecolor": "white",
            "ticks": ""
           },
           "bgcolor": "#E5ECF6",
           "caxis": {
            "gridcolor": "white",
            "linecolor": "white",
            "ticks": ""
           }
          },
          "title": {
           "x": 0.05
          },
          "xaxis": {
           "automargin": true,
           "gridcolor": "white",
           "linecolor": "white",
           "ticks": "",
           "title": {
            "standoff": 15
           },
           "zerolinecolor": "white",
           "zerolinewidth": 2
          },
          "yaxis": {
           "automargin": true,
           "gridcolor": "white",
           "linecolor": "white",
           "ticks": "",
           "title": {
            "standoff": 15
           },
           "zerolinecolor": "white",
           "zerolinewidth": 2
          }
         }
        },
        "title": {
         "text": "ioi pruning layers accuracy"
        },
        "xaxis": {
         "anchor": "y",
         "autorange": true,
         "domain": [
          0,
          1
         ],
         "range": [
          -0.5,
          47.5
         ],
         "tickmode": "array",
         "ticktext": [
          "[0, 1, 2, 3, 4, 5, 6, 7, 8, 9, 10, 11, 12, 13, 14, 15, 16, 17, 18, 19, 20, 21, 22, 23, 24, 25, 26, 27, 28, 29, 30, 31, 32, 33, 34, 35, 36, 37, 38, 39, 40, 41, 42, 43, 44, 45, 46, 47]",
          "[0, 1, 2, 3, 4, 5, 6, 7, 8, 9, 10, 11, 12, 13, 14, 15, 16, 17, 18, 19, 20, 21, 22, 23, 24, 25, 26, 27, 28, 29, 30, 31, 32, 33, 34, 35, 36, 37, 39, 40, 41, 42, 43, 44, 45, 46, 47]",
          "[0, 1, 2, 3, 4, 5, 6, 7, 8, 9, 10, 11, 12, 13, 14, 15, 16, 17, 18, 19, 20, 21, 22, 23, 24, 25, 26, 27, 28, 29, 30, 31, 32, 33, 34, 35, 36, 37, 39, 40, 41, 42, 43, 44, 45, 47]",
          "[0, 1, 2, 3, 4, 5, 6, 7, 8, 9, 10, 12, 13, 14, 15, 16, 17, 18, 19, 20, 21, 22, 23, 24, 25, 26, 27, 28, 29, 30, 31, 32, 33, 34, 35, 36, 37, 39, 40, 41, 42, 43, 44, 45, 47]",
          "[0, 2, 3, 4, 5, 6, 7, 8, 9, 10, 12, 13, 14, 15, 16, 17, 18, 19, 20, 21, 22, 23, 24, 25, 26, 27, 28, 29, 30, 31, 32, 33, 34, 35, 36, 37, 39, 40, 41, 42, 43, 44, 45, 47]",
          "[0, 3, 4, 5, 6, 7, 8, 9, 10, 12, 13, 14, 15, 16, 17, 18, 19, 20, 21, 22, 23, 24, 25, 26, 27, 28, 29, 30, 31, 32, 33, 34, 35, 36, 37, 39, 40, 41, 42, 43, 44, 45, 47]",
          "[0, 4, 5, 6, 7, 8, 9, 10, 12, 13, 14, 15, 16, 17, 18, 19, 20, 21, 22, 23, 24, 25, 26, 27, 28, 29, 30, 31, 32, 33, 34, 35, 36, 37, 39, 40, 41, 42, 43, 44, 45, 47]",
          "[0, 4, 6, 7, 8, 9, 10, 12, 13, 14, 15, 16, 17, 18, 19, 20, 21, 22, 23, 24, 25, 26, 27, 28, 29, 30, 31, 32, 33, 34, 35, 36, 37, 39, 40, 41, 42, 43, 44, 45, 47]",
          "[0, 6, 7, 8, 9, 10, 12, 13, 14, 15, 16, 17, 18, 19, 20, 21, 22, 23, 24, 25, 26, 27, 28, 29, 30, 31, 32, 33, 34, 35, 36, 37, 39, 40, 41, 42, 43, 44, 45, 47]",
          "[0, 6, 7, 8, 9, 10, 13, 14, 15, 16, 17, 18, 19, 20, 21, 22, 23, 24, 25, 26, 27, 28, 29, 30, 31, 32, 33, 34, 35, 36, 37, 39, 40, 41, 42, 43, 44, 45, 47]",
          "[0, 6, 7, 8, 9, 10, 13, 15, 16, 17, 18, 19, 20, 21, 22, 23, 24, 25, 26, 27, 28, 29, 30, 31, 32, 33, 34, 35, 36, 37, 39, 40, 41, 42, 43, 44, 45, 47]",
          "[0, 6, 7, 8, 9, 10, 13, 15, 16, 17, 18, 19, 21, 22, 23, 24, 25, 26, 27, 28, 29, 30, 31, 32, 33, 34, 35, 36, 37, 39, 40, 41, 42, 43, 44, 45, 47]",
          "[0, 6, 7, 8, 9, 10, 15, 16, 17, 18, 19, 21, 22, 23, 24, 25, 26, 27, 28, 29, 30, 31, 32, 33, 34, 35, 36, 37, 39, 40, 41, 42, 43, 44, 45, 47]",
          "[0, 6, 7, 8, 9, 10, 15, 16, 17, 18, 19, 21, 22, 23, 24, 25, 26, 27, 28, 29, 30, 31, 32, 33, 34, 36, 37, 39, 40, 41, 42, 43, 44, 45, 47]",
          "[0, 6, 7, 8, 10, 15, 16, 17, 18, 19, 21, 22, 23, 24, 25, 26, 27, 28, 29, 30, 31, 32, 33, 34, 36, 37, 39, 40, 41, 42, 43, 44, 45, 47]",
          "[0, 6, 7, 8, 10, 15, 16, 17, 18, 19, 21, 23, 24, 25, 26, 27, 28, 29, 30, 31, 32, 33, 34, 36, 37, 39, 40, 41, 42, 43, 44, 45, 47]",
          "[0, 6, 7, 8, 10, 15, 16, 17, 18, 19, 21, 23, 24, 25, 26, 27, 28, 29, 30, 31, 32, 33, 34, 36, 37, 39, 40, 41, 42, 44, 45, 47]",
          "[0, 6, 7, 8, 10, 15, 16, 17, 18, 19, 21, 23, 24, 25, 26, 27, 29, 30, 31, 32, 33, 34, 36, 37, 39, 40, 41, 42, 44, 45, 47]",
          "[0, 6, 7, 8, 10, 15, 16, 17, 18, 19, 21, 23, 24, 25, 26, 27, 29, 30, 31, 32, 33, 34, 36, 37, 39, 40, 42, 44, 45, 47]",
          "[0, 6, 7, 8, 10, 15, 16, 17, 18, 19, 21, 23, 24, 25, 26, 29, 30, 31, 32, 33, 34, 36, 37, 39, 40, 42, 44, 45, 47]",
          "[0, 6, 7, 8, 10, 15, 16, 17, 18, 19, 21, 23, 24, 25, 26, 29, 30, 31, 32, 33, 34, 37, 39, 40, 42, 44, 45, 47]",
          "[0, 6, 7, 8, 10, 15, 16, 17, 18, 19, 21, 23, 24, 25, 26, 29, 30, 31, 32, 33, 34, 39, 40, 42, 44, 45, 47]",
          "[0, 6, 7, 8, 10, 15, 16, 17, 18, 19, 21, 24, 25, 26, 29, 30, 31, 32, 33, 34, 39, 40, 42, 44, 45, 47]",
          "[0, 7, 8, 10, 15, 16, 17, 18, 19, 21, 24, 25, 26, 29, 30, 31, 32, 33, 34, 39, 40, 42, 44, 45, 47]",
          "[0, 7, 8, 10, 15, 16, 17, 19, 21, 24, 25, 26, 29, 30, 31, 32, 33, 34, 39, 40, 42, 44, 45, 47]",
          "[0, 7, 8, 10, 15, 16, 17, 19, 21, 24, 25, 26, 29, 30, 31, 32, 34, 39, 40, 42, 44, 45, 47]",
          "[0, 7, 8, 10, 15, 16, 17, 19, 21, 25, 26, 29, 30, 31, 32, 34, 39, 40, 42, 44, 45, 47]",
          "[0, 7, 8, 10, 15, 16, 17, 19, 21, 25, 26, 29, 30, 31, 32, 34, 39, 42, 44, 45, 47]",
          "[0, 7, 8, 10, 15, 16, 17, 19, 21, 25, 26, 29, 30, 32, 34, 39, 42, 44, 45, 47]",
          "[0, 7, 8, 10, 15, 16, 19, 21, 25, 26, 29, 30, 32, 34, 39, 42, 44, 45, 47]",
          "[0, 7, 8, 10, 15, 16, 19, 21, 25, 26, 29, 30, 32, 39, 42, 44, 45, 47]",
          "[0, 8, 10, 15, 16, 19, 21, 25, 26, 29, 30, 32, 39, 42, 44, 45, 47]",
          "[0, 10, 15, 16, 19, 21, 25, 26, 29, 30, 32, 39, 42, 44, 45, 47]",
          "[0, 10, 15, 16, 19, 21, 25, 26, 30, 32, 39, 42, 44, 45, 47]",
          "[0, 10, 15, 16, 19, 21, 26, 30, 32, 39, 42, 44, 45, 47]",
          "[0, 10, 15, 16, 19, 21, 26, 30, 32, 39, 42, 44, 45]",
          "[0, 10, 15, 16, 19, 21, 26, 30, 32, 39, 42, 44]",
          "[0, 10, 15, 16, 19, 21, 26, 30, 32, 39, 42]",
          "[0, 10, 15, 16, 19, 21, 26, 30, 32, 39]",
          "[0, 10, 15, 16, 19, 21, 30, 32, 39]",
          "[0, 10, 15, 16, 19, 21, 32, 39]",
          "[0, 10, 15, 16, 21, 32, 39]",
          "[0, 15, 16, 21, 32, 39]",
          "[0, 15, 21, 32, 39]",
          "[0, 21, 32, 39]",
          "[0, 32, 39]",
          "[0, 32]",
          "[0]"
         ],
         "tickvals": [
          "[0, 1, 2, 3, 4, 5, 6, 7, 8, 9, 10, 11, 12, 13, 14, 15, 16, 17, 18, 19, 20, 21, 22, 23, 24, 25, 26, 27, 28, 29, 30, 31, 32, 33, 34, 35, 36, 37, 38, 39, 40, 41, 42, 43, 44, 45, 46, 47]",
          "[0, 1, 2, 3, 4, 5, 6, 7, 8, 9, 10, 11, 12, 13, 14, 15, 16, 17, 18, 19, 20, 21, 22, 23, 24, 25, 26, 27, 28, 29, 30, 31, 32, 33, 34, 35, 36, 37, 39, 40, 41, 42, 43, 44, 45, 46, 47]",
          "[0, 1, 2, 3, 4, 5, 6, 7, 8, 9, 10, 11, 12, 13, 14, 15, 16, 17, 18, 19, 20, 21, 22, 23, 24, 25, 26, 27, 28, 29, 30, 31, 32, 33, 34, 35, 36, 37, 39, 40, 41, 42, 43, 44, 45, 47]",
          "[0, 1, 2, 3, 4, 5, 6, 7, 8, 9, 10, 12, 13, 14, 15, 16, 17, 18, 19, 20, 21, 22, 23, 24, 25, 26, 27, 28, 29, 30, 31, 32, 33, 34, 35, 36, 37, 39, 40, 41, 42, 43, 44, 45, 47]",
          "[0, 2, 3, 4, 5, 6, 7, 8, 9, 10, 12, 13, 14, 15, 16, 17, 18, 19, 20, 21, 22, 23, 24, 25, 26, 27, 28, 29, 30, 31, 32, 33, 34, 35, 36, 37, 39, 40, 41, 42, 43, 44, 45, 47]",
          "[0, 3, 4, 5, 6, 7, 8, 9, 10, 12, 13, 14, 15, 16, 17, 18, 19, 20, 21, 22, 23, 24, 25, 26, 27, 28, 29, 30, 31, 32, 33, 34, 35, 36, 37, 39, 40, 41, 42, 43, 44, 45, 47]",
          "[0, 4, 5, 6, 7, 8, 9, 10, 12, 13, 14, 15, 16, 17, 18, 19, 20, 21, 22, 23, 24, 25, 26, 27, 28, 29, 30, 31, 32, 33, 34, 35, 36, 37, 39, 40, 41, 42, 43, 44, 45, 47]",
          "[0, 4, 6, 7, 8, 9, 10, 12, 13, 14, 15, 16, 17, 18, 19, 20, 21, 22, 23, 24, 25, 26, 27, 28, 29, 30, 31, 32, 33, 34, 35, 36, 37, 39, 40, 41, 42, 43, 44, 45, 47]",
          "[0, 6, 7, 8, 9, 10, 12, 13, 14, 15, 16, 17, 18, 19, 20, 21, 22, 23, 24, 25, 26, 27, 28, 29, 30, 31, 32, 33, 34, 35, 36, 37, 39, 40, 41, 42, 43, 44, 45, 47]",
          "[0, 6, 7, 8, 9, 10, 13, 14, 15, 16, 17, 18, 19, 20, 21, 22, 23, 24, 25, 26, 27, 28, 29, 30, 31, 32, 33, 34, 35, 36, 37, 39, 40, 41, 42, 43, 44, 45, 47]",
          "[0, 6, 7, 8, 9, 10, 13, 15, 16, 17, 18, 19, 20, 21, 22, 23, 24, 25, 26, 27, 28, 29, 30, 31, 32, 33, 34, 35, 36, 37, 39, 40, 41, 42, 43, 44, 45, 47]",
          "[0, 6, 7, 8, 9, 10, 13, 15, 16, 17, 18, 19, 21, 22, 23, 24, 25, 26, 27, 28, 29, 30, 31, 32, 33, 34, 35, 36, 37, 39, 40, 41, 42, 43, 44, 45, 47]",
          "[0, 6, 7, 8, 9, 10, 15, 16, 17, 18, 19, 21, 22, 23, 24, 25, 26, 27, 28, 29, 30, 31, 32, 33, 34, 35, 36, 37, 39, 40, 41, 42, 43, 44, 45, 47]",
          "[0, 6, 7, 8, 9, 10, 15, 16, 17, 18, 19, 21, 22, 23, 24, 25, 26, 27, 28, 29, 30, 31, 32, 33, 34, 36, 37, 39, 40, 41, 42, 43, 44, 45, 47]",
          "[0, 6, 7, 8, 10, 15, 16, 17, 18, 19, 21, 22, 23, 24, 25, 26, 27, 28, 29, 30, 31, 32, 33, 34, 36, 37, 39, 40, 41, 42, 43, 44, 45, 47]",
          "[0, 6, 7, 8, 10, 15, 16, 17, 18, 19, 21, 23, 24, 25, 26, 27, 28, 29, 30, 31, 32, 33, 34, 36, 37, 39, 40, 41, 42, 43, 44, 45, 47]",
          "[0, 6, 7, 8, 10, 15, 16, 17, 18, 19, 21, 23, 24, 25, 26, 27, 28, 29, 30, 31, 32, 33, 34, 36, 37, 39, 40, 41, 42, 44, 45, 47]",
          "[0, 6, 7, 8, 10, 15, 16, 17, 18, 19, 21, 23, 24, 25, 26, 27, 29, 30, 31, 32, 33, 34, 36, 37, 39, 40, 41, 42, 44, 45, 47]",
          "[0, 6, 7, 8, 10, 15, 16, 17, 18, 19, 21, 23, 24, 25, 26, 27, 29, 30, 31, 32, 33, 34, 36, 37, 39, 40, 42, 44, 45, 47]",
          "[0, 6, 7, 8, 10, 15, 16, 17, 18, 19, 21, 23, 24, 25, 26, 29, 30, 31, 32, 33, 34, 36, 37, 39, 40, 42, 44, 45, 47]",
          "[0, 6, 7, 8, 10, 15, 16, 17, 18, 19, 21, 23, 24, 25, 26, 29, 30, 31, 32, 33, 34, 37, 39, 40, 42, 44, 45, 47]",
          "[0, 6, 7, 8, 10, 15, 16, 17, 18, 19, 21, 23, 24, 25, 26, 29, 30, 31, 32, 33, 34, 39, 40, 42, 44, 45, 47]",
          "[0, 6, 7, 8, 10, 15, 16, 17, 18, 19, 21, 24, 25, 26, 29, 30, 31, 32, 33, 34, 39, 40, 42, 44, 45, 47]",
          "[0, 7, 8, 10, 15, 16, 17, 18, 19, 21, 24, 25, 26, 29, 30, 31, 32, 33, 34, 39, 40, 42, 44, 45, 47]",
          "[0, 7, 8, 10, 15, 16, 17, 19, 21, 24, 25, 26, 29, 30, 31, 32, 33, 34, 39, 40, 42, 44, 45, 47]",
          "[0, 7, 8, 10, 15, 16, 17, 19, 21, 24, 25, 26, 29, 30, 31, 32, 34, 39, 40, 42, 44, 45, 47]",
          "[0, 7, 8, 10, 15, 16, 17, 19, 21, 25, 26, 29, 30, 31, 32, 34, 39, 40, 42, 44, 45, 47]",
          "[0, 7, 8, 10, 15, 16, 17, 19, 21, 25, 26, 29, 30, 31, 32, 34, 39, 42, 44, 45, 47]",
          "[0, 7, 8, 10, 15, 16, 17, 19, 21, 25, 26, 29, 30, 32, 34, 39, 42, 44, 45, 47]",
          "[0, 7, 8, 10, 15, 16, 19, 21, 25, 26, 29, 30, 32, 34, 39, 42, 44, 45, 47]",
          "[0, 7, 8, 10, 15, 16, 19, 21, 25, 26, 29, 30, 32, 39, 42, 44, 45, 47]",
          "[0, 8, 10, 15, 16, 19, 21, 25, 26, 29, 30, 32, 39, 42, 44, 45, 47]",
          "[0, 10, 15, 16, 19, 21, 25, 26, 29, 30, 32, 39, 42, 44, 45, 47]",
          "[0, 10, 15, 16, 19, 21, 25, 26, 30, 32, 39, 42, 44, 45, 47]",
          "[0, 10, 15, 16, 19, 21, 26, 30, 32, 39, 42, 44, 45, 47]",
          "[0, 10, 15, 16, 19, 21, 26, 30, 32, 39, 42, 44, 45]",
          "[0, 10, 15, 16, 19, 21, 26, 30, 32, 39, 42, 44]",
          "[0, 10, 15, 16, 19, 21, 26, 30, 32, 39, 42]",
          "[0, 10, 15, 16, 19, 21, 26, 30, 32, 39]",
          "[0, 10, 15, 16, 19, 21, 30, 32, 39]",
          "[0, 10, 15, 16, 19, 21, 32, 39]",
          "[0, 10, 15, 16, 21, 32, 39]",
          "[0, 15, 16, 21, 32, 39]",
          "[0, 15, 21, 32, 39]",
          "[0, 21, 32, 39]",
          "[0, 32, 39]",
          "[0, 32]",
          "[0]"
         ],
         "title": {
          "text": "x"
         },
         "type": "category"
        },
        "yaxis": {
         "anchor": "x",
         "autorange": true,
         "domain": [
          0,
          1
         ],
         "range": [
          0,
          1.0421052731965719
         ],
         "title": {
          "text": "accuracy"
         },
         "type": "linear"
        }
       }
      },
      "image/png": "[encoded data removed]",
      "text/html": [
       "<div>                            <div id=\"91ff5676-b002-42bc-8ffc-c433f6e9f556\" class=\"plotly-graph-div\" style=\"height:525px; width:100%;\"></div>            <script type=\"text/javascript\">                require([\"plotly\"], function(Plotly) {                    window.PLOTLYENV=window.PLOTLYENV || {};                                    if (document.getElementById(\"91ff5676-b002-42bc-8ffc-c433f6e9f556\")) {                    Plotly.newPlot(                        \"91ff5676-b002-42bc-8ffc-c433f6e9f556\",                        [{\"alignmentgroup\":\"True\",\"hovertemplate\":\"x=%{x}\\u003cbr\\u003eaccuracy=%{y}\\u003cextra\\u003e\\u003c\\u002fextra\\u003e\",\"legendgroup\":\"\",\"marker\":{\"color\":\"#636efa\",\"pattern\":{\"shape\":\"\"}},\"name\":\"\",\"offsetgroup\":\"\",\"orientation\":\"v\",\"showlegend\":false,\"textposition\":\"auto\",\"x\":[\"[0, 1, 2, 3, 4, 5, 6, 7, 8, 9, 10, 11, 12, 13, 14, 15, 16, 17, 18, 19, 20, 21, 22, 23, 24, 25, 26, 27, 28, 29, 30, 31, 32, 33, 34, 35, 36, 37, 38, 39, 40, 41, 42, 43, 44, 45, 46, 47]\",\"[0, 1, 2, 3, 4, 5, 6, 7, 8, 9, 10, 11, 12, 13, 14, 15, 16, 17, 18, 19, 20, 21, 22, 23, 24, 25, 26, 27, 28, 29, 30, 31, 32, 33, 34, 35, 36, 37, 39, 40, 41, 42, 43, 44, 45, 46, 47]\",\"[0, 1, 2, 3, 4, 5, 6, 7, 8, 9, 10, 11, 12, 13, 14, 15, 16, 17, 18, 19, 20, 21, 22, 23, 24, 25, 26, 27, 28, 29, 30, 31, 32, 33, 34, 35, 36, 37, 39, 40, 41, 42, 43, 44, 45, 47]\",\"[0, 1, 2, 3, 4, 5, 6, 7, 8, 9, 10, 12, 13, 14, 15, 16, 17, 18, 19, 20, 21, 22, 23, 24, 25, 26, 27, 28, 29, 30, 31, 32, 33, 34, 35, 36, 37, 39, 40, 41, 42, 43, 44, 45, 47]\",\"[0, 2, 3, 4, 5, 6, 7, 8, 9, 10, 12, 13, 14, 15, 16, 17, 18, 19, 20, 21, 22, 23, 24, 25, 26, 27, 28, 29, 30, 31, 32, 33, 34, 35, 36, 37, 39, 40, 41, 42, 43, 44, 45, 47]\",\"[0, 3, 4, 5, 6, 7, 8, 9, 10, 12, 13, 14, 15, 16, 17, 18, 19, 20, 21, 22, 23, 24, 25, 26, 27, 28, 29, 30, 31, 32, 33, 34, 35, 36, 37, 39, 40, 41, 42, 43, 44, 45, 47]\",\"[0, 4, 5, 6, 7, 8, 9, 10, 12, 13, 14, 15, 16, 17, 18, 19, 20, 21, 22, 23, 24, 25, 26, 27, 28, 29, 30, 31, 32, 33, 34, 35, 36, 37, 39, 40, 41, 42, 43, 44, 45, 47]\",\"[0, 4, 6, 7, 8, 9, 10, 12, 13, 14, 15, 16, 17, 18, 19, 20, 21, 22, 23, 24, 25, 26, 27, 28, 29, 30, 31, 32, 33, 34, 35, 36, 37, 39, 40, 41, 42, 43, 44, 45, 47]\",\"[0, 6, 7, 8, 9, 10, 12, 13, 14, 15, 16, 17, 18, 19, 20, 21, 22, 23, 24, 25, 26, 27, 28, 29, 30, 31, 32, 33, 34, 35, 36, 37, 39, 40, 41, 42, 43, 44, 45, 47]\",\"[0, 6, 7, 8, 9, 10, 13, 14, 15, 16, 17, 18, 19, 20, 21, 22, 23, 24, 25, 26, 27, 28, 29, 30, 31, 32, 33, 34, 35, 36, 37, 39, 40, 41, 42, 43, 44, 45, 47]\",\"[0, 6, 7, 8, 9, 10, 13, 15, 16, 17, 18, 19, 20, 21, 22, 23, 24, 25, 26, 27, 28, 29, 30, 31, 32, 33, 34, 35, 36, 37, 39, 40, 41, 42, 43, 44, 45, 47]\",\"[0, 6, 7, 8, 9, 10, 13, 15, 16, 17, 18, 19, 21, 22, 23, 24, 25, 26, 27, 28, 29, 30, 31, 32, 33, 34, 35, 36, 37, 39, 40, 41, 42, 43, 44, 45, 47]\",\"[0, 6, 7, 8, 9, 10, 15, 16, 17, 18, 19, 21, 22, 23, 24, 25, 26, 27, 28, 29, 30, 31, 32, 33, 34, 35, 36, 37, 39, 40, 41, 42, 43, 44, 45, 47]\",\"[0, 6, 7, 8, 9, 10, 15, 16, 17, 18, 19, 21, 22, 23, 24, 25, 26, 27, 28, 29, 30, 31, 32, 33, 34, 36, 37, 39, 40, 41, 42, 43, 44, 45, 47]\",\"[0, 6, 7, 8, 10, 15, 16, 17, 18, 19, 21, 22, 23, 24, 25, 26, 27, 28, 29, 30, 31, 32, 33, 34, 36, 37, 39, 40, 41, 42, 43, 44, 45, 47]\",\"[0, 6, 7, 8, 10, 15, 16, 17, 18, 19, 21, 23, 24, 25, 26, 27, 28, 29, 30, 31, 32, 33, 34, 36, 37, 39, 40, 41, 42, 43, 44, 45, 47]\",\"[0, 6, 7, 8, 10, 15, 16, 17, 18, 19, 21, 23, 24, 25, 26, 27, 28, 29, 30, 31, 32, 33, 34, 36, 37, 39, 40, 41, 42, 44, 45, 47]\",\"[0, 6, 7, 8, 10, 15, 16, 17, 18, 19, 21, 23, 24, 25, 26, 27, 29, 30, 31, 32, 33, 34, 36, 37, 39, 40, 41, 42, 44, 45, 47]\",\"[0, 6, 7, 8, 10, 15, 16, 17, 18, 19, 21, 23, 24, 25, 26, 27, 29, 30, 31, 32, 33, 34, 36, 37, 39, 40, 42, 44, 45, 47]\",\"[0, 6, 7, 8, 10, 15, 16, 17, 18, 19, 21, 23, 24, 25, 26, 29, 30, 31, 32, 33, 34, 36, 37, 39, 40, 42, 44, 45, 47]\",\"[0, 6, 7, 8, 10, 15, 16, 17, 18, 19, 21, 23, 24, 25, 26, 29, 30, 31, 32, 33, 34, 37, 39, 40, 42, 44, 45, 47]\",\"[0, 6, 7, 8, 10, 15, 16, 17, 18, 19, 21, 23, 24, 25, 26, 29, 30, 31, 32, 33, 34, 39, 40, 42, 44, 45, 47]\",\"[0, 6, 7, 8, 10, 15, 16, 17, 18, 19, 21, 24, 25, 26, 29, 30, 31, 32, 33, 34, 39, 40, 42, 44, 45, 47]\",\"[0, 7, 8, 10, 15, 16, 17, 18, 19, 21, 24, 25, 26, 29, 30, 31, 32, 33, 34, 39, 40, 42, 44, 45, 47]\",\"[0, 7, 8, 10, 15, 16, 17, 19, 21, 24, 25, 26, 29, 30, 31, 32, 33, 34, 39, 40, 42, 44, 45, 47]\",\"[0, 7, 8, 10, 15, 16, 17, 19, 21, 24, 25, 26, 29, 30, 31, 32, 34, 39, 40, 42, 44, 45, 47]\",\"[0, 7, 8, 10, 15, 16, 17, 19, 21, 25, 26, 29, 30, 31, 32, 34, 39, 40, 42, 44, 45, 47]\",\"[0, 7, 8, 10, 15, 16, 17, 19, 21, 25, 26, 29, 30, 31, 32, 34, 39, 42, 44, 45, 47]\",\"[0, 7, 8, 10, 15, 16, 17, 19, 21, 25, 26, 29, 30, 32, 34, 39, 42, 44, 45, 47]\",\"[0, 7, 8, 10, 15, 16, 19, 21, 25, 26, 29, 30, 32, 34, 39, 42, 44, 45, 47]\",\"[0, 7, 8, 10, 15, 16, 19, 21, 25, 26, 29, 30, 32, 39, 42, 44, 45, 47]\",\"[0, 8, 10, 15, 16, 19, 21, 25, 26, 29, 30, 32, 39, 42, 44, 45, 47]\",\"[0, 10, 15, 16, 19, 21, 25, 26, 29, 30, 32, 39, 42, 44, 45, 47]\",\"[0, 10, 15, 16, 19, 21, 25, 26, 30, 32, 39, 42, 44, 45, 47]\",\"[0, 10, 15, 16, 19, 21, 26, 30, 32, 39, 42, 44, 45, 47]\",\"[0, 10, 15, 16, 19, 21, 26, 30, 32, 39, 42, 44, 45]\",\"[0, 10, 15, 16, 19, 21, 26, 30, 32, 39, 42, 44]\",\"[0, 10, 15, 16, 19, 21, 26, 30, 32, 39, 42]\",\"[0, 10, 15, 16, 19, 21, 26, 30, 32, 39]\",\"[0, 10, 15, 16, 19, 21, 30, 32, 39]\",\"[0, 10, 15, 16, 19, 21, 32, 39]\",\"[0, 10, 15, 16, 21, 32, 39]\",\"[0, 15, 16, 21, 32, 39]\",\"[0, 15, 21, 32, 39]\",\"[0, 21, 32, 39]\",\"[0, 32, 39]\",\"[0, 32]\",\"[0]\"],\"xaxis\":\"x\",\"y\":[0.7200000286102295,0.8799999952316284,0.9399999976158142,0.9599999785423279,0.9599999785423279,0.9399999976158142,0.9599999785423279,0.9599999785423279,0.9599999785423279,0.9800000190734863,0.9700000286102295,0.9900000095367432,0.9800000190734863,0.9800000190734863,0.9599999785423279,0.9399999976158142,0.949999988079071,0.9700000286102295,0.9200000166893005,0.9399999976158142,0.9399999976158142,0.9100000262260437,0.8600000143051147,0.8299999833106995,0.7099999785423279,0.6200000047683716,0.6899999976158142,0.5699999928474426,0.4300000071525574,0.41999998688697815,0.30000001192092896,0.2800000011920929,0.3100000023841858,0.20999999344348907,0.17000000178813934,0.14000000059604645,0.12999999523162842,0.23000000417232513,0.27000001072883606,0.1899999976158142,0.11999999731779099,0.07999999821186066,0.0,0.0,0.0,0.0,0.0,0.0],\"yaxis\":\"y\",\"type\":\"bar\"}],                        {\"template\":{\"data\":{\"histogram2dcontour\":[{\"type\":\"histogram2dcontour\",\"colorbar\":{\"outlinewidth\":0,\"ticks\":\"\"},\"colorscale\":[[0.0,\"#0d0887\"],[0.1111111111111111,\"#46039f\"],[0.2222222222222222,\"#7201a8\"],[0.3333333333333333,\"#9c179e\"],[0.4444444444444444,\"#bd3786\"],[0.5555555555555556,\"#d8576b\"],[0.6666666666666666,\"#ed7953\"],[0.7777777777777778,\"#fb9f3a\"],[0.8888888888888888,\"#fdca26\"],[1.0,\"#f0f921\"]]}],\"choropleth\":[{\"type\":\"choropleth\",\"colorbar\":{\"outlinewidth\":0,\"ticks\":\"\"}}],\"histogram2d\":[{\"type\":\"histogram2d\",\"colorbar\":{\"outlinewidth\":0,\"ticks\":\"\"},\"colorscale\":[[0.0,\"#0d0887\"],[0.1111111111111111,\"#46039f\"],[0.2222222222222222,\"#7201a8\"],[0.3333333333333333,\"#9c179e\"],[0.4444444444444444,\"#bd3786\"],[0.5555555555555556,\"#d8576b\"],[0.6666666666666666,\"#ed7953\"],[0.7777777777777778,\"#fb9f3a\"],[0.8888888888888888,\"#fdca26\"],[1.0,\"#f0f921\"]]}],\"heatmap\":[{\"type\":\"heatmap\",\"colorbar\":{\"outlinewidth\":0,\"ticks\":\"\"},\"colorscale\":[[0.0,\"#0d0887\"],[0.1111111111111111,\"#46039f\"],[0.2222222222222222,\"#7201a8\"],[0.3333333333333333,\"#9c179e\"],[0.4444444444444444,\"#bd3786\"],[0.5555555555555556,\"#d8576b\"],[0.6666666666666666,\"#ed7953\"],[0.7777777777777778,\"#fb9f3a\"],[0.8888888888888888,\"#fdca26\"],[1.0,\"#f0f921\"]]}],\"heatmapgl\":[{\"type\":\"heatmapgl\",\"colorbar\":{\"outlinewidth\":0,\"ticks\":\"\"},\"colorscale\":[[0.0,\"#0d0887\"],[0.1111111111111111,\"#46039f\"],[0.2222222222222222,\"#7201a8\"],[0.3333333333333333,\"#9c179e\"],[0.4444444444444444,\"#bd3786\"],[0.5555555555555556,\"#d8576b\"],[0.6666666666666666,\"#ed7953\"],[0.7777777777777778,\"#fb9f3a\"],[0.8888888888888888,\"#fdca26\"],[1.0,\"#f0f921\"]]}],\"contourcarpet\":[{\"type\":\"contourcarpet\",\"colorbar\":{\"outlinewidth\":0,\"ticks\":\"\"}}],\"contour\":[{\"type\":\"contour\",\"colorbar\":{\"outlinewidth\":0,\"ticks\":\"\"},\"colorscale\":[[0.0,\"#0d0887\"],[0.1111111111111111,\"#46039f\"],[0.2222222222222222,\"#7201a8\"],[0.3333333333333333,\"#9c179e\"],[0.4444444444444444,\"#bd3786\"],[0.5555555555555556,\"#d8576b\"],[0.6666666666666666,\"#ed7953\"],[0.7777777777777778,\"#fb9f3a\"],[0.8888888888888888,\"#fdca26\"],[1.0,\"#f0f921\"]]}],\"surface\":[{\"type\":\"surface\",\"colorbar\":{\"outlinewidth\":0,\"ticks\":\"\"},\"colorscale\":[[0.0,\"#0d0887\"],[0.1111111111111111,\"#46039f\"],[0.2222222222222222,\"#7201a8\"],[0.3333333333333333,\"#9c179e\"],[0.4444444444444444,\"#bd3786\"],[0.5555555555555556,\"#d8576b\"],[0.6666666666666666,\"#ed7953\"],[0.7777777777777778,\"#fb9f3a\"],[0.8888888888888888,\"#fdca26\"],[1.0,\"#f0f921\"]]}],\"mesh3d\":[{\"type\":\"mesh3d\",\"colorbar\":{\"outlinewidth\":0,\"ticks\":\"\"}}],\"scatter\":[{\"fillpattern\":{\"fillmode\":\"overlay\",\"size\":10,\"solidity\":0.2},\"type\":\"scatter\"}],\"parcoords\":[{\"type\":\"parcoords\",\"line\":{\"colorbar\":{\"outlinewidth\":0,\"ticks\":\"\"}}}],\"scatterpolargl\":[{\"type\":\"scatterpolargl\",\"marker\":{\"colorbar\":{\"outlinewidth\":0,\"ticks\":\"\"}}}],\"bar\":[{\"error_x\":{\"color\":\"#2a3f5f\"},\"error_y\":{\"color\":\"#2a3f5f\"},\"marker\":{\"line\":{\"color\":\"#E5ECF6\",\"width\":0.5},\"pattern\":{\"fillmode\":\"overlay\",\"size\":10,\"solidity\":0.2}},\"type\":\"bar\"}],\"scattergeo\":[{\"type\":\"scattergeo\",\"marker\":{\"colorbar\":{\"outlinewidth\":0,\"ticks\":\"\"}}}],\"scatterpolar\":[{\"type\":\"scatterpolar\",\"marker\":{\"colorbar\":{\"outlinewidth\":0,\"ticks\":\"\"}}}],\"histogram\":[{\"marker\":{\"pattern\":{\"fillmode\":\"overlay\",\"size\":10,\"solidity\":0.2}},\"type\":\"histogram\"}],\"scattergl\":[{\"type\":\"scattergl\",\"marker\":{\"colorbar\":{\"outlinewidth\":0,\"ticks\":\"\"}}}],\"scatter3d\":[{\"type\":\"scatter3d\",\"line\":{\"colorbar\":{\"outlinewidth\":0,\"ticks\":\"\"}},\"marker\":{\"colorbar\":{\"outlinewidth\":0,\"ticks\":\"\"}}}],\"scattermapbox\":[{\"type\":\"scattermapbox\",\"marker\":{\"colorbar\":{\"outlinewidth\":0,\"ticks\":\"\"}}}],\"scatterternary\":[{\"type\":\"scatterternary\",\"marker\":{\"colorbar\":{\"outlinewidth\":0,\"ticks\":\"\"}}}],\"scattercarpet\":[{\"type\":\"scattercarpet\",\"marker\":{\"colorbar\":{\"outlinewidth\":0,\"ticks\":\"\"}}}],\"carpet\":[{\"aaxis\":{\"endlinecolor\":\"#2a3f5f\",\"gridcolor\":\"white\",\"linecolor\":\"white\",\"minorgridcolor\":\"white\",\"startlinecolor\":\"#2a3f5f\"},\"baxis\":{\"endlinecolor\":\"#2a3f5f\",\"gridcolor\":\"white\",\"linecolor\":\"white\",\"minorgridcolor\":\"white\",\"startlinecolor\":\"#2a3f5f\"},\"type\":\"carpet\"}],\"table\":[{\"cells\":{\"fill\":{\"color\":\"#EBF0F8\"},\"line\":{\"color\":\"white\"}},\"header\":{\"fill\":{\"color\":\"#C8D4E3\"},\"line\":{\"color\":\"white\"}},\"type\":\"table\"}],\"barpolar\":[{\"marker\":{\"line\":{\"color\":\"#E5ECF6\",\"width\":0.5},\"pattern\":{\"fillmode\":\"overlay\",\"size\":10,\"solidity\":0.2}},\"type\":\"barpolar\"}],\"pie\":[{\"automargin\":true,\"type\":\"pie\"}]},\"layout\":{\"autotypenumbers\":\"strict\",\"colorway\":[\"#636efa\",\"#EF553B\",\"#00cc96\",\"#ab63fa\",\"#FFA15A\",\"#19d3f3\",\"#FF6692\",\"#B6E880\",\"#FF97FF\",\"#FECB52\"],\"font\":{\"color\":\"#2a3f5f\"},\"hovermode\":\"closest\",\"hoverlabel\":{\"align\":\"left\"},\"paper_bgcolor\":\"white\",\"plot_bgcolor\":\"#E5ECF6\",\"polar\":{\"bgcolor\":\"#E5ECF6\",\"angularaxis\":{\"gridcolor\":\"white\",\"linecolor\":\"white\",\"ticks\":\"\"},\"radialaxis\":{\"gridcolor\":\"white\",\"linecolor\":\"white\",\"ticks\":\"\"}},\"ternary\":{\"bgcolor\":\"#E5ECF6\",\"aaxis\":{\"gridcolor\":\"white\",\"linecolor\":\"white\",\"ticks\":\"\"},\"baxis\":{\"gridcolor\":\"white\",\"linecolor\":\"white\",\"ticks\":\"\"},\"caxis\":{\"gridcolor\":\"white\",\"linecolor\":\"white\",\"ticks\":\"\"}},\"coloraxis\":{\"colorbar\":{\"outlinewidth\":0,\"ticks\":\"\"}},\"colorscale\":{\"sequential\":[[0.0,\"#0d0887\"],[0.1111111111111111,\"#46039f\"],[0.2222222222222222,\"#7201a8\"],[0.3333333333333333,\"#9c179e\"],[0.4444444444444444,\"#bd3786\"],[0.5555555555555556,\"#d8576b\"],[0.6666666666666666,\"#ed7953\"],[0.7777777777777778,\"#fb9f3a\"],[0.8888888888888888,\"#fdca26\"],[1.0,\"#f0f921\"]],\"sequentialminus\":[[0.0,\"#0d0887\"],[0.1111111111111111,\"#46039f\"],[0.2222222222222222,\"#7201a8\"],[0.3333333333333333,\"#9c179e\"],[0.4444444444444444,\"#bd3786\"],[0.5555555555555556,\"#d8576b\"],[0.6666666666666666,\"#ed7953\"],[0.7777777777777778,\"#fb9f3a\"],[0.8888888888888888,\"#fdca26\"],[1.0,\"#f0f921\"]],\"diverging\":[[0,\"#8e0152\"],[0.1,\"#c51b7d\"],[0.2,\"#de77ae\"],[0.3,\"#f1b6da\"],[0.4,\"#fde0ef\"],[0.5,\"#f7f7f7\"],[0.6,\"#e6f5d0\"],[0.7,\"#b8e186\"],[0.8,\"#7fbc41\"],[0.9,\"#4d9221\"],[1,\"#276419\"]]},\"xaxis\":{\"gridcolor\":\"white\",\"linecolor\":\"white\",\"ticks\":\"\",\"title\":{\"standoff\":15},\"zerolinecolor\":\"white\",\"automargin\":true,\"zerolinewidth\":2},\"yaxis\":{\"gridcolor\":\"white\",\"linecolor\":\"white\",\"ticks\":\"\",\"title\":{\"standoff\":15},\"zerolinecolor\":\"white\",\"automargin\":true,\"zerolinewidth\":2},\"scene\":{\"xaxis\":{\"backgroundcolor\":\"#E5ECF6\",\"gridcolor\":\"white\",\"linecolor\":\"white\",\"showbackground\":true,\"ticks\":\"\",\"zerolinecolor\":\"white\",\"gridwidth\":2},\"yaxis\":{\"backgroundcolor\":\"#E5ECF6\",\"gridcolor\":\"white\",\"linecolor\":\"white\",\"showbackground\":true,\"ticks\":\"\",\"zerolinecolor\":\"white\",\"gridwidth\":2},\"zaxis\":{\"backgroundcolor\":\"#E5ECF6\",\"gridcolor\":\"white\",\"linecolor\":\"white\",\"showbackground\":true,\"ticks\":\"\",\"zerolinecolor\":\"white\",\"gridwidth\":2}},\"shapedefaults\":{\"line\":{\"color\":\"#2a3f5f\"}},\"annotationdefaults\":{\"arrowcolor\":\"#2a3f5f\",\"arrowhead\":0,\"arrowwidth\":1},\"geo\":{\"bgcolor\":\"white\",\"landcolor\":\"#E5ECF6\",\"subunitcolor\":\"white\",\"showland\":true,\"showlakes\":true,\"lakecolor\":\"white\"},\"title\":{\"x\":0.05},\"mapbox\":{\"style\":\"light\"}}},\"xaxis\":{\"anchor\":\"y\",\"domain\":[0.0,1.0],\"title\":{\"text\":\"x\"},\"tickmode\":\"array\",\"tickvals\":[\"[0, 1, 2, 3, 4, 5, 6, 7, 8, 9, 10, 11, 12, 13, 14, 15, 16, 17, 18, 19, 20, 21, 22, 23, 24, 25, 26, 27, 28, 29, 30, 31, 32, 33, 34, 35, 36, 37, 38, 39, 40, 41, 42, 43, 44, 45, 46, 47]\",\"[0, 1, 2, 3, 4, 5, 6, 7, 8, 9, 10, 11, 12, 13, 14, 15, 16, 17, 18, 19, 20, 21, 22, 23, 24, 25, 26, 27, 28, 29, 30, 31, 32, 33, 34, 35, 36, 37, 39, 40, 41, 42, 43, 44, 45, 46, 47]\",\"[0, 1, 2, 3, 4, 5, 6, 7, 8, 9, 10, 11, 12, 13, 14, 15, 16, 17, 18, 19, 20, 21, 22, 23, 24, 25, 26, 27, 28, 29, 30, 31, 32, 33, 34, 35, 36, 37, 39, 40, 41, 42, 43, 44, 45, 47]\",\"[0, 1, 2, 3, 4, 5, 6, 7, 8, 9, 10, 12, 13, 14, 15, 16, 17, 18, 19, 20, 21, 22, 23, 24, 25, 26, 27, 28, 29, 30, 31, 32, 33, 34, 35, 36, 37, 39, 40, 41, 42, 43, 44, 45, 47]\",\"[0, 2, 3, 4, 5, 6, 7, 8, 9, 10, 12, 13, 14, 15, 16, 17, 18, 19, 20, 21, 22, 23, 24, 25, 26, 27, 28, 29, 30, 31, 32, 33, 34, 35, 36, 37, 39, 40, 41, 42, 43, 44, 45, 47]\",\"[0, 3, 4, 5, 6, 7, 8, 9, 10, 12, 13, 14, 15, 16, 17, 18, 19, 20, 21, 22, 23, 24, 25, 26, 27, 28, 29, 30, 31, 32, 33, 34, 35, 36, 37, 39, 40, 41, 42, 43, 44, 45, 47]\",\"[0, 4, 5, 6, 7, 8, 9, 10, 12, 13, 14, 15, 16, 17, 18, 19, 20, 21, 22, 23, 24, 25, 26, 27, 28, 29, 30, 31, 32, 33, 34, 35, 36, 37, 39, 40, 41, 42, 43, 44, 45, 47]\",\"[0, 4, 6, 7, 8, 9, 10, 12, 13, 14, 15, 16, 17, 18, 19, 20, 21, 22, 23, 24, 25, 26, 27, 28, 29, 30, 31, 32, 33, 34, 35, 36, 37, 39, 40, 41, 42, 43, 44, 45, 47]\",\"[0, 6, 7, 8, 9, 10, 12, 13, 14, 15, 16, 17, 18, 19, 20, 21, 22, 23, 24, 25, 26, 27, 28, 29, 30, 31, 32, 33, 34, 35, 36, 37, 39, 40, 41, 42, 43, 44, 45, 47]\",\"[0, 6, 7, 8, 9, 10, 13, 14, 15, 16, 17, 18, 19, 20, 21, 22, 23, 24, 25, 26, 27, 28, 29, 30, 31, 32, 33, 34, 35, 36, 37, 39, 40, 41, 42, 43, 44, 45, 47]\",\"[0, 6, 7, 8, 9, 10, 13, 15, 16, 17, 18, 19, 20, 21, 22, 23, 24, 25, 26, 27, 28, 29, 30, 31, 32, 33, 34, 35, 36, 37, 39, 40, 41, 42, 43, 44, 45, 47]\",\"[0, 6, 7, 8, 9, 10, 13, 15, 16, 17, 18, 19, 21, 22, 23, 24, 25, 26, 27, 28, 29, 30, 31, 32, 33, 34, 35, 36, 37, 39, 40, 41, 42, 43, 44, 45, 47]\",\"[0, 6, 7, 8, 9, 10, 15, 16, 17, 18, 19, 21, 22, 23, 24, 25, 26, 27, 28, 29, 30, 31, 32, 33, 34, 35, 36, 37, 39, 40, 41, 42, 43, 44, 45, 47]\",\"[0, 6, 7, 8, 9, 10, 15, 16, 17, 18, 19, 21, 22, 23, 24, 25, 26, 27, 28, 29, 30, 31, 32, 33, 34, 36, 37, 39, 40, 41, 42, 43, 44, 45, 47]\",\"[0, 6, 7, 8, 10, 15, 16, 17, 18, 19, 21, 22, 23, 24, 25, 26, 27, 28, 29, 30, 31, 32, 33, 34, 36, 37, 39, 40, 41, 42, 43, 44, 45, 47]\",\"[0, 6, 7, 8, 10, 15, 16, 17, 18, 19, 21, 23, 24, 25, 26, 27, 28, 29, 30, 31, 32, 33, 34, 36, 37, 39, 40, 41, 42, 43, 44, 45, 47]\",\"[0, 6, 7, 8, 10, 15, 16, 17, 18, 19, 21, 23, 24, 25, 26, 27, 28, 29, 30, 31, 32, 33, 34, 36, 37, 39, 40, 41, 42, 44, 45, 47]\",\"[0, 6, 7, 8, 10, 15, 16, 17, 18, 19, 21, 23, 24, 25, 26, 27, 29, 30, 31, 32, 33, 34, 36, 37, 39, 40, 41, 42, 44, 45, 47]\",\"[0, 6, 7, 8, 10, 15, 16, 17, 18, 19, 21, 23, 24, 25, 26, 27, 29, 30, 31, 32, 33, 34, 36, 37, 39, 40, 42, 44, 45, 47]\",\"[0, 6, 7, 8, 10, 15, 16, 17, 18, 19, 21, 23, 24, 25, 26, 29, 30, 31, 32, 33, 34, 36, 37, 39, 40, 42, 44, 45, 47]\",\"[0, 6, 7, 8, 10, 15, 16, 17, 18, 19, 21, 23, 24, 25, 26, 29, 30, 31, 32, 33, 34, 37, 39, 40, 42, 44, 45, 47]\",\"[0, 6, 7, 8, 10, 15, 16, 17, 18, 19, 21, 23, 24, 25, 26, 29, 30, 31, 32, 33, 34, 39, 40, 42, 44, 45, 47]\",\"[0, 6, 7, 8, 10, 15, 16, 17, 18, 19, 21, 24, 25, 26, 29, 30, 31, 32, 33, 34, 39, 40, 42, 44, 45, 47]\",\"[0, 7, 8, 10, 15, 16, 17, 18, 19, 21, 24, 25, 26, 29, 30, 31, 32, 33, 34, 39, 40, 42, 44, 45, 47]\",\"[0, 7, 8, 10, 15, 16, 17, 19, 21, 24, 25, 26, 29, 30, 31, 32, 33, 34, 39, 40, 42, 44, 45, 47]\",\"[0, 7, 8, 10, 15, 16, 17, 19, 21, 24, 25, 26, 29, 30, 31, 32, 34, 39, 40, 42, 44, 45, 47]\",\"[0, 7, 8, 10, 15, 16, 17, 19, 21, 25, 26, 29, 30, 31, 32, 34, 39, 40, 42, 44, 45, 47]\",\"[0, 7, 8, 10, 15, 16, 17, 19, 21, 25, 26, 29, 30, 31, 32, 34, 39, 42, 44, 45, 47]\",\"[0, 7, 8, 10, 15, 16, 17, 19, 21, 25, 26, 29, 30, 32, 34, 39, 42, 44, 45, 47]\",\"[0, 7, 8, 10, 15, 16, 19, 21, 25, 26, 29, 30, 32, 34, 39, 42, 44, 45, 47]\",\"[0, 7, 8, 10, 15, 16, 19, 21, 25, 26, 29, 30, 32, 39, 42, 44, 45, 47]\",\"[0, 8, 10, 15, 16, 19, 21, 25, 26, 29, 30, 32, 39, 42, 44, 45, 47]\",\"[0, 10, 15, 16, 19, 21, 25, 26, 29, 30, 32, 39, 42, 44, 45, 47]\",\"[0, 10, 15, 16, 19, 21, 25, 26, 30, 32, 39, 42, 44, 45, 47]\",\"[0, 10, 15, 16, 19, 21, 26, 30, 32, 39, 42, 44, 45, 47]\",\"[0, 10, 15, 16, 19, 21, 26, 30, 32, 39, 42, 44, 45]\",\"[0, 10, 15, 16, 19, 21, 26, 30, 32, 39, 42, 44]\",\"[0, 10, 15, 16, 19, 21, 26, 30, 32, 39, 42]\",\"[0, 10, 15, 16, 19, 21, 26, 30, 32, 39]\",\"[0, 10, 15, 16, 19, 21, 30, 32, 39]\",\"[0, 10, 15, 16, 19, 21, 32, 39]\",\"[0, 10, 15, 16, 21, 32, 39]\",\"[0, 15, 16, 21, 32, 39]\",\"[0, 15, 21, 32, 39]\",\"[0, 21, 32, 39]\",\"[0, 32, 39]\",\"[0, 32]\",\"[0]\"],\"ticktext\":[\"[0, 1, 2, 3, 4, 5, 6, 7, 8, 9, 10, 11, 12, 13, 14, 15, 16, 17, 18, 19, 20, 21, 22, 23, 24, 25, 26, 27, 28, 29, 30, 31, 32, 33, 34, 35, 36, 37, 38, 39, 40, 41, 42, 43, 44, 45, 46, 47]\",\"[0, 1, 2, 3, 4, 5, 6, 7, 8, 9, 10, 11, 12, 13, 14, 15, 16, 17, 18, 19, 20, 21, 22, 23, 24, 25, 26, 27, 28, 29, 30, 31, 32, 33, 34, 35, 36, 37, 39, 40, 41, 42, 43, 44, 45, 46, 47]\",\"[0, 1, 2, 3, 4, 5, 6, 7, 8, 9, 10, 11, 12, 13, 14, 15, 16, 17, 18, 19, 20, 21, 22, 23, 24, 25, 26, 27, 28, 29, 30, 31, 32, 33, 34, 35, 36, 37, 39, 40, 41, 42, 43, 44, 45, 47]\",\"[0, 1, 2, 3, 4, 5, 6, 7, 8, 9, 10, 12, 13, 14, 15, 16, 17, 18, 19, 20, 21, 22, 23, 24, 25, 26, 27, 28, 29, 30, 31, 32, 33, 34, 35, 36, 37, 39, 40, 41, 42, 43, 44, 45, 47]\",\"[0, 2, 3, 4, 5, 6, 7, 8, 9, 10, 12, 13, 14, 15, 16, 17, 18, 19, 20, 21, 22, 23, 24, 25, 26, 27, 28, 29, 30, 31, 32, 33, 34, 35, 36, 37, 39, 40, 41, 42, 43, 44, 45, 47]\",\"[0, 3, 4, 5, 6, 7, 8, 9, 10, 12, 13, 14, 15, 16, 17, 18, 19, 20, 21, 22, 23, 24, 25, 26, 27, 28, 29, 30, 31, 32, 33, 34, 35, 36, 37, 39, 40, 41, 42, 43, 44, 45, 47]\",\"[0, 4, 5, 6, 7, 8, 9, 10, 12, 13, 14, 15, 16, 17, 18, 19, 20, 21, 22, 23, 24, 25, 26, 27, 28, 29, 30, 31, 32, 33, 34, 35, 36, 37, 39, 40, 41, 42, 43, 44, 45, 47]\",\"[0, 4, 6, 7, 8, 9, 10, 12, 13, 14, 15, 16, 17, 18, 19, 20, 21, 22, 23, 24, 25, 26, 27, 28, 29, 30, 31, 32, 33, 34, 35, 36, 37, 39, 40, 41, 42, 43, 44, 45, 47]\",\"[0, 6, 7, 8, 9, 10, 12, 13, 14, 15, 16, 17, 18, 19, 20, 21, 22, 23, 24, 25, 26, 27, 28, 29, 30, 31, 32, 33, 34, 35, 36, 37, 39, 40, 41, 42, 43, 44, 45, 47]\",\"[0, 6, 7, 8, 9, 10, 13, 14, 15, 16, 17, 18, 19, 20, 21, 22, 23, 24, 25, 26, 27, 28, 29, 30, 31, 32, 33, 34, 35, 36, 37, 39, 40, 41, 42, 43, 44, 45, 47]\",\"[0, 6, 7, 8, 9, 10, 13, 15, 16, 17, 18, 19, 20, 21, 22, 23, 24, 25, 26, 27, 28, 29, 30, 31, 32, 33, 34, 35, 36, 37, 39, 40, 41, 42, 43, 44, 45, 47]\",\"[0, 6, 7, 8, 9, 10, 13, 15, 16, 17, 18, 19, 21, 22, 23, 24, 25, 26, 27, 28, 29, 30, 31, 32, 33, 34, 35, 36, 37, 39, 40, 41, 42, 43, 44, 45, 47]\",\"[0, 6, 7, 8, 9, 10, 15, 16, 17, 18, 19, 21, 22, 23, 24, 25, 26, 27, 28, 29, 30, 31, 32, 33, 34, 35, 36, 37, 39, 40, 41, 42, 43, 44, 45, 47]\",\"[0, 6, 7, 8, 9, 10, 15, 16, 17, 18, 19, 21, 22, 23, 24, 25, 26, 27, 28, 29, 30, 31, 32, 33, 34, 36, 37, 39, 40, 41, 42, 43, 44, 45, 47]\",\"[0, 6, 7, 8, 10, 15, 16, 17, 18, 19, 21, 22, 23, 24, 25, 26, 27, 28, 29, 30, 31, 32, 33, 34, 36, 37, 39, 40, 41, 42, 43, 44, 45, 47]\",\"[0, 6, 7, 8, 10, 15, 16, 17, 18, 19, 21, 23, 24, 25, 26, 27, 28, 29, 30, 31, 32, 33, 34, 36, 37, 39, 40, 41, 42, 43, 44, 45, 47]\",\"[0, 6, 7, 8, 10, 15, 16, 17, 18, 19, 21, 23, 24, 25, 26, 27, 28, 29, 30, 31, 32, 33, 34, 36, 37, 39, 40, 41, 42, 44, 45, 47]\",\"[0, 6, 7, 8, 10, 15, 16, 17, 18, 19, 21, 23, 24, 25, 26, 27, 29, 30, 31, 32, 33, 34, 36, 37, 39, 40, 41, 42, 44, 45, 47]\",\"[0, 6, 7, 8, 10, 15, 16, 17, 18, 19, 21, 23, 24, 25, 26, 27, 29, 30, 31, 32, 33, 34, 36, 37, 39, 40, 42, 44, 45, 47]\",\"[0, 6, 7, 8, 10, 15, 16, 17, 18, 19, 21, 23, 24, 25, 26, 29, 30, 31, 32, 33, 34, 36, 37, 39, 40, 42, 44, 45, 47]\",\"[0, 6, 7, 8, 10, 15, 16, 17, 18, 19, 21, 23, 24, 25, 26, 29, 30, 31, 32, 33, 34, 37, 39, 40, 42, 44, 45, 47]\",\"[0, 6, 7, 8, 10, 15, 16, 17, 18, 19, 21, 23, 24, 25, 26, 29, 30, 31, 32, 33, 34, 39, 40, 42, 44, 45, 47]\",\"[0, 6, 7, 8, 10, 15, 16, 17, 18, 19, 21, 24, 25, 26, 29, 30, 31, 32, 33, 34, 39, 40, 42, 44, 45, 47]\",\"[0, 7, 8, 10, 15, 16, 17, 18, 19, 21, 24, 25, 26, 29, 30, 31, 32, 33, 34, 39, 40, 42, 44, 45, 47]\",\"[0, 7, 8, 10, 15, 16, 17, 19, 21, 24, 25, 26, 29, 30, 31, 32, 33, 34, 39, 40, 42, 44, 45, 47]\",\"[0, 7, 8, 10, 15, 16, 17, 19, 21, 24, 25, 26, 29, 30, 31, 32, 34, 39, 40, 42, 44, 45, 47]\",\"[0, 7, 8, 10, 15, 16, 17, 19, 21, 25, 26, 29, 30, 31, 32, 34, 39, 40, 42, 44, 45, 47]\",\"[0, 7, 8, 10, 15, 16, 17, 19, 21, 25, 26, 29, 30, 31, 32, 34, 39, 42, 44, 45, 47]\",\"[0, 7, 8, 10, 15, 16, 17, 19, 21, 25, 26, 29, 30, 32, 34, 39, 42, 44, 45, 47]\",\"[0, 7, 8, 10, 15, 16, 19, 21, 25, 26, 29, 30, 32, 34, 39, 42, 44, 45, 47]\",\"[0, 7, 8, 10, 15, 16, 19, 21, 25, 26, 29, 30, 32, 39, 42, 44, 45, 47]\",\"[0, 8, 10, 15, 16, 19, 21, 25, 26, 29, 30, 32, 39, 42, 44, 45, 47]\",\"[0, 10, 15, 16, 19, 21, 25, 26, 29, 30, 32, 39, 42, 44, 45, 47]\",\"[0, 10, 15, 16, 19, 21, 25, 26, 30, 32, 39, 42, 44, 45, 47]\",\"[0, 10, 15, 16, 19, 21, 26, 30, 32, 39, 42, 44, 45, 47]\",\"[0, 10, 15, 16, 19, 21, 26, 30, 32, 39, 42, 44, 45]\",\"[0, 10, 15, 16, 19, 21, 26, 30, 32, 39, 42, 44]\",\"[0, 10, 15, 16, 19, 21, 26, 30, 32, 39, 42]\",\"[0, 10, 15, 16, 19, 21, 26, 30, 32, 39]\",\"[0, 10, 15, 16, 19, 21, 30, 32, 39]\",\"[0, 10, 15, 16, 19, 21, 32, 39]\",\"[0, 10, 15, 16, 21, 32, 39]\",\"[0, 15, 16, 21, 32, 39]\",\"[0, 15, 21, 32, 39]\",\"[0, 21, 32, 39]\",\"[0, 32, 39]\",\"[0, 32]\",\"[0]\"]},\"yaxis\":{\"anchor\":\"x\",\"domain\":[0.0,1.0],\"title\":{\"text\":\"accuracy\"}},\"legend\":{\"tracegroupgap\":0},\"title\":{\"text\":\"ioi pruning layers accuracy\"},\"barmode\":\"relative\",\"font\":{\"size\":4,\"color\":\"black\"}},                        {\"responsive\": true}                    ).then(function(){\n",
       "                            \n",
       "var gd = document.getElementById('91ff5676-b002-42bc-8ffc-c433f6e9f556');\n",
       "var x = new MutationObserver(function (mutations, observer) {{\n",
       "        var display = window.getComputedStyle(gd).display;\n",
       "        if (!display || display === 'none') {{\n",
       "            console.log([gd, 'removed!']);\n",
       "            Plotly.purge(gd);\n",
       "            observer.disconnect();\n",
       "        }}\n",
       "}});\n",
       "\n",
       "// Listen for the removal of the full notebook cells\n",
       "var notebookContainer = gd.closest('#notebook-container');\n",
       "if (notebookContainer) {{\n",
       "    x.observe(notebookContainer, {childList: true});\n",
       "}}\n",
       "\n",
       "// Listen for the clearing of the current output cell\n",
       "var outputEl = gd.closest('.output');\n",
       "if (outputEl) {{\n",
       "    x.observe(outputEl, {childList: true});\n",
       "}}\n",
       "\n",
       "                        })                };                });            </script>        </div>"
      ]
     },
     "metadata": {},
     "output_type": "display_data"
    }
   ],
   "source": [
    "bar_chart(history_stats[:,0], x_labels=[str(x) for x in history], y_label=f'{relative_str}pr of correct', title=f\"{data_type} pruning layers relative pr correct\", font_size=4)\n",
    "bar_chart(history_stats[:,1], x_labels=[str(x) for x in history], y_label=f'{relative_str}pr of incorrect', title=f\"{data_type} pruning layers relative pr incorrect\", font_size=4)\n",
    "bar_chart(history_stats[:,2], x_labels=[str(x) for x in history], y_label='accuracy', title=f\"{data_type} pruning layers accuracy\", font_size=4)\n",
    "\n",
    "\n",
    "\n",
    "\n",
    "\n"
   ]
  },
  {
   "cell_type": "code",
   "execution_count": null,
   "id": "44f0f5a2-fd5f-42b5-8411-2d171eb5642a",
   "metadata": {},
   "outputs": [],
   "source": []
  }
 ],
 "metadata": {
  "kernelspec": {
   "display_name": "Python 3 (ipykernel)",
   "language": "python",
   "name": "python3"
  },
  "language_info": {
   "codemirror_mode": {
    "name": "ipython",
    "version": 3
   },
   "file_extension": ".py",
   "mimetype": "text/x-python",
   "name": "python",
   "nbconvert_exporter": "python",
   "pygments_lexer": "ipython3",
   "version": "3.10.11"
  }
 },
 "nbformat": 4,
 "nbformat_minor": 5
}
